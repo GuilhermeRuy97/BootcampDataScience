{
  "nbformat": 4,
  "nbformat_minor": 0,
  "metadata": {
    "colab": {
      "name": "resumo_estatistica",
      "provenance": [],
      "mount_file_id": "https://github.com/GuilhermeRuy97/BootcampDataScience/blob/main/resumo_estatistica.ipynb",
      "authorship_tag": "ABX9TyPTpAyJkrwt72cSoBJR0JsR",
      "include_colab_link": true
    },
    "kernelspec": {
      "name": "python3",
      "display_name": "Python 3"
    }
  },
  "cells": [
    {
      "cell_type": "markdown",
      "metadata": {
        "id": "view-in-github",
        "colab_type": "text"
      },
      "source": [
        "<a href=\"https://colab.research.google.com/github/GuilhermeRuy97/BootcampDataScience/blob/main/resumo_estatistica.ipynb\" target=\"_parent\"><img src=\"https://colab.research.google.com/assets/colab-badge.svg\" alt=\"Open In Colab\"/></a>"
      ]
    },
    {
      "cell_type": "markdown",
      "metadata": {
        "id": "6GBdJSkdWJFT"
      },
      "source": [
        "# Média, moda e mediana"
      ]
    },
    {
      "cell_type": "code",
      "metadata": {
        "colab": {
          "base_uri": "https://localhost:8080/",
          "height": 253
        },
        "id": "l0fN5ut5Wg4q",
        "outputId": "194dab44-149d-4bc5-825f-f0266220b1b5"
      },
      "source": [
        "import pandas as pd\r\n",
        "from zipfile import ZipFile\r\n",
        "\r\n",
        "caminho = \"/content/drive/MyDrive/cursos/bootcampDSalura/dados modulo 3/PeNSE_2015_AMOSTRA2.zip\"\r\n",
        "zip = ZipFile(caminho)\r\n",
        "caminho_pasta_zipada = zip.namelist()[1]\r\n",
        "\r\n",
        "dados = pd.read_csv(zip.open(caminho_pasta_zipada), sep = \";\", thousands = \".\", decimal = \",\")\r\n",
        "dados.head()"
      ],
      "execution_count": 11,
      "outputs": [
        {
          "output_type": "execute_result",
          "data": {
            "text/html": [
              "<div>\n",
              "<style scoped>\n",
              "    .dataframe tbody tr th:only-of-type {\n",
              "        vertical-align: middle;\n",
              "    }\n",
              "\n",
              "    .dataframe tbody tr th {\n",
              "        vertical-align: top;\n",
              "    }\n",
              "\n",
              "    .dataframe thead th {\n",
              "        text-align: right;\n",
              "    }\n",
              "</style>\n",
              "<table border=\"1\" class=\"dataframe\">\n",
              "  <thead>\n",
              "    <tr style=\"text-align: right;\">\n",
              "      <th></th>\n",
              "      <th>ANOPESQ</th>\n",
              "      <th>PAIS</th>\n",
              "      <th>REGEOGR</th>\n",
              "      <th>VB00004</th>\n",
              "      <th>VB01001</th>\n",
              "      <th>VB01002</th>\n",
              "      <th>VB01003</th>\n",
              "      <th>VB01004</th>\n",
              "      <th>VB01005</th>\n",
              "      <th>VB01006</th>\n",
              "      <th>VB01007</th>\n",
              "      <th>VB01008A</th>\n",
              "      <th>VB01010A</th>\n",
              "      <th>VB01011</th>\n",
              "      <th>VB01012</th>\n",
              "      <th>VB01013</th>\n",
              "      <th>VB01014</th>\n",
              "      <th>VB01015A</th>\n",
              "      <th>VB01016</th>\n",
              "      <th>VB01017</th>\n",
              "      <th>VB01018</th>\n",
              "      <th>VB01019</th>\n",
              "      <th>VB01020A</th>\n",
              "      <th>VB01021</th>\n",
              "      <th>VB01022</th>\n",
              "      <th>VB01023</th>\n",
              "      <th>VB01024</th>\n",
              "      <th>VB01025</th>\n",
              "      <th>VB01026</th>\n",
              "      <th>VB02001</th>\n",
              "      <th>VB02002</th>\n",
              "      <th>VB02004A</th>\n",
              "      <th>VB02010</th>\n",
              "      <th>VB02011</th>\n",
              "      <th>VB02013</th>\n",
              "      <th>VB02017A</th>\n",
              "      <th>VB02018A</th>\n",
              "      <th>VB02019A</th>\n",
              "      <th>VB02020A</th>\n",
              "      <th>VB02021</th>\n",
              "      <th>...</th>\n",
              "      <th>VB11005</th>\n",
              "      <th>VB11006</th>\n",
              "      <th>VB11007</th>\n",
              "      <th>VB12001</th>\n",
              "      <th>VB12002</th>\n",
              "      <th>VB12003</th>\n",
              "      <th>VB13001</th>\n",
              "      <th>VB13002A</th>\n",
              "      <th>VB13004A</th>\n",
              "      <th>VB13005</th>\n",
              "      <th>VB13006</th>\n",
              "      <th>VB13007</th>\n",
              "      <th>VB13008</th>\n",
              "      <th>VB13009</th>\n",
              "      <th>VB14001</th>\n",
              "      <th>VB14002</th>\n",
              "      <th>VB16001A01</th>\n",
              "      <th>VB16001A02</th>\n",
              "      <th>VB16001A03</th>\n",
              "      <th>VB16001A04</th>\n",
              "      <th>VB16001A05</th>\n",
              "      <th>VB16001A06</th>\n",
              "      <th>VB16001A07</th>\n",
              "      <th>VB16001A08</th>\n",
              "      <th>VB17001</th>\n",
              "      <th>VB17002</th>\n",
              "      <th>VB17003</th>\n",
              "      <th>VB17004</th>\n",
              "      <th>VB17005</th>\n",
              "      <th>VB17006</th>\n",
              "      <th>ESTRATO_EXP</th>\n",
              "      <th>ESTRATOGEOREG</th>\n",
              "      <th>PESO</th>\n",
              "      <th>V0006</th>\n",
              "      <th>V0007</th>\n",
              "      <th>V0008</th>\n",
              "      <th>V0041</th>\n",
              "      <th>aluno</th>\n",
              "      <th>escola</th>\n",
              "      <th>turma</th>\n",
              "    </tr>\n",
              "  </thead>\n",
              "  <tbody>\n",
              "    <tr>\n",
              "      <th>0</th>\n",
              "      <td>2015</td>\n",
              "      <td>76</td>\n",
              "      <td>1</td>\n",
              "      <td>1</td>\n",
              "      <td>2</td>\n",
              "      <td>1</td>\n",
              "      <td>13</td>\n",
              "      <td>7</td>\n",
              "      <td>7</td>\n",
              "      <td>1</td>\n",
              "      <td>2</td>\n",
              "      <td>7</td>\n",
              "      <td>3</td>\n",
              "      <td>2</td>\n",
              "      <td>-1</td>\n",
              "      <td>1</td>\n",
              "      <td>1</td>\n",
              "      <td>1</td>\n",
              "      <td>1</td>\n",
              "      <td>1</td>\n",
              "      <td>2</td>\n",
              "      <td>4</td>\n",
              "      <td>2</td>\n",
              "      <td>4</td>\n",
              "      <td>1</td>\n",
              "      <td>2</td>\n",
              "      <td>2</td>\n",
              "      <td>5</td>\n",
              "      <td>1</td>\n",
              "      <td>8</td>\n",
              "      <td>3</td>\n",
              "      <td>4</td>\n",
              "      <td>3</td>\n",
              "      <td>6</td>\n",
              "      <td>6</td>\n",
              "      <td>1</td>\n",
              "      <td>6</td>\n",
              "      <td>1</td>\n",
              "      <td>-1</td>\n",
              "      <td>2</td>\n",
              "      <td>...</td>\n",
              "      <td>2</td>\n",
              "      <td>1</td>\n",
              "      <td>2</td>\n",
              "      <td>1</td>\n",
              "      <td>1</td>\n",
              "      <td>4</td>\n",
              "      <td>2</td>\n",
              "      <td>-1</td>\n",
              "      <td>3</td>\n",
              "      <td>1</td>\n",
              "      <td>1</td>\n",
              "      <td>-1</td>\n",
              "      <td>1</td>\n",
              "      <td>1</td>\n",
              "      <td>2</td>\n",
              "      <td>2</td>\n",
              "      <td>1</td>\n",
              "      <td>2</td>\n",
              "      <td>2</td>\n",
              "      <td>2</td>\n",
              "      <td>2</td>\n",
              "      <td>2</td>\n",
              "      <td>2</td>\n",
              "      <td>2</td>\n",
              "      <td>371.0</td>\n",
              "      <td>1570.0</td>\n",
              "      <td>37.1</td>\n",
              "      <td>157.0</td>\n",
              "      <td>2</td>\n",
              "      <td>1</td>\n",
              "      <td>1223</td>\n",
              "      <td>1</td>\n",
              "      <td>299.735235</td>\n",
              "      <td>1</td>\n",
              "      <td>2</td>\n",
              "      <td>4</td>\n",
              "      <td>1</td>\n",
              "      <td>1</td>\n",
              "      <td>1</td>\n",
              "      <td>296</td>\n",
              "    </tr>\n",
              "    <tr>\n",
              "      <th>1</th>\n",
              "      <td>2015</td>\n",
              "      <td>76</td>\n",
              "      <td>1</td>\n",
              "      <td>1</td>\n",
              "      <td>2</td>\n",
              "      <td>1</td>\n",
              "      <td>14</td>\n",
              "      <td>4</td>\n",
              "      <td>7</td>\n",
              "      <td>1</td>\n",
              "      <td>1</td>\n",
              "      <td>7</td>\n",
              "      <td>3</td>\n",
              "      <td>2</td>\n",
              "      <td>-1</td>\n",
              "      <td>1</td>\n",
              "      <td>1</td>\n",
              "      <td>1</td>\n",
              "      <td>1</td>\n",
              "      <td>1</td>\n",
              "      <td>2</td>\n",
              "      <td>2</td>\n",
              "      <td>2</td>\n",
              "      <td>4</td>\n",
              "      <td>1</td>\n",
              "      <td>2</td>\n",
              "      <td>2</td>\n",
              "      <td>5</td>\n",
              "      <td>3</td>\n",
              "      <td>8</td>\n",
              "      <td>2</td>\n",
              "      <td>1</td>\n",
              "      <td>8</td>\n",
              "      <td>8</td>\n",
              "      <td>6</td>\n",
              "      <td>1</td>\n",
              "      <td>1</td>\n",
              "      <td>5</td>\n",
              "      <td>-1</td>\n",
              "      <td>2</td>\n",
              "      <td>...</td>\n",
              "      <td>2</td>\n",
              "      <td>3</td>\n",
              "      <td>2</td>\n",
              "      <td>4</td>\n",
              "      <td>4</td>\n",
              "      <td>4</td>\n",
              "      <td>1</td>\n",
              "      <td>2</td>\n",
              "      <td>3</td>\n",
              "      <td>3</td>\n",
              "      <td>1</td>\n",
              "      <td>-1</td>\n",
              "      <td>1</td>\n",
              "      <td>1</td>\n",
              "      <td>2</td>\n",
              "      <td>2</td>\n",
              "      <td>2</td>\n",
              "      <td>2</td>\n",
              "      <td>2</td>\n",
              "      <td>1</td>\n",
              "      <td>2</td>\n",
              "      <td>2</td>\n",
              "      <td>2</td>\n",
              "      <td>2</td>\n",
              "      <td>502.0</td>\n",
              "      <td>1520.0</td>\n",
              "      <td>50.2</td>\n",
              "      <td>152.0</td>\n",
              "      <td>2</td>\n",
              "      <td>2</td>\n",
              "      <td>1223</td>\n",
              "      <td>1</td>\n",
              "      <td>355.170081</td>\n",
              "      <td>1</td>\n",
              "      <td>2</td>\n",
              "      <td>4</td>\n",
              "      <td>1</td>\n",
              "      <td>2</td>\n",
              "      <td>1</td>\n",
              "      <td>296</td>\n",
              "    </tr>\n",
              "    <tr>\n",
              "      <th>2</th>\n",
              "      <td>2015</td>\n",
              "      <td>76</td>\n",
              "      <td>1</td>\n",
              "      <td>1</td>\n",
              "      <td>1</td>\n",
              "      <td>4</td>\n",
              "      <td>13</td>\n",
              "      <td>6</td>\n",
              "      <td>7</td>\n",
              "      <td>1</td>\n",
              "      <td>1</td>\n",
              "      <td>5</td>\n",
              "      <td>5</td>\n",
              "      <td>2</td>\n",
              "      <td>-1</td>\n",
              "      <td>2</td>\n",
              "      <td>1</td>\n",
              "      <td>1</td>\n",
              "      <td>1</td>\n",
              "      <td>1</td>\n",
              "      <td>2</td>\n",
              "      <td>3</td>\n",
              "      <td>1</td>\n",
              "      <td>4</td>\n",
              "      <td>1</td>\n",
              "      <td>2</td>\n",
              "      <td>2</td>\n",
              "      <td>5</td>\n",
              "      <td>3</td>\n",
              "      <td>2</td>\n",
              "      <td>3</td>\n",
              "      <td>1</td>\n",
              "      <td>8</td>\n",
              "      <td>2</td>\n",
              "      <td>8</td>\n",
              "      <td>1</td>\n",
              "      <td>1</td>\n",
              "      <td>5</td>\n",
              "      <td>5</td>\n",
              "      <td>1</td>\n",
              "      <td>...</td>\n",
              "      <td>2</td>\n",
              "      <td>1</td>\n",
              "      <td>2</td>\n",
              "      <td>1</td>\n",
              "      <td>2</td>\n",
              "      <td>3</td>\n",
              "      <td>1</td>\n",
              "      <td>2</td>\n",
              "      <td>1</td>\n",
              "      <td>2</td>\n",
              "      <td>5</td>\n",
              "      <td>99</td>\n",
              "      <td>1</td>\n",
              "      <td>-1</td>\n",
              "      <td>2</td>\n",
              "      <td>2</td>\n",
              "      <td>1</td>\n",
              "      <td>1</td>\n",
              "      <td>1</td>\n",
              "      <td>1</td>\n",
              "      <td>1</td>\n",
              "      <td>1</td>\n",
              "      <td>1</td>\n",
              "      <td>1</td>\n",
              "      <td>482.0</td>\n",
              "      <td>1614.0</td>\n",
              "      <td>48.2</td>\n",
              "      <td>161.4</td>\n",
              "      <td>2</td>\n",
              "      <td>2</td>\n",
              "      <td>1223</td>\n",
              "      <td>1</td>\n",
              "      <td>299.735235</td>\n",
              "      <td>1</td>\n",
              "      <td>2</td>\n",
              "      <td>4</td>\n",
              "      <td>1</td>\n",
              "      <td>3</td>\n",
              "      <td>1</td>\n",
              "      <td>296</td>\n",
              "    </tr>\n",
              "    <tr>\n",
              "      <th>3</th>\n",
              "      <td>2015</td>\n",
              "      <td>76</td>\n",
              "      <td>1</td>\n",
              "      <td>1</td>\n",
              "      <td>1</td>\n",
              "      <td>1</td>\n",
              "      <td>14</td>\n",
              "      <td>6</td>\n",
              "      <td>7</td>\n",
              "      <td>1</td>\n",
              "      <td>1</td>\n",
              "      <td>7</td>\n",
              "      <td>4</td>\n",
              "      <td>2</td>\n",
              "      <td>-1</td>\n",
              "      <td>1</td>\n",
              "      <td>1</td>\n",
              "      <td>1</td>\n",
              "      <td>1</td>\n",
              "      <td>1</td>\n",
              "      <td>2</td>\n",
              "      <td>4</td>\n",
              "      <td>2</td>\n",
              "      <td>4</td>\n",
              "      <td>1</td>\n",
              "      <td>2</td>\n",
              "      <td>2</td>\n",
              "      <td>6</td>\n",
              "      <td>3</td>\n",
              "      <td>2</td>\n",
              "      <td>4</td>\n",
              "      <td>1</td>\n",
              "      <td>3</td>\n",
              "      <td>2</td>\n",
              "      <td>7</td>\n",
              "      <td>1</td>\n",
              "      <td>5</td>\n",
              "      <td>1</td>\n",
              "      <td>-1</td>\n",
              "      <td>2</td>\n",
              "      <td>...</td>\n",
              "      <td>2</td>\n",
              "      <td>1</td>\n",
              "      <td>2</td>\n",
              "      <td>2</td>\n",
              "      <td>2</td>\n",
              "      <td>4</td>\n",
              "      <td>1</td>\n",
              "      <td>10</td>\n",
              "      <td>3</td>\n",
              "      <td>1</td>\n",
              "      <td>2</td>\n",
              "      <td>-1</td>\n",
              "      <td>1</td>\n",
              "      <td>-1</td>\n",
              "      <td>2</td>\n",
              "      <td>2</td>\n",
              "      <td>1</td>\n",
              "      <td>2</td>\n",
              "      <td>2</td>\n",
              "      <td>2</td>\n",
              "      <td>1</td>\n",
              "      <td>2</td>\n",
              "      <td>2</td>\n",
              "      <td>2</td>\n",
              "      <td>694.0</td>\n",
              "      <td>1725.0</td>\n",
              "      <td>69.4</td>\n",
              "      <td>172.5</td>\n",
              "      <td>2</td>\n",
              "      <td>3</td>\n",
              "      <td>1223</td>\n",
              "      <td>1</td>\n",
              "      <td>355.170081</td>\n",
              "      <td>1</td>\n",
              "      <td>2</td>\n",
              "      <td>4</td>\n",
              "      <td>1</td>\n",
              "      <td>4</td>\n",
              "      <td>1</td>\n",
              "      <td>296</td>\n",
              "    </tr>\n",
              "    <tr>\n",
              "      <th>4</th>\n",
              "      <td>2015</td>\n",
              "      <td>76</td>\n",
              "      <td>1</td>\n",
              "      <td>1</td>\n",
              "      <td>1</td>\n",
              "      <td>1</td>\n",
              "      <td>13</td>\n",
              "      <td>9</td>\n",
              "      <td>7</td>\n",
              "      <td>1</td>\n",
              "      <td>2</td>\n",
              "      <td>5</td>\n",
              "      <td>4</td>\n",
              "      <td>2</td>\n",
              "      <td>-1</td>\n",
              "      <td>2</td>\n",
              "      <td>1</td>\n",
              "      <td>1</td>\n",
              "      <td>1</td>\n",
              "      <td>1</td>\n",
              "      <td>2</td>\n",
              "      <td>5</td>\n",
              "      <td>1</td>\n",
              "      <td>4</td>\n",
              "      <td>1</td>\n",
              "      <td>2</td>\n",
              "      <td>2</td>\n",
              "      <td>6</td>\n",
              "      <td>5</td>\n",
              "      <td>6</td>\n",
              "      <td>3</td>\n",
              "      <td>5</td>\n",
              "      <td>2</td>\n",
              "      <td>6</td>\n",
              "      <td>2</td>\n",
              "      <td>1</td>\n",
              "      <td>5</td>\n",
              "      <td>1</td>\n",
              "      <td>5</td>\n",
              "      <td>1</td>\n",
              "      <td>...</td>\n",
              "      <td>2</td>\n",
              "      <td>1</td>\n",
              "      <td>4</td>\n",
              "      <td>2</td>\n",
              "      <td>2</td>\n",
              "      <td>4</td>\n",
              "      <td>1</td>\n",
              "      <td>3</td>\n",
              "      <td>2</td>\n",
              "      <td>2</td>\n",
              "      <td>2</td>\n",
              "      <td>13</td>\n",
              "      <td>1</td>\n",
              "      <td>-1</td>\n",
              "      <td>1</td>\n",
              "      <td>2</td>\n",
              "      <td>1</td>\n",
              "      <td>1</td>\n",
              "      <td>1</td>\n",
              "      <td>1</td>\n",
              "      <td>1</td>\n",
              "      <td>1</td>\n",
              "      <td>1</td>\n",
              "      <td>1</td>\n",
              "      <td>789.0</td>\n",
              "      <td>1675.0</td>\n",
              "      <td>78.9</td>\n",
              "      <td>167.5</td>\n",
              "      <td>2</td>\n",
              "      <td>4</td>\n",
              "      <td>1223</td>\n",
              "      <td>1</td>\n",
              "      <td>299.735235</td>\n",
              "      <td>1</td>\n",
              "      <td>2</td>\n",
              "      <td>4</td>\n",
              "      <td>1</td>\n",
              "      <td>5</td>\n",
              "      <td>1</td>\n",
              "      <td>296</td>\n",
              "    </tr>\n",
              "  </tbody>\n",
              "</table>\n",
              "<p>5 rows × 181 columns</p>\n",
              "</div>"
            ],
            "text/plain": [
              "   ANOPESQ  PAIS  REGEOGR  VB00004  VB01001  ...  V0008  V0041  aluno  escola  turma\n",
              "0     2015    76        1        1        2  ...      4      1      1       1    296\n",
              "1     2015    76        1        1        2  ...      4      1      2       1    296\n",
              "2     2015    76        1        1        1  ...      4      1      3       1    296\n",
              "3     2015    76        1        1        1  ...      4      1      4       1    296\n",
              "4     2015    76        1        1        1  ...      4      1      5       1    296\n",
              "\n",
              "[5 rows x 181 columns]"
            ]
          },
          "metadata": {
            "tags": []
          },
          "execution_count": 11
        }
      ]
    },
    {
      "cell_type": "code",
      "metadata": {
        "colab": {
          "base_uri": "https://localhost:8080/"
        },
        "id": "Y28qa43wXOXe",
        "outputId": "59c74604-a92c-44b4-879f-62117c55fb93"
      },
      "source": [
        "dados[\"IMC\"] = dados[\"VB17003\"] / ((dados[\"VB17004\"]/100)**2)\r\n",
        "dados[\"IMC\"]"
      ],
      "execution_count": 12,
      "outputs": [
        {
          "output_type": "execute_result",
          "data": {
            "text/plain": [
              "0        15.051321\n",
              "1        21.727839\n",
              "2        18.502907\n",
              "3        23.322831\n",
              "4        28.122076\n",
              "           ...    \n",
              "16551    20.113223\n",
              "16552    17.930782\n",
              "16553    23.968489\n",
              "16554    18.995343\n",
              "16555    23.303246\n",
              "Name: IMC, Length: 16556, dtype: float64"
            ]
          },
          "metadata": {
            "tags": []
          },
          "execution_count": 12
        }
      ]
    },
    {
      "cell_type": "markdown",
      "metadata": {
        "id": "HRmYXOz5X0s-"
      },
      "source": [
        "## <font color=green>1 Média aritmética</font>\r\n",
        "***\r\n",
        "\r\n",
        "É representada por $\\mu$ quando se refere à população e por $\\bar{X}$ quando se refere à amostra\r\n",
        "\r\n",
        "# $$\\mu = \\frac 1n\\sum_{i=1}^{n}X_i$$\r\n",
        "\r\n",
        "onde \r\n",
        "\r\n",
        "$n$ = número de observações (registros)\r\n",
        "\r\n",
        "$X_i$ = valor da i-ésima observação (registro)\r\n",
        "\r\n",
        "ou seja, soma dos valores dividida pelo número de elementos"
      ]
    },
    {
      "cell_type": "code",
      "metadata": {
        "colab": {
          "base_uri": "https://localhost:8080/"
        },
        "id": "cNqJ1od5YU-G",
        "outputId": "93a8c624-2a5b-45a5-cec1-69e4e569ad24"
      },
      "source": [
        "#Fazendo a média\r\n",
        "\r\n",
        "media = dados[\"IMC\"].mean()\r\n",
        "print(media)"
      ],
      "execution_count": 13,
      "outputs": [
        {
          "output_type": "stream",
          "text": [
            "20.95825220663186\n"
          ],
          "name": "stdout"
        }
      ]
    },
    {
      "cell_type": "markdown",
      "metadata": {
        "id": "RMSxQXUuYwBO"
      },
      "source": [
        "## <font color=green>2 Mediana</font>\r\n",
        "***\r\n",
        "\r\n",
        "Para obtermos a mediana de uma conjunto de dados devemos proceder da seguinte maneira:\r\n",
        "1. Ordenar o conjunto de dados;\r\n",
        "2. Identificar o número de observações (registros) do conjunto de dados ($n$);\r\n",
        "3. Identicar o elemento mediano:\r\n",
        "\r\n",
        "> Quando $n$ for ímpar, a posição do elemento mediano será obtida da seguinte forma:\r\n",
        "\r\n",
        "\r\n",
        "# $$Elemento_{Md} = \\frac{n+1}2$$\r\n",
        "\r\n",
        "> Quando $n$ for par, a posição do elemento mediano será obtida da seguinte forma:\r\n",
        "\r\n",
        "\r\n",
        "# $$Elemento_{Md} = \\frac{n}2$$\r\n",
        "\r\n",
        "4. Obter a mediana:\r\n",
        "\r\n",
        "> Quando $n$ for ímpar:\r\n",
        "\r\n",
        "\r\n",
        "# $$Md = X_{Elemento_{Md}}$$\r\n",
        "\r\n",
        "> Quando $n$ for par:\r\n",
        "\r\n",
        "\r\n",
        "# $$Md = \\frac{X_{Elemento_{Md}} + X_{Elemento_{Md}+1}}2$$\r\n",
        "***"
      ]
    },
    {
      "cell_type": "markdown",
      "metadata": {
        "id": "F7Imbwr7ZYhx"
      },
      "source": [
        "### Exemplo 1 - n ímpar\r\n",
        "\r\n",
        "<img src='https://caelum-online-public.s3.amazonaws.com/1177-estatistica-parte1/01/img002.png' width='40%' style=\"float:left\">"
      ]
    },
    {
      "cell_type": "markdown",
      "metadata": {
        "id": "eO7WDIfTZbNK"
      },
      "source": [
        "### Exemplo 2 - n par\r\n",
        "\r\n",
        "<img src='https://caelum-online-public.s3.amazonaws.com/1177-estatistica-parte1/01/img003.png' width='50%' style=\"float:left\">"
      ]
    },
    {
      "cell_type": "code",
      "metadata": {
        "colab": {
          "base_uri": "https://localhost:8080/"
        },
        "id": "RYWtkugSZc9J",
        "outputId": "c78bd02a-83b4-4fc6-fbfd-48b4037abdff"
      },
      "source": [
        "mediana = dados[\"IMC\"].median()\r\n",
        "print(mediana)"
      ],
      "execution_count": 14,
      "outputs": [
        {
          "output_type": "stream",
          "text": [
            "20.190504330368643\n"
          ],
          "name": "stdout"
        }
      ]
    },
    {
      "cell_type": "markdown",
      "metadata": {
        "id": "IkH-3k4FaPQP"
      },
      "source": [
        "## <font color=green>3 Moda</font>\r\n",
        "***\r\n",
        "\r\n",
        "Pode-se definir a moda como sendo o valor mais frequente de um conjunto de dados. A moda é bastante utilizada para dados qualitativos."
      ]
    },
    {
      "cell_type": "code",
      "metadata": {
        "colab": {
          "base_uri": "https://localhost:8080/"
        },
        "id": "EpXdNjXwaT6g",
        "outputId": "79380083-d76e-45b6-9f4c-62a20de27a26"
      },
      "source": [
        "moda = dados[\"IMC\"].mode()\r\n",
        "print(moda)\r\n",
        "\r\n",
        "#no caso esta é multimodal (várias modas)"
      ],
      "execution_count": 15,
      "outputs": [
        {
          "output_type": "stream",
          "text": [
            "0     16.155478\n",
            "1     16.718248\n",
            "2     17.312886\n",
            "3     18.543714\n",
            "4     18.556681\n",
            "5     18.602766\n",
            "6     19.021555\n",
            "7     19.169550\n",
            "8     19.297399\n",
            "9     19.707910\n",
            "10    21.082813\n",
            "dtype: float64\n"
          ],
          "name": "stdout"
        }
      ]
    },
    {
      "cell_type": "markdown",
      "metadata": {
        "id": "dtvoxomXaZUk"
      },
      "source": [
        "## <font color=green>3.4 Relação entre média, mediana e moda</font>\r\n",
        "***"
      ]
    },
    {
      "cell_type": "markdown",
      "metadata": {
        "id": "j6nEYAagadxK"
      },
      "source": [
        "<img src='https://caelum-online-public.s3.amazonaws.com/1177-estatistica-parte1/01/img004.png' width='80%'>"
      ]
    },
    {
      "cell_type": "code",
      "metadata": {
        "colab": {
          "base_uri": "https://localhost:8080/",
          "height": 404
        },
        "id": "e4zo0_nrbw9X",
        "outputId": "455039ea-4e10-4151-e3ac-bbee65e053b5"
      },
      "source": [
        "import seaborn as sns\r\n",
        "\r\n",
        "ax = sns.histplot(x = \"IMC\", data = dados, kde = True)\r\n",
        "ax.figure.set_size_inches(12, 6)\r\n",
        "ax.axvline(dados.IMC.mean(), color = 'r', linestyle = '--')\r\n",
        "ax.axvline(dados.IMC.median(), color ='g', linestyle = '-')\r\n",
        "\r\n",
        "ax.set_title(\"Distribuição de frequência\")\r\n",
        "ax.set_xlabel(\"Altura\")\r\n",
        "ax;\r\n",
        "\r\n",
        "#É possível ver a média em vermelho e a mediana em verde"
      ],
      "execution_count": 16,
      "outputs": [
        {
          "output_type": "display_data",
          "data": {
            "image/png": "[encoded data removed]",
            "text/plain": [
              "<Figure size 864x432 with 1 Axes>"
            ]
          },
          "metadata": {
            "tags": [],
            "needs_background": "light"
          }
        }
      ]
    },
    {
      "cell_type": "code",
      "metadata": {
        "colab": {
          "base_uri": "https://localhost:8080/",
          "height": 404
        },
        "id": "d-rOCS0okTEZ",
        "outputId": "887d5b1a-b44a-4d17-b804-cc3950797c68"
      },
      "source": [
        "#Também é possível perceber a assimetria através do boxplot\r\n",
        "\r\n",
        "ax = sns.boxplot(x = \"IMC\", data = dados)\r\n",
        "ax.figure.set_size_inches(12, 6)\r\n",
        "ax.set_title(\"Boxplot IMC\")\r\n",
        "ax.set_xlabel(\"IMC\")\r\n",
        "ax;"
      ],
      "execution_count": 17,
      "outputs": [
        {
          "output_type": "display_data",
          "data": {
            "image/png": "[encoded data removed]",
            "text/plain": [
              "<Figure size 864x432 with 1 Axes>"
            ]
          },
          "metadata": {
            "tags": [],
            "needs_background": "light"
          }
        }
      ]
    },
    {
      "cell_type": "markdown",
      "metadata": {
        "id": "SbyhkPNroi1D"
      },
      "source": [
        "<img src='https://caelum-online-public.s3.amazonaws.com/1177-estatistica-parte1/01/img006.png' width='80%'>"
      ]
    },
    {
      "cell_type": "markdown",
      "metadata": {
        "id": "ovXbtqzIl5DZ"
      },
      "source": [
        "# Distribuição Normal"
      ]
    },
    {
      "cell_type": "markdown",
      "metadata": {
        "id": "_pAIVaylmX-S"
      },
      "source": [
        "A distribuição normal é uma das mais utilizadas em estatística. É uma distribuição contínua, onde a distribuição de frequências de uma variável quantitativa apresenta a forma de sino e é simétrica em relação a sua média.\r\n",
        "\r\n",
        "![Normal](https://caelum-online-public.s3.amazonaws.com/1178-estatistica-parte2/01/img001.png)\r\n",
        "\r\n",
        "\r\n",
        "## Carcterísticas importantes\r\n",
        "\r\n",
        "1. É simétrica em torno da média;\r\n",
        "\r\n",
        "2. A área sob a curva corresponde à proporção 1 ou 100%;\r\n",
        "\r\n",
        "3. As medidas de tendência central (média, mediana e moda) apresentam o mesmo valor;\r\n",
        "\r\n",
        "4. Os extremos da curva tendem ao infinito em ambas as direções e, teoricamente, jamais tocam o eixo $x$;\r\n",
        "\r\n",
        "5. O desvio padrão define o achatamento e largura da distribuição. Curvas mais largas e mais achatadas apresentam valores maiores de desvio padrão;\r\n",
        "\r\n",
        "6. A distribuição é definida por sua média e desvio padrão;\r\n",
        "\r\n",
        "7. A probabilidade sempre será igual à área sob a curva, delimitada pelos limites inferior e superior."
      ]
    },
    {
      "cell_type": "markdown",
      "metadata": {
        "id": "W8cpM04FmcD5"
      },
      "source": [
        "## $$f(x) = \\frac{1}{\\sqrt{2\\pi\\sigma}}e^{-\\frac{1}{2}\\left(\\frac{x-\\mu}{\\sigma}\\right)^2}$$\r\n",
        "\r\n",
        "Onde:\r\n",
        "\r\n",
        "$x$ = variável normal\r\n",
        "\r\n",
        "$\\sigma$ = desvio padrão\r\n",
        "\r\n",
        "$\\mu$ = média"
      ]
    },
    {
      "cell_type": "markdown",
      "metadata": {
        "id": "I0isBgmUme6X"
      },
      "source": [
        "A probabilidade é obtida a partir da área sob a curva, delimitada pelos limites inferior e superior especificados. Um exemplo pode ser visto na figura abaixo.\r\n",
        "\r\n",
        "Por exemplo, a probabilidade de se escolher uma pessoa entre 1,60m e 1,80m é a área sob a curva.\r\n",
        "\r\n",
        "\r\n",
        "![alt text](https://caelum-online-public.s3.amazonaws.com/1178-estatistica-parte2/01/img002.png)\r\n"
      ]
    },
    {
      "cell_type": "markdown",
      "metadata": {
        "id": "xv-vJSsgmgf9"
      },
      "source": [
        "Para obter a área acima basta calcular a integral da função para os intervalos determinados. Conforme equação abaixo:\r\n",
        "\r\n",
        "\r\n",
        "## $$P(L_i<x<L_s) = \\int_{L_i}^{L_s}\\frac{1}{\\sqrt{2\\pi\\sigma}}e^{-\\frac{1}{2}\\left(\\frac{x-\\mu}{\\sigma}\\right)^2}$$\r\n",
        "\r\n",
        "Onde:\r\n",
        "\r\n",
        "$x$ = variável normal\r\n",
        "\r\n",
        "$\\sigma$ = desvio padrão\r\n",
        "\r\n",
        "$\\mu$ = média\r\n",
        "\r\n",
        "$L_i$ = limite inferior\r\n",
        "\r\n",
        "$L_s$ = limite superior\r\n",
        "\r\n"
      ]
    },
    {
      "cell_type": "markdown",
      "metadata": {
        "id": "YEeQ2m0AmiDg"
      },
      "source": [
        "## Tabelas padronizadas\r\n",
        "\r\n",
        "As tabelas padronizadas foram criadas para facilitar a obtenção dos valores das áreas sob a curva normal e eliminar a necessidade de solucionar integrais definidas.\r\n",
        "\r\n",
        "Para consultarmos os valores em uma tabela padronizada basta transformarmos nossa variável em uma variável padronizada $Z$.\r\n",
        "\r\n",
        "Esta variável $Z$ representa o afastamento em desvios padrões de um valor da variável original em relação à média.\r\n",
        "\r\n",
        "# $$Z = \\frac{x-\\mu}{\\sigma}$$\r\n",
        "\r\n",
        "Onde:\r\n",
        "\r\n",
        "$x$ = variável normal com média $\\mu$ e desvio padrão $\\sigma$\r\n",
        "\r\n",
        "$\\sigma$ = desvio padrão\r\n",
        "\r\n",
        "$\\mu$ = média"
      ]
    },
    {
      "cell_type": "markdown",
      "metadata": {
        "id": "JKRRfwZGmjbk"
      },
      "source": [
        "Exemplo:\r\n",
        "\r\n",
        "Em um estudo sobre as alturas dos moradores de uma cidade verificou-se que o conjunto de dados segue uma **distribuição aproximadamente normal**, com **média 1,70** e **desvio padrão de 0,1**. Com estas informações obtenha o seguinte conjunto de probabilidades:\r\n",
        "\r\n",
        "> **A.** probabilidade de uma pessoa, selecionada ao acaso, ter menos de 1,80 metros.\r\n",
        "\r\n",
        "> **B.** probabilidade de uma pessoa, selecionada ao acaso, ter entre 1,60 metros e 1,80 metros.    \r\n",
        "\r\n",
        "> **C.** probabilidade de uma pessoa, selecionada ao acaso, ter mais de 1,90 metros."
      ]
    },
    {
      "cell_type": "markdown",
      "metadata": {
        "id": "PeEtDZYMmlhk"
      },
      "source": [
        "### Problema A - Identificação da área sob a curva"
      ]
    },
    {
      "cell_type": "markdown",
      "metadata": {
        "id": "4cEPIr9Tmmrz"
      },
      "source": [
        "<img style='float: left' src='https://caelum-online-public.s3.amazonaws.com/1178-estatistica-parte2/01/img004.png' width='350px'>\r\n",
        "\r\n",
        "Note que até 1,70m a probabilidade é de 50%, pois a curva é simétrica"
      ]
    },
    {
      "cell_type": "markdown",
      "metadata": {
        "id": "gVtPAUWkpCjQ"
      },
      "source": [
        "#### Solução 1"
      ]
    },
    {
      "cell_type": "code",
      "metadata": {
        "id": "lPWCQj0FpDQZ"
      },
      "source": [
        "#Criando a tabela padronizada utilizando o scypy\r\n",
        "#Essa tabela geralmente é encontrada em livros de estatística\r\n",
        "\r\n",
        "import pandas as pd\r\n",
        "import numpy as np\r\n",
        "from scipy.stats import norm\r\n",
        "\r\n",
        "tabela_normal_padronizada = pd.DataFrame(\r\n",
        "    [], \r\n",
        "    index=[\"{0:0.2f}\".format(i / 100) for i in range(0, 400, 10)],\r\n",
        "    columns = [\"{0:0.2f}\".format(i / 100) for i in range(0, 10)])\r\n",
        "\r\n",
        "for index in tabela_normal_padronizada.index:\r\n",
        "    for column in tabela_normal_padronizada.columns:\r\n",
        "        Z = np.round(float(index) + float(column), 2)\r\n",
        "        tabela_normal_padronizada.loc[index, column] = \"{0:0.4f}\".format(norm.cdf(Z))\r\n",
        "\r\n",
        "tabela_normal_padronizada.rename_axis('Z', axis = 'columns', inplace = True)\r\n",
        "\r\n",
        "tabela_normal_padronizada"
      ],
      "execution_count": null,
      "outputs": []
    },
    {
      "cell_type": "code",
      "metadata": {
        "id": "rxzQuMmhpHbo"
      },
      "source": [
        "media = 1.70\r\n",
        "desvio_padrao = 0.1\r\n",
        "x = 1.80\r\n",
        "z = (x - media)/ desvio_padrao\r\n",
        "print(z)\r\n",
        "print(\"probabilidade = 0.8413\")\r\n",
        "\r\n",
        "#Com o resultado de z = 1, procura-se na tabela por z = 01.00 e valor 0.00 para se obter o valor 0.8413\r\n",
        "#Caso Z = 1.05 por exemplo, procura-se por 1.00 e depois por 0.05 ao lado, ou seja, 0.8531"
      ],
      "execution_count": null,
      "outputs": []
    },
    {
      "cell_type": "markdown",
      "metadata": {
        "id": "j-7zNvlfpITC"
      },
      "source": [
        "#### Solução 2"
      ]
    },
    {
      "cell_type": "code",
      "metadata": {
        "id": "cEYVNfYapLBR"
      },
      "source": [
        "#Podemos passar o valor de z com a função .cdf()\r\n",
        "\r\n",
        "from scipy.stats import norm\r\n",
        "probabilidade = norm.cdf(z)\r\n",
        "print(probabilidade)"
      ],
      "execution_count": null,
      "outputs": []
    },
    {
      "cell_type": "code",
      "metadata": {
        "id": "dIc_No8U2ELE"
      },
      "source": [
        ""
      ],
      "execution_count": null,
      "outputs": []
    },
    {
      "cell_type": "code",
      "metadata": {
        "id": "JTVZfZFm2Kk5"
      },
      "source": [
        ""
      ],
      "execution_count": null,
      "outputs": []
    },
    {
      "cell_type": "code",
      "metadata": {
        "id": "QL-JQiGK4MoU"
      },
      "source": [
        ""
      ],
      "execution_count": null,
      "outputs": []
    },
    {
      "cell_type": "markdown",
      "metadata": {
        "id": "YilGS9m015qY"
      },
      "source": [
        "# Teorema do Limite Central"
      ]
    },
    {
      "cell_type": "markdown",
      "metadata": {
        "id": "6H3WiOif2QB9"
      },
      "source": [
        ""
      ]
    },
    {
      "cell_type": "markdown",
      "metadata": {
        "id": "6IYVlgt22PkW"
      },
      "source": [
        "## O **Teorema do Limite Central** afirma que, com o aumento do tamanho da amostra, a distribuição das médias amostrais se aproxima de uma distribuição normal com média igual à média da população e desvio padrão igual ao desvio padrão da variável original dividido pela raiz quadrada do tamanho da amostra. Este fato é assegurado para $n$ maior ou igual a 30.\r\n",
        "\r\n",
        "\r\n",
        ".\r\n",
        "## $$\\sigma_\\bar{x} = \\frac{\\sigma}{\\sqrt{n}}$$\r\n",
        "​\r\n",
        "## O desvio padrão das médias amostrais é conhecido como **erro padrão da média**\r\n"
      ]
    },
    {
      "cell_type": "code",
      "metadata": {
        "id": "Hl9yEwIj21ju"
      },
      "source": [
        "import pandas as pd\r\n",
        "from zipfile import ZipFile\r\n",
        "\r\n",
        "\r\n",
        "\r\n",
        "caminho = \"/content/drive/MyDrive/cursos/bootcampDSalura/dados modulo 3/PeNSE_2015_AMOSTRA2.zip\"\r\n",
        "zip = ZipFile(caminho)\r\n",
        "caminho_pasta_zipada = zip.namelist()[1]\r\n",
        "\r\n",
        "dados = pd.read_csv(zip.open(caminho_pasta_zipada), sep = \";\", thousands = \".\", decimal = \",\")\r\n",
        "dados.head()"
      ],
      "execution_count": null,
      "outputs": []
    },
    {
      "cell_type": "code",
      "metadata": {
        "id": "_e7RCOig2Up8"
      },
      "source": [
        "dados[\"IMC\"] = dados[\"VB17003\"]/ ((dados[\"VB17004\"]/100)**2)\r\n",
        "dados[\"IMC\"]"
      ],
      "execution_count": null,
      "outputs": []
    },
    {
      "cell_type": "code",
      "metadata": {
        "id": "N7a-yveg2Vka"
      },
      "source": [
        "#Criando a amostra de 1500 amostras de 2000 elementos\r\n",
        "\r\n",
        "n = 2000\r\n",
        "total_de_amostras = 1500\r\n",
        "amostras = pd.DataFrame()\r\n",
        "for i in range(total_de_amostras):\r\n",
        "  _ = dados.IMC.sample(n)\r\n",
        "  _.index = range(0, len(_))\r\n",
        "  amostras['Amostra_' + str(i)] = _\r\n",
        "\r\n",
        "amostras"
      ],
      "execution_count": null,
      "outputs": []
    },
    {
      "cell_type": "markdown",
      "metadata": {
        "id": "hZyAT36x2W4j"
      },
      "source": [
        "## O Teorema do Limite Central afirma que, **com o aumento do tamanho da amostra, a distribuição das médias amostrais se aproxima de uma distribuição normal** com média igual à média da população e desvio padrão igual ao desvio padrão da variável original dividido pela raiz quadrada do tamanho da amostra. Este fato é assegurado para n maior ou igual a 30."
      ]
    },
    {
      "cell_type": "code",
      "metadata": {
        "id": "8dt_5m1A2YTZ"
      },
      "source": [
        "amostras.mean().hist(bins=30)"
      ],
      "execution_count": null,
      "outputs": []
    },
    {
      "cell_type": "markdown",
      "metadata": {
        "id": "ABYw1QZc2ZRw"
      },
      "source": [
        "## O Teorema do Limite Central afirma que, com o aumento do tamanho da amostra, a distribuição das médias amostrais se aproxima de uma distribuição normal **com média igual à média da população** e desvio padrão igual ao desvio padrão da variável original dividido pela raiz quadrada do tamanho da amostra. Este fato é assegurado para n maior ou igual a 30."
      ]
    },
    {
      "cell_type": "code",
      "metadata": {
        "id": "tJ1YN1Zz2dqE"
      },
      "source": [
        "dados.IMC.mean()"
      ],
      "execution_count": null,
      "outputs": []
    },
    {
      "cell_type": "code",
      "metadata": {
        "id": "KAhBt68p2abk"
      },
      "source": [
        "amostras.mean().mean()"
      ],
      "execution_count": null,
      "outputs": []
    },
    {
      "cell_type": "markdown",
      "metadata": {
        "id": "YPHM5XvM2dHH"
      },
      "source": [
        "##O Teorema do Limite Central afirma que, com o aumento do tamanho da amostra, a distribuição das médias amostrais se aproxima de uma distribuição normal com média igual à média da população e **desvio padrão igual ao desvio padrão da variável original dividido pela raiz quadrada do tamanho da amostra**. Este fato é assegurado para n maior ou igual a 30.\r\n",
        "\r\n",
        "# $$\\sigma_\\bar{x} = \\frac{\\sigma}{\\sqrt{n}}$$"
      ]
    },
    {
      "cell_type": "code",
      "metadata": {
        "id": "wzqi-jCw_ZM7"
      },
      "source": [
        "n"
      ],
      "execution_count": null,
      "outputs": []
    },
    {
      "cell_type": "code",
      "metadata": {
        "id": "lbtOxq862gc0"
      },
      "source": [
        "#O desvio padrão se da pelo .std()\r\n",
        "\r\n",
        "import numpy as np\r\n",
        "\r\n",
        "desvio_padrao_amostra_aproximado = dados.IMC.std() / np.sqrt(n)\r\n",
        "print(desvio_padrao_amostra_aproximado)"
      ],
      "execution_count": null,
      "outputs": []
    },
    {
      "cell_type": "code",
      "metadata": {
        "id": "JUenw1F_2hQM"
      },
      "source": [
        "amostras.mean().std()"
      ],
      "execution_count": null,
      "outputs": []
    },
    {
      "cell_type": "markdown",
      "metadata": {
        "id": "G5fnh7kLBQe7"
      },
      "source": [
        "# Gráficos com Ploty"
      ]
    },
    {
      "cell_type": "markdown",
      "metadata": {
        "id": "UMGu9-DGBpO8"
      },
      "source": [
        "Existe outra biblioteca para gráficos chama de Ploty, especialmente interessantes para compartilhar o trabalho na web"
      ]
    },
    {
      "cell_type": "code",
      "metadata": {
        "id": "ri7-s9mZETuc"
      },
      "source": [
        "#Obs, este módulo necessita dos dados do arquivo módulo_1_e_2_Bootcamp_Alura.ipynb"
      ],
      "execution_count": null,
      "outputs": []
    },
    {
      "cell_type": "code",
      "metadata": {
        "id": "wmTStl3qB5tb"
      },
      "source": [
        "import plotly.graph_objs as go\r\n",
        "import plotly.express as px\r\n",
        "\r\n",
        "#import pandas as pd\r\n",
        "#import plotly.offline as py\r\n",
        "#import plotly.graph_objs as go\r\n",
        "#py.init_notebook_mode(connected=True)\r\n",
        "\r\n",
        "#mais informações sobre gráficos interativos em https://paulovasconcellos.com.br/como-criar-gr%C3%A1ficos-interativos-utilizando-plotly-e-python-3eb6eda57a2b"
      ],
      "execution_count": null,
      "outputs": []
    },
    {
      "cell_type": "code",
      "metadata": {
        "id": "On_phfphB8cI"
      },
      "source": [
        "fig = go.Figure()\r\n",
        "\r\n",
        "fig.add_trace(go.Scatter(x=cincoestados.index, y=cincoestados['11 Rondônia'],name='Rondônia'))\r\n",
        "fig.add_trace(go.Scatter(x=cincoestados.index, y=cincoestados['12 Acre'],name='Acre'))\r\n",
        "fig.add_trace(go.Scatter(x=cincoestados.index, y=cincoestados['13 Amazonas'],name='Amazonas'))\r\n",
        "fig.add_trace(go.Scatter(x=cincoestados.index, y=cincoestados['14 Roraima'],name='Roraima'))\r\n",
        "fig.add_trace(go.Scatter(x=cincoestados.index, y=cincoestados['15 Pará'],name='Pará'))\r\n",
        "\r\n",
        "fig.show()"
      ],
      "execution_count": null,
      "outputs": []
    },
    {
      "cell_type": "code",
      "metadata": {
        "id": "oU47G8X4B98I"
      },
      "source": [
        "fig2 = px.bar(x=gastos_do_ultimo_mes.index, \r\n",
        "              y=gastos_do_ultimo_mes,labels={'x':'Unidade da Federação','y':'Gastos'})\r\n",
        "\r\n",
        "fig2.show()"
      ],
      "execution_count": null,
      "outputs": []
    },
    {
      "cell_type": "code",
      "metadata": {
        "id": "glivN_KoCKam"
      },
      "source": [
        "#É possível salvar a imagem\r\n",
        "\r\n",
        "fig2.write_html('imagem.html')"
      ],
      "execution_count": null,
      "outputs": []
    },
    {
      "cell_type": "markdown",
      "metadata": {
        "id": "e31zeCJkEzdb"
      },
      "source": [
        "# Estilizar DataFrames com Pandas"
      ]
    },
    {
      "cell_type": "code",
      "metadata": {
        "id": "nAhsGDo8E5cm"
      },
      "source": [
        "import pandas as pd"
      ],
      "execution_count": 19,
      "outputs": []
    },
    {
      "cell_type": "code",
      "metadata": {
        "id": "_PsxRmNTE-po"
      },
      "source": [
        "carros = {'Marca': ['Honda Civic','Toyota Corolla','Ford Focus','Audi A4'],\r\n",
        "        'Preco': [22000,25000,27000,35000]\r\n",
        "        }"
      ],
      "execution_count": 20,
      "outputs": []
    },
    {
      "cell_type": "code",
      "metadata": {
        "id": "5jv1dYd2FCnI",
        "colab": {
          "base_uri": "https://localhost:8080/",
          "height": 0
        },
        "outputId": "05612823-7be8-43e5-a09b-b1c0f7be66a2"
      },
      "source": [
        "dados = pd.DataFrame(carros)\r\n",
        "\r\n",
        "dados.head()"
      ],
      "execution_count": 21,
      "outputs": [
        {
          "output_type": "execute_result",
          "data": {
            "text/html": [
              "<div>\n",
              "<style scoped>\n",
              "    .dataframe tbody tr th:only-of-type {\n",
              "        vertical-align: middle;\n",
              "    }\n",
              "\n",
              "    .dataframe tbody tr th {\n",
              "        vertical-align: top;\n",
              "    }\n",
              "\n",
              "    .dataframe thead th {\n",
              "        text-align: right;\n",
              "    }\n",
              "</style>\n",
              "<table border=\"1\" class=\"dataframe\">\n",
              "  <thead>\n",
              "    <tr style=\"text-align: right;\">\n",
              "      <th></th>\n",
              "      <th>Marca</th>\n",
              "      <th>Preco</th>\n",
              "    </tr>\n",
              "  </thead>\n",
              "  <tbody>\n",
              "    <tr>\n",
              "      <th>0</th>\n",
              "      <td>Honda Civic</td>\n",
              "      <td>22000</td>\n",
              "    </tr>\n",
              "    <tr>\n",
              "      <th>1</th>\n",
              "      <td>Toyota Corolla</td>\n",
              "      <td>25000</td>\n",
              "    </tr>\n",
              "    <tr>\n",
              "      <th>2</th>\n",
              "      <td>Ford Focus</td>\n",
              "      <td>27000</td>\n",
              "    </tr>\n",
              "    <tr>\n",
              "      <th>3</th>\n",
              "      <td>Audi A4</td>\n",
              "      <td>35000</td>\n",
              "    </tr>\n",
              "  </tbody>\n",
              "</table>\n",
              "</div>"
            ],
            "text/plain": [
              "            Marca  Preco\n",
              "0     Honda Civic  22000\n",
              "1  Toyota Corolla  25000\n",
              "2      Ford Focus  27000\n",
              "3         Audi A4  35000"
            ]
          },
          "metadata": {
            "tags": []
          },
          "execution_count": 21
        }
      ]
    },
    {
      "cell_type": "code",
      "metadata": {
        "id": "RsWBQRXFFE3q",
        "colab": {
          "base_uri": "https://localhost:8080/",
          "height": 0
        },
        "outputId": "d0c5d38b-6458-4772-bdbf-bd28d34d4b2c"
      },
      "source": [
        "dados.style.set_properties(**{'background-color':'blue',\r\n",
        "                              'color':'white',\r\n",
        "                              'border-color':'black'\r\n",
        "                              })"
      ],
      "execution_count": 22,
      "outputs": [
        {
          "output_type": "execute_result",
          "data": {
            "text/html": [
              "<style  type=\"text/css\" >\n",
              "#T_84690d36_5a78_11eb_88c0_0242ac1c0002row0_col0,#T_84690d36_5a78_11eb_88c0_0242ac1c0002row0_col1,#T_84690d36_5a78_11eb_88c0_0242ac1c0002row1_col0,#T_84690d36_5a78_11eb_88c0_0242ac1c0002row1_col1,#T_84690d36_5a78_11eb_88c0_0242ac1c0002row2_col0,#T_84690d36_5a78_11eb_88c0_0242ac1c0002row2_col1,#T_84690d36_5a78_11eb_88c0_0242ac1c0002row3_col0,#T_84690d36_5a78_11eb_88c0_0242ac1c0002row3_col1{\n",
              "            background-color:  blue;\n",
              "            color:  white;\n",
              "            border-color:  black;\n",
              "        }</style><table id=\"T_84690d36_5a78_11eb_88c0_0242ac1c0002\" ><thead>    <tr>        <th class=\"blank level0\" ></th>        <th class=\"col_heading level0 col0\" >Marca</th>        <th class=\"col_heading level0 col1\" >Preco</th>    </tr></thead><tbody>\n",
              "                <tr>\n",
              "                        <th id=\"T_84690d36_5a78_11eb_88c0_0242ac1c0002level0_row0\" class=\"row_heading level0 row0\" >0</th>\n",
              "                        <td id=\"T_84690d36_5a78_11eb_88c0_0242ac1c0002row0_col0\" class=\"data row0 col0\" >Honda Civic</td>\n",
              "                        <td id=\"T_84690d36_5a78_11eb_88c0_0242ac1c0002row0_col1\" class=\"data row0 col1\" >22000</td>\n",
              "            </tr>\n",
              "            <tr>\n",
              "                        <th id=\"T_84690d36_5a78_11eb_88c0_0242ac1c0002level0_row1\" class=\"row_heading level0 row1\" >1</th>\n",
              "                        <td id=\"T_84690d36_5a78_11eb_88c0_0242ac1c0002row1_col0\" class=\"data row1 col0\" >Toyota Corolla</td>\n",
              "                        <td id=\"T_84690d36_5a78_11eb_88c0_0242ac1c0002row1_col1\" class=\"data row1 col1\" >25000</td>\n",
              "            </tr>\n",
              "            <tr>\n",
              "                        <th id=\"T_84690d36_5a78_11eb_88c0_0242ac1c0002level0_row2\" class=\"row_heading level0 row2\" >2</th>\n",
              "                        <td id=\"T_84690d36_5a78_11eb_88c0_0242ac1c0002row2_col0\" class=\"data row2 col0\" >Ford Focus</td>\n",
              "                        <td id=\"T_84690d36_5a78_11eb_88c0_0242ac1c0002row2_col1\" class=\"data row2 col1\" >27000</td>\n",
              "            </tr>\n",
              "            <tr>\n",
              "                        <th id=\"T_84690d36_5a78_11eb_88c0_0242ac1c0002level0_row3\" class=\"row_heading level0 row3\" >3</th>\n",
              "                        <td id=\"T_84690d36_5a78_11eb_88c0_0242ac1c0002row3_col0\" class=\"data row3 col0\" >Audi A4</td>\n",
              "                        <td id=\"T_84690d36_5a78_11eb_88c0_0242ac1c0002row3_col1\" class=\"data row3 col1\" >35000</td>\n",
              "            </tr>\n",
              "    </tbody></table>"
            ],
            "text/plain": [
              "<pandas.io.formats.style.Styler at 0x7f29929b2cf8>"
            ]
          },
          "metadata": {
            "tags": []
          },
          "execution_count": 22
        }
      ]
    },
    {
      "cell_type": "code",
      "metadata": {
        "id": "OxmZSyfPFSLf"
      },
      "source": [
        "def cor_orcamento(val):\r\n",
        "\r\n",
        "  if val <= 25000:\r\n",
        "    color = 'red'\r\n",
        "  else:\r\n",
        "    color = 'black'\r\n",
        "\r\n",
        "  return 'color: %s' % color"
      ],
      "execution_count": 23,
      "outputs": []
    },
    {
      "cell_type": "code",
      "metadata": {
        "id": "Vx8FNOVwFe9L",
        "colab": {
          "base_uri": "https://localhost:8080/",
          "height": 0
        },
        "outputId": "88516818-b936-4eb2-fa48-8238bf6e0835"
      },
      "source": [
        "dados.style.applymap(cor_orcamento, subset = 'Preco')"
      ],
      "execution_count": 24,
      "outputs": [
        {
          "output_type": "execute_result",
          "data": {
            "text/html": [
              "<style  type=\"text/css\" >\n",
              "#T_846c9b04_5a78_11eb_88c0_0242ac1c0002row0_col1,#T_846c9b04_5a78_11eb_88c0_0242ac1c0002row1_col1{\n",
              "            color:  red;\n",
              "        }#T_846c9b04_5a78_11eb_88c0_0242ac1c0002row2_col1,#T_846c9b04_5a78_11eb_88c0_0242ac1c0002row3_col1{\n",
              "            color:  black;\n",
              "        }</style><table id=\"T_846c9b04_5a78_11eb_88c0_0242ac1c0002\" ><thead>    <tr>        <th class=\"blank level0\" ></th>        <th class=\"col_heading level0 col0\" >Marca</th>        <th class=\"col_heading level0 col1\" >Preco</th>    </tr></thead><tbody>\n",
              "                <tr>\n",
              "                        <th id=\"T_846c9b04_5a78_11eb_88c0_0242ac1c0002level0_row0\" class=\"row_heading level0 row0\" >0</th>\n",
              "                        <td id=\"T_846c9b04_5a78_11eb_88c0_0242ac1c0002row0_col0\" class=\"data row0 col0\" >Honda Civic</td>\n",
              "                        <td id=\"T_846c9b04_5a78_11eb_88c0_0242ac1c0002row0_col1\" class=\"data row0 col1\" >22000</td>\n",
              "            </tr>\n",
              "            <tr>\n",
              "                        <th id=\"T_846c9b04_5a78_11eb_88c0_0242ac1c0002level0_row1\" class=\"row_heading level0 row1\" >1</th>\n",
              "                        <td id=\"T_846c9b04_5a78_11eb_88c0_0242ac1c0002row1_col0\" class=\"data row1 col0\" >Toyota Corolla</td>\n",
              "                        <td id=\"T_846c9b04_5a78_11eb_88c0_0242ac1c0002row1_col1\" class=\"data row1 col1\" >25000</td>\n",
              "            </tr>\n",
              "            <tr>\n",
              "                        <th id=\"T_846c9b04_5a78_11eb_88c0_0242ac1c0002level0_row2\" class=\"row_heading level0 row2\" >2</th>\n",
              "                        <td id=\"T_846c9b04_5a78_11eb_88c0_0242ac1c0002row2_col0\" class=\"data row2 col0\" >Ford Focus</td>\n",
              "                        <td id=\"T_846c9b04_5a78_11eb_88c0_0242ac1c0002row2_col1\" class=\"data row2 col1\" >27000</td>\n",
              "            </tr>\n",
              "            <tr>\n",
              "                        <th id=\"T_846c9b04_5a78_11eb_88c0_0242ac1c0002level0_row3\" class=\"row_heading level0 row3\" >3</th>\n",
              "                        <td id=\"T_846c9b04_5a78_11eb_88c0_0242ac1c0002row3_col0\" class=\"data row3 col0\" >Audi A4</td>\n",
              "                        <td id=\"T_846c9b04_5a78_11eb_88c0_0242ac1c0002row3_col1\" class=\"data row3 col1\" >35000</td>\n",
              "            </tr>\n",
              "    </tbody></table>"
            ],
            "text/plain": [
              "<pandas.io.formats.style.Styler at 0x7f29929b2b38>"
            ]
          },
          "metadata": {
            "tags": []
          },
          "execution_count": 24
        }
      ]
    },
    {
      "cell_type": "code",
      "metadata": {
        "id": "P5sZLZS4Fijj"
      },
      "source": [
        "#Podemos salvar em um arquivo excel\r\n",
        "\r\n",
        "dados.style.applymap(cor_orcamento, subset = 'Preco').to_excel(\"estilizado.xlsx\", engine = 'openpyxl')\r\n",
        "\r\n",
        "#Pode-se notar nos arquivos sample_data do colab que o arquivo foi criado"
      ],
      "execution_count": 25,
      "outputs": []
    },
    {
      "cell_type": "markdown",
      "metadata": {
        "id": "_IcgS1xCadHU"
      },
      "source": [
        "# Intervalo de confiança e População e Amostra"
      ]
    },
    {
      "cell_type": "code",
      "metadata": {
        "id": "ueTKKjRZahUG"
      },
      "source": [
        "url = 'https://raw.githubusercontent.com/allanspadini/linear_estatistica/main/winequality-red.csv'"
      ],
      "execution_count": 26,
      "outputs": []
    },
    {
      "cell_type": "markdown",
      "metadata": {
        "id": "GqvR9Bx9d2Dy"
      },
      "source": [
        "https://archive.ics.uci.edu/ml/datasets/Wine\r\n",
        "\r\n",
        "P. Cortez, A. Cerdeira, F. Almeida, T. Matos and J. Reis.\r\n",
        "Modeling wine preferences by data mining from physicochemical properties. In Decision Support Systems, Elsevier, 47(4):547-553, 2009."
      ]
    },
    {
      "cell_type": "code",
      "metadata": {
        "id": "x0NhJiSod3A5"
      },
      "source": [
        "import pandas as pd"
      ],
      "execution_count": 27,
      "outputs": []
    },
    {
      "cell_type": "code",
      "metadata": {
        "id": "yOm_Gl3Md4CL"
      },
      "source": [
        "vinho = pd.read_csv(url, sep = ';')"
      ],
      "execution_count": 28,
      "outputs": []
    },
    {
      "cell_type": "code",
      "metadata": {
        "colab": {
          "base_uri": "https://localhost:8080/",
          "height": 221
        },
        "id": "pRgM-YW2d83D",
        "outputId": "d4f44c92-17f0-4495-9703-e3722a4aed45"
      },
      "source": [
        "vinho.head()"
      ],
      "execution_count": 62,
      "outputs": [
        {
          "output_type": "execute_result",
          "data": {
            "text/html": [
              "<div>\n",
              "<style scoped>\n",
              "    .dataframe tbody tr th:only-of-type {\n",
              "        vertical-align: middle;\n",
              "    }\n",
              "\n",
              "    .dataframe tbody tr th {\n",
              "        vertical-align: top;\n",
              "    }\n",
              "\n",
              "    .dataframe thead th {\n",
              "        text-align: right;\n",
              "    }\n",
              "</style>\n",
              "<table border=\"1\" class=\"dataframe\">\n",
              "  <thead>\n",
              "    <tr style=\"text-align: right;\">\n",
              "      <th></th>\n",
              "      <th>fixed acidity</th>\n",
              "      <th>volatile acidity</th>\n",
              "      <th>citric acid</th>\n",
              "      <th>residual sugar</th>\n",
              "      <th>chlorides</th>\n",
              "      <th>free sulfur dioxide</th>\n",
              "      <th>total sulfur dioxide</th>\n",
              "      <th>density</th>\n",
              "      <th>pH</th>\n",
              "      <th>sulphates</th>\n",
              "      <th>alcohol</th>\n",
              "      <th>quality</th>\n",
              "    </tr>\n",
              "  </thead>\n",
              "  <tbody>\n",
              "    <tr>\n",
              "      <th>0</th>\n",
              "      <td>7.4</td>\n",
              "      <td>0.70</td>\n",
              "      <td>0.00</td>\n",
              "      <td>1.9</td>\n",
              "      <td>0.076</td>\n",
              "      <td>11.0</td>\n",
              "      <td>34.0</td>\n",
              "      <td>0.9978</td>\n",
              "      <td>3.51</td>\n",
              "      <td>0.56</td>\n",
              "      <td>9.4</td>\n",
              "      <td>5</td>\n",
              "    </tr>\n",
              "    <tr>\n",
              "      <th>1</th>\n",
              "      <td>7.8</td>\n",
              "      <td>0.88</td>\n",
              "      <td>0.00</td>\n",
              "      <td>2.6</td>\n",
              "      <td>0.098</td>\n",
              "      <td>25.0</td>\n",
              "      <td>67.0</td>\n",
              "      <td>0.9968</td>\n",
              "      <td>3.20</td>\n",
              "      <td>0.68</td>\n",
              "      <td>9.8</td>\n",
              "      <td>5</td>\n",
              "    </tr>\n",
              "    <tr>\n",
              "      <th>2</th>\n",
              "      <td>7.8</td>\n",
              "      <td>0.76</td>\n",
              "      <td>0.04</td>\n",
              "      <td>2.3</td>\n",
              "      <td>0.092</td>\n",
              "      <td>15.0</td>\n",
              "      <td>54.0</td>\n",
              "      <td>0.9970</td>\n",
              "      <td>3.26</td>\n",
              "      <td>0.65</td>\n",
              "      <td>9.8</td>\n",
              "      <td>5</td>\n",
              "    </tr>\n",
              "    <tr>\n",
              "      <th>3</th>\n",
              "      <td>11.2</td>\n",
              "      <td>0.28</td>\n",
              "      <td>0.56</td>\n",
              "      <td>1.9</td>\n",
              "      <td>0.075</td>\n",
              "      <td>17.0</td>\n",
              "      <td>60.0</td>\n",
              "      <td>0.9980</td>\n",
              "      <td>3.16</td>\n",
              "      <td>0.58</td>\n",
              "      <td>9.8</td>\n",
              "      <td>6</td>\n",
              "    </tr>\n",
              "    <tr>\n",
              "      <th>4</th>\n",
              "      <td>7.4</td>\n",
              "      <td>0.70</td>\n",
              "      <td>0.00</td>\n",
              "      <td>1.9</td>\n",
              "      <td>0.076</td>\n",
              "      <td>11.0</td>\n",
              "      <td>34.0</td>\n",
              "      <td>0.9978</td>\n",
              "      <td>3.51</td>\n",
              "      <td>0.56</td>\n",
              "      <td>9.4</td>\n",
              "      <td>5</td>\n",
              "    </tr>\n",
              "  </tbody>\n",
              "</table>\n",
              "</div>"
            ],
            "text/plain": [
              "   fixed acidity  volatile acidity  citric acid  ...  sulphates  alcohol  quality\n",
              "0            7.4              0.70         0.00  ...       0.56      9.4        5\n",
              "1            7.8              0.88         0.00  ...       0.68      9.8        5\n",
              "2            7.8              0.76         0.04  ...       0.65      9.8        5\n",
              "3           11.2              0.28         0.56  ...       0.58      9.8        6\n",
              "4            7.4              0.70         0.00  ...       0.56      9.4        5\n",
              "\n",
              "[5 rows x 12 columns]"
            ]
          },
          "metadata": {
            "tags": []
          },
          "execution_count": 62
        }
      ]
    },
    {
      "cell_type": "code",
      "metadata": {
        "colab": {
          "base_uri": "https://localhost:8080/"
        },
        "id": "vNOqbjTpd-xl",
        "outputId": "534208e8-7f50-4a83-f684-6bf25e6b44a2"
      },
      "source": [
        "#Olhando quantas amostras temos\r\n",
        "\r\n",
        "vinho.shape"
      ],
      "execution_count": 30,
      "outputs": [
        {
          "output_type": "execute_result",
          "data": {
            "text/plain": [
              "(1599, 12)"
            ]
          },
          "metadata": {
            "tags": []
          },
          "execution_count": 30
        }
      ]
    },
    {
      "cell_type": "markdown",
      "metadata": {
        "id": "zQSRV-gleAjh"
      },
      "source": [
        "## Qual a chance da nossa amostra retratar a realidade?"
      ]
    },
    {
      "cell_type": "markdown",
      "metadata": {
        "id": "xXWHqxCYeCo9"
      },
      "source": [
        "O **nível de confiança** ($1 - \\alpha$) representa a probabilidade de acerto da estimativa. De forma complementar o **nível de significância** ($\\alpha$) expressa a probabilidade de erro da estimativa.\r\n",
        "\r\n",
        "O **nível de confiança** representa o grau de confiabilidade do resultado da estimativa estar dentro de determinado intervalo. Quando fixamos em uma pesquisa um **nível de confiança** de 95%, por exemplo, estamos assumindo que existe uma probabilidade de 95% dos resultados da pesquisa representarem bem a realidade, ou seja, estarem corretos.\r\n",
        "\r\n",
        "O **nível de confiança** de uma estimativa pode ser obtido a partir da área sob a curva normal como ilustrado na figura abaixo."
      ]
    },
    {
      "cell_type": "markdown",
      "metadata": {
        "id": "FncEyIIieD7p"
      },
      "source": [
        "![alt text](https://caelum-online-public.s3.amazonaws.com/1178-estatistica-parte2/01/img007.png)"
      ]
    },
    {
      "cell_type": "markdown",
      "metadata": {
        "id": "XhtKbG8KeFTY"
      },
      "source": [
        "## Erro inferencial"
      ]
    },
    {
      "cell_type": "markdown",
      "metadata": {
        "id": "YR72zXjkeG21"
      },
      "source": [
        "O **erro inferencial** é definido pelo **desvio padrão das médias amostrais** $\\sigma_\\bar{x}$ e pelo **nível de confiança** determinado para o processo."
      ]
    },
    {
      "cell_type": "markdown",
      "metadata": {
        "id": "m0Tfz7SZeH9_"
      },
      "source": [
        "## $$e = z \\frac{\\sigma}{\\sqrt{n}}$$"
      ]
    },
    {
      "cell_type": "markdown",
      "metadata": {
        "id": "BESfwENQeJM4"
      },
      "source": [
        "Suponha que a densidade do vinho se distribui aproximadamente como uma normal. Calcule o desvio padrão e a média de uma amostra de 1000 elementos. Construa um intervalo de confiança para a média populacional assumindo um **nível de significância de 5%**."
      ]
    },
    {
      "cell_type": "code",
      "metadata": {
        "id": "PXpiUEddeKEM"
      },
      "source": [
        "#Definindo uma amostra com n = 1000 e uma seed random_state = 202\r\n",
        "\r\n",
        "amostra = vinho.sample(n = 1000, random_state = 202)"
      ],
      "execution_count": 63,
      "outputs": []
    },
    {
      "cell_type": "code",
      "metadata": {
        "id": "JFfjxNMzeNV4"
      },
      "source": [
        "desvio_padrao = amostra['density'].std()"
      ],
      "execution_count": 32,
      "outputs": []
    },
    {
      "cell_type": "code",
      "metadata": {
        "colab": {
          "base_uri": "https://localhost:8080/",
          "height": 282
        },
        "id": "l7Q-dxgheRLg",
        "outputId": "f2232c68-c092-4c4d-c3c4-92e2d43325be"
      },
      "source": [
        "amostra['density'].hist()"
      ],
      "execution_count": 33,
      "outputs": [
        {
          "output_type": "execute_result",
          "data": {
            "text/plain": [
              "<matplotlib.axes._subplots.AxesSubplot at 0x7f29917659b0>"
            ]
          },
          "metadata": {
            "tags": []
          },
          "execution_count": 33
        },
        {
          "output_type": "display_data",
          "data": {
            "image/png": "[encoded data removed]",
            "text/plain": [
              "<Figure size 432x288 with 1 Axes>"
            ]
          },
          "metadata": {
            "tags": [],
            "needs_background": "light"
          }
        }
      ]
    },
    {
      "cell_type": "code",
      "metadata": {
        "id": "w6Tkwq5ieUAo"
      },
      "source": [
        "significancia = 0.05"
      ],
      "execution_count": 34,
      "outputs": []
    },
    {
      "cell_type": "code",
      "metadata": {
        "id": "flutWmrOeVzq"
      },
      "source": [
        "confianca = 1 - significancia"
      ],
      "execution_count": 35,
      "outputs": []
    },
    {
      "cell_type": "code",
      "metadata": {
        "id": "oKjFyW_WnZKT"
      },
      "source": [
        "n = 1000"
      ],
      "execution_count": 40,
      "outputs": []
    },
    {
      "cell_type": "markdown",
      "metadata": {
        "id": "n2gZ7SQxeYk-"
      },
      "source": [
        "### Obtendo z - Tabela normal padronizada.\r\n",
        "\r\n",
        "![alt text](https://caelum-online-public.s3.amazonaws.com/1178-estatistica-parte2/01/img008.png)\r\n",
        "\r\n",
        "### Valores de $z$ para os níveis de confiança mais utilizados\r\n",
        "\r\n",
        "|Nível de<br>confiança|Valor da área sob<br>a curva normal| $z$ |\r\n",
        "|:----------------:|:---------------------------------:|:---:|\r\n",
        "|90%               |0,95                               |1,645|\r\n",
        "|95%               |0,975                              |1,96 |\r\n",
        "|99%               |0,995                              |2,575|"
      ]
    },
    {
      "cell_type": "code",
      "metadata": {
        "id": "Z32w3KwLneBO"
      },
      "source": [
        "#Importando a numpy para fazer a raiz quadrada\r\n",
        "\r\n",
        "import numpy as np"
      ],
      "execution_count": 38,
      "outputs": []
    },
    {
      "cell_type": "code",
      "metadata": {
        "id": "QvoSsCSRngXR"
      },
      "source": [
        "sigma = desvio_padrao / np.sqrt(n)"
      ],
      "execution_count": 41,
      "outputs": []
    },
    {
      "cell_type": "markdown",
      "metadata": {
        "id": "dMn1oVMDnsxL"
      },
      "source": [
        "obtendo o $e$"
      ]
    },
    {
      "cell_type": "code",
      "metadata": {
        "id": "yuLV34uCnvEP"
      },
      "source": [
        "z = 1.96"
      ],
      "execution_count": 43,
      "outputs": []
    },
    {
      "cell_type": "code",
      "metadata": {
        "id": "pRMYEdSLnyHn"
      },
      "source": [
        "erro = z * sigma"
      ],
      "execution_count": 44,
      "outputs": []
    },
    {
      "cell_type": "code",
      "metadata": {
        "colab": {
          "base_uri": "https://localhost:8080/"
        },
        "id": "sIokLOhmn09u",
        "outputId": "0284c09c-21d3-41d5-b38a-a6d5cc34e445"
      },
      "source": [
        "erro"
      ],
      "execution_count": 45,
      "outputs": [
        {
          "output_type": "execute_result",
          "data": {
            "text/plain": [
              "0.00011422344106370019"
            ]
          },
          "metadata": {
            "tags": []
          },
          "execution_count": 45
        }
      ]
    },
    {
      "cell_type": "markdown",
      "metadata": {
        "id": "YN0sVa9UefGp"
      },
      "source": [
        "### Calculando o intervalo de confiança"
      ]
    },
    {
      "cell_type": "code",
      "metadata": {
        "id": "L0wBCkk3efvF"
      },
      "source": [
        "media_amostra = amostra['density'].mean()"
      ],
      "execution_count": 46,
      "outputs": []
    },
    {
      "cell_type": "code",
      "metadata": {
        "id": "LNiO-uYjeiWA"
      },
      "source": [
        "intervalo = [media_amostra - erro, media_amostra + erro]"
      ],
      "execution_count": 47,
      "outputs": []
    },
    {
      "cell_type": "code",
      "metadata": {
        "colab": {
          "base_uri": "https://localhost:8080/"
        },
        "id": "fgi77sdpem0i",
        "outputId": "c5cda72e-1d49-46e3-bd3e-bcfc0a950932"
      },
      "source": [
        "intervalo"
      ],
      "execution_count": 48,
      "outputs": [
        {
          "output_type": "execute_result",
          "data": {
            "text/plain": [
              "[0.9965902065589372, 0.9968186534410646]"
            ]
          },
          "metadata": {
            "tags": []
          },
          "execution_count": 48
        }
      ]
    },
    {
      "cell_type": "code",
      "metadata": {
        "id": "-ZECYU9ZensB"
      },
      "source": [
        "#Forma alternativa utilizando a scipy com a norm para calcular no intervalo\r\n",
        "\r\n",
        "from scipy.stats import norm"
      ],
      "execution_count": 49,
      "outputs": []
    },
    {
      "cell_type": "code",
      "metadata": {
        "colab": {
          "base_uri": "https://localhost:8080/"
        },
        "id": "9zOay0i8epGQ",
        "outputId": "29180559-f901-42e7-b3eb-2e3835bb11ff"
      },
      "source": [
        "norm.interval(alpha=0.95, loc=media_amostra, scale=sigma)"
      ],
      "execution_count": 51,
      "outputs": [
        {
          "output_type": "execute_result",
          "data": {
            "text/plain": [
              "(0.9965902086578197, 0.9968186513421821)"
            ]
          },
          "metadata": {
            "tags": []
          },
          "execution_count": 51
        }
      ]
    },
    {
      "cell_type": "markdown",
      "metadata": {
        "id": "UsvszGfqevWG"
      },
      "source": [
        "## Calculando o tamanho da amostra"
      ]
    },
    {
      "cell_type": "markdown",
      "metadata": {
        "id": "PbMRG519ew3w"
      },
      "source": [
        "Vamos assumir que queremos um erro máximo de 0.0001, nível de confiança de 95% e o desvio padrão populacional é 0.0019."
      ]
    },
    {
      "cell_type": "markdown",
      "metadata": {
        "id": "dajJFVazexuh"
      },
      "source": [
        "\\begin{equation}\r\n",
        "e = z \\frac{\\sigma}{\\sqrt{n}}\r\n",
        "\\end{equation}\r\n",
        "Com desvio padrão conhecido\r\n",
        "\\begin{equation}\r\n",
        "n = \\left( z \\frac{\\sigma}{e} \\right)^2\r\n",
        "\\end{equation}\r\n",
        "Com desvio padrão desconhecido\r\n",
        "\\begin{equation}\r\n",
        "n = \\left( z \\frac{s}{e} \\right)^2\r\n",
        "\\end{equation}\r\n"
      ]
    },
    {
      "cell_type": "code",
      "metadata": {
        "colab": {
          "base_uri": "https://localhost:8080/"
        },
        "id": "FQh_XL95eyuJ",
        "outputId": "99356420-b961-41e7-8ac1-edbc2da1741f"
      },
      "source": [
        "0.95 + 0.025"
      ],
      "execution_count": 52,
      "outputs": [
        {
          "output_type": "execute_result",
          "data": {
            "text/plain": [
              "0.975"
            ]
          },
          "metadata": {
            "tags": []
          },
          "execution_count": 52
        }
      ]
    },
    {
      "cell_type": "code",
      "metadata": {
        "id": "qPliMvRfe2DC"
      },
      "source": [
        "#Passamos a área debaixo da curva para o ppf que é de 0.95 + 0.025 (pedaço inicial)\r\n",
        "\r\n",
        "z = norm.ppf(0.975)"
      ],
      "execution_count": 53,
      "outputs": []
    },
    {
      "cell_type": "code",
      "metadata": {
        "id": "TJn8Ij2Ze4Nw"
      },
      "source": [
        "sigma = 0.0019"
      ],
      "execution_count": 54,
      "outputs": []
    },
    {
      "cell_type": "code",
      "metadata": {
        "id": "capLvqzVe5oo"
      },
      "source": [
        "erro = 0.0001"
      ],
      "execution_count": 55,
      "outputs": []
    },
    {
      "cell_type": "code",
      "metadata": {
        "id": "fAzjlS2ge6sy"
      },
      "source": [
        "n = (z*sigma / erro)**2"
      ],
      "execution_count": 56,
      "outputs": []
    },
    {
      "cell_type": "code",
      "metadata": {
        "colab": {
          "base_uri": "https://localhost:8080/"
        },
        "id": "akaZl3-Ie9c9",
        "outputId": "b4600e97-fef6-42f3-e8df-65bd0fe04687"
      },
      "source": [
        "n"
      ],
      "execution_count": 57,
      "outputs": [
        {
          "output_type": "execute_result",
          "data": {
            "text/plain": [
              "1386.766634270579"
            ]
          },
          "metadata": {
            "tags": []
          },
          "execution_count": 57
        }
      ]
    },
    {
      "cell_type": "markdown",
      "metadata": {
        "id": "oZFTjorNfAMG"
      },
      "source": [
        "## População finita\r\n",
        "\\begin{equation}\r\n",
        "n = \\frac{z^2 \\sigma^2 N}{z^2 \\sigma^2 + e^2(N-1)}\r\n",
        "\r\n",
        "\\end{equation}\r\n",
        "\r\n",
        "onde N = numero máximo da população"
      ]
    },
    {
      "cell_type": "code",
      "metadata": {
        "id": "uZPxBdNnfBCN"
      },
      "source": [
        "N = 1500"
      ],
      "execution_count": 58,
      "outputs": []
    },
    {
      "cell_type": "code",
      "metadata": {
        "colab": {
          "base_uri": "https://localhost:8080/"
        },
        "id": "D6TDrGNifC7U",
        "outputId": "0527a547-4e1a-4810-c242-71481ba73ae1"
      },
      "source": [
        "((z**2)*(sigma**2)*N) / ((z**2)*(sigma**2) + (erro**2)*(N-1))"
      ],
      "execution_count": 59,
      "outputs": [
        {
          "output_type": "execute_result",
          "data": {
            "text/plain": [
              "720.8309662682263"
            ]
          },
          "metadata": {
            "tags": []
          },
          "execution_count": 59
        }
      ]
    },
    {
      "cell_type": "markdown",
      "metadata": {
        "id": "DdyAPjuVtXUi"
      },
      "source": [
        "# Teste de Normalidade"
      ]
    },
    {
      "cell_type": "code",
      "metadata": {
        "id": "MtMWFwfytbgS"
      },
      "source": [
        "url = 'https://raw.githubusercontent.com/allanspadini/linear_estatistica/main/winequality-red.csv'"
      ],
      "execution_count": null,
      "outputs": []
    },
    {
      "cell_type": "code",
      "metadata": {
        "id": "NNWuIqZItdRd"
      },
      "source": [
        "import pandas as pd"
      ],
      "execution_count": null,
      "outputs": []
    },
    {
      "cell_type": "code",
      "metadata": {
        "id": "1hULus9ctekz"
      },
      "source": [
        "vinho = pd.read_csv(url, sep=';')"
      ],
      "execution_count": null,
      "outputs": []
    },
    {
      "cell_type": "code",
      "metadata": {
        "id": "LqkysNhBtfJw"
      },
      "source": [
        "vinho.head()"
      ],
      "execution_count": null,
      "outputs": []
    },
    {
      "cell_type": "markdown",
      "metadata": {
        "id": "IQg80dMOtf4B"
      },
      "source": [
        "## Teste de normalidade"
      ]
    },
    {
      "cell_type": "code",
      "metadata": {
        "id": "V7_ou0nRtiws"
      },
      "source": [
        "vinho['density'].hist(bins=50)"
      ],
      "execution_count": null,
      "outputs": []
    },
    {
      "cell_type": "code",
      "metadata": {
        "id": "stQSoIEWtjtc"
      },
      "source": [
        "from scipy.stats import normaltest"
      ],
      "execution_count": null,
      "outputs": []
    },
    {
      "cell_type": "markdown",
      "metadata": {
        "id": "YnrPJ9TJtk37"
      },
      "source": [
        "O normaltest testa a hipótese nula $H_0$ de que a amostra é proveniente de uma distribuição normal. "
      ]
    },
    {
      "cell_type": "markdown",
      "metadata": {
        "id": "Vt2L9yqqtqXI"
      },
      "source": [
        "### Significância ($\\alpha$)"
      ]
    },
    {
      "cell_type": "code",
      "metadata": {
        "id": "98ULvTJZtotZ"
      },
      "source": [
        "significancia = 0.05"
      ],
      "execution_count": null,
      "outputs": []
    },
    {
      "cell_type": "markdown",
      "metadata": {
        "id": "t7Wckl5ktslU"
      },
      "source": [
        "### Rejeitamos $H_0$ se o valor $p \\leq 0,05$ e aceitamos a hipótese alternativa $H_1$"
      ]
    },
    {
      "cell_type": "code",
      "metadata": {
        "id": "BtTub-3htvJ_"
      },
      "source": [
        "stat_test,p_valor= normaltest(vinho['density'])"
      ],
      "execution_count": null,
      "outputs": []
    },
    {
      "cell_type": "code",
      "metadata": {
        "id": "Wt3uUyJStwQ0"
      },
      "source": [
        "stat_test"
      ],
      "execution_count": null,
      "outputs": []
    },
    {
      "cell_type": "code",
      "metadata": {
        "id": "gli34RRWtxVr"
      },
      "source": [
        "p_valor <= significancia"
      ],
      "execution_count": null,
      "outputs": []
    },
    {
      "cell_type": "code",
      "metadata": {
        "id": "YqF2zJn7tyPH"
      },
      "source": [
        "import numpy as np"
      ],
      "execution_count": null,
      "outputs": []
    },
    {
      "cell_type": "code",
      "metadata": {
        "id": "M3x-HSCgty6G"
      },
      "source": [
        "media, escala = 0, 0.1"
      ],
      "execution_count": null,
      "outputs": []
    },
    {
      "cell_type": "code",
      "metadata": {
        "id": "-au3PRz9tzmw"
      },
      "source": [
        "dist_normal = np.random.normal(media, escala,1000)"
      ],
      "execution_count": null,
      "outputs": []
    },
    {
      "cell_type": "code",
      "metadata": {
        "id": "l8MjBxHgt0Ph"
      },
      "source": [
        "normaltest(dist_normal)"
      ],
      "execution_count": null,
      "outputs": []
    },
    {
      "cell_type": "markdown",
      "metadata": {
        "id": "ZCei6YaAt1yH"
      },
      "source": [
        "## Testes paramétricos"
      ]
    },
    {
      "cell_type": "markdown",
      "metadata": {
        "id": "wteP2fj0t3OG"
      },
      "source": [
        "### Teste Bicaudal"
      ]
    },
    {
      "cell_type": "markdown",
      "metadata": {
        "id": "RJe1bRoSt4X0"
      },
      "source": [
        "Este teste é muito utilizado em **testes de qualidade**. Outro exemplo é a avaliação de peças que devem ter um encaixe perfeito (porcas e parafusos, chaves e fechaduras)."
      ]
    },
    {
      "cell_type": "markdown",
      "metadata": {
        "id": "BGADq43yt59s"
      },
      "source": [
        "### <font color='red'>Problema</font>"
      ]
    },
    {
      "cell_type": "markdown",
      "metadata": {
        "id": "BBfXDpe2t7Un"
      },
      "source": [
        "Nossa produtora de vinhos produz garrafas de 500 ml. Seu processo de produção é quase todo automatizado e as garrafas são preenchidas por uma máquina que às vezes apresenta um certo desajuste, levando a erros no preenchimento das mesmas para mais ou menos conteúdo. Quando o volume médio cai abaixo de 500 ml, a empresa se preocupa em perder vendas e ter problemas com os orgãos fiscalizadores. Quando o volume passa de 500 ml, a empresa começa a se preocupar com prejuízos no processo de produção.\r\n",
        "\r\n",
        "O setor de controle de qualidade da empresa extrai, periodicamente, amostras de 50 garrafas para monitorar o processo de produção. Para cada amostra, é realizado um teste de hipóteses para avaliar se o maquinário se desajustou. A equipe de controle de qualidade assume um nível de significância de 5%.\r\n",
        "\r\n",
        "Suponha agora que uma amostra de 50 embalagens foi selecionada e que a média amostral observada foi de 503,24 ml. Esse valor de média amostral é suficientemente maior que 500 ml para nos fazer rejeitar a hipótese de que a média do processo é de 500 ml ao nível de significância de 5%?"
      ]
    },
    {
      "cell_type": "markdown",
      "metadata": {
        "id": "83p5YzSnt8Ui"
      },
      "source": [
        "![Teste Bicaudal](https://caelum-online-public.s3.amazonaws.com/1229-estatistica-parte3/01/img005.png)"
      ]
    },
    {
      "cell_type": "code",
      "metadata": {
        "id": "H8S5rLJWt9VX"
      },
      "source": [
        "amostra = [509, 505, 495, 510, 496, 509, 497, 502, 503, 505, \r\n",
        "           501, 505, 510, 505, 504, 497, 506, 506, 508, 505, \r\n",
        "           497, 504, 500, 498, 506, 496, 508, 497, 503, 501, \r\n",
        "           503, 506, 499, 498, 509, 507, 503, 499, 509, 495, \r\n",
        "           502, 505, 504, 509, 508, 501, 505, 497, 508, 507]"
      ],
      "execution_count": null,
      "outputs": []
    },
    {
      "cell_type": "code",
      "metadata": {
        "id": "of0G9TlQt-iO"
      },
      "source": [
        "amostra = pd.DataFrame(amostra, columns=['Amostra'])\r\n",
        "amostra.head()"
      ],
      "execution_count": null,
      "outputs": []
    },
    {
      "cell_type": "code",
      "metadata": {
        "id": "hAJDcLavt_3Q"
      },
      "source": [
        "media_amostra = amostra.mean()[0]\r\n",
        "media_amostra"
      ],
      "execution_count": null,
      "outputs": []
    },
    {
      "cell_type": "code",
      "metadata": {
        "id": "fgCjy4bvuAuM"
      },
      "source": [
        "desvio_padrao_amostra = amostra.std()[0]\r\n",
        "desvio_padrao_amostra"
      ],
      "execution_count": null,
      "outputs": []
    },
    {
      "cell_type": "code",
      "metadata": {
        "id": "kswg-lSUuBPY"
      },
      "source": [
        "media = 500\r\n",
        "significancia = 0.05\r\n",
        "confianca = 1 - significancia\r\n",
        "n = 50"
      ],
      "execution_count": null,
      "outputs": []
    },
    {
      "cell_type": "markdown",
      "metadata": {
        "id": "Tgt2T0auuCVN"
      },
      "source": [
        "### **Passo 1** - formulação das hipóteses $H_0$ e $H_1$\r\n",
        "\r\n",
        "#### <font color='red'>Lembre-se, a hipótese nula sempre contém a alegação de igualdade</font>"
      ]
    },
    {
      "cell_type": "markdown",
      "metadata": {
        "id": "bO8WcUpHuDZq"
      },
      "source": [
        "### $H_0: \\mu = 500$\r\n",
        "\r\n",
        "### $H_1: \\mu \\neq 500$"
      ]
    },
    {
      "cell_type": "markdown",
      "metadata": {
        "id": "NuS7st5yuE2L"
      },
      "source": [
        "### **Passo 2** - escolha da distribuição amostral adequada\r\n",
        "<img src='https://caelum-online-public.s3.amazonaws.com/1229-estatistica-parte3/01/img003.png' width=70%>"
      ]
    },
    {
      "cell_type": "markdown",
      "metadata": {
        "id": "n26HC6pfuGnu"
      },
      "source": [
        "### O tamanho da amostra é maior que 30?\r\n",
        "#### Resp.: Sim\r\n",
        "\r\n",
        "### O desvio padrão populacional é conhecido?\r\n",
        "#### Resp.: Não"
      ]
    },
    {
      "cell_type": "markdown",
      "metadata": {
        "id": "wfMzeOCIuH3z"
      },
      "source": [
        "### **Passo 3** - fixação da significância do teste ($\\alpha$)"
      ]
    },
    {
      "cell_type": "code",
      "metadata": {
        "id": "RNSGgPyvuJyT"
      },
      "source": [
        "from scipy.stats import norm"
      ],
      "execution_count": null,
      "outputs": []
    },
    {
      "cell_type": "code",
      "metadata": {
        "id": "J0KvX-E2uKi-"
      },
      "source": [
        "probabilidade = (0.5 + (confianca / 2))\r\n",
        "probabilidade"
      ],
      "execution_count": null,
      "outputs": []
    },
    {
      "cell_type": "markdown",
      "metadata": {
        "id": "-cyIbkxNuMSh"
      },
      "source": [
        "### Obtendo $z_{\\alpha/2}$"
      ]
    },
    {
      "cell_type": "code",
      "metadata": {
        "id": "jGoUv_EEuNGK"
      },
      "source": [
        "z_alpha_2 = norm.ppf(probabilidade)\r\n",
        "z_alpha_2"
      ],
      "execution_count": null,
      "outputs": []
    },
    {
      "cell_type": "markdown",
      "metadata": {
        "id": "ZLmdA2PBuOCl"
      },
      "source": [
        "![Região de Aceitação](https://caelum-online-public.s3.amazonaws.com/1229-estatistica-parte3/01/img006.png)"
      ]
    },
    {
      "cell_type": "markdown",
      "metadata": {
        "id": "CvsQMkT2uP6v"
      },
      "source": [
        "### **Passo 4** - cálculo da estatística-teste e verificação desse valor com as áreas de aceitação e rejeição do teste\r\n",
        "\r\n",
        "# $$z = \\frac{\\bar{x} - \\mu_0}{\\frac{s}{\\sqrt{n}}}$$"
      ]
    },
    {
      "cell_type": "code",
      "metadata": {
        "id": "4bXrkG_iuRRg"
      },
      "source": [
        "z = (media_amostra - media) / (desvio_padrao_amostra / np.sqrt(n))\r\n",
        "z"
      ],
      "execution_count": null,
      "outputs": []
    },
    {
      "cell_type": "markdown",
      "metadata": {
        "id": "jLgOVySnuSLr"
      },
      "source": [
        "![Estatística-Teste](https://caelum-online-public.s3.amazonaws.com/1229-estatistica-parte3/01/img007.png)"
      ]
    },
    {
      "cell_type": "markdown",
      "metadata": {
        "id": "Gw-5xWAGuTj-"
      },
      "source": [
        "### **Passo 5** - Aceitação ou rejeição da hipótese nula"
      ]
    },
    {
      "cell_type": "markdown",
      "metadata": {
        "id": "xkj3bOKLuV8B"
      },
      "source": [
        "<img src='https://caelum-online-public.s3.amazonaws.com/1229-estatistica-parte3/01/img013.png' width=90%>"
      ]
    },
    {
      "cell_type": "markdown",
      "metadata": {
        "id": "or_uyJz2uXnQ"
      },
      "source": [
        "### <font color='red'>Critério do valor crítico</font>\r\n",
        "\r\n",
        "> ### Teste Bicaudal\r\n",
        "> ### Rejeitar $H_0$ se $z \\leq -z_{\\alpha / 2}$ ou se $z \\geq z_{\\alpha / 2}$"
      ]
    },
    {
      "cell_type": "code",
      "metadata": {
        "id": "RzGUkD-7ua5k"
      },
      "source": [
        "z <= -z_alpha_2"
      ],
      "execution_count": null,
      "outputs": []
    },
    {
      "cell_type": "code",
      "metadata": {
        "id": "QGooiavlubu-"
      },
      "source": [
        "z >= z_alpha_2"
      ],
      "execution_count": null,
      "outputs": []
    },
    {
      "cell_type": "markdown",
      "metadata": {
        "id": "_iKxDbbKuchl"
      },
      "source": [
        "### <font color='green'>Conclusão: Como a média amostral $\\bar{x}$ é significativamente maior que 500 ml, rejeitamos $H_0$. Neste caso, devem ser tomadas providências para ajustar o maquinário que preenche as embalagens.</font>"
      ]
    },
    {
      "cell_type": "markdown",
      "metadata": {
        "id": "qy0xAKB6uecW"
      },
      "source": [
        "### <font color='red'>Critério do $p-valor$</font>\r\n",
        "\r\n",
        "> ### Teste Bicaudal\r\n",
        "> ### Rejeitar $H_0$ se o valor $p\\leq\\alpha$"
      ]
    },
    {
      "cell_type": "code",
      "metadata": {
        "id": "pvIK2h_eufcT"
      },
      "source": [
        "p_valor = 2 * (1 - norm.cdf(z))\r\n",
        "p_valor"
      ],
      "execution_count": null,
      "outputs": []
    },
    {
      "cell_type": "code",
      "metadata": {
        "id": "SPpF0t-xugoX"
      },
      "source": [
        "p_valor = 2 * (norm.sf(z))\r\n",
        "p_valor"
      ],
      "execution_count": null,
      "outputs": []
    },
    {
      "cell_type": "code",
      "metadata": {
        "id": "28ij5-8xuhcW"
      },
      "source": [
        "p_valor <= significancia"
      ],
      "execution_count": null,
      "outputs": []
    },
    {
      "cell_type": "markdown",
      "metadata": {
        "id": "A_eksjgQuik2"
      },
      "source": [
        "### Ztest"
      ]
    },
    {
      "cell_type": "code",
      "metadata": {
        "id": "rTLhvIW8ujjZ"
      },
      "source": [
        "from statsmodels.stats.weightstats import ztest"
      ],
      "execution_count": null,
      "outputs": []
    },
    {
      "cell_type": "code",
      "metadata": {
        "id": "1zbkHOvAukYu"
      },
      "source": [
        "ztest(x1 = amostra, value = media)"
      ],
      "execution_count": null,
      "outputs": []
    },
    {
      "cell_type": "markdown",
      "metadata": {
        "id": "p9Ppo-BYuldP"
      },
      "source": [
        "### Teste unicaudal"
      ]
    },
    {
      "cell_type": "markdown",
      "metadata": {
        "id": "983wfWXQumqz"
      },
      "source": [
        "## <font color='red'>Problema</font>\r\n",
        "\r\n",
        "Nossa fábrica de vinho agora está produzindo mii garrafas de 350 ml de seu principal produto que contém, no máximo, 37 gramas de açúcar. Esta alegação nos leva a entender que a quantidade média de açúcar em uma garrafa deve ser igual ou menor que 37 g.\r\n",
        "\r\n",
        "Um consumidor desconfiado e com conhecimentos em inferência estatística resolve testar a alegação do fabricante e seleciona, aleatóriamente, em um conjunto de estabelecimentos distintos, uma amostra de 25 garrafas. Utilizando o equipamento correto o consumidor obteve as quantidades de açúcar em todas as 25 amostras.\r\n",
        "\r\n",
        "Assumindo que essa população se distribua aproximadamente como uma normal e considerando um nível de significância de 5%, é possível aceitar como válida a alegação do fabricante?"
      ]
    },
    {
      "cell_type": "markdown",
      "metadata": {
        "id": "H_2YrLBguooV"
      },
      "source": [
        "### Construindo tabela $t$ de Student"
      ]
    },
    {
      "cell_type": "code",
      "metadata": {
        "id": "qnGMOOwjuphM"
      },
      "source": [
        "import pandas as pd\r\n",
        "from scipy.stats import t as t_student\r\n",
        "\r\n",
        "tabela_t_student = pd.DataFrame(\r\n",
        "    [], \r\n",
        "    index=[i for i in range(1, 31)],\r\n",
        "    columns = [i / 100 for i in range(10, 0, -1)]\r\n",
        ")\r\n",
        "\r\n",
        "for index in tabela_t_student.index:\r\n",
        "    for column in tabela_t_student.columns:\r\n",
        "        tabela_t_student.loc[index, column] = t_student.ppf(1 - float(column) / 2, index)\r\n",
        "\r\n",
        "index=[('Graus de Liberdade (n - 1)', i) for i in range(1, 31)]\r\n",
        "tabela_t_student.index = pd.MultiIndex.from_tuples(index)\r\n",
        "\r\n",
        "columns = [(\"{0:0.3f}\".format(i / 100), \"{0:0.3f}\".format((i / 100) / 2)) for i in range(10, 0, -1)]\r\n",
        "tabela_t_student.columns = pd.MultiIndex.from_tuples(columns)\r\n",
        "\r\n",
        "tabela_t_student.rename_axis(['Bicaudal', 'Unicaudal'], axis=1, inplace = True)\r\n",
        "\r\n",
        "tabela_t_student"
      ],
      "execution_count": null,
      "outputs": []
    },
    {
      "cell_type": "markdown",
      "metadata": {
        "id": "6jAsfxVxurAQ"
      },
      "source": [
        "<img src='https://caelum-online-public.s3.amazonaws.com/1229-estatistica-parte3/01/img004.png' width='250px'>\r\n",
        "\r\n",
        "As células da tabela acima são valores de $t$ para uma área ou probabilidade na cauda superior da distribuição $t$."
      ]
    },
    {
      "cell_type": "markdown",
      "metadata": {
        "id": "Y2bmpafFus9k"
      },
      "source": [
        "Os **testes unicaudais** verificam as variáveis em relação a um piso ou a um teto e avaliam os valores máximos ou mínimos esperados para os parâmetros em estudo e a chance de as estatísticas amostrais serem inferiores ou superiores a dado limite."
      ]
    },
    {
      "cell_type": "markdown",
      "metadata": {
        "id": "HHhP3z2huwI5"
      },
      "source": [
        "<img src='https://caelum-online-public.s3.amazonaws.com/1229-estatistica-parte3/01/img008.png' width='700px'>"
      ]
    },
    {
      "cell_type": "markdown",
      "metadata": {
        "id": "ebUM65pmuyqo"
      },
      "source": [
        "### Dados do problema"
      ]
    },
    {
      "cell_type": "code",
      "metadata": {
        "id": "5TJyKyqhuzfk"
      },
      "source": [
        "amostra = [37.27, 36.42, 34.84, 34.60, 37.49, \r\n",
        "           36.53, 35.49, 36.90, 34.52, 37.30, \r\n",
        "           34.99, 36.55, 36.29, 36.06, 37.42, \r\n",
        "           34.47, 36.70, 35.86, 36.80, 36.92, \r\n",
        "           37.04, 36.39, 37.32, 36.64, 35.45]"
      ],
      "execution_count": null,
      "outputs": []
    },
    {
      "cell_type": "code",
      "metadata": {
        "id": "I8CJlRgOu0Hj"
      },
      "source": [
        "amostra = pd.DataFrame(amostra, columns=['Amostra'])\r\n",
        "amostra"
      ],
      "execution_count": null,
      "outputs": []
    },
    {
      "cell_type": "code",
      "metadata": {
        "id": "M0k9xGbou06X"
      },
      "source": [
        "media_amostra = amostra.mean()"
      ],
      "execution_count": null,
      "outputs": []
    },
    {
      "cell_type": "code",
      "metadata": {
        "id": "a1wiY1sxu1fY"
      },
      "source": [
        "desvio_padrao_amostra = amostra.std()"
      ],
      "execution_count": null,
      "outputs": []
    },
    {
      "cell_type": "code",
      "metadata": {
        "id": "4TkddXFRu2IY"
      },
      "source": [
        "media = 37\r\n",
        "significancia = 0.05\r\n",
        "confianca = 1 - significancia\r\n",
        "n = 25\r\n",
        "graus_de_liberdade = n - 1"
      ],
      "execution_count": null,
      "outputs": []
    },
    {
      "cell_type": "markdown",
      "metadata": {
        "id": "am-KNcgdu3A0"
      },
      "source": [
        "#### <font color='red'>Lembre-se, a hipótese nula sempre contém a alegação de igualdade</font>\r\n",
        "\r\n",
        "### $H_0: \\mu \\leq 37$\r\n",
        "\r\n",
        "### $H_1: \\mu > 37$"
      ]
    },
    {
      "cell_type": "markdown",
      "metadata": {
        "id": "TnitIoBzu4As"
      },
      "source": [
        "### **Passo 2** - escolha da distribuição amostral adequada\r\n",
        "<img src='https://caelum-online-public.s3.amazonaws.com/1229-estatistica-parte3/01/img003.png' width=70%>"
      ]
    },
    {
      "cell_type": "markdown",
      "metadata": {
        "id": "ICJAKFmWu5pu"
      },
      "source": [
        "### **Passo 3** - fixação da significância do teste ($\\alpha$)"
      ]
    },
    {
      "cell_type": "code",
      "metadata": {
        "id": "Nki6B2f_u6j0"
      },
      "source": [
        "from scipy.stats import t as t_student"
      ],
      "execution_count": null,
      "outputs": []
    },
    {
      "cell_type": "code",
      "metadata": {
        "id": "XmhnDb50u7ET"
      },
      "source": [
        "tabela_t_student[22:25]"
      ],
      "execution_count": null,
      "outputs": []
    },
    {
      "cell_type": "markdown",
      "metadata": {
        "id": "i_Qnij0-u8wI"
      },
      "source": [
        "### Obtendo $t_{\\alpha}$"
      ]
    },
    {
      "cell_type": "code",
      "metadata": {
        "id": "h2AQFbBMu9V5"
      },
      "source": [
        "t_alpha = t_student.ppf(confianca, graus_de_liberdade)\r\n",
        "t_alpha"
      ],
      "execution_count": null,
      "outputs": []
    },
    {
      "cell_type": "markdown",
      "metadata": {
        "id": "FvGuO3DRu-zR"
      },
      "source": [
        "![Região de Aceitação](https://caelum-online-public.s3.amazonaws.com/1229-estatistica-parte3/01/img009.png)"
      ]
    },
    {
      "cell_type": "markdown",
      "metadata": {
        "id": "kDIO2FDXvASp"
      },
      "source": [
        "### **Passo 4** - cálculo da estatística-teste e verificação desse valor com as áreas de aceitação e rejeição do teste\r\n",
        "\r\n",
        "# $$t = \\frac{\\bar{x} - \\mu_0}{\\frac{s}{\\sqrt{n}}}$$"
      ]
    },
    {
      "cell_type": "code",
      "metadata": {
        "id": "_3mItNREvBE6"
      },
      "source": [
        "t = (media_amostra - media) / (desvio_padrao_amostra / np.sqrt(n))\r\n",
        "t"
      ],
      "execution_count": null,
      "outputs": []
    },
    {
      "cell_type": "markdown",
      "metadata": {
        "id": "9SIAEu5RvB7L"
      },
      "source": [
        "![Estatística-Teste](https://caelum-online-public.s3.amazonaws.com/1229-estatistica-parte3/01/img010.png)"
      ]
    },
    {
      "cell_type": "markdown",
      "metadata": {
        "id": "gFEqVE96vDiM"
      },
      "source": [
        "### **Passo 5** - Aceitação ou rejeição da hipótese nula"
      ]
    },
    {
      "cell_type": "markdown",
      "metadata": {
        "id": "7gTiSxaNvEb4"
      },
      "source": [
        "<img src='https://caelum-online-public.s3.amazonaws.com/1229-estatistica-parte3/01/img013.png' width=90%>"
      ]
    },
    {
      "cell_type": "markdown",
      "metadata": {
        "id": "IOXuz9dCvGrS"
      },
      "source": [
        "### <font color='red'>Critério do valor crítico</font>\r\n",
        "\r\n",
        "> ### Teste Unicaudal Superior\r\n",
        "> ### Rejeitar $H_0$ se $t \\geq t_{\\alpha}$"
      ]
    },
    {
      "cell_type": "code",
      "metadata": {
        "id": "j8obriTRvHJ9"
      },
      "source": [
        "t >= t_alpha"
      ],
      "execution_count": null,
      "outputs": []
    },
    {
      "cell_type": "markdown",
      "metadata": {
        "id": "kkqG4ddRvH8N"
      },
      "source": [
        "### <font color='green'>Conclusão: Com um nível de confiança de 95% não podemos rejeitar $H_0$, ou seja, a alegação do fabricante é verdadeira.</font>"
      ]
    },
    {
      "cell_type": "markdown",
      "metadata": {
        "id": "lClaeE0HvJcj"
      },
      "source": [
        "### <font color='red'>Critério do valor $p$</font>\r\n",
        "\r\n",
        "> ### Teste Unicaudal Superior\r\n",
        "> ### Rejeitar $H_0$ se o valor $p\\leq\\alpha$"
      ]
    },
    {
      "cell_type": "code",
      "metadata": {
        "id": "y9kxasLmvKLM"
      },
      "source": [
        "t"
      ],
      "execution_count": null,
      "outputs": []
    },
    {
      "cell_type": "code",
      "metadata": {
        "id": "eyiuIosKvK1r"
      },
      "source": [
        "p_valor = t_student.sf(t, df = 24)\r\n",
        "p_valor"
      ],
      "execution_count": null,
      "outputs": []
    },
    {
      "cell_type": "code",
      "metadata": {
        "id": "yPo80ZLivLlW"
      },
      "source": [
        "p_valor <= significancia"
      ],
      "execution_count": null,
      "outputs": []
    },
    {
      "cell_type": "code",
      "metadata": {
        "id": "4UtRyH0VvMHs"
      },
      "source": [
        "from statsmodels.stats.weightstats import DescrStatsW"
      ],
      "execution_count": null,
      "outputs": []
    },
    {
      "cell_type": "code",
      "metadata": {
        "id": "TVH_TADyvMzU"
      },
      "source": [
        "test = DescrStatsW(amostra)"
      ],
      "execution_count": null,
      "outputs": []
    },
    {
      "cell_type": "code",
      "metadata": {
        "id": "B_sWCc6xvNm3"
      },
      "source": [
        "t, p_valor, df = test.ttest_mean(value = media, alternative = 'larger')\r\n",
        "print(t[0])\r\n",
        "print(p_valor[0])\r\n",
        "print(df)"
      ],
      "execution_count": null,
      "outputs": []
    },
    {
      "cell_type": "code",
      "metadata": {
        "id": "6t7lDt4DvObY"
      },
      "source": [
        "p_valor[0] <= significancia"
      ],
      "execution_count": null,
      "outputs": []
    }
  ]
}
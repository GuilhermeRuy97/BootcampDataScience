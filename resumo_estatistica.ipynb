{
  "nbformat": 4,
  "nbformat_minor": 0,
  "metadata": {
    "colab": {
      "name": "resumo_estatistica",
      "provenance": [],
      "toc_visible": true,
      "mount_file_id": "https://github.com/GuilhermeRuy97/BootcampDataScience/blob/main/resumo_estatistica.ipynb",
      "authorship_tag": "ABX9TyNtjLqMMB1AbVFgUr3UrkNy",
      "include_colab_link": true
    },
    "kernelspec": {
      "name": "python3",
      "display_name": "Python 3"
    }
  },
  "cells": [
    {
      "cell_type": "markdown",
      "metadata": {
        "id": "view-in-github",
        "colab_type": "text"
      },
      "source": [
        "<a href=\"https://colab.research.google.com/github/GuilhermeRuy97/BootcampDataScience/blob/main/resumo_estatistica.ipynb\" target=\"_parent\"><img src=\"https://colab.research.google.com/assets/colab-badge.svg\" alt=\"Open In Colab\"/></a>"
      ]
    },
    {
      "cell_type": "markdown",
      "metadata": {
        "id": "6GBdJSkdWJFT"
      },
      "source": [
        "# Média, moda e mediana"
      ]
    },
    {
      "cell_type": "markdown",
      "metadata": {
        "id": "BZ8jATtbnY61"
      },
      "source": [
        "Anotações extras:\r\n",
        "\r\n",
        "-Quando temos um outlier, podemos alterar seu valor para o valor da mediana da amostra, diminuindo o impacto negativo que teriamos.\r\n",
        "\r\n",
        "-Pelo fato da média ser muito influenciada por outliers, geralmente é comum utilizar a mediana para fazer comparações entre amostras."
      ]
    },
    {
      "cell_type": "markdown",
      "metadata": {
        "id": "vW9BrMWUoCRA"
      },
      "source": [
        "Além das medidas apresentadas, temos as médias geométrica e harmônica, além da média ponderada."
      ]
    },
    {
      "cell_type": "code",
      "metadata": {
        "colab": {
          "base_uri": "https://localhost:8080/"
        },
        "id": "l0fN5ut5Wg4q",
        "outputId": "7e2cab76-0fc6-4fb2-ac58-52949d3ae313"
      },
      "source": [
        "import pandas as pd\r\n",
        "from zipfile import ZipFile\r\n",
        "\r\n",
        "caminho = \"/content/drive/MyDrive/cursos/bootcampDSalura/dados modulo 3/PeNSE_2015_AMOSTRA2.zip\"\r\n",
        "zip = ZipFile(caminho)\r\n",
        "caminho_pasta_zipada = zip.namelist()[1]\r\n",
        "\r\n",
        "dados = pd.read_csv(zip.open(caminho_pasta_zipada), sep = \";\", thousands = \".\", decimal = \",\")\r\n",
        "dados.head()"
      ],
      "execution_count": null,
      "outputs": [
        {
          "output_type": "execute_result",
          "data": {
            "text/html": [
              "<div>\n",
              "<style scoped>\n",
              "    .dataframe tbody tr th:only-of-type {\n",
              "        vertical-align: middle;\n",
              "    }\n",
              "\n",
              "    .dataframe tbody tr th {\n",
              "        vertical-align: top;\n",
              "    }\n",
              "\n",
              "    .dataframe thead th {\n",
              "        text-align: right;\n",
              "    }\n",
              "</style>\n",
              "<table border=\"1\" class=\"dataframe\">\n",
              "  <thead>\n",
              "    <tr style=\"text-align: right;\">\n",
              "      <th></th>\n",
              "      <th>ANOPESQ</th>\n",
              "      <th>PAIS</th>\n",
              "      <th>REGEOGR</th>\n",
              "      <th>VB00004</th>\n",
              "      <th>VB01001</th>\n",
              "      <th>VB01002</th>\n",
              "      <th>VB01003</th>\n",
              "      <th>VB01004</th>\n",
              "      <th>VB01005</th>\n",
              "      <th>VB01006</th>\n",
              "      <th>VB01007</th>\n",
              "      <th>VB01008A</th>\n",
              "      <th>VB01010A</th>\n",
              "      <th>VB01011</th>\n",
              "      <th>VB01012</th>\n",
              "      <th>VB01013</th>\n",
              "      <th>VB01014</th>\n",
              "      <th>VB01015A</th>\n",
              "      <th>VB01016</th>\n",
              "      <th>VB01017</th>\n",
              "      <th>VB01018</th>\n",
              "      <th>VB01019</th>\n",
              "      <th>VB01020A</th>\n",
              "      <th>VB01021</th>\n",
              "      <th>VB01022</th>\n",
              "      <th>VB01023</th>\n",
              "      <th>VB01024</th>\n",
              "      <th>VB01025</th>\n",
              "      <th>VB01026</th>\n",
              "      <th>VB02001</th>\n",
              "      <th>VB02002</th>\n",
              "      <th>VB02004A</th>\n",
              "      <th>VB02010</th>\n",
              "      <th>VB02011</th>\n",
              "      <th>VB02013</th>\n",
              "      <th>VB02017A</th>\n",
              "      <th>VB02018A</th>\n",
              "      <th>VB02019A</th>\n",
              "      <th>VB02020A</th>\n",
              "      <th>VB02021</th>\n",
              "      <th>...</th>\n",
              "      <th>VB11005</th>\n",
              "      <th>VB11006</th>\n",
              "      <th>VB11007</th>\n",
              "      <th>VB12001</th>\n",
              "      <th>VB12002</th>\n",
              "      <th>VB12003</th>\n",
              "      <th>VB13001</th>\n",
              "      <th>VB13002A</th>\n",
              "      <th>VB13004A</th>\n",
              "      <th>VB13005</th>\n",
              "      <th>VB13006</th>\n",
              "      <th>VB13007</th>\n",
              "      <th>VB13008</th>\n",
              "      <th>VB13009</th>\n",
              "      <th>VB14001</th>\n",
              "      <th>VB14002</th>\n",
              "      <th>VB16001A01</th>\n",
              "      <th>VB16001A02</th>\n",
              "      <th>VB16001A03</th>\n",
              "      <th>VB16001A04</th>\n",
              "      <th>VB16001A05</th>\n",
              "      <th>VB16001A06</th>\n",
              "      <th>VB16001A07</th>\n",
              "      <th>VB16001A08</th>\n",
              "      <th>VB17001</th>\n",
              "      <th>VB17002</th>\n",
              "      <th>VB17003</th>\n",
              "      <th>VB17004</th>\n",
              "      <th>VB17005</th>\n",
              "      <th>VB17006</th>\n",
              "      <th>ESTRATO_EXP</th>\n",
              "      <th>ESTRATOGEOREG</th>\n",
              "      <th>PESO</th>\n",
              "      <th>V0006</th>\n",
              "      <th>V0007</th>\n",
              "      <th>V0008</th>\n",
              "      <th>V0041</th>\n",
              "      <th>aluno</th>\n",
              "      <th>escola</th>\n",
              "      <th>turma</th>\n",
              "    </tr>\n",
              "  </thead>\n",
              "  <tbody>\n",
              "    <tr>\n",
              "      <th>0</th>\n",
              "      <td>2015</td>\n",
              "      <td>76</td>\n",
              "      <td>1</td>\n",
              "      <td>1</td>\n",
              "      <td>2</td>\n",
              "      <td>1</td>\n",
              "      <td>13</td>\n",
              "      <td>7</td>\n",
              "      <td>7</td>\n",
              "      <td>1</td>\n",
              "      <td>2</td>\n",
              "      <td>7</td>\n",
              "      <td>3</td>\n",
              "      <td>2</td>\n",
              "      <td>-1</td>\n",
              "      <td>1</td>\n",
              "      <td>1</td>\n",
              "      <td>1</td>\n",
              "      <td>1</td>\n",
              "      <td>1</td>\n",
              "      <td>2</td>\n",
              "      <td>4</td>\n",
              "      <td>2</td>\n",
              "      <td>4</td>\n",
              "      <td>1</td>\n",
              "      <td>2</td>\n",
              "      <td>2</td>\n",
              "      <td>5</td>\n",
              "      <td>1</td>\n",
              "      <td>8</td>\n",
              "      <td>3</td>\n",
              "      <td>4</td>\n",
              "      <td>3</td>\n",
              "      <td>6</td>\n",
              "      <td>6</td>\n",
              "      <td>1</td>\n",
              "      <td>6</td>\n",
              "      <td>1</td>\n",
              "      <td>-1</td>\n",
              "      <td>2</td>\n",
              "      <td>...</td>\n",
              "      <td>2</td>\n",
              "      <td>1</td>\n",
              "      <td>2</td>\n",
              "      <td>1</td>\n",
              "      <td>1</td>\n",
              "      <td>4</td>\n",
              "      <td>2</td>\n",
              "      <td>-1</td>\n",
              "      <td>3</td>\n",
              "      <td>1</td>\n",
              "      <td>1</td>\n",
              "      <td>-1</td>\n",
              "      <td>1</td>\n",
              "      <td>1</td>\n",
              "      <td>2</td>\n",
              "      <td>2</td>\n",
              "      <td>1</td>\n",
              "      <td>2</td>\n",
              "      <td>2</td>\n",
              "      <td>2</td>\n",
              "      <td>2</td>\n",
              "      <td>2</td>\n",
              "      <td>2</td>\n",
              "      <td>2</td>\n",
              "      <td>371.0</td>\n",
              "      <td>1570.0</td>\n",
              "      <td>37.1</td>\n",
              "      <td>157.0</td>\n",
              "      <td>2</td>\n",
              "      <td>1</td>\n",
              "      <td>1223</td>\n",
              "      <td>1</td>\n",
              "      <td>299.735235</td>\n",
              "      <td>1</td>\n",
              "      <td>2</td>\n",
              "      <td>4</td>\n",
              "      <td>1</td>\n",
              "      <td>1</td>\n",
              "      <td>1</td>\n",
              "      <td>296</td>\n",
              "    </tr>\n",
              "    <tr>\n",
              "      <th>1</th>\n",
              "      <td>2015</td>\n",
              "      <td>76</td>\n",
              "      <td>1</td>\n",
              "      <td>1</td>\n",
              "      <td>2</td>\n",
              "      <td>1</td>\n",
              "      <td>14</td>\n",
              "      <td>4</td>\n",
              "      <td>7</td>\n",
              "      <td>1</td>\n",
              "      <td>1</td>\n",
              "      <td>7</td>\n",
              "      <td>3</td>\n",
              "      <td>2</td>\n",
              "      <td>-1</td>\n",
              "      <td>1</td>\n",
              "      <td>1</td>\n",
              "      <td>1</td>\n",
              "      <td>1</td>\n",
              "      <td>1</td>\n",
              "      <td>2</td>\n",
              "      <td>2</td>\n",
              "      <td>2</td>\n",
              "      <td>4</td>\n",
              "      <td>1</td>\n",
              "      <td>2</td>\n",
              "      <td>2</td>\n",
              "      <td>5</td>\n",
              "      <td>3</td>\n",
              "      <td>8</td>\n",
              "      <td>2</td>\n",
              "      <td>1</td>\n",
              "      <td>8</td>\n",
              "      <td>8</td>\n",
              "      <td>6</td>\n",
              "      <td>1</td>\n",
              "      <td>1</td>\n",
              "      <td>5</td>\n",
              "      <td>-1</td>\n",
              "      <td>2</td>\n",
              "      <td>...</td>\n",
              "      <td>2</td>\n",
              "      <td>3</td>\n",
              "      <td>2</td>\n",
              "      <td>4</td>\n",
              "      <td>4</td>\n",
              "      <td>4</td>\n",
              "      <td>1</td>\n",
              "      <td>2</td>\n",
              "      <td>3</td>\n",
              "      <td>3</td>\n",
              "      <td>1</td>\n",
              "      <td>-1</td>\n",
              "      <td>1</td>\n",
              "      <td>1</td>\n",
              "      <td>2</td>\n",
              "      <td>2</td>\n",
              "      <td>2</td>\n",
              "      <td>2</td>\n",
              "      <td>2</td>\n",
              "      <td>1</td>\n",
              "      <td>2</td>\n",
              "      <td>2</td>\n",
              "      <td>2</td>\n",
              "      <td>2</td>\n",
              "      <td>502.0</td>\n",
              "      <td>1520.0</td>\n",
              "      <td>50.2</td>\n",
              "      <td>152.0</td>\n",
              "      <td>2</td>\n",
              "      <td>2</td>\n",
              "      <td>1223</td>\n",
              "      <td>1</td>\n",
              "      <td>355.170081</td>\n",
              "      <td>1</td>\n",
              "      <td>2</td>\n",
              "      <td>4</td>\n",
              "      <td>1</td>\n",
              "      <td>2</td>\n",
              "      <td>1</td>\n",
              "      <td>296</td>\n",
              "    </tr>\n",
              "    <tr>\n",
              "      <th>2</th>\n",
              "      <td>2015</td>\n",
              "      <td>76</td>\n",
              "      <td>1</td>\n",
              "      <td>1</td>\n",
              "      <td>1</td>\n",
              "      <td>4</td>\n",
              "      <td>13</td>\n",
              "      <td>6</td>\n",
              "      <td>7</td>\n",
              "      <td>1</td>\n",
              "      <td>1</td>\n",
              "      <td>5</td>\n",
              "      <td>5</td>\n",
              "      <td>2</td>\n",
              "      <td>-1</td>\n",
              "      <td>2</td>\n",
              "      <td>1</td>\n",
              "      <td>1</td>\n",
              "      <td>1</td>\n",
              "      <td>1</td>\n",
              "      <td>2</td>\n",
              "      <td>3</td>\n",
              "      <td>1</td>\n",
              "      <td>4</td>\n",
              "      <td>1</td>\n",
              "      <td>2</td>\n",
              "      <td>2</td>\n",
              "      <td>5</td>\n",
              "      <td>3</td>\n",
              "      <td>2</td>\n",
              "      <td>3</td>\n",
              "      <td>1</td>\n",
              "      <td>8</td>\n",
              "      <td>2</td>\n",
              "      <td>8</td>\n",
              "      <td>1</td>\n",
              "      <td>1</td>\n",
              "      <td>5</td>\n",
              "      <td>5</td>\n",
              "      <td>1</td>\n",
              "      <td>...</td>\n",
              "      <td>2</td>\n",
              "      <td>1</td>\n",
              "      <td>2</td>\n",
              "      <td>1</td>\n",
              "      <td>2</td>\n",
              "      <td>3</td>\n",
              "      <td>1</td>\n",
              "      <td>2</td>\n",
              "      <td>1</td>\n",
              "      <td>2</td>\n",
              "      <td>5</td>\n",
              "      <td>99</td>\n",
              "      <td>1</td>\n",
              "      <td>-1</td>\n",
              "      <td>2</td>\n",
              "      <td>2</td>\n",
              "      <td>1</td>\n",
              "      <td>1</td>\n",
              "      <td>1</td>\n",
              "      <td>1</td>\n",
              "      <td>1</td>\n",
              "      <td>1</td>\n",
              "      <td>1</td>\n",
              "      <td>1</td>\n",
              "      <td>482.0</td>\n",
              "      <td>1614.0</td>\n",
              "      <td>48.2</td>\n",
              "      <td>161.4</td>\n",
              "      <td>2</td>\n",
              "      <td>2</td>\n",
              "      <td>1223</td>\n",
              "      <td>1</td>\n",
              "      <td>299.735235</td>\n",
              "      <td>1</td>\n",
              "      <td>2</td>\n",
              "      <td>4</td>\n",
              "      <td>1</td>\n",
              "      <td>3</td>\n",
              "      <td>1</td>\n",
              "      <td>296</td>\n",
              "    </tr>\n",
              "    <tr>\n",
              "      <th>3</th>\n",
              "      <td>2015</td>\n",
              "      <td>76</td>\n",
              "      <td>1</td>\n",
              "      <td>1</td>\n",
              "      <td>1</td>\n",
              "      <td>1</td>\n",
              "      <td>14</td>\n",
              "      <td>6</td>\n",
              "      <td>7</td>\n",
              "      <td>1</td>\n",
              "      <td>1</td>\n",
              "      <td>7</td>\n",
              "      <td>4</td>\n",
              "      <td>2</td>\n",
              "      <td>-1</td>\n",
              "      <td>1</td>\n",
              "      <td>1</td>\n",
              "      <td>1</td>\n",
              "      <td>1</td>\n",
              "      <td>1</td>\n",
              "      <td>2</td>\n",
              "      <td>4</td>\n",
              "      <td>2</td>\n",
              "      <td>4</td>\n",
              "      <td>1</td>\n",
              "      <td>2</td>\n",
              "      <td>2</td>\n",
              "      <td>6</td>\n",
              "      <td>3</td>\n",
              "      <td>2</td>\n",
              "      <td>4</td>\n",
              "      <td>1</td>\n",
              "      <td>3</td>\n",
              "      <td>2</td>\n",
              "      <td>7</td>\n",
              "      <td>1</td>\n",
              "      <td>5</td>\n",
              "      <td>1</td>\n",
              "      <td>-1</td>\n",
              "      <td>2</td>\n",
              "      <td>...</td>\n",
              "      <td>2</td>\n",
              "      <td>1</td>\n",
              "      <td>2</td>\n",
              "      <td>2</td>\n",
              "      <td>2</td>\n",
              "      <td>4</td>\n",
              "      <td>1</td>\n",
              "      <td>10</td>\n",
              "      <td>3</td>\n",
              "      <td>1</td>\n",
              "      <td>2</td>\n",
              "      <td>-1</td>\n",
              "      <td>1</td>\n",
              "      <td>-1</td>\n",
              "      <td>2</td>\n",
              "      <td>2</td>\n",
              "      <td>1</td>\n",
              "      <td>2</td>\n",
              "      <td>2</td>\n",
              "      <td>2</td>\n",
              "      <td>1</td>\n",
              "      <td>2</td>\n",
              "      <td>2</td>\n",
              "      <td>2</td>\n",
              "      <td>694.0</td>\n",
              "      <td>1725.0</td>\n",
              "      <td>69.4</td>\n",
              "      <td>172.5</td>\n",
              "      <td>2</td>\n",
              "      <td>3</td>\n",
              "      <td>1223</td>\n",
              "      <td>1</td>\n",
              "      <td>355.170081</td>\n",
              "      <td>1</td>\n",
              "      <td>2</td>\n",
              "      <td>4</td>\n",
              "      <td>1</td>\n",
              "      <td>4</td>\n",
              "      <td>1</td>\n",
              "      <td>296</td>\n",
              "    </tr>\n",
              "    <tr>\n",
              "      <th>4</th>\n",
              "      <td>2015</td>\n",
              "      <td>76</td>\n",
              "      <td>1</td>\n",
              "      <td>1</td>\n",
              "      <td>1</td>\n",
              "      <td>1</td>\n",
              "      <td>13</td>\n",
              "      <td>9</td>\n",
              "      <td>7</td>\n",
              "      <td>1</td>\n",
              "      <td>2</td>\n",
              "      <td>5</td>\n",
              "      <td>4</td>\n",
              "      <td>2</td>\n",
              "      <td>-1</td>\n",
              "      <td>2</td>\n",
              "      <td>1</td>\n",
              "      <td>1</td>\n",
              "      <td>1</td>\n",
              "      <td>1</td>\n",
              "      <td>2</td>\n",
              "      <td>5</td>\n",
              "      <td>1</td>\n",
              "      <td>4</td>\n",
              "      <td>1</td>\n",
              "      <td>2</td>\n",
              "      <td>2</td>\n",
              "      <td>6</td>\n",
              "      <td>5</td>\n",
              "      <td>6</td>\n",
              "      <td>3</td>\n",
              "      <td>5</td>\n",
              "      <td>2</td>\n",
              "      <td>6</td>\n",
              "      <td>2</td>\n",
              "      <td>1</td>\n",
              "      <td>5</td>\n",
              "      <td>1</td>\n",
              "      <td>5</td>\n",
              "      <td>1</td>\n",
              "      <td>...</td>\n",
              "      <td>2</td>\n",
              "      <td>1</td>\n",
              "      <td>4</td>\n",
              "      <td>2</td>\n",
              "      <td>2</td>\n",
              "      <td>4</td>\n",
              "      <td>1</td>\n",
              "      <td>3</td>\n",
              "      <td>2</td>\n",
              "      <td>2</td>\n",
              "      <td>2</td>\n",
              "      <td>13</td>\n",
              "      <td>1</td>\n",
              "      <td>-1</td>\n",
              "      <td>1</td>\n",
              "      <td>2</td>\n",
              "      <td>1</td>\n",
              "      <td>1</td>\n",
              "      <td>1</td>\n",
              "      <td>1</td>\n",
              "      <td>1</td>\n",
              "      <td>1</td>\n",
              "      <td>1</td>\n",
              "      <td>1</td>\n",
              "      <td>789.0</td>\n",
              "      <td>1675.0</td>\n",
              "      <td>78.9</td>\n",
              "      <td>167.5</td>\n",
              "      <td>2</td>\n",
              "      <td>4</td>\n",
              "      <td>1223</td>\n",
              "      <td>1</td>\n",
              "      <td>299.735235</td>\n",
              "      <td>1</td>\n",
              "      <td>2</td>\n",
              "      <td>4</td>\n",
              "      <td>1</td>\n",
              "      <td>5</td>\n",
              "      <td>1</td>\n",
              "      <td>296</td>\n",
              "    </tr>\n",
              "  </tbody>\n",
              "</table>\n",
              "<p>5 rows × 181 columns</p>\n",
              "</div>"
            ],
            "text/plain": [
              "   ANOPESQ  PAIS  REGEOGR  VB00004  VB01001  ...  V0008  V0041  aluno  escola  turma\n",
              "0     2015    76        1        1        2  ...      4      1      1       1    296\n",
              "1     2015    76        1        1        2  ...      4      1      2       1    296\n",
              "2     2015    76        1        1        1  ...      4      1      3       1    296\n",
              "3     2015    76        1        1        1  ...      4      1      4       1    296\n",
              "4     2015    76        1        1        1  ...      4      1      5       1    296\n",
              "\n",
              "[5 rows x 181 columns]"
            ]
          },
          "metadata": {
            "tags": []
          },
          "execution_count": 1
        }
      ]
    },
    {
      "cell_type": "code",
      "metadata": {
        "colab": {
          "base_uri": "https://localhost:8080/"
        },
        "id": "Y28qa43wXOXe",
        "outputId": "aba1f379-18a0-484a-b4a4-a87883ba4543"
      },
      "source": [
        "dados[\"IMC\"] = dados[\"VB17003\"] / ((dados[\"VB17004\"]/100)**2)\r\n",
        "dados[\"IMC\"]"
      ],
      "execution_count": null,
      "outputs": [
        {
          "output_type": "execute_result",
          "data": {
            "text/plain": [
              "0        15.051321\n",
              "1        21.727839\n",
              "2        18.502907\n",
              "3        23.322831\n",
              "4        28.122076\n",
              "           ...    \n",
              "16551    20.113223\n",
              "16552    17.930782\n",
              "16553    23.968489\n",
              "16554    18.995343\n",
              "16555    23.303246\n",
              "Name: IMC, Length: 16556, dtype: float64"
            ]
          },
          "metadata": {
            "tags": []
          },
          "execution_count": 2
        }
      ]
    },
    {
      "cell_type": "markdown",
      "metadata": {
        "id": "HRmYXOz5X0s-"
      },
      "source": [
        "## <font color=green>1 Média aritmética</font>\r\n",
        "***\r\n",
        "\r\n",
        "É representada por $\\mu$ quando se refere à população e por $\\bar{X}$ quando se refere à amostra\r\n",
        "\r\n",
        "# $$\\mu = \\frac 1n\\sum_{i=1}^{n}X_i$$\r\n",
        "\r\n",
        "onde \r\n",
        "\r\n",
        "$n$ = número de observações (registros)\r\n",
        "\r\n",
        "$X_i$ = valor da i-ésima observação (registro)\r\n",
        "\r\n",
        "ou seja, soma dos valores dividida pelo número de elementos"
      ]
    },
    {
      "cell_type": "code",
      "metadata": {
        "colab": {
          "base_uri": "https://localhost:8080/"
        },
        "id": "cNqJ1od5YU-G",
        "outputId": "fc510cd5-7b41-42b7-fa42-e18ef1c5500d"
      },
      "source": [
        "#Fazendo a média\r\n",
        "\r\n",
        "media = dados[\"IMC\"].mean()\r\n",
        "print(media)"
      ],
      "execution_count": null,
      "outputs": [
        {
          "output_type": "stream",
          "text": [
            "20.95825220663186\n"
          ],
          "name": "stdout"
        }
      ]
    },
    {
      "cell_type": "markdown",
      "metadata": {
        "id": "RMSxQXUuYwBO"
      },
      "source": [
        "## <font color=green>2 Mediana</font>\r\n",
        "***\r\n",
        "\r\n",
        "Para obtermos a mediana de uma conjunto de dados devemos proceder da seguinte maneira:\r\n",
        "1. Ordenar o conjunto de dados;\r\n",
        "2. Identificar o número de observações (registros) do conjunto de dados ($n$);\r\n",
        "3. Identicar o elemento mediano:\r\n",
        "\r\n",
        "> Quando $n$ for ímpar, a posição do elemento mediano será obtida da seguinte forma:\r\n",
        "\r\n",
        "\r\n",
        "# $$Elemento_{Md} = \\frac{n+1}2$$\r\n",
        "\r\n",
        "> Quando $n$ for par, a posição do elemento mediano será obtida da seguinte forma:\r\n",
        "\r\n",
        "\r\n",
        "# $$Elemento_{Md} = \\frac{n}2$$\r\n",
        "\r\n",
        "4. Obter a mediana:\r\n",
        "\r\n",
        "> Quando $n$ for ímpar:\r\n",
        "\r\n",
        "\r\n",
        "# $$Md = X_{Elemento_{Md}}$$\r\n",
        "\r\n",
        "> Quando $n$ for par:\r\n",
        "\r\n",
        "\r\n",
        "# $$Md = \\frac{X_{Elemento_{Md}} + X_{Elemento_{Md}+1}}2$$\r\n",
        "***"
      ]
    },
    {
      "cell_type": "markdown",
      "metadata": {
        "id": "F7Imbwr7ZYhx"
      },
      "source": [
        "### Exemplo 1 - n ímpar\r\n",
        "\r\n",
        "<img src='https://caelum-online-public.s3.amazonaws.com/1177-estatistica-parte1/01/img002.png' width='40%' style=\"float:left\">"
      ]
    },
    {
      "cell_type": "markdown",
      "metadata": {
        "id": "eO7WDIfTZbNK"
      },
      "source": [
        "### Exemplo 2 - n par\r\n",
        "\r\n",
        "<img src='https://caelum-online-public.s3.amazonaws.com/1177-estatistica-parte1/01/img003.png' width='50%' style=\"float:left\">"
      ]
    },
    {
      "cell_type": "code",
      "metadata": {
        "colab": {
          "base_uri": "https://localhost:8080/"
        },
        "id": "RYWtkugSZc9J",
        "outputId": "f33187bb-f327-4f66-a627-5ed3e3b3e32c"
      },
      "source": [
        "mediana = dados[\"IMC\"].median()\r\n",
        "print(mediana)"
      ],
      "execution_count": null,
      "outputs": [
        {
          "output_type": "stream",
          "text": [
            "20.190504330368643\n"
          ],
          "name": "stdout"
        }
      ]
    },
    {
      "cell_type": "markdown",
      "metadata": {
        "id": "IkH-3k4FaPQP"
      },
      "source": [
        "## <font color=green>3 Moda</font>\r\n",
        "***\r\n",
        "\r\n",
        "Pode-se definir a moda como sendo o valor mais frequente de um conjunto de dados. A moda é bastante utilizada para dados qualitativos."
      ]
    },
    {
      "cell_type": "code",
      "metadata": {
        "colab": {
          "base_uri": "https://localhost:8080/"
        },
        "id": "EpXdNjXwaT6g",
        "outputId": "e766595e-f3ea-40f8-f743-e1e70839734e"
      },
      "source": [
        "moda = dados[\"IMC\"].mode()\r\n",
        "print(moda)\r\n",
        "\r\n",
        "#no caso esta é multimodal (várias modas)"
      ],
      "execution_count": null,
      "outputs": [
        {
          "output_type": "stream",
          "text": [
            "0     16.155478\n",
            "1     16.718248\n",
            "2     17.312886\n",
            "3     18.543714\n",
            "4     18.556681\n",
            "5     18.602766\n",
            "6     19.021555\n",
            "7     19.169550\n",
            "8     19.297399\n",
            "9     19.707910\n",
            "10    21.082813\n",
            "dtype: float64\n"
          ],
          "name": "stdout"
        }
      ]
    },
    {
      "cell_type": "markdown",
      "metadata": {
        "id": "dtvoxomXaZUk"
      },
      "source": [
        "## <font color=green>3.4 Relação entre média, mediana e moda</font>\r\n",
        "***"
      ]
    },
    {
      "cell_type": "markdown",
      "metadata": {
        "id": "j6nEYAagadxK"
      },
      "source": [
        "<img src='https://caelum-online-public.s3.amazonaws.com/1177-estatistica-parte1/01/img004.png' width='80%'>"
      ]
    },
    {
      "cell_type": "code",
      "metadata": {
        "colab": {
          "base_uri": "https://localhost:8080/"
        },
        "id": "e4zo0_nrbw9X",
        "outputId": "6b1e98d1-d51d-4021-d669-3ff86ca89023"
      },
      "source": [
        "import seaborn as sns\r\n",
        "\r\n",
        "ax = sns.histplot(x = \"IMC\", data = dados, kde = True)\r\n",
        "ax.figure.set_size_inches(12, 6)\r\n",
        "ax.axvline(dados.IMC.mean(), color = 'r', linestyle = '--')\r\n",
        "ax.axvline(dados.IMC.median(), color ='g', linestyle = '-')\r\n",
        "\r\n",
        "ax.set_title(\"Distribuição de frequência\")\r\n",
        "ax.set_xlabel(\"Altura\")\r\n",
        "ax;\r\n",
        "\r\n",
        "#É possível ver a média em vermelho e a mediana em verde"
      ],
      "execution_count": null,
      "outputs": [
        {
          "output_type": "display_data",
          "data": {
            "image/png": "[encoded data removed]",
            "text/plain": [
              "<Figure size 864x432 with 1 Axes>"
            ]
          },
          "metadata": {
            "tags": [],
            "needs_background": "light"
          }
        }
      ]
    },
    {
      "cell_type": "code",
      "metadata": {
        "colab": {
          "base_uri": "https://localhost:8080/"
        },
        "id": "d-rOCS0okTEZ",
        "outputId": "f5630191-ffa2-4989-abc9-0641bbd87cb0"
      },
      "source": [
        "#Também é possível perceber a assimetria através do boxplot\r\n",
        "\r\n",
        "ax = sns.boxplot(x = \"IMC\", data = dados)\r\n",
        "ax.figure.set_size_inches(12, 6)\r\n",
        "ax.set_title(\"Boxplot IMC\")\r\n",
        "ax.set_xlabel(\"IMC\")\r\n",
        "ax;"
      ],
      "execution_count": null,
      "outputs": [
        {
          "output_type": "display_data",
          "data": {
            "image/png": "[encoded data removed]",
            "text/plain": [
              "<Figure size 864x432 with 1 Axes>"
            ]
          },
          "metadata": {
            "tags": [],
            "needs_background": "light"
          }
        }
      ]
    },
    {
      "cell_type": "markdown",
      "metadata": {
        "id": "SbyhkPNroi1D"
      },
      "source": [
        "<img src='https://caelum-online-public.s3.amazonaws.com/1177-estatistica-parte1/01/img006.png' width='80%'>"
      ]
    },
    {
      "cell_type": "markdown",
      "metadata": {
        "id": "ovXbtqzIl5DZ"
      },
      "source": [
        "# Distribuição Normal"
      ]
    },
    {
      "cell_type": "markdown",
      "metadata": {
        "id": "_pAIVaylmX-S"
      },
      "source": [
        "A distribuição normal é uma das mais utilizadas em estatística. É uma distribuição contínua, onde a distribuição de frequências de uma variável quantitativa apresenta a forma de sino e é simétrica em relação a sua média.\r\n",
        "\r\n",
        "![Normal](https://caelum-online-public.s3.amazonaws.com/1178-estatistica-parte2/01/img001.png)\r\n",
        "\r\n",
        "\r\n",
        "## Carcterísticas importantes\r\n",
        "\r\n",
        "1. É simétrica em torno da média;\r\n",
        "\r\n",
        "2. A área sob a curva corresponde à proporção 1 ou 100%;\r\n",
        "\r\n",
        "3. As medidas de tendência central (média, mediana e moda) apresentam o mesmo valor;\r\n",
        "\r\n",
        "4. Os extremos da curva tendem ao infinito em ambas as direções e, teoricamente, jamais tocam o eixo $x$;\r\n",
        "\r\n",
        "5. O desvio padrão define o achatamento e largura da distribuição. Curvas mais largas e mais achatadas apresentam valores maiores de desvio padrão;\r\n",
        "\r\n",
        "6. A distribuição é definida por sua média e desvio padrão;\r\n",
        "\r\n",
        "7. A probabilidade sempre será igual à área sob a curva, delimitada pelos limites inferior e superior."
      ]
    },
    {
      "cell_type": "markdown",
      "metadata": {
        "id": "W8cpM04FmcD5"
      },
      "source": [
        "## $$f(x) = \\frac{1}{\\sqrt{2\\pi\\sigma}}e^{-\\frac{1}{2}\\left(\\frac{x-\\mu}{\\sigma}\\right)^2}$$\r\n",
        "\r\n",
        "Onde:\r\n",
        "\r\n",
        "$x$ = variável normal\r\n",
        "\r\n",
        "$\\sigma$ = desvio padrão\r\n",
        "\r\n",
        "$\\mu$ = média"
      ]
    },
    {
      "cell_type": "markdown",
      "metadata": {
        "id": "I0isBgmUme6X"
      },
      "source": [
        "A probabilidade é obtida a partir da área sob a curva, delimitada pelos limites inferior e superior especificados. Um exemplo pode ser visto na figura abaixo.\r\n",
        "\r\n",
        "Por exemplo, a probabilidade de se escolher uma pessoa entre 1,60m e 1,80m é a área sob a curva.\r\n",
        "\r\n",
        "\r\n",
        "![alt text](https://caelum-online-public.s3.amazonaws.com/1178-estatistica-parte2/01/img002.png)\r\n"
      ]
    },
    {
      "cell_type": "markdown",
      "metadata": {
        "id": "xv-vJSsgmgf9"
      },
      "source": [
        "Para obter a área acima basta calcular a integral da função para os intervalos determinados. Conforme equação abaixo:\r\n",
        "\r\n",
        "\r\n",
        "## $$P(L_i<x<L_s) = \\int_{L_i}^{L_s}\\frac{1}{\\sqrt{2\\pi\\sigma}}e^{-\\frac{1}{2}\\left(\\frac{x-\\mu}{\\sigma}\\right)^2}$$\r\n",
        "\r\n",
        "Onde:\r\n",
        "\r\n",
        "$x$ = variável normal\r\n",
        "\r\n",
        "$\\sigma$ = desvio padrão\r\n",
        "\r\n",
        "$\\mu$ = média\r\n",
        "\r\n",
        "$L_i$ = limite inferior\r\n",
        "\r\n",
        "$L_s$ = limite superior\r\n",
        "\r\n"
      ]
    },
    {
      "cell_type": "markdown",
      "metadata": {
        "id": "YEeQ2m0AmiDg"
      },
      "source": [
        "## Tabelas padronizadas\r\n",
        "\r\n",
        "As tabelas padronizadas foram criadas para facilitar a obtenção dos valores das áreas sob a curva normal e eliminar a necessidade de solucionar integrais definidas.\r\n",
        "\r\n",
        "Para consultarmos os valores em uma tabela padronizada basta transformarmos nossa variável em uma variável padronizada $Z$.\r\n",
        "\r\n",
        "Esta variável $Z$ representa o afastamento em desvios padrões de um valor da variável original em relação à média.\r\n",
        "\r\n",
        "# $$Z = \\frac{x-\\mu}{\\sigma}$$\r\n",
        "\r\n",
        "Onde:\r\n",
        "\r\n",
        "$x$ = variável normal com média $\\mu$ e desvio padrão $\\sigma$\r\n",
        "\r\n",
        "$\\sigma$ = desvio padrão\r\n",
        "\r\n",
        "$\\mu$ = média"
      ]
    },
    {
      "cell_type": "markdown",
      "metadata": {
        "id": "JKRRfwZGmjbk"
      },
      "source": [
        "Exemplo:\r\n",
        "\r\n",
        "Em um estudo sobre as alturas dos moradores de uma cidade verificou-se que o conjunto de dados segue uma **distribuição aproximadamente normal**, com **média 1,70** e **desvio padrão de 0,1**. Com estas informações obtenha o seguinte conjunto de probabilidades:\r\n",
        "\r\n",
        "> **A.** probabilidade de uma pessoa, selecionada ao acaso, ter menos de 1,80 metros.\r\n",
        "\r\n",
        "> **B.** probabilidade de uma pessoa, selecionada ao acaso, ter entre 1,60 metros e 1,80 metros.    \r\n",
        "\r\n",
        "> **C.** probabilidade de uma pessoa, selecionada ao acaso, ter mais de 1,90 metros."
      ]
    },
    {
      "cell_type": "markdown",
      "metadata": {
        "id": "PeEtDZYMmlhk"
      },
      "source": [
        "### Problema A - Identificação da área sob a curva"
      ]
    },
    {
      "cell_type": "markdown",
      "metadata": {
        "id": "4cEPIr9Tmmrz"
      },
      "source": [
        "<img style='float: left' src='https://caelum-online-public.s3.amazonaws.com/1178-estatistica-parte2/01/img004.png' width='350px'>\r\n",
        "\r\n",
        "Note que até 1,70m a probabilidade é de 50%, pois a curva é simétrica"
      ]
    },
    {
      "cell_type": "markdown",
      "metadata": {
        "id": "gVtPAUWkpCjQ"
      },
      "source": [
        "#### Solução 1"
      ]
    },
    {
      "cell_type": "code",
      "metadata": {
        "id": "lPWCQj0FpDQZ",
        "colab": {
          "base_uri": "https://localhost:8080/"
        },
        "outputId": "ae5a9aa2-68d7-41c3-9956-9a5a6663b229"
      },
      "source": [
        "#Criando a tabela padronizada utilizando o scypy\r\n",
        "#Essa tabela geralmente é encontrada em livros de estatística\r\n",
        "\r\n",
        "import pandas as pd\r\n",
        "import numpy as np\r\n",
        "from scipy.stats import norm\r\n",
        "\r\n",
        "tabela_normal_padronizada = pd.DataFrame(\r\n",
        "    [], \r\n",
        "    index=[\"{0:0.2f}\".format(i / 100) for i in range(0, 400, 10)],\r\n",
        "    columns = [\"{0:0.2f}\".format(i / 100) for i in range(0, 10)])\r\n",
        "\r\n",
        "for index in tabela_normal_padronizada.index:\r\n",
        "    for column in tabela_normal_padronizada.columns:\r\n",
        "        Z = np.round(float(index) + float(column), 2)\r\n",
        "        tabela_normal_padronizada.loc[index, column] = \"{0:0.4f}\".format(norm.cdf(Z))\r\n",
        "\r\n",
        "tabela_normal_padronizada.rename_axis('Z', axis = 'columns', inplace = True)\r\n",
        "\r\n",
        "tabela_normal_padronizada"
      ],
      "execution_count": null,
      "outputs": [
        {
          "output_type": "execute_result",
          "data": {
            "text/html": [
              "<div>\n",
              "<style scoped>\n",
              "    .dataframe tbody tr th:only-of-type {\n",
              "        vertical-align: middle;\n",
              "    }\n",
              "\n",
              "    .dataframe tbody tr th {\n",
              "        vertical-align: top;\n",
              "    }\n",
              "\n",
              "    .dataframe thead th {\n",
              "        text-align: right;\n",
              "    }\n",
              "</style>\n",
              "<table border=\"1\" class=\"dataframe\">\n",
              "  <thead>\n",
              "    <tr style=\"text-align: right;\">\n",
              "      <th>Z</th>\n",
              "      <th>0.00</th>\n",
              "      <th>0.01</th>\n",
              "      <th>0.02</th>\n",
              "      <th>0.03</th>\n",
              "      <th>0.04</th>\n",
              "      <th>0.05</th>\n",
              "      <th>0.06</th>\n",
              "      <th>0.07</th>\n",
              "      <th>0.08</th>\n",
              "      <th>0.09</th>\n",
              "    </tr>\n",
              "  </thead>\n",
              "  <tbody>\n",
              "    <tr>\n",
              "      <th>0.00</th>\n",
              "      <td>0.5000</td>\n",
              "      <td>0.5040</td>\n",
              "      <td>0.5080</td>\n",
              "      <td>0.5120</td>\n",
              "      <td>0.5160</td>\n",
              "      <td>0.5199</td>\n",
              "      <td>0.5239</td>\n",
              "      <td>0.5279</td>\n",
              "      <td>0.5319</td>\n",
              "      <td>0.5359</td>\n",
              "    </tr>\n",
              "    <tr>\n",
              "      <th>0.10</th>\n",
              "      <td>0.5398</td>\n",
              "      <td>0.5438</td>\n",
              "      <td>0.5478</td>\n",
              "      <td>0.5517</td>\n",
              "      <td>0.5557</td>\n",
              "      <td>0.5596</td>\n",
              "      <td>0.5636</td>\n",
              "      <td>0.5675</td>\n",
              "      <td>0.5714</td>\n",
              "      <td>0.5753</td>\n",
              "    </tr>\n",
              "    <tr>\n",
              "      <th>0.20</th>\n",
              "      <td>0.5793</td>\n",
              "      <td>0.5832</td>\n",
              "      <td>0.5871</td>\n",
              "      <td>0.5910</td>\n",
              "      <td>0.5948</td>\n",
              "      <td>0.5987</td>\n",
              "      <td>0.6026</td>\n",
              "      <td>0.6064</td>\n",
              "      <td>0.6103</td>\n",
              "      <td>0.6141</td>\n",
              "    </tr>\n",
              "    <tr>\n",
              "      <th>0.30</th>\n",
              "      <td>0.6179</td>\n",
              "      <td>0.6217</td>\n",
              "      <td>0.6255</td>\n",
              "      <td>0.6293</td>\n",
              "      <td>0.6331</td>\n",
              "      <td>0.6368</td>\n",
              "      <td>0.6406</td>\n",
              "      <td>0.6443</td>\n",
              "      <td>0.6480</td>\n",
              "      <td>0.6517</td>\n",
              "    </tr>\n",
              "    <tr>\n",
              "      <th>0.40</th>\n",
              "      <td>0.6554</td>\n",
              "      <td>0.6591</td>\n",
              "      <td>0.6628</td>\n",
              "      <td>0.6664</td>\n",
              "      <td>0.6700</td>\n",
              "      <td>0.6736</td>\n",
              "      <td>0.6772</td>\n",
              "      <td>0.6808</td>\n",
              "      <td>0.6844</td>\n",
              "      <td>0.6879</td>\n",
              "    </tr>\n",
              "    <tr>\n",
              "      <th>0.50</th>\n",
              "      <td>0.6915</td>\n",
              "      <td>0.6950</td>\n",
              "      <td>0.6985</td>\n",
              "      <td>0.7019</td>\n",
              "      <td>0.7054</td>\n",
              "      <td>0.7088</td>\n",
              "      <td>0.7123</td>\n",
              "      <td>0.7157</td>\n",
              "      <td>0.7190</td>\n",
              "      <td>0.7224</td>\n",
              "    </tr>\n",
              "    <tr>\n",
              "      <th>0.60</th>\n",
              "      <td>0.7257</td>\n",
              "      <td>0.7291</td>\n",
              "      <td>0.7324</td>\n",
              "      <td>0.7357</td>\n",
              "      <td>0.7389</td>\n",
              "      <td>0.7422</td>\n",
              "      <td>0.7454</td>\n",
              "      <td>0.7486</td>\n",
              "      <td>0.7517</td>\n",
              "      <td>0.7549</td>\n",
              "    </tr>\n",
              "    <tr>\n",
              "      <th>0.70</th>\n",
              "      <td>0.7580</td>\n",
              "      <td>0.7611</td>\n",
              "      <td>0.7642</td>\n",
              "      <td>0.7673</td>\n",
              "      <td>0.7704</td>\n",
              "      <td>0.7734</td>\n",
              "      <td>0.7764</td>\n",
              "      <td>0.7794</td>\n",
              "      <td>0.7823</td>\n",
              "      <td>0.7852</td>\n",
              "    </tr>\n",
              "    <tr>\n",
              "      <th>0.80</th>\n",
              "      <td>0.7881</td>\n",
              "      <td>0.7910</td>\n",
              "      <td>0.7939</td>\n",
              "      <td>0.7967</td>\n",
              "      <td>0.7995</td>\n",
              "      <td>0.8023</td>\n",
              "      <td>0.8051</td>\n",
              "      <td>0.8078</td>\n",
              "      <td>0.8106</td>\n",
              "      <td>0.8133</td>\n",
              "    </tr>\n",
              "    <tr>\n",
              "      <th>0.90</th>\n",
              "      <td>0.8159</td>\n",
              "      <td>0.8186</td>\n",
              "      <td>0.8212</td>\n",
              "      <td>0.8238</td>\n",
              "      <td>0.8264</td>\n",
              "      <td>0.8289</td>\n",
              "      <td>0.8315</td>\n",
              "      <td>0.8340</td>\n",
              "      <td>0.8365</td>\n",
              "      <td>0.8389</td>\n",
              "    </tr>\n",
              "    <tr>\n",
              "      <th>1.00</th>\n",
              "      <td>0.8413</td>\n",
              "      <td>0.8438</td>\n",
              "      <td>0.8461</td>\n",
              "      <td>0.8485</td>\n",
              "      <td>0.8508</td>\n",
              "      <td>0.8531</td>\n",
              "      <td>0.8554</td>\n",
              "      <td>0.8577</td>\n",
              "      <td>0.8599</td>\n",
              "      <td>0.8621</td>\n",
              "    </tr>\n",
              "    <tr>\n",
              "      <th>1.10</th>\n",
              "      <td>0.8643</td>\n",
              "      <td>0.8665</td>\n",
              "      <td>0.8686</td>\n",
              "      <td>0.8708</td>\n",
              "      <td>0.8729</td>\n",
              "      <td>0.8749</td>\n",
              "      <td>0.8770</td>\n",
              "      <td>0.8790</td>\n",
              "      <td>0.8810</td>\n",
              "      <td>0.8830</td>\n",
              "    </tr>\n",
              "    <tr>\n",
              "      <th>1.20</th>\n",
              "      <td>0.8849</td>\n",
              "      <td>0.8869</td>\n",
              "      <td>0.8888</td>\n",
              "      <td>0.8907</td>\n",
              "      <td>0.8925</td>\n",
              "      <td>0.8944</td>\n",
              "      <td>0.8962</td>\n",
              "      <td>0.8980</td>\n",
              "      <td>0.8997</td>\n",
              "      <td>0.9015</td>\n",
              "    </tr>\n",
              "    <tr>\n",
              "      <th>1.30</th>\n",
              "      <td>0.9032</td>\n",
              "      <td>0.9049</td>\n",
              "      <td>0.9066</td>\n",
              "      <td>0.9082</td>\n",
              "      <td>0.9099</td>\n",
              "      <td>0.9115</td>\n",
              "      <td>0.9131</td>\n",
              "      <td>0.9147</td>\n",
              "      <td>0.9162</td>\n",
              "      <td>0.9177</td>\n",
              "    </tr>\n",
              "    <tr>\n",
              "      <th>1.40</th>\n",
              "      <td>0.9192</td>\n",
              "      <td>0.9207</td>\n",
              "      <td>0.9222</td>\n",
              "      <td>0.9236</td>\n",
              "      <td>0.9251</td>\n",
              "      <td>0.9265</td>\n",
              "      <td>0.9279</td>\n",
              "      <td>0.9292</td>\n",
              "      <td>0.9306</td>\n",
              "      <td>0.9319</td>\n",
              "    </tr>\n",
              "    <tr>\n",
              "      <th>1.50</th>\n",
              "      <td>0.9332</td>\n",
              "      <td>0.9345</td>\n",
              "      <td>0.9357</td>\n",
              "      <td>0.9370</td>\n",
              "      <td>0.9382</td>\n",
              "      <td>0.9394</td>\n",
              "      <td>0.9406</td>\n",
              "      <td>0.9418</td>\n",
              "      <td>0.9429</td>\n",
              "      <td>0.9441</td>\n",
              "    </tr>\n",
              "    <tr>\n",
              "      <th>1.60</th>\n",
              "      <td>0.9452</td>\n",
              "      <td>0.9463</td>\n",
              "      <td>0.9474</td>\n",
              "      <td>0.9484</td>\n",
              "      <td>0.9495</td>\n",
              "      <td>0.9505</td>\n",
              "      <td>0.9515</td>\n",
              "      <td>0.9525</td>\n",
              "      <td>0.9535</td>\n",
              "      <td>0.9545</td>\n",
              "    </tr>\n",
              "    <tr>\n",
              "      <th>1.70</th>\n",
              "      <td>0.9554</td>\n",
              "      <td>0.9564</td>\n",
              "      <td>0.9573</td>\n",
              "      <td>0.9582</td>\n",
              "      <td>0.9591</td>\n",
              "      <td>0.9599</td>\n",
              "      <td>0.9608</td>\n",
              "      <td>0.9616</td>\n",
              "      <td>0.9625</td>\n",
              "      <td>0.9633</td>\n",
              "    </tr>\n",
              "    <tr>\n",
              "      <th>1.80</th>\n",
              "      <td>0.9641</td>\n",
              "      <td>0.9649</td>\n",
              "      <td>0.9656</td>\n",
              "      <td>0.9664</td>\n",
              "      <td>0.9671</td>\n",
              "      <td>0.9678</td>\n",
              "      <td>0.9686</td>\n",
              "      <td>0.9693</td>\n",
              "      <td>0.9699</td>\n",
              "      <td>0.9706</td>\n",
              "    </tr>\n",
              "    <tr>\n",
              "      <th>1.90</th>\n",
              "      <td>0.9713</td>\n",
              "      <td>0.9719</td>\n",
              "      <td>0.9726</td>\n",
              "      <td>0.9732</td>\n",
              "      <td>0.9738</td>\n",
              "      <td>0.9744</td>\n",
              "      <td>0.9750</td>\n",
              "      <td>0.9756</td>\n",
              "      <td>0.9761</td>\n",
              "      <td>0.9767</td>\n",
              "    </tr>\n",
              "    <tr>\n",
              "      <th>2.00</th>\n",
              "      <td>0.9772</td>\n",
              "      <td>0.9778</td>\n",
              "      <td>0.9783</td>\n",
              "      <td>0.9788</td>\n",
              "      <td>0.9793</td>\n",
              "      <td>0.9798</td>\n",
              "      <td>0.9803</td>\n",
              "      <td>0.9808</td>\n",
              "      <td>0.9812</td>\n",
              "      <td>0.9817</td>\n",
              "    </tr>\n",
              "    <tr>\n",
              "      <th>2.10</th>\n",
              "      <td>0.9821</td>\n",
              "      <td>0.9826</td>\n",
              "      <td>0.9830</td>\n",
              "      <td>0.9834</td>\n",
              "      <td>0.9838</td>\n",
              "      <td>0.9842</td>\n",
              "      <td>0.9846</td>\n",
              "      <td>0.9850</td>\n",
              "      <td>0.9854</td>\n",
              "      <td>0.9857</td>\n",
              "    </tr>\n",
              "    <tr>\n",
              "      <th>2.20</th>\n",
              "      <td>0.9861</td>\n",
              "      <td>0.9864</td>\n",
              "      <td>0.9868</td>\n",
              "      <td>0.9871</td>\n",
              "      <td>0.9875</td>\n",
              "      <td>0.9878</td>\n",
              "      <td>0.9881</td>\n",
              "      <td>0.9884</td>\n",
              "      <td>0.9887</td>\n",
              "      <td>0.9890</td>\n",
              "    </tr>\n",
              "    <tr>\n",
              "      <th>2.30</th>\n",
              "      <td>0.9893</td>\n",
              "      <td>0.9896</td>\n",
              "      <td>0.9898</td>\n",
              "      <td>0.9901</td>\n",
              "      <td>0.9904</td>\n",
              "      <td>0.9906</td>\n",
              "      <td>0.9909</td>\n",
              "      <td>0.9911</td>\n",
              "      <td>0.9913</td>\n",
              "      <td>0.9916</td>\n",
              "    </tr>\n",
              "    <tr>\n",
              "      <th>2.40</th>\n",
              "      <td>0.9918</td>\n",
              "      <td>0.9920</td>\n",
              "      <td>0.9922</td>\n",
              "      <td>0.9925</td>\n",
              "      <td>0.9927</td>\n",
              "      <td>0.9929</td>\n",
              "      <td>0.9931</td>\n",
              "      <td>0.9932</td>\n",
              "      <td>0.9934</td>\n",
              "      <td>0.9936</td>\n",
              "    </tr>\n",
              "    <tr>\n",
              "      <th>2.50</th>\n",
              "      <td>0.9938</td>\n",
              "      <td>0.9940</td>\n",
              "      <td>0.9941</td>\n",
              "      <td>0.9943</td>\n",
              "      <td>0.9945</td>\n",
              "      <td>0.9946</td>\n",
              "      <td>0.9948</td>\n",
              "      <td>0.9949</td>\n",
              "      <td>0.9951</td>\n",
              "      <td>0.9952</td>\n",
              "    </tr>\n",
              "    <tr>\n",
              "      <th>2.60</th>\n",
              "      <td>0.9953</td>\n",
              "      <td>0.9955</td>\n",
              "      <td>0.9956</td>\n",
              "      <td>0.9957</td>\n",
              "      <td>0.9959</td>\n",
              "      <td>0.9960</td>\n",
              "      <td>0.9961</td>\n",
              "      <td>0.9962</td>\n",
              "      <td>0.9963</td>\n",
              "      <td>0.9964</td>\n",
              "    </tr>\n",
              "    <tr>\n",
              "      <th>2.70</th>\n",
              "      <td>0.9965</td>\n",
              "      <td>0.9966</td>\n",
              "      <td>0.9967</td>\n",
              "      <td>0.9968</td>\n",
              "      <td>0.9969</td>\n",
              "      <td>0.9970</td>\n",
              "      <td>0.9971</td>\n",
              "      <td>0.9972</td>\n",
              "      <td>0.9973</td>\n",
              "      <td>0.9974</td>\n",
              "    </tr>\n",
              "    <tr>\n",
              "      <th>2.80</th>\n",
              "      <td>0.9974</td>\n",
              "      <td>0.9975</td>\n",
              "      <td>0.9976</td>\n",
              "      <td>0.9977</td>\n",
              "      <td>0.9977</td>\n",
              "      <td>0.9978</td>\n",
              "      <td>0.9979</td>\n",
              "      <td>0.9979</td>\n",
              "      <td>0.9980</td>\n",
              "      <td>0.9981</td>\n",
              "    </tr>\n",
              "    <tr>\n",
              "      <th>2.90</th>\n",
              "      <td>0.9981</td>\n",
              "      <td>0.9982</td>\n",
              "      <td>0.9982</td>\n",
              "      <td>0.9983</td>\n",
              "      <td>0.9984</td>\n",
              "      <td>0.9984</td>\n",
              "      <td>0.9985</td>\n",
              "      <td>0.9985</td>\n",
              "      <td>0.9986</td>\n",
              "      <td>0.9986</td>\n",
              "    </tr>\n",
              "    <tr>\n",
              "      <th>3.00</th>\n",
              "      <td>0.9987</td>\n",
              "      <td>0.9987</td>\n",
              "      <td>0.9987</td>\n",
              "      <td>0.9988</td>\n",
              "      <td>0.9988</td>\n",
              "      <td>0.9989</td>\n",
              "      <td>0.9989</td>\n",
              "      <td>0.9989</td>\n",
              "      <td>0.9990</td>\n",
              "      <td>0.9990</td>\n",
              "    </tr>\n",
              "    <tr>\n",
              "      <th>3.10</th>\n",
              "      <td>0.9990</td>\n",
              "      <td>0.9991</td>\n",
              "      <td>0.9991</td>\n",
              "      <td>0.9991</td>\n",
              "      <td>0.9992</td>\n",
              "      <td>0.9992</td>\n",
              "      <td>0.9992</td>\n",
              "      <td>0.9992</td>\n",
              "      <td>0.9993</td>\n",
              "      <td>0.9993</td>\n",
              "    </tr>\n",
              "    <tr>\n",
              "      <th>3.20</th>\n",
              "      <td>0.9993</td>\n",
              "      <td>0.9993</td>\n",
              "      <td>0.9994</td>\n",
              "      <td>0.9994</td>\n",
              "      <td>0.9994</td>\n",
              "      <td>0.9994</td>\n",
              "      <td>0.9994</td>\n",
              "      <td>0.9995</td>\n",
              "      <td>0.9995</td>\n",
              "      <td>0.9995</td>\n",
              "    </tr>\n",
              "    <tr>\n",
              "      <th>3.30</th>\n",
              "      <td>0.9995</td>\n",
              "      <td>0.9995</td>\n",
              "      <td>0.9995</td>\n",
              "      <td>0.9996</td>\n",
              "      <td>0.9996</td>\n",
              "      <td>0.9996</td>\n",
              "      <td>0.9996</td>\n",
              "      <td>0.9996</td>\n",
              "      <td>0.9996</td>\n",
              "      <td>0.9997</td>\n",
              "    </tr>\n",
              "    <tr>\n",
              "      <th>3.40</th>\n",
              "      <td>0.9997</td>\n",
              "      <td>0.9997</td>\n",
              "      <td>0.9997</td>\n",
              "      <td>0.9997</td>\n",
              "      <td>0.9997</td>\n",
              "      <td>0.9997</td>\n",
              "      <td>0.9997</td>\n",
              "      <td>0.9997</td>\n",
              "      <td>0.9997</td>\n",
              "      <td>0.9998</td>\n",
              "    </tr>\n",
              "    <tr>\n",
              "      <th>3.50</th>\n",
              "      <td>0.9998</td>\n",
              "      <td>0.9998</td>\n",
              "      <td>0.9998</td>\n",
              "      <td>0.9998</td>\n",
              "      <td>0.9998</td>\n",
              "      <td>0.9998</td>\n",
              "      <td>0.9998</td>\n",
              "      <td>0.9998</td>\n",
              "      <td>0.9998</td>\n",
              "      <td>0.9998</td>\n",
              "    </tr>\n",
              "    <tr>\n",
              "      <th>3.60</th>\n",
              "      <td>0.9998</td>\n",
              "      <td>0.9998</td>\n",
              "      <td>0.9999</td>\n",
              "      <td>0.9999</td>\n",
              "      <td>0.9999</td>\n",
              "      <td>0.9999</td>\n",
              "      <td>0.9999</td>\n",
              "      <td>0.9999</td>\n",
              "      <td>0.9999</td>\n",
              "      <td>0.9999</td>\n",
              "    </tr>\n",
              "    <tr>\n",
              "      <th>3.70</th>\n",
              "      <td>0.9999</td>\n",
              "      <td>0.9999</td>\n",
              "      <td>0.9999</td>\n",
              "      <td>0.9999</td>\n",
              "      <td>0.9999</td>\n",
              "      <td>0.9999</td>\n",
              "      <td>0.9999</td>\n",
              "      <td>0.9999</td>\n",
              "      <td>0.9999</td>\n",
              "      <td>0.9999</td>\n",
              "    </tr>\n",
              "    <tr>\n",
              "      <th>3.80</th>\n",
              "      <td>0.9999</td>\n",
              "      <td>0.9999</td>\n",
              "      <td>0.9999</td>\n",
              "      <td>0.9999</td>\n",
              "      <td>0.9999</td>\n",
              "      <td>0.9999</td>\n",
              "      <td>0.9999</td>\n",
              "      <td>0.9999</td>\n",
              "      <td>0.9999</td>\n",
              "      <td>0.9999</td>\n",
              "    </tr>\n",
              "    <tr>\n",
              "      <th>3.90</th>\n",
              "      <td>1.0000</td>\n",
              "      <td>1.0000</td>\n",
              "      <td>1.0000</td>\n",
              "      <td>1.0000</td>\n",
              "      <td>1.0000</td>\n",
              "      <td>1.0000</td>\n",
              "      <td>1.0000</td>\n",
              "      <td>1.0000</td>\n",
              "      <td>1.0000</td>\n",
              "      <td>1.0000</td>\n",
              "    </tr>\n",
              "  </tbody>\n",
              "</table>\n",
              "</div>"
            ],
            "text/plain": [
              "Z       0.00    0.01    0.02    0.03  ...    0.06    0.07    0.08    0.09\n",
              "0.00  0.5000  0.5040  0.5080  0.5120  ...  0.5239  0.5279  0.5319  0.5359\n",
              "0.10  0.5398  0.5438  0.5478  0.5517  ...  0.5636  0.5675  0.5714  0.5753\n",
              "0.20  0.5793  0.5832  0.5871  0.5910  ...  0.6026  0.6064  0.6103  0.6141\n",
              "0.30  0.6179  0.6217  0.6255  0.6293  ...  0.6406  0.6443  0.6480  0.6517\n",
              "0.40  0.6554  0.6591  0.6628  0.6664  ...  0.6772  0.6808  0.6844  0.6879\n",
              "0.50  0.6915  0.6950  0.6985  0.7019  ...  0.7123  0.7157  0.7190  0.7224\n",
              "0.60  0.7257  0.7291  0.7324  0.7357  ...  0.7454  0.7486  0.7517  0.7549\n",
              "0.70  0.7580  0.7611  0.7642  0.7673  ...  0.7764  0.7794  0.7823  0.7852\n",
              "0.80  0.7881  0.7910  0.7939  0.7967  ...  0.8051  0.8078  0.8106  0.8133\n",
              "0.90  0.8159  0.8186  0.8212  0.8238  ...  0.8315  0.8340  0.8365  0.8389\n",
              "1.00  0.8413  0.8438  0.8461  0.8485  ...  0.8554  0.8577  0.8599  0.8621\n",
              "1.10  0.8643  0.8665  0.8686  0.8708  ...  0.8770  0.8790  0.8810  0.8830\n",
              "1.20  0.8849  0.8869  0.8888  0.8907  ...  0.8962  0.8980  0.8997  0.9015\n",
              "1.30  0.9032  0.9049  0.9066  0.9082  ...  0.9131  0.9147  0.9162  0.9177\n",
              "1.40  0.9192  0.9207  0.9222  0.9236  ...  0.9279  0.9292  0.9306  0.9319\n",
              "1.50  0.9332  0.9345  0.9357  0.9370  ...  0.9406  0.9418  0.9429  0.9441\n",
              "1.60  0.9452  0.9463  0.9474  0.9484  ...  0.9515  0.9525  0.9535  0.9545\n",
              "1.70  0.9554  0.9564  0.9573  0.9582  ...  0.9608  0.9616  0.9625  0.9633\n",
              "1.80  0.9641  0.9649  0.9656  0.9664  ...  0.9686  0.9693  0.9699  0.9706\n",
              "1.90  0.9713  0.9719  0.9726  0.9732  ...  0.9750  0.9756  0.9761  0.9767\n",
              "2.00  0.9772  0.9778  0.9783  0.9788  ...  0.9803  0.9808  0.9812  0.9817\n",
              "2.10  0.9821  0.9826  0.9830  0.9834  ...  0.9846  0.9850  0.9854  0.9857\n",
              "2.20  0.9861  0.9864  0.9868  0.9871  ...  0.9881  0.9884  0.9887  0.9890\n",
              "2.30  0.9893  0.9896  0.9898  0.9901  ...  0.9909  0.9911  0.9913  0.9916\n",
              "2.40  0.9918  0.9920  0.9922  0.9925  ...  0.9931  0.9932  0.9934  0.9936\n",
              "2.50  0.9938  0.9940  0.9941  0.9943  ...  0.9948  0.9949  0.9951  0.9952\n",
              "2.60  0.9953  0.9955  0.9956  0.9957  ...  0.9961  0.9962  0.9963  0.9964\n",
              "2.70  0.9965  0.9966  0.9967  0.9968  ...  0.9971  0.9972  0.9973  0.9974\n",
              "2.80  0.9974  0.9975  0.9976  0.9977  ...  0.9979  0.9979  0.9980  0.9981\n",
              "2.90  0.9981  0.9982  0.9982  0.9983  ...  0.9985  0.9985  0.9986  0.9986\n",
              "3.00  0.9987  0.9987  0.9987  0.9988  ...  0.9989  0.9989  0.9990  0.9990\n",
              "3.10  0.9990  0.9991  0.9991  0.9991  ...  0.9992  0.9992  0.9993  0.9993\n",
              "3.20  0.9993  0.9993  0.9994  0.9994  ...  0.9994  0.9995  0.9995  0.9995\n",
              "3.30  0.9995  0.9995  0.9995  0.9996  ...  0.9996  0.9996  0.9996  0.9997\n",
              "3.40  0.9997  0.9997  0.9997  0.9997  ...  0.9997  0.9997  0.9997  0.9998\n",
              "3.50  0.9998  0.9998  0.9998  0.9998  ...  0.9998  0.9998  0.9998  0.9998\n",
              "3.60  0.9998  0.9998  0.9999  0.9999  ...  0.9999  0.9999  0.9999  0.9999\n",
              "3.70  0.9999  0.9999  0.9999  0.9999  ...  0.9999  0.9999  0.9999  0.9999\n",
              "3.80  0.9999  0.9999  0.9999  0.9999  ...  0.9999  0.9999  0.9999  0.9999\n",
              "3.90  1.0000  1.0000  1.0000  1.0000  ...  1.0000  1.0000  1.0000  1.0000\n",
              "\n",
              "[40 rows x 10 columns]"
            ]
          },
          "metadata": {
            "tags": []
          },
          "execution_count": 8
        }
      ]
    },
    {
      "cell_type": "code",
      "metadata": {
        "id": "rxzQuMmhpHbo",
        "colab": {
          "base_uri": "https://localhost:8080/"
        },
        "outputId": "b8701e22-7cb9-4e93-ea29-bd6e861421cb"
      },
      "source": [
        "media = 1.70\r\n",
        "desvio_padrao = 0.1\r\n",
        "x = 1.80\r\n",
        "z = (x - media)/ desvio_padrao\r\n",
        "print(z)\r\n",
        "print(\"probabilidade = 0.8413\")\r\n",
        "\r\n",
        "#Com o resultado de z = 1, procura-se na tabela por z = 01.00 e valor 0.00 para se obter o valor 0.8413\r\n",
        "#Caso Z = 1.05 por exemplo, procura-se por 1.00 e depois por 0.05 ao lado, ou seja, 0.8531"
      ],
      "execution_count": null,
      "outputs": [
        {
          "output_type": "stream",
          "text": [
            "1.0000000000000009\n",
            "probabilidade = 0.8413\n"
          ],
          "name": "stdout"
        }
      ]
    },
    {
      "cell_type": "markdown",
      "metadata": {
        "id": "j-7zNvlfpITC"
      },
      "source": [
        "#### Solução 2"
      ]
    },
    {
      "cell_type": "code",
      "metadata": {
        "id": "cEYVNfYapLBR",
        "colab": {
          "base_uri": "https://localhost:8080/"
        },
        "outputId": "796edfc3-fcf1-408c-c054-a244e5797457"
      },
      "source": [
        "#Podemos passar o valor de z com a função .cdf()\r\n",
        "\r\n",
        "from scipy.stats import norm\r\n",
        "probabilidade = norm.cdf(z)\r\n",
        "print(probabilidade)"
      ],
      "execution_count": null,
      "outputs": [
        {
          "output_type": "stream",
          "text": [
            "0.8413447460685431\n"
          ],
          "name": "stdout"
        }
      ]
    },
    {
      "cell_type": "code",
      "metadata": {
        "id": "dIc_No8U2ELE"
      },
      "source": [
        ""
      ],
      "execution_count": null,
      "outputs": []
    },
    {
      "cell_type": "code",
      "metadata": {
        "id": "JTVZfZFm2Kk5"
      },
      "source": [
        ""
      ],
      "execution_count": null,
      "outputs": []
    },
    {
      "cell_type": "code",
      "metadata": {
        "id": "QL-JQiGK4MoU"
      },
      "source": [
        ""
      ],
      "execution_count": null,
      "outputs": []
    },
    {
      "cell_type": "markdown",
      "metadata": {
        "id": "YilGS9m015qY"
      },
      "source": [
        "# Teorema do Limite Central"
      ]
    },
    {
      "cell_type": "markdown",
      "metadata": {
        "id": "6H3WiOif2QB9"
      },
      "source": [
        ""
      ]
    },
    {
      "cell_type": "markdown",
      "metadata": {
        "id": "6IYVlgt22PkW"
      },
      "source": [
        "## O **Teorema do Limite Central** afirma que, com o aumento do tamanho da amostra, a distribuição das médias amostrais se aproxima de uma distribuição normal com média igual à média da população e desvio padrão igual ao desvio padrão da variável original dividido pela raiz quadrada do tamanho da amostra. Este fato é assegurado para $n$ maior ou igual a 30.\r\n",
        "\r\n",
        "\r\n",
        ".\r\n",
        "## $$\\sigma_\\bar{x} = \\frac{\\sigma}{\\sqrt{n}}$$\r\n",
        "​\r\n",
        "## O desvio padrão das médias amostrais é conhecido como **erro padrão da média**\r\n"
      ]
    },
    {
      "cell_type": "code",
      "metadata": {
        "id": "Hl9yEwIj21ju",
        "colab": {
          "base_uri": "https://localhost:8080/"
        },
        "outputId": "3714825d-0f4d-4e78-fcbf-e3b3cf667f51"
      },
      "source": [
        "import pandas as pd\r\n",
        "from zipfile import ZipFile\r\n",
        "\r\n",
        "\r\n",
        "\r\n",
        "caminho = \"/content/drive/MyDrive/cursos/bootcampDSalura/dados modulo 3/PeNSE_2015_AMOSTRA2.zip\"\r\n",
        "zip = ZipFile(caminho)\r\n",
        "caminho_pasta_zipada = zip.namelist()[1]\r\n",
        "\r\n",
        "dados = pd.read_csv(zip.open(caminho_pasta_zipada), sep = \";\", thousands = \".\", decimal = \",\")\r\n",
        "dados.head()"
      ],
      "execution_count": null,
      "outputs": [
        {
          "output_type": "execute_result",
          "data": {
            "text/html": [
              "<div>\n",
              "<style scoped>\n",
              "    .dataframe tbody tr th:only-of-type {\n",
              "        vertical-align: middle;\n",
              "    }\n",
              "\n",
              "    .dataframe tbody tr th {\n",
              "        vertical-align: top;\n",
              "    }\n",
              "\n",
              "    .dataframe thead th {\n",
              "        text-align: right;\n",
              "    }\n",
              "</style>\n",
              "<table border=\"1\" class=\"dataframe\">\n",
              "  <thead>\n",
              "    <tr style=\"text-align: right;\">\n",
              "      <th></th>\n",
              "      <th>ANOPESQ</th>\n",
              "      <th>PAIS</th>\n",
              "      <th>REGEOGR</th>\n",
              "      <th>VB00004</th>\n",
              "      <th>VB01001</th>\n",
              "      <th>VB01002</th>\n",
              "      <th>VB01003</th>\n",
              "      <th>VB01004</th>\n",
              "      <th>VB01005</th>\n",
              "      <th>VB01006</th>\n",
              "      <th>VB01007</th>\n",
              "      <th>VB01008A</th>\n",
              "      <th>VB01010A</th>\n",
              "      <th>VB01011</th>\n",
              "      <th>VB01012</th>\n",
              "      <th>VB01013</th>\n",
              "      <th>VB01014</th>\n",
              "      <th>VB01015A</th>\n",
              "      <th>VB01016</th>\n",
              "      <th>VB01017</th>\n",
              "      <th>VB01018</th>\n",
              "      <th>VB01019</th>\n",
              "      <th>VB01020A</th>\n",
              "      <th>VB01021</th>\n",
              "      <th>VB01022</th>\n",
              "      <th>VB01023</th>\n",
              "      <th>VB01024</th>\n",
              "      <th>VB01025</th>\n",
              "      <th>VB01026</th>\n",
              "      <th>VB02001</th>\n",
              "      <th>VB02002</th>\n",
              "      <th>VB02004A</th>\n",
              "      <th>VB02010</th>\n",
              "      <th>VB02011</th>\n",
              "      <th>VB02013</th>\n",
              "      <th>VB02017A</th>\n",
              "      <th>VB02018A</th>\n",
              "      <th>VB02019A</th>\n",
              "      <th>VB02020A</th>\n",
              "      <th>VB02021</th>\n",
              "      <th>...</th>\n",
              "      <th>VB11005</th>\n",
              "      <th>VB11006</th>\n",
              "      <th>VB11007</th>\n",
              "      <th>VB12001</th>\n",
              "      <th>VB12002</th>\n",
              "      <th>VB12003</th>\n",
              "      <th>VB13001</th>\n",
              "      <th>VB13002A</th>\n",
              "      <th>VB13004A</th>\n",
              "      <th>VB13005</th>\n",
              "      <th>VB13006</th>\n",
              "      <th>VB13007</th>\n",
              "      <th>VB13008</th>\n",
              "      <th>VB13009</th>\n",
              "      <th>VB14001</th>\n",
              "      <th>VB14002</th>\n",
              "      <th>VB16001A01</th>\n",
              "      <th>VB16001A02</th>\n",
              "      <th>VB16001A03</th>\n",
              "      <th>VB16001A04</th>\n",
              "      <th>VB16001A05</th>\n",
              "      <th>VB16001A06</th>\n",
              "      <th>VB16001A07</th>\n",
              "      <th>VB16001A08</th>\n",
              "      <th>VB17001</th>\n",
              "      <th>VB17002</th>\n",
              "      <th>VB17003</th>\n",
              "      <th>VB17004</th>\n",
              "      <th>VB17005</th>\n",
              "      <th>VB17006</th>\n",
              "      <th>ESTRATO_EXP</th>\n",
              "      <th>ESTRATOGEOREG</th>\n",
              "      <th>PESO</th>\n",
              "      <th>V0006</th>\n",
              "      <th>V0007</th>\n",
              "      <th>V0008</th>\n",
              "      <th>V0041</th>\n",
              "      <th>aluno</th>\n",
              "      <th>escola</th>\n",
              "      <th>turma</th>\n",
              "    </tr>\n",
              "  </thead>\n",
              "  <tbody>\n",
              "    <tr>\n",
              "      <th>0</th>\n",
              "      <td>2015</td>\n",
              "      <td>76</td>\n",
              "      <td>1</td>\n",
              "      <td>1</td>\n",
              "      <td>2</td>\n",
              "      <td>1</td>\n",
              "      <td>13</td>\n",
              "      <td>7</td>\n",
              "      <td>7</td>\n",
              "      <td>1</td>\n",
              "      <td>2</td>\n",
              "      <td>7</td>\n",
              "      <td>3</td>\n",
              "      <td>2</td>\n",
              "      <td>-1</td>\n",
              "      <td>1</td>\n",
              "      <td>1</td>\n",
              "      <td>1</td>\n",
              "      <td>1</td>\n",
              "      <td>1</td>\n",
              "      <td>2</td>\n",
              "      <td>4</td>\n",
              "      <td>2</td>\n",
              "      <td>4</td>\n",
              "      <td>1</td>\n",
              "      <td>2</td>\n",
              "      <td>2</td>\n",
              "      <td>5</td>\n",
              "      <td>1</td>\n",
              "      <td>8</td>\n",
              "      <td>3</td>\n",
              "      <td>4</td>\n",
              "      <td>3</td>\n",
              "      <td>6</td>\n",
              "      <td>6</td>\n",
              "      <td>1</td>\n",
              "      <td>6</td>\n",
              "      <td>1</td>\n",
              "      <td>-1</td>\n",
              "      <td>2</td>\n",
              "      <td>...</td>\n",
              "      <td>2</td>\n",
              "      <td>1</td>\n",
              "      <td>2</td>\n",
              "      <td>1</td>\n",
              "      <td>1</td>\n",
              "      <td>4</td>\n",
              "      <td>2</td>\n",
              "      <td>-1</td>\n",
              "      <td>3</td>\n",
              "      <td>1</td>\n",
              "      <td>1</td>\n",
              "      <td>-1</td>\n",
              "      <td>1</td>\n",
              "      <td>1</td>\n",
              "      <td>2</td>\n",
              "      <td>2</td>\n",
              "      <td>1</td>\n",
              "      <td>2</td>\n",
              "      <td>2</td>\n",
              "      <td>2</td>\n",
              "      <td>2</td>\n",
              "      <td>2</td>\n",
              "      <td>2</td>\n",
              "      <td>2</td>\n",
              "      <td>371.0</td>\n",
              "      <td>1570.0</td>\n",
              "      <td>37.1</td>\n",
              "      <td>157.0</td>\n",
              "      <td>2</td>\n",
              "      <td>1</td>\n",
              "      <td>1223</td>\n",
              "      <td>1</td>\n",
              "      <td>299.735235</td>\n",
              "      <td>1</td>\n",
              "      <td>2</td>\n",
              "      <td>4</td>\n",
              "      <td>1</td>\n",
              "      <td>1</td>\n",
              "      <td>1</td>\n",
              "      <td>296</td>\n",
              "    </tr>\n",
              "    <tr>\n",
              "      <th>1</th>\n",
              "      <td>2015</td>\n",
              "      <td>76</td>\n",
              "      <td>1</td>\n",
              "      <td>1</td>\n",
              "      <td>2</td>\n",
              "      <td>1</td>\n",
              "      <td>14</td>\n",
              "      <td>4</td>\n",
              "      <td>7</td>\n",
              "      <td>1</td>\n",
              "      <td>1</td>\n",
              "      <td>7</td>\n",
              "      <td>3</td>\n",
              "      <td>2</td>\n",
              "      <td>-1</td>\n",
              "      <td>1</td>\n",
              "      <td>1</td>\n",
              "      <td>1</td>\n",
              "      <td>1</td>\n",
              "      <td>1</td>\n",
              "      <td>2</td>\n",
              "      <td>2</td>\n",
              "      <td>2</td>\n",
              "      <td>4</td>\n",
              "      <td>1</td>\n",
              "      <td>2</td>\n",
              "      <td>2</td>\n",
              "      <td>5</td>\n",
              "      <td>3</td>\n",
              "      <td>8</td>\n",
              "      <td>2</td>\n",
              "      <td>1</td>\n",
              "      <td>8</td>\n",
              "      <td>8</td>\n",
              "      <td>6</td>\n",
              "      <td>1</td>\n",
              "      <td>1</td>\n",
              "      <td>5</td>\n",
              "      <td>-1</td>\n",
              "      <td>2</td>\n",
              "      <td>...</td>\n",
              "      <td>2</td>\n",
              "      <td>3</td>\n",
              "      <td>2</td>\n",
              "      <td>4</td>\n",
              "      <td>4</td>\n",
              "      <td>4</td>\n",
              "      <td>1</td>\n",
              "      <td>2</td>\n",
              "      <td>3</td>\n",
              "      <td>3</td>\n",
              "      <td>1</td>\n",
              "      <td>-1</td>\n",
              "      <td>1</td>\n",
              "      <td>1</td>\n",
              "      <td>2</td>\n",
              "      <td>2</td>\n",
              "      <td>2</td>\n",
              "      <td>2</td>\n",
              "      <td>2</td>\n",
              "      <td>1</td>\n",
              "      <td>2</td>\n",
              "      <td>2</td>\n",
              "      <td>2</td>\n",
              "      <td>2</td>\n",
              "      <td>502.0</td>\n",
              "      <td>1520.0</td>\n",
              "      <td>50.2</td>\n",
              "      <td>152.0</td>\n",
              "      <td>2</td>\n",
              "      <td>2</td>\n",
              "      <td>1223</td>\n",
              "      <td>1</td>\n",
              "      <td>355.170081</td>\n",
              "      <td>1</td>\n",
              "      <td>2</td>\n",
              "      <td>4</td>\n",
              "      <td>1</td>\n",
              "      <td>2</td>\n",
              "      <td>1</td>\n",
              "      <td>296</td>\n",
              "    </tr>\n",
              "    <tr>\n",
              "      <th>2</th>\n",
              "      <td>2015</td>\n",
              "      <td>76</td>\n",
              "      <td>1</td>\n",
              "      <td>1</td>\n",
              "      <td>1</td>\n",
              "      <td>4</td>\n",
              "      <td>13</td>\n",
              "      <td>6</td>\n",
              "      <td>7</td>\n",
              "      <td>1</td>\n",
              "      <td>1</td>\n",
              "      <td>5</td>\n",
              "      <td>5</td>\n",
              "      <td>2</td>\n",
              "      <td>-1</td>\n",
              "      <td>2</td>\n",
              "      <td>1</td>\n",
              "      <td>1</td>\n",
              "      <td>1</td>\n",
              "      <td>1</td>\n",
              "      <td>2</td>\n",
              "      <td>3</td>\n",
              "      <td>1</td>\n",
              "      <td>4</td>\n",
              "      <td>1</td>\n",
              "      <td>2</td>\n",
              "      <td>2</td>\n",
              "      <td>5</td>\n",
              "      <td>3</td>\n",
              "      <td>2</td>\n",
              "      <td>3</td>\n",
              "      <td>1</td>\n",
              "      <td>8</td>\n",
              "      <td>2</td>\n",
              "      <td>8</td>\n",
              "      <td>1</td>\n",
              "      <td>1</td>\n",
              "      <td>5</td>\n",
              "      <td>5</td>\n",
              "      <td>1</td>\n",
              "      <td>...</td>\n",
              "      <td>2</td>\n",
              "      <td>1</td>\n",
              "      <td>2</td>\n",
              "      <td>1</td>\n",
              "      <td>2</td>\n",
              "      <td>3</td>\n",
              "      <td>1</td>\n",
              "      <td>2</td>\n",
              "      <td>1</td>\n",
              "      <td>2</td>\n",
              "      <td>5</td>\n",
              "      <td>99</td>\n",
              "      <td>1</td>\n",
              "      <td>-1</td>\n",
              "      <td>2</td>\n",
              "      <td>2</td>\n",
              "      <td>1</td>\n",
              "      <td>1</td>\n",
              "      <td>1</td>\n",
              "      <td>1</td>\n",
              "      <td>1</td>\n",
              "      <td>1</td>\n",
              "      <td>1</td>\n",
              "      <td>1</td>\n",
              "      <td>482.0</td>\n",
              "      <td>1614.0</td>\n",
              "      <td>48.2</td>\n",
              "      <td>161.4</td>\n",
              "      <td>2</td>\n",
              "      <td>2</td>\n",
              "      <td>1223</td>\n",
              "      <td>1</td>\n",
              "      <td>299.735235</td>\n",
              "      <td>1</td>\n",
              "      <td>2</td>\n",
              "      <td>4</td>\n",
              "      <td>1</td>\n",
              "      <td>3</td>\n",
              "      <td>1</td>\n",
              "      <td>296</td>\n",
              "    </tr>\n",
              "    <tr>\n",
              "      <th>3</th>\n",
              "      <td>2015</td>\n",
              "      <td>76</td>\n",
              "      <td>1</td>\n",
              "      <td>1</td>\n",
              "      <td>1</td>\n",
              "      <td>1</td>\n",
              "      <td>14</td>\n",
              "      <td>6</td>\n",
              "      <td>7</td>\n",
              "      <td>1</td>\n",
              "      <td>1</td>\n",
              "      <td>7</td>\n",
              "      <td>4</td>\n",
              "      <td>2</td>\n",
              "      <td>-1</td>\n",
              "      <td>1</td>\n",
              "      <td>1</td>\n",
              "      <td>1</td>\n",
              "      <td>1</td>\n",
              "      <td>1</td>\n",
              "      <td>2</td>\n",
              "      <td>4</td>\n",
              "      <td>2</td>\n",
              "      <td>4</td>\n",
              "      <td>1</td>\n",
              "      <td>2</td>\n",
              "      <td>2</td>\n",
              "      <td>6</td>\n",
              "      <td>3</td>\n",
              "      <td>2</td>\n",
              "      <td>4</td>\n",
              "      <td>1</td>\n",
              "      <td>3</td>\n",
              "      <td>2</td>\n",
              "      <td>7</td>\n",
              "      <td>1</td>\n",
              "      <td>5</td>\n",
              "      <td>1</td>\n",
              "      <td>-1</td>\n",
              "      <td>2</td>\n",
              "      <td>...</td>\n",
              "      <td>2</td>\n",
              "      <td>1</td>\n",
              "      <td>2</td>\n",
              "      <td>2</td>\n",
              "      <td>2</td>\n",
              "      <td>4</td>\n",
              "      <td>1</td>\n",
              "      <td>10</td>\n",
              "      <td>3</td>\n",
              "      <td>1</td>\n",
              "      <td>2</td>\n",
              "      <td>-1</td>\n",
              "      <td>1</td>\n",
              "      <td>-1</td>\n",
              "      <td>2</td>\n",
              "      <td>2</td>\n",
              "      <td>1</td>\n",
              "      <td>2</td>\n",
              "      <td>2</td>\n",
              "      <td>2</td>\n",
              "      <td>1</td>\n",
              "      <td>2</td>\n",
              "      <td>2</td>\n",
              "      <td>2</td>\n",
              "      <td>694.0</td>\n",
              "      <td>1725.0</td>\n",
              "      <td>69.4</td>\n",
              "      <td>172.5</td>\n",
              "      <td>2</td>\n",
              "      <td>3</td>\n",
              "      <td>1223</td>\n",
              "      <td>1</td>\n",
              "      <td>355.170081</td>\n",
              "      <td>1</td>\n",
              "      <td>2</td>\n",
              "      <td>4</td>\n",
              "      <td>1</td>\n",
              "      <td>4</td>\n",
              "      <td>1</td>\n",
              "      <td>296</td>\n",
              "    </tr>\n",
              "    <tr>\n",
              "      <th>4</th>\n",
              "      <td>2015</td>\n",
              "      <td>76</td>\n",
              "      <td>1</td>\n",
              "      <td>1</td>\n",
              "      <td>1</td>\n",
              "      <td>1</td>\n",
              "      <td>13</td>\n",
              "      <td>9</td>\n",
              "      <td>7</td>\n",
              "      <td>1</td>\n",
              "      <td>2</td>\n",
              "      <td>5</td>\n",
              "      <td>4</td>\n",
              "      <td>2</td>\n",
              "      <td>-1</td>\n",
              "      <td>2</td>\n",
              "      <td>1</td>\n",
              "      <td>1</td>\n",
              "      <td>1</td>\n",
              "      <td>1</td>\n",
              "      <td>2</td>\n",
              "      <td>5</td>\n",
              "      <td>1</td>\n",
              "      <td>4</td>\n",
              "      <td>1</td>\n",
              "      <td>2</td>\n",
              "      <td>2</td>\n",
              "      <td>6</td>\n",
              "      <td>5</td>\n",
              "      <td>6</td>\n",
              "      <td>3</td>\n",
              "      <td>5</td>\n",
              "      <td>2</td>\n",
              "      <td>6</td>\n",
              "      <td>2</td>\n",
              "      <td>1</td>\n",
              "      <td>5</td>\n",
              "      <td>1</td>\n",
              "      <td>5</td>\n",
              "      <td>1</td>\n",
              "      <td>...</td>\n",
              "      <td>2</td>\n",
              "      <td>1</td>\n",
              "      <td>4</td>\n",
              "      <td>2</td>\n",
              "      <td>2</td>\n",
              "      <td>4</td>\n",
              "      <td>1</td>\n",
              "      <td>3</td>\n",
              "      <td>2</td>\n",
              "      <td>2</td>\n",
              "      <td>2</td>\n",
              "      <td>13</td>\n",
              "      <td>1</td>\n",
              "      <td>-1</td>\n",
              "      <td>1</td>\n",
              "      <td>2</td>\n",
              "      <td>1</td>\n",
              "      <td>1</td>\n",
              "      <td>1</td>\n",
              "      <td>1</td>\n",
              "      <td>1</td>\n",
              "      <td>1</td>\n",
              "      <td>1</td>\n",
              "      <td>1</td>\n",
              "      <td>789.0</td>\n",
              "      <td>1675.0</td>\n",
              "      <td>78.9</td>\n",
              "      <td>167.5</td>\n",
              "      <td>2</td>\n",
              "      <td>4</td>\n",
              "      <td>1223</td>\n",
              "      <td>1</td>\n",
              "      <td>299.735235</td>\n",
              "      <td>1</td>\n",
              "      <td>2</td>\n",
              "      <td>4</td>\n",
              "      <td>1</td>\n",
              "      <td>5</td>\n",
              "      <td>1</td>\n",
              "      <td>296</td>\n",
              "    </tr>\n",
              "  </tbody>\n",
              "</table>\n",
              "<p>5 rows × 181 columns</p>\n",
              "</div>"
            ],
            "text/plain": [
              "   ANOPESQ  PAIS  REGEOGR  VB00004  VB01001  ...  V0008  V0041  aluno  escola  turma\n",
              "0     2015    76        1        1        2  ...      4      1      1       1    296\n",
              "1     2015    76        1        1        2  ...      4      1      2       1    296\n",
              "2     2015    76        1        1        1  ...      4      1      3       1    296\n",
              "3     2015    76        1        1        1  ...      4      1      4       1    296\n",
              "4     2015    76        1        1        1  ...      4      1      5       1    296\n",
              "\n",
              "[5 rows x 181 columns]"
            ]
          },
          "metadata": {
            "tags": []
          },
          "execution_count": 11
        }
      ]
    },
    {
      "cell_type": "code",
      "metadata": {
        "id": "_e7RCOig2Up8",
        "colab": {
          "base_uri": "https://localhost:8080/"
        },
        "outputId": "74e79437-d3c9-47b6-ba4a-52fa340ec386"
      },
      "source": [
        "dados[\"IMC\"] = dados[\"VB17003\"]/ ((dados[\"VB17004\"]/100)**2)\r\n",
        "dados[\"IMC\"]"
      ],
      "execution_count": null,
      "outputs": [
        {
          "output_type": "execute_result",
          "data": {
            "text/plain": [
              "0        15.051321\n",
              "1        21.727839\n",
              "2        18.502907\n",
              "3        23.322831\n",
              "4        28.122076\n",
              "           ...    \n",
              "16551    20.113223\n",
              "16552    17.930782\n",
              "16553    23.968489\n",
              "16554    18.995343\n",
              "16555    23.303246\n",
              "Name: IMC, Length: 16556, dtype: float64"
            ]
          },
          "metadata": {
            "tags": []
          },
          "execution_count": 12
        }
      ]
    },
    {
      "cell_type": "code",
      "metadata": {
        "id": "N7a-yveg2Vka",
        "colab": {
          "base_uri": "https://localhost:8080/"
        },
        "outputId": "18035ff7-31d8-4cf6-e0aa-977a58eebb3f"
      },
      "source": [
        "#Criando a amostra de 1500 amostras de 2000 elementos\r\n",
        "\r\n",
        "n = 2000\r\n",
        "total_de_amostras = 1500\r\n",
        "amostras = pd.DataFrame()\r\n",
        "for i in range(total_de_amostras):\r\n",
        "  _ = dados.IMC.sample(n)\r\n",
        "  _.index = range(0, len(_))\r\n",
        "  amostras['Amostra_' + str(i)] = _\r\n",
        "\r\n",
        "amostras"
      ],
      "execution_count": null,
      "outputs": [
        {
          "output_type": "execute_result",
          "data": {
            "text/html": [
              "<div>\n",
              "<style scoped>\n",
              "    .dataframe tbody tr th:only-of-type {\n",
              "        vertical-align: middle;\n",
              "    }\n",
              "\n",
              "    .dataframe tbody tr th {\n",
              "        vertical-align: top;\n",
              "    }\n",
              "\n",
              "    .dataframe thead th {\n",
              "        text-align: right;\n",
              "    }\n",
              "</style>\n",
              "<table border=\"1\" class=\"dataframe\">\n",
              "  <thead>\n",
              "    <tr style=\"text-align: right;\">\n",
              "      <th></th>\n",
              "      <th>Amostra_0</th>\n",
              "      <th>Amostra_1</th>\n",
              "      <th>Amostra_2</th>\n",
              "      <th>Amostra_3</th>\n",
              "      <th>Amostra_4</th>\n",
              "      <th>Amostra_5</th>\n",
              "      <th>Amostra_6</th>\n",
              "      <th>Amostra_7</th>\n",
              "      <th>Amostra_8</th>\n",
              "      <th>Amostra_9</th>\n",
              "      <th>Amostra_10</th>\n",
              "      <th>Amostra_11</th>\n",
              "      <th>Amostra_12</th>\n",
              "      <th>Amostra_13</th>\n",
              "      <th>Amostra_14</th>\n",
              "      <th>Amostra_15</th>\n",
              "      <th>Amostra_16</th>\n",
              "      <th>Amostra_17</th>\n",
              "      <th>Amostra_18</th>\n",
              "      <th>Amostra_19</th>\n",
              "      <th>Amostra_20</th>\n",
              "      <th>Amostra_21</th>\n",
              "      <th>Amostra_22</th>\n",
              "      <th>Amostra_23</th>\n",
              "      <th>Amostra_24</th>\n",
              "      <th>Amostra_25</th>\n",
              "      <th>Amostra_26</th>\n",
              "      <th>Amostra_27</th>\n",
              "      <th>Amostra_28</th>\n",
              "      <th>Amostra_29</th>\n",
              "      <th>Amostra_30</th>\n",
              "      <th>Amostra_31</th>\n",
              "      <th>Amostra_32</th>\n",
              "      <th>Amostra_33</th>\n",
              "      <th>Amostra_34</th>\n",
              "      <th>Amostra_35</th>\n",
              "      <th>Amostra_36</th>\n",
              "      <th>Amostra_37</th>\n",
              "      <th>Amostra_38</th>\n",
              "      <th>Amostra_39</th>\n",
              "      <th>...</th>\n",
              "      <th>Amostra_1460</th>\n",
              "      <th>Amostra_1461</th>\n",
              "      <th>Amostra_1462</th>\n",
              "      <th>Amostra_1463</th>\n",
              "      <th>Amostra_1464</th>\n",
              "      <th>Amostra_1465</th>\n",
              "      <th>Amostra_1466</th>\n",
              "      <th>Amostra_1467</th>\n",
              "      <th>Amostra_1468</th>\n",
              "      <th>Amostra_1469</th>\n",
              "      <th>Amostra_1470</th>\n",
              "      <th>Amostra_1471</th>\n",
              "      <th>Amostra_1472</th>\n",
              "      <th>Amostra_1473</th>\n",
              "      <th>Amostra_1474</th>\n",
              "      <th>Amostra_1475</th>\n",
              "      <th>Amostra_1476</th>\n",
              "      <th>Amostra_1477</th>\n",
              "      <th>Amostra_1478</th>\n",
              "      <th>Amostra_1479</th>\n",
              "      <th>Amostra_1480</th>\n",
              "      <th>Amostra_1481</th>\n",
              "      <th>Amostra_1482</th>\n",
              "      <th>Amostra_1483</th>\n",
              "      <th>Amostra_1484</th>\n",
              "      <th>Amostra_1485</th>\n",
              "      <th>Amostra_1486</th>\n",
              "      <th>Amostra_1487</th>\n",
              "      <th>Amostra_1488</th>\n",
              "      <th>Amostra_1489</th>\n",
              "      <th>Amostra_1490</th>\n",
              "      <th>Amostra_1491</th>\n",
              "      <th>Amostra_1492</th>\n",
              "      <th>Amostra_1493</th>\n",
              "      <th>Amostra_1494</th>\n",
              "      <th>Amostra_1495</th>\n",
              "      <th>Amostra_1496</th>\n",
              "      <th>Amostra_1497</th>\n",
              "      <th>Amostra_1498</th>\n",
              "      <th>Amostra_1499</th>\n",
              "    </tr>\n",
              "  </thead>\n",
              "  <tbody>\n",
              "    <tr>\n",
              "      <th>0</th>\n",
              "      <td>22.126197</td>\n",
              "      <td>20.703428</td>\n",
              "      <td>17.707031</td>\n",
              "      <td>19.197208</td>\n",
              "      <td>25.597696</td>\n",
              "      <td>23.848804</td>\n",
              "      <td>17.709508</td>\n",
              "      <td>17.034333</td>\n",
              "      <td>17.475712</td>\n",
              "      <td>20.501032</td>\n",
              "      <td>22.175605</td>\n",
              "      <td>21.077758</td>\n",
              "      <td>15.779551</td>\n",
              "      <td>20.820312</td>\n",
              "      <td>17.266489</td>\n",
              "      <td>21.174630</td>\n",
              "      <td>16.010185</td>\n",
              "      <td>16.182121</td>\n",
              "      <td>21.049383</td>\n",
              "      <td>19.185360</td>\n",
              "      <td>18.135055</td>\n",
              "      <td>16.891110</td>\n",
              "      <td>24.055622</td>\n",
              "      <td>15.643447</td>\n",
              "      <td>21.518136</td>\n",
              "      <td>22.185840</td>\n",
              "      <td>29.191709</td>\n",
              "      <td>19.566862</td>\n",
              "      <td>22.688020</td>\n",
              "      <td>19.735648</td>\n",
              "      <td>20.546879</td>\n",
              "      <td>22.124815</td>\n",
              "      <td>23.757503</td>\n",
              "      <td>17.843364</td>\n",
              "      <td>20.077467</td>\n",
              "      <td>18.390845</td>\n",
              "      <td>18.671875</td>\n",
              "      <td>19.686581</td>\n",
              "      <td>16.904342</td>\n",
              "      <td>19.475048</td>\n",
              "      <td>...</td>\n",
              "      <td>18.999812</td>\n",
              "      <td>18.819173</td>\n",
              "      <td>15.898810</td>\n",
              "      <td>17.294740</td>\n",
              "      <td>16.801357</td>\n",
              "      <td>23.334632</td>\n",
              "      <td>15.555941</td>\n",
              "      <td>22.541039</td>\n",
              "      <td>15.524689</td>\n",
              "      <td>15.947430</td>\n",
              "      <td>18.324340</td>\n",
              "      <td>21.974352</td>\n",
              "      <td>17.187772</td>\n",
              "      <td>19.868496</td>\n",
              "      <td>22.057381</td>\n",
              "      <td>25.441237</td>\n",
              "      <td>24.582464</td>\n",
              "      <td>19.843012</td>\n",
              "      <td>24.463928</td>\n",
              "      <td>16.275791</td>\n",
              "      <td>17.852149</td>\n",
              "      <td>22.216635</td>\n",
              "      <td>17.961433</td>\n",
              "      <td>15.618082</td>\n",
              "      <td>26.638359</td>\n",
              "      <td>16.621183</td>\n",
              "      <td>19.211884</td>\n",
              "      <td>24.845717</td>\n",
              "      <td>15.959951</td>\n",
              "      <td>15.670596</td>\n",
              "      <td>22.122325</td>\n",
              "      <td>15.151465</td>\n",
              "      <td>18.933355</td>\n",
              "      <td>22.162355</td>\n",
              "      <td>18.746783</td>\n",
              "      <td>19.167463</td>\n",
              "      <td>21.311134</td>\n",
              "      <td>23.515870</td>\n",
              "      <td>27.971351</td>\n",
              "      <td>30.288798</td>\n",
              "    </tr>\n",
              "    <tr>\n",
              "      <th>1</th>\n",
              "      <td>18.727705</td>\n",
              "      <td>28.065138</td>\n",
              "      <td>19.818969</td>\n",
              "      <td>26.919012</td>\n",
              "      <td>26.910478</td>\n",
              "      <td>29.542996</td>\n",
              "      <td>18.096886</td>\n",
              "      <td>17.771010</td>\n",
              "      <td>18.234403</td>\n",
              "      <td>23.946249</td>\n",
              "      <td>16.550752</td>\n",
              "      <td>23.659880</td>\n",
              "      <td>17.881024</td>\n",
              "      <td>24.896549</td>\n",
              "      <td>18.715145</td>\n",
              "      <td>17.733333</td>\n",
              "      <td>23.339562</td>\n",
              "      <td>18.395574</td>\n",
              "      <td>23.483205</td>\n",
              "      <td>18.850965</td>\n",
              "      <td>37.823604</td>\n",
              "      <td>17.201741</td>\n",
              "      <td>27.888060</td>\n",
              "      <td>18.318424</td>\n",
              "      <td>18.241109</td>\n",
              "      <td>17.396542</td>\n",
              "      <td>24.085207</td>\n",
              "      <td>18.623951</td>\n",
              "      <td>27.046493</td>\n",
              "      <td>20.849105</td>\n",
              "      <td>30.794140</td>\n",
              "      <td>25.956790</td>\n",
              "      <td>16.072846</td>\n",
              "      <td>24.678617</td>\n",
              "      <td>28.144334</td>\n",
              "      <td>27.226861</td>\n",
              "      <td>16.786921</td>\n",
              "      <td>22.132304</td>\n",
              "      <td>24.256983</td>\n",
              "      <td>17.052260</td>\n",
              "      <td>...</td>\n",
              "      <td>17.251996</td>\n",
              "      <td>24.494786</td>\n",
              "      <td>25.445587</td>\n",
              "      <td>23.082017</td>\n",
              "      <td>26.709293</td>\n",
              "      <td>14.467563</td>\n",
              "      <td>18.253110</td>\n",
              "      <td>21.001226</td>\n",
              "      <td>19.597732</td>\n",
              "      <td>19.319750</td>\n",
              "      <td>27.680139</td>\n",
              "      <td>16.544118</td>\n",
              "      <td>16.748843</td>\n",
              "      <td>21.358352</td>\n",
              "      <td>20.564761</td>\n",
              "      <td>18.304045</td>\n",
              "      <td>20.478668</td>\n",
              "      <td>25.435569</td>\n",
              "      <td>17.206116</td>\n",
              "      <td>21.005243</td>\n",
              "      <td>21.293031</td>\n",
              "      <td>25.656971</td>\n",
              "      <td>21.468144</td>\n",
              "      <td>15.534959</td>\n",
              "      <td>27.253593</td>\n",
              "      <td>15.332391</td>\n",
              "      <td>18.198120</td>\n",
              "      <td>23.349671</td>\n",
              "      <td>19.509221</td>\n",
              "      <td>22.951888</td>\n",
              "      <td>24.386526</td>\n",
              "      <td>18.737726</td>\n",
              "      <td>25.896695</td>\n",
              "      <td>23.874499</td>\n",
              "      <td>24.614517</td>\n",
              "      <td>19.821999</td>\n",
              "      <td>19.355893</td>\n",
              "      <td>20.868266</td>\n",
              "      <td>23.832540</td>\n",
              "      <td>17.585265</td>\n",
              "    </tr>\n",
              "    <tr>\n",
              "      <th>2</th>\n",
              "      <td>19.005686</td>\n",
              "      <td>23.131277</td>\n",
              "      <td>24.706038</td>\n",
              "      <td>20.053855</td>\n",
              "      <td>18.051974</td>\n",
              "      <td>24.944337</td>\n",
              "      <td>21.571229</td>\n",
              "      <td>22.182585</td>\n",
              "      <td>20.081913</td>\n",
              "      <td>20.344506</td>\n",
              "      <td>21.625416</td>\n",
              "      <td>20.107095</td>\n",
              "      <td>19.831673</td>\n",
              "      <td>17.659280</td>\n",
              "      <td>18.478082</td>\n",
              "      <td>20.058145</td>\n",
              "      <td>20.416490</td>\n",
              "      <td>20.909698</td>\n",
              "      <td>20.724926</td>\n",
              "      <td>15.192377</td>\n",
              "      <td>16.885652</td>\n",
              "      <td>23.155552</td>\n",
              "      <td>26.088217</td>\n",
              "      <td>23.225833</td>\n",
              "      <td>14.477285</td>\n",
              "      <td>24.152249</td>\n",
              "      <td>20.436491</td>\n",
              "      <td>20.580617</td>\n",
              "      <td>21.194429</td>\n",
              "      <td>14.276878</td>\n",
              "      <td>19.397739</td>\n",
              "      <td>17.919363</td>\n",
              "      <td>19.181122</td>\n",
              "      <td>20.411573</td>\n",
              "      <td>17.842864</td>\n",
              "      <td>21.420138</td>\n",
              "      <td>19.348603</td>\n",
              "      <td>21.183468</td>\n",
              "      <td>17.520833</td>\n",
              "      <td>19.315743</td>\n",
              "      <td>...</td>\n",
              "      <td>15.449216</td>\n",
              "      <td>20.003740</td>\n",
              "      <td>20.666298</td>\n",
              "      <td>20.262941</td>\n",
              "      <td>18.263926</td>\n",
              "      <td>27.934656</td>\n",
              "      <td>25.874604</td>\n",
              "      <td>17.243028</td>\n",
              "      <td>29.724980</td>\n",
              "      <td>14.884466</td>\n",
              "      <td>23.924316</td>\n",
              "      <td>18.266303</td>\n",
              "      <td>19.275866</td>\n",
              "      <td>18.782088</td>\n",
              "      <td>14.687817</td>\n",
              "      <td>23.623982</td>\n",
              "      <td>20.754513</td>\n",
              "      <td>16.804353</td>\n",
              "      <td>22.202552</td>\n",
              "      <td>20.836822</td>\n",
              "      <td>18.395083</td>\n",
              "      <td>20.028842</td>\n",
              "      <td>20.396037</td>\n",
              "      <td>26.175199</td>\n",
              "      <td>20.070947</td>\n",
              "      <td>20.108957</td>\n",
              "      <td>24.634434</td>\n",
              "      <td>18.835689</td>\n",
              "      <td>31.861629</td>\n",
              "      <td>20.140225</td>\n",
              "      <td>24.227309</td>\n",
              "      <td>18.589099</td>\n",
              "      <td>20.152613</td>\n",
              "      <td>14.363853</td>\n",
              "      <td>18.819576</td>\n",
              "      <td>21.357965</td>\n",
              "      <td>18.883260</td>\n",
              "      <td>16.885537</td>\n",
              "      <td>25.088608</td>\n",
              "      <td>20.651973</td>\n",
              "    </tr>\n",
              "    <tr>\n",
              "      <th>3</th>\n",
              "      <td>22.219054</td>\n",
              "      <td>20.007260</td>\n",
              "      <td>33.857234</td>\n",
              "      <td>17.428034</td>\n",
              "      <td>22.419466</td>\n",
              "      <td>19.813795</td>\n",
              "      <td>18.999108</td>\n",
              "      <td>18.837953</td>\n",
              "      <td>18.384525</td>\n",
              "      <td>23.782249</td>\n",
              "      <td>20.897311</td>\n",
              "      <td>23.370926</td>\n",
              "      <td>19.014375</td>\n",
              "      <td>18.276139</td>\n",
              "      <td>19.389037</td>\n",
              "      <td>19.471117</td>\n",
              "      <td>31.673778</td>\n",
              "      <td>26.434579</td>\n",
              "      <td>22.614569</td>\n",
              "      <td>20.151695</td>\n",
              "      <td>18.750325</td>\n",
              "      <td>20.826396</td>\n",
              "      <td>24.034407</td>\n",
              "      <td>20.371569</td>\n",
              "      <td>18.772088</td>\n",
              "      <td>25.445262</td>\n",
              "      <td>21.312005</td>\n",
              "      <td>22.826881</td>\n",
              "      <td>23.621439</td>\n",
              "      <td>18.370523</td>\n",
              "      <td>24.039274</td>\n",
              "      <td>17.724159</td>\n",
              "      <td>21.785434</td>\n",
              "      <td>22.469804</td>\n",
              "      <td>16.848166</td>\n",
              "      <td>19.821615</td>\n",
              "      <td>23.146952</td>\n",
              "      <td>18.276751</td>\n",
              "      <td>23.705553</td>\n",
              "      <td>18.022824</td>\n",
              "      <td>...</td>\n",
              "      <td>25.596716</td>\n",
              "      <td>22.045083</td>\n",
              "      <td>18.807569</td>\n",
              "      <td>19.356802</td>\n",
              "      <td>23.494819</td>\n",
              "      <td>27.541740</td>\n",
              "      <td>17.567495</td>\n",
              "      <td>21.435081</td>\n",
              "      <td>33.635522</td>\n",
              "      <td>20.209889</td>\n",
              "      <td>15.480324</td>\n",
              "      <td>18.215067</td>\n",
              "      <td>14.858683</td>\n",
              "      <td>19.613792</td>\n",
              "      <td>29.453061</td>\n",
              "      <td>19.335666</td>\n",
              "      <td>21.555585</td>\n",
              "      <td>23.165279</td>\n",
              "      <td>18.614398</td>\n",
              "      <td>17.145131</td>\n",
              "      <td>23.200172</td>\n",
              "      <td>27.033087</td>\n",
              "      <td>17.500000</td>\n",
              "      <td>17.158219</td>\n",
              "      <td>15.648905</td>\n",
              "      <td>18.555746</td>\n",
              "      <td>24.790598</td>\n",
              "      <td>24.643013</td>\n",
              "      <td>17.127022</td>\n",
              "      <td>22.998473</td>\n",
              "      <td>21.317179</td>\n",
              "      <td>22.093693</td>\n",
              "      <td>16.271216</td>\n",
              "      <td>23.620288</td>\n",
              "      <td>21.294125</td>\n",
              "      <td>26.869711</td>\n",
              "      <td>20.698707</td>\n",
              "      <td>23.244595</td>\n",
              "      <td>20.763980</td>\n",
              "      <td>25.260225</td>\n",
              "    </tr>\n",
              "    <tr>\n",
              "      <th>4</th>\n",
              "      <td>15.660203</td>\n",
              "      <td>19.200441</td>\n",
              "      <td>27.409312</td>\n",
              "      <td>18.075990</td>\n",
              "      <td>19.278176</td>\n",
              "      <td>19.114187</td>\n",
              "      <td>27.720785</td>\n",
              "      <td>21.125625</td>\n",
              "      <td>16.649795</td>\n",
              "      <td>14.754381</td>\n",
              "      <td>17.911866</td>\n",
              "      <td>20.283562</td>\n",
              "      <td>17.962350</td>\n",
              "      <td>25.017313</td>\n",
              "      <td>17.319203</td>\n",
              "      <td>20.723509</td>\n",
              "      <td>27.845033</td>\n",
              "      <td>20.412776</td>\n",
              "      <td>21.338211</td>\n",
              "      <td>21.613430</td>\n",
              "      <td>26.433207</td>\n",
              "      <td>18.337346</td>\n",
              "      <td>24.220049</td>\n",
              "      <td>29.877551</td>\n",
              "      <td>19.178076</td>\n",
              "      <td>18.209842</td>\n",
              "      <td>22.384553</td>\n",
              "      <td>16.904342</td>\n",
              "      <td>17.953254</td>\n",
              "      <td>17.153841</td>\n",
              "      <td>19.076530</td>\n",
              "      <td>16.789562</td>\n",
              "      <td>15.460331</td>\n",
              "      <td>18.523283</td>\n",
              "      <td>19.067644</td>\n",
              "      <td>31.565200</td>\n",
              "      <td>25.706845</td>\n",
              "      <td>26.860621</td>\n",
              "      <td>16.115418</td>\n",
              "      <td>18.031426</td>\n",
              "      <td>...</td>\n",
              "      <td>17.066623</td>\n",
              "      <td>20.472116</td>\n",
              "      <td>14.601663</td>\n",
              "      <td>29.017447</td>\n",
              "      <td>17.091653</td>\n",
              "      <td>17.183172</td>\n",
              "      <td>15.624397</td>\n",
              "      <td>19.083689</td>\n",
              "      <td>20.754980</td>\n",
              "      <td>25.107780</td>\n",
              "      <td>21.907387</td>\n",
              "      <td>31.473861</td>\n",
              "      <td>19.610829</td>\n",
              "      <td>20.376909</td>\n",
              "      <td>21.048048</td>\n",
              "      <td>22.565889</td>\n",
              "      <td>16.547761</td>\n",
              "      <td>22.248202</td>\n",
              "      <td>28.457982</td>\n",
              "      <td>21.625620</td>\n",
              "      <td>18.122499</td>\n",
              "      <td>22.506611</td>\n",
              "      <td>17.069394</td>\n",
              "      <td>15.352761</td>\n",
              "      <td>20.686785</td>\n",
              "      <td>19.948060</td>\n",
              "      <td>30.443839</td>\n",
              "      <td>24.679459</td>\n",
              "      <td>21.049036</td>\n",
              "      <td>16.909306</td>\n",
              "      <td>19.548969</td>\n",
              "      <td>20.745098</td>\n",
              "      <td>17.036750</td>\n",
              "      <td>18.600559</td>\n",
              "      <td>30.927822</td>\n",
              "      <td>20.758524</td>\n",
              "      <td>21.477656</td>\n",
              "      <td>29.318879</td>\n",
              "      <td>15.430972</td>\n",
              "      <td>21.894197</td>\n",
              "    </tr>\n",
              "    <tr>\n",
              "      <th>...</th>\n",
              "      <td>...</td>\n",
              "      <td>...</td>\n",
              "      <td>...</td>\n",
              "      <td>...</td>\n",
              "      <td>...</td>\n",
              "      <td>...</td>\n",
              "      <td>...</td>\n",
              "      <td>...</td>\n",
              "      <td>...</td>\n",
              "      <td>...</td>\n",
              "      <td>...</td>\n",
              "      <td>...</td>\n",
              "      <td>...</td>\n",
              "      <td>...</td>\n",
              "      <td>...</td>\n",
              "      <td>...</td>\n",
              "      <td>...</td>\n",
              "      <td>...</td>\n",
              "      <td>...</td>\n",
              "      <td>...</td>\n",
              "      <td>...</td>\n",
              "      <td>...</td>\n",
              "      <td>...</td>\n",
              "      <td>...</td>\n",
              "      <td>...</td>\n",
              "      <td>...</td>\n",
              "      <td>...</td>\n",
              "      <td>...</td>\n",
              "      <td>...</td>\n",
              "      <td>...</td>\n",
              "      <td>...</td>\n",
              "      <td>...</td>\n",
              "      <td>...</td>\n",
              "      <td>...</td>\n",
              "      <td>...</td>\n",
              "      <td>...</td>\n",
              "      <td>...</td>\n",
              "      <td>...</td>\n",
              "      <td>...</td>\n",
              "      <td>...</td>\n",
              "      <td>...</td>\n",
              "      <td>...</td>\n",
              "      <td>...</td>\n",
              "      <td>...</td>\n",
              "      <td>...</td>\n",
              "      <td>...</td>\n",
              "      <td>...</td>\n",
              "      <td>...</td>\n",
              "      <td>...</td>\n",
              "      <td>...</td>\n",
              "      <td>...</td>\n",
              "      <td>...</td>\n",
              "      <td>...</td>\n",
              "      <td>...</td>\n",
              "      <td>...</td>\n",
              "      <td>...</td>\n",
              "      <td>...</td>\n",
              "      <td>...</td>\n",
              "      <td>...</td>\n",
              "      <td>...</td>\n",
              "      <td>...</td>\n",
              "      <td>...</td>\n",
              "      <td>...</td>\n",
              "      <td>...</td>\n",
              "      <td>...</td>\n",
              "      <td>...</td>\n",
              "      <td>...</td>\n",
              "      <td>...</td>\n",
              "      <td>...</td>\n",
              "      <td>...</td>\n",
              "      <td>...</td>\n",
              "      <td>...</td>\n",
              "      <td>...</td>\n",
              "      <td>...</td>\n",
              "      <td>...</td>\n",
              "      <td>...</td>\n",
              "      <td>...</td>\n",
              "      <td>...</td>\n",
              "      <td>...</td>\n",
              "      <td>...</td>\n",
              "      <td>...</td>\n",
              "    </tr>\n",
              "    <tr>\n",
              "      <th>1995</th>\n",
              "      <td>19.676255</td>\n",
              "      <td>19.236241</td>\n",
              "      <td>19.975271</td>\n",
              "      <td>26.385337</td>\n",
              "      <td>16.474617</td>\n",
              "      <td>20.459332</td>\n",
              "      <td>23.327518</td>\n",
              "      <td>29.043791</td>\n",
              "      <td>19.669229</td>\n",
              "      <td>25.686330</td>\n",
              "      <td>21.113676</td>\n",
              "      <td>23.987516</td>\n",
              "      <td>24.844482</td>\n",
              "      <td>20.225680</td>\n",
              "      <td>21.677465</td>\n",
              "      <td>22.007112</td>\n",
              "      <td>24.477765</td>\n",
              "      <td>22.054206</td>\n",
              "      <td>23.976014</td>\n",
              "      <td>17.718336</td>\n",
              "      <td>26.224731</td>\n",
              "      <td>15.637106</td>\n",
              "      <td>18.244838</td>\n",
              "      <td>19.531217</td>\n",
              "      <td>18.796189</td>\n",
              "      <td>39.426999</td>\n",
              "      <td>16.785332</td>\n",
              "      <td>24.402614</td>\n",
              "      <td>23.940856</td>\n",
              "      <td>26.869711</td>\n",
              "      <td>22.499066</td>\n",
              "      <td>19.497516</td>\n",
              "      <td>21.193782</td>\n",
              "      <td>22.240377</td>\n",
              "      <td>20.156211</td>\n",
              "      <td>16.985132</td>\n",
              "      <td>24.085155</td>\n",
              "      <td>21.372578</td>\n",
              "      <td>15.183651</td>\n",
              "      <td>19.146479</td>\n",
              "      <td>...</td>\n",
              "      <td>21.267671</td>\n",
              "      <td>15.973737</td>\n",
              "      <td>15.204558</td>\n",
              "      <td>34.397505</td>\n",
              "      <td>21.709978</td>\n",
              "      <td>23.099611</td>\n",
              "      <td>20.117187</td>\n",
              "      <td>19.775837</td>\n",
              "      <td>20.981886</td>\n",
              "      <td>21.129301</td>\n",
              "      <td>21.317122</td>\n",
              "      <td>23.370591</td>\n",
              "      <td>17.170040</td>\n",
              "      <td>42.071921</td>\n",
              "      <td>15.596026</td>\n",
              "      <td>17.848004</td>\n",
              "      <td>18.699625</td>\n",
              "      <td>19.110246</td>\n",
              "      <td>20.196587</td>\n",
              "      <td>15.330874</td>\n",
              "      <td>18.825063</td>\n",
              "      <td>21.037597</td>\n",
              "      <td>29.436218</td>\n",
              "      <td>19.296051</td>\n",
              "      <td>28.114731</td>\n",
              "      <td>19.598036</td>\n",
              "      <td>24.277987</td>\n",
              "      <td>20.691610</td>\n",
              "      <td>17.590377</td>\n",
              "      <td>15.877739</td>\n",
              "      <td>16.280389</td>\n",
              "      <td>24.056839</td>\n",
              "      <td>21.264113</td>\n",
              "      <td>20.322964</td>\n",
              "      <td>23.158809</td>\n",
              "      <td>18.510888</td>\n",
              "      <td>18.244838</td>\n",
              "      <td>20.821003</td>\n",
              "      <td>20.238434</td>\n",
              "      <td>17.937610</td>\n",
              "    </tr>\n",
              "    <tr>\n",
              "      <th>1996</th>\n",
              "      <td>20.657058</td>\n",
              "      <td>16.718248</td>\n",
              "      <td>29.544004</td>\n",
              "      <td>27.465617</td>\n",
              "      <td>27.890625</td>\n",
              "      <td>23.073673</td>\n",
              "      <td>17.476413</td>\n",
              "      <td>19.315310</td>\n",
              "      <td>22.269848</td>\n",
              "      <td>17.881024</td>\n",
              "      <td>20.103728</td>\n",
              "      <td>19.311790</td>\n",
              "      <td>21.414141</td>\n",
              "      <td>17.464914</td>\n",
              "      <td>23.614572</td>\n",
              "      <td>23.253569</td>\n",
              "      <td>26.445637</td>\n",
              "      <td>19.262506</td>\n",
              "      <td>18.576140</td>\n",
              "      <td>17.453604</td>\n",
              "      <td>20.258883</td>\n",
              "      <td>18.941681</td>\n",
              "      <td>15.652392</td>\n",
              "      <td>19.389349</td>\n",
              "      <td>21.856186</td>\n",
              "      <td>29.468771</td>\n",
              "      <td>18.653727</td>\n",
              "      <td>20.519022</td>\n",
              "      <td>20.693281</td>\n",
              "      <td>26.511037</td>\n",
              "      <td>21.319919</td>\n",
              "      <td>17.737351</td>\n",
              "      <td>20.449890</td>\n",
              "      <td>18.480016</td>\n",
              "      <td>18.931838</td>\n",
              "      <td>24.148399</td>\n",
              "      <td>19.297399</td>\n",
              "      <td>21.030284</td>\n",
              "      <td>23.459799</td>\n",
              "      <td>19.998696</td>\n",
              "      <td>...</td>\n",
              "      <td>16.415490</td>\n",
              "      <td>22.539256</td>\n",
              "      <td>20.095914</td>\n",
              "      <td>19.092126</td>\n",
              "      <td>21.049036</td>\n",
              "      <td>15.236153</td>\n",
              "      <td>17.431973</td>\n",
              "      <td>18.356738</td>\n",
              "      <td>19.287343</td>\n",
              "      <td>23.344031</td>\n",
              "      <td>19.046073</td>\n",
              "      <td>21.631149</td>\n",
              "      <td>27.190328</td>\n",
              "      <td>27.529762</td>\n",
              "      <td>20.487647</td>\n",
              "      <td>24.368368</td>\n",
              "      <td>26.579919</td>\n",
              "      <td>18.967439</td>\n",
              "      <td>15.858481</td>\n",
              "      <td>20.411974</td>\n",
              "      <td>24.973032</td>\n",
              "      <td>18.836478</td>\n",
              "      <td>18.837953</td>\n",
              "      <td>22.419466</td>\n",
              "      <td>19.879962</td>\n",
              "      <td>16.850592</td>\n",
              "      <td>27.811066</td>\n",
              "      <td>24.095522</td>\n",
              "      <td>19.232941</td>\n",
              "      <td>18.054599</td>\n",
              "      <td>27.679501</td>\n",
              "      <td>25.236593</td>\n",
              "      <td>17.605508</td>\n",
              "      <td>20.273683</td>\n",
              "      <td>14.774109</td>\n",
              "      <td>18.190185</td>\n",
              "      <td>17.336871</td>\n",
              "      <td>18.084491</td>\n",
              "      <td>18.235038</td>\n",
              "      <td>16.160304</td>\n",
              "    </tr>\n",
              "    <tr>\n",
              "      <th>1997</th>\n",
              "      <td>18.030656</td>\n",
              "      <td>21.967120</td>\n",
              "      <td>19.436182</td>\n",
              "      <td>15.853630</td>\n",
              "      <td>21.501289</td>\n",
              "      <td>17.885214</td>\n",
              "      <td>28.320782</td>\n",
              "      <td>19.498760</td>\n",
              "      <td>29.967164</td>\n",
              "      <td>21.243049</td>\n",
              "      <td>17.443156</td>\n",
              "      <td>17.717452</td>\n",
              "      <td>20.090291</td>\n",
              "      <td>16.301824</td>\n",
              "      <td>16.780810</td>\n",
              "      <td>24.725057</td>\n",
              "      <td>18.097841</td>\n",
              "      <td>17.364369</td>\n",
              "      <td>21.876017</td>\n",
              "      <td>30.188256</td>\n",
              "      <td>20.549591</td>\n",
              "      <td>19.144019</td>\n",
              "      <td>18.605480</td>\n",
              "      <td>20.539878</td>\n",
              "      <td>21.701263</td>\n",
              "      <td>25.065229</td>\n",
              "      <td>18.135746</td>\n",
              "      <td>28.456105</td>\n",
              "      <td>20.062435</td>\n",
              "      <td>20.485751</td>\n",
              "      <td>28.251493</td>\n",
              "      <td>17.605609</td>\n",
              "      <td>19.369313</td>\n",
              "      <td>19.180921</td>\n",
              "      <td>17.913806</td>\n",
              "      <td>17.261326</td>\n",
              "      <td>17.646190</td>\n",
              "      <td>15.218399</td>\n",
              "      <td>19.275866</td>\n",
              "      <td>22.250567</td>\n",
              "      <td>...</td>\n",
              "      <td>22.269689</td>\n",
              "      <td>19.345785</td>\n",
              "      <td>21.643801</td>\n",
              "      <td>21.470607</td>\n",
              "      <td>25.234509</td>\n",
              "      <td>26.029150</td>\n",
              "      <td>31.861629</td>\n",
              "      <td>29.299512</td>\n",
              "      <td>22.088889</td>\n",
              "      <td>23.185160</td>\n",
              "      <td>18.522373</td>\n",
              "      <td>20.227762</td>\n",
              "      <td>17.858660</td>\n",
              "      <td>17.388686</td>\n",
              "      <td>23.837381</td>\n",
              "      <td>37.015532</td>\n",
              "      <td>20.554759</td>\n",
              "      <td>17.373737</td>\n",
              "      <td>16.302243</td>\n",
              "      <td>19.485629</td>\n",
              "      <td>17.615997</td>\n",
              "      <td>24.554859</td>\n",
              "      <td>21.572978</td>\n",
              "      <td>17.566916</td>\n",
              "      <td>15.390454</td>\n",
              "      <td>20.841591</td>\n",
              "      <td>22.829186</td>\n",
              "      <td>19.465089</td>\n",
              "      <td>15.869748</td>\n",
              "      <td>18.407197</td>\n",
              "      <td>20.322411</td>\n",
              "      <td>14.670644</td>\n",
              "      <td>28.470025</td>\n",
              "      <td>20.751049</td>\n",
              "      <td>22.020999</td>\n",
              "      <td>18.951158</td>\n",
              "      <td>20.377796</td>\n",
              "      <td>15.060219</td>\n",
              "      <td>28.508947</td>\n",
              "      <td>25.613677</td>\n",
              "    </tr>\n",
              "    <tr>\n",
              "      <th>1998</th>\n",
              "      <td>17.612192</td>\n",
              "      <td>19.250801</td>\n",
              "      <td>14.590148</td>\n",
              "      <td>20.585317</td>\n",
              "      <td>22.768661</td>\n",
              "      <td>19.762540</td>\n",
              "      <td>24.093364</td>\n",
              "      <td>18.119204</td>\n",
              "      <td>20.699960</td>\n",
              "      <td>17.511101</td>\n",
              "      <td>20.257749</td>\n",
              "      <td>32.121628</td>\n",
              "      <td>18.119613</td>\n",
              "      <td>21.111410</td>\n",
              "      <td>16.662806</td>\n",
              "      <td>16.758053</td>\n",
              "      <td>22.434253</td>\n",
              "      <td>24.701544</td>\n",
              "      <td>17.302121</td>\n",
              "      <td>24.607416</td>\n",
              "      <td>19.172739</td>\n",
              "      <td>19.909972</td>\n",
              "      <td>27.151115</td>\n",
              "      <td>17.434352</td>\n",
              "      <td>33.015873</td>\n",
              "      <td>19.929137</td>\n",
              "      <td>25.957072</td>\n",
              "      <td>27.934656</td>\n",
              "      <td>21.968675</td>\n",
              "      <td>20.451843</td>\n",
              "      <td>16.783318</td>\n",
              "      <td>18.291544</td>\n",
              "      <td>18.995049</td>\n",
              "      <td>29.751948</td>\n",
              "      <td>24.931948</td>\n",
              "      <td>20.693134</td>\n",
              "      <td>21.438569</td>\n",
              "      <td>17.862927</td>\n",
              "      <td>22.345330</td>\n",
              "      <td>16.524625</td>\n",
              "      <td>...</td>\n",
              "      <td>15.862038</td>\n",
              "      <td>13.881942</td>\n",
              "      <td>15.051321</td>\n",
              "      <td>22.273726</td>\n",
              "      <td>20.320333</td>\n",
              "      <td>39.047653</td>\n",
              "      <td>14.802546</td>\n",
              "      <td>17.260537</td>\n",
              "      <td>13.304126</td>\n",
              "      <td>15.843739</td>\n",
              "      <td>31.380131</td>\n",
              "      <td>21.708621</td>\n",
              "      <td>23.812328</td>\n",
              "      <td>23.193398</td>\n",
              "      <td>22.276770</td>\n",
              "      <td>19.864221</td>\n",
              "      <td>25.120086</td>\n",
              "      <td>15.973216</td>\n",
              "      <td>16.835860</td>\n",
              "      <td>24.639028</td>\n",
              "      <td>22.037575</td>\n",
              "      <td>21.159721</td>\n",
              "      <td>19.400167</td>\n",
              "      <td>21.724095</td>\n",
              "      <td>16.594579</td>\n",
              "      <td>19.946138</td>\n",
              "      <td>22.471918</td>\n",
              "      <td>17.633771</td>\n",
              "      <td>19.545287</td>\n",
              "      <td>21.251731</td>\n",
              "      <td>18.473134</td>\n",
              "      <td>17.223364</td>\n",
              "      <td>20.745098</td>\n",
              "      <td>19.650076</td>\n",
              "      <td>32.086454</td>\n",
              "      <td>25.717211</td>\n",
              "      <td>21.704734</td>\n",
              "      <td>25.896695</td>\n",
              "      <td>20.308827</td>\n",
              "      <td>15.721451</td>\n",
              "    </tr>\n",
              "    <tr>\n",
              "      <th>1999</th>\n",
              "      <td>22.874291</td>\n",
              "      <td>24.793388</td>\n",
              "      <td>29.093125</td>\n",
              "      <td>19.014398</td>\n",
              "      <td>15.575762</td>\n",
              "      <td>22.312129</td>\n",
              "      <td>19.685181</td>\n",
              "      <td>16.596285</td>\n",
              "      <td>19.521332</td>\n",
              "      <td>26.010255</td>\n",
              "      <td>19.067644</td>\n",
              "      <td>25.455869</td>\n",
              "      <td>24.274956</td>\n",
              "      <td>19.104932</td>\n",
              "      <td>22.308150</td>\n",
              "      <td>16.150678</td>\n",
              "      <td>26.062957</td>\n",
              "      <td>15.623613</td>\n",
              "      <td>15.830689</td>\n",
              "      <td>19.111298</td>\n",
              "      <td>18.741408</td>\n",
              "      <td>18.102985</td>\n",
              "      <td>23.667148</td>\n",
              "      <td>20.291919</td>\n",
              "      <td>19.813795</td>\n",
              "      <td>17.340565</td>\n",
              "      <td>18.540711</td>\n",
              "      <td>31.038062</td>\n",
              "      <td>23.704419</td>\n",
              "      <td>25.360356</td>\n",
              "      <td>23.281644</td>\n",
              "      <td>16.132231</td>\n",
              "      <td>15.855033</td>\n",
              "      <td>22.654777</td>\n",
              "      <td>16.324865</td>\n",
              "      <td>18.939360</td>\n",
              "      <td>16.445312</td>\n",
              "      <td>21.821191</td>\n",
              "      <td>20.897661</td>\n",
              "      <td>18.389942</td>\n",
              "      <td>...</td>\n",
              "      <td>20.747550</td>\n",
              "      <td>16.992748</td>\n",
              "      <td>24.165547</td>\n",
              "      <td>23.489797</td>\n",
              "      <td>16.754529</td>\n",
              "      <td>22.899103</td>\n",
              "      <td>26.324880</td>\n",
              "      <td>18.981606</td>\n",
              "      <td>28.424821</td>\n",
              "      <td>19.757299</td>\n",
              "      <td>16.522791</td>\n",
              "      <td>14.670966</td>\n",
              "      <td>21.533962</td>\n",
              "      <td>18.885589</td>\n",
              "      <td>18.408304</td>\n",
              "      <td>22.332881</td>\n",
              "      <td>19.831673</td>\n",
              "      <td>20.742187</td>\n",
              "      <td>14.741069</td>\n",
              "      <td>16.798556</td>\n",
              "      <td>15.496473</td>\n",
              "      <td>23.007860</td>\n",
              "      <td>20.173887</td>\n",
              "      <td>20.820312</td>\n",
              "      <td>18.295003</td>\n",
              "      <td>19.608116</td>\n",
              "      <td>16.250977</td>\n",
              "      <td>17.208617</td>\n",
              "      <td>17.604773</td>\n",
              "      <td>19.755102</td>\n",
              "      <td>16.292297</td>\n",
              "      <td>17.738045</td>\n",
              "      <td>18.000000</td>\n",
              "      <td>16.280389</td>\n",
              "      <td>19.120197</td>\n",
              "      <td>23.804180</td>\n",
              "      <td>15.436069</td>\n",
              "      <td>25.989456</td>\n",
              "      <td>22.621768</td>\n",
              "      <td>20.657329</td>\n",
              "    </tr>\n",
              "  </tbody>\n",
              "</table>\n",
              "<p>2000 rows × 1500 columns</p>\n",
              "</div>"
            ],
            "text/plain": [
              "      Amostra_0  Amostra_1  Amostra_2  ...  Amostra_1497  Amostra_1498  Amostra_1499\n",
              "0     22.126197  20.703428  17.707031  ...     23.515870     27.971351     30.288798\n",
              "1     18.727705  28.065138  19.818969  ...     20.868266     23.832540     17.585265\n",
              "2     19.005686  23.131277  24.706038  ...     16.885537     25.088608     20.651973\n",
              "3     22.219054  20.007260  33.857234  ...     23.244595     20.763980     25.260225\n",
              "4     15.660203  19.200441  27.409312  ...     29.318879     15.430972     21.894197\n",
              "...         ...        ...        ...  ...           ...           ...           ...\n",
              "1995  19.676255  19.236241  19.975271  ...     20.821003     20.238434     17.937610\n",
              "1996  20.657058  16.718248  29.544004  ...     18.084491     18.235038     16.160304\n",
              "1997  18.030656  21.967120  19.436182  ...     15.060219     28.508947     25.613677\n",
              "1998  17.612192  19.250801  14.590148  ...     25.896695     20.308827     15.721451\n",
              "1999  22.874291  24.793388  29.093125  ...     25.989456     22.621768     20.657329\n",
              "\n",
              "[2000 rows x 1500 columns]"
            ]
          },
          "metadata": {
            "tags": []
          },
          "execution_count": 13
        }
      ]
    },
    {
      "cell_type": "markdown",
      "metadata": {
        "id": "hZyAT36x2W4j"
      },
      "source": [
        "## O Teorema do Limite Central afirma que, **com o aumento do tamanho da amostra, a distribuição das médias amostrais se aproxima de uma distribuição normal** com média igual à média da população e desvio padrão igual ao desvio padrão da variável original dividido pela raiz quadrada do tamanho da amostra. Este fato é assegurado para n maior ou igual a 30."
      ]
    },
    {
      "cell_type": "code",
      "metadata": {
        "id": "8dt_5m1A2YTZ",
        "colab": {
          "base_uri": "https://localhost:8080/"
        },
        "outputId": "dd15ee81-77cc-4317-8928-c17918d2d40a"
      },
      "source": [
        "amostras.mean().hist(bins=30)"
      ],
      "execution_count": null,
      "outputs": [
        {
          "output_type": "execute_result",
          "data": {
            "text/plain": [
              "<matplotlib.axes._subplots.AxesSubplot at 0x7fdb35450d68>"
            ]
          },
          "metadata": {
            "tags": []
          },
          "execution_count": 14
        },
        {
          "output_type": "display_data",
          "data": {
            "image/png": "[encoded data removed]",
            "text/plain": [
              "<Figure size 432x288 with 1 Axes>"
            ]
          },
          "metadata": {
            "tags": [],
            "needs_background": "light"
          }
        }
      ]
    },
    {
      "cell_type": "markdown",
      "metadata": {
        "id": "ABYw1QZc2ZRw"
      },
      "source": [
        "## O Teorema do Limite Central afirma que, com o aumento do tamanho da amostra, a distribuição das médias amostrais se aproxima de uma distribuição normal **com média igual à média da população** e desvio padrão igual ao desvio padrão da variável original dividido pela raiz quadrada do tamanho da amostra. Este fato é assegurado para n maior ou igual a 30."
      ]
    },
    {
      "cell_type": "code",
      "metadata": {
        "id": "tJ1YN1Zz2dqE",
        "colab": {
          "base_uri": "https://localhost:8080/"
        },
        "outputId": "7171faee-43b6-4a36-a8a3-81956cdde5dd"
      },
      "source": [
        "dados.IMC.mean()"
      ],
      "execution_count": null,
      "outputs": [
        {
          "output_type": "execute_result",
          "data": {
            "text/plain": [
              "20.95825220663186"
            ]
          },
          "metadata": {
            "tags": []
          },
          "execution_count": 15
        }
      ]
    },
    {
      "cell_type": "code",
      "metadata": {
        "id": "KAhBt68p2abk",
        "colab": {
          "base_uri": "https://localhost:8080/"
        },
        "outputId": "dd0d60ce-4899-465b-e095-0b9a3ff2b15c"
      },
      "source": [
        "amostras.mean().mean()"
      ],
      "execution_count": null,
      "outputs": [
        {
          "output_type": "execute_result",
          "data": {
            "text/plain": [
              "20.956763299494177"
            ]
          },
          "metadata": {
            "tags": []
          },
          "execution_count": 16
        }
      ]
    },
    {
      "cell_type": "markdown",
      "metadata": {
        "id": "YPHM5XvM2dHH"
      },
      "source": [
        "##O Teorema do Limite Central afirma que, com o aumento do tamanho da amostra, a distribuição das médias amostrais se aproxima de uma distribuição normal com média igual à média da população e **desvio padrão igual ao desvio padrão da variável original dividido pela raiz quadrada do tamanho da amostra**. Este fato é assegurado para n maior ou igual a 30.\r\n",
        "\r\n",
        "# $$\\sigma_\\bar{x} = \\frac{\\sigma}{\\sqrt{n}}$$"
      ]
    },
    {
      "cell_type": "code",
      "metadata": {
        "id": "wzqi-jCw_ZM7",
        "colab": {
          "base_uri": "https://localhost:8080/"
        },
        "outputId": "ef71a6c6-04d6-450a-dc7d-733f8d8f929e"
      },
      "source": [
        "n"
      ],
      "execution_count": null,
      "outputs": [
        {
          "output_type": "execute_result",
          "data": {
            "text/plain": [
              "2000"
            ]
          },
          "metadata": {
            "tags": []
          },
          "execution_count": 17
        }
      ]
    },
    {
      "cell_type": "code",
      "metadata": {
        "id": "lbtOxq862gc0",
        "colab": {
          "base_uri": "https://localhost:8080/"
        },
        "outputId": "8eb4d863-a1b4-4cc5-8e7e-1f68cef8804f"
      },
      "source": [
        "#O desvio padrão se da pelo .std()\r\n",
        "\r\n",
        "import numpy as np\r\n",
        "\r\n",
        "desvio_padrao_amostra_aproximado = dados.IMC.std() / np.sqrt(n)\r\n",
        "print(desvio_padrao_amostra_aproximado)"
      ],
      "execution_count": null,
      "outputs": [
        {
          "output_type": "stream",
          "text": [
            "0.09490859583922757\n"
          ],
          "name": "stdout"
        }
      ]
    },
    {
      "cell_type": "code",
      "metadata": {
        "id": "JUenw1F_2hQM",
        "colab": {
          "base_uri": "https://localhost:8080/"
        },
        "outputId": "60fc3db7-72f0-4ee6-d06c-dda7e9ac03f7"
      },
      "source": [
        "amostras.mean().std()"
      ],
      "execution_count": null,
      "outputs": [
        {
          "output_type": "execute_result",
          "data": {
            "text/plain": [
              "0.08718377711659128"
            ]
          },
          "metadata": {
            "tags": []
          },
          "execution_count": 19
        }
      ]
    },
    {
      "cell_type": "markdown",
      "metadata": {
        "id": "G5fnh7kLBQe7"
      },
      "source": [
        "# Gráficos com Plotly"
      ]
    },
    {
      "cell_type": "markdown",
      "metadata": {
        "id": "UMGu9-DGBpO8"
      },
      "source": [
        "Existe outra biblioteca para gráficos chama de Ploty, especialmente interessantes para compartilhar o trabalho na web"
      ]
    },
    {
      "cell_type": "code",
      "metadata": {
        "id": "ri7-s9mZETuc"
      },
      "source": [
        "#Obs, este módulo necessita dos dados do arquivo módulo_1_e_2_Bootcamp_Alura.ipynb"
      ],
      "execution_count": null,
      "outputs": []
    },
    {
      "cell_type": "code",
      "metadata": {
        "id": "wmTStl3qB5tb"
      },
      "source": [
        "import plotly.graph_objs as go\r\n",
        "import plotly.express as px\r\n",
        "\r\n",
        "#import pandas as pd\r\n",
        "#import plotly.offline as py\r\n",
        "#import plotly.graph_objs as go\r\n",
        "#py.init_notebook_mode(connected=True)\r\n",
        "\r\n",
        "#mais informações sobre gráficos interativos em https://paulovasconcellos.com.br/como-criar-gr%C3%A1ficos-interativos-utilizando-plotly-e-python-3eb6eda57a2b"
      ],
      "execution_count": null,
      "outputs": []
    },
    {
      "cell_type": "code",
      "metadata": {
        "id": "On_phfphB8cI",
        "colab": {
          "base_uri": "https://localhost:8080/",
          "height": 374
        },
        "outputId": "b51a563d-cbd9-4b61-f847-3ed7cfc8a969"
      },
      "source": [
        "fig = go.Figure()\r\n",
        "\r\n",
        "fig.add_trace(go.Scatter(x=cincoestados.index, y=cincoestados['11 Rondônia'],name='Rondônia'))\r\n",
        "fig.add_trace(go.Scatter(x=cincoestados.index, y=cincoestados['12 Acre'],name='Acre'))\r\n",
        "fig.add_trace(go.Scatter(x=cincoestados.index, y=cincoestados['13 Amazonas'],name='Amazonas'))\r\n",
        "fig.add_trace(go.Scatter(x=cincoestados.index, y=cincoestados['14 Roraima'],name='Roraima'))\r\n",
        "fig.add_trace(go.Scatter(x=cincoestados.index, y=cincoestados['15 Pará'],name='Pará'))\r\n",
        "\r\n",
        "fig.show()"
      ],
      "execution_count": null,
      "outputs": [
        {
          "output_type": "error",
          "ename": "KeyboardInterrupt",
          "evalue": "ignored",
          "traceback": [
            "\u001b[0;31m---------------------------------------------------------------------------\u001b[0m",
            "\u001b[0;31mKeyboardInterrupt\u001b[0m                         Traceback (most recent call last)",
            "\u001b[0;32m<ipython-input-22-cf99a9c7ba3d>\u001b[0m in \u001b[0;36m<module>\u001b[0;34m()\u001b[0m\n\u001b[0;32m----> 1\u001b[0;31m \u001b[0mfig\u001b[0m \u001b[0;34m=\u001b[0m \u001b[0mgo\u001b[0m\u001b[0;34m.\u001b[0m\u001b[0mFigure\u001b[0m\u001b[0;34m(\u001b[0m\u001b[0;34m)\u001b[0m\u001b[0;34m\u001b[0m\u001b[0;34m\u001b[0m\u001b[0m\n\u001b[0m\u001b[1;32m      2\u001b[0m \u001b[0;34m\u001b[0m\u001b[0m\n\u001b[1;32m      3\u001b[0m \u001b[0mfig\u001b[0m\u001b[0;34m.\u001b[0m\u001b[0madd_trace\u001b[0m\u001b[0;34m(\u001b[0m\u001b[0mgo\u001b[0m\u001b[0;34m.\u001b[0m\u001b[0mScatter\u001b[0m\u001b[0;34m(\u001b[0m\u001b[0mx\u001b[0m\u001b[0;34m=\u001b[0m\u001b[0mcincoestados\u001b[0m\u001b[0;34m.\u001b[0m\u001b[0mindex\u001b[0m\u001b[0;34m,\u001b[0m \u001b[0my\u001b[0m\u001b[0;34m=\u001b[0m\u001b[0mcincoestados\u001b[0m\u001b[0;34m[\u001b[0m\u001b[0;34m'11 Rondônia'\u001b[0m\u001b[0;34m]\u001b[0m\u001b[0;34m,\u001b[0m\u001b[0mname\u001b[0m\u001b[0;34m=\u001b[0m\u001b[0;34m'Rondônia'\u001b[0m\u001b[0;34m)\u001b[0m\u001b[0;34m)\u001b[0m\u001b[0;34m\u001b[0m\u001b[0;34m\u001b[0m\u001b[0m\n\u001b[1;32m      4\u001b[0m \u001b[0mfig\u001b[0m\u001b[0;34m.\u001b[0m\u001b[0madd_trace\u001b[0m\u001b[0;34m(\u001b[0m\u001b[0mgo\u001b[0m\u001b[0;34m.\u001b[0m\u001b[0mScatter\u001b[0m\u001b[0;34m(\u001b[0m\u001b[0mx\u001b[0m\u001b[0;34m=\u001b[0m\u001b[0mcincoestados\u001b[0m\u001b[0;34m.\u001b[0m\u001b[0mindex\u001b[0m\u001b[0;34m,\u001b[0m \u001b[0my\u001b[0m\u001b[0;34m=\u001b[0m\u001b[0mcincoestados\u001b[0m\u001b[0;34m[\u001b[0m\u001b[0;34m'12 Acre'\u001b[0m\u001b[0;34m]\u001b[0m\u001b[0;34m,\u001b[0m\u001b[0mname\u001b[0m\u001b[0;34m=\u001b[0m\u001b[0;34m'Acre'\u001b[0m\u001b[0;34m)\u001b[0m\u001b[0;34m)\u001b[0m\u001b[0;34m\u001b[0m\u001b[0;34m\u001b[0m\u001b[0m\n\u001b[1;32m      5\u001b[0m \u001b[0mfig\u001b[0m\u001b[0;34m.\u001b[0m\u001b[0madd_trace\u001b[0m\u001b[0;34m(\u001b[0m\u001b[0mgo\u001b[0m\u001b[0;34m.\u001b[0m\u001b[0mScatter\u001b[0m\u001b[0;34m(\u001b[0m\u001b[0mx\u001b[0m\u001b[0;34m=\u001b[0m\u001b[0mcincoestados\u001b[0m\u001b[0;34m.\u001b[0m\u001b[0mindex\u001b[0m\u001b[0;34m,\u001b[0m \u001b[0my\u001b[0m\u001b[0;34m=\u001b[0m\u001b[0mcincoestados\u001b[0m\u001b[0;34m[\u001b[0m\u001b[0;34m'13 Amazonas'\u001b[0m\u001b[0;34m]\u001b[0m\u001b[0;34m,\u001b[0m\u001b[0mname\u001b[0m\u001b[0;34m=\u001b[0m\u001b[0;34m'Amazonas'\u001b[0m\u001b[0;34m)\u001b[0m\u001b[0;34m)\u001b[0m\u001b[0;34m\u001b[0m\u001b[0;34m\u001b[0m\u001b[0m\n",
            "\u001b[0;32m/usr/local/lib/python3.6/dist-packages/plotly/graph_objs/_figure.py\u001b[0m in \u001b[0;36m__init__\u001b[0;34m(self, data, layout, frames, skip_invalid, **kwargs)\u001b[0m\n\u001b[1;32m    606\u001b[0m             \u001b[0;32mis\u001b[0m \u001b[0minvalid\u001b[0m \u001b[0mAND\u001b[0m \u001b[0mskip_invalid\u001b[0m \u001b[0;32mis\u001b[0m \u001b[0;32mFalse\u001b[0m\u001b[0;34m\u001b[0m\u001b[0;34m\u001b[0m\u001b[0m\n\u001b[1;32m    607\u001b[0m         \"\"\"\n\u001b[0;32m--> 608\u001b[0;31m         \u001b[0msuper\u001b[0m\u001b[0;34m(\u001b[0m\u001b[0mFigure\u001b[0m\u001b[0;34m,\u001b[0m \u001b[0mself\u001b[0m\u001b[0;34m)\u001b[0m\u001b[0;34m.\u001b[0m\u001b[0m__init__\u001b[0m\u001b[0;34m(\u001b[0m\u001b[0mdata\u001b[0m\u001b[0;34m,\u001b[0m \u001b[0mlayout\u001b[0m\u001b[0;34m,\u001b[0m \u001b[0mframes\u001b[0m\u001b[0;34m,\u001b[0m \u001b[0mskip_invalid\u001b[0m\u001b[0;34m,\u001b[0m \u001b[0;34m**\u001b[0m\u001b[0mkwargs\u001b[0m\u001b[0;34m)\u001b[0m\u001b[0;34m\u001b[0m\u001b[0;34m\u001b[0m\u001b[0m\n\u001b[0m\u001b[1;32m    609\u001b[0m \u001b[0;34m\u001b[0m\u001b[0m\n\u001b[1;32m    610\u001b[0m     def add_area(\n",
            "\u001b[0;32m/usr/local/lib/python3.6/dist-packages/plotly/basedatatypes.py\u001b[0m in \u001b[0;36m__init__\u001b[0;34m(self, data, layout_plotly, frames, skip_invalid, **kwargs)\u001b[0m\n\u001b[1;32m    268\u001b[0m         \u001b[0;31m# --------\u001b[0m\u001b[0;34m\u001b[0m\u001b[0;34m\u001b[0m\u001b[0;34m\u001b[0m\u001b[0m\n\u001b[1;32m    269\u001b[0m         \u001b[0;31m# ### Check for default template ###\u001b[0m\u001b[0;34m\u001b[0m\u001b[0;34m\u001b[0m\u001b[0;34m\u001b[0m\u001b[0m\n\u001b[0;32m--> 270\u001b[0;31m         \u001b[0mself\u001b[0m\u001b[0;34m.\u001b[0m\u001b[0m_initialize_layout_template\u001b[0m\u001b[0;34m(\u001b[0m\u001b[0;34m)\u001b[0m\u001b[0;34m\u001b[0m\u001b[0;34m\u001b[0m\u001b[0m\n\u001b[0m\u001b[1;32m    271\u001b[0m \u001b[0;34m\u001b[0m\u001b[0m\n\u001b[1;32m    272\u001b[0m         \u001b[0;31m# Process kwargs\u001b[0m\u001b[0;34m\u001b[0m\u001b[0;34m\u001b[0m\u001b[0;34m\u001b[0m\u001b[0m\n",
            "\u001b[0;32m/usr/local/lib/python3.6/dist-packages/plotly/basedatatypes.py\u001b[0m in \u001b[0;36m_initialize_layout_template\u001b[0;34m(self)\u001b[0m\n\u001b[1;32m   1948\u001b[0m         \u001b[0;32mif\u001b[0m \u001b[0mself\u001b[0m\u001b[0;34m.\u001b[0m\u001b[0m_layout_obj\u001b[0m\u001b[0;34m.\u001b[0m\u001b[0mtemplate\u001b[0m \u001b[0;32mis\u001b[0m \u001b[0;32mNone\u001b[0m\u001b[0;34m:\u001b[0m\u001b[0;34m\u001b[0m\u001b[0;34m\u001b[0m\u001b[0m\n\u001b[1;32m   1949\u001b[0m             \u001b[0;32mif\u001b[0m \u001b[0mpio\u001b[0m\u001b[0;34m.\u001b[0m\u001b[0mtemplates\u001b[0m\u001b[0;34m.\u001b[0m\u001b[0mdefault\u001b[0m \u001b[0;32mis\u001b[0m \u001b[0;32mnot\u001b[0m \u001b[0;32mNone\u001b[0m\u001b[0;34m:\u001b[0m\u001b[0;34m\u001b[0m\u001b[0;34m\u001b[0m\u001b[0m\n\u001b[0;32m-> 1950\u001b[0;31m                 \u001b[0mself\u001b[0m\u001b[0;34m.\u001b[0m\u001b[0m_layout_obj\u001b[0m\u001b[0;34m.\u001b[0m\u001b[0mtemplate\u001b[0m \u001b[0;34m=\u001b[0m \u001b[0mpio\u001b[0m\u001b[0;34m.\u001b[0m\u001b[0mtemplates\u001b[0m\u001b[0;34m.\u001b[0m\u001b[0mdefault\u001b[0m\u001b[0;34m\u001b[0m\u001b[0;34m\u001b[0m\u001b[0m\n\u001b[0m\u001b[1;32m   1951\u001b[0m             \u001b[0;32melse\u001b[0m\u001b[0;34m:\u001b[0m\u001b[0;34m\u001b[0m\u001b[0;34m\u001b[0m\u001b[0m\n\u001b[1;32m   1952\u001b[0m                 \u001b[0mself\u001b[0m\u001b[0;34m.\u001b[0m\u001b[0m_layout_obj\u001b[0m\u001b[0;34m.\u001b[0m\u001b[0mtemplate\u001b[0m \u001b[0;34m=\u001b[0m \u001b[0;32mNone\u001b[0m\u001b[0;34m\u001b[0m\u001b[0;34m\u001b[0m\u001b[0m\n",
            "\u001b[0;32m/usr/local/lib/python3.6/dist-packages/plotly/basedatatypes.py\u001b[0m in \u001b[0;36m__setattr__\u001b[0;34m(self, prop, value)\u001b[0m\n\u001b[1;32m   4449\u001b[0m         \u001b[0;32mif\u001b[0m \u001b[0mmatch\u001b[0m \u001b[0;32mis\u001b[0m \u001b[0;32mNone\u001b[0m\u001b[0;34m:\u001b[0m\u001b[0;34m\u001b[0m\u001b[0;34m\u001b[0m\u001b[0m\n\u001b[1;32m   4450\u001b[0m             \u001b[0;31m# Set as ordinary property\u001b[0m\u001b[0;34m\u001b[0m\u001b[0;34m\u001b[0m\u001b[0;34m\u001b[0m\u001b[0m\n\u001b[0;32m-> 4451\u001b[0;31m             \u001b[0msuper\u001b[0m\u001b[0;34m(\u001b[0m\u001b[0mBaseLayoutHierarchyType\u001b[0m\u001b[0;34m,\u001b[0m \u001b[0mself\u001b[0m\u001b[0;34m)\u001b[0m\u001b[0;34m.\u001b[0m\u001b[0m__setattr__\u001b[0m\u001b[0;34m(\u001b[0m\u001b[0mprop\u001b[0m\u001b[0;34m,\u001b[0m \u001b[0mvalue\u001b[0m\u001b[0;34m)\u001b[0m\u001b[0;34m\u001b[0m\u001b[0;34m\u001b[0m\u001b[0m\n\u001b[0m\u001b[1;32m   4452\u001b[0m         \u001b[0;32melse\u001b[0m\u001b[0;34m:\u001b[0m\u001b[0;34m\u001b[0m\u001b[0;34m\u001b[0m\u001b[0m\n\u001b[1;32m   4453\u001b[0m             \u001b[0;31m# Set as subplotid property\u001b[0m\u001b[0;34m\u001b[0m\u001b[0;34m\u001b[0m\u001b[0;34m\u001b[0m\u001b[0m\n",
            "\u001b[0;32m/usr/local/lib/python3.6/dist-packages/plotly/basedatatypes.py\u001b[0m in \u001b[0;36m__setattr__\u001b[0;34m(self, prop, value)\u001b[0m\n\u001b[1;32m   3514\u001b[0m         \u001b[0;32mif\u001b[0m \u001b[0mprop\u001b[0m\u001b[0;34m.\u001b[0m\u001b[0mstartswith\u001b[0m\u001b[0;34m(\u001b[0m\u001b[0;34m\"_\"\u001b[0m\u001b[0;34m)\u001b[0m \u001b[0;32mor\u001b[0m \u001b[0mhasattr\u001b[0m\u001b[0;34m(\u001b[0m\u001b[0mself\u001b[0m\u001b[0;34m,\u001b[0m \u001b[0mprop\u001b[0m\u001b[0;34m)\u001b[0m \u001b[0;32mor\u001b[0m \u001b[0mprop\u001b[0m \u001b[0;32min\u001b[0m \u001b[0mself\u001b[0m\u001b[0;34m.\u001b[0m\u001b[0m_validators\u001b[0m\u001b[0;34m:\u001b[0m\u001b[0;34m\u001b[0m\u001b[0;34m\u001b[0m\u001b[0m\n\u001b[1;32m   3515\u001b[0m             \u001b[0;31m# Let known properties and private properties through\u001b[0m\u001b[0;34m\u001b[0m\u001b[0;34m\u001b[0m\u001b[0;34m\u001b[0m\u001b[0m\n\u001b[0;32m-> 3516\u001b[0;31m             \u001b[0msuper\u001b[0m\u001b[0;34m(\u001b[0m\u001b[0mBasePlotlyType\u001b[0m\u001b[0;34m,\u001b[0m \u001b[0mself\u001b[0m\u001b[0;34m)\u001b[0m\u001b[0;34m.\u001b[0m\u001b[0m__setattr__\u001b[0m\u001b[0;34m(\u001b[0m\u001b[0mprop\u001b[0m\u001b[0;34m,\u001b[0m \u001b[0mvalue\u001b[0m\u001b[0;34m)\u001b[0m\u001b[0;34m\u001b[0m\u001b[0;34m\u001b[0m\u001b[0m\n\u001b[0m\u001b[1;32m   3517\u001b[0m         \u001b[0;32melse\u001b[0m\u001b[0;34m:\u001b[0m\u001b[0;34m\u001b[0m\u001b[0;34m\u001b[0m\u001b[0m\n\u001b[1;32m   3518\u001b[0m             \u001b[0;31m# Raise error on unknown public properties\u001b[0m\u001b[0;34m\u001b[0m\u001b[0;34m\u001b[0m\u001b[0;34m\u001b[0m\u001b[0m\n",
            "\u001b[0;32m/usr/local/lib/python3.6/dist-packages/plotly/graph_objs/__init__.py\u001b[0m in \u001b[0;36mtemplate\u001b[0;34m(self, val)\u001b[0m\n\u001b[1;32m  95119\u001b[0m     \u001b[0;34m@\u001b[0m\u001b[0mtemplate\u001b[0m\u001b[0;34m.\u001b[0m\u001b[0msetter\u001b[0m\u001b[0;34m\u001b[0m\u001b[0;34m\u001b[0m\u001b[0m\n\u001b[1;32m  95120\u001b[0m     \u001b[0;32mdef\u001b[0m \u001b[0mtemplate\u001b[0m\u001b[0;34m(\u001b[0m\u001b[0mself\u001b[0m\u001b[0;34m,\u001b[0m \u001b[0mval\u001b[0m\u001b[0;34m)\u001b[0m\u001b[0;34m:\u001b[0m\u001b[0;34m\u001b[0m\u001b[0;34m\u001b[0m\u001b[0m\n\u001b[0;32m> 95121\u001b[0;31m         \u001b[0mself\u001b[0m\u001b[0;34m[\u001b[0m\u001b[0;34m\"template\"\u001b[0m\u001b[0;34m]\u001b[0m \u001b[0;34m=\u001b[0m \u001b[0mval\u001b[0m\u001b[0;34m\u001b[0m\u001b[0;34m\u001b[0m\u001b[0m\n\u001b[0m\u001b[1;32m  95122\u001b[0m \u001b[0;34m\u001b[0m\u001b[0m\n\u001b[1;32m  95123\u001b[0m     \u001b[0;31m# ternary\u001b[0m\u001b[0;34m\u001b[0m\u001b[0;34m\u001b[0m\u001b[0;34m\u001b[0m\u001b[0m\n",
            "\u001b[0;32m/usr/local/lib/python3.6/dist-packages/plotly/basedatatypes.py\u001b[0m in \u001b[0;36m__setitem__\u001b[0;34m(self, prop, value)\u001b[0m\n\u001b[1;32m   4435\u001b[0m         \u001b[0;32mif\u001b[0m \u001b[0mmatch\u001b[0m \u001b[0;32mis\u001b[0m \u001b[0;32mNone\u001b[0m\u001b[0;34m:\u001b[0m\u001b[0;34m\u001b[0m\u001b[0;34m\u001b[0m\u001b[0m\n\u001b[1;32m   4436\u001b[0m             \u001b[0;31m# Set as ordinary property\u001b[0m\u001b[0;34m\u001b[0m\u001b[0;34m\u001b[0m\u001b[0;34m\u001b[0m\u001b[0m\n\u001b[0;32m-> 4437\u001b[0;31m             \u001b[0msuper\u001b[0m\u001b[0;34m(\u001b[0m\u001b[0mBaseLayoutHierarchyType\u001b[0m\u001b[0;34m,\u001b[0m \u001b[0mself\u001b[0m\u001b[0;34m)\u001b[0m\u001b[0;34m.\u001b[0m\u001b[0m__setitem__\u001b[0m\u001b[0;34m(\u001b[0m\u001b[0mprop\u001b[0m\u001b[0;34m,\u001b[0m \u001b[0mvalue\u001b[0m\u001b[0;34m)\u001b[0m\u001b[0;34m\u001b[0m\u001b[0;34m\u001b[0m\u001b[0m\n\u001b[0m\u001b[1;32m   4438\u001b[0m         \u001b[0;32melse\u001b[0m\u001b[0;34m:\u001b[0m\u001b[0;34m\u001b[0m\u001b[0;34m\u001b[0m\u001b[0m\n\u001b[1;32m   4439\u001b[0m             \u001b[0;31m# Set as subplotid property\u001b[0m\u001b[0;34m\u001b[0m\u001b[0;34m\u001b[0m\u001b[0;34m\u001b[0m\u001b[0m\n",
            "\u001b[0;32m/usr/local/lib/python3.6/dist-packages/plotly/basedatatypes.py\u001b[0m in \u001b[0;36m__setitem__\u001b[0;34m(self, prop, value)\u001b[0m\n\u001b[1;32m   3480\u001b[0m             \u001b[0;31m# ### Handle compound property ###\u001b[0m\u001b[0;34m\u001b[0m\u001b[0;34m\u001b[0m\u001b[0;34m\u001b[0m\u001b[0m\n\u001b[1;32m   3481\u001b[0m             \u001b[0;32mif\u001b[0m \u001b[0misinstance\u001b[0m\u001b[0;34m(\u001b[0m\u001b[0mvalidator\u001b[0m\u001b[0;34m,\u001b[0m \u001b[0mCompoundValidator\u001b[0m\u001b[0;34m)\u001b[0m\u001b[0;34m:\u001b[0m\u001b[0;34m\u001b[0m\u001b[0;34m\u001b[0m\u001b[0m\n\u001b[0;32m-> 3482\u001b[0;31m                 \u001b[0mself\u001b[0m\u001b[0;34m.\u001b[0m\u001b[0m_set_compound_prop\u001b[0m\u001b[0;34m(\u001b[0m\u001b[0mprop\u001b[0m\u001b[0;34m,\u001b[0m \u001b[0mvalue\u001b[0m\u001b[0;34m)\u001b[0m\u001b[0;34m\u001b[0m\u001b[0;34m\u001b[0m\u001b[0m\n\u001b[0m\u001b[1;32m   3483\u001b[0m \u001b[0;34m\u001b[0m\u001b[0m\n\u001b[1;32m   3484\u001b[0m             \u001b[0;31m# ### Handle compound array property ###\u001b[0m\u001b[0;34m\u001b[0m\u001b[0;34m\u001b[0m\u001b[0;34m\u001b[0m\u001b[0m\n",
            "\u001b[0;32m/usr/local/lib/python3.6/dist-packages/plotly/basedatatypes.py\u001b[0m in \u001b[0;36m_set_compound_prop\u001b[0;34m(self, prop, val)\u001b[0m\n\u001b[1;32m   3834\u001b[0m         \u001b[0;31m# ------------\u001b[0m\u001b[0;34m\u001b[0m\u001b[0;34m\u001b[0m\u001b[0;34m\u001b[0m\u001b[0m\n\u001b[1;32m   3835\u001b[0m         \u001b[0mvalidator\u001b[0m \u001b[0;34m=\u001b[0m \u001b[0mself\u001b[0m\u001b[0;34m.\u001b[0m\u001b[0m_validators\u001b[0m\u001b[0;34m.\u001b[0m\u001b[0mget\u001b[0m\u001b[0;34m(\u001b[0m\u001b[0mprop\u001b[0m\u001b[0;34m)\u001b[0m\u001b[0;34m\u001b[0m\u001b[0;34m\u001b[0m\u001b[0m\n\u001b[0;32m-> 3836\u001b[0;31m         \u001b[0mval\u001b[0m \u001b[0;34m=\u001b[0m \u001b[0mvalidator\u001b[0m\u001b[0;34m.\u001b[0m\u001b[0mvalidate_coerce\u001b[0m\u001b[0;34m(\u001b[0m\u001b[0mval\u001b[0m\u001b[0;34m,\u001b[0m \u001b[0mskip_invalid\u001b[0m\u001b[0;34m=\u001b[0m\u001b[0mself\u001b[0m\u001b[0;34m.\u001b[0m\u001b[0m_skip_invalid\u001b[0m\u001b[0;34m)\u001b[0m\u001b[0;34m\u001b[0m\u001b[0;34m\u001b[0m\u001b[0m\n\u001b[0m\u001b[1;32m   3837\u001b[0m \u001b[0;34m\u001b[0m\u001b[0m\n\u001b[1;32m   3838\u001b[0m         \u001b[0;31m# Save deep copies of current and new states\u001b[0m\u001b[0;34m\u001b[0m\u001b[0;34m\u001b[0m\u001b[0;34m\u001b[0m\u001b[0m\n",
            "\u001b[0;32m/usr/local/lib/python3.6/dist-packages/_plotly_utils/basevalidators.py\u001b[0m in \u001b[0;36mvalidate_coerce\u001b[0;34m(self, v, skip_invalid)\u001b[0m\n\u001b[1;32m   2714\u001b[0m             \u001b[0;31m# (could be any hashable object)\u001b[0m\u001b[0;34m\u001b[0m\u001b[0;34m\u001b[0m\u001b[0;34m\u001b[0m\u001b[0m\n\u001b[1;32m   2715\u001b[0m             \u001b[0;32mif\u001b[0m \u001b[0mv\u001b[0m \u001b[0;32min\u001b[0m \u001b[0mpio\u001b[0m\u001b[0;34m.\u001b[0m\u001b[0mtemplates\u001b[0m\u001b[0;34m:\u001b[0m\u001b[0;34m\u001b[0m\u001b[0;34m\u001b[0m\u001b[0m\n\u001b[0;32m-> 2716\u001b[0;31m                 \u001b[0;32mreturn\u001b[0m \u001b[0mcopy\u001b[0m\u001b[0;34m.\u001b[0m\u001b[0mdeepcopy\u001b[0m\u001b[0;34m(\u001b[0m\u001b[0mpio\u001b[0m\u001b[0;34m.\u001b[0m\u001b[0mtemplates\u001b[0m\u001b[0;34m[\u001b[0m\u001b[0mv\u001b[0m\u001b[0;34m]\u001b[0m\u001b[0;34m)\u001b[0m\u001b[0;34m\u001b[0m\u001b[0;34m\u001b[0m\u001b[0m\n\u001b[0m\u001b[1;32m   2717\u001b[0m             \u001b[0;31m# Otherwise, if v is a string, check to see if it consists of\u001b[0m\u001b[0;34m\u001b[0m\u001b[0;34m\u001b[0m\u001b[0;34m\u001b[0m\u001b[0m\n\u001b[1;32m   2718\u001b[0m             \u001b[0;31m# multiple template names joined on '+' characters\u001b[0m\u001b[0;34m\u001b[0m\u001b[0;34m\u001b[0m\u001b[0;34m\u001b[0m\u001b[0m\n",
            "\u001b[0;32m/usr/lib/python3.6/copy.py\u001b[0m in \u001b[0;36mdeepcopy\u001b[0;34m(x, memo, _nil)\u001b[0m\n\u001b[1;32m    178\u001b[0m                     \u001b[0my\u001b[0m \u001b[0;34m=\u001b[0m \u001b[0mx\u001b[0m\u001b[0;34m\u001b[0m\u001b[0;34m\u001b[0m\u001b[0m\n\u001b[1;32m    179\u001b[0m                 \u001b[0;32melse\u001b[0m\u001b[0;34m:\u001b[0m\u001b[0;34m\u001b[0m\u001b[0;34m\u001b[0m\u001b[0m\n\u001b[0;32m--> 180\u001b[0;31m                     \u001b[0my\u001b[0m \u001b[0;34m=\u001b[0m \u001b[0m_reconstruct\u001b[0m\u001b[0;34m(\u001b[0m\u001b[0mx\u001b[0m\u001b[0;34m,\u001b[0m \u001b[0mmemo\u001b[0m\u001b[0;34m,\u001b[0m \u001b[0;34m*\u001b[0m\u001b[0mrv\u001b[0m\u001b[0;34m)\u001b[0m\u001b[0;34m\u001b[0m\u001b[0;34m\u001b[0m\u001b[0m\n\u001b[0m\u001b[1;32m    181\u001b[0m \u001b[0;34m\u001b[0m\u001b[0m\n\u001b[1;32m    182\u001b[0m     \u001b[0;31m# If is its own copy, don't memoize.\u001b[0m\u001b[0;34m\u001b[0m\u001b[0;34m\u001b[0m\u001b[0;34m\u001b[0m\u001b[0m\n",
            "\u001b[0;32m/usr/lib/python3.6/copy.py\u001b[0m in \u001b[0;36m_reconstruct\u001b[0;34m(x, memo, func, args, state, listiter, dictiter, deepcopy)\u001b[0m\n\u001b[1;32m    272\u001b[0m     \u001b[0;32mif\u001b[0m \u001b[0mdeep\u001b[0m \u001b[0;32mand\u001b[0m \u001b[0margs\u001b[0m\u001b[0;34m:\u001b[0m\u001b[0;34m\u001b[0m\u001b[0;34m\u001b[0m\u001b[0m\n\u001b[1;32m    273\u001b[0m         \u001b[0margs\u001b[0m \u001b[0;34m=\u001b[0m \u001b[0;34m(\u001b[0m\u001b[0mdeepcopy\u001b[0m\u001b[0;34m(\u001b[0m\u001b[0marg\u001b[0m\u001b[0;34m,\u001b[0m \u001b[0mmemo\u001b[0m\u001b[0;34m)\u001b[0m \u001b[0;32mfor\u001b[0m \u001b[0marg\u001b[0m \u001b[0;32min\u001b[0m \u001b[0margs\u001b[0m\u001b[0;34m)\u001b[0m\u001b[0;34m\u001b[0m\u001b[0;34m\u001b[0m\u001b[0m\n\u001b[0;32m--> 274\u001b[0;31m     \u001b[0my\u001b[0m \u001b[0;34m=\u001b[0m \u001b[0mfunc\u001b[0m\u001b[0;34m(\u001b[0m\u001b[0;34m*\u001b[0m\u001b[0margs\u001b[0m\u001b[0;34m)\u001b[0m\u001b[0;34m\u001b[0m\u001b[0;34m\u001b[0m\u001b[0m\n\u001b[0m\u001b[1;32m    275\u001b[0m     \u001b[0;32mif\u001b[0m \u001b[0mdeep\u001b[0m\u001b[0;34m:\u001b[0m\u001b[0;34m\u001b[0m\u001b[0;34m\u001b[0m\u001b[0m\n\u001b[1;32m    276\u001b[0m         \u001b[0mmemo\u001b[0m\u001b[0;34m[\u001b[0m\u001b[0mid\u001b[0m\u001b[0;34m(\u001b[0m\u001b[0mx\u001b[0m\u001b[0;34m)\u001b[0m\u001b[0;34m]\u001b[0m \u001b[0;34m=\u001b[0m \u001b[0my\u001b[0m\u001b[0;34m\u001b[0m\u001b[0;34m\u001b[0m\u001b[0m\n",
            "\u001b[0;32m/usr/local/lib/python3.6/dist-packages/plotly/graph_objs/layout/__init__.py\u001b[0m in \u001b[0;36m__init__\u001b[0;34m(self, arg, data, layout, **kwargs)\u001b[0m\n\u001b[1;32m   9298\u001b[0m         \u001b[0mself\u001b[0m\u001b[0;34m[\u001b[0m\u001b[0;34m\"data\"\u001b[0m\u001b[0;34m]\u001b[0m \u001b[0;34m=\u001b[0m \u001b[0mdata\u001b[0m \u001b[0;32mif\u001b[0m \u001b[0mdata\u001b[0m \u001b[0;32mis\u001b[0m \u001b[0;32mnot\u001b[0m \u001b[0;32mNone\u001b[0m \u001b[0;32melse\u001b[0m \u001b[0m_v\u001b[0m\u001b[0;34m\u001b[0m\u001b[0;34m\u001b[0m\u001b[0m\n\u001b[1;32m   9299\u001b[0m         \u001b[0m_v\u001b[0m \u001b[0;34m=\u001b[0m \u001b[0marg\u001b[0m\u001b[0;34m.\u001b[0m\u001b[0mpop\u001b[0m\u001b[0;34m(\u001b[0m\u001b[0;34m\"layout\"\u001b[0m\u001b[0;34m,\u001b[0m \u001b[0;32mNone\u001b[0m\u001b[0;34m)\u001b[0m\u001b[0;34m\u001b[0m\u001b[0;34m\u001b[0m\u001b[0m\n\u001b[0;32m-> 9300\u001b[0;31m         \u001b[0mself\u001b[0m\u001b[0;34m[\u001b[0m\u001b[0;34m\"layout\"\u001b[0m\u001b[0;34m]\u001b[0m \u001b[0;34m=\u001b[0m \u001b[0mlayout\u001b[0m \u001b[0;32mif\u001b[0m \u001b[0mlayout\u001b[0m \u001b[0;32mis\u001b[0m \u001b[0;32mnot\u001b[0m \u001b[0;32mNone\u001b[0m \u001b[0;32melse\u001b[0m \u001b[0m_v\u001b[0m\u001b[0;34m\u001b[0m\u001b[0;34m\u001b[0m\u001b[0m\n\u001b[0m\u001b[1;32m   9301\u001b[0m \u001b[0;34m\u001b[0m\u001b[0m\n\u001b[1;32m   9302\u001b[0m         \u001b[0;31m# Process unknown kwargs\u001b[0m\u001b[0;34m\u001b[0m\u001b[0;34m\u001b[0m\u001b[0;34m\u001b[0m\u001b[0m\n",
            "\u001b[0;32m/usr/local/lib/python3.6/dist-packages/plotly/basedatatypes.py\u001b[0m in \u001b[0;36m__setitem__\u001b[0;34m(self, prop, value)\u001b[0m\n\u001b[1;32m   3480\u001b[0m             \u001b[0;31m# ### Handle compound property ###\u001b[0m\u001b[0;34m\u001b[0m\u001b[0;34m\u001b[0m\u001b[0;34m\u001b[0m\u001b[0m\n\u001b[1;32m   3481\u001b[0m             \u001b[0;32mif\u001b[0m \u001b[0misinstance\u001b[0m\u001b[0;34m(\u001b[0m\u001b[0mvalidator\u001b[0m\u001b[0;34m,\u001b[0m \u001b[0mCompoundValidator\u001b[0m\u001b[0;34m)\u001b[0m\u001b[0;34m:\u001b[0m\u001b[0;34m\u001b[0m\u001b[0;34m\u001b[0m\u001b[0m\n\u001b[0;32m-> 3482\u001b[0;31m                 \u001b[0mself\u001b[0m\u001b[0;34m.\u001b[0m\u001b[0m_set_compound_prop\u001b[0m\u001b[0;34m(\u001b[0m\u001b[0mprop\u001b[0m\u001b[0;34m,\u001b[0m \u001b[0mvalue\u001b[0m\u001b[0;34m)\u001b[0m\u001b[0;34m\u001b[0m\u001b[0;34m\u001b[0m\u001b[0m\n\u001b[0m\u001b[1;32m   3483\u001b[0m \u001b[0;34m\u001b[0m\u001b[0m\n\u001b[1;32m   3484\u001b[0m             \u001b[0;31m# ### Handle compound array property ###\u001b[0m\u001b[0;34m\u001b[0m\u001b[0;34m\u001b[0m\u001b[0;34m\u001b[0m\u001b[0m\n",
            "\u001b[0;32m/usr/local/lib/python3.6/dist-packages/plotly/basedatatypes.py\u001b[0m in \u001b[0;36m_set_compound_prop\u001b[0;34m(self, prop, val)\u001b[0m\n\u001b[1;32m   3834\u001b[0m         \u001b[0;31m# ------------\u001b[0m\u001b[0;34m\u001b[0m\u001b[0;34m\u001b[0m\u001b[0;34m\u001b[0m\u001b[0m\n\u001b[1;32m   3835\u001b[0m         \u001b[0mvalidator\u001b[0m \u001b[0;34m=\u001b[0m \u001b[0mself\u001b[0m\u001b[0;34m.\u001b[0m\u001b[0m_validators\u001b[0m\u001b[0;34m.\u001b[0m\u001b[0mget\u001b[0m\u001b[0;34m(\u001b[0m\u001b[0mprop\u001b[0m\u001b[0;34m)\u001b[0m\u001b[0;34m\u001b[0m\u001b[0;34m\u001b[0m\u001b[0m\n\u001b[0;32m-> 3836\u001b[0;31m         \u001b[0mval\u001b[0m \u001b[0;34m=\u001b[0m \u001b[0mvalidator\u001b[0m\u001b[0;34m.\u001b[0m\u001b[0mvalidate_coerce\u001b[0m\u001b[0;34m(\u001b[0m\u001b[0mval\u001b[0m\u001b[0;34m,\u001b[0m \u001b[0mskip_invalid\u001b[0m\u001b[0;34m=\u001b[0m\u001b[0mself\u001b[0m\u001b[0;34m.\u001b[0m\u001b[0m_skip_invalid\u001b[0m\u001b[0;34m)\u001b[0m\u001b[0;34m\u001b[0m\u001b[0;34m\u001b[0m\u001b[0m\n\u001b[0m\u001b[1;32m   3837\u001b[0m \u001b[0;34m\u001b[0m\u001b[0m\n\u001b[1;32m   3838\u001b[0m         \u001b[0;31m# Save deep copies of current and new states\u001b[0m\u001b[0;34m\u001b[0m\u001b[0;34m\u001b[0m\u001b[0;34m\u001b[0m\u001b[0m\n",
            "\u001b[0;32m/usr/local/lib/python3.6/dist-packages/_plotly_utils/basevalidators.py\u001b[0m in \u001b[0;36mvalidate_coerce\u001b[0;34m(self, v, skip_invalid)\u001b[0m\n\u001b[1;32m   2442\u001b[0m \u001b[0;34m\u001b[0m\u001b[0m\n\u001b[1;32m   2443\u001b[0m         \u001b[0;32melif\u001b[0m \u001b[0misinstance\u001b[0m\u001b[0;34m(\u001b[0m\u001b[0mv\u001b[0m\u001b[0;34m,\u001b[0m \u001b[0mdict\u001b[0m\u001b[0;34m)\u001b[0m\u001b[0;34m:\u001b[0m\u001b[0;34m\u001b[0m\u001b[0;34m\u001b[0m\u001b[0m\n\u001b[0;32m-> 2444\u001b[0;31m             \u001b[0mv\u001b[0m \u001b[0;34m=\u001b[0m \u001b[0mself\u001b[0m\u001b[0;34m.\u001b[0m\u001b[0mdata_class\u001b[0m\u001b[0;34m(\u001b[0m\u001b[0mv\u001b[0m\u001b[0;34m,\u001b[0m \u001b[0mskip_invalid\u001b[0m\u001b[0;34m=\u001b[0m\u001b[0mskip_invalid\u001b[0m\u001b[0;34m)\u001b[0m\u001b[0;34m\u001b[0m\u001b[0;34m\u001b[0m\u001b[0m\n\u001b[0m\u001b[1;32m   2445\u001b[0m \u001b[0;34m\u001b[0m\u001b[0m\n\u001b[1;32m   2446\u001b[0m         \u001b[0;32melif\u001b[0m \u001b[0misinstance\u001b[0m\u001b[0;34m(\u001b[0m\u001b[0mv\u001b[0m\u001b[0;34m,\u001b[0m \u001b[0mself\u001b[0m\u001b[0;34m.\u001b[0m\u001b[0mdata_class\u001b[0m\u001b[0;34m)\u001b[0m\u001b[0;34m:\u001b[0m\u001b[0;34m\u001b[0m\u001b[0;34m\u001b[0m\u001b[0m\n",
            "\u001b[0;32m/usr/local/lib/python3.6/dist-packages/plotly/graph_objs/__init__.py\u001b[0m in \u001b[0;36m__init__\u001b[0;34m(self, arg, angularaxis, annotations, annotationdefaults, autosize, bargap, bargroupgap, barmode, barnorm, boxgap, boxgroupgap, boxmode, calendar, clickmode, coloraxis, colorscale, colorway, datarevision, direction, dragmode, editrevision, extendfunnelareacolors, extendpiecolors, extendsunburstcolors, extendtreemapcolors, font, funnelareacolorway, funnelgap, funnelgroupgap, funnelmode, geo, grid, height, hiddenlabels, hiddenlabelssrc, hidesources, hoverdistance, hoverlabel, hovermode, images, imagedefaults, legend, mapbox, margin, meta, metasrc, modebar, orientation, paper_bgcolor, piecolorway, plot_bgcolor, polar, radialaxis, scene, selectdirection, selectionrevision, separators, shapes, shapedefaults, showlegend, sliders, sliderdefaults, spikedistance, sunburstcolorway, template, ternary, title, titlefont, transition, treemapcolorway, uirevision, updatemenus, updatemenudefaults, violingap, violingroupgap, violinmode, waterfallgap, waterfallgroupgap, waterfallmode, width, xaxis, yaxis, **kwargs)\u001b[0m\n\u001b[1;32m  97521\u001b[0m         \u001b[0mself\u001b[0m\u001b[0;34m.\u001b[0m\u001b[0m_validators\u001b[0m\u001b[0;34m[\u001b[0m\u001b[0;34m\"bargap\"\u001b[0m\u001b[0;34m]\u001b[0m \u001b[0;34m=\u001b[0m \u001b[0mv_layout\u001b[0m\u001b[0;34m.\u001b[0m\u001b[0mBargapValidator\u001b[0m\u001b[0;34m(\u001b[0m\u001b[0;34m)\u001b[0m\u001b[0;34m\u001b[0m\u001b[0;34m\u001b[0m\u001b[0m\n\u001b[1;32m  97522\u001b[0m         \u001b[0mself\u001b[0m\u001b[0;34m.\u001b[0m\u001b[0m_validators\u001b[0m\u001b[0;34m[\u001b[0m\u001b[0;34m\"bargroupgap\"\u001b[0m\u001b[0;34m]\u001b[0m \u001b[0;34m=\u001b[0m \u001b[0mv_layout\u001b[0m\u001b[0;34m.\u001b[0m\u001b[0mBargroupgapValidator\u001b[0m\u001b[0;34m(\u001b[0m\u001b[0;34m)\u001b[0m\u001b[0;34m\u001b[0m\u001b[0;34m\u001b[0m\u001b[0m\n\u001b[0;32m> 97523\u001b[0;31m         \u001b[0mself\u001b[0m\u001b[0;34m.\u001b[0m\u001b[0m_validators\u001b[0m\u001b[0;34m[\u001b[0m\u001b[0;34m\"barmode\"\u001b[0m\u001b[0;34m]\u001b[0m \u001b[0;34m=\u001b[0m \u001b[0mv_layout\u001b[0m\u001b[0;34m.\u001b[0m\u001b[0mBarmodeValidator\u001b[0m\u001b[0;34m(\u001b[0m\u001b[0;34m)\u001b[0m\u001b[0;34m\u001b[0m\u001b[0;34m\u001b[0m\u001b[0m\n\u001b[0m\u001b[1;32m  97524\u001b[0m         \u001b[0mself\u001b[0m\u001b[0;34m.\u001b[0m\u001b[0m_validators\u001b[0m\u001b[0;34m[\u001b[0m\u001b[0;34m\"barnorm\"\u001b[0m\u001b[0;34m]\u001b[0m \u001b[0;34m=\u001b[0m \u001b[0mv_layout\u001b[0m\u001b[0;34m.\u001b[0m\u001b[0mBarnormValidator\u001b[0m\u001b[0;34m(\u001b[0m\u001b[0;34m)\u001b[0m\u001b[0;34m\u001b[0m\u001b[0;34m\u001b[0m\u001b[0m\n\u001b[1;32m  97525\u001b[0m         \u001b[0mself\u001b[0m\u001b[0;34m.\u001b[0m\u001b[0m_validators\u001b[0m\u001b[0;34m[\u001b[0m\u001b[0;34m\"boxgap\"\u001b[0m\u001b[0;34m]\u001b[0m \u001b[0;34m=\u001b[0m \u001b[0mv_layout\u001b[0m\u001b[0;34m.\u001b[0m\u001b[0mBoxgapValidator\u001b[0m\u001b[0;34m(\u001b[0m\u001b[0;34m)\u001b[0m\u001b[0;34m\u001b[0m\u001b[0;34m\u001b[0m\u001b[0m\n",
            "\u001b[0;32m/usr/local/lib/python3.6/dist-packages/plotly/validators/layout/__init__.py\u001b[0m in \u001b[0;36m__init__\u001b[0;34m(self, plotly_name, parent_name, **kwargs)\u001b[0m\n\u001b[1;32m   3109\u001b[0m             \u001b[0mrole\u001b[0m\u001b[0;34m=\u001b[0m\u001b[0mkwargs\u001b[0m\u001b[0;34m.\u001b[0m\u001b[0mpop\u001b[0m\u001b[0;34m(\u001b[0m\u001b[0;34m\"role\"\u001b[0m\u001b[0;34m,\u001b[0m \u001b[0;34m\"info\"\u001b[0m\u001b[0;34m)\u001b[0m\u001b[0;34m,\u001b[0m\u001b[0;34m\u001b[0m\u001b[0;34m\u001b[0m\u001b[0m\n\u001b[1;32m   3110\u001b[0m             \u001b[0mvalues\u001b[0m\u001b[0;34m=\u001b[0m\u001b[0mkwargs\u001b[0m\u001b[0;34m.\u001b[0m\u001b[0mpop\u001b[0m\u001b[0;34m(\u001b[0m\u001b[0;34m\"values\"\u001b[0m\u001b[0;34m,\u001b[0m \u001b[0;34m[\u001b[0m\u001b[0;34m\"stack\"\u001b[0m\u001b[0;34m,\u001b[0m \u001b[0;34m\"group\"\u001b[0m\u001b[0;34m,\u001b[0m \u001b[0;34m\"overlay\"\u001b[0m\u001b[0;34m,\u001b[0m \u001b[0;34m\"relative\"\u001b[0m\u001b[0;34m]\u001b[0m\u001b[0;34m)\u001b[0m\u001b[0;34m,\u001b[0m\u001b[0;34m\u001b[0m\u001b[0;34m\u001b[0m\u001b[0m\n\u001b[0;32m-> 3111\u001b[0;31m             \u001b[0;34m**\u001b[0m\u001b[0mkwargs\u001b[0m\u001b[0;34m\u001b[0m\u001b[0;34m\u001b[0m\u001b[0m\n\u001b[0m\u001b[1;32m   3112\u001b[0m         )\n\u001b[1;32m   3113\u001b[0m \u001b[0;34m\u001b[0m\u001b[0m\n",
            "\u001b[0;32m/usr/local/lib/python3.6/dist-packages/_plotly_utils/basevalidators.py\u001b[0m in \u001b[0;36m__init__\u001b[0;34m(self, plotly_name, parent_name, values, array_ok, coerce_number, **kwargs)\u001b[0m\n\u001b[1;32m    442\u001b[0m         \u001b[0;31m# Look for regular expressions\u001b[0m\u001b[0;34m\u001b[0m\u001b[0;34m\u001b[0m\u001b[0;34m\u001b[0m\u001b[0m\n\u001b[1;32m    443\u001b[0m         \u001b[0;32mfor\u001b[0m \u001b[0mv\u001b[0m \u001b[0;32min\u001b[0m \u001b[0mself\u001b[0m\u001b[0;34m.\u001b[0m\u001b[0mvalues\u001b[0m\u001b[0;34m:\u001b[0m\u001b[0;34m\u001b[0m\u001b[0;34m\u001b[0m\u001b[0m\n\u001b[0;32m--> 444\u001b[0;31m             \u001b[0;32mif\u001b[0m \u001b[0mv\u001b[0m \u001b[0;32mand\u001b[0m \u001b[0misinstance\u001b[0m\u001b[0;34m(\u001b[0m\u001b[0mv\u001b[0m\u001b[0;34m,\u001b[0m \u001b[0mstring_types\u001b[0m\u001b[0;34m)\u001b[0m \u001b[0;32mand\u001b[0m \u001b[0mv\u001b[0m\u001b[0;34m[\u001b[0m\u001b[0;36m0\u001b[0m\u001b[0;34m]\u001b[0m \u001b[0;34m==\u001b[0m \u001b[0;34m\"/\"\u001b[0m \u001b[0;32mand\u001b[0m \u001b[0mv\u001b[0m\u001b[0;34m[\u001b[0m\u001b[0;34m-\u001b[0m\u001b[0;36m1\u001b[0m\u001b[0;34m]\u001b[0m \u001b[0;34m==\u001b[0m \u001b[0;34m\"/\"\u001b[0m\u001b[0;34m:\u001b[0m\u001b[0;34m\u001b[0m\u001b[0;34m\u001b[0m\u001b[0m\n\u001b[0m\u001b[1;32m    445\u001b[0m                 \u001b[0;31m# String is a regex with leading and trailing '/' character\u001b[0m\u001b[0;34m\u001b[0m\u001b[0;34m\u001b[0m\u001b[0;34m\u001b[0m\u001b[0m\n\u001b[1;32m    446\u001b[0m                 \u001b[0mregex_str\u001b[0m \u001b[0;34m=\u001b[0m \u001b[0mv\u001b[0m\u001b[0;34m[\u001b[0m\u001b[0;36m1\u001b[0m\u001b[0;34m:\u001b[0m\u001b[0;34m-\u001b[0m\u001b[0;36m1\u001b[0m\u001b[0;34m]\u001b[0m\u001b[0;34m\u001b[0m\u001b[0;34m\u001b[0m\u001b[0m\n",
            "\u001b[0;31mKeyboardInterrupt\u001b[0m: "
          ]
        }
      ]
    },
    {
      "cell_type": "code",
      "metadata": {
        "id": "oU47G8X4B98I"
      },
      "source": [
        "fig2 = px.bar(x=gastos_do_ultimo_mes.index, \r\n",
        "              y=gastos_do_ultimo_mes,labels={'x':'Unidade da Federação','y':'Gastos'})\r\n",
        "\r\n",
        "fig2.show()"
      ],
      "execution_count": null,
      "outputs": []
    },
    {
      "cell_type": "code",
      "metadata": {
        "id": "glivN_KoCKam"
      },
      "source": [
        "#É possível salvar a imagem\r\n",
        "\r\n",
        "fig2.write_html('imagem.html')"
      ],
      "execution_count": null,
      "outputs": []
    },
    {
      "cell_type": "markdown",
      "metadata": {
        "id": "e31zeCJkEzdb"
      },
      "source": [
        "# Estilizar DataFrames com Pandas"
      ]
    },
    {
      "cell_type": "code",
      "metadata": {
        "id": "nAhsGDo8E5cm"
      },
      "source": [
        "import pandas as pd"
      ],
      "execution_count": null,
      "outputs": []
    },
    {
      "cell_type": "code",
      "metadata": {
        "id": "_PsxRmNTE-po"
      },
      "source": [
        "carros = {'Marca': ['Honda Civic','Toyota Corolla','Ford Focus','Audi A4'],\r\n",
        "        'Preco': [22000,25000,27000,35000]\r\n",
        "        }"
      ],
      "execution_count": null,
      "outputs": []
    },
    {
      "cell_type": "code",
      "metadata": {
        "id": "5jv1dYd2FCnI",
        "colab": {
          "base_uri": "https://localhost:8080/"
        },
        "outputId": "91f63b89-3c43-4a30-d5a5-e684cd82b265"
      },
      "source": [
        "dados = pd.DataFrame(carros)\r\n",
        "\r\n",
        "dados.head()"
      ],
      "execution_count": null,
      "outputs": [
        {
          "output_type": "execute_result",
          "data": {
            "text/html": [
              "<div>\n",
              "<style scoped>\n",
              "    .dataframe tbody tr th:only-of-type {\n",
              "        vertical-align: middle;\n",
              "    }\n",
              "\n",
              "    .dataframe tbody tr th {\n",
              "        vertical-align: top;\n",
              "    }\n",
              "\n",
              "    .dataframe thead th {\n",
              "        text-align: right;\n",
              "    }\n",
              "</style>\n",
              "<table border=\"1\" class=\"dataframe\">\n",
              "  <thead>\n",
              "    <tr style=\"text-align: right;\">\n",
              "      <th></th>\n",
              "      <th>Marca</th>\n",
              "      <th>Preco</th>\n",
              "    </tr>\n",
              "  </thead>\n",
              "  <tbody>\n",
              "    <tr>\n",
              "      <th>0</th>\n",
              "      <td>Honda Civic</td>\n",
              "      <td>22000</td>\n",
              "    </tr>\n",
              "    <tr>\n",
              "      <th>1</th>\n",
              "      <td>Toyota Corolla</td>\n",
              "      <td>25000</td>\n",
              "    </tr>\n",
              "    <tr>\n",
              "      <th>2</th>\n",
              "      <td>Ford Focus</td>\n",
              "      <td>27000</td>\n",
              "    </tr>\n",
              "    <tr>\n",
              "      <th>3</th>\n",
              "      <td>Audi A4</td>\n",
              "      <td>35000</td>\n",
              "    </tr>\n",
              "  </tbody>\n",
              "</table>\n",
              "</div>"
            ],
            "text/plain": [
              "            Marca  Preco\n",
              "0     Honda Civic  22000\n",
              "1  Toyota Corolla  25000\n",
              "2      Ford Focus  27000\n",
              "3         Audi A4  35000"
            ]
          },
          "metadata": {
            "tags": []
          },
          "execution_count": 25
        }
      ]
    },
    {
      "cell_type": "code",
      "metadata": {
        "id": "RsWBQRXFFE3q",
        "colab": {
          "base_uri": "https://localhost:8080/"
        },
        "outputId": "fb2cd78b-7bb3-41ba-bb33-567549ece820"
      },
      "source": [
        "dados.style.set_properties(**{'background-color':'blue',\r\n",
        "                              'color':'white',\r\n",
        "                              'border-color':'black'\r\n",
        "                              })"
      ],
      "execution_count": null,
      "outputs": [
        {
          "output_type": "execute_result",
          "data": {
            "text/html": [
              "<style  type=\"text/css\" >\n",
              "#T_64653720_5b37_11eb_9d20_0242ac1c0002row0_col0,#T_64653720_5b37_11eb_9d20_0242ac1c0002row0_col1,#T_64653720_5b37_11eb_9d20_0242ac1c0002row1_col0,#T_64653720_5b37_11eb_9d20_0242ac1c0002row1_col1,#T_64653720_5b37_11eb_9d20_0242ac1c0002row2_col0,#T_64653720_5b37_11eb_9d20_0242ac1c0002row2_col1,#T_64653720_5b37_11eb_9d20_0242ac1c0002row3_col0,#T_64653720_5b37_11eb_9d20_0242ac1c0002row3_col1{\n",
              "            background-color:  blue;\n",
              "            color:  white;\n",
              "            border-color:  black;\n",
              "        }</style><table id=\"T_64653720_5b37_11eb_9d20_0242ac1c0002\" ><thead>    <tr>        <th class=\"blank level0\" ></th>        <th class=\"col_heading level0 col0\" >Marca</th>        <th class=\"col_heading level0 col1\" >Preco</th>    </tr></thead><tbody>\n",
              "                <tr>\n",
              "                        <th id=\"T_64653720_5b37_11eb_9d20_0242ac1c0002level0_row0\" class=\"row_heading level0 row0\" >0</th>\n",
              "                        <td id=\"T_64653720_5b37_11eb_9d20_0242ac1c0002row0_col0\" class=\"data row0 col0\" >Honda Civic</td>\n",
              "                        <td id=\"T_64653720_5b37_11eb_9d20_0242ac1c0002row0_col1\" class=\"data row0 col1\" >22000</td>\n",
              "            </tr>\n",
              "            <tr>\n",
              "                        <th id=\"T_64653720_5b37_11eb_9d20_0242ac1c0002level0_row1\" class=\"row_heading level0 row1\" >1</th>\n",
              "                        <td id=\"T_64653720_5b37_11eb_9d20_0242ac1c0002row1_col0\" class=\"data row1 col0\" >Toyota Corolla</td>\n",
              "                        <td id=\"T_64653720_5b37_11eb_9d20_0242ac1c0002row1_col1\" class=\"data row1 col1\" >25000</td>\n",
              "            </tr>\n",
              "            <tr>\n",
              "                        <th id=\"T_64653720_5b37_11eb_9d20_0242ac1c0002level0_row2\" class=\"row_heading level0 row2\" >2</th>\n",
              "                        <td id=\"T_64653720_5b37_11eb_9d20_0242ac1c0002row2_col0\" class=\"data row2 col0\" >Ford Focus</td>\n",
              "                        <td id=\"T_64653720_5b37_11eb_9d20_0242ac1c0002row2_col1\" class=\"data row2 col1\" >27000</td>\n",
              "            </tr>\n",
              "            <tr>\n",
              "                        <th id=\"T_64653720_5b37_11eb_9d20_0242ac1c0002level0_row3\" class=\"row_heading level0 row3\" >3</th>\n",
              "                        <td id=\"T_64653720_5b37_11eb_9d20_0242ac1c0002row3_col0\" class=\"data row3 col0\" >Audi A4</td>\n",
              "                        <td id=\"T_64653720_5b37_11eb_9d20_0242ac1c0002row3_col1\" class=\"data row3 col1\" >35000</td>\n",
              "            </tr>\n",
              "    </tbody></table>"
            ],
            "text/plain": [
              "<pandas.io.formats.style.Styler at 0x7fdb31fd1cc0>"
            ]
          },
          "metadata": {
            "tags": []
          },
          "execution_count": 26
        }
      ]
    },
    {
      "cell_type": "code",
      "metadata": {
        "id": "OxmZSyfPFSLf"
      },
      "source": [
        "def cor_orcamento(val):\r\n",
        "\r\n",
        "  if val <= 25000:\r\n",
        "    color = 'red'\r\n",
        "  else:\r\n",
        "    color = 'black'\r\n",
        "\r\n",
        "  return 'color: %s' % color"
      ],
      "execution_count": null,
      "outputs": []
    },
    {
      "cell_type": "code",
      "metadata": {
        "id": "Vx8FNOVwFe9L",
        "colab": {
          "base_uri": "https://localhost:8080/"
        },
        "outputId": "0d319a74-cfae-4a9a-a029-30932b4b90d9"
      },
      "source": [
        "dados.style.applymap(cor_orcamento, subset = 'Preco')"
      ],
      "execution_count": null,
      "outputs": [
        {
          "output_type": "execute_result",
          "data": {
            "text/html": [
              "<style  type=\"text/css\" >\n",
              "#T_646cc65c_5b37_11eb_9d20_0242ac1c0002row0_col1,#T_646cc65c_5b37_11eb_9d20_0242ac1c0002row1_col1{\n",
              "            color:  red;\n",
              "        }#T_646cc65c_5b37_11eb_9d20_0242ac1c0002row2_col1,#T_646cc65c_5b37_11eb_9d20_0242ac1c0002row3_col1{\n",
              "            color:  black;\n",
              "        }</style><table id=\"T_646cc65c_5b37_11eb_9d20_0242ac1c0002\" ><thead>    <tr>        <th class=\"blank level0\" ></th>        <th class=\"col_heading level0 col0\" >Marca</th>        <th class=\"col_heading level0 col1\" >Preco</th>    </tr></thead><tbody>\n",
              "                <tr>\n",
              "                        <th id=\"T_646cc65c_5b37_11eb_9d20_0242ac1c0002level0_row0\" class=\"row_heading level0 row0\" >0</th>\n",
              "                        <td id=\"T_646cc65c_5b37_11eb_9d20_0242ac1c0002row0_col0\" class=\"data row0 col0\" >Honda Civic</td>\n",
              "                        <td id=\"T_646cc65c_5b37_11eb_9d20_0242ac1c0002row0_col1\" class=\"data row0 col1\" >22000</td>\n",
              "            </tr>\n",
              "            <tr>\n",
              "                        <th id=\"T_646cc65c_5b37_11eb_9d20_0242ac1c0002level0_row1\" class=\"row_heading level0 row1\" >1</th>\n",
              "                        <td id=\"T_646cc65c_5b37_11eb_9d20_0242ac1c0002row1_col0\" class=\"data row1 col0\" >Toyota Corolla</td>\n",
              "                        <td id=\"T_646cc65c_5b37_11eb_9d20_0242ac1c0002row1_col1\" class=\"data row1 col1\" >25000</td>\n",
              "            </tr>\n",
              "            <tr>\n",
              "                        <th id=\"T_646cc65c_5b37_11eb_9d20_0242ac1c0002level0_row2\" class=\"row_heading level0 row2\" >2</th>\n",
              "                        <td id=\"T_646cc65c_5b37_11eb_9d20_0242ac1c0002row2_col0\" class=\"data row2 col0\" >Ford Focus</td>\n",
              "                        <td id=\"T_646cc65c_5b37_11eb_9d20_0242ac1c0002row2_col1\" class=\"data row2 col1\" >27000</td>\n",
              "            </tr>\n",
              "            <tr>\n",
              "                        <th id=\"T_646cc65c_5b37_11eb_9d20_0242ac1c0002level0_row3\" class=\"row_heading level0 row3\" >3</th>\n",
              "                        <td id=\"T_646cc65c_5b37_11eb_9d20_0242ac1c0002row3_col0\" class=\"data row3 col0\" >Audi A4</td>\n",
              "                        <td id=\"T_646cc65c_5b37_11eb_9d20_0242ac1c0002row3_col1\" class=\"data row3 col1\" >35000</td>\n",
              "            </tr>\n",
              "    </tbody></table>"
            ],
            "text/plain": [
              "<pandas.io.formats.style.Styler at 0x7fdb31ce2048>"
            ]
          },
          "metadata": {
            "tags": []
          },
          "execution_count": 28
        }
      ]
    },
    {
      "cell_type": "code",
      "metadata": {
        "id": "P5sZLZS4Fijj"
      },
      "source": [
        "#Podemos salvar em um arquivo excel\r\n",
        "\r\n",
        "dados.style.applymap(cor_orcamento, subset = 'Preco').to_excel(\"estilizado.xlsx\", engine = 'openpyxl')\r\n",
        "\r\n",
        "#Pode-se notar nos arquivos sample_data do colab que o arquivo foi criado"
      ],
      "execution_count": null,
      "outputs": []
    },
    {
      "cell_type": "markdown",
      "metadata": {
        "id": "_IcgS1xCadHU"
      },
      "source": [
        "# Intervalo de confiança e População e Amostra"
      ]
    },
    {
      "cell_type": "code",
      "metadata": {
        "id": "ueTKKjRZahUG"
      },
      "source": [
        "url = 'https://raw.githubusercontent.com/allanspadini/linear_estatistica/main/winequality-red.csv'"
      ],
      "execution_count": null,
      "outputs": []
    },
    {
      "cell_type": "markdown",
      "metadata": {
        "id": "GqvR9Bx9d2Dy"
      },
      "source": [
        "https://archive.ics.uci.edu/ml/datasets/Wine\r\n",
        "\r\n",
        "P. Cortez, A. Cerdeira, F. Almeida, T. Matos and J. Reis.\r\n",
        "Modeling wine preferences by data mining from physicochemical properties. In Decision Support Systems, Elsevier, 47(4):547-553, 2009."
      ]
    },
    {
      "cell_type": "code",
      "metadata": {
        "id": "x0NhJiSod3A5"
      },
      "source": [
        "import pandas as pd"
      ],
      "execution_count": null,
      "outputs": []
    },
    {
      "cell_type": "code",
      "metadata": {
        "id": "yOm_Gl3Md4CL"
      },
      "source": [
        "vinho = pd.read_csv(url, sep = ';')"
      ],
      "execution_count": null,
      "outputs": []
    },
    {
      "cell_type": "code",
      "metadata": {
        "colab": {
          "base_uri": "https://localhost:8080/"
        },
        "id": "pRgM-YW2d83D",
        "outputId": "45b02cb8-8447-4080-e987-cac41b03c393"
      },
      "source": [
        "vinho.head()"
      ],
      "execution_count": null,
      "outputs": [
        {
          "output_type": "execute_result",
          "data": {
            "text/html": [
              "<div>\n",
              "<style scoped>\n",
              "    .dataframe tbody tr th:only-of-type {\n",
              "        vertical-align: middle;\n",
              "    }\n",
              "\n",
              "    .dataframe tbody tr th {\n",
              "        vertical-align: top;\n",
              "    }\n",
              "\n",
              "    .dataframe thead th {\n",
              "        text-align: right;\n",
              "    }\n",
              "</style>\n",
              "<table border=\"1\" class=\"dataframe\">\n",
              "  <thead>\n",
              "    <tr style=\"text-align: right;\">\n",
              "      <th></th>\n",
              "      <th>fixed acidity</th>\n",
              "      <th>volatile acidity</th>\n",
              "      <th>citric acid</th>\n",
              "      <th>residual sugar</th>\n",
              "      <th>chlorides</th>\n",
              "      <th>free sulfur dioxide</th>\n",
              "      <th>total sulfur dioxide</th>\n",
              "      <th>density</th>\n",
              "      <th>pH</th>\n",
              "      <th>sulphates</th>\n",
              "      <th>alcohol</th>\n",
              "      <th>quality</th>\n",
              "    </tr>\n",
              "  </thead>\n",
              "  <tbody>\n",
              "    <tr>\n",
              "      <th>0</th>\n",
              "      <td>7.4</td>\n",
              "      <td>0.70</td>\n",
              "      <td>0.00</td>\n",
              "      <td>1.9</td>\n",
              "      <td>0.076</td>\n",
              "      <td>11.0</td>\n",
              "      <td>34.0</td>\n",
              "      <td>0.9978</td>\n",
              "      <td>3.51</td>\n",
              "      <td>0.56</td>\n",
              "      <td>9.4</td>\n",
              "      <td>5</td>\n",
              "    </tr>\n",
              "    <tr>\n",
              "      <th>1</th>\n",
              "      <td>7.8</td>\n",
              "      <td>0.88</td>\n",
              "      <td>0.00</td>\n",
              "      <td>2.6</td>\n",
              "      <td>0.098</td>\n",
              "      <td>25.0</td>\n",
              "      <td>67.0</td>\n",
              "      <td>0.9968</td>\n",
              "      <td>3.20</td>\n",
              "      <td>0.68</td>\n",
              "      <td>9.8</td>\n",
              "      <td>5</td>\n",
              "    </tr>\n",
              "    <tr>\n",
              "      <th>2</th>\n",
              "      <td>7.8</td>\n",
              "      <td>0.76</td>\n",
              "      <td>0.04</td>\n",
              "      <td>2.3</td>\n",
              "      <td>0.092</td>\n",
              "      <td>15.0</td>\n",
              "      <td>54.0</td>\n",
              "      <td>0.9970</td>\n",
              "      <td>3.26</td>\n",
              "      <td>0.65</td>\n",
              "      <td>9.8</td>\n",
              "      <td>5</td>\n",
              "    </tr>\n",
              "    <tr>\n",
              "      <th>3</th>\n",
              "      <td>11.2</td>\n",
              "      <td>0.28</td>\n",
              "      <td>0.56</td>\n",
              "      <td>1.9</td>\n",
              "      <td>0.075</td>\n",
              "      <td>17.0</td>\n",
              "      <td>60.0</td>\n",
              "      <td>0.9980</td>\n",
              "      <td>3.16</td>\n",
              "      <td>0.58</td>\n",
              "      <td>9.8</td>\n",
              "      <td>6</td>\n",
              "    </tr>\n",
              "    <tr>\n",
              "      <th>4</th>\n",
              "      <td>7.4</td>\n",
              "      <td>0.70</td>\n",
              "      <td>0.00</td>\n",
              "      <td>1.9</td>\n",
              "      <td>0.076</td>\n",
              "      <td>11.0</td>\n",
              "      <td>34.0</td>\n",
              "      <td>0.9978</td>\n",
              "      <td>3.51</td>\n",
              "      <td>0.56</td>\n",
              "      <td>9.4</td>\n",
              "      <td>5</td>\n",
              "    </tr>\n",
              "  </tbody>\n",
              "</table>\n",
              "</div>"
            ],
            "text/plain": [
              "   fixed acidity  volatile acidity  citric acid  ...  sulphates  alcohol  quality\n",
              "0            7.4              0.70         0.00  ...       0.56      9.4        5\n",
              "1            7.8              0.88         0.00  ...       0.68      9.8        5\n",
              "2            7.8              0.76         0.04  ...       0.65      9.8        5\n",
              "3           11.2              0.28         0.56  ...       0.58      9.8        6\n",
              "4            7.4              0.70         0.00  ...       0.56      9.4        5\n",
              "\n",
              "[5 rows x 12 columns]"
            ]
          },
          "metadata": {
            "tags": []
          },
          "execution_count": 62
        }
      ]
    },
    {
      "cell_type": "code",
      "metadata": {
        "colab": {
          "base_uri": "https://localhost:8080/"
        },
        "id": "vNOqbjTpd-xl",
        "outputId": "552dc3eb-2f40-4cb8-b29c-541225355a86"
      },
      "source": [
        "#Olhando quantas amostras temos\r\n",
        "\r\n",
        "vinho.shape"
      ],
      "execution_count": null,
      "outputs": [
        {
          "output_type": "execute_result",
          "data": {
            "text/plain": [
              "(1599, 12)"
            ]
          },
          "metadata": {
            "tags": []
          },
          "execution_count": 63
        }
      ]
    },
    {
      "cell_type": "markdown",
      "metadata": {
        "id": "zQSRV-gleAjh"
      },
      "source": [
        "## Qual a chance da nossa amostra retratar a realidade?"
      ]
    },
    {
      "cell_type": "markdown",
      "metadata": {
        "id": "xXWHqxCYeCo9"
      },
      "source": [
        "O **nível de confiança** ($1 - \\alpha$) representa a probabilidade de acerto da estimativa. De forma complementar o **nível de significância** ($\\alpha$) expressa a probabilidade de erro da estimativa.\r\n",
        "\r\n",
        "O **nível de confiança** representa o grau de confiabilidade do resultado da estimativa estar dentro de determinado intervalo. Quando fixamos em uma pesquisa um **nível de confiança** de 95%, por exemplo, estamos assumindo que existe uma probabilidade de 95% dos resultados da pesquisa representarem bem a realidade, ou seja, estarem corretos.\r\n",
        "\r\n",
        "O **nível de confiança** de uma estimativa pode ser obtido a partir da área sob a curva normal como ilustrado na figura abaixo."
      ]
    },
    {
      "cell_type": "markdown",
      "metadata": {
        "id": "FncEyIIieD7p"
      },
      "source": [
        "![alt text](https://caelum-online-public.s3.amazonaws.com/1178-estatistica-parte2/01/img007.png)"
      ]
    },
    {
      "cell_type": "markdown",
      "metadata": {
        "id": "XhtKbG8KeFTY"
      },
      "source": [
        "## Erro inferencial"
      ]
    },
    {
      "cell_type": "markdown",
      "metadata": {
        "id": "YR72zXjkeG21"
      },
      "source": [
        "O **erro inferencial** é definido pelo **desvio padrão das médias amostrais** $\\sigma_\\bar{x}$ e pelo **nível de confiança** determinado para o processo."
      ]
    },
    {
      "cell_type": "markdown",
      "metadata": {
        "id": "m0Tfz7SZeH9_"
      },
      "source": [
        "## $$e = z \\frac{\\sigma}{\\sqrt{n}}$$"
      ]
    },
    {
      "cell_type": "markdown",
      "metadata": {
        "id": "BESfwENQeJM4"
      },
      "source": [
        "Suponha que a densidade do vinho se distribui aproximadamente como uma normal. Calcule o desvio padrão e a média de uma amostra de 1000 elementos. Construa um intervalo de confiança para a média populacional assumindo um **nível de significância de 5%**."
      ]
    },
    {
      "cell_type": "code",
      "metadata": {
        "id": "PXpiUEddeKEM"
      },
      "source": [
        "#Definindo uma amostra com n = 1000 e uma seed random_state = 202\r\n",
        "\r\n",
        "amostra = vinho.sample(n = 1000, random_state = 202)"
      ],
      "execution_count": null,
      "outputs": []
    },
    {
      "cell_type": "code",
      "metadata": {
        "id": "JFfjxNMzeNV4"
      },
      "source": [
        "desvio_padrao = amostra['density'].std()"
      ],
      "execution_count": null,
      "outputs": []
    },
    {
      "cell_type": "code",
      "metadata": {
        "colab": {
          "base_uri": "https://localhost:8080/"
        },
        "id": "l7Q-dxgheRLg",
        "outputId": "a2b8330c-cf00-4ee0-a0a3-808099610cd4"
      },
      "source": [
        "amostra['density'].hist()"
      ],
      "execution_count": null,
      "outputs": [
        {
          "output_type": "execute_result",
          "data": {
            "text/plain": [
              "<matplotlib.axes._subplots.AxesSubplot at 0x7fdb30e1cf60>"
            ]
          },
          "metadata": {
            "tags": []
          },
          "execution_count": 66
        },
        {
          "output_type": "display_data",
          "data": {
            "image/png": "[encoded data removed]",
            "text/plain": [
              "<Figure size 432x288 with 1 Axes>"
            ]
          },
          "metadata": {
            "tags": [],
            "needs_background": "light"
          }
        }
      ]
    },
    {
      "cell_type": "code",
      "metadata": {
        "id": "w6Tkwq5ieUAo"
      },
      "source": [
        "significancia = 0.05"
      ],
      "execution_count": null,
      "outputs": []
    },
    {
      "cell_type": "code",
      "metadata": {
        "id": "flutWmrOeVzq"
      },
      "source": [
        "confianca = 1 - significancia"
      ],
      "execution_count": null,
      "outputs": []
    },
    {
      "cell_type": "code",
      "metadata": {
        "id": "oKjFyW_WnZKT"
      },
      "source": [
        "n = 1000"
      ],
      "execution_count": null,
      "outputs": []
    },
    {
      "cell_type": "markdown",
      "metadata": {
        "id": "n2gZ7SQxeYk-"
      },
      "source": [
        "### Obtendo z - Tabela normal padronizada.\r\n",
        "\r\n",
        "![alt text](https://caelum-online-public.s3.amazonaws.com/1178-estatistica-parte2/01/img008.png)\r\n",
        "\r\n",
        "### Valores de $z$ para os níveis de confiança mais utilizados\r\n",
        "\r\n",
        "|Nível de<br>confiança|Valor da área sob<br>a curva normal| $z$ |\r\n",
        "|:----------------:|:---------------------------------:|:---:|\r\n",
        "|90%               |0,95                               |1,645|\r\n",
        "|95%               |0,975                              |1,96 |\r\n",
        "|99%               |0,995                              |2,575|"
      ]
    },
    {
      "cell_type": "code",
      "metadata": {
        "id": "Z32w3KwLneBO"
      },
      "source": [
        "#Importando a numpy para fazer a raiz quadrada\r\n",
        "\r\n",
        "import numpy as np"
      ],
      "execution_count": null,
      "outputs": []
    },
    {
      "cell_type": "code",
      "metadata": {
        "id": "QvoSsCSRngXR"
      },
      "source": [
        "sigma = desvio_padrao / np.sqrt(n)"
      ],
      "execution_count": null,
      "outputs": []
    },
    {
      "cell_type": "markdown",
      "metadata": {
        "id": "dMn1oVMDnsxL"
      },
      "source": [
        "obtendo o $e$"
      ]
    },
    {
      "cell_type": "code",
      "metadata": {
        "id": "yuLV34uCnvEP"
      },
      "source": [
        "z = 1.96"
      ],
      "execution_count": null,
      "outputs": []
    },
    {
      "cell_type": "code",
      "metadata": {
        "id": "pRMYEdSLnyHn"
      },
      "source": [
        "erro = z * sigma"
      ],
      "execution_count": null,
      "outputs": []
    },
    {
      "cell_type": "code",
      "metadata": {
        "colab": {
          "base_uri": "https://localhost:8080/"
        },
        "id": "sIokLOhmn09u",
        "outputId": "a774fd3a-30bd-4a50-e1f3-db12814e6eab"
      },
      "source": [
        "erro"
      ],
      "execution_count": null,
      "outputs": [
        {
          "output_type": "execute_result",
          "data": {
            "text/plain": [
              "0.00011422344106370019"
            ]
          },
          "metadata": {
            "tags": []
          },
          "execution_count": 74
        }
      ]
    },
    {
      "cell_type": "markdown",
      "metadata": {
        "id": "YN0sVa9UefGp"
      },
      "source": [
        "### Calculando o intervalo de confiança"
      ]
    },
    {
      "cell_type": "code",
      "metadata": {
        "id": "L0wBCkk3efvF"
      },
      "source": [
        "media_amostra = amostra['density'].mean()"
      ],
      "execution_count": null,
      "outputs": []
    },
    {
      "cell_type": "code",
      "metadata": {
        "id": "LNiO-uYjeiWA"
      },
      "source": [
        "intervalo = [media_amostra - erro, media_amostra + erro]"
      ],
      "execution_count": null,
      "outputs": []
    },
    {
      "cell_type": "code",
      "metadata": {
        "colab": {
          "base_uri": "https://localhost:8080/"
        },
        "id": "fgi77sdpem0i",
        "outputId": "ac4a0356-e69a-455d-c1b1-3cce2eb863f6"
      },
      "source": [
        "intervalo"
      ],
      "execution_count": null,
      "outputs": [
        {
          "output_type": "execute_result",
          "data": {
            "text/plain": [
              "[0.9965902065589372, 0.9968186534410646]"
            ]
          },
          "metadata": {
            "tags": []
          },
          "execution_count": 77
        }
      ]
    },
    {
      "cell_type": "code",
      "metadata": {
        "id": "-ZECYU9ZensB"
      },
      "source": [
        "#Forma alternativa utilizando a scipy com a norm para calcular no intervalo\r\n",
        "\r\n",
        "from scipy.stats import norm"
      ],
      "execution_count": null,
      "outputs": []
    },
    {
      "cell_type": "code",
      "metadata": {
        "colab": {
          "base_uri": "https://localhost:8080/"
        },
        "id": "9zOay0i8epGQ",
        "outputId": "78920ea6-f29d-47b7-8204-181a057fd5db"
      },
      "source": [
        "norm.interval(alpha=0.95, loc=media_amostra, scale=sigma)"
      ],
      "execution_count": null,
      "outputs": [
        {
          "output_type": "execute_result",
          "data": {
            "text/plain": [
              "(0.9965902086578197, 0.9968186513421821)"
            ]
          },
          "metadata": {
            "tags": []
          },
          "execution_count": 79
        }
      ]
    },
    {
      "cell_type": "markdown",
      "metadata": {
        "id": "UsvszGfqevWG"
      },
      "source": [
        "## Calculando o tamanho da amostra"
      ]
    },
    {
      "cell_type": "markdown",
      "metadata": {
        "id": "PbMRG519ew3w"
      },
      "source": [
        "Vamos assumir que queremos um erro máximo de 0.0001, nível de confiança de 95% e o desvio padrão populacional é 0.0019."
      ]
    },
    {
      "cell_type": "markdown",
      "metadata": {
        "id": "dajJFVazexuh"
      },
      "source": [
        "\\begin{equation}\r\n",
        "e = z \\frac{\\sigma}{\\sqrt{n}}\r\n",
        "\\end{equation}\r\n",
        "Com desvio padrão conhecido\r\n",
        "\\begin{equation}\r\n",
        "n = \\left( z \\frac{\\sigma}{e} \\right)^2\r\n",
        "\\end{equation}\r\n",
        "Com desvio padrão desconhecido\r\n",
        "\\begin{equation}\r\n",
        "n = \\left( z \\frac{s}{e} \\right)^2\r\n",
        "\\end{equation}\r\n"
      ]
    },
    {
      "cell_type": "code",
      "metadata": {
        "colab": {
          "base_uri": "https://localhost:8080/"
        },
        "id": "FQh_XL95eyuJ",
        "outputId": "4c8367be-fb51-45e0-e273-3c65306693f8"
      },
      "source": [
        "0.95 + 0.025"
      ],
      "execution_count": null,
      "outputs": [
        {
          "output_type": "execute_result",
          "data": {
            "text/plain": [
              "0.975"
            ]
          },
          "metadata": {
            "tags": []
          },
          "execution_count": 80
        }
      ]
    },
    {
      "cell_type": "code",
      "metadata": {
        "id": "qPliMvRfe2DC"
      },
      "source": [
        "#Passamos a área debaixo da curva para o ppf que é de 0.95 + 0.025 (pedaço inicial)\r\n",
        "\r\n",
        "z = norm.ppf(0.975)"
      ],
      "execution_count": null,
      "outputs": []
    },
    {
      "cell_type": "code",
      "metadata": {
        "id": "TJn8Ij2Ze4Nw"
      },
      "source": [
        "sigma = 0.0019"
      ],
      "execution_count": null,
      "outputs": []
    },
    {
      "cell_type": "code",
      "metadata": {
        "id": "capLvqzVe5oo"
      },
      "source": [
        "erro = 0.0001"
      ],
      "execution_count": null,
      "outputs": []
    },
    {
      "cell_type": "code",
      "metadata": {
        "id": "fAzjlS2ge6sy"
      },
      "source": [
        "n = (z*sigma / erro)**2"
      ],
      "execution_count": null,
      "outputs": []
    },
    {
      "cell_type": "code",
      "metadata": {
        "colab": {
          "base_uri": "https://localhost:8080/"
        },
        "id": "akaZl3-Ie9c9",
        "outputId": "90db6b9d-b6d5-4381-8277-b543f04b1f5a"
      },
      "source": [
        "n"
      ],
      "execution_count": null,
      "outputs": [
        {
          "output_type": "execute_result",
          "data": {
            "text/plain": [
              "1386.766634270579"
            ]
          },
          "metadata": {
            "tags": []
          },
          "execution_count": 85
        }
      ]
    },
    {
      "cell_type": "markdown",
      "metadata": {
        "id": "oZFTjorNfAMG"
      },
      "source": [
        "## População finita\r\n",
        "\\begin{equation}\r\n",
        "n = \\frac{z^2 \\sigma^2 N}{z^2 \\sigma^2 + e^2(N-1)}\r\n",
        "\r\n",
        "\\end{equation}\r\n",
        "\r\n",
        "onde N = numero máximo da população"
      ]
    },
    {
      "cell_type": "code",
      "metadata": {
        "id": "uZPxBdNnfBCN"
      },
      "source": [
        "N = 1500"
      ],
      "execution_count": null,
      "outputs": []
    },
    {
      "cell_type": "code",
      "metadata": {
        "colab": {
          "base_uri": "https://localhost:8080/"
        },
        "id": "D6TDrGNifC7U",
        "outputId": "8008a38b-8942-4841-facb-90a5852602ae"
      },
      "source": [
        "((z**2)*(sigma**2)*N) / ((z**2)*(sigma**2) + (erro**2)*(N-1))"
      ],
      "execution_count": null,
      "outputs": [
        {
          "output_type": "execute_result",
          "data": {
            "text/plain": [
              "720.8309662682263"
            ]
          },
          "metadata": {
            "tags": []
          },
          "execution_count": 87
        }
      ]
    },
    {
      "cell_type": "markdown",
      "metadata": {
        "id": "DdyAPjuVtXUi"
      },
      "source": [
        "# Teste de Normalidade e Testes Estatísticos (Unicaudal, Bicaudal)"
      ]
    },
    {
      "cell_type": "code",
      "metadata": {
        "id": "MtMWFwfytbgS"
      },
      "source": [
        "url = 'https://raw.githubusercontent.com/allanspadini/linear_estatistica/main/winequality-red.csv'"
      ],
      "execution_count": null,
      "outputs": []
    },
    {
      "cell_type": "code",
      "metadata": {
        "id": "NNWuIqZItdRd"
      },
      "source": [
        "import pandas as pd"
      ],
      "execution_count": null,
      "outputs": []
    },
    {
      "cell_type": "code",
      "metadata": {
        "id": "1hULus9ctekz"
      },
      "source": [
        "vinho = pd.read_csv(url, sep=';')"
      ],
      "execution_count": null,
      "outputs": []
    },
    {
      "cell_type": "code",
      "metadata": {
        "colab": {
          "base_uri": "https://localhost:8080/",
          "height": 221
        },
        "id": "LqkysNhBtfJw",
        "outputId": "db138f4f-6223-4879-f9e8-ea17745dd638"
      },
      "source": [
        "vinho.head()"
      ],
      "execution_count": null,
      "outputs": [
        {
          "output_type": "execute_result",
          "data": {
            "text/html": [
              "<div>\n",
              "<style scoped>\n",
              "    .dataframe tbody tr th:only-of-type {\n",
              "        vertical-align: middle;\n",
              "    }\n",
              "\n",
              "    .dataframe tbody tr th {\n",
              "        vertical-align: top;\n",
              "    }\n",
              "\n",
              "    .dataframe thead th {\n",
              "        text-align: right;\n",
              "    }\n",
              "</style>\n",
              "<table border=\"1\" class=\"dataframe\">\n",
              "  <thead>\n",
              "    <tr style=\"text-align: right;\">\n",
              "      <th></th>\n",
              "      <th>fixed acidity</th>\n",
              "      <th>volatile acidity</th>\n",
              "      <th>citric acid</th>\n",
              "      <th>residual sugar</th>\n",
              "      <th>chlorides</th>\n",
              "      <th>free sulfur dioxide</th>\n",
              "      <th>total sulfur dioxide</th>\n",
              "      <th>density</th>\n",
              "      <th>pH</th>\n",
              "      <th>sulphates</th>\n",
              "      <th>alcohol</th>\n",
              "      <th>quality</th>\n",
              "    </tr>\n",
              "  </thead>\n",
              "  <tbody>\n",
              "    <tr>\n",
              "      <th>0</th>\n",
              "      <td>7.4</td>\n",
              "      <td>0.70</td>\n",
              "      <td>0.00</td>\n",
              "      <td>1.9</td>\n",
              "      <td>0.076</td>\n",
              "      <td>11.0</td>\n",
              "      <td>34.0</td>\n",
              "      <td>0.9978</td>\n",
              "      <td>3.51</td>\n",
              "      <td>0.56</td>\n",
              "      <td>9.4</td>\n",
              "      <td>5</td>\n",
              "    </tr>\n",
              "    <tr>\n",
              "      <th>1</th>\n",
              "      <td>7.8</td>\n",
              "      <td>0.88</td>\n",
              "      <td>0.00</td>\n",
              "      <td>2.6</td>\n",
              "      <td>0.098</td>\n",
              "      <td>25.0</td>\n",
              "      <td>67.0</td>\n",
              "      <td>0.9968</td>\n",
              "      <td>3.20</td>\n",
              "      <td>0.68</td>\n",
              "      <td>9.8</td>\n",
              "      <td>5</td>\n",
              "    </tr>\n",
              "    <tr>\n",
              "      <th>2</th>\n",
              "      <td>7.8</td>\n",
              "      <td>0.76</td>\n",
              "      <td>0.04</td>\n",
              "      <td>2.3</td>\n",
              "      <td>0.092</td>\n",
              "      <td>15.0</td>\n",
              "      <td>54.0</td>\n",
              "      <td>0.9970</td>\n",
              "      <td>3.26</td>\n",
              "      <td>0.65</td>\n",
              "      <td>9.8</td>\n",
              "      <td>5</td>\n",
              "    </tr>\n",
              "    <tr>\n",
              "      <th>3</th>\n",
              "      <td>11.2</td>\n",
              "      <td>0.28</td>\n",
              "      <td>0.56</td>\n",
              "      <td>1.9</td>\n",
              "      <td>0.075</td>\n",
              "      <td>17.0</td>\n",
              "      <td>60.0</td>\n",
              "      <td>0.9980</td>\n",
              "      <td>3.16</td>\n",
              "      <td>0.58</td>\n",
              "      <td>9.8</td>\n",
              "      <td>6</td>\n",
              "    </tr>\n",
              "    <tr>\n",
              "      <th>4</th>\n",
              "      <td>7.4</td>\n",
              "      <td>0.70</td>\n",
              "      <td>0.00</td>\n",
              "      <td>1.9</td>\n",
              "      <td>0.076</td>\n",
              "      <td>11.0</td>\n",
              "      <td>34.0</td>\n",
              "      <td>0.9978</td>\n",
              "      <td>3.51</td>\n",
              "      <td>0.56</td>\n",
              "      <td>9.4</td>\n",
              "      <td>5</td>\n",
              "    </tr>\n",
              "  </tbody>\n",
              "</table>\n",
              "</div>"
            ],
            "text/plain": [
              "   fixed acidity  volatile acidity  citric acid  ...  sulphates  alcohol  quality\n",
              "0            7.4              0.70         0.00  ...       0.56      9.4        5\n",
              "1            7.8              0.88         0.00  ...       0.68      9.8        5\n",
              "2            7.8              0.76         0.04  ...       0.65      9.8        5\n",
              "3           11.2              0.28         0.56  ...       0.58      9.8        6\n",
              "4            7.4              0.70         0.00  ...       0.56      9.4        5\n",
              "\n",
              "[5 rows x 12 columns]"
            ]
          },
          "metadata": {
            "tags": []
          },
          "execution_count": 91
        }
      ]
    },
    {
      "cell_type": "markdown",
      "metadata": {
        "id": "IQg80dMOtf4B"
      },
      "source": [
        "## Teste de normalidade"
      ]
    },
    {
      "cell_type": "code",
      "metadata": {
        "colab": {
          "base_uri": "https://localhost:8080/"
        },
        "id": "V7_ou0nRtiws",
        "outputId": "6168edbd-31c6-4405-e37d-78a1a237db59"
      },
      "source": [
        "vinho['density'].hist(bins=50)"
      ],
      "execution_count": null,
      "outputs": [
        {
          "output_type": "execute_result",
          "data": {
            "text/plain": [
              "<matplotlib.axes._subplots.AxesSubplot at 0x7fdb308d2390>"
            ]
          },
          "metadata": {
            "tags": []
          },
          "execution_count": 92
        },
        {
          "output_type": "display_data",
          "data": {
            "image/png": "[encoded data removed]",
            "text/plain": [
              "<Figure size 432x288 with 1 Axes>"
            ]
          },
          "metadata": {
            "tags": [],
            "needs_background": "light"
          }
        }
      ]
    },
    {
      "cell_type": "code",
      "metadata": {
        "id": "stQSoIEWtjtc"
      },
      "source": [
        "from scipy.stats import normaltest"
      ],
      "execution_count": null,
      "outputs": []
    },
    {
      "cell_type": "markdown",
      "metadata": {
        "id": "YnrPJ9TJtk37"
      },
      "source": [
        "O normaltest testa a hipótese nula $H_0$ de que a amostra é proveniente de uma distribuição normal. "
      ]
    },
    {
      "cell_type": "markdown",
      "metadata": {
        "id": "Vt2L9yqqtqXI"
      },
      "source": [
        "### Significância ($\\alpha$)"
      ]
    },
    {
      "cell_type": "code",
      "metadata": {
        "id": "98ULvTJZtotZ"
      },
      "source": [
        "significancia = 0.05"
      ],
      "execution_count": null,
      "outputs": []
    },
    {
      "cell_type": "markdown",
      "metadata": {
        "id": "t7Wckl5ktslU"
      },
      "source": [
        "### Rejeitamos $H_0$ se o valor $p \\leq 0,05$ e aceitamos a hipótese alternativa $H_1$"
      ]
    },
    {
      "cell_type": "code",
      "metadata": {
        "id": "BtTub-3htvJ_"
      },
      "source": [
        "stat_test, p_valor= normaltest(vinho['density'])"
      ],
      "execution_count": null,
      "outputs": []
    },
    {
      "cell_type": "code",
      "metadata": {
        "colab": {
          "base_uri": "https://localhost:8080/"
        },
        "id": "Wt3uUyJStwQ0",
        "outputId": "b6123121-5a71-4ff4-a27f-16a973e53b55"
      },
      "source": [
        "stat_test"
      ],
      "execution_count": null,
      "outputs": [
        {
          "output_type": "execute_result",
          "data": {
            "text/plain": [
              "30.707749940958617"
            ]
          },
          "metadata": {
            "tags": []
          },
          "execution_count": 96
        }
      ]
    },
    {
      "cell_type": "code",
      "metadata": {
        "colab": {
          "base_uri": "https://localhost:8080/"
        },
        "id": "gli34RRWtxVr",
        "outputId": "250c33cb-5154-4f99-976f-09a48de23e7d"
      },
      "source": [
        "p_valor <= significancia\r\n",
        "\r\n",
        "#Logo, rejeitamos H0 (hipótese), então, nossa distribuição não é considerada normal"
      ],
      "execution_count": null,
      "outputs": [
        {
          "output_type": "execute_result",
          "data": {
            "text/plain": [
              "True"
            ]
          },
          "metadata": {
            "tags": []
          },
          "execution_count": 97
        }
      ]
    },
    {
      "cell_type": "code",
      "metadata": {
        "id": "YqF2zJn7tyPH"
      },
      "source": [
        "#Criando uma distribuição nmormal para efeitos de comparação\r\n",
        "\r\n",
        "import numpy as np"
      ],
      "execution_count": null,
      "outputs": []
    },
    {
      "cell_type": "code",
      "metadata": {
        "id": "M3x-HSCgty6G"
      },
      "source": [
        "media, escala = 0, 0.1"
      ],
      "execution_count": null,
      "outputs": []
    },
    {
      "cell_type": "code",
      "metadata": {
        "id": "-au3PRz9tzmw"
      },
      "source": [
        "dist_normal = np.random.normal(media, escala, 1000)"
      ],
      "execution_count": null,
      "outputs": []
    },
    {
      "cell_type": "code",
      "metadata": {
        "colab": {
          "base_uri": "https://localhost:8080/"
        },
        "id": "l8MjBxHgt0Ph",
        "outputId": "9d74129a-f655-4c02-efb9-a6c5deba9033"
      },
      "source": [
        "normaltest(dist_normal)\r\n",
        "\r\n",
        "#Note que neste caso, H0 é maior que 0.05"
      ],
      "execution_count": null,
      "outputs": [
        {
          "output_type": "execute_result",
          "data": {
            "text/plain": [
              "NormaltestResult(statistic=6.323600626441865, pvalue=0.04234943017031765)"
            ]
          },
          "metadata": {
            "tags": []
          },
          "execution_count": 101
        }
      ]
    },
    {
      "cell_type": "markdown",
      "metadata": {
        "id": "ZCei6YaAt1yH"
      },
      "source": [
        "## Testes paramétricos"
      ]
    },
    {
      "cell_type": "markdown",
      "metadata": {
        "id": "wteP2fj0t3OG"
      },
      "source": [
        "### Teste Bicaudal"
      ]
    },
    {
      "cell_type": "markdown",
      "metadata": {
        "id": "RJe1bRoSt4X0"
      },
      "source": [
        "Este teste é muito utilizado em **testes de qualidade**. Outro exemplo é a avaliação de peças que devem ter um encaixe perfeito (porcas e parafusos, chaves e fechaduras)."
      ]
    },
    {
      "cell_type": "markdown",
      "metadata": {
        "id": "BGADq43yt59s"
      },
      "source": [
        "### <font color='red'>Problema</font>"
      ]
    },
    {
      "cell_type": "markdown",
      "metadata": {
        "id": "BBfXDpe2t7Un"
      },
      "source": [
        "Nossa produtora de vinhos produz garrafas de 500 ml. Seu processo de produção é quase todo automatizado e as garrafas são preenchidas por uma máquina que às vezes apresenta um certo desajuste, levando a erros no preenchimento das mesmas para mais ou menos conteúdo. Quando o volume médio cai abaixo de 500 ml, a empresa se preocupa em perder vendas e ter problemas com os orgãos fiscalizadores. Quando o volume passa de 500 ml, a empresa começa a se preocupar com prejuízos no processo de produção.\r\n",
        "\r\n",
        "O setor de controle de qualidade da empresa extrai, periodicamente, amostras de 50 garrafas para monitorar o processo de produção. Para cada amostra, é realizado um teste de hipóteses para avaliar se o maquinário se desajustou. A equipe de controle de qualidade assume um nível de significância de 5%.\r\n",
        "\r\n",
        "Suponha agora que uma amostra de 50 embalagens foi selecionada e que a média amostral observada foi de 503,24 ml. Esse valor de média amostral é suficientemente maior que 500 ml para nos fazer rejeitar a hipótese de que a média do processo é de 500 ml ao nível de significância de 5%?"
      ]
    },
    {
      "cell_type": "markdown",
      "metadata": {
        "id": "83p5YzSnt8Ui"
      },
      "source": [
        "![Teste Bicaudal](https://caelum-online-public.s3.amazonaws.com/1229-estatistica-parte3/01/img005.png)"
      ]
    },
    {
      "cell_type": "code",
      "metadata": {
        "id": "H8S5rLJWt9VX"
      },
      "source": [
        "amostra = [509, 505, 495, 510, 496, 509, 497, 502, 503, 505, \r\n",
        "           501, 505, 510, 505, 504, 497, 506, 506, 508, 505, \r\n",
        "           497, 504, 500, 498, 506, 496, 508, 497, 503, 501, \r\n",
        "           503, 506, 499, 498, 509, 507, 503, 499, 509, 495, \r\n",
        "           502, 505, 504, 509, 508, 501, 505, 497, 508, 507]"
      ],
      "execution_count": null,
      "outputs": []
    },
    {
      "cell_type": "code",
      "metadata": {
        "colab": {
          "base_uri": "https://localhost:8080/"
        },
        "id": "of0G9TlQt-iO",
        "outputId": "d201a9a0-fad1-4d6f-e2ef-8e0048b67c61"
      },
      "source": [
        "amostra = pd.DataFrame(amostra, columns=['Amostra'])\r\n",
        "amostra.head()"
      ],
      "execution_count": null,
      "outputs": [
        {
          "output_type": "execute_result",
          "data": {
            "text/html": [
              "<div>\n",
              "<style scoped>\n",
              "    .dataframe tbody tr th:only-of-type {\n",
              "        vertical-align: middle;\n",
              "    }\n",
              "\n",
              "    .dataframe tbody tr th {\n",
              "        vertical-align: top;\n",
              "    }\n",
              "\n",
              "    .dataframe thead th {\n",
              "        text-align: right;\n",
              "    }\n",
              "</style>\n",
              "<table border=\"1\" class=\"dataframe\">\n",
              "  <thead>\n",
              "    <tr style=\"text-align: right;\">\n",
              "      <th></th>\n",
              "      <th>Amostra</th>\n",
              "    </tr>\n",
              "  </thead>\n",
              "  <tbody>\n",
              "    <tr>\n",
              "      <th>0</th>\n",
              "      <td>509</td>\n",
              "    </tr>\n",
              "    <tr>\n",
              "      <th>1</th>\n",
              "      <td>505</td>\n",
              "    </tr>\n",
              "    <tr>\n",
              "      <th>2</th>\n",
              "      <td>495</td>\n",
              "    </tr>\n",
              "    <tr>\n",
              "      <th>3</th>\n",
              "      <td>510</td>\n",
              "    </tr>\n",
              "    <tr>\n",
              "      <th>4</th>\n",
              "      <td>496</td>\n",
              "    </tr>\n",
              "  </tbody>\n",
              "</table>\n",
              "</div>"
            ],
            "text/plain": [
              "   Amostra\n",
              "0      509\n",
              "1      505\n",
              "2      495\n",
              "3      510\n",
              "4      496"
            ]
          },
          "metadata": {
            "tags": []
          },
          "execution_count": 103
        }
      ]
    },
    {
      "cell_type": "code",
      "metadata": {
        "colab": {
          "base_uri": "https://localhost:8080/"
        },
        "id": "hAJDcLavt_3Q",
        "outputId": "6bf458e5-e53b-4ae2-e33e-6a7b21839fe4"
      },
      "source": [
        "media_amostra = amostra.mean()[0]\r\n",
        "media_amostra"
      ],
      "execution_count": null,
      "outputs": [
        {
          "output_type": "execute_result",
          "data": {
            "text/plain": [
              "503.24"
            ]
          },
          "metadata": {
            "tags": []
          },
          "execution_count": 104
        }
      ]
    },
    {
      "cell_type": "code",
      "metadata": {
        "colab": {
          "base_uri": "https://localhost:8080/"
        },
        "id": "fgCjy4bvuAuM",
        "outputId": "ec7a8721-ffdc-4066-924c-7866eb368dc6"
      },
      "source": [
        "desvio_padrao_amostra = amostra.std()[0]\r\n",
        "desvio_padrao_amostra"
      ],
      "execution_count": null,
      "outputs": [
        {
          "output_type": "execute_result",
          "data": {
            "text/plain": [
              "4.483803050527347"
            ]
          },
          "metadata": {
            "tags": []
          },
          "execution_count": 105
        }
      ]
    },
    {
      "cell_type": "code",
      "metadata": {
        "id": "kswg-lSUuBPY"
      },
      "source": [
        "media = 500\r\n",
        "significancia = 0.05\r\n",
        "confianca = 1 - significancia\r\n",
        "n = 50"
      ],
      "execution_count": null,
      "outputs": []
    },
    {
      "cell_type": "markdown",
      "metadata": {
        "id": "Tgt2T0auuCVN"
      },
      "source": [
        "### **Passo 1** - formulação das hipóteses $H_0$ e $H_1$\r\n",
        "\r\n",
        "#### <font color='red'>Lembre-se, a hipótese nula sempre contém a alegação de igualdade</font>"
      ]
    },
    {
      "cell_type": "markdown",
      "metadata": {
        "id": "bO8WcUpHuDZq"
      },
      "source": [
        "### $H_0: \\mu = 500$\r\n",
        "\r\n",
        "### $H_1: \\mu \\neq 500$"
      ]
    },
    {
      "cell_type": "markdown",
      "metadata": {
        "id": "NuS7st5yuE2L"
      },
      "source": [
        "### **Passo 2** - escolha da distribuição amostral adequada\r\n",
        "<img src='https://caelum-online-public.s3.amazonaws.com/1229-estatistica-parte3/01/img003.png' width=70%>"
      ]
    },
    {
      "cell_type": "markdown",
      "metadata": {
        "id": "n26HC6pfuGnu"
      },
      "source": [
        "### O tamanho da amostra é maior que 30?\r\n",
        "#### Resp.: Sim\r\n",
        "\r\n",
        "### O desvio padrão populacional é conhecido?\r\n",
        "#### Resp.: Não"
      ]
    },
    {
      "cell_type": "markdown",
      "metadata": {
        "id": "wfMzeOCIuH3z"
      },
      "source": [
        "### **Passo 3** - fixação da significância do teste ($\\alpha$)"
      ]
    },
    {
      "cell_type": "code",
      "metadata": {
        "id": "RNSGgPyvuJyT"
      },
      "source": [
        "from scipy.stats import norm"
      ],
      "execution_count": null,
      "outputs": []
    },
    {
      "cell_type": "code",
      "metadata": {
        "colab": {
          "base_uri": "https://localhost:8080/"
        },
        "id": "J0KvX-E2uKi-",
        "outputId": "b9f1eabe-56df-4c20-e620-9aa774492319"
      },
      "source": [
        "probabilidade = (0.5 + (confianca / 2))\r\n",
        "probabilidade"
      ],
      "execution_count": null,
      "outputs": [
        {
          "output_type": "execute_result",
          "data": {
            "text/plain": [
              "0.975"
            ]
          },
          "metadata": {
            "tags": []
          },
          "execution_count": 108
        }
      ]
    },
    {
      "cell_type": "markdown",
      "metadata": {
        "id": "-cyIbkxNuMSh"
      },
      "source": [
        "### Obtendo $z_{\\alpha/2}$"
      ]
    },
    {
      "cell_type": "code",
      "metadata": {
        "colab": {
          "base_uri": "https://localhost:8080/"
        },
        "id": "jGoUv_EEuNGK",
        "outputId": "4797b192-f8d0-4912-91ca-360b7f6e256c"
      },
      "source": [
        "z_alpha_2 = norm.ppf(probabilidade)\r\n",
        "z_alpha_2"
      ],
      "execution_count": null,
      "outputs": [
        {
          "output_type": "execute_result",
          "data": {
            "text/plain": [
              "1.959963984540054"
            ]
          },
          "metadata": {
            "tags": []
          },
          "execution_count": 109
        }
      ]
    },
    {
      "cell_type": "markdown",
      "metadata": {
        "id": "ZLmdA2PBuOCl"
      },
      "source": [
        "![Região de Aceitação](https://caelum-online-public.s3.amazonaws.com/1229-estatistica-parte3/01/img006.png)"
      ]
    },
    {
      "cell_type": "markdown",
      "metadata": {
        "id": "CvsQMkT2uP6v"
      },
      "source": [
        "### **Passo 4** - cálculo da estatística-teste e verificação desse valor com as áreas de aceitação e rejeição do teste\r\n",
        "\r\n",
        "# $$z = \\frac{\\bar{x} - \\mu_0}{\\frac{s}{\\sqrt{n}}}$$"
      ]
    },
    {
      "cell_type": "code",
      "metadata": {
        "colab": {
          "base_uri": "https://localhost:8080/"
        },
        "id": "4bXrkG_iuRRg",
        "outputId": "2f23c187-9503-4fb5-e527-bd5e9ee2bf4b"
      },
      "source": [
        "z = (media_amostra - media) / (desvio_padrao_amostra / np.sqrt(n))\r\n",
        "z"
      ],
      "execution_count": null,
      "outputs": [
        {
          "output_type": "execute_result",
          "data": {
            "text/plain": [
              "5.109559775991877"
            ]
          },
          "metadata": {
            "tags": []
          },
          "execution_count": 110
        }
      ]
    },
    {
      "cell_type": "markdown",
      "metadata": {
        "id": "jLgOVySnuSLr"
      },
      "source": [
        "![Estatística-Teste](https://caelum-online-public.s3.amazonaws.com/1229-estatistica-parte3/01/img007.png)"
      ]
    },
    {
      "cell_type": "markdown",
      "metadata": {
        "id": "Gw-5xWAGuTj-"
      },
      "source": [
        "### **Passo 5** - Aceitação ou rejeição da hipótese nula"
      ]
    },
    {
      "cell_type": "markdown",
      "metadata": {
        "id": "xkj3bOKLuV8B"
      },
      "source": [
        "<img src='https://caelum-online-public.s3.amazonaws.com/1229-estatistica-parte3/01/img013.png' width=90%>"
      ]
    },
    {
      "cell_type": "markdown",
      "metadata": {
        "id": "or_uyJz2uXnQ"
      },
      "source": [
        "### <font color='red'>Critério do valor crítico</font>\r\n",
        "\r\n",
        "> ### Teste Bicaudal\r\n",
        "> ### Rejeitar $H_0$ se $z \\leq -z_{\\alpha / 2}$ ou se $z \\geq z_{\\alpha / 2}$"
      ]
    },
    {
      "cell_type": "code",
      "metadata": {
        "colab": {
          "base_uri": "https://localhost:8080/"
        },
        "id": "RzGUkD-7ua5k",
        "outputId": "c0d130e7-a1dc-4e6d-a8a8-363eb3330ed6"
      },
      "source": [
        "z <= -z_alpha_2"
      ],
      "execution_count": null,
      "outputs": [
        {
          "output_type": "execute_result",
          "data": {
            "text/plain": [
              "False"
            ]
          },
          "metadata": {
            "tags": []
          },
          "execution_count": 111
        }
      ]
    },
    {
      "cell_type": "code",
      "metadata": {
        "colab": {
          "base_uri": "https://localhost:8080/"
        },
        "id": "QGooiavlubu-",
        "outputId": "c15c8149-6250-442c-9e87-1db36cd0febc"
      },
      "source": [
        "z >= z_alpha_2"
      ],
      "execution_count": null,
      "outputs": [
        {
          "output_type": "execute_result",
          "data": {
            "text/plain": [
              "True"
            ]
          },
          "metadata": {
            "tags": []
          },
          "execution_count": 112
        }
      ]
    },
    {
      "cell_type": "markdown",
      "metadata": {
        "id": "_iKxDbbKuchl"
      },
      "source": [
        "### <font color='green'>Conclusão: Como a média amostral $\\bar{x}$ é significativamente maior que 500 ml, rejeitamos $H_0$. Neste caso, devem ser tomadas providências para ajustar o maquinário que preenche as embalagens.</font>"
      ]
    },
    {
      "cell_type": "markdown",
      "metadata": {
        "id": "qy0xAKB6uecW"
      },
      "source": [
        "### <font color='red'>Critério do $p-valor$</font>\r\n",
        "\r\n",
        "> ### Teste Bicaudal\r\n",
        "> ### Rejeitar $H_0$ se o valor $p\\leq\\alpha$"
      ]
    },
    {
      "cell_type": "code",
      "metadata": {
        "colab": {
          "base_uri": "https://localhost:8080/"
        },
        "id": "pvIK2h_eufcT",
        "outputId": "7c20dde5-2cb3-4711-a910-314e2d1dbe10"
      },
      "source": [
        "p_valor = 2 * (1 - norm.cdf(z))\r\n",
        "p_valor"
      ],
      "execution_count": null,
      "outputs": [
        {
          "output_type": "execute_result",
          "data": {
            "text/plain": [
              "3.2291031715203644e-07"
            ]
          },
          "metadata": {
            "tags": []
          },
          "execution_count": 113
        }
      ]
    },
    {
      "cell_type": "code",
      "metadata": {
        "colab": {
          "base_uri": "https://localhost:8080/"
        },
        "id": "SPpF0t-xugoX",
        "outputId": "cb8622e3-1069-4f45-a34b-436e2d220e30"
      },
      "source": [
        "p_valor = 2 * (norm.sf(z))\r\n",
        "p_valor"
      ],
      "execution_count": null,
      "outputs": [
        {
          "output_type": "execute_result",
          "data": {
            "text/plain": [
              "3.229103172445718e-07"
            ]
          },
          "metadata": {
            "tags": []
          },
          "execution_count": 114
        }
      ]
    },
    {
      "cell_type": "code",
      "metadata": {
        "colab": {
          "base_uri": "https://localhost:8080/"
        },
        "id": "28ij5-8xuhcW",
        "outputId": "e9e4b15c-aa95-49e3-8f28-100e7bda7216"
      },
      "source": [
        "p_valor <= significancia"
      ],
      "execution_count": null,
      "outputs": [
        {
          "output_type": "execute_result",
          "data": {
            "text/plain": [
              "True"
            ]
          },
          "metadata": {
            "tags": []
          },
          "execution_count": 115
        }
      ]
    },
    {
      "cell_type": "markdown",
      "metadata": {
        "id": "A_eksjgQuik2"
      },
      "source": [
        "### Ztest"
      ]
    },
    {
      "cell_type": "code",
      "metadata": {
        "colab": {
          "base_uri": "https://localhost:8080/"
        },
        "id": "rTLhvIW8ujjZ",
        "outputId": "e5662906-4297-480d-96d1-9427daf28cc9"
      },
      "source": [
        "from statsmodels.stats.weightstats import ztest"
      ],
      "execution_count": null,
      "outputs": [
        {
          "output_type": "stream",
          "text": [
            "/usr/local/lib/python3.6/dist-packages/statsmodels/tools/_testing.py:19: FutureWarning:\n",
            "\n",
            "pandas.util.testing is deprecated. Use the functions in the public API at pandas.testing instead.\n",
            "\n"
          ],
          "name": "stderr"
        }
      ]
    },
    {
      "cell_type": "code",
      "metadata": {
        "colab": {
          "base_uri": "https://localhost:8080/"
        },
        "id": "1zbkHOvAukYu",
        "outputId": "845991ce-7051-4b0f-80d2-90bffe22dc82"
      },
      "source": [
        "ztest(x1 = amostra, value = media)"
      ],
      "execution_count": null,
      "outputs": [
        {
          "output_type": "execute_result",
          "data": {
            "text/plain": [
              "(array([5.10955978]), array([3.22910317e-07]))"
            ]
          },
          "metadata": {
            "tags": []
          },
          "execution_count": 117
        }
      ]
    },
    {
      "cell_type": "markdown",
      "metadata": {
        "id": "p9Ppo-BYuldP"
      },
      "source": [
        "### Teste unicaudal"
      ]
    },
    {
      "cell_type": "markdown",
      "metadata": {
        "id": "983wfWXQumqz"
      },
      "source": [
        "## <font color='red'>Problema</font>\r\n",
        "\r\n",
        "Nossa fábrica de vinho agora está produzindo mii garrafas de 350 ml de seu principal produto que contém, no máximo, 37 gramas de açúcar. Esta alegação nos leva a entender que a quantidade média de açúcar em uma garrafa deve ser igual ou menor que 37 g.\r\n",
        "\r\n",
        "Um consumidor desconfiado e com conhecimentos em inferência estatística resolve testar a alegação do fabricante e seleciona, aleatóriamente, em um conjunto de estabelecimentos distintos, uma amostra de 25 garrafas. Utilizando o equipamento correto o consumidor obteve as quantidades de açúcar em todas as 25 amostras.\r\n",
        "\r\n",
        "Assumindo que essa população se distribua aproximadamente como uma normal e considerando um nível de significância de 5%, é possível aceitar como válida a alegação do fabricante?"
      ]
    },
    {
      "cell_type": "markdown",
      "metadata": {
        "id": "H_2YrLBguooV"
      },
      "source": [
        "### Construindo tabela $t$ de Student"
      ]
    },
    {
      "cell_type": "code",
      "metadata": {
        "colab": {
          "base_uri": "https://localhost:8080/"
        },
        "id": "qnGMOOwjuphM",
        "outputId": "d9ba5d9d-ec34-4ca3-9b01-d246d5dba697"
      },
      "source": [
        "import pandas as pd\r\n",
        "from scipy.stats import t as t_student\r\n",
        "\r\n",
        "tabela_t_student = pd.DataFrame(\r\n",
        "    [], \r\n",
        "    index=[i for i in range(1, 31)],\r\n",
        "    columns = [i / 100 for i in range(10, 0, -1)]\r\n",
        ")\r\n",
        "\r\n",
        "for index in tabela_t_student.index:\r\n",
        "    for column in tabela_t_student.columns:\r\n",
        "        tabela_t_student.loc[index, column] = t_student.ppf(1 - float(column) / 2, index)\r\n",
        "\r\n",
        "index=[('Graus de Liberdade (n - 1)', i) for i in range(1, 31)]\r\n",
        "tabela_t_student.index = pd.MultiIndex.from_tuples(index)\r\n",
        "\r\n",
        "columns = [(\"{0:0.3f}\".format(i / 100), \"{0:0.3f}\".format((i / 100) / 2)) for i in range(10, 0, -1)]\r\n",
        "tabela_t_student.columns = pd.MultiIndex.from_tuples(columns)\r\n",
        "\r\n",
        "tabela_t_student.rename_axis(['Bicaudal', 'Unicaudal'], axis=1, inplace = True)\r\n",
        "\r\n",
        "tabela_t_student"
      ],
      "execution_count": null,
      "outputs": [
        {
          "output_type": "execute_result",
          "data": {
            "text/html": [
              "<div>\n",
              "<style scoped>\n",
              "    .dataframe tbody tr th:only-of-type {\n",
              "        vertical-align: middle;\n",
              "    }\n",
              "\n",
              "    .dataframe tbody tr th {\n",
              "        vertical-align: top;\n",
              "    }\n",
              "\n",
              "    .dataframe thead tr th {\n",
              "        text-align: left;\n",
              "    }\n",
              "</style>\n",
              "<table border=\"1\" class=\"dataframe\">\n",
              "  <thead>\n",
              "    <tr>\n",
              "      <th></th>\n",
              "      <th>Bicaudal</th>\n",
              "      <th>0.100</th>\n",
              "      <th>0.090</th>\n",
              "      <th>0.080</th>\n",
              "      <th>0.070</th>\n",
              "      <th>0.060</th>\n",
              "      <th>0.050</th>\n",
              "      <th>0.040</th>\n",
              "      <th>0.030</th>\n",
              "      <th>0.020</th>\n",
              "      <th>0.010</th>\n",
              "    </tr>\n",
              "    <tr>\n",
              "      <th></th>\n",
              "      <th>Unicaudal</th>\n",
              "      <th>0.050</th>\n",
              "      <th>0.045</th>\n",
              "      <th>0.040</th>\n",
              "      <th>0.035</th>\n",
              "      <th>0.030</th>\n",
              "      <th>0.025</th>\n",
              "      <th>0.020</th>\n",
              "      <th>0.015</th>\n",
              "      <th>0.010</th>\n",
              "      <th>0.005</th>\n",
              "    </tr>\n",
              "  </thead>\n",
              "  <tbody>\n",
              "    <tr>\n",
              "      <th rowspan=\"30\" valign=\"top\">Graus de Liberdade (n - 1)</th>\n",
              "      <th>1</th>\n",
              "      <td>6.31375</td>\n",
              "      <td>7.02637</td>\n",
              "      <td>7.91582</td>\n",
              "      <td>9.05789</td>\n",
              "      <td>10.5789</td>\n",
              "      <td>12.7062</td>\n",
              "      <td>15.8945</td>\n",
              "      <td>21.2049</td>\n",
              "      <td>31.8205</td>\n",
              "      <td>63.6567</td>\n",
              "    </tr>\n",
              "    <tr>\n",
              "      <th>2</th>\n",
              "      <td>2.91999</td>\n",
              "      <td>3.10398</td>\n",
              "      <td>3.31976</td>\n",
              "      <td>3.57825</td>\n",
              "      <td>3.89643</td>\n",
              "      <td>4.30265</td>\n",
              "      <td>4.84873</td>\n",
              "      <td>5.64278</td>\n",
              "      <td>6.96456</td>\n",
              "      <td>9.92484</td>\n",
              "    </tr>\n",
              "    <tr>\n",
              "      <th>3</th>\n",
              "      <td>2.35336</td>\n",
              "      <td>2.47081</td>\n",
              "      <td>2.60543</td>\n",
              "      <td>2.7626</td>\n",
              "      <td>2.95051</td>\n",
              "      <td>3.18245</td>\n",
              "      <td>3.48191</td>\n",
              "      <td>3.89605</td>\n",
              "      <td>4.5407</td>\n",
              "      <td>5.84091</td>\n",
              "    </tr>\n",
              "    <tr>\n",
              "      <th>4</th>\n",
              "      <td>2.13185</td>\n",
              "      <td>2.2261</td>\n",
              "      <td>2.33287</td>\n",
              "      <td>2.45589</td>\n",
              "      <td>2.60076</td>\n",
              "      <td>2.77645</td>\n",
              "      <td>2.99853</td>\n",
              "      <td>3.29763</td>\n",
              "      <td>3.74695</td>\n",
              "      <td>4.60409</td>\n",
              "    </tr>\n",
              "    <tr>\n",
              "      <th>5</th>\n",
              "      <td>2.01505</td>\n",
              "      <td>2.09784</td>\n",
              "      <td>2.19096</td>\n",
              "      <td>2.29739</td>\n",
              "      <td>2.42158</td>\n",
              "      <td>2.57058</td>\n",
              "      <td>2.75651</td>\n",
              "      <td>3.00287</td>\n",
              "      <td>3.36493</td>\n",
              "      <td>4.03214</td>\n",
              "    </tr>\n",
              "    <tr>\n",
              "      <th>6</th>\n",
              "      <td>1.94318</td>\n",
              "      <td>2.0192</td>\n",
              "      <td>2.10431</td>\n",
              "      <td>2.20106</td>\n",
              "      <td>2.31326</td>\n",
              "      <td>2.44691</td>\n",
              "      <td>2.61224</td>\n",
              "      <td>2.82893</td>\n",
              "      <td>3.14267</td>\n",
              "      <td>3.70743</td>\n",
              "    </tr>\n",
              "    <tr>\n",
              "      <th>7</th>\n",
              "      <td>1.89458</td>\n",
              "      <td>1.96615</td>\n",
              "      <td>2.04601</td>\n",
              "      <td>2.13645</td>\n",
              "      <td>2.24088</td>\n",
              "      <td>2.36462</td>\n",
              "      <td>2.51675</td>\n",
              "      <td>2.71457</td>\n",
              "      <td>2.99795</td>\n",
              "      <td>3.49948</td>\n",
              "    </tr>\n",
              "    <tr>\n",
              "      <th>8</th>\n",
              "      <td>1.85955</td>\n",
              "      <td>1.92799</td>\n",
              "      <td>2.00415</td>\n",
              "      <td>2.09017</td>\n",
              "      <td>2.18915</td>\n",
              "      <td>2.306</td>\n",
              "      <td>2.44898</td>\n",
              "      <td>2.63381</td>\n",
              "      <td>2.89646</td>\n",
              "      <td>3.35539</td>\n",
              "    </tr>\n",
              "    <tr>\n",
              "      <th>9</th>\n",
              "      <td>1.83311</td>\n",
              "      <td>1.89922</td>\n",
              "      <td>1.97265</td>\n",
              "      <td>2.05539</td>\n",
              "      <td>2.15038</td>\n",
              "      <td>2.26216</td>\n",
              "      <td>2.39844</td>\n",
              "      <td>2.5738</td>\n",
              "      <td>2.82144</td>\n",
              "      <td>3.24984</td>\n",
              "    </tr>\n",
              "    <tr>\n",
              "      <th>10</th>\n",
              "      <td>1.81246</td>\n",
              "      <td>1.87677</td>\n",
              "      <td>1.9481</td>\n",
              "      <td>2.02833</td>\n",
              "      <td>2.12023</td>\n",
              "      <td>2.22814</td>\n",
              "      <td>2.35931</td>\n",
              "      <td>2.52748</td>\n",
              "      <td>2.76377</td>\n",
              "      <td>3.16927</td>\n",
              "    </tr>\n",
              "    <tr>\n",
              "      <th>11</th>\n",
              "      <td>1.79588</td>\n",
              "      <td>1.85877</td>\n",
              "      <td>1.92843</td>\n",
              "      <td>2.00666</td>\n",
              "      <td>2.09614</td>\n",
              "      <td>2.20099</td>\n",
              "      <td>2.32814</td>\n",
              "      <td>2.49066</td>\n",
              "      <td>2.71808</td>\n",
              "      <td>3.10581</td>\n",
              "    </tr>\n",
              "    <tr>\n",
              "      <th>12</th>\n",
              "      <td>1.78229</td>\n",
              "      <td>1.84402</td>\n",
              "      <td>1.91231</td>\n",
              "      <td>1.98893</td>\n",
              "      <td>2.07644</td>\n",
              "      <td>2.17881</td>\n",
              "      <td>2.30272</td>\n",
              "      <td>2.4607</td>\n",
              "      <td>2.681</td>\n",
              "      <td>3.05454</td>\n",
              "    </tr>\n",
              "    <tr>\n",
              "      <th>13</th>\n",
              "      <td>1.77093</td>\n",
              "      <td>1.8317</td>\n",
              "      <td>1.89887</td>\n",
              "      <td>1.97416</td>\n",
              "      <td>2.06004</td>\n",
              "      <td>2.16037</td>\n",
              "      <td>2.2816</td>\n",
              "      <td>2.43585</td>\n",
              "      <td>2.65031</td>\n",
              "      <td>3.01228</td>\n",
              "    </tr>\n",
              "    <tr>\n",
              "      <th>14</th>\n",
              "      <td>1.76131</td>\n",
              "      <td>1.82127</td>\n",
              "      <td>1.8875</td>\n",
              "      <td>1.96166</td>\n",
              "      <td>2.04617</td>\n",
              "      <td>2.14479</td>\n",
              "      <td>2.26378</td>\n",
              "      <td>2.4149</td>\n",
              "      <td>2.62449</td>\n",
              "      <td>2.97684</td>\n",
              "    </tr>\n",
              "    <tr>\n",
              "      <th>15</th>\n",
              "      <td>1.75305</td>\n",
              "      <td>1.81232</td>\n",
              "      <td>1.87774</td>\n",
              "      <td>1.95094</td>\n",
              "      <td>2.03429</td>\n",
              "      <td>2.13145</td>\n",
              "      <td>2.24854</td>\n",
              "      <td>2.39701</td>\n",
              "      <td>2.60248</td>\n",
              "      <td>2.94671</td>\n",
              "    </tr>\n",
              "    <tr>\n",
              "      <th>16</th>\n",
              "      <td>1.74588</td>\n",
              "      <td>1.80455</td>\n",
              "      <td>1.86928</td>\n",
              "      <td>1.94165</td>\n",
              "      <td>2.024</td>\n",
              "      <td>2.11991</td>\n",
              "      <td>2.23536</td>\n",
              "      <td>2.38155</td>\n",
              "      <td>2.58349</td>\n",
              "      <td>2.92078</td>\n",
              "    </tr>\n",
              "    <tr>\n",
              "      <th>17</th>\n",
              "      <td>1.73961</td>\n",
              "      <td>1.79776</td>\n",
              "      <td>1.86187</td>\n",
              "      <td>1.93353</td>\n",
              "      <td>2.015</td>\n",
              "      <td>2.10982</td>\n",
              "      <td>2.22385</td>\n",
              "      <td>2.36805</td>\n",
              "      <td>2.56693</td>\n",
              "      <td>2.89823</td>\n",
              "    </tr>\n",
              "    <tr>\n",
              "      <th>18</th>\n",
              "      <td>1.73406</td>\n",
              "      <td>1.79175</td>\n",
              "      <td>1.85534</td>\n",
              "      <td>1.92636</td>\n",
              "      <td>2.00707</td>\n",
              "      <td>2.10092</td>\n",
              "      <td>2.2137</td>\n",
              "      <td>2.35618</td>\n",
              "      <td>2.55238</td>\n",
              "      <td>2.87844</td>\n",
              "    </tr>\n",
              "    <tr>\n",
              "      <th>19</th>\n",
              "      <td>1.72913</td>\n",
              "      <td>1.78642</td>\n",
              "      <td>1.84953</td>\n",
              "      <td>1.91999</td>\n",
              "      <td>2.00002</td>\n",
              "      <td>2.09302</td>\n",
              "      <td>2.2047</td>\n",
              "      <td>2.34565</td>\n",
              "      <td>2.53948</td>\n",
              "      <td>2.86093</td>\n",
              "    </tr>\n",
              "    <tr>\n",
              "      <th>20</th>\n",
              "      <td>1.72472</td>\n",
              "      <td>1.78164</td>\n",
              "      <td>1.84433</td>\n",
              "      <td>1.91429</td>\n",
              "      <td>1.99371</td>\n",
              "      <td>2.08596</td>\n",
              "      <td>2.19666</td>\n",
              "      <td>2.33624</td>\n",
              "      <td>2.52798</td>\n",
              "      <td>2.84534</td>\n",
              "    </tr>\n",
              "    <tr>\n",
              "      <th>21</th>\n",
              "      <td>1.72074</td>\n",
              "      <td>1.77734</td>\n",
              "      <td>1.83965</td>\n",
              "      <td>1.90916</td>\n",
              "      <td>1.98804</td>\n",
              "      <td>2.07961</td>\n",
              "      <td>2.18943</td>\n",
              "      <td>2.32779</td>\n",
              "      <td>2.51765</td>\n",
              "      <td>2.83136</td>\n",
              "    </tr>\n",
              "    <tr>\n",
              "      <th>22</th>\n",
              "      <td>1.71714</td>\n",
              "      <td>1.77345</td>\n",
              "      <td>1.83542</td>\n",
              "      <td>1.90452</td>\n",
              "      <td>1.98291</td>\n",
              "      <td>2.07387</td>\n",
              "      <td>2.18289</td>\n",
              "      <td>2.32016</td>\n",
              "      <td>2.50832</td>\n",
              "      <td>2.81876</td>\n",
              "    </tr>\n",
              "    <tr>\n",
              "      <th>23</th>\n",
              "      <td>1.71387</td>\n",
              "      <td>1.76991</td>\n",
              "      <td>1.83157</td>\n",
              "      <td>1.90031</td>\n",
              "      <td>1.97825</td>\n",
              "      <td>2.06866</td>\n",
              "      <td>2.17696</td>\n",
              "      <td>2.31323</td>\n",
              "      <td>2.49987</td>\n",
              "      <td>2.80734</td>\n",
              "    </tr>\n",
              "    <tr>\n",
              "      <th>24</th>\n",
              "      <td>1.71088</td>\n",
              "      <td>1.76667</td>\n",
              "      <td>1.82805</td>\n",
              "      <td>1.89646</td>\n",
              "      <td>1.97399</td>\n",
              "      <td>2.0639</td>\n",
              "      <td>2.17154</td>\n",
              "      <td>2.30691</td>\n",
              "      <td>2.49216</td>\n",
              "      <td>2.79694</td>\n",
              "    </tr>\n",
              "    <tr>\n",
              "      <th>25</th>\n",
              "      <td>1.70814</td>\n",
              "      <td>1.76371</td>\n",
              "      <td>1.82483</td>\n",
              "      <td>1.89293</td>\n",
              "      <td>1.9701</td>\n",
              "      <td>2.05954</td>\n",
              "      <td>2.16659</td>\n",
              "      <td>2.30113</td>\n",
              "      <td>2.48511</td>\n",
              "      <td>2.78744</td>\n",
              "    </tr>\n",
              "    <tr>\n",
              "      <th>26</th>\n",
              "      <td>1.70562</td>\n",
              "      <td>1.76098</td>\n",
              "      <td>1.82186</td>\n",
              "      <td>1.88968</td>\n",
              "      <td>1.96651</td>\n",
              "      <td>2.05553</td>\n",
              "      <td>2.16203</td>\n",
              "      <td>2.29581</td>\n",
              "      <td>2.47863</td>\n",
              "      <td>2.77871</td>\n",
              "    </tr>\n",
              "    <tr>\n",
              "      <th>27</th>\n",
              "      <td>1.70329</td>\n",
              "      <td>1.75847</td>\n",
              "      <td>1.81913</td>\n",
              "      <td>1.88669</td>\n",
              "      <td>1.9632</td>\n",
              "      <td>2.05183</td>\n",
              "      <td>2.15782</td>\n",
              "      <td>2.29091</td>\n",
              "      <td>2.47266</td>\n",
              "      <td>2.77068</td>\n",
              "    </tr>\n",
              "    <tr>\n",
              "      <th>28</th>\n",
              "      <td>1.70113</td>\n",
              "      <td>1.75613</td>\n",
              "      <td>1.81659</td>\n",
              "      <td>1.88391</td>\n",
              "      <td>1.96014</td>\n",
              "      <td>2.04841</td>\n",
              "      <td>2.15393</td>\n",
              "      <td>2.28638</td>\n",
              "      <td>2.46714</td>\n",
              "      <td>2.76326</td>\n",
              "    </tr>\n",
              "    <tr>\n",
              "      <th>29</th>\n",
              "      <td>1.69913</td>\n",
              "      <td>1.75397</td>\n",
              "      <td>1.81424</td>\n",
              "      <td>1.88134</td>\n",
              "      <td>1.95729</td>\n",
              "      <td>2.04523</td>\n",
              "      <td>2.15033</td>\n",
              "      <td>2.28217</td>\n",
              "      <td>2.46202</td>\n",
              "      <td>2.75639</td>\n",
              "    </tr>\n",
              "    <tr>\n",
              "      <th>30</th>\n",
              "      <td>1.69726</td>\n",
              "      <td>1.75195</td>\n",
              "      <td>1.81205</td>\n",
              "      <td>1.87894</td>\n",
              "      <td>1.95465</td>\n",
              "      <td>2.04227</td>\n",
              "      <td>2.14697</td>\n",
              "      <td>2.27826</td>\n",
              "      <td>2.45726</td>\n",
              "      <td>2.75</td>\n",
              "    </tr>\n",
              "  </tbody>\n",
              "</table>\n",
              "</div>"
            ],
            "text/plain": [
              "Bicaudal                         0.100    0.090  ...    0.020    0.010\n",
              "Unicaudal                        0.050    0.045  ...    0.010    0.005\n",
              "Graus de Liberdade (n - 1) 1   6.31375  7.02637  ...  31.8205  63.6567\n",
              "                           2   2.91999  3.10398  ...  6.96456  9.92484\n",
              "                           3   2.35336  2.47081  ...   4.5407  5.84091\n",
              "                           4   2.13185   2.2261  ...  3.74695  4.60409\n",
              "                           5   2.01505  2.09784  ...  3.36493  4.03214\n",
              "                           6   1.94318   2.0192  ...  3.14267  3.70743\n",
              "                           7   1.89458  1.96615  ...  2.99795  3.49948\n",
              "                           8   1.85955  1.92799  ...  2.89646  3.35539\n",
              "                           9   1.83311  1.89922  ...  2.82144  3.24984\n",
              "                           10  1.81246  1.87677  ...  2.76377  3.16927\n",
              "                           11  1.79588  1.85877  ...  2.71808  3.10581\n",
              "                           12  1.78229  1.84402  ...    2.681  3.05454\n",
              "                           13  1.77093   1.8317  ...  2.65031  3.01228\n",
              "                           14  1.76131  1.82127  ...  2.62449  2.97684\n",
              "                           15  1.75305  1.81232  ...  2.60248  2.94671\n",
              "                           16  1.74588  1.80455  ...  2.58349  2.92078\n",
              "                           17  1.73961  1.79776  ...  2.56693  2.89823\n",
              "                           18  1.73406  1.79175  ...  2.55238  2.87844\n",
              "                           19  1.72913  1.78642  ...  2.53948  2.86093\n",
              "                           20  1.72472  1.78164  ...  2.52798  2.84534\n",
              "                           21  1.72074  1.77734  ...  2.51765  2.83136\n",
              "                           22  1.71714  1.77345  ...  2.50832  2.81876\n",
              "                           23  1.71387  1.76991  ...  2.49987  2.80734\n",
              "                           24  1.71088  1.76667  ...  2.49216  2.79694\n",
              "                           25  1.70814  1.76371  ...  2.48511  2.78744\n",
              "                           26  1.70562  1.76098  ...  2.47863  2.77871\n",
              "                           27  1.70329  1.75847  ...  2.47266  2.77068\n",
              "                           28  1.70113  1.75613  ...  2.46714  2.76326\n",
              "                           29  1.69913  1.75397  ...  2.46202  2.75639\n",
              "                           30  1.69726  1.75195  ...  2.45726     2.75\n",
              "\n",
              "[30 rows x 10 columns]"
            ]
          },
          "metadata": {
            "tags": []
          },
          "execution_count": 118
        }
      ]
    },
    {
      "cell_type": "markdown",
      "metadata": {
        "id": "6jAsfxVxurAQ"
      },
      "source": [
        "<img src='https://caelum-online-public.s3.amazonaws.com/1229-estatistica-parte3/01/img004.png' width='250px'>\r\n",
        "\r\n",
        "As células da tabela acima são valores de $t$ para uma área ou probabilidade na cauda superior da distribuição $t$."
      ]
    },
    {
      "cell_type": "markdown",
      "metadata": {
        "id": "Y2bmpafFus9k"
      },
      "source": [
        "Os **testes unicaudais** verificam as variáveis em relação a um piso ou a um teto e avaliam os valores máximos ou mínimos esperados para os parâmetros em estudo e a chance de as estatísticas amostrais serem inferiores ou superiores a dado limite."
      ]
    },
    {
      "cell_type": "markdown",
      "metadata": {
        "id": "HHhP3z2huwI5"
      },
      "source": [
        "<img src='https://caelum-online-public.s3.amazonaws.com/1229-estatistica-parte3/01/img008.png' width='700px'>"
      ]
    },
    {
      "cell_type": "markdown",
      "metadata": {
        "id": "ebUM65pmuyqo"
      },
      "source": [
        "### Dados do problema"
      ]
    },
    {
      "cell_type": "code",
      "metadata": {
        "id": "5TJyKyqhuzfk"
      },
      "source": [
        "amostra = [37.27, 36.42, 34.84, 34.60, 37.49, \r\n",
        "           36.53, 35.49, 36.90, 34.52, 37.30, \r\n",
        "           34.99, 36.55, 36.29, 36.06, 37.42, \r\n",
        "           34.47, 36.70, 35.86, 36.80, 36.92, \r\n",
        "           37.04, 36.39, 37.32, 36.64, 35.45]"
      ],
      "execution_count": null,
      "outputs": []
    },
    {
      "cell_type": "code",
      "metadata": {
        "colab": {
          "base_uri": "https://localhost:8080/",
          "height": 824
        },
        "id": "I8CJlRgOu0Hj",
        "outputId": "1db87944-fda7-4449-c919-3dc95ec568a6"
      },
      "source": [
        "amostra = pd.DataFrame(amostra, columns=['Amostra'])\r\n",
        "amostra"
      ],
      "execution_count": null,
      "outputs": [
        {
          "output_type": "execute_result",
          "data": {
            "text/html": [
              "<div>\n",
              "<style scoped>\n",
              "    .dataframe tbody tr th:only-of-type {\n",
              "        vertical-align: middle;\n",
              "    }\n",
              "\n",
              "    .dataframe tbody tr th {\n",
              "        vertical-align: top;\n",
              "    }\n",
              "\n",
              "    .dataframe thead th {\n",
              "        text-align: right;\n",
              "    }\n",
              "</style>\n",
              "<table border=\"1\" class=\"dataframe\">\n",
              "  <thead>\n",
              "    <tr style=\"text-align: right;\">\n",
              "      <th></th>\n",
              "      <th>Amostra</th>\n",
              "    </tr>\n",
              "  </thead>\n",
              "  <tbody>\n",
              "    <tr>\n",
              "      <th>0</th>\n",
              "      <td>37.27</td>\n",
              "    </tr>\n",
              "    <tr>\n",
              "      <th>1</th>\n",
              "      <td>36.42</td>\n",
              "    </tr>\n",
              "    <tr>\n",
              "      <th>2</th>\n",
              "      <td>34.84</td>\n",
              "    </tr>\n",
              "    <tr>\n",
              "      <th>3</th>\n",
              "      <td>34.60</td>\n",
              "    </tr>\n",
              "    <tr>\n",
              "      <th>4</th>\n",
              "      <td>37.49</td>\n",
              "    </tr>\n",
              "    <tr>\n",
              "      <th>5</th>\n",
              "      <td>36.53</td>\n",
              "    </tr>\n",
              "    <tr>\n",
              "      <th>6</th>\n",
              "      <td>35.49</td>\n",
              "    </tr>\n",
              "    <tr>\n",
              "      <th>7</th>\n",
              "      <td>36.90</td>\n",
              "    </tr>\n",
              "    <tr>\n",
              "      <th>8</th>\n",
              "      <td>34.52</td>\n",
              "    </tr>\n",
              "    <tr>\n",
              "      <th>9</th>\n",
              "      <td>37.30</td>\n",
              "    </tr>\n",
              "    <tr>\n",
              "      <th>10</th>\n",
              "      <td>34.99</td>\n",
              "    </tr>\n",
              "    <tr>\n",
              "      <th>11</th>\n",
              "      <td>36.55</td>\n",
              "    </tr>\n",
              "    <tr>\n",
              "      <th>12</th>\n",
              "      <td>36.29</td>\n",
              "    </tr>\n",
              "    <tr>\n",
              "      <th>13</th>\n",
              "      <td>36.06</td>\n",
              "    </tr>\n",
              "    <tr>\n",
              "      <th>14</th>\n",
              "      <td>37.42</td>\n",
              "    </tr>\n",
              "    <tr>\n",
              "      <th>15</th>\n",
              "      <td>34.47</td>\n",
              "    </tr>\n",
              "    <tr>\n",
              "      <th>16</th>\n",
              "      <td>36.70</td>\n",
              "    </tr>\n",
              "    <tr>\n",
              "      <th>17</th>\n",
              "      <td>35.86</td>\n",
              "    </tr>\n",
              "    <tr>\n",
              "      <th>18</th>\n",
              "      <td>36.80</td>\n",
              "    </tr>\n",
              "    <tr>\n",
              "      <th>19</th>\n",
              "      <td>36.92</td>\n",
              "    </tr>\n",
              "    <tr>\n",
              "      <th>20</th>\n",
              "      <td>37.04</td>\n",
              "    </tr>\n",
              "    <tr>\n",
              "      <th>21</th>\n",
              "      <td>36.39</td>\n",
              "    </tr>\n",
              "    <tr>\n",
              "      <th>22</th>\n",
              "      <td>37.32</td>\n",
              "    </tr>\n",
              "    <tr>\n",
              "      <th>23</th>\n",
              "      <td>36.64</td>\n",
              "    </tr>\n",
              "    <tr>\n",
              "      <th>24</th>\n",
              "      <td>35.45</td>\n",
              "    </tr>\n",
              "  </tbody>\n",
              "</table>\n",
              "</div>"
            ],
            "text/plain": [
              "    Amostra\n",
              "0     37.27\n",
              "1     36.42\n",
              "2     34.84\n",
              "3     34.60\n",
              "4     37.49\n",
              "5     36.53\n",
              "6     35.49\n",
              "7     36.90\n",
              "8     34.52\n",
              "9     37.30\n",
              "10    34.99\n",
              "11    36.55\n",
              "12    36.29\n",
              "13    36.06\n",
              "14    37.42\n",
              "15    34.47\n",
              "16    36.70\n",
              "17    35.86\n",
              "18    36.80\n",
              "19    36.92\n",
              "20    37.04\n",
              "21    36.39\n",
              "22    37.32\n",
              "23    36.64\n",
              "24    35.45"
            ]
          },
          "metadata": {
            "tags": []
          },
          "execution_count": 120
        }
      ]
    },
    {
      "cell_type": "code",
      "metadata": {
        "id": "M0k9xGbou06X"
      },
      "source": [
        "media_amostra = amostra.mean()"
      ],
      "execution_count": null,
      "outputs": []
    },
    {
      "cell_type": "code",
      "metadata": {
        "id": "a1wiY1sxu1fY"
      },
      "source": [
        "desvio_padrao_amostra = amostra.std()"
      ],
      "execution_count": null,
      "outputs": []
    },
    {
      "cell_type": "code",
      "metadata": {
        "id": "4TkddXFRu2IY"
      },
      "source": [
        "media = 37\r\n",
        "significancia = 0.05\r\n",
        "confianca = 1 - significancia\r\n",
        "n = 25\r\n",
        "graus_de_liberdade = n - 1"
      ],
      "execution_count": null,
      "outputs": []
    },
    {
      "cell_type": "markdown",
      "metadata": {
        "id": "am-KNcgdu3A0"
      },
      "source": [
        "#### <font color='red'>Lembre-se, a hipótese nula sempre contém a alegação de igualdade</font>\r\n",
        "\r\n",
        "### $H_0: \\mu \\leq 37$\r\n",
        "\r\n",
        "### $H_1: \\mu > 37$"
      ]
    },
    {
      "cell_type": "markdown",
      "metadata": {
        "id": "TnitIoBzu4As"
      },
      "source": [
        "### **Passo 2** - escolha da distribuição amostral adequada\r\n",
        "<img src='https://caelum-online-public.s3.amazonaws.com/1229-estatistica-parte3/01/img003.png' width=70%>"
      ]
    },
    {
      "cell_type": "markdown",
      "metadata": {
        "id": "ICJAKFmWu5pu"
      },
      "source": [
        "### **Passo 3** - fixação da significância do teste ($\\alpha$)"
      ]
    },
    {
      "cell_type": "code",
      "metadata": {
        "id": "Nki6B2f_u6j0"
      },
      "source": [
        "from scipy.stats import t as t_student"
      ],
      "execution_count": null,
      "outputs": []
    },
    {
      "cell_type": "code",
      "metadata": {
        "colab": {
          "base_uri": "https://localhost:8080/",
          "height": 173
        },
        "id": "XmhnDb50u7ET",
        "outputId": "caf59ee2-30bf-4971-e959-c5037a301460"
      },
      "source": [
        "tabela_t_student[22:25]"
      ],
      "execution_count": null,
      "outputs": [
        {
          "output_type": "execute_result",
          "data": {
            "text/html": [
              "<div>\n",
              "<style scoped>\n",
              "    .dataframe tbody tr th:only-of-type {\n",
              "        vertical-align: middle;\n",
              "    }\n",
              "\n",
              "    .dataframe tbody tr th {\n",
              "        vertical-align: top;\n",
              "    }\n",
              "\n",
              "    .dataframe thead tr th {\n",
              "        text-align: left;\n",
              "    }\n",
              "</style>\n",
              "<table border=\"1\" class=\"dataframe\">\n",
              "  <thead>\n",
              "    <tr>\n",
              "      <th></th>\n",
              "      <th>Bicaudal</th>\n",
              "      <th>0.100</th>\n",
              "      <th>0.090</th>\n",
              "      <th>0.080</th>\n",
              "      <th>0.070</th>\n",
              "      <th>0.060</th>\n",
              "      <th>0.050</th>\n",
              "      <th>0.040</th>\n",
              "      <th>0.030</th>\n",
              "      <th>0.020</th>\n",
              "      <th>0.010</th>\n",
              "    </tr>\n",
              "    <tr>\n",
              "      <th></th>\n",
              "      <th>Unicaudal</th>\n",
              "      <th>0.050</th>\n",
              "      <th>0.045</th>\n",
              "      <th>0.040</th>\n",
              "      <th>0.035</th>\n",
              "      <th>0.030</th>\n",
              "      <th>0.025</th>\n",
              "      <th>0.020</th>\n",
              "      <th>0.015</th>\n",
              "      <th>0.010</th>\n",
              "      <th>0.005</th>\n",
              "    </tr>\n",
              "  </thead>\n",
              "  <tbody>\n",
              "    <tr>\n",
              "      <th rowspan=\"3\" valign=\"top\">Graus de Liberdade (n - 1)</th>\n",
              "      <th>23</th>\n",
              "      <td>1.71387</td>\n",
              "      <td>1.76991</td>\n",
              "      <td>1.83157</td>\n",
              "      <td>1.90031</td>\n",
              "      <td>1.97825</td>\n",
              "      <td>2.06866</td>\n",
              "      <td>2.17696</td>\n",
              "      <td>2.31323</td>\n",
              "      <td>2.49987</td>\n",
              "      <td>2.80734</td>\n",
              "    </tr>\n",
              "    <tr>\n",
              "      <th>24</th>\n",
              "      <td>1.71088</td>\n",
              "      <td>1.76667</td>\n",
              "      <td>1.82805</td>\n",
              "      <td>1.89646</td>\n",
              "      <td>1.97399</td>\n",
              "      <td>2.0639</td>\n",
              "      <td>2.17154</td>\n",
              "      <td>2.30691</td>\n",
              "      <td>2.49216</td>\n",
              "      <td>2.79694</td>\n",
              "    </tr>\n",
              "    <tr>\n",
              "      <th>25</th>\n",
              "      <td>1.70814</td>\n",
              "      <td>1.76371</td>\n",
              "      <td>1.82483</td>\n",
              "      <td>1.89293</td>\n",
              "      <td>1.9701</td>\n",
              "      <td>2.05954</td>\n",
              "      <td>2.16659</td>\n",
              "      <td>2.30113</td>\n",
              "      <td>2.48511</td>\n",
              "      <td>2.78744</td>\n",
              "    </tr>\n",
              "  </tbody>\n",
              "</table>\n",
              "</div>"
            ],
            "text/plain": [
              "Bicaudal                         0.100    0.090  ...    0.020    0.010\n",
              "Unicaudal                        0.050    0.045  ...    0.010    0.005\n",
              "Graus de Liberdade (n - 1) 23  1.71387  1.76991  ...  2.49987  2.80734\n",
              "                           24  1.71088  1.76667  ...  2.49216  2.79694\n",
              "                           25  1.70814  1.76371  ...  2.48511  2.78744\n",
              "\n",
              "[3 rows x 10 columns]"
            ]
          },
          "metadata": {
            "tags": []
          },
          "execution_count": 125
        }
      ]
    },
    {
      "cell_type": "markdown",
      "metadata": {
        "id": "i_Qnij0-u8wI"
      },
      "source": [
        "### Obtendo $t_{\\alpha}$"
      ]
    },
    {
      "cell_type": "code",
      "metadata": {
        "colab": {
          "base_uri": "https://localhost:8080/"
        },
        "id": "h2AQFbBMu9V5",
        "outputId": "0157b69e-781a-4a72-e3dc-d2afe955a1f9"
      },
      "source": [
        "t_alpha = t_student.ppf(confianca, graus_de_liberdade)\r\n",
        "t_alpha"
      ],
      "execution_count": null,
      "outputs": [
        {
          "output_type": "execute_result",
          "data": {
            "text/plain": [
              "1.7108820799094275"
            ]
          },
          "metadata": {
            "tags": []
          },
          "execution_count": 126
        }
      ]
    },
    {
      "cell_type": "markdown",
      "metadata": {
        "id": "FvGuO3DRu-zR"
      },
      "source": [
        "![Região de Aceitação](https://caelum-online-public.s3.amazonaws.com/1229-estatistica-parte3/01/img009.png)"
      ]
    },
    {
      "cell_type": "markdown",
      "metadata": {
        "id": "kDIO2FDXvASp"
      },
      "source": [
        "### **Passo 4** - cálculo da estatística-teste e verificação desse valor com as áreas de aceitação e rejeição do teste\r\n",
        "\r\n",
        "# $$t = \\frac{\\bar{x} - \\mu_0}{\\frac{s}{\\sqrt{n}}}$$"
      ]
    },
    {
      "cell_type": "code",
      "metadata": {
        "colab": {
          "base_uri": "https://localhost:8080/"
        },
        "id": "_3mItNREvBE6",
        "outputId": "a285e494-0c20-473c-cab5-a298f99814da"
      },
      "source": [
        "t = (media_amostra - media) / (desvio_padrao_amostra / np.sqrt(n))\r\n",
        "t"
      ],
      "execution_count": null,
      "outputs": [
        {
          "output_type": "execute_result",
          "data": {
            "text/plain": [
              "Amostra   -3.876893\n",
              "dtype: float64"
            ]
          },
          "metadata": {
            "tags": []
          },
          "execution_count": 127
        }
      ]
    },
    {
      "cell_type": "markdown",
      "metadata": {
        "id": "9SIAEu5RvB7L"
      },
      "source": [
        "![Estatística-Teste](https://caelum-online-public.s3.amazonaws.com/1229-estatistica-parte3/01/img010.png)"
      ]
    },
    {
      "cell_type": "markdown",
      "metadata": {
        "id": "gFEqVE96vDiM"
      },
      "source": [
        "### **Passo 5** - Aceitação ou rejeição da hipótese nula"
      ]
    },
    {
      "cell_type": "markdown",
      "metadata": {
        "id": "7gTiSxaNvEb4"
      },
      "source": [
        "<img src='https://caelum-online-public.s3.amazonaws.com/1229-estatistica-parte3/01/img013.png' width=90%>"
      ]
    },
    {
      "cell_type": "markdown",
      "metadata": {
        "id": "IOXuz9dCvGrS"
      },
      "source": [
        "### <font color='red'>Critério do valor crítico</font>\r\n",
        "\r\n",
        "> ### Teste Unicaudal Superior\r\n",
        "> ### Rejeitar $H_0$ se $t \\geq t_{\\alpha}$"
      ]
    },
    {
      "cell_type": "code",
      "metadata": {
        "colab": {
          "base_uri": "https://localhost:8080/"
        },
        "id": "j8obriTRvHJ9",
        "outputId": "48363df3-6ff1-4eff-cb39-6210122ffea4"
      },
      "source": [
        "t >= t_alpha"
      ],
      "execution_count": null,
      "outputs": [
        {
          "output_type": "execute_result",
          "data": {
            "text/plain": [
              "Amostra    False\n",
              "dtype: bool"
            ]
          },
          "metadata": {
            "tags": []
          },
          "execution_count": 128
        }
      ]
    },
    {
      "cell_type": "markdown",
      "metadata": {
        "id": "kkqG4ddRvH8N"
      },
      "source": [
        "### <font color='green'>Conclusão: Com um nível de confiança de 95% não podemos rejeitar $H_0$, ou seja, a alegação do fabricante é verdadeira.</font>"
      ]
    },
    {
      "cell_type": "markdown",
      "metadata": {
        "id": "lClaeE0HvJcj"
      },
      "source": [
        "### <font color='red'>Critério do valor $p$</font>\r\n",
        "\r\n",
        "> ### Teste Unicaudal Superior\r\n",
        "> ### Rejeitar $H_0$ se o valor $p\\leq\\alpha$"
      ]
    },
    {
      "cell_type": "code",
      "metadata": {
        "colab": {
          "base_uri": "https://localhost:8080/"
        },
        "id": "y9kxasLmvKLM",
        "outputId": "36db8eb2-cdd9-42d7-b64a-7de4cbe119c9"
      },
      "source": [
        "t"
      ],
      "execution_count": null,
      "outputs": [
        {
          "output_type": "execute_result",
          "data": {
            "text/plain": [
              "Amostra   -3.876893\n",
              "dtype: float64"
            ]
          },
          "metadata": {
            "tags": []
          },
          "execution_count": 129
        }
      ]
    },
    {
      "cell_type": "code",
      "metadata": {
        "colab": {
          "base_uri": "https://localhost:8080/"
        },
        "id": "eyiuIosKvK1r",
        "outputId": "773d8ae3-a74d-40af-c9a3-c3c446209f14"
      },
      "source": [
        "p_valor = t_student.sf(t, df = 24)\r\n",
        "p_valor"
      ],
      "execution_count": null,
      "outputs": [
        {
          "output_type": "execute_result",
          "data": {
            "text/plain": [
              "array([0.99964062])"
            ]
          },
          "metadata": {
            "tags": []
          },
          "execution_count": 130
        }
      ]
    },
    {
      "cell_type": "code",
      "metadata": {
        "colab": {
          "base_uri": "https://localhost:8080/"
        },
        "id": "yPo80ZLivLlW",
        "outputId": "547b7630-9fab-43ea-cc47-4b3609f2c3b0"
      },
      "source": [
        "p_valor <= significancia"
      ],
      "execution_count": null,
      "outputs": [
        {
          "output_type": "execute_result",
          "data": {
            "text/plain": [
              "array([False])"
            ]
          },
          "metadata": {
            "tags": []
          },
          "execution_count": 131
        }
      ]
    },
    {
      "cell_type": "code",
      "metadata": {
        "id": "4UtRyH0VvMHs"
      },
      "source": [
        "from statsmodels.stats.weightstats import DescrStatsW"
      ],
      "execution_count": null,
      "outputs": []
    },
    {
      "cell_type": "code",
      "metadata": {
        "id": "TVH_TADyvMzU"
      },
      "source": [
        "test = DescrStatsW(amostra)"
      ],
      "execution_count": null,
      "outputs": []
    },
    {
      "cell_type": "code",
      "metadata": {
        "colab": {
          "base_uri": "https://localhost:8080/"
        },
        "id": "B_sWCc6xvNm3",
        "outputId": "2b0724c5-1d11-46e9-97b1-1edbab07f05b"
      },
      "source": [
        "t, p_valor, df = test.ttest_mean(value = media, alternative = 'larger')\r\n",
        "print(t[0])\r\n",
        "print(p_valor[0])\r\n",
        "print(df)"
      ],
      "execution_count": null,
      "outputs": [
        {
          "output_type": "stream",
          "text": [
            "-3.8768931199520447\n",
            "0.9996406170303819\n",
            "24.0\n"
          ],
          "name": "stdout"
        }
      ]
    },
    {
      "cell_type": "code",
      "metadata": {
        "colab": {
          "base_uri": "https://localhost:8080/"
        },
        "id": "6t7lDt4DvObY",
        "outputId": "579cface-2051-47e7-faa8-c428fac733ac"
      },
      "source": [
        "p_valor[0] <= significancia"
      ],
      "execution_count": null,
      "outputs": [
        {
          "output_type": "execute_result",
          "data": {
            "text/plain": [
              "False"
            ]
          },
          "metadata": {
            "tags": []
          },
          "execution_count": 135
        }
      ]
    },
    {
      "cell_type": "markdown",
      "metadata": {
        "id": "gSMHNweR0iqS"
      },
      "source": [
        "# Covariância e Correlação"
      ]
    },
    {
      "cell_type": "code",
      "metadata": {
        "id": "ma2sjYCu0oex"
      },
      "source": [
        "import pandas as pd"
      ],
      "execution_count": null,
      "outputs": []
    },
    {
      "cell_type": "code",
      "metadata": {
        "id": "iPxnxPsM0pOS"
      },
      "source": [
        "url = 'https://raw.githubusercontent.com/allanspadini/linear_estatistica/main/media_salarial.csv'"
      ],
      "execution_count": null,
      "outputs": []
    },
    {
      "cell_type": "code",
      "metadata": {
        "id": "g5r0A4sr0pzb"
      },
      "source": [
        "salarial = pd.read_csv(url,sep='\\t')"
      ],
      "execution_count": null,
      "outputs": []
    },
    {
      "cell_type": "code",
      "metadata": {
        "colab": {
          "base_uri": "https://localhost:8080/",
          "height": 204
        },
        "id": "WCbke2EZ0qjG",
        "outputId": "601e5fde-38db-4c0c-f3a6-960cc5d5024b"
      },
      "source": [
        "salarial.head()"
      ],
      "execution_count": null,
      "outputs": [
        {
          "output_type": "execute_result",
          "data": {
            "text/html": [
              "<div>\n",
              "<style scoped>\n",
              "    .dataframe tbody tr th:only-of-type {\n",
              "        vertical-align: middle;\n",
              "    }\n",
              "\n",
              "    .dataframe tbody tr th {\n",
              "        vertical-align: top;\n",
              "    }\n",
              "\n",
              "    .dataframe thead th {\n",
              "        text-align: right;\n",
              "    }\n",
              "</style>\n",
              "<table border=\"1\" class=\"dataframe\">\n",
              "  <thead>\n",
              "    <tr style=\"text-align: right;\">\n",
              "      <th></th>\n",
              "      <th>Anos</th>\n",
              "      <th>Salario</th>\n",
              "    </tr>\n",
              "  </thead>\n",
              "  <tbody>\n",
              "    <tr>\n",
              "      <th>0</th>\n",
              "      <td>9.096218</td>\n",
              "      <td>78311.160754</td>\n",
              "    </tr>\n",
              "    <tr>\n",
              "      <th>1</th>\n",
              "      <td>14.637429</td>\n",
              "      <td>103897.664526</td>\n",
              "    </tr>\n",
              "    <tr>\n",
              "      <th>2</th>\n",
              "      <td>12.255808</td>\n",
              "      <td>97836.261015</td>\n",
              "    </tr>\n",
              "    <tr>\n",
              "      <th>3</th>\n",
              "      <td>7.215160</td>\n",
              "      <td>80550.256380</td>\n",
              "    </tr>\n",
              "    <tr>\n",
              "      <th>4</th>\n",
              "      <td>6.905628</td>\n",
              "      <td>68555.820963</td>\n",
              "    </tr>\n",
              "  </tbody>\n",
              "</table>\n",
              "</div>"
            ],
            "text/plain": [
              "        Anos        Salario\n",
              "0   9.096218   78311.160754\n",
              "1  14.637429  103897.664526\n",
              "2  12.255808   97836.261015\n",
              "3   7.215160   80550.256380\n",
              "4   6.905628   68555.820963"
            ]
          },
          "metadata": {
            "tags": []
          },
          "execution_count": 139
        }
      ]
    },
    {
      "cell_type": "code",
      "metadata": {
        "id": "y1JeEfnQ0rcw"
      },
      "source": [
        "import seaborn as sns"
      ],
      "execution_count": null,
      "outputs": []
    },
    {
      "cell_type": "code",
      "metadata": {
        "id": "yRNmHjIO0sCq"
      },
      "source": [
        "import matplotlib as mpl\r\n",
        "mpl.rcParams['font.size'] = 16\r\n",
        "mpl.rcParams['figure.figsize'] = [10,6]"
      ],
      "execution_count": null,
      "outputs": []
    },
    {
      "cell_type": "code",
      "metadata": {
        "colab": {
          "base_uri": "https://localhost:8080/",
          "height": 415
        },
        "id": "CRG3R3G40tOi",
        "outputId": "7596ebc2-562c-4176-f684-22492b05b88e"
      },
      "source": [
        "sns.scatterplot(x='Anos',y='Salario',data=salarial)"
      ],
      "execution_count": null,
      "outputs": [
        {
          "output_type": "execute_result",
          "data": {
            "text/plain": [
              "<matplotlib.axes._subplots.AxesSubplot at 0x7fdb30732400>"
            ]
          },
          "metadata": {
            "tags": []
          },
          "execution_count": 142
        },
        {
          "output_type": "display_data",
          "data": {
            "image/png": "[encoded data removed]",
            "text/plain": [
              "<Figure size 720x432 with 1 Axes>"
            ]
          },
          "metadata": {
            "tags": [],
            "needs_background": "light"
          }
        }
      ]
    },
    {
      "cell_type": "markdown",
      "metadata": {
        "id": "9PvurIZP0u3w"
      },
      "source": [
        "## <font color=blue> Covariância </font>\r\n",
        "\r\n",
        "A covariância é a medida do grau de interdependência numérica entre duas variáveis. "
      ]
    },
    {
      "cell_type": "markdown",
      "metadata": {
        "id": "fsZlUAfl0wLH"
      },
      "source": [
        "### Covariância populacional\r\n",
        "\r\n",
        "\\begin{equation}\r\n",
        "\\sigma_{xy} = \\frac{1}{n} \\sum_{i=1}^n (X_i - \\mu_x)(Y_i - \\mu_y)\r\n",
        "\\end{equation}\r\n",
        "\r\n",
        "### Covariância amostral\r\n",
        "\\begin{equation}\r\n",
        "S_{xy} = \\frac{1}{n-1} \\sum_{i=1}^{n} (X_i - \\bar{X})(Y_i - \\bar{Y})\r\n",
        "\\end{equation}"
      ]
    },
    {
      "cell_type": "code",
      "metadata": {
        "id": "yoUC3Zy50yFG"
      },
      "source": [
        "amostra = salarial.sample(n = 20, random_state=202)"
      ],
      "execution_count": null,
      "outputs": []
    },
    {
      "cell_type": "code",
      "metadata": {
        "id": "G9UUtHkP0yvJ"
      },
      "source": [
        "amostra.cov()"
      ],
      "execution_count": null,
      "outputs": []
    },
    {
      "cell_type": "markdown",
      "metadata": {
        "id": "2HMjcKiw0z5L"
      },
      "source": [
        "## <font color=blue> Correlação </font>"
      ]
    },
    {
      "cell_type": "markdown",
      "metadata": {
        "id": "yUfY6ey601Rz"
      },
      "source": [
        "### Coeficiente de correlação de Pearson - dados populacionais\r\n",
        "\r\n",
        "# $$\\rho_{xy} = \\frac{\\sigma_{xy}}{\\sigma_{x}\\sigma_{y}}$$\r\n",
        "\r\n",
        "### Coeficiente de correlação de Pearson - dados amostrais\r\n",
        "\r\n",
        "# $$r_{xy} = \\frac{s_{xy}}{s_{x}s_{y}}$$\r\n",
        "\r\n",
        "Onde\r\n",
        "\r\n",
        "$\\sigma_{xy}$ = covariância populacional entre x e y\r\n",
        "\r\n",
        "$s_{xy}$ = covariância amostral entre x e y\r\n",
        "\r\n",
        "$\\sigma_{x}$ e $\\sigma_{y}$ = desvios padrão populacionais de x e y, respectivamente\r\n",
        "\r\n",
        "$s_{x}$ e $s_{y}$ = desvios padrão amostrais de x e y, respectivamente"
      ]
    },
    {
      "cell_type": "code",
      "metadata": {
        "id": "oCAxki_302LC"
      },
      "source": [
        "amostra.corr()"
      ],
      "execution_count": null,
      "outputs": []
    },
    {
      "cell_type": "markdown",
      "metadata": {
        "id": "EluvVuHV03aE"
      },
      "source": [
        "https://plotlygraphs.medium.com/spurious-correlations-56752fcffb69"
      ]
    },
    {
      "cell_type": "code",
      "metadata": {
        "id": "hCLMQDtUvcJ7"
      },
      "source": [
        ""
      ],
      "execution_count": null,
      "outputs": []
    },
    {
      "cell_type": "markdown",
      "metadata": {
        "id": "DF22UPm-3pp_"
      },
      "source": [
        "# Regressão Linear"
      ]
    },
    {
      "cell_type": "code",
      "metadata": {
        "id": "qxhRJmRq3vbC"
      },
      "source": [
        "import pandas as pd"
      ],
      "execution_count": null,
      "outputs": []
    },
    {
      "cell_type": "code",
      "metadata": {
        "id": "lsyVDQpR3v7F"
      },
      "source": [
        "url = 'https://raw.githubusercontent.com/allanspadini/linear_estatistica/main/media_salarial.csv'"
      ],
      "execution_count": null,
      "outputs": []
    },
    {
      "cell_type": "code",
      "metadata": {
        "id": "AmWxv83l3wRo"
      },
      "source": [
        "salarial = pd.read_csv(url,sep='\\t')"
      ],
      "execution_count": null,
      "outputs": []
    },
    {
      "cell_type": "code",
      "metadata": {
        "colab": {
          "base_uri": "https://localhost:8080/",
          "height": 204
        },
        "id": "OQpL-aP-3wsg",
        "outputId": "59cdc741-41ad-4d84-8cd7-e10aab1d0dba"
      },
      "source": [
        "salarial.head()"
      ],
      "execution_count": null,
      "outputs": [
        {
          "output_type": "execute_result",
          "data": {
            "text/html": [
              "<div>\n",
              "<style scoped>\n",
              "    .dataframe tbody tr th:only-of-type {\n",
              "        vertical-align: middle;\n",
              "    }\n",
              "\n",
              "    .dataframe tbody tr th {\n",
              "        vertical-align: top;\n",
              "    }\n",
              "\n",
              "    .dataframe thead th {\n",
              "        text-align: right;\n",
              "    }\n",
              "</style>\n",
              "<table border=\"1\" class=\"dataframe\">\n",
              "  <thead>\n",
              "    <tr style=\"text-align: right;\">\n",
              "      <th></th>\n",
              "      <th>Anos</th>\n",
              "      <th>Salario</th>\n",
              "    </tr>\n",
              "  </thead>\n",
              "  <tbody>\n",
              "    <tr>\n",
              "      <th>0</th>\n",
              "      <td>9.096218</td>\n",
              "      <td>78311.160754</td>\n",
              "    </tr>\n",
              "    <tr>\n",
              "      <th>1</th>\n",
              "      <td>14.637429</td>\n",
              "      <td>103897.664526</td>\n",
              "    </tr>\n",
              "    <tr>\n",
              "      <th>2</th>\n",
              "      <td>12.255808</td>\n",
              "      <td>97836.261015</td>\n",
              "    </tr>\n",
              "    <tr>\n",
              "      <th>3</th>\n",
              "      <td>7.215160</td>\n",
              "      <td>80550.256380</td>\n",
              "    </tr>\n",
              "    <tr>\n",
              "      <th>4</th>\n",
              "      <td>6.905628</td>\n",
              "      <td>68555.820963</td>\n",
              "    </tr>\n",
              "  </tbody>\n",
              "</table>\n",
              "</div>"
            ],
            "text/plain": [
              "        Anos        Salario\n",
              "0   9.096218   78311.160754\n",
              "1  14.637429  103897.664526\n",
              "2  12.255808   97836.261015\n",
              "3   7.215160   80550.256380\n",
              "4   6.905628   68555.820963"
            ]
          },
          "metadata": {
            "tags": []
          },
          "execution_count": 5
        }
      ]
    },
    {
      "cell_type": "code",
      "metadata": {
        "id": "_3x3FkC23xVy"
      },
      "source": [
        "import seaborn as sns"
      ],
      "execution_count": null,
      "outputs": []
    },
    {
      "cell_type": "code",
      "metadata": {
        "id": "3u9tj8hQ3x6F"
      },
      "source": [
        "import matplotlib as mpl\r\n",
        "mpl.rcParams['font.size'] = 16\r\n",
        "mpl.rcParams['figure.figsize'] = [10,6]"
      ],
      "execution_count": null,
      "outputs": []
    },
    {
      "cell_type": "code",
      "metadata": {
        "colab": {
          "base_uri": "https://localhost:8080/",
          "height": 415
        },
        "id": "z7KCGAXF3ybd",
        "outputId": "96617a2b-795c-43fd-b0b3-d22891f36252"
      },
      "source": [
        "sns.scatterplot(x='Anos',y='Salario',data=salarial)"
      ],
      "execution_count": null,
      "outputs": [
        {
          "output_type": "execute_result",
          "data": {
            "text/plain": [
              "<matplotlib.axes._subplots.AxesSubplot at 0x7faeedabe630>"
            ]
          },
          "metadata": {
            "tags": []
          },
          "execution_count": 8
        },
        {
          "output_type": "display_data",
          "data": {
            "image/png": "[encoded data removed]",
            "text/plain": [
              "<Figure size 720x432 with 1 Axes>"
            ]
          },
          "metadata": {
            "tags": [],
            "needs_background": "light"
          }
        }
      ]
    },
    {
      "cell_type": "markdown",
      "metadata": {
        "id": "YszBrTdK345E"
      },
      "source": [
        "## <font color=blue>  Regressão Linear </font>"
      ]
    },
    {
      "cell_type": "markdown",
      "metadata": {
        "id": "0ZTR4mM535up"
      },
      "source": [
        "<img src=\"https://caelum-online-public.s3.amazonaws.com/1273-estatistica-parte4/01/img027.png\" width=50%>\r\n",
        "\r\n",
        "Beta1 = onde a reta intercepta o eixo Y\r\n",
        "\r\n",
        "Beta2 = coeficiente angular"
      ]
    },
    {
      "cell_type": "code",
      "metadata": {
        "colab": {
          "base_uri": "https://localhost:8080/",
          "height": 204
        },
        "id": "qsD7MzIJ36dj",
        "outputId": "c121cd8d-5c8a-4c85-d0cc-63954a533438"
      },
      "source": [
        "salarial.head()"
      ],
      "execution_count": null,
      "outputs": [
        {
          "output_type": "execute_result",
          "data": {
            "text/html": [
              "<div>\n",
              "<style scoped>\n",
              "    .dataframe tbody tr th:only-of-type {\n",
              "        vertical-align: middle;\n",
              "    }\n",
              "\n",
              "    .dataframe tbody tr th {\n",
              "        vertical-align: top;\n",
              "    }\n",
              "\n",
              "    .dataframe thead th {\n",
              "        text-align: right;\n",
              "    }\n",
              "</style>\n",
              "<table border=\"1\" class=\"dataframe\">\n",
              "  <thead>\n",
              "    <tr style=\"text-align: right;\">\n",
              "      <th></th>\n",
              "      <th>Anos</th>\n",
              "      <th>Salario</th>\n",
              "    </tr>\n",
              "  </thead>\n",
              "  <tbody>\n",
              "    <tr>\n",
              "      <th>0</th>\n",
              "      <td>9.096218</td>\n",
              "      <td>78311.160754</td>\n",
              "    </tr>\n",
              "    <tr>\n",
              "      <th>1</th>\n",
              "      <td>14.637429</td>\n",
              "      <td>103897.664526</td>\n",
              "    </tr>\n",
              "    <tr>\n",
              "      <th>2</th>\n",
              "      <td>12.255808</td>\n",
              "      <td>97836.261015</td>\n",
              "    </tr>\n",
              "    <tr>\n",
              "      <th>3</th>\n",
              "      <td>7.215160</td>\n",
              "      <td>80550.256380</td>\n",
              "    </tr>\n",
              "    <tr>\n",
              "      <th>4</th>\n",
              "      <td>6.905628</td>\n",
              "      <td>68555.820963</td>\n",
              "    </tr>\n",
              "  </tbody>\n",
              "</table>\n",
              "</div>"
            ],
            "text/plain": [
              "        Anos        Salario\n",
              "0   9.096218   78311.160754\n",
              "1  14.637429  103897.664526\n",
              "2  12.255808   97836.261015\n",
              "3   7.215160   80550.256380\n",
              "4   6.905628   68555.820963"
            ]
          },
          "metadata": {
            "tags": []
          },
          "execution_count": 9
        }
      ]
    },
    {
      "cell_type": "code",
      "metadata": {
        "colab": {
          "base_uri": "https://localhost:8080/",
          "height": 415
        },
        "id": "NFZmMYQs37En",
        "outputId": "28e8b3a7-8149-4a70-b3f7-a0189dfb93b3"
      },
      "source": [
        "sns.scatterplot(x='Anos',y='Salario',data=salarial)"
      ],
      "execution_count": null,
      "outputs": [
        {
          "output_type": "execute_result",
          "data": {
            "text/plain": [
              "<matplotlib.axes._subplots.AxesSubplot at 0x7faeecf91278>"
            ]
          },
          "metadata": {
            "tags": []
          },
          "execution_count": 10
        },
        {
          "output_type": "display_data",
          "data": {
            "image/png": "[encoded data removed]",
            "text/plain": [
              "<Figure size 720x432 with 1 Axes>"
            ]
          },
          "metadata": {
            "tags": [],
            "needs_background": "light"
          }
        }
      ]
    },
    {
      "cell_type": "markdown",
      "metadata": {
        "id": "s4dG4yiu38NH"
      },
      "source": [
        "## $$\\sum\\hat{u}_i^2 = \\sum{(Y_i - \\hat{Y}_i)^2}$$"
      ]
    },
    {
      "cell_type": "markdown",
      "metadata": {
        "id": "01ySprte39EB"
      },
      "source": [
        "calculo de Beta2\r\n",
        "## $$\r\n",
        "\\begin{equation}\r\n",
        "\\boxed{\\hat{\\beta}_2 = \\frac{n\\sum{X_iY_i} - \\sum{X_i}\\sum{Y_i}}{n\\sum{X_i^2} - (\\sum{X_i})^2}}\r\n",
        "\\end{equation}\r\n",
        "$$\r\n",
        "calculo de Beta1\r\n",
        "## $$\r\n",
        "\\begin{equation}\r\n",
        "\\boxed{\r\n",
        "\\begin{eqnarray}\r\n",
        "\\hat{\\beta}_1 &=& \\frac{\\sum{X_i^2}\\sum{Y_i} - \\sum{X_i}\\sum{X_iY_i}}{n\\sum{X_i^2} - (\\sum{X_i})^2}\\\\\r\n",
        "&=& \\bar{Y} - \\hat{\\beta}_2\\bar{X}\r\n",
        "\\end{eqnarray}\r\n",
        "}\r\n",
        "\\end{equation}\r\n",
        "$$"
      ]
    },
    {
      "cell_type": "code",
      "metadata": {
        "colab": {
          "base_uri": "https://localhost:8080/"
        },
        "id": "p-586fT-3-FL",
        "outputId": "374189ac-62e5-4433-a35c-af92adaa5ed5"
      },
      "source": [
        "import statsmodels.api as sm"
      ],
      "execution_count": null,
      "outputs": [
        {
          "output_type": "stream",
          "text": [
            "/usr/local/lib/python3.6/dist-packages/statsmodels/tools/_testing.py:19: FutureWarning: pandas.util.testing is deprecated. Use the functions in the public API at pandas.testing instead.\n",
            "  import pandas.util.testing as tm\n"
          ],
          "name": "stderr"
        }
      ]
    },
    {
      "cell_type": "code",
      "metadata": {
        "id": "0IKyDkJY3_h2"
      },
      "source": [
        "X = sm.add_constant(salarial['Anos'])"
      ],
      "execution_count": null,
      "outputs": []
    },
    {
      "cell_type": "code",
      "metadata": {
        "id": "bJQvdZtm3_-N"
      },
      "source": [
        "Y = salarial['Salario']"
      ],
      "execution_count": null,
      "outputs": []
    },
    {
      "cell_type": "code",
      "metadata": {
        "colab": {
          "base_uri": "https://localhost:8080/",
          "height": 204
        },
        "id": "Os9JjU274AgK",
        "outputId": "82a830dc-4f48-462c-99fa-9cd79bd815b9"
      },
      "source": [
        "X.head()"
      ],
      "execution_count": null,
      "outputs": [
        {
          "output_type": "execute_result",
          "data": {
            "text/html": [
              "<div>\n",
              "<style scoped>\n",
              "    .dataframe tbody tr th:only-of-type {\n",
              "        vertical-align: middle;\n",
              "    }\n",
              "\n",
              "    .dataframe tbody tr th {\n",
              "        vertical-align: top;\n",
              "    }\n",
              "\n",
              "    .dataframe thead th {\n",
              "        text-align: right;\n",
              "    }\n",
              "</style>\n",
              "<table border=\"1\" class=\"dataframe\">\n",
              "  <thead>\n",
              "    <tr style=\"text-align: right;\">\n",
              "      <th></th>\n",
              "      <th>const</th>\n",
              "      <th>Anos</th>\n",
              "    </tr>\n",
              "  </thead>\n",
              "  <tbody>\n",
              "    <tr>\n",
              "      <th>0</th>\n",
              "      <td>1.0</td>\n",
              "      <td>9.096218</td>\n",
              "    </tr>\n",
              "    <tr>\n",
              "      <th>1</th>\n",
              "      <td>1.0</td>\n",
              "      <td>14.637429</td>\n",
              "    </tr>\n",
              "    <tr>\n",
              "      <th>2</th>\n",
              "      <td>1.0</td>\n",
              "      <td>12.255808</td>\n",
              "    </tr>\n",
              "    <tr>\n",
              "      <th>3</th>\n",
              "      <td>1.0</td>\n",
              "      <td>7.215160</td>\n",
              "    </tr>\n",
              "    <tr>\n",
              "      <th>4</th>\n",
              "      <td>1.0</td>\n",
              "      <td>6.905628</td>\n",
              "    </tr>\n",
              "  </tbody>\n",
              "</table>\n",
              "</div>"
            ],
            "text/plain": [
              "   const       Anos\n",
              "0    1.0   9.096218\n",
              "1    1.0  14.637429\n",
              "2    1.0  12.255808\n",
              "3    1.0   7.215160\n",
              "4    1.0   6.905628"
            ]
          },
          "metadata": {
            "tags": []
          },
          "execution_count": 14
        }
      ]
    },
    {
      "cell_type": "code",
      "metadata": {
        "id": "iCuNa9Vc4BR0"
      },
      "source": [
        "#Fazendo o ajuste da reta com o SM utilizando o odernary list squares (mínimos quadrados ordinários)\r\n",
        "#Fit faz o ajuste da reta\r\n",
        "\r\n",
        "resultado_regressao = sm.OLS(Y,X).fit()"
      ],
      "execution_count": null,
      "outputs": []
    },
    {
      "cell_type": "code",
      "metadata": {
        "colab": {
          "base_uri": "https://localhost:8080/"
        },
        "id": "0eaEWhN24BxQ",
        "outputId": "f5964a97-9f48-45ef-9e47-2eb15ac0db84"
      },
      "source": [
        "resultado_regressao.params"
      ],
      "execution_count": null,
      "outputs": [
        {
          "output_type": "execute_result",
          "data": {
            "text/plain": [
              "const    22755.182146\n",
              "Anos      6367.639175\n",
              "dtype: float64"
            ]
          },
          "metadata": {
            "tags": []
          },
          "execution_count": 18
        }
      ]
    },
    {
      "cell_type": "code",
      "metadata": {
        "id": "Rmwz8pt44CTn"
      },
      "source": [
        "beta_1 = resultado_regressao.params[0]"
      ],
      "execution_count": null,
      "outputs": []
    },
    {
      "cell_type": "code",
      "metadata": {
        "id": "OTULq9j94C5d"
      },
      "source": [
        "beta_2 = resultado_regressao.params[1]"
      ],
      "execution_count": null,
      "outputs": []
    },
    {
      "cell_type": "code",
      "metadata": {
        "colab": {
          "base_uri": "https://localhost:8080/"
        },
        "id": "eluBOg3Z4DaJ",
        "outputId": "f08349c6-d248-40c7-9215-f014918c5f25"
      },
      "source": [
        "beta_1"
      ],
      "execution_count": null,
      "outputs": [
        {
          "output_type": "execute_result",
          "data": {
            "text/plain": [
              "22755.182145811403"
            ]
          },
          "metadata": {
            "tags": []
          },
          "execution_count": 21
        }
      ]
    },
    {
      "cell_type": "markdown",
      "metadata": {
        "id": "16PRfBqf4KxG"
      },
      "source": [
        "## <font color=blue>  Intervalo de confiança </font>\r\n",
        "\r\n",
        "O intervalo de confiança propõe uma gama de valores plausíveis para um parâmetro desconhecido. O intervalo de confiança possui um nível de confiança associado. O nível de confiança padrão é 95%. "
      ]
    },
    {
      "cell_type": "code",
      "metadata": {
        "colab": {
          "base_uri": "https://localhost:8080/",
          "height": 111
        },
        "id": "8_JEoApT4LOC",
        "outputId": "03b879a5-b0fb-4943-a34b-2ed0549156ba"
      },
      "source": [
        "resultado_regressao.conf_int()"
      ],
      "execution_count": null,
      "outputs": [
        {
          "output_type": "execute_result",
          "data": {
            "text/html": [
              "<div>\n",
              "<style scoped>\n",
              "    .dataframe tbody tr th:only-of-type {\n",
              "        vertical-align: middle;\n",
              "    }\n",
              "\n",
              "    .dataframe tbody tr th {\n",
              "        vertical-align: top;\n",
              "    }\n",
              "\n",
              "    .dataframe thead th {\n",
              "        text-align: right;\n",
              "    }\n",
              "</style>\n",
              "<table border=\"1\" class=\"dataframe\">\n",
              "  <thead>\n",
              "    <tr style=\"text-align: right;\">\n",
              "      <th></th>\n",
              "      <th>0</th>\n",
              "      <th>1</th>\n",
              "    </tr>\n",
              "  </thead>\n",
              "  <tbody>\n",
              "    <tr>\n",
              "      <th>const</th>\n",
              "      <td>19067.657980</td>\n",
              "      <td>26442.706312</td>\n",
              "    </tr>\n",
              "    <tr>\n",
              "      <th>Anos</th>\n",
              "      <td>6050.119397</td>\n",
              "      <td>6685.158952</td>\n",
              "    </tr>\n",
              "  </tbody>\n",
              "</table>\n",
              "</div>"
            ],
            "text/plain": [
              "                  0             1\n",
              "const  19067.657980  26442.706312\n",
              "Anos    6050.119397   6685.158952"
            ]
          },
          "metadata": {
            "tags": []
          },
          "execution_count": 22
        }
      ]
    },
    {
      "cell_type": "code",
      "metadata": {
        "id": "86tdwRT94Lo_"
      },
      "source": [
        "salarial['y_previsto'] = resultado_regressao.predict()"
      ],
      "execution_count": null,
      "outputs": []
    },
    {
      "cell_type": "code",
      "metadata": {
        "colab": {
          "base_uri": "https://localhost:8080/",
          "height": 204
        },
        "id": "bFuYIhlx4MK1",
        "outputId": "eb2776a1-e5d1-41e6-89c7-7dba2f10a67e"
      },
      "source": [
        "salarial.head()"
      ],
      "execution_count": null,
      "outputs": [
        {
          "output_type": "execute_result",
          "data": {
            "text/html": [
              "<div>\n",
              "<style scoped>\n",
              "    .dataframe tbody tr th:only-of-type {\n",
              "        vertical-align: middle;\n",
              "    }\n",
              "\n",
              "    .dataframe tbody tr th {\n",
              "        vertical-align: top;\n",
              "    }\n",
              "\n",
              "    .dataframe thead th {\n",
              "        text-align: right;\n",
              "    }\n",
              "</style>\n",
              "<table border=\"1\" class=\"dataframe\">\n",
              "  <thead>\n",
              "    <tr style=\"text-align: right;\">\n",
              "      <th></th>\n",
              "      <th>Anos</th>\n",
              "      <th>Salario</th>\n",
              "      <th>y_previsto</th>\n",
              "    </tr>\n",
              "  </thead>\n",
              "  <tbody>\n",
              "    <tr>\n",
              "      <th>0</th>\n",
              "      <td>9.096218</td>\n",
              "      <td>78311.160754</td>\n",
              "      <td>80676.613985</td>\n",
              "    </tr>\n",
              "    <tr>\n",
              "      <th>1</th>\n",
              "      <td>14.637429</td>\n",
              "      <td>103897.664526</td>\n",
              "      <td>115961.045460</td>\n",
              "    </tr>\n",
              "    <tr>\n",
              "      <th>2</th>\n",
              "      <td>12.255808</td>\n",
              "      <td>97836.261015</td>\n",
              "      <td>100795.744300</td>\n",
              "    </tr>\n",
              "    <tr>\n",
              "      <th>3</th>\n",
              "      <td>7.215160</td>\n",
              "      <td>80550.256380</td>\n",
              "      <td>68698.714847</td>\n",
              "    </tr>\n",
              "    <tr>\n",
              "      <th>4</th>\n",
              "      <td>6.905628</td>\n",
              "      <td>68555.820963</td>\n",
              "      <td>66727.732594</td>\n",
              "    </tr>\n",
              "  </tbody>\n",
              "</table>\n",
              "</div>"
            ],
            "text/plain": [
              "        Anos        Salario     y_previsto\n",
              "0   9.096218   78311.160754   80676.613985\n",
              "1  14.637429  103897.664526  115961.045460\n",
              "2  12.255808   97836.261015  100795.744300\n",
              "3   7.215160   80550.256380   68698.714847\n",
              "4   6.905628   68555.820963   66727.732594"
            ]
          },
          "metadata": {
            "tags": []
          },
          "execution_count": 24
        }
      ]
    },
    {
      "cell_type": "code",
      "metadata": {
        "colab": {
          "base_uri": "https://localhost:8080/",
          "height": 415
        },
        "id": "pvWoGXC-4Mxn",
        "outputId": "890dc98f-654e-4f2b-aedc-2888178fe903"
      },
      "source": [
        "sns.scatterplot(x='Anos',y='Salario',data=salarial)\r\n",
        "sns.scatterplot(x='Anos',y='y_previsto',data=salarial)"
      ],
      "execution_count": null,
      "outputs": [
        {
          "output_type": "execute_result",
          "data": {
            "text/plain": [
              "<matplotlib.axes._subplots.AxesSubplot at 0x7faee2459f60>"
            ]
          },
          "metadata": {
            "tags": []
          },
          "execution_count": 25
        },
        {
          "output_type": "display_data",
          "data": {
            "image/png": "[encoded data removed]",
            "text/plain": [
              "<Figure size 720x432 with 1 Axes>"
            ]
          },
          "metadata": {
            "tags": [],
            "needs_background": "light"
          }
        }
      ]
    },
    {
      "cell_type": "code",
      "metadata": {
        "id": "sCYuuUGK4NYc"
      },
      "source": [
        "import numpy as np"
      ],
      "execution_count": null,
      "outputs": []
    },
    {
      "cell_type": "code",
      "metadata": {
        "id": "B6_Dgaps1mzm",
        "colab": {
          "base_uri": "https://localhost:8080/"
        },
        "outputId": "746b7cf2-62e6-4cf7-e688-99d51526be6a"
      },
      "source": [
        "import statsmodels.api as sm"
      ],
      "execution_count": null,
      "outputs": [
        {
          "output_type": "stream",
          "text": [
            "/usr/local/lib/python3.6/dist-packages/statsmodels/tools/_testing.py:19: FutureWarning: pandas.util.testing is deprecated. Use the functions in the public API at pandas.testing instead.\n",
            "  import pandas.util.testing as tm\n"
          ],
          "name": "stderr"
        }
      ]
    },
    {
      "cell_type": "code",
      "metadata": {
        "id": "gpaue8RO4N2k"
      },
      "source": [
        "Xnovo = np.linspace(20,30,11)"
      ],
      "execution_count": null,
      "outputs": []
    },
    {
      "cell_type": "code",
      "metadata": {
        "id": "lgzSuwZD4OVy"
      },
      "source": [
        "Xnovo = sm.add_constant(Xnovo)"
      ],
      "execution_count": null,
      "outputs": []
    },
    {
      "cell_type": "code",
      "metadata": {
        "colab": {
          "base_uri": "https://localhost:8080/",
          "height": 163
        },
        "id": "cs6Y_Ct34OzP",
        "outputId": "27e0750d-98f1-4d65-a797-7fc0cc758345"
      },
      "source": [
        "fora_da_amostra = resultado_regressao.predict(Xnovo)"
      ],
      "execution_count": null,
      "outputs": [
        {
          "output_type": "error",
          "ename": "NameError",
          "evalue": "ignored",
          "traceback": [
            "\u001b[0;31m---------------------------------------------------------------------------\u001b[0m",
            "\u001b[0;31mNameError\u001b[0m                                 Traceback (most recent call last)",
            "\u001b[0;32m<ipython-input-14-c5873ccddecf>\u001b[0m in \u001b[0;36m<module>\u001b[0;34m()\u001b[0m\n\u001b[0;32m----> 1\u001b[0;31m \u001b[0mfora_da_amostra\u001b[0m \u001b[0;34m=\u001b[0m \u001b[0mresultado_regressao\u001b[0m\u001b[0;34m.\u001b[0m\u001b[0mpredict\u001b[0m\u001b[0;34m(\u001b[0m\u001b[0mXnovo\u001b[0m\u001b[0;34m)\u001b[0m\u001b[0;34m\u001b[0m\u001b[0;34m\u001b[0m\u001b[0m\n\u001b[0m",
            "\u001b[0;31mNameError\u001b[0m: name 'resultado_regressao' is not defined"
          ]
        }
      ]
    },
    {
      "cell_type": "code",
      "metadata": {
        "colab": {
          "base_uri": "https://localhost:8080/",
          "height": 415
        },
        "id": "ijMMOQoO4POh",
        "outputId": "89a9604b-3ae0-43d0-b120-0a97abd697c1"
      },
      "source": [
        "sns.scatterplot(x='Anos',y='Salario',data=salarial)\r\n",
        "sns.scatterplot(x='Anos',y='y_previsto',data=salarial)\r\n",
        "sns.scatterplot(x=Xnovo[:,1],y=fora_da_amostra)"
      ],
      "execution_count": null,
      "outputs": [
        {
          "output_type": "execute_result",
          "data": {
            "text/plain": [
              "<matplotlib.axes._subplots.AxesSubplot at 0x7faeecfa2c50>"
            ]
          },
          "metadata": {
            "tags": []
          },
          "execution_count": 30
        },
        {
          "output_type": "display_data",
          "data": {
            "image/png": "[encoded data removed]",
            "text/plain": [
              "<Figure size 720x432 with 1 Axes>"
            ]
          },
          "metadata": {
            "tags": [],
            "needs_background": "light"
          }
        }
      ]
    },
    {
      "cell_type": "markdown",
      "metadata": {
        "id": "nVY-kUOXvZyk"
      },
      "source": [
        "# Análise de resíduos"
      ]
    },
    {
      "cell_type": "code",
      "metadata": {
        "id": "UW5fVkUX1MOm"
      },
      "source": [
        "import numpy as np"
      ],
      "execution_count": null,
      "outputs": []
    },
    {
      "cell_type": "code",
      "metadata": {
        "id": "wjjE6ujo1M4d"
      },
      "source": [
        "Xnovo = np.linspace(20,30,11)"
      ],
      "execution_count": null,
      "outputs": []
    },
    {
      "cell_type": "code",
      "metadata": {
        "id": "-dxvu4sN1Nb6",
        "colab": {
          "base_uri": "https://localhost:8080/",
          "height": 163
        },
        "outputId": "6c15c438-71c2-45fd-959d-9e9f1a9f5af4"
      },
      "source": [
        "Xnovo = sm.add_constant(Xnovo)"
      ],
      "execution_count": null,
      "outputs": [
        {
          "output_type": "error",
          "ename": "NameError",
          "evalue": "ignored",
          "traceback": [
            "\u001b[0;31m---------------------------------------------------------------------------\u001b[0m",
            "\u001b[0;31mNameError\u001b[0m                                 Traceback (most recent call last)",
            "\u001b[0;32m<ipython-input-3-e59254c53d13>\u001b[0m in \u001b[0;36m<module>\u001b[0;34m()\u001b[0m\n\u001b[0;32m----> 1\u001b[0;31m \u001b[0mXnovo\u001b[0m \u001b[0;34m=\u001b[0m \u001b[0msm\u001b[0m\u001b[0;34m.\u001b[0m\u001b[0madd_constant\u001b[0m\u001b[0;34m(\u001b[0m\u001b[0mXnovo\u001b[0m\u001b[0;34m)\u001b[0m\u001b[0;34m\u001b[0m\u001b[0;34m\u001b[0m\u001b[0m\n\u001b[0m",
            "\u001b[0;31mNameError\u001b[0m: name 'sm' is not defined"
          ]
        }
      ]
    },
    {
      "cell_type": "code",
      "metadata": {
        "id": "t_r772NJ1OBh"
      },
      "source": [
        "fora_da_amostra = resultado_regressao.predict(Xnovo)"
      ],
      "execution_count": null,
      "outputs": []
    },
    {
      "cell_type": "code",
      "metadata": {
        "id": "4n4ORxbk1OpB"
      },
      "source": [
        "sns.scatterplot(x='Anos',y='Salario',data=salarial)\r\n",
        "sns.scatterplot(x='Anos',y='y_previsto',data=salarial)\r\n",
        "sns.scatterplot(x=Xnovo[:,1],y=fora_da_amostra)"
      ],
      "execution_count": null,
      "outputs": []
    },
    {
      "cell_type": "code",
      "metadata": {
        "id": "MUCl_Hw2vi-D"
      },
      "source": [
        "salarial['Resíduo'] = resultado_regressao.resid\r\n",
        "salarial.head()"
      ],
      "execution_count": null,
      "outputs": []
    },
    {
      "cell_type": "markdown",
      "metadata": {
        "id": "N9RyPX49vpup"
      },
      "source": [
        "\r\n",
        "1. Média igual a zero;"
      ]
    },
    {
      "cell_type": "code",
      "metadata": {
        "id": "h_4OeSNNvqa-"
      },
      "source": [
        "salarial['Resíduo'].mean()"
      ],
      "execution_count": null,
      "outputs": []
    },
    {
      "cell_type": "markdown",
      "metadata": {
        "id": "crZZM4HMvsDC"
      },
      "source": [
        "2. Os valores de $u$ são independentes."
      ]
    },
    {
      "cell_type": "code",
      "metadata": {
        "id": "UZHwobZ4vtBw"
      },
      "source": [
        "sns.scatterplot(x=salarial['Anos'], y=salarial['Resíduo'])"
      ],
      "execution_count": null,
      "outputs": []
    },
    {
      "cell_type": "code",
      "metadata": {
        "id": "raJ2Y34Lvtv5"
      },
      "source": [
        "sns.scatterplot(x=salarial['y_previsto'], y=salarial['Resíduo'])"
      ],
      "execution_count": null,
      "outputs": []
    },
    {
      "cell_type": "markdown",
      "metadata": {
        "id": "X83-PPWrvuuN"
      },
      "source": [
        "3. Variância de $u$ é a mesma para todos os valores de X;"
      ]
    },
    {
      "cell_type": "code",
      "metadata": {
        "id": "FI1lshUWvvgB"
      },
      "source": [
        "sns.scatterplot(x=salarial['y_previsto'], y=salarial['Resíduo']**2)"
      ],
      "execution_count": null,
      "outputs": []
    },
    {
      "cell_type": "markdown",
      "metadata": {
        "id": "rTH0D6okvwaB"
      },
      "source": [
        "<img src=\"https://caelum-online-public.s3.amazonaws.com/1273-estatistica-parte4/01/img028.jpg\" width=80%>\r\n",
        "Fonte: Econometria Básica - 5ª edição - Gujarati e Porter"
      ]
    },
    {
      "cell_type": "markdown",
      "metadata": {
        "id": "WVO2PcvsvyIo"
      },
      "source": [
        "## <font color=blue>  Coeficiente de determinação - $R^2$ </font>"
      ]
    },
    {
      "cell_type": "markdown",
      "metadata": {
        "id": "p9r-aCEVvzV4"
      },
      "source": [
        "O quanto a linha de regressão amostral se ajusta aos dados."
      ]
    },
    {
      "cell_type": "code",
      "metadata": {
        "id": "j4UknSQwv0Kh"
      },
      "source": [
        "sns.scatterplot(x='Anos',y='Salario',data=salarial)\r\n",
        "sns.scatterplot(x='Anos',y='y_previsto',data=salarial)"
      ],
      "execution_count": null,
      "outputs": []
    },
    {
      "cell_type": "markdown",
      "metadata": {
        "id": "1rIlVH3bv1aP"
      },
      "source": [
        "# $$R^2 = \\frac{\\big[\\sum{(Y_i - \\bar{Y})(\\hat{Y}_i - \\bar{Y})}\\big]^2}{\\sum{(Y_i - \\bar{Y}})^2 \\sum{(\\hat{Y}_i - \\bar{Y}})^2}$$"
      ]
    },
    {
      "cell_type": "code",
      "metadata": {
        "id": "zzeVjKJNv2Ag"
      },
      "source": [
        "resultado_regressao.rsquared"
      ],
      "execution_count": null,
      "outputs": []
    }
  ]
}
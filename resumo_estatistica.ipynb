{
  "nbformat": 4,
  "nbformat_minor": 0,
  "metadata": {
    "colab": {
      "name": "resumo_estatistica",
      "provenance": [],
      "mount_file_id": "https://github.com/GuilhermeRuy97/BootcampDataScience/blob/main/resumo_estatistica.ipynb",
      "authorship_tag": "ABX9TyNAKOW4j1094Q0oHX9OqkLm",
      "include_colab_link": true
    },
    "kernelspec": {
      "name": "python3",
      "display_name": "Python 3"
    }
  },
  "cells": [
    {
      "cell_type": "markdown",
      "metadata": {
        "id": "view-in-github",
        "colab_type": "text"
      },
      "source": [
        "<a href=\"https://colab.research.google.com/github/GuilhermeRuy97/Estudos-DataScience/blob/main/resumo_estatistica.ipynb\" target=\"_parent\"><img src=\"https://colab.research.google.com/assets/colab-badge.svg\" alt=\"Open In Colab\"/></a>"
      ]
    },
    {
      "cell_type": "markdown",
      "metadata": {
        "id": "6GBdJSkdWJFT"
      },
      "source": [
        "# Média, moda e mediana"
      ]
    },
    {
      "cell_type": "code",
      "metadata": {
        "colab": {
          "base_uri": "https://localhost:8080/",
          "height": 0
        },
        "id": "l0fN5ut5Wg4q",
        "outputId": "bec9fb06-9193-4413-e424-4fdb7ecd5510"
      },
      "source": [
        "import pandas as pd\r\n",
        "from zipfile import ZipFile\r\n",
        "\r\n",
        "caminho = \"/content/drive/MyDrive/cursos/bootcampDSalura/dados modulo 3/PeNSE_2015_AMOSTRA2.zip\"\r\n",
        "zip = ZipFile(caminho)\r\n",
        "caminho_pasta_zipada = zip.namelist()[1]\r\n",
        "\r\n",
        "dados = pd.read_csv(zip.open(caminho_pasta_zipada), sep = \";\", thousands = \".\", decimal = \",\")\r\n",
        "dados.head()"
      ],
      "execution_count": 1,
      "outputs": [
        {
          "output_type": "execute_result",
          "data": {
            "text/html": [
              "<div>\n",
              "<style scoped>\n",
              "    .dataframe tbody tr th:only-of-type {\n",
              "        vertical-align: middle;\n",
              "    }\n",
              "\n",
              "    .dataframe tbody tr th {\n",
              "        vertical-align: top;\n",
              "    }\n",
              "\n",
              "    .dataframe thead th {\n",
              "        text-align: right;\n",
              "    }\n",
              "</style>\n",
              "<table border=\"1\" class=\"dataframe\">\n",
              "  <thead>\n",
              "    <tr style=\"text-align: right;\">\n",
              "      <th></th>\n",
              "      <th>ANOPESQ</th>\n",
              "      <th>PAIS</th>\n",
              "      <th>REGEOGR</th>\n",
              "      <th>VB00004</th>\n",
              "      <th>VB01001</th>\n",
              "      <th>VB01002</th>\n",
              "      <th>VB01003</th>\n",
              "      <th>VB01004</th>\n",
              "      <th>VB01005</th>\n",
              "      <th>VB01006</th>\n",
              "      <th>VB01007</th>\n",
              "      <th>VB01008A</th>\n",
              "      <th>VB01010A</th>\n",
              "      <th>VB01011</th>\n",
              "      <th>VB01012</th>\n",
              "      <th>VB01013</th>\n",
              "      <th>VB01014</th>\n",
              "      <th>VB01015A</th>\n",
              "      <th>VB01016</th>\n",
              "      <th>VB01017</th>\n",
              "      <th>VB01018</th>\n",
              "      <th>VB01019</th>\n",
              "      <th>VB01020A</th>\n",
              "      <th>VB01021</th>\n",
              "      <th>VB01022</th>\n",
              "      <th>VB01023</th>\n",
              "      <th>VB01024</th>\n",
              "      <th>VB01025</th>\n",
              "      <th>VB01026</th>\n",
              "      <th>VB02001</th>\n",
              "      <th>VB02002</th>\n",
              "      <th>VB02004A</th>\n",
              "      <th>VB02010</th>\n",
              "      <th>VB02011</th>\n",
              "      <th>VB02013</th>\n",
              "      <th>VB02017A</th>\n",
              "      <th>VB02018A</th>\n",
              "      <th>VB02019A</th>\n",
              "      <th>VB02020A</th>\n",
              "      <th>VB02021</th>\n",
              "      <th>...</th>\n",
              "      <th>VB11005</th>\n",
              "      <th>VB11006</th>\n",
              "      <th>VB11007</th>\n",
              "      <th>VB12001</th>\n",
              "      <th>VB12002</th>\n",
              "      <th>VB12003</th>\n",
              "      <th>VB13001</th>\n",
              "      <th>VB13002A</th>\n",
              "      <th>VB13004A</th>\n",
              "      <th>VB13005</th>\n",
              "      <th>VB13006</th>\n",
              "      <th>VB13007</th>\n",
              "      <th>VB13008</th>\n",
              "      <th>VB13009</th>\n",
              "      <th>VB14001</th>\n",
              "      <th>VB14002</th>\n",
              "      <th>VB16001A01</th>\n",
              "      <th>VB16001A02</th>\n",
              "      <th>VB16001A03</th>\n",
              "      <th>VB16001A04</th>\n",
              "      <th>VB16001A05</th>\n",
              "      <th>VB16001A06</th>\n",
              "      <th>VB16001A07</th>\n",
              "      <th>VB16001A08</th>\n",
              "      <th>VB17001</th>\n",
              "      <th>VB17002</th>\n",
              "      <th>VB17003</th>\n",
              "      <th>VB17004</th>\n",
              "      <th>VB17005</th>\n",
              "      <th>VB17006</th>\n",
              "      <th>ESTRATO_EXP</th>\n",
              "      <th>ESTRATOGEOREG</th>\n",
              "      <th>PESO</th>\n",
              "      <th>V0006</th>\n",
              "      <th>V0007</th>\n",
              "      <th>V0008</th>\n",
              "      <th>V0041</th>\n",
              "      <th>aluno</th>\n",
              "      <th>escola</th>\n",
              "      <th>turma</th>\n",
              "    </tr>\n",
              "  </thead>\n",
              "  <tbody>\n",
              "    <tr>\n",
              "      <th>0</th>\n",
              "      <td>2015</td>\n",
              "      <td>76</td>\n",
              "      <td>1</td>\n",
              "      <td>1</td>\n",
              "      <td>2</td>\n",
              "      <td>1</td>\n",
              "      <td>13</td>\n",
              "      <td>7</td>\n",
              "      <td>7</td>\n",
              "      <td>1</td>\n",
              "      <td>2</td>\n",
              "      <td>7</td>\n",
              "      <td>3</td>\n",
              "      <td>2</td>\n",
              "      <td>-1</td>\n",
              "      <td>1</td>\n",
              "      <td>1</td>\n",
              "      <td>1</td>\n",
              "      <td>1</td>\n",
              "      <td>1</td>\n",
              "      <td>2</td>\n",
              "      <td>4</td>\n",
              "      <td>2</td>\n",
              "      <td>4</td>\n",
              "      <td>1</td>\n",
              "      <td>2</td>\n",
              "      <td>2</td>\n",
              "      <td>5</td>\n",
              "      <td>1</td>\n",
              "      <td>8</td>\n",
              "      <td>3</td>\n",
              "      <td>4</td>\n",
              "      <td>3</td>\n",
              "      <td>6</td>\n",
              "      <td>6</td>\n",
              "      <td>1</td>\n",
              "      <td>6</td>\n",
              "      <td>1</td>\n",
              "      <td>-1</td>\n",
              "      <td>2</td>\n",
              "      <td>...</td>\n",
              "      <td>2</td>\n",
              "      <td>1</td>\n",
              "      <td>2</td>\n",
              "      <td>1</td>\n",
              "      <td>1</td>\n",
              "      <td>4</td>\n",
              "      <td>2</td>\n",
              "      <td>-1</td>\n",
              "      <td>3</td>\n",
              "      <td>1</td>\n",
              "      <td>1</td>\n",
              "      <td>-1</td>\n",
              "      <td>1</td>\n",
              "      <td>1</td>\n",
              "      <td>2</td>\n",
              "      <td>2</td>\n",
              "      <td>1</td>\n",
              "      <td>2</td>\n",
              "      <td>2</td>\n",
              "      <td>2</td>\n",
              "      <td>2</td>\n",
              "      <td>2</td>\n",
              "      <td>2</td>\n",
              "      <td>2</td>\n",
              "      <td>371.0</td>\n",
              "      <td>1570.0</td>\n",
              "      <td>37.1</td>\n",
              "      <td>157.0</td>\n",
              "      <td>2</td>\n",
              "      <td>1</td>\n",
              "      <td>1223</td>\n",
              "      <td>1</td>\n",
              "      <td>299.735235</td>\n",
              "      <td>1</td>\n",
              "      <td>2</td>\n",
              "      <td>4</td>\n",
              "      <td>1</td>\n",
              "      <td>1</td>\n",
              "      <td>1</td>\n",
              "      <td>296</td>\n",
              "    </tr>\n",
              "    <tr>\n",
              "      <th>1</th>\n",
              "      <td>2015</td>\n",
              "      <td>76</td>\n",
              "      <td>1</td>\n",
              "      <td>1</td>\n",
              "      <td>2</td>\n",
              "      <td>1</td>\n",
              "      <td>14</td>\n",
              "      <td>4</td>\n",
              "      <td>7</td>\n",
              "      <td>1</td>\n",
              "      <td>1</td>\n",
              "      <td>7</td>\n",
              "      <td>3</td>\n",
              "      <td>2</td>\n",
              "      <td>-1</td>\n",
              "      <td>1</td>\n",
              "      <td>1</td>\n",
              "      <td>1</td>\n",
              "      <td>1</td>\n",
              "      <td>1</td>\n",
              "      <td>2</td>\n",
              "      <td>2</td>\n",
              "      <td>2</td>\n",
              "      <td>4</td>\n",
              "      <td>1</td>\n",
              "      <td>2</td>\n",
              "      <td>2</td>\n",
              "      <td>5</td>\n",
              "      <td>3</td>\n",
              "      <td>8</td>\n",
              "      <td>2</td>\n",
              "      <td>1</td>\n",
              "      <td>8</td>\n",
              "      <td>8</td>\n",
              "      <td>6</td>\n",
              "      <td>1</td>\n",
              "      <td>1</td>\n",
              "      <td>5</td>\n",
              "      <td>-1</td>\n",
              "      <td>2</td>\n",
              "      <td>...</td>\n",
              "      <td>2</td>\n",
              "      <td>3</td>\n",
              "      <td>2</td>\n",
              "      <td>4</td>\n",
              "      <td>4</td>\n",
              "      <td>4</td>\n",
              "      <td>1</td>\n",
              "      <td>2</td>\n",
              "      <td>3</td>\n",
              "      <td>3</td>\n",
              "      <td>1</td>\n",
              "      <td>-1</td>\n",
              "      <td>1</td>\n",
              "      <td>1</td>\n",
              "      <td>2</td>\n",
              "      <td>2</td>\n",
              "      <td>2</td>\n",
              "      <td>2</td>\n",
              "      <td>2</td>\n",
              "      <td>1</td>\n",
              "      <td>2</td>\n",
              "      <td>2</td>\n",
              "      <td>2</td>\n",
              "      <td>2</td>\n",
              "      <td>502.0</td>\n",
              "      <td>1520.0</td>\n",
              "      <td>50.2</td>\n",
              "      <td>152.0</td>\n",
              "      <td>2</td>\n",
              "      <td>2</td>\n",
              "      <td>1223</td>\n",
              "      <td>1</td>\n",
              "      <td>355.170081</td>\n",
              "      <td>1</td>\n",
              "      <td>2</td>\n",
              "      <td>4</td>\n",
              "      <td>1</td>\n",
              "      <td>2</td>\n",
              "      <td>1</td>\n",
              "      <td>296</td>\n",
              "    </tr>\n",
              "    <tr>\n",
              "      <th>2</th>\n",
              "      <td>2015</td>\n",
              "      <td>76</td>\n",
              "      <td>1</td>\n",
              "      <td>1</td>\n",
              "      <td>1</td>\n",
              "      <td>4</td>\n",
              "      <td>13</td>\n",
              "      <td>6</td>\n",
              "      <td>7</td>\n",
              "      <td>1</td>\n",
              "      <td>1</td>\n",
              "      <td>5</td>\n",
              "      <td>5</td>\n",
              "      <td>2</td>\n",
              "      <td>-1</td>\n",
              "      <td>2</td>\n",
              "      <td>1</td>\n",
              "      <td>1</td>\n",
              "      <td>1</td>\n",
              "      <td>1</td>\n",
              "      <td>2</td>\n",
              "      <td>3</td>\n",
              "      <td>1</td>\n",
              "      <td>4</td>\n",
              "      <td>1</td>\n",
              "      <td>2</td>\n",
              "      <td>2</td>\n",
              "      <td>5</td>\n",
              "      <td>3</td>\n",
              "      <td>2</td>\n",
              "      <td>3</td>\n",
              "      <td>1</td>\n",
              "      <td>8</td>\n",
              "      <td>2</td>\n",
              "      <td>8</td>\n",
              "      <td>1</td>\n",
              "      <td>1</td>\n",
              "      <td>5</td>\n",
              "      <td>5</td>\n",
              "      <td>1</td>\n",
              "      <td>...</td>\n",
              "      <td>2</td>\n",
              "      <td>1</td>\n",
              "      <td>2</td>\n",
              "      <td>1</td>\n",
              "      <td>2</td>\n",
              "      <td>3</td>\n",
              "      <td>1</td>\n",
              "      <td>2</td>\n",
              "      <td>1</td>\n",
              "      <td>2</td>\n",
              "      <td>5</td>\n",
              "      <td>99</td>\n",
              "      <td>1</td>\n",
              "      <td>-1</td>\n",
              "      <td>2</td>\n",
              "      <td>2</td>\n",
              "      <td>1</td>\n",
              "      <td>1</td>\n",
              "      <td>1</td>\n",
              "      <td>1</td>\n",
              "      <td>1</td>\n",
              "      <td>1</td>\n",
              "      <td>1</td>\n",
              "      <td>1</td>\n",
              "      <td>482.0</td>\n",
              "      <td>1614.0</td>\n",
              "      <td>48.2</td>\n",
              "      <td>161.4</td>\n",
              "      <td>2</td>\n",
              "      <td>2</td>\n",
              "      <td>1223</td>\n",
              "      <td>1</td>\n",
              "      <td>299.735235</td>\n",
              "      <td>1</td>\n",
              "      <td>2</td>\n",
              "      <td>4</td>\n",
              "      <td>1</td>\n",
              "      <td>3</td>\n",
              "      <td>1</td>\n",
              "      <td>296</td>\n",
              "    </tr>\n",
              "    <tr>\n",
              "      <th>3</th>\n",
              "      <td>2015</td>\n",
              "      <td>76</td>\n",
              "      <td>1</td>\n",
              "      <td>1</td>\n",
              "      <td>1</td>\n",
              "      <td>1</td>\n",
              "      <td>14</td>\n",
              "      <td>6</td>\n",
              "      <td>7</td>\n",
              "      <td>1</td>\n",
              "      <td>1</td>\n",
              "      <td>7</td>\n",
              "      <td>4</td>\n",
              "      <td>2</td>\n",
              "      <td>-1</td>\n",
              "      <td>1</td>\n",
              "      <td>1</td>\n",
              "      <td>1</td>\n",
              "      <td>1</td>\n",
              "      <td>1</td>\n",
              "      <td>2</td>\n",
              "      <td>4</td>\n",
              "      <td>2</td>\n",
              "      <td>4</td>\n",
              "      <td>1</td>\n",
              "      <td>2</td>\n",
              "      <td>2</td>\n",
              "      <td>6</td>\n",
              "      <td>3</td>\n",
              "      <td>2</td>\n",
              "      <td>4</td>\n",
              "      <td>1</td>\n",
              "      <td>3</td>\n",
              "      <td>2</td>\n",
              "      <td>7</td>\n",
              "      <td>1</td>\n",
              "      <td>5</td>\n",
              "      <td>1</td>\n",
              "      <td>-1</td>\n",
              "      <td>2</td>\n",
              "      <td>...</td>\n",
              "      <td>2</td>\n",
              "      <td>1</td>\n",
              "      <td>2</td>\n",
              "      <td>2</td>\n",
              "      <td>2</td>\n",
              "      <td>4</td>\n",
              "      <td>1</td>\n",
              "      <td>10</td>\n",
              "      <td>3</td>\n",
              "      <td>1</td>\n",
              "      <td>2</td>\n",
              "      <td>-1</td>\n",
              "      <td>1</td>\n",
              "      <td>-1</td>\n",
              "      <td>2</td>\n",
              "      <td>2</td>\n",
              "      <td>1</td>\n",
              "      <td>2</td>\n",
              "      <td>2</td>\n",
              "      <td>2</td>\n",
              "      <td>1</td>\n",
              "      <td>2</td>\n",
              "      <td>2</td>\n",
              "      <td>2</td>\n",
              "      <td>694.0</td>\n",
              "      <td>1725.0</td>\n",
              "      <td>69.4</td>\n",
              "      <td>172.5</td>\n",
              "      <td>2</td>\n",
              "      <td>3</td>\n",
              "      <td>1223</td>\n",
              "      <td>1</td>\n",
              "      <td>355.170081</td>\n",
              "      <td>1</td>\n",
              "      <td>2</td>\n",
              "      <td>4</td>\n",
              "      <td>1</td>\n",
              "      <td>4</td>\n",
              "      <td>1</td>\n",
              "      <td>296</td>\n",
              "    </tr>\n",
              "    <tr>\n",
              "      <th>4</th>\n",
              "      <td>2015</td>\n",
              "      <td>76</td>\n",
              "      <td>1</td>\n",
              "      <td>1</td>\n",
              "      <td>1</td>\n",
              "      <td>1</td>\n",
              "      <td>13</td>\n",
              "      <td>9</td>\n",
              "      <td>7</td>\n",
              "      <td>1</td>\n",
              "      <td>2</td>\n",
              "      <td>5</td>\n",
              "      <td>4</td>\n",
              "      <td>2</td>\n",
              "      <td>-1</td>\n",
              "      <td>2</td>\n",
              "      <td>1</td>\n",
              "      <td>1</td>\n",
              "      <td>1</td>\n",
              "      <td>1</td>\n",
              "      <td>2</td>\n",
              "      <td>5</td>\n",
              "      <td>1</td>\n",
              "      <td>4</td>\n",
              "      <td>1</td>\n",
              "      <td>2</td>\n",
              "      <td>2</td>\n",
              "      <td>6</td>\n",
              "      <td>5</td>\n",
              "      <td>6</td>\n",
              "      <td>3</td>\n",
              "      <td>5</td>\n",
              "      <td>2</td>\n",
              "      <td>6</td>\n",
              "      <td>2</td>\n",
              "      <td>1</td>\n",
              "      <td>5</td>\n",
              "      <td>1</td>\n",
              "      <td>5</td>\n",
              "      <td>1</td>\n",
              "      <td>...</td>\n",
              "      <td>2</td>\n",
              "      <td>1</td>\n",
              "      <td>4</td>\n",
              "      <td>2</td>\n",
              "      <td>2</td>\n",
              "      <td>4</td>\n",
              "      <td>1</td>\n",
              "      <td>3</td>\n",
              "      <td>2</td>\n",
              "      <td>2</td>\n",
              "      <td>2</td>\n",
              "      <td>13</td>\n",
              "      <td>1</td>\n",
              "      <td>-1</td>\n",
              "      <td>1</td>\n",
              "      <td>2</td>\n",
              "      <td>1</td>\n",
              "      <td>1</td>\n",
              "      <td>1</td>\n",
              "      <td>1</td>\n",
              "      <td>1</td>\n",
              "      <td>1</td>\n",
              "      <td>1</td>\n",
              "      <td>1</td>\n",
              "      <td>789.0</td>\n",
              "      <td>1675.0</td>\n",
              "      <td>78.9</td>\n",
              "      <td>167.5</td>\n",
              "      <td>2</td>\n",
              "      <td>4</td>\n",
              "      <td>1223</td>\n",
              "      <td>1</td>\n",
              "      <td>299.735235</td>\n",
              "      <td>1</td>\n",
              "      <td>2</td>\n",
              "      <td>4</td>\n",
              "      <td>1</td>\n",
              "      <td>5</td>\n",
              "      <td>1</td>\n",
              "      <td>296</td>\n",
              "    </tr>\n",
              "  </tbody>\n",
              "</table>\n",
              "<p>5 rows × 181 columns</p>\n",
              "</div>"
            ],
            "text/plain": [
              "   ANOPESQ  PAIS  REGEOGR  VB00004  VB01001  ...  V0008  V0041  aluno  escola  turma\n",
              "0     2015    76        1        1        2  ...      4      1      1       1    296\n",
              "1     2015    76        1        1        2  ...      4      1      2       1    296\n",
              "2     2015    76        1        1        1  ...      4      1      3       1    296\n",
              "3     2015    76        1        1        1  ...      4      1      4       1    296\n",
              "4     2015    76        1        1        1  ...      4      1      5       1    296\n",
              "\n",
              "[5 rows x 181 columns]"
            ]
          },
          "metadata": {
            "tags": []
          },
          "execution_count": 1
        }
      ]
    },
    {
      "cell_type": "code",
      "metadata": {
        "colab": {
          "base_uri": "https://localhost:8080/"
        },
        "id": "Y28qa43wXOXe",
        "outputId": "f1e7b5a0-3ecf-4aae-8b47-5c9be70c7bb6"
      },
      "source": [
        "dados[\"IMC\"] = dados[\"VB17003\"] / ((dados[\"VB17004\"]/100)**2)\r\n",
        "dados[\"IMC\"]"
      ],
      "execution_count": 2,
      "outputs": [
        {
          "output_type": "execute_result",
          "data": {
            "text/plain": [
              "0        15.051321\n",
              "1        21.727839\n",
              "2        18.502907\n",
              "3        23.322831\n",
              "4        28.122076\n",
              "           ...    \n",
              "16551    20.113223\n",
              "16552    17.930782\n",
              "16553    23.968489\n",
              "16554    18.995343\n",
              "16555    23.303246\n",
              "Name: IMC, Length: 16556, dtype: float64"
            ]
          },
          "metadata": {
            "tags": []
          },
          "execution_count": 2
        }
      ]
    },
    {
      "cell_type": "markdown",
      "metadata": {
        "id": "HRmYXOz5X0s-"
      },
      "source": [
        "## <font color=green>1 Média aritmética</font>\r\n",
        "***\r\n",
        "\r\n",
        "É representada por $\\mu$ quando se refere à população e por $\\bar{X}$ quando se refere à amostra\r\n",
        "\r\n",
        "# $$\\mu = \\frac 1n\\sum_{i=1}^{n}X_i$$\r\n",
        "\r\n",
        "onde \r\n",
        "\r\n",
        "$n$ = número de observações (registros)\r\n",
        "\r\n",
        "$X_i$ = valor da i-ésima observação (registro)\r\n",
        "\r\n",
        "ou seja, soma dos valores dividida pelo número de elementos"
      ]
    },
    {
      "cell_type": "code",
      "metadata": {
        "colab": {
          "base_uri": "https://localhost:8080/"
        },
        "id": "cNqJ1od5YU-G",
        "outputId": "8a58da18-0698-4b21-9e97-6e6057f99808"
      },
      "source": [
        "#Fazendo a média\r\n",
        "\r\n",
        "media = dados[\"IMC\"].mean()\r\n",
        "print(media)"
      ],
      "execution_count": 3,
      "outputs": [
        {
          "output_type": "stream",
          "text": [
            "20.95825220663186\n"
          ],
          "name": "stdout"
        }
      ]
    },
    {
      "cell_type": "markdown",
      "metadata": {
        "id": "RMSxQXUuYwBO"
      },
      "source": [
        "## <font color=green>2 Mediana</font>\r\n",
        "***\r\n",
        "\r\n",
        "Para obtermos a mediana de uma conjunto de dados devemos proceder da seguinte maneira:\r\n",
        "1. Ordenar o conjunto de dados;\r\n",
        "2. Identificar o número de observações (registros) do conjunto de dados ($n$);\r\n",
        "3. Identicar o elemento mediano:\r\n",
        "\r\n",
        "> Quando $n$ for ímpar, a posição do elemento mediano será obtida da seguinte forma:\r\n",
        "\r\n",
        "\r\n",
        "# $$Elemento_{Md} = \\frac{n+1}2$$\r\n",
        "\r\n",
        "> Quando $n$ for par, a posição do elemento mediano será obtida da seguinte forma:\r\n",
        "\r\n",
        "\r\n",
        "# $$Elemento_{Md} = \\frac{n}2$$\r\n",
        "\r\n",
        "4. Obter a mediana:\r\n",
        "\r\n",
        "> Quando $n$ for ímpar:\r\n",
        "\r\n",
        "\r\n",
        "# $$Md = X_{Elemento_{Md}}$$\r\n",
        "\r\n",
        "> Quando $n$ for par:\r\n",
        "\r\n",
        "\r\n",
        "# $$Md = \\frac{X_{Elemento_{Md}} + X_{Elemento_{Md}+1}}2$$\r\n",
        "***"
      ]
    },
    {
      "cell_type": "markdown",
      "metadata": {
        "id": "F7Imbwr7ZYhx"
      },
      "source": [
        "### Exemplo 1 - n ímpar\r\n",
        "\r\n",
        "<img src='https://caelum-online-public.s3.amazonaws.com/1177-estatistica-parte1/01/img002.png' width='40%' style=\"float:left\">"
      ]
    },
    {
      "cell_type": "markdown",
      "metadata": {
        "id": "eO7WDIfTZbNK"
      },
      "source": [
        "### Exemplo 2 - n par\r\n",
        "\r\n",
        "<img src='https://caelum-online-public.s3.amazonaws.com/1177-estatistica-parte1/01/img003.png' width='50%' style=\"float:left\">"
      ]
    },
    {
      "cell_type": "code",
      "metadata": {
        "colab": {
          "base_uri": "https://localhost:8080/"
        },
        "id": "RYWtkugSZc9J",
        "outputId": "fde39a8b-089b-4240-9e4f-7d7ce349c7be"
      },
      "source": [
        "mediana = dados[\"IMC\"].median()\r\n",
        "print(mediana)"
      ],
      "execution_count": 4,
      "outputs": [
        {
          "output_type": "stream",
          "text": [
            "20.190504330368643\n"
          ],
          "name": "stdout"
        }
      ]
    },
    {
      "cell_type": "markdown",
      "metadata": {
        "id": "IkH-3k4FaPQP"
      },
      "source": [
        "## <font color=green>3 Moda</font>\r\n",
        "***\r\n",
        "\r\n",
        "Pode-se definir a moda como sendo o valor mais frequente de um conjunto de dados. \r\n",
        "\r\n",
        "*A moda é bastante utilizada para dados qualitativos."
      ]
    },
    {
      "cell_type": "code",
      "metadata": {
        "colab": {
          "base_uri": "https://localhost:8080/"
        },
        "id": "EpXdNjXwaT6g",
        "outputId": "4f552bfb-01be-49b7-b5fa-64e75d38c139"
      },
      "source": [
        "moda = dados[\"IMC\"].mode()\r\n",
        "print(moda)\r\n",
        "\r\n",
        "#Neste caso a moda é multimodal (várias modas)."
      ],
      "execution_count": 5,
      "outputs": [
        {
          "output_type": "stream",
          "text": [
            "0     16.155478\n",
            "1     16.718248\n",
            "2     17.312886\n",
            "3     18.543714\n",
            "4     18.556681\n",
            "5     18.602766\n",
            "6     19.021555\n",
            "7     19.169550\n",
            "8     19.297399\n",
            "9     19.707910\n",
            "10    21.082813\n",
            "dtype: float64\n"
          ],
          "name": "stdout"
        }
      ]
    },
    {
      "cell_type": "markdown",
      "metadata": {
        "id": "dtvoxomXaZUk"
      },
      "source": [
        "## <font color=green>3.4 Relação entre média, mediana e moda</font>\r\n",
        "***"
      ]
    },
    {
      "cell_type": "markdown",
      "metadata": {
        "id": "j6nEYAagadxK"
      },
      "source": [
        "<img src='https://caelum-online-public.s3.amazonaws.com/1177-estatistica-parte1/01/img004.png' width='80%'>"
      ]
    },
    {
      "cell_type": "code",
      "metadata": {
        "colab": {
          "base_uri": "https://localhost:8080/",
          "height": 0
        },
        "id": "e4zo0_nrbw9X",
        "outputId": "d7c9506a-1b5b-46cb-dd00-5db1411f6479"
      },
      "source": [
        "import seaborn as sns\r\n",
        "\r\n",
        "ax = sns.histplot(x = \"IMC\", data = dados, kde = True)\r\n",
        "ax.figure.set_size_inches(12, 6)\r\n",
        "ax.axvline(dados.IMC.mean(), color = 'r', linestyle = '--')\r\n",
        "ax.axvline(dados.IMC.median(), color ='g', linestyle = '-') \r\n",
        "\r\n",
        "ax.set_title(\"Distribuição de frequência\")\r\n",
        "ax.set_xlabel(\"Altura\")\r\n",
        "ax;\r\n",
        "\r\n",
        "#É possível ver a média em vermelho e a mediana em verde"
      ],
      "execution_count": 6,
      "outputs": [
        {
          "output_type": "display_data",
          "data": {
            "image/png": "[encoded data removed]",
            "text/plain": [
              "<Figure size 864x432 with 1 Axes>"
            ]
          },
          "metadata": {
            "tags": [],
            "needs_background": "light"
          }
        }
      ]
    },
    {
      "cell_type": "code",
      "metadata": {
        "id": "d-rOCS0okTEZ",
        "outputId": "4b83f7b2-057c-4f82-acf2-3cafc1159380",
        "colab": {
          "base_uri": "https://localhost:8080/",
          "height": 0
        }
      },
      "source": [
        "#Também é possível perceber a assimetria através do boxplot\r\n",
        "\r\n",
        "ax = sns.boxplot(x = \"IMC\", data = dados)\r\n",
        "ax.figure.set_size_inches(12, 6)\r\n",
        "ax.set_title(\"Boxplot IMC\")\r\n",
        "ax.set_xlabel(\"IMC\")\r\n",
        "ax;"
      ],
      "execution_count": 7,
      "outputs": [
        {
          "output_type": "display_data",
          "data": {
            "image/png": "[encoded data removed]",
            "text/plain": [
              "<Figure size 864x432 with 1 Axes>"
            ]
          },
          "metadata": {
            "tags": [],
            "needs_background": "light"
          }
        }
      ]
    },
    {
      "cell_type": "markdown",
      "metadata": {
        "id": "SbyhkPNroi1D"
      },
      "source": [
        "<img src='https://caelum-online-public.s3.amazonaws.com/1177-estatistica-parte1/01/img006.png' width='80%'>"
      ]
    },
    {
      "cell_type": "markdown",
      "metadata": {
        "id": "ovXbtqzIl5DZ"
      },
      "source": [
        "# Distribuição Normal"
      ]
    },
    {
      "cell_type": "markdown",
      "metadata": {
        "id": "_pAIVaylmX-S"
      },
      "source": [
        "A distribuição normal é uma das mais utilizadas em estatística. É uma distribuição contínua, onde a distribuição de frequências de uma variável quantitativa apresenta a forma de sino e é simétrica em relação a sua média.\r\n",
        "\r\n",
        "![Normal](https://caelum-online-public.s3.amazonaws.com/1178-estatistica-parte2/01/img001.png)\r\n",
        "\r\n",
        "\r\n",
        "## Carcterísticas importantes\r\n",
        "\r\n",
        "1. É simétrica em torno da média;\r\n",
        "\r\n",
        "2. A área sob a curva corresponde à proporção 1 ou 100%;\r\n",
        "\r\n",
        "3. As medidas de tendência central (média, mediana e moda) apresentam o mesmo valor;\r\n",
        "\r\n",
        "4. Os extremos da curva tendem ao infinito em ambas as direções e, teoricamente, jamais tocam o eixo $x$;\r\n",
        "\r\n",
        "5. O desvio padrão define o achatamento e largura da distribuição. Curvas mais largas e mais achatadas apresentam valores maiores de desvio padrão;\r\n",
        "\r\n",
        "6. A distribuição é definida por sua média e desvio padrão;\r\n",
        "\r\n",
        "7. A probabilidade sempre será igual à área sob a curva, delimitada pelos limites inferior e superior."
      ]
    },
    {
      "cell_type": "markdown",
      "metadata": {
        "id": "W8cpM04FmcD5"
      },
      "source": [
        "## $$f(x) = \\frac{1}{\\sqrt{2\\pi\\sigma}}e^{-\\frac{1}{2}\\left(\\frac{x-\\mu}{\\sigma}\\right)^2}$$\r\n",
        "\r\n",
        "Onde:\r\n",
        "\r\n",
        "$x$ = variável normal\r\n",
        "\r\n",
        "$\\sigma$ = desvio padrão\r\n",
        "\r\n",
        "$\\mu$ = média"
      ]
    },
    {
      "cell_type": "markdown",
      "metadata": {
        "id": "I0isBgmUme6X"
      },
      "source": [
        "A probabilidade é obtida a partir da área sob a curva, delimitada pelos limites inferior e superior especificados. Um exemplo pode ser visto na figura abaixo.\r\n",
        "\r\n",
        "Por exemplo, a probabilidade de se escolher uma pessoa entre 1,60m e 1,80m é a área sob a curva.\r\n",
        "\r\n",
        "\r\n",
        "![alt text](https://caelum-online-public.s3.amazonaws.com/1178-estatistica-parte2/01/img002.png)\r\n"
      ]
    },
    {
      "cell_type": "markdown",
      "metadata": {
        "id": "xv-vJSsgmgf9"
      },
      "source": [
        "Para obter a área acima basta calcular a integral da função para os intervalos determinados. Conforme equação abaixo:\r\n",
        "\r\n",
        "\r\n",
        "## $$P(L_i<x<L_s) = \\int_{L_i}^{L_s}\\frac{1}{\\sqrt{2\\pi\\sigma}}e^{-\\frac{1}{2}\\left(\\frac{x-\\mu}{\\sigma}\\right)^2}$$\r\n",
        "\r\n",
        "Onde:\r\n",
        "\r\n",
        "$x$ = variável normal\r\n",
        "\r\n",
        "$\\sigma$ = desvio padrão\r\n",
        "\r\n",
        "$\\mu$ = média\r\n",
        "\r\n",
        "$L_i$ = limite inferior\r\n",
        "\r\n",
        "$L_s$ = limite superior\r\n",
        "\r\n"
      ]
    },
    {
      "cell_type": "markdown",
      "metadata": {
        "id": "YEeQ2m0AmiDg"
      },
      "source": [
        "## Tabelas padronizadas\r\n",
        "\r\n",
        "As tabelas padronizadas foram criadas para facilitar a obtenção dos valores das áreas sob a curva normal e eliminar a necessidade de solucionar integrais definidas.\r\n",
        "\r\n",
        "Para consultarmos os valores em uma tabela padronizada basta transformarmos nossa variável em uma variável padronizada $Z$.\r\n",
        "\r\n",
        "Esta variável $Z$ representa o afastamento em desvios padrões de um valor da variável original em relação à média.\r\n",
        "\r\n",
        "# $$Z = \\frac{x-\\mu}{\\sigma}$$\r\n",
        "\r\n",
        "Onde:\r\n",
        "\r\n",
        "$x$ = variável normal com média $\\mu$ e desvio padrão $\\sigma$\r\n",
        "\r\n",
        "$\\sigma$ = desvio padrão\r\n",
        "\r\n",
        "$\\mu$ = média"
      ]
    },
    {
      "cell_type": "markdown",
      "metadata": {
        "id": "JKRRfwZGmjbk"
      },
      "source": [
        "Exemplo:\r\n",
        "\r\n",
        "Em um estudo sobre as alturas dos moradores de uma cidade verificou-se que o conjunto de dados segue uma **distribuição aproximadamente normal**, com **média 1,70** e **desvio padrão de 0,1**. Com estas informações obtenha o seguinte conjunto de probabilidades:\r\n",
        "\r\n",
        "> **A.** probabilidade de uma pessoa, selecionada ao acaso, ter menos de 1,80 metros.\r\n",
        "\r\n",
        "> **B.** probabilidade de uma pessoa, selecionada ao acaso, ter entre 1,60 metros e 1,80 metros.    \r\n",
        "\r\n",
        "> **C.** probabilidade de uma pessoa, selecionada ao acaso, ter mais de 1,90 metros."
      ]
    },
    {
      "cell_type": "markdown",
      "metadata": {
        "id": "PeEtDZYMmlhk"
      },
      "source": [
        "### Problema A - Identificação da área sob a curva"
      ]
    },
    {
      "cell_type": "markdown",
      "metadata": {
        "id": "4cEPIr9Tmmrz"
      },
      "source": [
        "<img style='float: left' src='https://caelum-online-public.s3.amazonaws.com/1178-estatistica-parte2/01/img004.png' width='350px'>\r\n",
        "\r\n",
        "Note que até 1,70m a probabilidade é de 50%, pois a curva é simétrica"
      ]
    },
    {
      "cell_type": "markdown",
      "metadata": {
        "id": "gVtPAUWkpCjQ"
      },
      "source": [
        "#### Solução 1"
      ]
    },
    {
      "cell_type": "code",
      "metadata": {
        "id": "lPWCQj0FpDQZ",
        "colab": {
          "base_uri": "https://localhost:8080/",
          "height": 0
        },
        "outputId": "14b2a367-8869-404a-8878-82e866f38817"
      },
      "source": [
        "#Criando a tabela padronizada utilizando o scypy\r\n",
        "#Essa tabela geralmente é encontrada em livros de estatística\r\n",
        "\r\n",
        "import pandas as pd\r\n",
        "import numpy as np\r\n",
        "from scipy.stats import norm\r\n",
        "\r\n",
        "tabela_normal_padronizada = pd.DataFrame(\r\n",
        "    [], \r\n",
        "    index=[\"{0:0.2f}\".format(i / 100) for i in range(0, 400, 10)],\r\n",
        "    columns = [\"{0:0.2f}\".format(i / 100) for i in range(0, 10)])\r\n",
        "\r\n",
        "for index in tabela_normal_padronizada.index:\r\n",
        "    for column in tabela_normal_padronizada.columns:\r\n",
        "        Z = np.round(float(index) + float(column), 2)\r\n",
        "        tabela_normal_padronizada.loc[index, column] = \"{0:0.4f}\".format(norm.cdf(Z))\r\n",
        "\r\n",
        "tabela_normal_padronizada.rename_axis('Z', axis = 'columns', inplace = True)\r\n",
        "\r\n",
        "tabela_normal_padronizada"
      ],
      "execution_count": 8,
      "outputs": [
        {
          "output_type": "execute_result",
          "data": {
            "text/html": [
              "<div>\n",
              "<style scoped>\n",
              "    .dataframe tbody tr th:only-of-type {\n",
              "        vertical-align: middle;\n",
              "    }\n",
              "\n",
              "    .dataframe tbody tr th {\n",
              "        vertical-align: top;\n",
              "    }\n",
              "\n",
              "    .dataframe thead th {\n",
              "        text-align: right;\n",
              "    }\n",
              "</style>\n",
              "<table border=\"1\" class=\"dataframe\">\n",
              "  <thead>\n",
              "    <tr style=\"text-align: right;\">\n",
              "      <th>Z</th>\n",
              "      <th>0.00</th>\n",
              "      <th>0.01</th>\n",
              "      <th>0.02</th>\n",
              "      <th>0.03</th>\n",
              "      <th>0.04</th>\n",
              "      <th>0.05</th>\n",
              "      <th>0.06</th>\n",
              "      <th>0.07</th>\n",
              "      <th>0.08</th>\n",
              "      <th>0.09</th>\n",
              "    </tr>\n",
              "  </thead>\n",
              "  <tbody>\n",
              "    <tr>\n",
              "      <th>0.00</th>\n",
              "      <td>0.5000</td>\n",
              "      <td>0.5040</td>\n",
              "      <td>0.5080</td>\n",
              "      <td>0.5120</td>\n",
              "      <td>0.5160</td>\n",
              "      <td>0.5199</td>\n",
              "      <td>0.5239</td>\n",
              "      <td>0.5279</td>\n",
              "      <td>0.5319</td>\n",
              "      <td>0.5359</td>\n",
              "    </tr>\n",
              "    <tr>\n",
              "      <th>0.10</th>\n",
              "      <td>0.5398</td>\n",
              "      <td>0.5438</td>\n",
              "      <td>0.5478</td>\n",
              "      <td>0.5517</td>\n",
              "      <td>0.5557</td>\n",
              "      <td>0.5596</td>\n",
              "      <td>0.5636</td>\n",
              "      <td>0.5675</td>\n",
              "      <td>0.5714</td>\n",
              "      <td>0.5753</td>\n",
              "    </tr>\n",
              "    <tr>\n",
              "      <th>0.20</th>\n",
              "      <td>0.5793</td>\n",
              "      <td>0.5832</td>\n",
              "      <td>0.5871</td>\n",
              "      <td>0.5910</td>\n",
              "      <td>0.5948</td>\n",
              "      <td>0.5987</td>\n",
              "      <td>0.6026</td>\n",
              "      <td>0.6064</td>\n",
              "      <td>0.6103</td>\n",
              "      <td>0.6141</td>\n",
              "    </tr>\n",
              "    <tr>\n",
              "      <th>0.30</th>\n",
              "      <td>0.6179</td>\n",
              "      <td>0.6217</td>\n",
              "      <td>0.6255</td>\n",
              "      <td>0.6293</td>\n",
              "      <td>0.6331</td>\n",
              "      <td>0.6368</td>\n",
              "      <td>0.6406</td>\n",
              "      <td>0.6443</td>\n",
              "      <td>0.6480</td>\n",
              "      <td>0.6517</td>\n",
              "    </tr>\n",
              "    <tr>\n",
              "      <th>0.40</th>\n",
              "      <td>0.6554</td>\n",
              "      <td>0.6591</td>\n",
              "      <td>0.6628</td>\n",
              "      <td>0.6664</td>\n",
              "      <td>0.6700</td>\n",
              "      <td>0.6736</td>\n",
              "      <td>0.6772</td>\n",
              "      <td>0.6808</td>\n",
              "      <td>0.6844</td>\n",
              "      <td>0.6879</td>\n",
              "    </tr>\n",
              "    <tr>\n",
              "      <th>0.50</th>\n",
              "      <td>0.6915</td>\n",
              "      <td>0.6950</td>\n",
              "      <td>0.6985</td>\n",
              "      <td>0.7019</td>\n",
              "      <td>0.7054</td>\n",
              "      <td>0.7088</td>\n",
              "      <td>0.7123</td>\n",
              "      <td>0.7157</td>\n",
              "      <td>0.7190</td>\n",
              "      <td>0.7224</td>\n",
              "    </tr>\n",
              "    <tr>\n",
              "      <th>0.60</th>\n",
              "      <td>0.7257</td>\n",
              "      <td>0.7291</td>\n",
              "      <td>0.7324</td>\n",
              "      <td>0.7357</td>\n",
              "      <td>0.7389</td>\n",
              "      <td>0.7422</td>\n",
              "      <td>0.7454</td>\n",
              "      <td>0.7486</td>\n",
              "      <td>0.7517</td>\n",
              "      <td>0.7549</td>\n",
              "    </tr>\n",
              "    <tr>\n",
              "      <th>0.70</th>\n",
              "      <td>0.7580</td>\n",
              "      <td>0.7611</td>\n",
              "      <td>0.7642</td>\n",
              "      <td>0.7673</td>\n",
              "      <td>0.7704</td>\n",
              "      <td>0.7734</td>\n",
              "      <td>0.7764</td>\n",
              "      <td>0.7794</td>\n",
              "      <td>0.7823</td>\n",
              "      <td>0.7852</td>\n",
              "    </tr>\n",
              "    <tr>\n",
              "      <th>0.80</th>\n",
              "      <td>0.7881</td>\n",
              "      <td>0.7910</td>\n",
              "      <td>0.7939</td>\n",
              "      <td>0.7967</td>\n",
              "      <td>0.7995</td>\n",
              "      <td>0.8023</td>\n",
              "      <td>0.8051</td>\n",
              "      <td>0.8078</td>\n",
              "      <td>0.8106</td>\n",
              "      <td>0.8133</td>\n",
              "    </tr>\n",
              "    <tr>\n",
              "      <th>0.90</th>\n",
              "      <td>0.8159</td>\n",
              "      <td>0.8186</td>\n",
              "      <td>0.8212</td>\n",
              "      <td>0.8238</td>\n",
              "      <td>0.8264</td>\n",
              "      <td>0.8289</td>\n",
              "      <td>0.8315</td>\n",
              "      <td>0.8340</td>\n",
              "      <td>0.8365</td>\n",
              "      <td>0.8389</td>\n",
              "    </tr>\n",
              "    <tr>\n",
              "      <th>1.00</th>\n",
              "      <td>0.8413</td>\n",
              "      <td>0.8438</td>\n",
              "      <td>0.8461</td>\n",
              "      <td>0.8485</td>\n",
              "      <td>0.8508</td>\n",
              "      <td>0.8531</td>\n",
              "      <td>0.8554</td>\n",
              "      <td>0.8577</td>\n",
              "      <td>0.8599</td>\n",
              "      <td>0.8621</td>\n",
              "    </tr>\n",
              "    <tr>\n",
              "      <th>1.10</th>\n",
              "      <td>0.8643</td>\n",
              "      <td>0.8665</td>\n",
              "      <td>0.8686</td>\n",
              "      <td>0.8708</td>\n",
              "      <td>0.8729</td>\n",
              "      <td>0.8749</td>\n",
              "      <td>0.8770</td>\n",
              "      <td>0.8790</td>\n",
              "      <td>0.8810</td>\n",
              "      <td>0.8830</td>\n",
              "    </tr>\n",
              "    <tr>\n",
              "      <th>1.20</th>\n",
              "      <td>0.8849</td>\n",
              "      <td>0.8869</td>\n",
              "      <td>0.8888</td>\n",
              "      <td>0.8907</td>\n",
              "      <td>0.8925</td>\n",
              "      <td>0.8944</td>\n",
              "      <td>0.8962</td>\n",
              "      <td>0.8980</td>\n",
              "      <td>0.8997</td>\n",
              "      <td>0.9015</td>\n",
              "    </tr>\n",
              "    <tr>\n",
              "      <th>1.30</th>\n",
              "      <td>0.9032</td>\n",
              "      <td>0.9049</td>\n",
              "      <td>0.9066</td>\n",
              "      <td>0.9082</td>\n",
              "      <td>0.9099</td>\n",
              "      <td>0.9115</td>\n",
              "      <td>0.9131</td>\n",
              "      <td>0.9147</td>\n",
              "      <td>0.9162</td>\n",
              "      <td>0.9177</td>\n",
              "    </tr>\n",
              "    <tr>\n",
              "      <th>1.40</th>\n",
              "      <td>0.9192</td>\n",
              "      <td>0.9207</td>\n",
              "      <td>0.9222</td>\n",
              "      <td>0.9236</td>\n",
              "      <td>0.9251</td>\n",
              "      <td>0.9265</td>\n",
              "      <td>0.9279</td>\n",
              "      <td>0.9292</td>\n",
              "      <td>0.9306</td>\n",
              "      <td>0.9319</td>\n",
              "    </tr>\n",
              "    <tr>\n",
              "      <th>1.50</th>\n",
              "      <td>0.9332</td>\n",
              "      <td>0.9345</td>\n",
              "      <td>0.9357</td>\n",
              "      <td>0.9370</td>\n",
              "      <td>0.9382</td>\n",
              "      <td>0.9394</td>\n",
              "      <td>0.9406</td>\n",
              "      <td>0.9418</td>\n",
              "      <td>0.9429</td>\n",
              "      <td>0.9441</td>\n",
              "    </tr>\n",
              "    <tr>\n",
              "      <th>1.60</th>\n",
              "      <td>0.9452</td>\n",
              "      <td>0.9463</td>\n",
              "      <td>0.9474</td>\n",
              "      <td>0.9484</td>\n",
              "      <td>0.9495</td>\n",
              "      <td>0.9505</td>\n",
              "      <td>0.9515</td>\n",
              "      <td>0.9525</td>\n",
              "      <td>0.9535</td>\n",
              "      <td>0.9545</td>\n",
              "    </tr>\n",
              "    <tr>\n",
              "      <th>1.70</th>\n",
              "      <td>0.9554</td>\n",
              "      <td>0.9564</td>\n",
              "      <td>0.9573</td>\n",
              "      <td>0.9582</td>\n",
              "      <td>0.9591</td>\n",
              "      <td>0.9599</td>\n",
              "      <td>0.9608</td>\n",
              "      <td>0.9616</td>\n",
              "      <td>0.9625</td>\n",
              "      <td>0.9633</td>\n",
              "    </tr>\n",
              "    <tr>\n",
              "      <th>1.80</th>\n",
              "      <td>0.9641</td>\n",
              "      <td>0.9649</td>\n",
              "      <td>0.9656</td>\n",
              "      <td>0.9664</td>\n",
              "      <td>0.9671</td>\n",
              "      <td>0.9678</td>\n",
              "      <td>0.9686</td>\n",
              "      <td>0.9693</td>\n",
              "      <td>0.9699</td>\n",
              "      <td>0.9706</td>\n",
              "    </tr>\n",
              "    <tr>\n",
              "      <th>1.90</th>\n",
              "      <td>0.9713</td>\n",
              "      <td>0.9719</td>\n",
              "      <td>0.9726</td>\n",
              "      <td>0.9732</td>\n",
              "      <td>0.9738</td>\n",
              "      <td>0.9744</td>\n",
              "      <td>0.9750</td>\n",
              "      <td>0.9756</td>\n",
              "      <td>0.9761</td>\n",
              "      <td>0.9767</td>\n",
              "    </tr>\n",
              "    <tr>\n",
              "      <th>2.00</th>\n",
              "      <td>0.9772</td>\n",
              "      <td>0.9778</td>\n",
              "      <td>0.9783</td>\n",
              "      <td>0.9788</td>\n",
              "      <td>0.9793</td>\n",
              "      <td>0.9798</td>\n",
              "      <td>0.9803</td>\n",
              "      <td>0.9808</td>\n",
              "      <td>0.9812</td>\n",
              "      <td>0.9817</td>\n",
              "    </tr>\n",
              "    <tr>\n",
              "      <th>2.10</th>\n",
              "      <td>0.9821</td>\n",
              "      <td>0.9826</td>\n",
              "      <td>0.9830</td>\n",
              "      <td>0.9834</td>\n",
              "      <td>0.9838</td>\n",
              "      <td>0.9842</td>\n",
              "      <td>0.9846</td>\n",
              "      <td>0.9850</td>\n",
              "      <td>0.9854</td>\n",
              "      <td>0.9857</td>\n",
              "    </tr>\n",
              "    <tr>\n",
              "      <th>2.20</th>\n",
              "      <td>0.9861</td>\n",
              "      <td>0.9864</td>\n",
              "      <td>0.9868</td>\n",
              "      <td>0.9871</td>\n",
              "      <td>0.9875</td>\n",
              "      <td>0.9878</td>\n",
              "      <td>0.9881</td>\n",
              "      <td>0.9884</td>\n",
              "      <td>0.9887</td>\n",
              "      <td>0.9890</td>\n",
              "    </tr>\n",
              "    <tr>\n",
              "      <th>2.30</th>\n",
              "      <td>0.9893</td>\n",
              "      <td>0.9896</td>\n",
              "      <td>0.9898</td>\n",
              "      <td>0.9901</td>\n",
              "      <td>0.9904</td>\n",
              "      <td>0.9906</td>\n",
              "      <td>0.9909</td>\n",
              "      <td>0.9911</td>\n",
              "      <td>0.9913</td>\n",
              "      <td>0.9916</td>\n",
              "    </tr>\n",
              "    <tr>\n",
              "      <th>2.40</th>\n",
              "      <td>0.9918</td>\n",
              "      <td>0.9920</td>\n",
              "      <td>0.9922</td>\n",
              "      <td>0.9925</td>\n",
              "      <td>0.9927</td>\n",
              "      <td>0.9929</td>\n",
              "      <td>0.9931</td>\n",
              "      <td>0.9932</td>\n",
              "      <td>0.9934</td>\n",
              "      <td>0.9936</td>\n",
              "    </tr>\n",
              "    <tr>\n",
              "      <th>2.50</th>\n",
              "      <td>0.9938</td>\n",
              "      <td>0.9940</td>\n",
              "      <td>0.9941</td>\n",
              "      <td>0.9943</td>\n",
              "      <td>0.9945</td>\n",
              "      <td>0.9946</td>\n",
              "      <td>0.9948</td>\n",
              "      <td>0.9949</td>\n",
              "      <td>0.9951</td>\n",
              "      <td>0.9952</td>\n",
              "    </tr>\n",
              "    <tr>\n",
              "      <th>2.60</th>\n",
              "      <td>0.9953</td>\n",
              "      <td>0.9955</td>\n",
              "      <td>0.9956</td>\n",
              "      <td>0.9957</td>\n",
              "      <td>0.9959</td>\n",
              "      <td>0.9960</td>\n",
              "      <td>0.9961</td>\n",
              "      <td>0.9962</td>\n",
              "      <td>0.9963</td>\n",
              "      <td>0.9964</td>\n",
              "    </tr>\n",
              "    <tr>\n",
              "      <th>2.70</th>\n",
              "      <td>0.9965</td>\n",
              "      <td>0.9966</td>\n",
              "      <td>0.9967</td>\n",
              "      <td>0.9968</td>\n",
              "      <td>0.9969</td>\n",
              "      <td>0.9970</td>\n",
              "      <td>0.9971</td>\n",
              "      <td>0.9972</td>\n",
              "      <td>0.9973</td>\n",
              "      <td>0.9974</td>\n",
              "    </tr>\n",
              "    <tr>\n",
              "      <th>2.80</th>\n",
              "      <td>0.9974</td>\n",
              "      <td>0.9975</td>\n",
              "      <td>0.9976</td>\n",
              "      <td>0.9977</td>\n",
              "      <td>0.9977</td>\n",
              "      <td>0.9978</td>\n",
              "      <td>0.9979</td>\n",
              "      <td>0.9979</td>\n",
              "      <td>0.9980</td>\n",
              "      <td>0.9981</td>\n",
              "    </tr>\n",
              "    <tr>\n",
              "      <th>2.90</th>\n",
              "      <td>0.9981</td>\n",
              "      <td>0.9982</td>\n",
              "      <td>0.9982</td>\n",
              "      <td>0.9983</td>\n",
              "      <td>0.9984</td>\n",
              "      <td>0.9984</td>\n",
              "      <td>0.9985</td>\n",
              "      <td>0.9985</td>\n",
              "      <td>0.9986</td>\n",
              "      <td>0.9986</td>\n",
              "    </tr>\n",
              "    <tr>\n",
              "      <th>3.00</th>\n",
              "      <td>0.9987</td>\n",
              "      <td>0.9987</td>\n",
              "      <td>0.9987</td>\n",
              "      <td>0.9988</td>\n",
              "      <td>0.9988</td>\n",
              "      <td>0.9989</td>\n",
              "      <td>0.9989</td>\n",
              "      <td>0.9989</td>\n",
              "      <td>0.9990</td>\n",
              "      <td>0.9990</td>\n",
              "    </tr>\n",
              "    <tr>\n",
              "      <th>3.10</th>\n",
              "      <td>0.9990</td>\n",
              "      <td>0.9991</td>\n",
              "      <td>0.9991</td>\n",
              "      <td>0.9991</td>\n",
              "      <td>0.9992</td>\n",
              "      <td>0.9992</td>\n",
              "      <td>0.9992</td>\n",
              "      <td>0.9992</td>\n",
              "      <td>0.9993</td>\n",
              "      <td>0.9993</td>\n",
              "    </tr>\n",
              "    <tr>\n",
              "      <th>3.20</th>\n",
              "      <td>0.9993</td>\n",
              "      <td>0.9993</td>\n",
              "      <td>0.9994</td>\n",
              "      <td>0.9994</td>\n",
              "      <td>0.9994</td>\n",
              "      <td>0.9994</td>\n",
              "      <td>0.9994</td>\n",
              "      <td>0.9995</td>\n",
              "      <td>0.9995</td>\n",
              "      <td>0.9995</td>\n",
              "    </tr>\n",
              "    <tr>\n",
              "      <th>3.30</th>\n",
              "      <td>0.9995</td>\n",
              "      <td>0.9995</td>\n",
              "      <td>0.9995</td>\n",
              "      <td>0.9996</td>\n",
              "      <td>0.9996</td>\n",
              "      <td>0.9996</td>\n",
              "      <td>0.9996</td>\n",
              "      <td>0.9996</td>\n",
              "      <td>0.9996</td>\n",
              "      <td>0.9997</td>\n",
              "    </tr>\n",
              "    <tr>\n",
              "      <th>3.40</th>\n",
              "      <td>0.9997</td>\n",
              "      <td>0.9997</td>\n",
              "      <td>0.9997</td>\n",
              "      <td>0.9997</td>\n",
              "      <td>0.9997</td>\n",
              "      <td>0.9997</td>\n",
              "      <td>0.9997</td>\n",
              "      <td>0.9997</td>\n",
              "      <td>0.9997</td>\n",
              "      <td>0.9998</td>\n",
              "    </tr>\n",
              "    <tr>\n",
              "      <th>3.50</th>\n",
              "      <td>0.9998</td>\n",
              "      <td>0.9998</td>\n",
              "      <td>0.9998</td>\n",
              "      <td>0.9998</td>\n",
              "      <td>0.9998</td>\n",
              "      <td>0.9998</td>\n",
              "      <td>0.9998</td>\n",
              "      <td>0.9998</td>\n",
              "      <td>0.9998</td>\n",
              "      <td>0.9998</td>\n",
              "    </tr>\n",
              "    <tr>\n",
              "      <th>3.60</th>\n",
              "      <td>0.9998</td>\n",
              "      <td>0.9998</td>\n",
              "      <td>0.9999</td>\n",
              "      <td>0.9999</td>\n",
              "      <td>0.9999</td>\n",
              "      <td>0.9999</td>\n",
              "      <td>0.9999</td>\n",
              "      <td>0.9999</td>\n",
              "      <td>0.9999</td>\n",
              "      <td>0.9999</td>\n",
              "    </tr>\n",
              "    <tr>\n",
              "      <th>3.70</th>\n",
              "      <td>0.9999</td>\n",
              "      <td>0.9999</td>\n",
              "      <td>0.9999</td>\n",
              "      <td>0.9999</td>\n",
              "      <td>0.9999</td>\n",
              "      <td>0.9999</td>\n",
              "      <td>0.9999</td>\n",
              "      <td>0.9999</td>\n",
              "      <td>0.9999</td>\n",
              "      <td>0.9999</td>\n",
              "    </tr>\n",
              "    <tr>\n",
              "      <th>3.80</th>\n",
              "      <td>0.9999</td>\n",
              "      <td>0.9999</td>\n",
              "      <td>0.9999</td>\n",
              "      <td>0.9999</td>\n",
              "      <td>0.9999</td>\n",
              "      <td>0.9999</td>\n",
              "      <td>0.9999</td>\n",
              "      <td>0.9999</td>\n",
              "      <td>0.9999</td>\n",
              "      <td>0.9999</td>\n",
              "    </tr>\n",
              "    <tr>\n",
              "      <th>3.90</th>\n",
              "      <td>1.0000</td>\n",
              "      <td>1.0000</td>\n",
              "      <td>1.0000</td>\n",
              "      <td>1.0000</td>\n",
              "      <td>1.0000</td>\n",
              "      <td>1.0000</td>\n",
              "      <td>1.0000</td>\n",
              "      <td>1.0000</td>\n",
              "      <td>1.0000</td>\n",
              "      <td>1.0000</td>\n",
              "    </tr>\n",
              "  </tbody>\n",
              "</table>\n",
              "</div>"
            ],
            "text/plain": [
              "Z       0.00    0.01    0.02    0.03  ...    0.06    0.07    0.08    0.09\n",
              "0.00  0.5000  0.5040  0.5080  0.5120  ...  0.5239  0.5279  0.5319  0.5359\n",
              "0.10  0.5398  0.5438  0.5478  0.5517  ...  0.5636  0.5675  0.5714  0.5753\n",
              "0.20  0.5793  0.5832  0.5871  0.5910  ...  0.6026  0.6064  0.6103  0.6141\n",
              "0.30  0.6179  0.6217  0.6255  0.6293  ...  0.6406  0.6443  0.6480  0.6517\n",
              "0.40  0.6554  0.6591  0.6628  0.6664  ...  0.6772  0.6808  0.6844  0.6879\n",
              "0.50  0.6915  0.6950  0.6985  0.7019  ...  0.7123  0.7157  0.7190  0.7224\n",
              "0.60  0.7257  0.7291  0.7324  0.7357  ...  0.7454  0.7486  0.7517  0.7549\n",
              "0.70  0.7580  0.7611  0.7642  0.7673  ...  0.7764  0.7794  0.7823  0.7852\n",
              "0.80  0.7881  0.7910  0.7939  0.7967  ...  0.8051  0.8078  0.8106  0.8133\n",
              "0.90  0.8159  0.8186  0.8212  0.8238  ...  0.8315  0.8340  0.8365  0.8389\n",
              "1.00  0.8413  0.8438  0.8461  0.8485  ...  0.8554  0.8577  0.8599  0.8621\n",
              "1.10  0.8643  0.8665  0.8686  0.8708  ...  0.8770  0.8790  0.8810  0.8830\n",
              "1.20  0.8849  0.8869  0.8888  0.8907  ...  0.8962  0.8980  0.8997  0.9015\n",
              "1.30  0.9032  0.9049  0.9066  0.9082  ...  0.9131  0.9147  0.9162  0.9177\n",
              "1.40  0.9192  0.9207  0.9222  0.9236  ...  0.9279  0.9292  0.9306  0.9319\n",
              "1.50  0.9332  0.9345  0.9357  0.9370  ...  0.9406  0.9418  0.9429  0.9441\n",
              "1.60  0.9452  0.9463  0.9474  0.9484  ...  0.9515  0.9525  0.9535  0.9545\n",
              "1.70  0.9554  0.9564  0.9573  0.9582  ...  0.9608  0.9616  0.9625  0.9633\n",
              "1.80  0.9641  0.9649  0.9656  0.9664  ...  0.9686  0.9693  0.9699  0.9706\n",
              "1.90  0.9713  0.9719  0.9726  0.9732  ...  0.9750  0.9756  0.9761  0.9767\n",
              "2.00  0.9772  0.9778  0.9783  0.9788  ...  0.9803  0.9808  0.9812  0.9817\n",
              "2.10  0.9821  0.9826  0.9830  0.9834  ...  0.9846  0.9850  0.9854  0.9857\n",
              "2.20  0.9861  0.9864  0.9868  0.9871  ...  0.9881  0.9884  0.9887  0.9890\n",
              "2.30  0.9893  0.9896  0.9898  0.9901  ...  0.9909  0.9911  0.9913  0.9916\n",
              "2.40  0.9918  0.9920  0.9922  0.9925  ...  0.9931  0.9932  0.9934  0.9936\n",
              "2.50  0.9938  0.9940  0.9941  0.9943  ...  0.9948  0.9949  0.9951  0.9952\n",
              "2.60  0.9953  0.9955  0.9956  0.9957  ...  0.9961  0.9962  0.9963  0.9964\n",
              "2.70  0.9965  0.9966  0.9967  0.9968  ...  0.9971  0.9972  0.9973  0.9974\n",
              "2.80  0.9974  0.9975  0.9976  0.9977  ...  0.9979  0.9979  0.9980  0.9981\n",
              "2.90  0.9981  0.9982  0.9982  0.9983  ...  0.9985  0.9985  0.9986  0.9986\n",
              "3.00  0.9987  0.9987  0.9987  0.9988  ...  0.9989  0.9989  0.9990  0.9990\n",
              "3.10  0.9990  0.9991  0.9991  0.9991  ...  0.9992  0.9992  0.9993  0.9993\n",
              "3.20  0.9993  0.9993  0.9994  0.9994  ...  0.9994  0.9995  0.9995  0.9995\n",
              "3.30  0.9995  0.9995  0.9995  0.9996  ...  0.9996  0.9996  0.9996  0.9997\n",
              "3.40  0.9997  0.9997  0.9997  0.9997  ...  0.9997  0.9997  0.9997  0.9998\n",
              "3.50  0.9998  0.9998  0.9998  0.9998  ...  0.9998  0.9998  0.9998  0.9998\n",
              "3.60  0.9998  0.9998  0.9999  0.9999  ...  0.9999  0.9999  0.9999  0.9999\n",
              "3.70  0.9999  0.9999  0.9999  0.9999  ...  0.9999  0.9999  0.9999  0.9999\n",
              "3.80  0.9999  0.9999  0.9999  0.9999  ...  0.9999  0.9999  0.9999  0.9999\n",
              "3.90  1.0000  1.0000  1.0000  1.0000  ...  1.0000  1.0000  1.0000  1.0000\n",
              "\n",
              "[40 rows x 10 columns]"
            ]
          },
          "metadata": {
            "tags": []
          },
          "execution_count": 8
        }
      ]
    },
    {
      "cell_type": "code",
      "metadata": {
        "id": "rxzQuMmhpHbo",
        "colab": {
          "base_uri": "https://localhost:8080/"
        },
        "outputId": "73d1cca3-c7e3-4e33-e971-0d2fc9f2e3b0"
      },
      "source": [
        "media = 1.70\r\n",
        "desvio_padrao = 0.1\r\n",
        "x = 1.80\r\n",
        "z = (x - media)/ desvio_padrao\r\n",
        "print(z)\r\n",
        "print(\"probabilidade = 0.8413\")\r\n",
        "\r\n",
        "#Com o resultado de z = 1, procura-se na tabela por z = 01.00 e valor 0.00 para se obter o valor 0.8413;\r\n",
        "#Caso Z = 1.05 por exemplo, procura-se por 1.00 e depois por 0.05 ao lado, ou seja, 0.8531."
      ],
      "execution_count": 9,
      "outputs": [
        {
          "output_type": "stream",
          "text": [
            "1.0000000000000009\n",
            "probabilidade = 0.8413\n"
          ],
          "name": "stdout"
        }
      ]
    },
    {
      "cell_type": "markdown",
      "metadata": {
        "id": "j-7zNvlfpITC"
      },
      "source": [
        "#### Solução 2"
      ]
    },
    {
      "cell_type": "code",
      "metadata": {
        "id": "cEYVNfYapLBR",
        "colab": {
          "base_uri": "https://localhost:8080/"
        },
        "outputId": "364e3980-a611-4b34-82bc-f8f955342a31"
      },
      "source": [
        "#Podemos passar o valor de z com a função .cdf()\r\n",
        "\r\n",
        "from scipy.stats import norm\r\n",
        "\r\n",
        "probabilidade = norm.cdf(z)\r\n",
        "print(probabilidade)"
      ],
      "execution_count": 10,
      "outputs": [
        {
          "output_type": "stream",
          "text": [
            "0.8413447460685431\n"
          ],
          "name": "stdout"
        }
      ]
    },
    {
      "cell_type": "markdown",
      "metadata": {
        "id": "YilGS9m015qY"
      },
      "source": [
        "# Teorema do Limite Central"
      ]
    },
    {
      "cell_type": "markdown",
      "metadata": {
        "id": "6IYVlgt22PkW"
      },
      "source": [
        "## O **Teorema do Limite Central** afirma que, com o aumento do tamanho da amostra, a distribuição das médias amostrais se aproxima de uma distribuição normal com média igual à média da população e desvio padrão igual ao desvio padrão da variável original dividido pela raiz quadrada do tamanho da amostra. Este fato é assegurado para $n$ maior ou igual a 30.\r\n",
        "\r\n",
        "\r\n",
        ".\r\n",
        "## $$\\sigma_\\bar{x} = \\frac{\\sigma}{\\sqrt{n}}$$\r\n",
        "​\r\n",
        "## O desvio padrão das médias amostrais é conhecido como **erro padrão da média**\r\n"
      ]
    },
    {
      "cell_type": "code",
      "metadata": {
        "id": "Hl9yEwIj21ju",
        "colab": {
          "base_uri": "https://localhost:8080/",
          "height": 0
        },
        "outputId": "523c7b2a-8c15-4a37-8c74-edfadaa2ce7b"
      },
      "source": [
        "import pandas as pd\r\n",
        "from zipfile import ZipFile\r\n",
        "\r\n",
        "caminho = \"/content/drive/MyDrive/cursos/bootcampDSalura/dados modulo 3/PeNSE_2015_AMOSTRA2.zip\"\r\n",
        "zip = ZipFile(caminho)\r\n",
        "caminho_pasta_zipada = zip.namelist()[1]\r\n",
        "\r\n",
        "dados = pd.read_csv(zip.open(caminho_pasta_zipada), sep = \";\", thousands = \".\", decimal = \",\")\r\n",
        "dados.head()"
      ],
      "execution_count": 11,
      "outputs": [
        {
          "output_type": "execute_result",
          "data": {
            "text/html": [
              "<div>\n",
              "<style scoped>\n",
              "    .dataframe tbody tr th:only-of-type {\n",
              "        vertical-align: middle;\n",
              "    }\n",
              "\n",
              "    .dataframe tbody tr th {\n",
              "        vertical-align: top;\n",
              "    }\n",
              "\n",
              "    .dataframe thead th {\n",
              "        text-align: right;\n",
              "    }\n",
              "</style>\n",
              "<table border=\"1\" class=\"dataframe\">\n",
              "  <thead>\n",
              "    <tr style=\"text-align: right;\">\n",
              "      <th></th>\n",
              "      <th>ANOPESQ</th>\n",
              "      <th>PAIS</th>\n",
              "      <th>REGEOGR</th>\n",
              "      <th>VB00004</th>\n",
              "      <th>VB01001</th>\n",
              "      <th>VB01002</th>\n",
              "      <th>VB01003</th>\n",
              "      <th>VB01004</th>\n",
              "      <th>VB01005</th>\n",
              "      <th>VB01006</th>\n",
              "      <th>VB01007</th>\n",
              "      <th>VB01008A</th>\n",
              "      <th>VB01010A</th>\n",
              "      <th>VB01011</th>\n",
              "      <th>VB01012</th>\n",
              "      <th>VB01013</th>\n",
              "      <th>VB01014</th>\n",
              "      <th>VB01015A</th>\n",
              "      <th>VB01016</th>\n",
              "      <th>VB01017</th>\n",
              "      <th>VB01018</th>\n",
              "      <th>VB01019</th>\n",
              "      <th>VB01020A</th>\n",
              "      <th>VB01021</th>\n",
              "      <th>VB01022</th>\n",
              "      <th>VB01023</th>\n",
              "      <th>VB01024</th>\n",
              "      <th>VB01025</th>\n",
              "      <th>VB01026</th>\n",
              "      <th>VB02001</th>\n",
              "      <th>VB02002</th>\n",
              "      <th>VB02004A</th>\n",
              "      <th>VB02010</th>\n",
              "      <th>VB02011</th>\n",
              "      <th>VB02013</th>\n",
              "      <th>VB02017A</th>\n",
              "      <th>VB02018A</th>\n",
              "      <th>VB02019A</th>\n",
              "      <th>VB02020A</th>\n",
              "      <th>VB02021</th>\n",
              "      <th>...</th>\n",
              "      <th>VB11005</th>\n",
              "      <th>VB11006</th>\n",
              "      <th>VB11007</th>\n",
              "      <th>VB12001</th>\n",
              "      <th>VB12002</th>\n",
              "      <th>VB12003</th>\n",
              "      <th>VB13001</th>\n",
              "      <th>VB13002A</th>\n",
              "      <th>VB13004A</th>\n",
              "      <th>VB13005</th>\n",
              "      <th>VB13006</th>\n",
              "      <th>VB13007</th>\n",
              "      <th>VB13008</th>\n",
              "      <th>VB13009</th>\n",
              "      <th>VB14001</th>\n",
              "      <th>VB14002</th>\n",
              "      <th>VB16001A01</th>\n",
              "      <th>VB16001A02</th>\n",
              "      <th>VB16001A03</th>\n",
              "      <th>VB16001A04</th>\n",
              "      <th>VB16001A05</th>\n",
              "      <th>VB16001A06</th>\n",
              "      <th>VB16001A07</th>\n",
              "      <th>VB16001A08</th>\n",
              "      <th>VB17001</th>\n",
              "      <th>VB17002</th>\n",
              "      <th>VB17003</th>\n",
              "      <th>VB17004</th>\n",
              "      <th>VB17005</th>\n",
              "      <th>VB17006</th>\n",
              "      <th>ESTRATO_EXP</th>\n",
              "      <th>ESTRATOGEOREG</th>\n",
              "      <th>PESO</th>\n",
              "      <th>V0006</th>\n",
              "      <th>V0007</th>\n",
              "      <th>V0008</th>\n",
              "      <th>V0041</th>\n",
              "      <th>aluno</th>\n",
              "      <th>escola</th>\n",
              "      <th>turma</th>\n",
              "    </tr>\n",
              "  </thead>\n",
              "  <tbody>\n",
              "    <tr>\n",
              "      <th>0</th>\n",
              "      <td>2015</td>\n",
              "      <td>76</td>\n",
              "      <td>1</td>\n",
              "      <td>1</td>\n",
              "      <td>2</td>\n",
              "      <td>1</td>\n",
              "      <td>13</td>\n",
              "      <td>7</td>\n",
              "      <td>7</td>\n",
              "      <td>1</td>\n",
              "      <td>2</td>\n",
              "      <td>7</td>\n",
              "      <td>3</td>\n",
              "      <td>2</td>\n",
              "      <td>-1</td>\n",
              "      <td>1</td>\n",
              "      <td>1</td>\n",
              "      <td>1</td>\n",
              "      <td>1</td>\n",
              "      <td>1</td>\n",
              "      <td>2</td>\n",
              "      <td>4</td>\n",
              "      <td>2</td>\n",
              "      <td>4</td>\n",
              "      <td>1</td>\n",
              "      <td>2</td>\n",
              "      <td>2</td>\n",
              "      <td>5</td>\n",
              "      <td>1</td>\n",
              "      <td>8</td>\n",
              "      <td>3</td>\n",
              "      <td>4</td>\n",
              "      <td>3</td>\n",
              "      <td>6</td>\n",
              "      <td>6</td>\n",
              "      <td>1</td>\n",
              "      <td>6</td>\n",
              "      <td>1</td>\n",
              "      <td>-1</td>\n",
              "      <td>2</td>\n",
              "      <td>...</td>\n",
              "      <td>2</td>\n",
              "      <td>1</td>\n",
              "      <td>2</td>\n",
              "      <td>1</td>\n",
              "      <td>1</td>\n",
              "      <td>4</td>\n",
              "      <td>2</td>\n",
              "      <td>-1</td>\n",
              "      <td>3</td>\n",
              "      <td>1</td>\n",
              "      <td>1</td>\n",
              "      <td>-1</td>\n",
              "      <td>1</td>\n",
              "      <td>1</td>\n",
              "      <td>2</td>\n",
              "      <td>2</td>\n",
              "      <td>1</td>\n",
              "      <td>2</td>\n",
              "      <td>2</td>\n",
              "      <td>2</td>\n",
              "      <td>2</td>\n",
              "      <td>2</td>\n",
              "      <td>2</td>\n",
              "      <td>2</td>\n",
              "      <td>371.0</td>\n",
              "      <td>1570.0</td>\n",
              "      <td>37.1</td>\n",
              "      <td>157.0</td>\n",
              "      <td>2</td>\n",
              "      <td>1</td>\n",
              "      <td>1223</td>\n",
              "      <td>1</td>\n",
              "      <td>299.735235</td>\n",
              "      <td>1</td>\n",
              "      <td>2</td>\n",
              "      <td>4</td>\n",
              "      <td>1</td>\n",
              "      <td>1</td>\n",
              "      <td>1</td>\n",
              "      <td>296</td>\n",
              "    </tr>\n",
              "    <tr>\n",
              "      <th>1</th>\n",
              "      <td>2015</td>\n",
              "      <td>76</td>\n",
              "      <td>1</td>\n",
              "      <td>1</td>\n",
              "      <td>2</td>\n",
              "      <td>1</td>\n",
              "      <td>14</td>\n",
              "      <td>4</td>\n",
              "      <td>7</td>\n",
              "      <td>1</td>\n",
              "      <td>1</td>\n",
              "      <td>7</td>\n",
              "      <td>3</td>\n",
              "      <td>2</td>\n",
              "      <td>-1</td>\n",
              "      <td>1</td>\n",
              "      <td>1</td>\n",
              "      <td>1</td>\n",
              "      <td>1</td>\n",
              "      <td>1</td>\n",
              "      <td>2</td>\n",
              "      <td>2</td>\n",
              "      <td>2</td>\n",
              "      <td>4</td>\n",
              "      <td>1</td>\n",
              "      <td>2</td>\n",
              "      <td>2</td>\n",
              "      <td>5</td>\n",
              "      <td>3</td>\n",
              "      <td>8</td>\n",
              "      <td>2</td>\n",
              "      <td>1</td>\n",
              "      <td>8</td>\n",
              "      <td>8</td>\n",
              "      <td>6</td>\n",
              "      <td>1</td>\n",
              "      <td>1</td>\n",
              "      <td>5</td>\n",
              "      <td>-1</td>\n",
              "      <td>2</td>\n",
              "      <td>...</td>\n",
              "      <td>2</td>\n",
              "      <td>3</td>\n",
              "      <td>2</td>\n",
              "      <td>4</td>\n",
              "      <td>4</td>\n",
              "      <td>4</td>\n",
              "      <td>1</td>\n",
              "      <td>2</td>\n",
              "      <td>3</td>\n",
              "      <td>3</td>\n",
              "      <td>1</td>\n",
              "      <td>-1</td>\n",
              "      <td>1</td>\n",
              "      <td>1</td>\n",
              "      <td>2</td>\n",
              "      <td>2</td>\n",
              "      <td>2</td>\n",
              "      <td>2</td>\n",
              "      <td>2</td>\n",
              "      <td>1</td>\n",
              "      <td>2</td>\n",
              "      <td>2</td>\n",
              "      <td>2</td>\n",
              "      <td>2</td>\n",
              "      <td>502.0</td>\n",
              "      <td>1520.0</td>\n",
              "      <td>50.2</td>\n",
              "      <td>152.0</td>\n",
              "      <td>2</td>\n",
              "      <td>2</td>\n",
              "      <td>1223</td>\n",
              "      <td>1</td>\n",
              "      <td>355.170081</td>\n",
              "      <td>1</td>\n",
              "      <td>2</td>\n",
              "      <td>4</td>\n",
              "      <td>1</td>\n",
              "      <td>2</td>\n",
              "      <td>1</td>\n",
              "      <td>296</td>\n",
              "    </tr>\n",
              "    <tr>\n",
              "      <th>2</th>\n",
              "      <td>2015</td>\n",
              "      <td>76</td>\n",
              "      <td>1</td>\n",
              "      <td>1</td>\n",
              "      <td>1</td>\n",
              "      <td>4</td>\n",
              "      <td>13</td>\n",
              "      <td>6</td>\n",
              "      <td>7</td>\n",
              "      <td>1</td>\n",
              "      <td>1</td>\n",
              "      <td>5</td>\n",
              "      <td>5</td>\n",
              "      <td>2</td>\n",
              "      <td>-1</td>\n",
              "      <td>2</td>\n",
              "      <td>1</td>\n",
              "      <td>1</td>\n",
              "      <td>1</td>\n",
              "      <td>1</td>\n",
              "      <td>2</td>\n",
              "      <td>3</td>\n",
              "      <td>1</td>\n",
              "      <td>4</td>\n",
              "      <td>1</td>\n",
              "      <td>2</td>\n",
              "      <td>2</td>\n",
              "      <td>5</td>\n",
              "      <td>3</td>\n",
              "      <td>2</td>\n",
              "      <td>3</td>\n",
              "      <td>1</td>\n",
              "      <td>8</td>\n",
              "      <td>2</td>\n",
              "      <td>8</td>\n",
              "      <td>1</td>\n",
              "      <td>1</td>\n",
              "      <td>5</td>\n",
              "      <td>5</td>\n",
              "      <td>1</td>\n",
              "      <td>...</td>\n",
              "      <td>2</td>\n",
              "      <td>1</td>\n",
              "      <td>2</td>\n",
              "      <td>1</td>\n",
              "      <td>2</td>\n",
              "      <td>3</td>\n",
              "      <td>1</td>\n",
              "      <td>2</td>\n",
              "      <td>1</td>\n",
              "      <td>2</td>\n",
              "      <td>5</td>\n",
              "      <td>99</td>\n",
              "      <td>1</td>\n",
              "      <td>-1</td>\n",
              "      <td>2</td>\n",
              "      <td>2</td>\n",
              "      <td>1</td>\n",
              "      <td>1</td>\n",
              "      <td>1</td>\n",
              "      <td>1</td>\n",
              "      <td>1</td>\n",
              "      <td>1</td>\n",
              "      <td>1</td>\n",
              "      <td>1</td>\n",
              "      <td>482.0</td>\n",
              "      <td>1614.0</td>\n",
              "      <td>48.2</td>\n",
              "      <td>161.4</td>\n",
              "      <td>2</td>\n",
              "      <td>2</td>\n",
              "      <td>1223</td>\n",
              "      <td>1</td>\n",
              "      <td>299.735235</td>\n",
              "      <td>1</td>\n",
              "      <td>2</td>\n",
              "      <td>4</td>\n",
              "      <td>1</td>\n",
              "      <td>3</td>\n",
              "      <td>1</td>\n",
              "      <td>296</td>\n",
              "    </tr>\n",
              "    <tr>\n",
              "      <th>3</th>\n",
              "      <td>2015</td>\n",
              "      <td>76</td>\n",
              "      <td>1</td>\n",
              "      <td>1</td>\n",
              "      <td>1</td>\n",
              "      <td>1</td>\n",
              "      <td>14</td>\n",
              "      <td>6</td>\n",
              "      <td>7</td>\n",
              "      <td>1</td>\n",
              "      <td>1</td>\n",
              "      <td>7</td>\n",
              "      <td>4</td>\n",
              "      <td>2</td>\n",
              "      <td>-1</td>\n",
              "      <td>1</td>\n",
              "      <td>1</td>\n",
              "      <td>1</td>\n",
              "      <td>1</td>\n",
              "      <td>1</td>\n",
              "      <td>2</td>\n",
              "      <td>4</td>\n",
              "      <td>2</td>\n",
              "      <td>4</td>\n",
              "      <td>1</td>\n",
              "      <td>2</td>\n",
              "      <td>2</td>\n",
              "      <td>6</td>\n",
              "      <td>3</td>\n",
              "      <td>2</td>\n",
              "      <td>4</td>\n",
              "      <td>1</td>\n",
              "      <td>3</td>\n",
              "      <td>2</td>\n",
              "      <td>7</td>\n",
              "      <td>1</td>\n",
              "      <td>5</td>\n",
              "      <td>1</td>\n",
              "      <td>-1</td>\n",
              "      <td>2</td>\n",
              "      <td>...</td>\n",
              "      <td>2</td>\n",
              "      <td>1</td>\n",
              "      <td>2</td>\n",
              "      <td>2</td>\n",
              "      <td>2</td>\n",
              "      <td>4</td>\n",
              "      <td>1</td>\n",
              "      <td>10</td>\n",
              "      <td>3</td>\n",
              "      <td>1</td>\n",
              "      <td>2</td>\n",
              "      <td>-1</td>\n",
              "      <td>1</td>\n",
              "      <td>-1</td>\n",
              "      <td>2</td>\n",
              "      <td>2</td>\n",
              "      <td>1</td>\n",
              "      <td>2</td>\n",
              "      <td>2</td>\n",
              "      <td>2</td>\n",
              "      <td>1</td>\n",
              "      <td>2</td>\n",
              "      <td>2</td>\n",
              "      <td>2</td>\n",
              "      <td>694.0</td>\n",
              "      <td>1725.0</td>\n",
              "      <td>69.4</td>\n",
              "      <td>172.5</td>\n",
              "      <td>2</td>\n",
              "      <td>3</td>\n",
              "      <td>1223</td>\n",
              "      <td>1</td>\n",
              "      <td>355.170081</td>\n",
              "      <td>1</td>\n",
              "      <td>2</td>\n",
              "      <td>4</td>\n",
              "      <td>1</td>\n",
              "      <td>4</td>\n",
              "      <td>1</td>\n",
              "      <td>296</td>\n",
              "    </tr>\n",
              "    <tr>\n",
              "      <th>4</th>\n",
              "      <td>2015</td>\n",
              "      <td>76</td>\n",
              "      <td>1</td>\n",
              "      <td>1</td>\n",
              "      <td>1</td>\n",
              "      <td>1</td>\n",
              "      <td>13</td>\n",
              "      <td>9</td>\n",
              "      <td>7</td>\n",
              "      <td>1</td>\n",
              "      <td>2</td>\n",
              "      <td>5</td>\n",
              "      <td>4</td>\n",
              "      <td>2</td>\n",
              "      <td>-1</td>\n",
              "      <td>2</td>\n",
              "      <td>1</td>\n",
              "      <td>1</td>\n",
              "      <td>1</td>\n",
              "      <td>1</td>\n",
              "      <td>2</td>\n",
              "      <td>5</td>\n",
              "      <td>1</td>\n",
              "      <td>4</td>\n",
              "      <td>1</td>\n",
              "      <td>2</td>\n",
              "      <td>2</td>\n",
              "      <td>6</td>\n",
              "      <td>5</td>\n",
              "      <td>6</td>\n",
              "      <td>3</td>\n",
              "      <td>5</td>\n",
              "      <td>2</td>\n",
              "      <td>6</td>\n",
              "      <td>2</td>\n",
              "      <td>1</td>\n",
              "      <td>5</td>\n",
              "      <td>1</td>\n",
              "      <td>5</td>\n",
              "      <td>1</td>\n",
              "      <td>...</td>\n",
              "      <td>2</td>\n",
              "      <td>1</td>\n",
              "      <td>4</td>\n",
              "      <td>2</td>\n",
              "      <td>2</td>\n",
              "      <td>4</td>\n",
              "      <td>1</td>\n",
              "      <td>3</td>\n",
              "      <td>2</td>\n",
              "      <td>2</td>\n",
              "      <td>2</td>\n",
              "      <td>13</td>\n",
              "      <td>1</td>\n",
              "      <td>-1</td>\n",
              "      <td>1</td>\n",
              "      <td>2</td>\n",
              "      <td>1</td>\n",
              "      <td>1</td>\n",
              "      <td>1</td>\n",
              "      <td>1</td>\n",
              "      <td>1</td>\n",
              "      <td>1</td>\n",
              "      <td>1</td>\n",
              "      <td>1</td>\n",
              "      <td>789.0</td>\n",
              "      <td>1675.0</td>\n",
              "      <td>78.9</td>\n",
              "      <td>167.5</td>\n",
              "      <td>2</td>\n",
              "      <td>4</td>\n",
              "      <td>1223</td>\n",
              "      <td>1</td>\n",
              "      <td>299.735235</td>\n",
              "      <td>1</td>\n",
              "      <td>2</td>\n",
              "      <td>4</td>\n",
              "      <td>1</td>\n",
              "      <td>5</td>\n",
              "      <td>1</td>\n",
              "      <td>296</td>\n",
              "    </tr>\n",
              "  </tbody>\n",
              "</table>\n",
              "<p>5 rows × 181 columns</p>\n",
              "</div>"
            ],
            "text/plain": [
              "   ANOPESQ  PAIS  REGEOGR  VB00004  VB01001  ...  V0008  V0041  aluno  escola  turma\n",
              "0     2015    76        1        1        2  ...      4      1      1       1    296\n",
              "1     2015    76        1        1        2  ...      4      1      2       1    296\n",
              "2     2015    76        1        1        1  ...      4      1      3       1    296\n",
              "3     2015    76        1        1        1  ...      4      1      4       1    296\n",
              "4     2015    76        1        1        1  ...      4      1      5       1    296\n",
              "\n",
              "[5 rows x 181 columns]"
            ]
          },
          "metadata": {
            "tags": []
          },
          "execution_count": 11
        }
      ]
    },
    {
      "cell_type": "code",
      "metadata": {
        "id": "_e7RCOig2Up8",
        "colab": {
          "base_uri": "https://localhost:8080/"
        },
        "outputId": "2af6be75-b405-4af7-b4f9-299b3077166c"
      },
      "source": [
        "dados[\"IMC\"] = dados[\"VB17003\"]/ ((dados[\"VB17004\"]/100)**2)\r\n",
        "dados[\"IMC\"]"
      ],
      "execution_count": 12,
      "outputs": [
        {
          "output_type": "execute_result",
          "data": {
            "text/plain": [
              "0        15.051321\n",
              "1        21.727839\n",
              "2        18.502907\n",
              "3        23.322831\n",
              "4        28.122076\n",
              "           ...    \n",
              "16551    20.113223\n",
              "16552    17.930782\n",
              "16553    23.968489\n",
              "16554    18.995343\n",
              "16555    23.303246\n",
              "Name: IMC, Length: 16556, dtype: float64"
            ]
          },
          "metadata": {
            "tags": []
          },
          "execution_count": 12
        }
      ]
    },
    {
      "cell_type": "code",
      "metadata": {
        "id": "N7a-yveg2Vka",
        "colab": {
          "base_uri": "https://localhost:8080/",
          "height": 0
        },
        "outputId": "5cce1149-bc03-4b33-f8a3-5e3de0307563"
      },
      "source": [
        "#Criando 1500 amostras de 2000 elementos\r\n",
        "\r\n",
        "n = 2000\r\n",
        "total_de_amostras = 1500\r\n",
        "amostras = pd.DataFrame()\r\n",
        "for i in range(total_de_amostras):\r\n",
        "  _ = dados.IMC.sample(n)\r\n",
        "  _.index = range(0, len(_))\r\n",
        "  amostras['Amostra_' + str(i)] = _\r\n",
        "\r\n",
        "amostras"
      ],
      "execution_count": 13,
      "outputs": [
        {
          "output_type": "execute_result",
          "data": {
            "text/html": [
              "<div>\n",
              "<style scoped>\n",
              "    .dataframe tbody tr th:only-of-type {\n",
              "        vertical-align: middle;\n",
              "    }\n",
              "\n",
              "    .dataframe tbody tr th {\n",
              "        vertical-align: top;\n",
              "    }\n",
              "\n",
              "    .dataframe thead th {\n",
              "        text-align: right;\n",
              "    }\n",
              "</style>\n",
              "<table border=\"1\" class=\"dataframe\">\n",
              "  <thead>\n",
              "    <tr style=\"text-align: right;\">\n",
              "      <th></th>\n",
              "      <th>Amostra_0</th>\n",
              "      <th>Amostra_1</th>\n",
              "      <th>Amostra_2</th>\n",
              "      <th>Amostra_3</th>\n",
              "      <th>Amostra_4</th>\n",
              "      <th>Amostra_5</th>\n",
              "      <th>Amostra_6</th>\n",
              "      <th>Amostra_7</th>\n",
              "      <th>Amostra_8</th>\n",
              "      <th>Amostra_9</th>\n",
              "      <th>Amostra_10</th>\n",
              "      <th>Amostra_11</th>\n",
              "      <th>Amostra_12</th>\n",
              "      <th>Amostra_13</th>\n",
              "      <th>Amostra_14</th>\n",
              "      <th>Amostra_15</th>\n",
              "      <th>Amostra_16</th>\n",
              "      <th>Amostra_17</th>\n",
              "      <th>Amostra_18</th>\n",
              "      <th>Amostra_19</th>\n",
              "      <th>Amostra_20</th>\n",
              "      <th>Amostra_21</th>\n",
              "      <th>Amostra_22</th>\n",
              "      <th>Amostra_23</th>\n",
              "      <th>Amostra_24</th>\n",
              "      <th>Amostra_25</th>\n",
              "      <th>Amostra_26</th>\n",
              "      <th>Amostra_27</th>\n",
              "      <th>Amostra_28</th>\n",
              "      <th>Amostra_29</th>\n",
              "      <th>Amostra_30</th>\n",
              "      <th>Amostra_31</th>\n",
              "      <th>Amostra_32</th>\n",
              "      <th>Amostra_33</th>\n",
              "      <th>Amostra_34</th>\n",
              "      <th>Amostra_35</th>\n",
              "      <th>Amostra_36</th>\n",
              "      <th>Amostra_37</th>\n",
              "      <th>Amostra_38</th>\n",
              "      <th>Amostra_39</th>\n",
              "      <th>...</th>\n",
              "      <th>Amostra_1460</th>\n",
              "      <th>Amostra_1461</th>\n",
              "      <th>Amostra_1462</th>\n",
              "      <th>Amostra_1463</th>\n",
              "      <th>Amostra_1464</th>\n",
              "      <th>Amostra_1465</th>\n",
              "      <th>Amostra_1466</th>\n",
              "      <th>Amostra_1467</th>\n",
              "      <th>Amostra_1468</th>\n",
              "      <th>Amostra_1469</th>\n",
              "      <th>Amostra_1470</th>\n",
              "      <th>Amostra_1471</th>\n",
              "      <th>Amostra_1472</th>\n",
              "      <th>Amostra_1473</th>\n",
              "      <th>Amostra_1474</th>\n",
              "      <th>Amostra_1475</th>\n",
              "      <th>Amostra_1476</th>\n",
              "      <th>Amostra_1477</th>\n",
              "      <th>Amostra_1478</th>\n",
              "      <th>Amostra_1479</th>\n",
              "      <th>Amostra_1480</th>\n",
              "      <th>Amostra_1481</th>\n",
              "      <th>Amostra_1482</th>\n",
              "      <th>Amostra_1483</th>\n",
              "      <th>Amostra_1484</th>\n",
              "      <th>Amostra_1485</th>\n",
              "      <th>Amostra_1486</th>\n",
              "      <th>Amostra_1487</th>\n",
              "      <th>Amostra_1488</th>\n",
              "      <th>Amostra_1489</th>\n",
              "      <th>Amostra_1490</th>\n",
              "      <th>Amostra_1491</th>\n",
              "      <th>Amostra_1492</th>\n",
              "      <th>Amostra_1493</th>\n",
              "      <th>Amostra_1494</th>\n",
              "      <th>Amostra_1495</th>\n",
              "      <th>Amostra_1496</th>\n",
              "      <th>Amostra_1497</th>\n",
              "      <th>Amostra_1498</th>\n",
              "      <th>Amostra_1499</th>\n",
              "    </tr>\n",
              "  </thead>\n",
              "  <tbody>\n",
              "    <tr>\n",
              "      <th>0</th>\n",
              "      <td>16.254644</td>\n",
              "      <td>21.262377</td>\n",
              "      <td>17.429906</td>\n",
              "      <td>21.874135</td>\n",
              "      <td>23.126909</td>\n",
              "      <td>18.048036</td>\n",
              "      <td>28.246193</td>\n",
              "      <td>29.927834</td>\n",
              "      <td>25.608382</td>\n",
              "      <td>17.738195</td>\n",
              "      <td>21.958496</td>\n",
              "      <td>19.835163</td>\n",
              "      <td>19.316617</td>\n",
              "      <td>30.117257</td>\n",
              "      <td>23.339562</td>\n",
              "      <td>20.227772</td>\n",
              "      <td>16.684861</td>\n",
              "      <td>15.920018</td>\n",
              "      <td>18.328742</td>\n",
              "      <td>18.567192</td>\n",
              "      <td>25.608382</td>\n",
              "      <td>22.206331</td>\n",
              "      <td>23.667148</td>\n",
              "      <td>20.264472</td>\n",
              "      <td>18.737726</td>\n",
              "      <td>33.518788</td>\n",
              "      <td>18.179298</td>\n",
              "      <td>21.510478</td>\n",
              "      <td>20.085177</td>\n",
              "      <td>26.373755</td>\n",
              "      <td>22.708811</td>\n",
              "      <td>19.567589</td>\n",
              "      <td>18.546616</td>\n",
              "      <td>16.522449</td>\n",
              "      <td>29.696263</td>\n",
              "      <td>13.015410</td>\n",
              "      <td>17.232409</td>\n",
              "      <td>41.162290</td>\n",
              "      <td>16.992521</td>\n",
              "      <td>20.443594</td>\n",
              "      <td>...</td>\n",
              "      <td>24.582464</td>\n",
              "      <td>17.508705</td>\n",
              "      <td>25.420146</td>\n",
              "      <td>16.727458</td>\n",
              "      <td>16.198349</td>\n",
              "      <td>15.602182</td>\n",
              "      <td>15.943773</td>\n",
              "      <td>24.114557</td>\n",
              "      <td>28.864543</td>\n",
              "      <td>18.325920</td>\n",
              "      <td>19.323750</td>\n",
              "      <td>15.760000</td>\n",
              "      <td>20.406081</td>\n",
              "      <td>19.902254</td>\n",
              "      <td>19.824573</td>\n",
              "      <td>25.846483</td>\n",
              "      <td>21.693917</td>\n",
              "      <td>21.977729</td>\n",
              "      <td>19.266255</td>\n",
              "      <td>15.560623</td>\n",
              "      <td>28.854304</td>\n",
              "      <td>21.208449</td>\n",
              "      <td>15.168666</td>\n",
              "      <td>23.967383</td>\n",
              "      <td>21.530013</td>\n",
              "      <td>32.123736</td>\n",
              "      <td>19.923621</td>\n",
              "      <td>19.740324</td>\n",
              "      <td>20.537815</td>\n",
              "      <td>23.201055</td>\n",
              "      <td>20.544420</td>\n",
              "      <td>18.146334</td>\n",
              "      <td>26.305931</td>\n",
              "      <td>27.304142</td>\n",
              "      <td>22.574885</td>\n",
              "      <td>15.555941</td>\n",
              "      <td>17.019226</td>\n",
              "      <td>22.616199</td>\n",
              "      <td>18.208601</td>\n",
              "      <td>15.863896</td>\n",
              "    </tr>\n",
              "    <tr>\n",
              "      <th>1</th>\n",
              "      <td>19.010651</td>\n",
              "      <td>24.921163</td>\n",
              "      <td>17.208523</td>\n",
              "      <td>24.078988</td>\n",
              "      <td>21.372578</td>\n",
              "      <td>16.700592</td>\n",
              "      <td>19.237154</td>\n",
              "      <td>21.166763</td>\n",
              "      <td>19.706291</td>\n",
              "      <td>21.582473</td>\n",
              "      <td>17.549648</td>\n",
              "      <td>22.328635</td>\n",
              "      <td>17.856036</td>\n",
              "      <td>17.845337</td>\n",
              "      <td>18.900819</td>\n",
              "      <td>21.270554</td>\n",
              "      <td>19.330274</td>\n",
              "      <td>17.337006</td>\n",
              "      <td>19.169550</td>\n",
              "      <td>25.341542</td>\n",
              "      <td>19.237154</td>\n",
              "      <td>19.770408</td>\n",
              "      <td>21.187912</td>\n",
              "      <td>19.320104</td>\n",
              "      <td>26.351950</td>\n",
              "      <td>17.700831</td>\n",
              "      <td>18.912424</td>\n",
              "      <td>24.853534</td>\n",
              "      <td>21.274138</td>\n",
              "      <td>22.105036</td>\n",
              "      <td>20.728547</td>\n",
              "      <td>18.051974</td>\n",
              "      <td>17.656576</td>\n",
              "      <td>20.790289</td>\n",
              "      <td>19.767515</td>\n",
              "      <td>22.134961</td>\n",
              "      <td>21.191837</td>\n",
              "      <td>18.155927</td>\n",
              "      <td>27.780127</td>\n",
              "      <td>20.355223</td>\n",
              "      <td>...</td>\n",
              "      <td>21.929957</td>\n",
              "      <td>19.288707</td>\n",
              "      <td>33.015873</td>\n",
              "      <td>26.833269</td>\n",
              "      <td>15.555556</td>\n",
              "      <td>21.601725</td>\n",
              "      <td>20.047973</td>\n",
              "      <td>23.496204</td>\n",
              "      <td>26.850321</td>\n",
              "      <td>28.299415</td>\n",
              "      <td>25.114358</td>\n",
              "      <td>23.692502</td>\n",
              "      <td>23.157677</td>\n",
              "      <td>27.114839</td>\n",
              "      <td>32.548164</td>\n",
              "      <td>18.943243</td>\n",
              "      <td>23.844449</td>\n",
              "      <td>21.625620</td>\n",
              "      <td>35.399268</td>\n",
              "      <td>18.375461</td>\n",
              "      <td>29.737291</td>\n",
              "      <td>19.677338</td>\n",
              "      <td>18.365473</td>\n",
              "      <td>20.732743</td>\n",
              "      <td>19.187063</td>\n",
              "      <td>15.587327</td>\n",
              "      <td>20.245217</td>\n",
              "      <td>27.075520</td>\n",
              "      <td>23.903806</td>\n",
              "      <td>27.926556</td>\n",
              "      <td>24.916776</td>\n",
              "      <td>20.296818</td>\n",
              "      <td>20.000000</td>\n",
              "      <td>19.744693</td>\n",
              "      <td>21.905605</td>\n",
              "      <td>23.807591</td>\n",
              "      <td>28.352808</td>\n",
              "      <td>19.566574</td>\n",
              "      <td>20.462208</td>\n",
              "      <td>21.687039</td>\n",
              "    </tr>\n",
              "    <tr>\n",
              "      <th>2</th>\n",
              "      <td>19.247122</td>\n",
              "      <td>21.529468</td>\n",
              "      <td>16.767160</td>\n",
              "      <td>26.336088</td>\n",
              "      <td>31.016927</td>\n",
              "      <td>27.105723</td>\n",
              "      <td>20.004572</td>\n",
              "      <td>20.383760</td>\n",
              "      <td>20.990555</td>\n",
              "      <td>22.978307</td>\n",
              "      <td>31.001754</td>\n",
              "      <td>15.497561</td>\n",
              "      <td>18.082920</td>\n",
              "      <td>20.514456</td>\n",
              "      <td>22.208901</td>\n",
              "      <td>27.168757</td>\n",
              "      <td>21.199785</td>\n",
              "      <td>21.864514</td>\n",
              "      <td>21.166763</td>\n",
              "      <td>14.124542</td>\n",
              "      <td>26.649863</td>\n",
              "      <td>24.624726</td>\n",
              "      <td>18.329262</td>\n",
              "      <td>28.456105</td>\n",
              "      <td>28.236440</td>\n",
              "      <td>19.960937</td>\n",
              "      <td>31.862403</td>\n",
              "      <td>22.158044</td>\n",
              "      <td>17.346358</td>\n",
              "      <td>21.684968</td>\n",
              "      <td>16.383592</td>\n",
              "      <td>20.523057</td>\n",
              "      <td>20.242490</td>\n",
              "      <td>27.036735</td>\n",
              "      <td>17.269737</td>\n",
              "      <td>15.973619</td>\n",
              "      <td>22.196876</td>\n",
              "      <td>17.571261</td>\n",
              "      <td>17.480591</td>\n",
              "      <td>23.018093</td>\n",
              "      <td>...</td>\n",
              "      <td>26.577030</td>\n",
              "      <td>23.790707</td>\n",
              "      <td>20.406081</td>\n",
              "      <td>29.570250</td>\n",
              "      <td>17.695869</td>\n",
              "      <td>19.369313</td>\n",
              "      <td>29.761735</td>\n",
              "      <td>18.300192</td>\n",
              "      <td>24.620033</td>\n",
              "      <td>19.278176</td>\n",
              "      <td>19.490164</td>\n",
              "      <td>18.984054</td>\n",
              "      <td>19.757299</td>\n",
              "      <td>19.566242</td>\n",
              "      <td>21.043689</td>\n",
              "      <td>21.394561</td>\n",
              "      <td>15.091173</td>\n",
              "      <td>27.927201</td>\n",
              "      <td>23.923309</td>\n",
              "      <td>17.044910</td>\n",
              "      <td>22.629460</td>\n",
              "      <td>17.751421</td>\n",
              "      <td>17.433538</td>\n",
              "      <td>12.823901</td>\n",
              "      <td>19.101212</td>\n",
              "      <td>22.775556</td>\n",
              "      <td>17.408234</td>\n",
              "      <td>17.120161</td>\n",
              "      <td>26.713671</td>\n",
              "      <td>32.697053</td>\n",
              "      <td>18.454441</td>\n",
              "      <td>37.776939</td>\n",
              "      <td>21.197061</td>\n",
              "      <td>17.797084</td>\n",
              "      <td>16.474899</td>\n",
              "      <td>26.824812</td>\n",
              "      <td>19.464463</td>\n",
              "      <td>20.789938</td>\n",
              "      <td>20.954943</td>\n",
              "      <td>21.420258</td>\n",
              "    </tr>\n",
              "    <tr>\n",
              "      <th>3</th>\n",
              "      <td>16.799154</td>\n",
              "      <td>20.269332</td>\n",
              "      <td>16.959289</td>\n",
              "      <td>18.592223</td>\n",
              "      <td>21.034965</td>\n",
              "      <td>40.039921</td>\n",
              "      <td>27.616490</td>\n",
              "      <td>20.940073</td>\n",
              "      <td>18.988485</td>\n",
              "      <td>15.942584</td>\n",
              "      <td>35.712857</td>\n",
              "      <td>21.740380</td>\n",
              "      <td>20.897959</td>\n",
              "      <td>20.889858</td>\n",
              "      <td>37.903965</td>\n",
              "      <td>22.265421</td>\n",
              "      <td>21.653612</td>\n",
              "      <td>18.274227</td>\n",
              "      <td>21.787921</td>\n",
              "      <td>22.582090</td>\n",
              "      <td>16.736927</td>\n",
              "      <td>18.639533</td>\n",
              "      <td>31.524313</td>\n",
              "      <td>20.371569</td>\n",
              "      <td>13.074025</td>\n",
              "      <td>18.854811</td>\n",
              "      <td>16.528093</td>\n",
              "      <td>24.174115</td>\n",
              "      <td>22.524440</td>\n",
              "      <td>18.013756</td>\n",
              "      <td>20.331474</td>\n",
              "      <td>22.263451</td>\n",
              "      <td>20.832586</td>\n",
              "      <td>19.797880</td>\n",
              "      <td>26.242786</td>\n",
              "      <td>22.939724</td>\n",
              "      <td>26.914133</td>\n",
              "      <td>21.921275</td>\n",
              "      <td>19.823765</td>\n",
              "      <td>22.134961</td>\n",
              "      <td>...</td>\n",
              "      <td>31.545543</td>\n",
              "      <td>16.127358</td>\n",
              "      <td>20.642792</td>\n",
              "      <td>17.457988</td>\n",
              "      <td>17.127022</td>\n",
              "      <td>14.068212</td>\n",
              "      <td>31.877240</td>\n",
              "      <td>20.115898</td>\n",
              "      <td>26.854492</td>\n",
              "      <td>17.498238</td>\n",
              "      <td>16.459520</td>\n",
              "      <td>30.247836</td>\n",
              "      <td>28.199950</td>\n",
              "      <td>20.603538</td>\n",
              "      <td>17.275930</td>\n",
              "      <td>17.338109</td>\n",
              "      <td>18.661576</td>\n",
              "      <td>16.800306</td>\n",
              "      <td>20.664405</td>\n",
              "      <td>21.007147</td>\n",
              "      <td>19.966455</td>\n",
              "      <td>15.855142</td>\n",
              "      <td>31.406985</td>\n",
              "      <td>21.345470</td>\n",
              "      <td>16.244846</td>\n",
              "      <td>15.374871</td>\n",
              "      <td>13.559322</td>\n",
              "      <td>20.411979</td>\n",
              "      <td>27.553505</td>\n",
              "      <td>18.749816</td>\n",
              "      <td>16.502761</td>\n",
              "      <td>22.987284</td>\n",
              "      <td>28.318521</td>\n",
              "      <td>22.360946</td>\n",
              "      <td>21.037597</td>\n",
              "      <td>22.641354</td>\n",
              "      <td>33.237469</td>\n",
              "      <td>17.906084</td>\n",
              "      <td>18.900563</td>\n",
              "      <td>16.447740</td>\n",
              "    </tr>\n",
              "    <tr>\n",
              "      <th>4</th>\n",
              "      <td>18.980749</td>\n",
              "      <td>20.013002</td>\n",
              "      <td>21.631149</td>\n",
              "      <td>26.894306</td>\n",
              "      <td>29.832840</td>\n",
              "      <td>24.979690</td>\n",
              "      <td>20.779003</td>\n",
              "      <td>36.953206</td>\n",
              "      <td>21.001156</td>\n",
              "      <td>16.428010</td>\n",
              "      <td>15.449177</td>\n",
              "      <td>36.109198</td>\n",
              "      <td>18.644491</td>\n",
              "      <td>21.535829</td>\n",
              "      <td>15.782382</td>\n",
              "      <td>21.258476</td>\n",
              "      <td>21.611882</td>\n",
              "      <td>16.547570</td>\n",
              "      <td>15.717956</td>\n",
              "      <td>14.349430</td>\n",
              "      <td>24.213119</td>\n",
              "      <td>18.521362</td>\n",
              "      <td>16.251541</td>\n",
              "      <td>21.712116</td>\n",
              "      <td>23.494401</td>\n",
              "      <td>20.668968</td>\n",
              "      <td>28.236440</td>\n",
              "      <td>21.766971</td>\n",
              "      <td>20.244229</td>\n",
              "      <td>21.717987</td>\n",
              "      <td>20.237387</td>\n",
              "      <td>23.470298</td>\n",
              "      <td>17.056411</td>\n",
              "      <td>17.789876</td>\n",
              "      <td>20.277148</td>\n",
              "      <td>19.414062</td>\n",
              "      <td>19.465089</td>\n",
              "      <td>27.678446</td>\n",
              "      <td>16.976920</td>\n",
              "      <td>20.272356</td>\n",
              "      <td>...</td>\n",
              "      <td>16.755244</td>\n",
              "      <td>19.001765</td>\n",
              "      <td>26.713671</td>\n",
              "      <td>26.088217</td>\n",
              "      <td>20.373476</td>\n",
              "      <td>24.306227</td>\n",
              "      <td>17.912004</td>\n",
              "      <td>24.671702</td>\n",
              "      <td>20.220048</td>\n",
              "      <td>17.874753</td>\n",
              "      <td>18.595733</td>\n",
              "      <td>18.331106</td>\n",
              "      <td>20.020812</td>\n",
              "      <td>14.571763</td>\n",
              "      <td>19.202763</td>\n",
              "      <td>38.950256</td>\n",
              "      <td>14.068212</td>\n",
              "      <td>19.297399</td>\n",
              "      <td>38.497337</td>\n",
              "      <td>26.923783</td>\n",
              "      <td>23.182893</td>\n",
              "      <td>21.234259</td>\n",
              "      <td>22.632399</td>\n",
              "      <td>23.116695</td>\n",
              "      <td>20.705390</td>\n",
              "      <td>15.096419</td>\n",
              "      <td>15.596026</td>\n",
              "      <td>20.907197</td>\n",
              "      <td>18.986571</td>\n",
              "      <td>21.826904</td>\n",
              "      <td>27.703852</td>\n",
              "      <td>18.057196</td>\n",
              "      <td>24.034407</td>\n",
              "      <td>21.321995</td>\n",
              "      <td>26.159398</td>\n",
              "      <td>18.626823</td>\n",
              "      <td>18.322225</td>\n",
              "      <td>18.833868</td>\n",
              "      <td>30.115048</td>\n",
              "      <td>21.378298</td>\n",
              "    </tr>\n",
              "    <tr>\n",
              "      <th>...</th>\n",
              "      <td>...</td>\n",
              "      <td>...</td>\n",
              "      <td>...</td>\n",
              "      <td>...</td>\n",
              "      <td>...</td>\n",
              "      <td>...</td>\n",
              "      <td>...</td>\n",
              "      <td>...</td>\n",
              "      <td>...</td>\n",
              "      <td>...</td>\n",
              "      <td>...</td>\n",
              "      <td>...</td>\n",
              "      <td>...</td>\n",
              "      <td>...</td>\n",
              "      <td>...</td>\n",
              "      <td>...</td>\n",
              "      <td>...</td>\n",
              "      <td>...</td>\n",
              "      <td>...</td>\n",
              "      <td>...</td>\n",
              "      <td>...</td>\n",
              "      <td>...</td>\n",
              "      <td>...</td>\n",
              "      <td>...</td>\n",
              "      <td>...</td>\n",
              "      <td>...</td>\n",
              "      <td>...</td>\n",
              "      <td>...</td>\n",
              "      <td>...</td>\n",
              "      <td>...</td>\n",
              "      <td>...</td>\n",
              "      <td>...</td>\n",
              "      <td>...</td>\n",
              "      <td>...</td>\n",
              "      <td>...</td>\n",
              "      <td>...</td>\n",
              "      <td>...</td>\n",
              "      <td>...</td>\n",
              "      <td>...</td>\n",
              "      <td>...</td>\n",
              "      <td>...</td>\n",
              "      <td>...</td>\n",
              "      <td>...</td>\n",
              "      <td>...</td>\n",
              "      <td>...</td>\n",
              "      <td>...</td>\n",
              "      <td>...</td>\n",
              "      <td>...</td>\n",
              "      <td>...</td>\n",
              "      <td>...</td>\n",
              "      <td>...</td>\n",
              "      <td>...</td>\n",
              "      <td>...</td>\n",
              "      <td>...</td>\n",
              "      <td>...</td>\n",
              "      <td>...</td>\n",
              "      <td>...</td>\n",
              "      <td>...</td>\n",
              "      <td>...</td>\n",
              "      <td>...</td>\n",
              "      <td>...</td>\n",
              "      <td>...</td>\n",
              "      <td>...</td>\n",
              "      <td>...</td>\n",
              "      <td>...</td>\n",
              "      <td>...</td>\n",
              "      <td>...</td>\n",
              "      <td>...</td>\n",
              "      <td>...</td>\n",
              "      <td>...</td>\n",
              "      <td>...</td>\n",
              "      <td>...</td>\n",
              "      <td>...</td>\n",
              "      <td>...</td>\n",
              "      <td>...</td>\n",
              "      <td>...</td>\n",
              "      <td>...</td>\n",
              "      <td>...</td>\n",
              "      <td>...</td>\n",
              "      <td>...</td>\n",
              "      <td>...</td>\n",
              "    </tr>\n",
              "    <tr>\n",
              "      <th>1995</th>\n",
              "      <td>21.659186</td>\n",
              "      <td>31.712261</td>\n",
              "      <td>22.704798</td>\n",
              "      <td>15.992309</td>\n",
              "      <td>20.645776</td>\n",
              "      <td>20.763980</td>\n",
              "      <td>22.812595</td>\n",
              "      <td>16.485342</td>\n",
              "      <td>19.603394</td>\n",
              "      <td>19.011661</td>\n",
              "      <td>27.303438</td>\n",
              "      <td>19.114187</td>\n",
              "      <td>17.605508</td>\n",
              "      <td>21.194429</td>\n",
              "      <td>16.706205</td>\n",
              "      <td>16.892940</td>\n",
              "      <td>17.573849</td>\n",
              "      <td>23.043983</td>\n",
              "      <td>19.585924</td>\n",
              "      <td>20.389445</td>\n",
              "      <td>20.658978</td>\n",
              "      <td>18.151124</td>\n",
              "      <td>16.198349</td>\n",
              "      <td>22.210411</td>\n",
              "      <td>18.064794</td>\n",
              "      <td>25.057232</td>\n",
              "      <td>16.615485</td>\n",
              "      <td>22.687243</td>\n",
              "      <td>21.396049</td>\n",
              "      <td>21.366869</td>\n",
              "      <td>20.799142</td>\n",
              "      <td>25.629923</td>\n",
              "      <td>17.853499</td>\n",
              "      <td>22.565889</td>\n",
              "      <td>19.120197</td>\n",
              "      <td>29.299512</td>\n",
              "      <td>16.742282</td>\n",
              "      <td>30.820949</td>\n",
              "      <td>18.200692</td>\n",
              "      <td>16.251747</td>\n",
              "      <td>...</td>\n",
              "      <td>23.634033</td>\n",
              "      <td>17.360285</td>\n",
              "      <td>21.577381</td>\n",
              "      <td>19.865550</td>\n",
              "      <td>17.655360</td>\n",
              "      <td>17.736433</td>\n",
              "      <td>26.177412</td>\n",
              "      <td>23.052949</td>\n",
              "      <td>18.243204</td>\n",
              "      <td>20.645776</td>\n",
              "      <td>16.752402</td>\n",
              "      <td>18.249815</td>\n",
              "      <td>22.423738</td>\n",
              "      <td>29.708538</td>\n",
              "      <td>16.734063</td>\n",
              "      <td>15.575762</td>\n",
              "      <td>19.765424</td>\n",
              "      <td>19.385115</td>\n",
              "      <td>22.326075</td>\n",
              "      <td>23.222012</td>\n",
              "      <td>26.372640</td>\n",
              "      <td>22.571048</td>\n",
              "      <td>19.102409</td>\n",
              "      <td>23.082805</td>\n",
              "      <td>27.502230</td>\n",
              "      <td>21.472266</td>\n",
              "      <td>17.932343</td>\n",
              "      <td>21.235181</td>\n",
              "      <td>18.884193</td>\n",
              "      <td>22.415857</td>\n",
              "      <td>15.068584</td>\n",
              "      <td>18.929296</td>\n",
              "      <td>22.898358</td>\n",
              "      <td>21.308809</td>\n",
              "      <td>29.298159</td>\n",
              "      <td>16.765737</td>\n",
              "      <td>24.503041</td>\n",
              "      <td>24.907383</td>\n",
              "      <td>18.143962</td>\n",
              "      <td>26.840086</td>\n",
              "    </tr>\n",
              "    <tr>\n",
              "      <th>1996</th>\n",
              "      <td>21.769517</td>\n",
              "      <td>23.166530</td>\n",
              "      <td>39.470593</td>\n",
              "      <td>21.802027</td>\n",
              "      <td>19.966455</td>\n",
              "      <td>17.777778</td>\n",
              "      <td>17.736433</td>\n",
              "      <td>20.625830</td>\n",
              "      <td>20.700846</td>\n",
              "      <td>16.585786</td>\n",
              "      <td>14.950165</td>\n",
              "      <td>17.431973</td>\n",
              "      <td>20.586289</td>\n",
              "      <td>29.227336</td>\n",
              "      <td>21.488966</td>\n",
              "      <td>16.374271</td>\n",
              "      <td>20.674744</td>\n",
              "      <td>17.084466</td>\n",
              "      <td>19.784101</td>\n",
              "      <td>18.112245</td>\n",
              "      <td>24.326101</td>\n",
              "      <td>31.249806</td>\n",
              "      <td>18.028820</td>\n",
              "      <td>18.750325</td>\n",
              "      <td>18.899842</td>\n",
              "      <td>17.334341</td>\n",
              "      <td>19.204152</td>\n",
              "      <td>24.334838</td>\n",
              "      <td>21.522491</td>\n",
              "      <td>22.922636</td>\n",
              "      <td>16.183501</td>\n",
              "      <td>18.221208</td>\n",
              "      <td>20.614236</td>\n",
              "      <td>18.931285</td>\n",
              "      <td>18.640730</td>\n",
              "      <td>19.441925</td>\n",
              "      <td>24.003604</td>\n",
              "      <td>24.407911</td>\n",
              "      <td>17.057908</td>\n",
              "      <td>20.215269</td>\n",
              "      <td>...</td>\n",
              "      <td>16.198349</td>\n",
              "      <td>18.051802</td>\n",
              "      <td>26.045681</td>\n",
              "      <td>16.250977</td>\n",
              "      <td>30.120383</td>\n",
              "      <td>23.854114</td>\n",
              "      <td>22.781829</td>\n",
              "      <td>21.644733</td>\n",
              "      <td>21.643587</td>\n",
              "      <td>22.723294</td>\n",
              "      <td>22.824122</td>\n",
              "      <td>15.895329</td>\n",
              "      <td>20.938889</td>\n",
              "      <td>27.186482</td>\n",
              "      <td>19.816797</td>\n",
              "      <td>21.228878</td>\n",
              "      <td>22.792338</td>\n",
              "      <td>18.433022</td>\n",
              "      <td>20.846683</td>\n",
              "      <td>19.107515</td>\n",
              "      <td>21.131620</td>\n",
              "      <td>35.983766</td>\n",
              "      <td>17.977291</td>\n",
              "      <td>19.617934</td>\n",
              "      <td>21.681885</td>\n",
              "      <td>29.087797</td>\n",
              "      <td>23.709730</td>\n",
              "      <td>17.403056</td>\n",
              "      <td>28.368637</td>\n",
              "      <td>18.216719</td>\n",
              "      <td>20.487647</td>\n",
              "      <td>19.176391</td>\n",
              "      <td>17.999849</td>\n",
              "      <td>17.162144</td>\n",
              "      <td>15.468820</td>\n",
              "      <td>23.663481</td>\n",
              "      <td>18.726339</td>\n",
              "      <td>20.283562</td>\n",
              "      <td>19.565194</td>\n",
              "      <td>24.208583</td>\n",
              "    </tr>\n",
              "    <tr>\n",
              "      <th>1997</th>\n",
              "      <td>27.312057</td>\n",
              "      <td>19.163173</td>\n",
              "      <td>17.175489</td>\n",
              "      <td>15.802028</td>\n",
              "      <td>25.407769</td>\n",
              "      <td>22.155834</td>\n",
              "      <td>23.303246</td>\n",
              "      <td>19.743455</td>\n",
              "      <td>23.293429</td>\n",
              "      <td>20.342002</td>\n",
              "      <td>24.490910</td>\n",
              "      <td>19.718565</td>\n",
              "      <td>22.712706</td>\n",
              "      <td>21.166254</td>\n",
              "      <td>28.398718</td>\n",
              "      <td>21.812245</td>\n",
              "      <td>16.095785</td>\n",
              "      <td>26.448998</td>\n",
              "      <td>19.771343</td>\n",
              "      <td>21.122545</td>\n",
              "      <td>24.287014</td>\n",
              "      <td>22.833923</td>\n",
              "      <td>16.650008</td>\n",
              "      <td>20.474601</td>\n",
              "      <td>22.059115</td>\n",
              "      <td>19.971773</td>\n",
              "      <td>16.157382</td>\n",
              "      <td>23.680960</td>\n",
              "      <td>16.025402</td>\n",
              "      <td>17.796514</td>\n",
              "      <td>21.843204</td>\n",
              "      <td>21.341463</td>\n",
              "      <td>27.025959</td>\n",
              "      <td>21.390803</td>\n",
              "      <td>17.715777</td>\n",
              "      <td>17.607485</td>\n",
              "      <td>17.323802</td>\n",
              "      <td>24.919900</td>\n",
              "      <td>28.317786</td>\n",
              "      <td>19.351698</td>\n",
              "      <td>...</td>\n",
              "      <td>20.498564</td>\n",
              "      <td>23.781301</td>\n",
              "      <td>15.818579</td>\n",
              "      <td>15.742677</td>\n",
              "      <td>19.583751</td>\n",
              "      <td>14.062444</td>\n",
              "      <td>26.445637</td>\n",
              "      <td>18.366864</td>\n",
              "      <td>22.842777</td>\n",
              "      <td>18.696581</td>\n",
              "      <td>13.808231</td>\n",
              "      <td>16.548442</td>\n",
              "      <td>22.013047</td>\n",
              "      <td>27.579105</td>\n",
              "      <td>16.608718</td>\n",
              "      <td>23.967434</td>\n",
              "      <td>20.452270</td>\n",
              "      <td>22.222222</td>\n",
              "      <td>33.050006</td>\n",
              "      <td>13.993084</td>\n",
              "      <td>17.908855</td>\n",
              "      <td>24.969566</td>\n",
              "      <td>21.742546</td>\n",
              "      <td>19.187003</td>\n",
              "      <td>17.339428</td>\n",
              "      <td>22.108901</td>\n",
              "      <td>23.211305</td>\n",
              "      <td>19.612336</td>\n",
              "      <td>22.939359</td>\n",
              "      <td>21.733363</td>\n",
              "      <td>24.446514</td>\n",
              "      <td>15.896274</td>\n",
              "      <td>31.474591</td>\n",
              "      <td>17.201335</td>\n",
              "      <td>18.017002</td>\n",
              "      <td>17.569887</td>\n",
              "      <td>21.237738</td>\n",
              "      <td>16.967773</td>\n",
              "      <td>18.725186</td>\n",
              "      <td>18.166762</td>\n",
              "    </tr>\n",
              "    <tr>\n",
              "      <th>1998</th>\n",
              "      <td>17.415506</td>\n",
              "      <td>21.493332</td>\n",
              "      <td>17.796103</td>\n",
              "      <td>17.357995</td>\n",
              "      <td>21.100510</td>\n",
              "      <td>20.790289</td>\n",
              "      <td>17.788347</td>\n",
              "      <td>21.046832</td>\n",
              "      <td>17.852149</td>\n",
              "      <td>26.681690</td>\n",
              "      <td>25.429592</td>\n",
              "      <td>18.455198</td>\n",
              "      <td>23.535561</td>\n",
              "      <td>19.176534</td>\n",
              "      <td>38.038154</td>\n",
              "      <td>14.826785</td>\n",
              "      <td>19.165826</td>\n",
              "      <td>20.725863</td>\n",
              "      <td>22.994615</td>\n",
              "      <td>18.051974</td>\n",
              "      <td>28.424821</td>\n",
              "      <td>32.409470</td>\n",
              "      <td>20.498029</td>\n",
              "      <td>27.168115</td>\n",
              "      <td>23.624619</td>\n",
              "      <td>20.702980</td>\n",
              "      <td>20.038881</td>\n",
              "      <td>20.213384</td>\n",
              "      <td>17.311418</td>\n",
              "      <td>16.848985</td>\n",
              "      <td>20.043520</td>\n",
              "      <td>30.149075</td>\n",
              "      <td>19.860010</td>\n",
              "      <td>17.858099</td>\n",
              "      <td>19.116978</td>\n",
              "      <td>19.211884</td>\n",
              "      <td>17.842379</td>\n",
              "      <td>23.824758</td>\n",
              "      <td>21.894439</td>\n",
              "      <td>20.850969</td>\n",
              "      <td>...</td>\n",
              "      <td>23.181669</td>\n",
              "      <td>19.757394</td>\n",
              "      <td>18.697971</td>\n",
              "      <td>17.746229</td>\n",
              "      <td>24.850660</td>\n",
              "      <td>21.735394</td>\n",
              "      <td>29.737515</td>\n",
              "      <td>20.906763</td>\n",
              "      <td>16.992748</td>\n",
              "      <td>17.014341</td>\n",
              "      <td>20.397126</td>\n",
              "      <td>20.878355</td>\n",
              "      <td>20.931571</td>\n",
              "      <td>20.799142</td>\n",
              "      <td>20.226056</td>\n",
              "      <td>21.096191</td>\n",
              "      <td>18.460568</td>\n",
              "      <td>18.184743</td>\n",
              "      <td>25.567366</td>\n",
              "      <td>20.545820</td>\n",
              "      <td>19.157665</td>\n",
              "      <td>22.809573</td>\n",
              "      <td>25.114358</td>\n",
              "      <td>20.785117</td>\n",
              "      <td>16.519538</td>\n",
              "      <td>19.260079</td>\n",
              "      <td>19.560546</td>\n",
              "      <td>33.831937</td>\n",
              "      <td>20.880963</td>\n",
              "      <td>21.856362</td>\n",
              "      <td>18.695492</td>\n",
              "      <td>21.987535</td>\n",
              "      <td>22.452837</td>\n",
              "      <td>17.920483</td>\n",
              "      <td>16.810280</td>\n",
              "      <td>19.113648</td>\n",
              "      <td>20.443993</td>\n",
              "      <td>21.818182</td>\n",
              "      <td>22.763464</td>\n",
              "      <td>19.253466</td>\n",
              "    </tr>\n",
              "    <tr>\n",
              "      <th>1999</th>\n",
              "      <td>18.506286</td>\n",
              "      <td>16.190693</td>\n",
              "      <td>16.737976</td>\n",
              "      <td>21.116411</td>\n",
              "      <td>21.914064</td>\n",
              "      <td>15.735446</td>\n",
              "      <td>21.378644</td>\n",
              "      <td>21.323948</td>\n",
              "      <td>20.268919</td>\n",
              "      <td>30.503624</td>\n",
              "      <td>19.078135</td>\n",
              "      <td>19.458583</td>\n",
              "      <td>17.247564</td>\n",
              "      <td>19.885414</td>\n",
              "      <td>16.750762</td>\n",
              "      <td>15.430972</td>\n",
              "      <td>28.470025</td>\n",
              "      <td>19.570312</td>\n",
              "      <td>28.450637</td>\n",
              "      <td>17.917656</td>\n",
              "      <td>31.222618</td>\n",
              "      <td>19.465091</td>\n",
              "      <td>17.020514</td>\n",
              "      <td>22.434964</td>\n",
              "      <td>27.014928</td>\n",
              "      <td>20.943531</td>\n",
              "      <td>17.146776</td>\n",
              "      <td>23.205303</td>\n",
              "      <td>24.725057</td>\n",
              "      <td>19.245876</td>\n",
              "      <td>17.008821</td>\n",
              "      <td>18.195483</td>\n",
              "      <td>21.256244</td>\n",
              "      <td>18.852677</td>\n",
              "      <td>14.224285</td>\n",
              "      <td>17.069841</td>\n",
              "      <td>23.976402</td>\n",
              "      <td>22.112689</td>\n",
              "      <td>20.645776</td>\n",
              "      <td>25.217690</td>\n",
              "      <td>...</td>\n",
              "      <td>16.859504</td>\n",
              "      <td>12.915829</td>\n",
              "      <td>18.900010</td>\n",
              "      <td>24.696469</td>\n",
              "      <td>22.310649</td>\n",
              "      <td>15.622619</td>\n",
              "      <td>41.328125</td>\n",
              "      <td>21.204182</td>\n",
              "      <td>15.403400</td>\n",
              "      <td>21.114118</td>\n",
              "      <td>22.632591</td>\n",
              "      <td>21.152471</td>\n",
              "      <td>26.097159</td>\n",
              "      <td>24.421063</td>\n",
              "      <td>15.965748</td>\n",
              "      <td>19.498760</td>\n",
              "      <td>17.786131</td>\n",
              "      <td>18.962953</td>\n",
              "      <td>18.510366</td>\n",
              "      <td>25.972945</td>\n",
              "      <td>22.165934</td>\n",
              "      <td>18.868204</td>\n",
              "      <td>15.596026</td>\n",
              "      <td>17.688344</td>\n",
              "      <td>20.138115</td>\n",
              "      <td>22.577320</td>\n",
              "      <td>28.236440</td>\n",
              "      <td>28.360957</td>\n",
              "      <td>20.919487</td>\n",
              "      <td>19.232941</td>\n",
              "      <td>16.954210</td>\n",
              "      <td>23.426775</td>\n",
              "      <td>14.336540</td>\n",
              "      <td>17.408234</td>\n",
              "      <td>16.804353</td>\n",
              "      <td>19.459812</td>\n",
              "      <td>24.075308</td>\n",
              "      <td>17.733496</td>\n",
              "      <td>25.891012</td>\n",
              "      <td>18.399127</td>\n",
              "    </tr>\n",
              "  </tbody>\n",
              "</table>\n",
              "<p>2000 rows × 1500 columns</p>\n",
              "</div>"
            ],
            "text/plain": [
              "      Amostra_0  Amostra_1  Amostra_2  ...  Amostra_1497  Amostra_1498  Amostra_1499\n",
              "0     16.254644  21.262377  17.429906  ...     22.616199     18.208601     15.863896\n",
              "1     19.010651  24.921163  17.208523  ...     19.566574     20.462208     21.687039\n",
              "2     19.247122  21.529468  16.767160  ...     20.789938     20.954943     21.420258\n",
              "3     16.799154  20.269332  16.959289  ...     17.906084     18.900563     16.447740\n",
              "4     18.980749  20.013002  21.631149  ...     18.833868     30.115048     21.378298\n",
              "...         ...        ...        ...  ...           ...           ...           ...\n",
              "1995  21.659186  31.712261  22.704798  ...     24.907383     18.143962     26.840086\n",
              "1996  21.769517  23.166530  39.470593  ...     20.283562     19.565194     24.208583\n",
              "1997  27.312057  19.163173  17.175489  ...     16.967773     18.725186     18.166762\n",
              "1998  17.415506  21.493332  17.796103  ...     21.818182     22.763464     19.253466\n",
              "1999  18.506286  16.190693  16.737976  ...     17.733496     25.891012     18.399127\n",
              "\n",
              "[2000 rows x 1500 columns]"
            ]
          },
          "metadata": {
            "tags": []
          },
          "execution_count": 13
        }
      ]
    },
    {
      "cell_type": "markdown",
      "metadata": {
        "id": "hZyAT36x2W4j"
      },
      "source": [
        "## O Teorema do Limite Central afirma que, **com o aumento do tamanho da amostra, a distribuição das médias amostrais se aproxima de uma distribuição normal** com média igual à média da população e desvio padrão igual ao desvio padrão da variável original dividido pela raiz quadrada do tamanho da amostra. Este fato é assegurado para n maior ou igual a 30."
      ]
    },
    {
      "cell_type": "code",
      "metadata": {
        "id": "8dt_5m1A2YTZ",
        "colab": {
          "base_uri": "https://localhost:8080/",
          "height": 0
        },
        "outputId": "1dda4559-5465-4944-c9c0-73dbf6ef0d45"
      },
      "source": [
        "amostras.mean().hist(bins=30)"
      ],
      "execution_count": 14,
      "outputs": [
        {
          "output_type": "execute_result",
          "data": {
            "text/plain": [
              "<matplotlib.axes._subplots.AxesSubplot at 0x7f0d19358e48>"
            ]
          },
          "metadata": {
            "tags": []
          },
          "execution_count": 14
        },
        {
          "output_type": "display_data",
          "data": {
            "image/png": "[encoded data removed]",
            "text/plain": [
              "<Figure size 432x288 with 1 Axes>"
            ]
          },
          "metadata": {
            "tags": [],
            "needs_background": "light"
          }
        }
      ]
    },
    {
      "cell_type": "markdown",
      "metadata": {
        "id": "ABYw1QZc2ZRw"
      },
      "source": [
        "## O Teorema do Limite Central afirma que, com o aumento do tamanho da amostra, a distribuição das médias amostrais se aproxima de uma distribuição normal **com média igual à média da população** e desvio padrão igual ao desvio padrão da variável original dividido pela raiz quadrada do tamanho da amostra. Este fato é assegurado para n maior ou igual a 30."
      ]
    },
    {
      "cell_type": "code",
      "metadata": {
        "id": "tJ1YN1Zz2dqE",
        "colab": {
          "base_uri": "https://localhost:8080/"
        },
        "outputId": "124ea163-ad80-4574-d2cb-57fe27d0ba19"
      },
      "source": [
        "dados.IMC.mean()"
      ],
      "execution_count": 15,
      "outputs": [
        {
          "output_type": "execute_result",
          "data": {
            "text/plain": [
              "20.95825220663186"
            ]
          },
          "metadata": {
            "tags": []
          },
          "execution_count": 15
        }
      ]
    },
    {
      "cell_type": "code",
      "metadata": {
        "id": "KAhBt68p2abk",
        "colab": {
          "base_uri": "https://localhost:8080/"
        },
        "outputId": "badcbb52-da66-4a46-b39e-1aef9a0b668a"
      },
      "source": [
        "amostras.mean().mean()"
      ],
      "execution_count": 16,
      "outputs": [
        {
          "output_type": "execute_result",
          "data": {
            "text/plain": [
              "20.96237474898851"
            ]
          },
          "metadata": {
            "tags": []
          },
          "execution_count": 16
        }
      ]
    },
    {
      "cell_type": "markdown",
      "metadata": {
        "id": "YPHM5XvM2dHH"
      },
      "source": [
        "##O Teorema do Limite Central afirma que, com o aumento do tamanho da amostra, a distribuição das médias amostrais se aproxima de uma distribuição normal com média igual à média da população e **desvio padrão igual ao desvio padrão da variável original dividido pela raiz quadrada do tamanho da amostra**. Este fato é assegurado para n maior ou igual a 30.\r\n",
        "\r\n",
        "# $$\\sigma_\\bar{x} = \\frac{\\sigma}{\\sqrt{n}}$$"
      ]
    },
    {
      "cell_type": "code",
      "metadata": {
        "id": "wzqi-jCw_ZM7",
        "colab": {
          "base_uri": "https://localhost:8080/"
        },
        "outputId": "bc5c3c44-6bd9-4ba3-aef6-bb36c2ccb461"
      },
      "source": [
        "n"
      ],
      "execution_count": 17,
      "outputs": [
        {
          "output_type": "execute_result",
          "data": {
            "text/plain": [
              "2000"
            ]
          },
          "metadata": {
            "tags": []
          },
          "execution_count": 17
        }
      ]
    },
    {
      "cell_type": "code",
      "metadata": {
        "id": "lbtOxq862gc0",
        "colab": {
          "base_uri": "https://localhost:8080/"
        },
        "outputId": "02a0c592-07f7-4d10-aad3-134138206634"
      },
      "source": [
        "#O desvio padrão se da pelo .std()\r\n",
        "\r\n",
        "import numpy as np\r\n",
        "\r\n",
        "desvio_padrao_amostra_aproximado = dados.IMC.std() / np.sqrt(n)\r\n",
        "print(desvio_padrao_amostra_aproximado)"
      ],
      "execution_count": 18,
      "outputs": [
        {
          "output_type": "stream",
          "text": [
            "0.09490859583922757\n"
          ],
          "name": "stdout"
        }
      ]
    },
    {
      "cell_type": "code",
      "metadata": {
        "id": "JUenw1F_2hQM",
        "colab": {
          "base_uri": "https://localhost:8080/"
        },
        "outputId": "be3ed483-8da4-4145-daca-98055e36cf48"
      },
      "source": [
        "amostras.mean().std()"
      ],
      "execution_count": 19,
      "outputs": [
        {
          "output_type": "execute_result",
          "data": {
            "text/plain": [
              "0.09047136999479263"
            ]
          },
          "metadata": {
            "tags": []
          },
          "execution_count": 19
        }
      ]
    },
    {
      "cell_type": "markdown",
      "metadata": {
        "id": "e31zeCJkEzdb"
      },
      "source": [
        "# Estilizar DataFrames com Pandas"
      ]
    },
    {
      "cell_type": "code",
      "metadata": {
        "id": "nAhsGDo8E5cm"
      },
      "source": [
        "import pandas as pd"
      ],
      "execution_count": 20,
      "outputs": []
    },
    {
      "cell_type": "code",
      "metadata": {
        "id": "_PsxRmNTE-po"
      },
      "source": [
        "carros = {'Marca': ['Honda Civic','Toyota Corolla','Ford Focus','Audi A4'],\r\n",
        "        'Preco': [22000,25000,27000,35000]\r\n",
        "         }"
      ],
      "execution_count": 21,
      "outputs": []
    },
    {
      "cell_type": "code",
      "metadata": {
        "id": "5jv1dYd2FCnI",
        "colab": {
          "base_uri": "https://localhost:8080/",
          "height": 0
        },
        "outputId": "917f2be6-df54-4d71-b2cb-4aaad7c86c5c"
      },
      "source": [
        "dados = pd.DataFrame(carros)\r\n",
        "\r\n",
        "dados.head()"
      ],
      "execution_count": 22,
      "outputs": [
        {
          "output_type": "execute_result",
          "data": {
            "text/html": [
              "<div>\n",
              "<style scoped>\n",
              "    .dataframe tbody tr th:only-of-type {\n",
              "        vertical-align: middle;\n",
              "    }\n",
              "\n",
              "    .dataframe tbody tr th {\n",
              "        vertical-align: top;\n",
              "    }\n",
              "\n",
              "    .dataframe thead th {\n",
              "        text-align: right;\n",
              "    }\n",
              "</style>\n",
              "<table border=\"1\" class=\"dataframe\">\n",
              "  <thead>\n",
              "    <tr style=\"text-align: right;\">\n",
              "      <th></th>\n",
              "      <th>Marca</th>\n",
              "      <th>Preco</th>\n",
              "    </tr>\n",
              "  </thead>\n",
              "  <tbody>\n",
              "    <tr>\n",
              "      <th>0</th>\n",
              "      <td>Honda Civic</td>\n",
              "      <td>22000</td>\n",
              "    </tr>\n",
              "    <tr>\n",
              "      <th>1</th>\n",
              "      <td>Toyota Corolla</td>\n",
              "      <td>25000</td>\n",
              "    </tr>\n",
              "    <tr>\n",
              "      <th>2</th>\n",
              "      <td>Ford Focus</td>\n",
              "      <td>27000</td>\n",
              "    </tr>\n",
              "    <tr>\n",
              "      <th>3</th>\n",
              "      <td>Audi A4</td>\n",
              "      <td>35000</td>\n",
              "    </tr>\n",
              "  </tbody>\n",
              "</table>\n",
              "</div>"
            ],
            "text/plain": [
              "            Marca  Preco\n",
              "0     Honda Civic  22000\n",
              "1  Toyota Corolla  25000\n",
              "2      Ford Focus  27000\n",
              "3         Audi A4  35000"
            ]
          },
          "metadata": {
            "tags": []
          },
          "execution_count": 22
        }
      ]
    },
    {
      "cell_type": "code",
      "metadata": {
        "id": "RsWBQRXFFE3q",
        "colab": {
          "base_uri": "https://localhost:8080/",
          "height": 0
        },
        "outputId": "bb9ab62d-01aa-4f71-a598-871cd7608182"
      },
      "source": [
        "dados.style.set_properties(**{'background-color':'blue',\r\n",
        "                              'color':'white',\r\n",
        "                              'border-color':'black'\r\n",
        "                              })"
      ],
      "execution_count": 23,
      "outputs": [
        {
          "output_type": "execute_result",
          "data": {
            "text/html": [
              "<style  type=\"text/css\" >\n",
              "#T_510a2a42_68e7_11eb_95ca_0242ac1c0002row0_col0,#T_510a2a42_68e7_11eb_95ca_0242ac1c0002row0_col1,#T_510a2a42_68e7_11eb_95ca_0242ac1c0002row1_col0,#T_510a2a42_68e7_11eb_95ca_0242ac1c0002row1_col1,#T_510a2a42_68e7_11eb_95ca_0242ac1c0002row2_col0,#T_510a2a42_68e7_11eb_95ca_0242ac1c0002row2_col1,#T_510a2a42_68e7_11eb_95ca_0242ac1c0002row3_col0,#T_510a2a42_68e7_11eb_95ca_0242ac1c0002row3_col1{\n",
              "            background-color:  blue;\n",
              "            color:  white;\n",
              "            border-color:  black;\n",
              "        }</style><table id=\"T_510a2a42_68e7_11eb_95ca_0242ac1c0002\" ><thead>    <tr>        <th class=\"blank level0\" ></th>        <th class=\"col_heading level0 col0\" >Marca</th>        <th class=\"col_heading level0 col1\" >Preco</th>    </tr></thead><tbody>\n",
              "                <tr>\n",
              "                        <th id=\"T_510a2a42_68e7_11eb_95ca_0242ac1c0002level0_row0\" class=\"row_heading level0 row0\" >0</th>\n",
              "                        <td id=\"T_510a2a42_68e7_11eb_95ca_0242ac1c0002row0_col0\" class=\"data row0 col0\" >Honda Civic</td>\n",
              "                        <td id=\"T_510a2a42_68e7_11eb_95ca_0242ac1c0002row0_col1\" class=\"data row0 col1\" >22000</td>\n",
              "            </tr>\n",
              "            <tr>\n",
              "                        <th id=\"T_510a2a42_68e7_11eb_95ca_0242ac1c0002level0_row1\" class=\"row_heading level0 row1\" >1</th>\n",
              "                        <td id=\"T_510a2a42_68e7_11eb_95ca_0242ac1c0002row1_col0\" class=\"data row1 col0\" >Toyota Corolla</td>\n",
              "                        <td id=\"T_510a2a42_68e7_11eb_95ca_0242ac1c0002row1_col1\" class=\"data row1 col1\" >25000</td>\n",
              "            </tr>\n",
              "            <tr>\n",
              "                        <th id=\"T_510a2a42_68e7_11eb_95ca_0242ac1c0002level0_row2\" class=\"row_heading level0 row2\" >2</th>\n",
              "                        <td id=\"T_510a2a42_68e7_11eb_95ca_0242ac1c0002row2_col0\" class=\"data row2 col0\" >Ford Focus</td>\n",
              "                        <td id=\"T_510a2a42_68e7_11eb_95ca_0242ac1c0002row2_col1\" class=\"data row2 col1\" >27000</td>\n",
              "            </tr>\n",
              "            <tr>\n",
              "                        <th id=\"T_510a2a42_68e7_11eb_95ca_0242ac1c0002level0_row3\" class=\"row_heading level0 row3\" >3</th>\n",
              "                        <td id=\"T_510a2a42_68e7_11eb_95ca_0242ac1c0002row3_col0\" class=\"data row3 col0\" >Audi A4</td>\n",
              "                        <td id=\"T_510a2a42_68e7_11eb_95ca_0242ac1c0002row3_col1\" class=\"data row3 col1\" >35000</td>\n",
              "            </tr>\n",
              "    </tbody></table>"
            ],
            "text/plain": [
              "<pandas.io.formats.style.Styler at 0x7f0d19313a58>"
            ]
          },
          "metadata": {
            "tags": []
          },
          "execution_count": 23
        }
      ]
    },
    {
      "cell_type": "code",
      "metadata": {
        "id": "OxmZSyfPFSLf"
      },
      "source": [
        "def cor_orcamento(val):\r\n",
        "\r\n",
        "  if val <= 25000:\r\n",
        "    color = 'red'\r\n",
        "  else:\r\n",
        "    color = 'black'\r\n",
        "\r\n",
        "  return 'color: %s' % color"
      ],
      "execution_count": 24,
      "outputs": []
    },
    {
      "cell_type": "code",
      "metadata": {
        "id": "Vx8FNOVwFe9L",
        "colab": {
          "base_uri": "https://localhost:8080/",
          "height": 0
        },
        "outputId": "9e1a8faf-f5df-4235-bb79-13264c073186"
      },
      "source": [
        "dados.style.applymap(cor_orcamento, subset = 'Preco')"
      ],
      "execution_count": 25,
      "outputs": [
        {
          "output_type": "execute_result",
          "data": {
            "text/html": [
              "<style  type=\"text/css\" >\n",
              "#T_510daf64_68e7_11eb_95ca_0242ac1c0002row0_col1,#T_510daf64_68e7_11eb_95ca_0242ac1c0002row1_col1{\n",
              "            color:  red;\n",
              "        }#T_510daf64_68e7_11eb_95ca_0242ac1c0002row2_col1,#T_510daf64_68e7_11eb_95ca_0242ac1c0002row3_col1{\n",
              "            color:  black;\n",
              "        }</style><table id=\"T_510daf64_68e7_11eb_95ca_0242ac1c0002\" ><thead>    <tr>        <th class=\"blank level0\" ></th>        <th class=\"col_heading level0 col0\" >Marca</th>        <th class=\"col_heading level0 col1\" >Preco</th>    </tr></thead><tbody>\n",
              "                <tr>\n",
              "                        <th id=\"T_510daf64_68e7_11eb_95ca_0242ac1c0002level0_row0\" class=\"row_heading level0 row0\" >0</th>\n",
              "                        <td id=\"T_510daf64_68e7_11eb_95ca_0242ac1c0002row0_col0\" class=\"data row0 col0\" >Honda Civic</td>\n",
              "                        <td id=\"T_510daf64_68e7_11eb_95ca_0242ac1c0002row0_col1\" class=\"data row0 col1\" >22000</td>\n",
              "            </tr>\n",
              "            <tr>\n",
              "                        <th id=\"T_510daf64_68e7_11eb_95ca_0242ac1c0002level0_row1\" class=\"row_heading level0 row1\" >1</th>\n",
              "                        <td id=\"T_510daf64_68e7_11eb_95ca_0242ac1c0002row1_col0\" class=\"data row1 col0\" >Toyota Corolla</td>\n",
              "                        <td id=\"T_510daf64_68e7_11eb_95ca_0242ac1c0002row1_col1\" class=\"data row1 col1\" >25000</td>\n",
              "            </tr>\n",
              "            <tr>\n",
              "                        <th id=\"T_510daf64_68e7_11eb_95ca_0242ac1c0002level0_row2\" class=\"row_heading level0 row2\" >2</th>\n",
              "                        <td id=\"T_510daf64_68e7_11eb_95ca_0242ac1c0002row2_col0\" class=\"data row2 col0\" >Ford Focus</td>\n",
              "                        <td id=\"T_510daf64_68e7_11eb_95ca_0242ac1c0002row2_col1\" class=\"data row2 col1\" >27000</td>\n",
              "            </tr>\n",
              "            <tr>\n",
              "                        <th id=\"T_510daf64_68e7_11eb_95ca_0242ac1c0002level0_row3\" class=\"row_heading level0 row3\" >3</th>\n",
              "                        <td id=\"T_510daf64_68e7_11eb_95ca_0242ac1c0002row3_col0\" class=\"data row3 col0\" >Audi A4</td>\n",
              "                        <td id=\"T_510daf64_68e7_11eb_95ca_0242ac1c0002row3_col1\" class=\"data row3 col1\" >35000</td>\n",
              "            </tr>\n",
              "    </tbody></table>"
            ],
            "text/plain": [
              "<pandas.io.formats.style.Styler at 0x7f0d19314748>"
            ]
          },
          "metadata": {
            "tags": []
          },
          "execution_count": 25
        }
      ]
    },
    {
      "cell_type": "code",
      "metadata": {
        "id": "P5sZLZS4Fijj"
      },
      "source": [
        "#Podemos salvar o resultado em um arquivo excel\r\n",
        "\r\n",
        "dados.style.applymap(cor_orcamento, subset = 'Preco').to_excel(\"estilizado.xlsx\", engine = 'openpyxl')\r\n",
        "\r\n",
        "#Pode-se notar nos arquivos sample_data do colab que o arquivo foi criado"
      ],
      "execution_count": 26,
      "outputs": []
    },
    {
      "cell_type": "markdown",
      "metadata": {
        "id": "_IcgS1xCadHU"
      },
      "source": [
        "# Intervalo de confiança e População e Amostra"
      ]
    },
    {
      "cell_type": "code",
      "metadata": {
        "id": "ueTKKjRZahUG"
      },
      "source": [
        "url = 'https://raw.githubusercontent.com/allanspadini/linear_estatistica/main/winequality-red.csv'"
      ],
      "execution_count": 27,
      "outputs": []
    },
    {
      "cell_type": "markdown",
      "metadata": {
        "id": "GqvR9Bx9d2Dy"
      },
      "source": [
        "https://archive.ics.uci.edu/ml/datasets/Wine\r\n",
        "\r\n",
        "P. Cortez, A. Cerdeira, F. Almeida, T. Matos and J. Reis.\r\n",
        "Modeling wine preferences by data mining from physicochemical properties. In Decision Support Systems, Elsevier, 47(4):547-553, 2009."
      ]
    },
    {
      "cell_type": "code",
      "metadata": {
        "id": "x0NhJiSod3A5"
      },
      "source": [
        "import pandas as pd"
      ],
      "execution_count": 28,
      "outputs": []
    },
    {
      "cell_type": "code",
      "metadata": {
        "id": "yOm_Gl3Md4CL"
      },
      "source": [
        "vinho = pd.read_csv(url, sep = ';')"
      ],
      "execution_count": 29,
      "outputs": []
    },
    {
      "cell_type": "code",
      "metadata": {
        "colab": {
          "base_uri": "https://localhost:8080/",
          "height": 0
        },
        "id": "pRgM-YW2d83D",
        "outputId": "39e99015-8732-4b58-d9ca-75cf817d9d4c"
      },
      "source": [
        "vinho.head()"
      ],
      "execution_count": 30,
      "outputs": [
        {
          "output_type": "execute_result",
          "data": {
            "text/html": [
              "<div>\n",
              "<style scoped>\n",
              "    .dataframe tbody tr th:only-of-type {\n",
              "        vertical-align: middle;\n",
              "    }\n",
              "\n",
              "    .dataframe tbody tr th {\n",
              "        vertical-align: top;\n",
              "    }\n",
              "\n",
              "    .dataframe thead th {\n",
              "        text-align: right;\n",
              "    }\n",
              "</style>\n",
              "<table border=\"1\" class=\"dataframe\">\n",
              "  <thead>\n",
              "    <tr style=\"text-align: right;\">\n",
              "      <th></th>\n",
              "      <th>fixed acidity</th>\n",
              "      <th>volatile acidity</th>\n",
              "      <th>citric acid</th>\n",
              "      <th>residual sugar</th>\n",
              "      <th>chlorides</th>\n",
              "      <th>free sulfur dioxide</th>\n",
              "      <th>total sulfur dioxide</th>\n",
              "      <th>density</th>\n",
              "      <th>pH</th>\n",
              "      <th>sulphates</th>\n",
              "      <th>alcohol</th>\n",
              "      <th>quality</th>\n",
              "    </tr>\n",
              "  </thead>\n",
              "  <tbody>\n",
              "    <tr>\n",
              "      <th>0</th>\n",
              "      <td>7.4</td>\n",
              "      <td>0.70</td>\n",
              "      <td>0.00</td>\n",
              "      <td>1.9</td>\n",
              "      <td>0.076</td>\n",
              "      <td>11.0</td>\n",
              "      <td>34.0</td>\n",
              "      <td>0.9978</td>\n",
              "      <td>3.51</td>\n",
              "      <td>0.56</td>\n",
              "      <td>9.4</td>\n",
              "      <td>5</td>\n",
              "    </tr>\n",
              "    <tr>\n",
              "      <th>1</th>\n",
              "      <td>7.8</td>\n",
              "      <td>0.88</td>\n",
              "      <td>0.00</td>\n",
              "      <td>2.6</td>\n",
              "      <td>0.098</td>\n",
              "      <td>25.0</td>\n",
              "      <td>67.0</td>\n",
              "      <td>0.9968</td>\n",
              "      <td>3.20</td>\n",
              "      <td>0.68</td>\n",
              "      <td>9.8</td>\n",
              "      <td>5</td>\n",
              "    </tr>\n",
              "    <tr>\n",
              "      <th>2</th>\n",
              "      <td>7.8</td>\n",
              "      <td>0.76</td>\n",
              "      <td>0.04</td>\n",
              "      <td>2.3</td>\n",
              "      <td>0.092</td>\n",
              "      <td>15.0</td>\n",
              "      <td>54.0</td>\n",
              "      <td>0.9970</td>\n",
              "      <td>3.26</td>\n",
              "      <td>0.65</td>\n",
              "      <td>9.8</td>\n",
              "      <td>5</td>\n",
              "    </tr>\n",
              "    <tr>\n",
              "      <th>3</th>\n",
              "      <td>11.2</td>\n",
              "      <td>0.28</td>\n",
              "      <td>0.56</td>\n",
              "      <td>1.9</td>\n",
              "      <td>0.075</td>\n",
              "      <td>17.0</td>\n",
              "      <td>60.0</td>\n",
              "      <td>0.9980</td>\n",
              "      <td>3.16</td>\n",
              "      <td>0.58</td>\n",
              "      <td>9.8</td>\n",
              "      <td>6</td>\n",
              "    </tr>\n",
              "    <tr>\n",
              "      <th>4</th>\n",
              "      <td>7.4</td>\n",
              "      <td>0.70</td>\n",
              "      <td>0.00</td>\n",
              "      <td>1.9</td>\n",
              "      <td>0.076</td>\n",
              "      <td>11.0</td>\n",
              "      <td>34.0</td>\n",
              "      <td>0.9978</td>\n",
              "      <td>3.51</td>\n",
              "      <td>0.56</td>\n",
              "      <td>9.4</td>\n",
              "      <td>5</td>\n",
              "    </tr>\n",
              "  </tbody>\n",
              "</table>\n",
              "</div>"
            ],
            "text/plain": [
              "   fixed acidity  volatile acidity  citric acid  ...  sulphates  alcohol  quality\n",
              "0            7.4              0.70         0.00  ...       0.56      9.4        5\n",
              "1            7.8              0.88         0.00  ...       0.68      9.8        5\n",
              "2            7.8              0.76         0.04  ...       0.65      9.8        5\n",
              "3           11.2              0.28         0.56  ...       0.58      9.8        6\n",
              "4            7.4              0.70         0.00  ...       0.56      9.4        5\n",
              "\n",
              "[5 rows x 12 columns]"
            ]
          },
          "metadata": {
            "tags": []
          },
          "execution_count": 30
        }
      ]
    },
    {
      "cell_type": "code",
      "metadata": {
        "colab": {
          "base_uri": "https://localhost:8080/"
        },
        "id": "vNOqbjTpd-xl",
        "outputId": "4e51c1c7-d93b-4d51-9ff2-bcbfd85df3b2"
      },
      "source": [
        "#Olhando quantas amostras temos\r\n",
        "\r\n",
        "vinho.shape"
      ],
      "execution_count": 31,
      "outputs": [
        {
          "output_type": "execute_result",
          "data": {
            "text/plain": [
              "(1599, 12)"
            ]
          },
          "metadata": {
            "tags": []
          },
          "execution_count": 31
        }
      ]
    },
    {
      "cell_type": "markdown",
      "metadata": {
        "id": "zQSRV-gleAjh"
      },
      "source": [
        "## Qual a chance da nossa amostra retratar a realidade?"
      ]
    },
    {
      "cell_type": "markdown",
      "metadata": {
        "id": "xXWHqxCYeCo9"
      },
      "source": [
        "O **nível de confiança** ($1 - \\alpha$) representa a probabilidade de acerto da estimativa. De forma complementar o **nível de significância** ($\\alpha$) expressa a probabilidade de erro da estimativa.\r\n",
        "\r\n",
        "O **nível de confiança** representa o grau de confiabilidade do resultado da estimativa estar dentro de determinado intervalo. Quando fixamos em uma pesquisa um **nível de confiança** de 95%, por exemplo, estamos assumindo que existe uma probabilidade de 95% dos resultados da pesquisa representarem bem a realidade, ou seja, estarem corretos.\r\n",
        "\r\n",
        "O **nível de confiança** de uma estimativa pode ser obtido a partir da área sob a curva normal como ilustrado na figura abaixo."
      ]
    },
    {
      "cell_type": "markdown",
      "metadata": {
        "id": "FncEyIIieD7p"
      },
      "source": [
        "![alt text](https://caelum-online-public.s3.amazonaws.com/1178-estatistica-parte2/01/img007.png)"
      ]
    },
    {
      "cell_type": "markdown",
      "metadata": {
        "id": "XhtKbG8KeFTY"
      },
      "source": [
        "## Erro inferencial"
      ]
    },
    {
      "cell_type": "markdown",
      "metadata": {
        "id": "YR72zXjkeG21"
      },
      "source": [
        "O **erro inferencial** é definido pelo **desvio padrão das médias amostrais** $\\sigma_\\bar{x}$ e pelo **nível de confiança** determinado para o processo."
      ]
    },
    {
      "cell_type": "markdown",
      "metadata": {
        "id": "m0Tfz7SZeH9_"
      },
      "source": [
        "## $$e = z \\frac{\\sigma}{\\sqrt{n}}$$"
      ]
    },
    {
      "cell_type": "markdown",
      "metadata": {
        "id": "BESfwENQeJM4"
      },
      "source": [
        "Suponha que a densidade do vinho se distribui aproximadamente como uma normal. Calcule o desvio padrão e a média de uma amostra de 1000 elementos. Construa um intervalo de confiança para a média populacional assumindo um **nível de significância de 5%**."
      ]
    },
    {
      "cell_type": "code",
      "metadata": {
        "id": "PXpiUEddeKEM"
      },
      "source": [
        "#Definindo uma amostra com n = 1000 e uma seed random_state = 202\r\n",
        "\r\n",
        "amostra = vinho.sample(n = 1000, random_state = 202)"
      ],
      "execution_count": 32,
      "outputs": []
    },
    {
      "cell_type": "code",
      "metadata": {
        "id": "JFfjxNMzeNV4",
        "colab": {
          "base_uri": "https://localhost:8080/"
        },
        "outputId": "c307cc6c-45c6-48ff-867e-1b52dac7eca2"
      },
      "source": [
        "desvio_padrao = amostra['density'].std()\r\n",
        "desvio_padrao"
      ],
      "execution_count": 33,
      "outputs": [
        {
          "output_type": "execute_result",
          "data": {
            "text/plain": [
              "0.0018428889588943806"
            ]
          },
          "metadata": {
            "tags": []
          },
          "execution_count": 33
        }
      ]
    },
    {
      "cell_type": "code",
      "metadata": {
        "colab": {
          "base_uri": "https://localhost:8080/",
          "height": 0
        },
        "id": "l7Q-dxgheRLg",
        "outputId": "cc7f8e91-e06e-419e-df8f-903b783832b4"
      },
      "source": [
        "amostra['density'].hist()"
      ],
      "execution_count": 34,
      "outputs": [
        {
          "output_type": "execute_result",
          "data": {
            "text/plain": [
              "<matplotlib.axes._subplots.AxesSubplot at 0x7f0d17e8d780>"
            ]
          },
          "metadata": {
            "tags": []
          },
          "execution_count": 34
        },
        {
          "output_type": "display_data",
          "data": {
            "image/png": "[encoded data removed]",
            "text/plain": [
              "<Figure size 432x288 with 1 Axes>"
            ]
          },
          "metadata": {
            "tags": [],
            "needs_background": "light"
          }
        }
      ]
    },
    {
      "cell_type": "code",
      "metadata": {
        "id": "w6Tkwq5ieUAo"
      },
      "source": [
        "significancia = 0.05"
      ],
      "execution_count": 35,
      "outputs": []
    },
    {
      "cell_type": "code",
      "metadata": {
        "id": "flutWmrOeVzq",
        "colab": {
          "base_uri": "https://localhost:8080/"
        },
        "outputId": "14fa64b0-3fa4-47da-f932-2872802f151e"
      },
      "source": [
        "confianca = 1 - significancia\r\n",
        "confianca"
      ],
      "execution_count": 36,
      "outputs": [
        {
          "output_type": "execute_result",
          "data": {
            "text/plain": [
              "0.95"
            ]
          },
          "metadata": {
            "tags": []
          },
          "execution_count": 36
        }
      ]
    },
    {
      "cell_type": "code",
      "metadata": {
        "id": "oKjFyW_WnZKT"
      },
      "source": [
        "n = 1000"
      ],
      "execution_count": 37,
      "outputs": []
    },
    {
      "cell_type": "markdown",
      "metadata": {
        "id": "n2gZ7SQxeYk-"
      },
      "source": [
        "### Obtendo z - Tabela normal padronizada.\r\n",
        "\r\n",
        "![alt text](https://caelum-online-public.s3.amazonaws.com/1178-estatistica-parte2/01/img008.png)\r\n",
        "\r\n",
        "### Valores de $z$ para os níveis de confiança mais utilizados\r\n",
        "\r\n",
        "|Nível de<br>confiança|Valor da área sob<br>a curva normal| $z$ |\r\n",
        "|:----------------:|:---------------------------------:|:---:|\r\n",
        "|90%               |0,95                               |1,645|\r\n",
        "|95%               |0,975                              |1,96 |\r\n",
        "|99%               |0,995                              |2,575|"
      ]
    },
    {
      "cell_type": "code",
      "metadata": {
        "id": "Z32w3KwLneBO"
      },
      "source": [
        "#Importando a numpy para fazer a raiz quadrada\r\n",
        "\r\n",
        "import numpy as np"
      ],
      "execution_count": 38,
      "outputs": []
    },
    {
      "cell_type": "code",
      "metadata": {
        "id": "QvoSsCSRngXR"
      },
      "source": [
        "sigma = desvio_padrao / np.sqrt(n)"
      ],
      "execution_count": 39,
      "outputs": []
    },
    {
      "cell_type": "markdown",
      "metadata": {
        "id": "dMn1oVMDnsxL"
      },
      "source": [
        "obtendo o $e$"
      ]
    },
    {
      "cell_type": "code",
      "metadata": {
        "id": "yuLV34uCnvEP"
      },
      "source": [
        "z = 1.96"
      ],
      "execution_count": 40,
      "outputs": []
    },
    {
      "cell_type": "code",
      "metadata": {
        "id": "pRMYEdSLnyHn"
      },
      "source": [
        "erro = z * sigma"
      ],
      "execution_count": 41,
      "outputs": []
    },
    {
      "cell_type": "code",
      "metadata": {
        "colab": {
          "base_uri": "https://localhost:8080/"
        },
        "id": "sIokLOhmn09u",
        "outputId": "bdca6dcb-3b39-4191-8331-d5a054de6061"
      },
      "source": [
        "erro"
      ],
      "execution_count": 42,
      "outputs": [
        {
          "output_type": "execute_result",
          "data": {
            "text/plain": [
              "0.00011422344106370019"
            ]
          },
          "metadata": {
            "tags": []
          },
          "execution_count": 42
        }
      ]
    },
    {
      "cell_type": "markdown",
      "metadata": {
        "id": "YN0sVa9UefGp"
      },
      "source": [
        "### Calculando o intervalo de confiança"
      ]
    },
    {
      "cell_type": "code",
      "metadata": {
        "id": "L0wBCkk3efvF"
      },
      "source": [
        "media_amostra = amostra['density'].mean()"
      ],
      "execution_count": 43,
      "outputs": []
    },
    {
      "cell_type": "code",
      "metadata": {
        "id": "LNiO-uYjeiWA"
      },
      "source": [
        "intervalo = [media_amostra - erro, media_amostra + erro]"
      ],
      "execution_count": 44,
      "outputs": []
    },
    {
      "cell_type": "code",
      "metadata": {
        "colab": {
          "base_uri": "https://localhost:8080/"
        },
        "id": "fgi77sdpem0i",
        "outputId": "a2a80327-2575-436a-f904-97754407478e"
      },
      "source": [
        "intervalo"
      ],
      "execution_count": 45,
      "outputs": [
        {
          "output_type": "execute_result",
          "data": {
            "text/plain": [
              "[0.9965902065589372, 0.9968186534410646]"
            ]
          },
          "metadata": {
            "tags": []
          },
          "execution_count": 45
        }
      ]
    },
    {
      "cell_type": "code",
      "metadata": {
        "id": "-ZECYU9ZensB"
      },
      "source": [
        "#Forma alternativa utilizando a scipy com a norm para calcular no intervalo\r\n",
        "\r\n",
        "from scipy.stats import norm"
      ],
      "execution_count": 46,
      "outputs": []
    },
    {
      "cell_type": "code",
      "metadata": {
        "colab": {
          "base_uri": "https://localhost:8080/"
        },
        "id": "9zOay0i8epGQ",
        "outputId": "a4fe8194-c8e7-4478-edfe-523295153cf6"
      },
      "source": [
        "norm.interval(alpha = 0.95, loc = media_amostra, scale = sigma)"
      ],
      "execution_count": 47,
      "outputs": [
        {
          "output_type": "execute_result",
          "data": {
            "text/plain": [
              "(0.9965902086578197, 0.9968186513421821)"
            ]
          },
          "metadata": {
            "tags": []
          },
          "execution_count": 47
        }
      ]
    },
    {
      "cell_type": "markdown",
      "metadata": {
        "id": "UsvszGfqevWG"
      },
      "source": [
        "## Calculando o tamanho da amostra"
      ]
    },
    {
      "cell_type": "markdown",
      "metadata": {
        "id": "PbMRG519ew3w"
      },
      "source": [
        "Vamos assumir que queremos um erro máximo de 0.0001, nível de confiança de 95% e o desvio padrão populacional é 0.0019."
      ]
    },
    {
      "cell_type": "markdown",
      "metadata": {
        "id": "dajJFVazexuh"
      },
      "source": [
        "\\begin{equation}\r\n",
        "e = z \\frac{\\sigma}{\\sqrt{n}}\r\n",
        "\\end{equation}\r\n",
        "Com desvio padrão conhecido\r\n",
        "\\begin{equation}\r\n",
        "n = \\left( z \\frac{\\sigma}{e} \\right)^2\r\n",
        "\\end{equation}\r\n",
        "Com desvio padrão desconhecido\r\n",
        "\\begin{equation}\r\n",
        "n = \\left( z \\frac{s}{e} \\right)^2\r\n",
        "\\end{equation}\r\n"
      ]
    },
    {
      "cell_type": "code",
      "metadata": {
        "colab": {
          "base_uri": "https://localhost:8080/"
        },
        "id": "FQh_XL95eyuJ",
        "outputId": "1bcd2040-83f1-4b8c-99a6-688e3cc37a78"
      },
      "source": [
        "0.95 + 0.025"
      ],
      "execution_count": 48,
      "outputs": [
        {
          "output_type": "execute_result",
          "data": {
            "text/plain": [
              "0.975"
            ]
          },
          "metadata": {
            "tags": []
          },
          "execution_count": 48
        }
      ]
    },
    {
      "cell_type": "code",
      "metadata": {
        "id": "qPliMvRfe2DC"
      },
      "source": [
        "#Passamos a área debaixo da curva para o ppf que é de 0.95 + 0.025 (pedaço inicial)\r\n",
        "\r\n",
        "z = norm.ppf(0.975)"
      ],
      "execution_count": 49,
      "outputs": []
    },
    {
      "cell_type": "code",
      "metadata": {
        "id": "TJn8Ij2Ze4Nw"
      },
      "source": [
        "sigma = 0.0019"
      ],
      "execution_count": 50,
      "outputs": []
    },
    {
      "cell_type": "code",
      "metadata": {
        "id": "capLvqzVe5oo"
      },
      "source": [
        "erro = 0.0001"
      ],
      "execution_count": 51,
      "outputs": []
    },
    {
      "cell_type": "code",
      "metadata": {
        "id": "fAzjlS2ge6sy"
      },
      "source": [
        "n = (z*sigma / erro)**2"
      ],
      "execution_count": 52,
      "outputs": []
    },
    {
      "cell_type": "code",
      "metadata": {
        "colab": {
          "base_uri": "https://localhost:8080/"
        },
        "id": "akaZl3-Ie9c9",
        "outputId": "619e8bd6-3b4e-492e-c856-cfbca973f910"
      },
      "source": [
        "n"
      ],
      "execution_count": 53,
      "outputs": [
        {
          "output_type": "execute_result",
          "data": {
            "text/plain": [
              "1386.766634270579"
            ]
          },
          "metadata": {
            "tags": []
          },
          "execution_count": 53
        }
      ]
    },
    {
      "cell_type": "markdown",
      "metadata": {
        "id": "oZFTjorNfAMG"
      },
      "source": [
        "## População finita\r\n",
        "\\begin{equation}\r\n",
        "n = \\frac{z^2 \\sigma^2 N}{z^2 \\sigma^2 + e^2(N-1)}\r\n",
        "\r\n",
        "\\end{equation}\r\n",
        "\r\n",
        "onde N = numero máximo da população"
      ]
    },
    {
      "cell_type": "code",
      "metadata": {
        "id": "uZPxBdNnfBCN"
      },
      "source": [
        "N = 1500"
      ],
      "execution_count": 54,
      "outputs": []
    },
    {
      "cell_type": "code",
      "metadata": {
        "colab": {
          "base_uri": "https://localhost:8080/"
        },
        "id": "D6TDrGNifC7U",
        "outputId": "eb86a913-429c-4c9c-822b-d3c832a6b838"
      },
      "source": [
        "((z**2)*(sigma**2)*N) / ((z**2)*(sigma**2) + (erro**2)*(N-1))"
      ],
      "execution_count": 55,
      "outputs": [
        {
          "output_type": "execute_result",
          "data": {
            "text/plain": [
              "720.8309662682263"
            ]
          },
          "metadata": {
            "tags": []
          },
          "execution_count": 55
        }
      ]
    },
    {
      "cell_type": "markdown",
      "metadata": {
        "id": "DdyAPjuVtXUi"
      },
      "source": [
        "# Teste de Normalidade e Testes Estatísticos (Unicaudal, Bicaudal)"
      ]
    },
    {
      "cell_type": "code",
      "metadata": {
        "id": "MtMWFwfytbgS"
      },
      "source": [
        "url = 'https://raw.githubusercontent.com/allanspadini/linear_estatistica/main/winequality-red.csv'"
      ],
      "execution_count": 56,
      "outputs": []
    },
    {
      "cell_type": "code",
      "metadata": {
        "id": "NNWuIqZItdRd"
      },
      "source": [
        "import pandas as pd"
      ],
      "execution_count": 57,
      "outputs": []
    },
    {
      "cell_type": "code",
      "metadata": {
        "id": "1hULus9ctekz"
      },
      "source": [
        "vinho = pd.read_csv(url, sep=';')"
      ],
      "execution_count": 58,
      "outputs": []
    },
    {
      "cell_type": "code",
      "metadata": {
        "colab": {
          "base_uri": "https://localhost:8080/",
          "height": 195
        },
        "id": "LqkysNhBtfJw",
        "outputId": "46a6a1bb-0014-4ce0-9b6a-fb48c7cdab1a"
      },
      "source": [
        "vinho.head()"
      ],
      "execution_count": 59,
      "outputs": [
        {
          "output_type": "execute_result",
          "data": {
            "text/html": [
              "<div>\n",
              "<style scoped>\n",
              "    .dataframe tbody tr th:only-of-type {\n",
              "        vertical-align: middle;\n",
              "    }\n",
              "\n",
              "    .dataframe tbody tr th {\n",
              "        vertical-align: top;\n",
              "    }\n",
              "\n",
              "    .dataframe thead th {\n",
              "        text-align: right;\n",
              "    }\n",
              "</style>\n",
              "<table border=\"1\" class=\"dataframe\">\n",
              "  <thead>\n",
              "    <tr style=\"text-align: right;\">\n",
              "      <th></th>\n",
              "      <th>fixed acidity</th>\n",
              "      <th>volatile acidity</th>\n",
              "      <th>citric acid</th>\n",
              "      <th>residual sugar</th>\n",
              "      <th>chlorides</th>\n",
              "      <th>free sulfur dioxide</th>\n",
              "      <th>total sulfur dioxide</th>\n",
              "      <th>density</th>\n",
              "      <th>pH</th>\n",
              "      <th>sulphates</th>\n",
              "      <th>alcohol</th>\n",
              "      <th>quality</th>\n",
              "    </tr>\n",
              "  </thead>\n",
              "  <tbody>\n",
              "    <tr>\n",
              "      <th>0</th>\n",
              "      <td>7.4</td>\n",
              "      <td>0.70</td>\n",
              "      <td>0.00</td>\n",
              "      <td>1.9</td>\n",
              "      <td>0.076</td>\n",
              "      <td>11.0</td>\n",
              "      <td>34.0</td>\n",
              "      <td>0.9978</td>\n",
              "      <td>3.51</td>\n",
              "      <td>0.56</td>\n",
              "      <td>9.4</td>\n",
              "      <td>5</td>\n",
              "    </tr>\n",
              "    <tr>\n",
              "      <th>1</th>\n",
              "      <td>7.8</td>\n",
              "      <td>0.88</td>\n",
              "      <td>0.00</td>\n",
              "      <td>2.6</td>\n",
              "      <td>0.098</td>\n",
              "      <td>25.0</td>\n",
              "      <td>67.0</td>\n",
              "      <td>0.9968</td>\n",
              "      <td>3.20</td>\n",
              "      <td>0.68</td>\n",
              "      <td>9.8</td>\n",
              "      <td>5</td>\n",
              "    </tr>\n",
              "    <tr>\n",
              "      <th>2</th>\n",
              "      <td>7.8</td>\n",
              "      <td>0.76</td>\n",
              "      <td>0.04</td>\n",
              "      <td>2.3</td>\n",
              "      <td>0.092</td>\n",
              "      <td>15.0</td>\n",
              "      <td>54.0</td>\n",
              "      <td>0.9970</td>\n",
              "      <td>3.26</td>\n",
              "      <td>0.65</td>\n",
              "      <td>9.8</td>\n",
              "      <td>5</td>\n",
              "    </tr>\n",
              "    <tr>\n",
              "      <th>3</th>\n",
              "      <td>11.2</td>\n",
              "      <td>0.28</td>\n",
              "      <td>0.56</td>\n",
              "      <td>1.9</td>\n",
              "      <td>0.075</td>\n",
              "      <td>17.0</td>\n",
              "      <td>60.0</td>\n",
              "      <td>0.9980</td>\n",
              "      <td>3.16</td>\n",
              "      <td>0.58</td>\n",
              "      <td>9.8</td>\n",
              "      <td>6</td>\n",
              "    </tr>\n",
              "    <tr>\n",
              "      <th>4</th>\n",
              "      <td>7.4</td>\n",
              "      <td>0.70</td>\n",
              "      <td>0.00</td>\n",
              "      <td>1.9</td>\n",
              "      <td>0.076</td>\n",
              "      <td>11.0</td>\n",
              "      <td>34.0</td>\n",
              "      <td>0.9978</td>\n",
              "      <td>3.51</td>\n",
              "      <td>0.56</td>\n",
              "      <td>9.4</td>\n",
              "      <td>5</td>\n",
              "    </tr>\n",
              "  </tbody>\n",
              "</table>\n",
              "</div>"
            ],
            "text/plain": [
              "   fixed acidity  volatile acidity  citric acid  ...  sulphates  alcohol  quality\n",
              "0            7.4              0.70         0.00  ...       0.56      9.4        5\n",
              "1            7.8              0.88         0.00  ...       0.68      9.8        5\n",
              "2            7.8              0.76         0.04  ...       0.65      9.8        5\n",
              "3           11.2              0.28         0.56  ...       0.58      9.8        6\n",
              "4            7.4              0.70         0.00  ...       0.56      9.4        5\n",
              "\n",
              "[5 rows x 12 columns]"
            ]
          },
          "metadata": {
            "tags": []
          },
          "execution_count": 59
        }
      ]
    },
    {
      "cell_type": "markdown",
      "metadata": {
        "id": "IQg80dMOtf4B"
      },
      "source": [
        "## Teste de normalidade"
      ]
    },
    {
      "cell_type": "code",
      "metadata": {
        "colab": {
          "base_uri": "https://localhost:8080/",
          "height": 282
        },
        "id": "V7_ou0nRtiws",
        "outputId": "a0954a51-a894-4508-8952-20abc96250ca"
      },
      "source": [
        "vinho['density'].hist(bins=50)"
      ],
      "execution_count": 60,
      "outputs": [
        {
          "output_type": "execute_result",
          "data": {
            "text/plain": [
              "<matplotlib.axes._subplots.AxesSubplot at 0x7f0d17e1dd30>"
            ]
          },
          "metadata": {
            "tags": []
          },
          "execution_count": 60
        },
        {
          "output_type": "display_data",
          "data": {
            "image/png": "[encoded data removed]",
            "text/plain": [
              "<Figure size 432x288 with 1 Axes>"
            ]
          },
          "metadata": {
            "tags": [],
            "needs_background": "light"
          }
        }
      ]
    },
    {
      "cell_type": "code",
      "metadata": {
        "id": "stQSoIEWtjtc"
      },
      "source": [
        "from scipy.stats import normaltest"
      ],
      "execution_count": 61,
      "outputs": []
    },
    {
      "cell_type": "markdown",
      "metadata": {
        "id": "YnrPJ9TJtk37"
      },
      "source": [
        "O normaltest testa a hipótese nula $H_0$ de que a amostra é proveniente de uma distribuição normal. "
      ]
    },
    {
      "cell_type": "markdown",
      "metadata": {
        "id": "Vt2L9yqqtqXI"
      },
      "source": [
        "### Significância ($\\alpha$)"
      ]
    },
    {
      "cell_type": "code",
      "metadata": {
        "id": "98ULvTJZtotZ"
      },
      "source": [
        "significancia = 0.05"
      ],
      "execution_count": 62,
      "outputs": []
    },
    {
      "cell_type": "markdown",
      "metadata": {
        "id": "t7Wckl5ktslU"
      },
      "source": [
        "### Rejeitamos $H_0$ se o valor $p \\leq 0,05$ e aceitamos a hipótese alternativa $H_1$"
      ]
    },
    {
      "cell_type": "code",
      "metadata": {
        "id": "BtTub-3htvJ_"
      },
      "source": [
        "stat_test, p_valor= normaltest(vinho['density'])"
      ],
      "execution_count": 63,
      "outputs": []
    },
    {
      "cell_type": "code",
      "metadata": {
        "colab": {
          "base_uri": "https://localhost:8080/"
        },
        "id": "Wt3uUyJStwQ0",
        "outputId": "3d7fdde9-d152-40fe-d0c4-d9fa177872e8"
      },
      "source": [
        "stat_test"
      ],
      "execution_count": 64,
      "outputs": [
        {
          "output_type": "execute_result",
          "data": {
            "text/plain": [
              "30.707749940958617"
            ]
          },
          "metadata": {
            "tags": []
          },
          "execution_count": 64
        }
      ]
    },
    {
      "cell_type": "code",
      "metadata": {
        "colab": {
          "base_uri": "https://localhost:8080/"
        },
        "id": "gli34RRWtxVr",
        "outputId": "dde0020d-071e-495f-f288-a7bf9fa7513d"
      },
      "source": [
        "p_valor <= significancia\r\n",
        "\r\n",
        "#Logo, rejeitamos H0 (hipótese), então, nossa distribuição não é considerada normal"
      ],
      "execution_count": 65,
      "outputs": [
        {
          "output_type": "execute_result",
          "data": {
            "text/plain": [
              "True"
            ]
          },
          "metadata": {
            "tags": []
          },
          "execution_count": 65
        }
      ]
    },
    {
      "cell_type": "code",
      "metadata": {
        "id": "YqF2zJn7tyPH"
      },
      "source": [
        "#Criando uma distribuição normal para efeitos de comparação\r\n",
        "\r\n",
        "import numpy as np"
      ],
      "execution_count": 66,
      "outputs": []
    },
    {
      "cell_type": "code",
      "metadata": {
        "id": "M3x-HSCgty6G"
      },
      "source": [
        "media, escala = 0, 0.1"
      ],
      "execution_count": 67,
      "outputs": []
    },
    {
      "cell_type": "code",
      "metadata": {
        "id": "-au3PRz9tzmw"
      },
      "source": [
        "dist_normal = np.random.normal(media, escala, 1000)"
      ],
      "execution_count": 68,
      "outputs": []
    },
    {
      "cell_type": "code",
      "metadata": {
        "colab": {
          "base_uri": "https://localhost:8080/"
        },
        "id": "l8MjBxHgt0Ph",
        "outputId": "7f98af1c-9d44-4cd2-f0e5-c417407b7b15"
      },
      "source": [
        "normaltest(dist_normal)\r\n",
        "\r\n",
        "#Note que neste caso, H0 é maior que 0.05"
      ],
      "execution_count": 69,
      "outputs": [
        {
          "output_type": "execute_result",
          "data": {
            "text/plain": [
              "NormaltestResult(statistic=1.020801293142246, pvalue=0.6002550405062815)"
            ]
          },
          "metadata": {
            "tags": []
          },
          "execution_count": 69
        }
      ]
    },
    {
      "cell_type": "markdown",
      "metadata": {
        "id": "ZCei6YaAt1yH"
      },
      "source": [
        "## Testes paramétricos"
      ]
    },
    {
      "cell_type": "markdown",
      "metadata": {
        "id": "wteP2fj0t3OG"
      },
      "source": [
        "### Teste Bicaudal"
      ]
    },
    {
      "cell_type": "markdown",
      "metadata": {
        "id": "RJe1bRoSt4X0"
      },
      "source": [
        "Este teste é muito utilizado em **testes de qualidade**. Outro exemplo é a avaliação de peças que devem ter um encaixe perfeito (porcas e parafusos, chaves e fechaduras)."
      ]
    },
    {
      "cell_type": "markdown",
      "metadata": {
        "id": "BGADq43yt59s"
      },
      "source": [
        "### <font color='red'>Problema</font>"
      ]
    },
    {
      "cell_type": "markdown",
      "metadata": {
        "id": "BBfXDpe2t7Un"
      },
      "source": [
        "Nossa produtora de vinhos produz garrafas de 500 ml. Seu processo de produção é quase todo automatizado e as garrafas são preenchidas por uma máquina que às vezes apresenta um certo desajuste, levando a erros no preenchimento das mesmas para mais ou menos conteúdo. Quando o volume médio cai abaixo de 500 ml, a empresa se preocupa em perder vendas e ter problemas com os orgãos fiscalizadores. Quando o volume passa de 500 ml, a empresa começa a se preocupar com prejuízos no processo de produção.\r\n",
        "\r\n",
        "O setor de controle de qualidade da empresa extrai, periodicamente, amostras de 50 garrafas para monitorar o processo de produção. Para cada amostra, é realizado um teste de hipóteses para avaliar se o maquinário se desajustou. A equipe de controle de qualidade assume um nível de significância de 5%.\r\n",
        "\r\n",
        "Suponha agora que uma amostra de 50 embalagens foi selecionada e que a média amostral observada foi de 503,24 ml. Esse valor de média amostral é suficientemente maior que 500 ml para nos fazer rejeitar a hipótese de que a média do processo é de 500 ml ao nível de significância de 5%?"
      ]
    },
    {
      "cell_type": "markdown",
      "metadata": {
        "id": "83p5YzSnt8Ui"
      },
      "source": [
        "![Teste Bicaudal](https://caelum-online-public.s3.amazonaws.com/1229-estatistica-parte3/01/img005.png)"
      ]
    },
    {
      "cell_type": "code",
      "metadata": {
        "id": "H8S5rLJWt9VX"
      },
      "source": [
        "amostra = [509, 505, 495, 510, 496, 509, 497, 502, 503, 505, \r\n",
        "           501, 505, 510, 505, 504, 497, 506, 506, 508, 505, \r\n",
        "           497, 504, 500, 498, 506, 496, 508, 497, 503, 501, \r\n",
        "           503, 506, 499, 498, 509, 507, 503, 499, 509, 495, \r\n",
        "           502, 505, 504, 509, 508, 501, 505, 497, 508, 507]"
      ],
      "execution_count": 70,
      "outputs": []
    },
    {
      "cell_type": "code",
      "metadata": {
        "id": "of0G9TlQt-iO",
        "outputId": "eb168dbb-5688-41d2-e5f8-c9fb551f5364",
        "colab": {
          "base_uri": "https://localhost:8080/",
          "height": 195
        }
      },
      "source": [
        "amostra = pd.DataFrame(amostra, columns = ['Amostra'])\r\n",
        "amostra.head()"
      ],
      "execution_count": 71,
      "outputs": [
        {
          "output_type": "execute_result",
          "data": {
            "text/html": [
              "<div>\n",
              "<style scoped>\n",
              "    .dataframe tbody tr th:only-of-type {\n",
              "        vertical-align: middle;\n",
              "    }\n",
              "\n",
              "    .dataframe tbody tr th {\n",
              "        vertical-align: top;\n",
              "    }\n",
              "\n",
              "    .dataframe thead th {\n",
              "        text-align: right;\n",
              "    }\n",
              "</style>\n",
              "<table border=\"1\" class=\"dataframe\">\n",
              "  <thead>\n",
              "    <tr style=\"text-align: right;\">\n",
              "      <th></th>\n",
              "      <th>Amostra</th>\n",
              "    </tr>\n",
              "  </thead>\n",
              "  <tbody>\n",
              "    <tr>\n",
              "      <th>0</th>\n",
              "      <td>509</td>\n",
              "    </tr>\n",
              "    <tr>\n",
              "      <th>1</th>\n",
              "      <td>505</td>\n",
              "    </tr>\n",
              "    <tr>\n",
              "      <th>2</th>\n",
              "      <td>495</td>\n",
              "    </tr>\n",
              "    <tr>\n",
              "      <th>3</th>\n",
              "      <td>510</td>\n",
              "    </tr>\n",
              "    <tr>\n",
              "      <th>4</th>\n",
              "      <td>496</td>\n",
              "    </tr>\n",
              "  </tbody>\n",
              "</table>\n",
              "</div>"
            ],
            "text/plain": [
              "   Amostra\n",
              "0      509\n",
              "1      505\n",
              "2      495\n",
              "3      510\n",
              "4      496"
            ]
          },
          "metadata": {
            "tags": []
          },
          "execution_count": 71
        }
      ]
    },
    {
      "cell_type": "code",
      "metadata": {
        "id": "hAJDcLavt_3Q",
        "outputId": "47a0a33a-9953-475c-ba5c-6ff212733350",
        "colab": {
          "base_uri": "https://localhost:8080/"
        }
      },
      "source": [
        "media_amostra = amostra.mean()[0]\r\n",
        "media_amostra"
      ],
      "execution_count": 72,
      "outputs": [
        {
          "output_type": "execute_result",
          "data": {
            "text/plain": [
              "503.24"
            ]
          },
          "metadata": {
            "tags": []
          },
          "execution_count": 72
        }
      ]
    },
    {
      "cell_type": "code",
      "metadata": {
        "id": "fgCjy4bvuAuM",
        "outputId": "5e3ad79a-3167-4e2f-c6c9-a36bf86a47e5",
        "colab": {
          "base_uri": "https://localhost:8080/"
        }
      },
      "source": [
        "desvio_padrao_amostra = amostra.std()[0]\r\n",
        "desvio_padrao_amostra"
      ],
      "execution_count": 73,
      "outputs": [
        {
          "output_type": "execute_result",
          "data": {
            "text/plain": [
              "4.483803050527347"
            ]
          },
          "metadata": {
            "tags": []
          },
          "execution_count": 73
        }
      ]
    },
    {
      "cell_type": "code",
      "metadata": {
        "id": "kswg-lSUuBPY"
      },
      "source": [
        "media = 500\r\n",
        "significancia = 0.05\r\n",
        "confianca = 1 - significancia\r\n",
        "n = 50"
      ],
      "execution_count": 157,
      "outputs": []
    },
    {
      "cell_type": "markdown",
      "metadata": {
        "id": "Tgt2T0auuCVN"
      },
      "source": [
        "### **Passo 1** - formulação das hipóteses $H_0$ e $H_1$\r\n",
        "\r\n",
        "#### <font color='red'>Lembre-se, a hipótese nula sempre contém a alegação de igualdade</font>"
      ]
    },
    {
      "cell_type": "markdown",
      "metadata": {
        "id": "bO8WcUpHuDZq"
      },
      "source": [
        "### $H_0: \\mu = 500$\r\n",
        "\r\n",
        "### $H_1: \\mu \\neq 500$"
      ]
    },
    {
      "cell_type": "markdown",
      "metadata": {
        "id": "NuS7st5yuE2L"
      },
      "source": [
        "### **Passo 2** - escolha da distribuição amostral adequada\r\n",
        "<img src='https://caelum-online-public.s3.amazonaws.com/1229-estatistica-parte3/01/img003.png' width=70%>"
      ]
    },
    {
      "cell_type": "markdown",
      "metadata": {
        "id": "n26HC6pfuGnu"
      },
      "source": [
        "### O tamanho da amostra é maior que 30?\r\n",
        "#### Resp.: Sim\r\n",
        "\r\n",
        "### O desvio padrão populacional é conhecido?\r\n",
        "#### Resp.: Não"
      ]
    },
    {
      "cell_type": "markdown",
      "metadata": {
        "id": "wfMzeOCIuH3z"
      },
      "source": [
        "### **Passo 3** - fixação da significância do teste ($\\alpha$)"
      ]
    },
    {
      "cell_type": "code",
      "metadata": {
        "id": "RNSGgPyvuJyT"
      },
      "source": [
        "from scipy.stats import norm"
      ],
      "execution_count": 75,
      "outputs": []
    },
    {
      "cell_type": "code",
      "metadata": {
        "id": "J0KvX-E2uKi-",
        "outputId": "81bc7aad-84d3-48f5-8911-a3928443e287",
        "colab": {
          "base_uri": "https://localhost:8080/"
        }
      },
      "source": [
        "probabilidade = (0.5 + (confianca / 2))\r\n",
        "probabilidade"
      ],
      "execution_count": 76,
      "outputs": [
        {
          "output_type": "execute_result",
          "data": {
            "text/plain": [
              "0.975"
            ]
          },
          "metadata": {
            "tags": []
          },
          "execution_count": 76
        }
      ]
    },
    {
      "cell_type": "markdown",
      "metadata": {
        "id": "-cyIbkxNuMSh"
      },
      "source": [
        "### Obtendo $z_{\\alpha/2}$"
      ]
    },
    {
      "cell_type": "code",
      "metadata": {
        "id": "jGoUv_EEuNGK",
        "outputId": "446bb5b5-79ad-4c98-d555-6b27d9fa9f55",
        "colab": {
          "base_uri": "https://localhost:8080/"
        }
      },
      "source": [
        "z_alpha_2 = norm.ppf(probabilidade)\r\n",
        "z_alpha_2"
      ],
      "execution_count": 77,
      "outputs": [
        {
          "output_type": "execute_result",
          "data": {
            "text/plain": [
              "1.959963984540054"
            ]
          },
          "metadata": {
            "tags": []
          },
          "execution_count": 77
        }
      ]
    },
    {
      "cell_type": "markdown",
      "metadata": {
        "id": "ZLmdA2PBuOCl"
      },
      "source": [
        "![Região de Aceitação](https://caelum-online-public.s3.amazonaws.com/1229-estatistica-parte3/01/img006.png)"
      ]
    },
    {
      "cell_type": "markdown",
      "metadata": {
        "id": "CvsQMkT2uP6v"
      },
      "source": [
        "### **Passo 4** - cálculo da estatística-teste e verificação desse valor com as áreas de aceitação e rejeição do teste\r\n",
        "\r\n",
        "# $$z = \\frac{\\bar{x} - \\mu_0}{\\frac{s}{\\sqrt{n}}}$$"
      ]
    },
    {
      "cell_type": "code",
      "metadata": {
        "id": "4bXrkG_iuRRg",
        "outputId": "c3de1ab3-9929-48f2-853e-e60016536f5d",
        "colab": {
          "base_uri": "https://localhost:8080/"
        }
      },
      "source": [
        "z = (media_amostra - media) / (desvio_padrao_amostra / np.sqrt(n))\r\n",
        "z"
      ],
      "execution_count": 78,
      "outputs": [
        {
          "output_type": "execute_result",
          "data": {
            "text/plain": [
              "5.109559775991877"
            ]
          },
          "metadata": {
            "tags": []
          },
          "execution_count": 78
        }
      ]
    },
    {
      "cell_type": "markdown",
      "metadata": {
        "id": "jLgOVySnuSLr"
      },
      "source": [
        "![Estatística-Teste](https://caelum-online-public.s3.amazonaws.com/1229-estatistica-parte3/01/img007.png)"
      ]
    },
    {
      "cell_type": "markdown",
      "metadata": {
        "id": "Gw-5xWAGuTj-"
      },
      "source": [
        "### **Passo 5** - Aceitação ou rejeição da hipótese nula"
      ]
    },
    {
      "cell_type": "markdown",
      "metadata": {
        "id": "xkj3bOKLuV8B"
      },
      "source": [
        "<img src='https://caelum-online-public.s3.amazonaws.com/1229-estatistica-parte3/01/img013.png' width=90%>"
      ]
    },
    {
      "cell_type": "markdown",
      "metadata": {
        "id": "or_uyJz2uXnQ"
      },
      "source": [
        "### <font color='red'>Critério do valor crítico</font>\r\n",
        "\r\n",
        "> ### Teste Bicaudal\r\n",
        "> ### Rejeitar $H_0$ se $z \\leq -z_{\\alpha / 2}$ ou se $z \\geq z_{\\alpha / 2}$"
      ]
    },
    {
      "cell_type": "code",
      "metadata": {
        "id": "RzGUkD-7ua5k",
        "outputId": "382184f9-21fd-4c52-b403-e26910c8dd3c",
        "colab": {
          "base_uri": "https://localhost:8080/"
        }
      },
      "source": [
        "z <= -z_alpha_2"
      ],
      "execution_count": 79,
      "outputs": [
        {
          "output_type": "execute_result",
          "data": {
            "text/plain": [
              "False"
            ]
          },
          "metadata": {
            "tags": []
          },
          "execution_count": 79
        }
      ]
    },
    {
      "cell_type": "code",
      "metadata": {
        "id": "QGooiavlubu-",
        "outputId": "dfca09a9-3f8c-4a24-d709-6ff9081d7a08",
        "colab": {
          "base_uri": "https://localhost:8080/"
        }
      },
      "source": [
        "z >= z_alpha_2"
      ],
      "execution_count": 80,
      "outputs": [
        {
          "output_type": "execute_result",
          "data": {
            "text/plain": [
              "True"
            ]
          },
          "metadata": {
            "tags": []
          },
          "execution_count": 80
        }
      ]
    },
    {
      "cell_type": "markdown",
      "metadata": {
        "id": "_iKxDbbKuchl"
      },
      "source": [
        "### <font color='green'>Conclusão: Como a média amostral $\\bar{x}$ é significativamente maior que 500 ml, rejeitamos $H_0$. Neste caso, devem ser tomadas providências para ajustar o maquinário que preenche as embalagens.</font>"
      ]
    },
    {
      "cell_type": "markdown",
      "metadata": {
        "id": "qy0xAKB6uecW"
      },
      "source": [
        "### <font color='red'>Critério do $p-valor$</font>\r\n",
        "\r\n",
        "> ### Teste Bicaudal\r\n",
        "> ### Rejeitar $H_0$ se o valor $p\\leq\\alpha$"
      ]
    },
    {
      "cell_type": "code",
      "metadata": {
        "id": "pvIK2h_eufcT",
        "outputId": "d4ef81ed-5a9e-4c18-897d-58cdcb58ec3b",
        "colab": {
          "base_uri": "https://localhost:8080/"
        }
      },
      "source": [
        "p_valor = 2 * (1 - norm.cdf(z))\r\n",
        "p_valor"
      ],
      "execution_count": 81,
      "outputs": [
        {
          "output_type": "execute_result",
          "data": {
            "text/plain": [
              "3.2291031715203644e-07"
            ]
          },
          "metadata": {
            "tags": []
          },
          "execution_count": 81
        }
      ]
    },
    {
      "cell_type": "code",
      "metadata": {
        "id": "SPpF0t-xugoX",
        "outputId": "1c649af8-5a31-45c9-e7c7-2ffafa589b64",
        "colab": {
          "base_uri": "https://localhost:8080/"
        }
      },
      "source": [
        "p_valor = 2 * (norm.sf(z))\r\n",
        "p_valor"
      ],
      "execution_count": 82,
      "outputs": [
        {
          "output_type": "execute_result",
          "data": {
            "text/plain": [
              "3.229103172445718e-07"
            ]
          },
          "metadata": {
            "tags": []
          },
          "execution_count": 82
        }
      ]
    },
    {
      "cell_type": "code",
      "metadata": {
        "id": "28ij5-8xuhcW",
        "outputId": "a433c571-22a0-4c8f-fb10-b7ca45f6cc5e",
        "colab": {
          "base_uri": "https://localhost:8080/"
        }
      },
      "source": [
        "p_valor <= significancia"
      ],
      "execution_count": 83,
      "outputs": [
        {
          "output_type": "execute_result",
          "data": {
            "text/plain": [
              "True"
            ]
          },
          "metadata": {
            "tags": []
          },
          "execution_count": 83
        }
      ]
    },
    {
      "cell_type": "markdown",
      "metadata": {
        "id": "A_eksjgQuik2"
      },
      "source": [
        "### Ztest"
      ]
    },
    {
      "cell_type": "code",
      "metadata": {
        "id": "rTLhvIW8ujjZ",
        "outputId": "0be7498e-718b-4cc9-c3be-d777608c2bba",
        "colab": {
          "base_uri": "https://localhost:8080/"
        }
      },
      "source": [
        "from statsmodels.stats.weightstats import ztest"
      ],
      "execution_count": 84,
      "outputs": [
        {
          "output_type": "stream",
          "text": [
            "/usr/local/lib/python3.6/dist-packages/statsmodels/tools/_testing.py:19: FutureWarning: pandas.util.testing is deprecated. Use the functions in the public API at pandas.testing instead.\n",
            "  import pandas.util.testing as tm\n"
          ],
          "name": "stderr"
        }
      ]
    },
    {
      "cell_type": "code",
      "metadata": {
        "id": "1zbkHOvAukYu",
        "outputId": "87aa284a-4cbb-452a-b7b6-a4e48c7b2533",
        "colab": {
          "base_uri": "https://localhost:8080/"
        }
      },
      "source": [
        "ztest(x1 = amostra, value = media)"
      ],
      "execution_count": 85,
      "outputs": [
        {
          "output_type": "execute_result",
          "data": {
            "text/plain": [
              "(array([5.10955978]), array([3.22910317e-07]))"
            ]
          },
          "metadata": {
            "tags": []
          },
          "execution_count": 85
        }
      ]
    },
    {
      "cell_type": "markdown",
      "metadata": {
        "id": "p9Ppo-BYuldP"
      },
      "source": [
        "### Teste unicaudal"
      ]
    },
    {
      "cell_type": "markdown",
      "metadata": {
        "id": "983wfWXQumqz"
      },
      "source": [
        "## <font color='red'>Problema</font>\r\n",
        "\r\n",
        "Nossa fábrica de vinho agora está produzindo mii garrafas de 350 ml de seu principal produto que contém, no máximo, 37 gramas de açúcar. Esta alegação nos leva a entender que a quantidade média de açúcar em uma garrafa deve ser igual ou menor que 37 g.\r\n",
        "\r\n",
        "Um consumidor desconfiado e com conhecimentos em inferência estatística resolve testar a alegação do fabricante e seleciona, aleatóriamente, em um conjunto de estabelecimentos distintos, uma amostra de 25 garrafas. Utilizando o equipamento correto o consumidor obteve as quantidades de açúcar em todas as 25 amostras.\r\n",
        "\r\n",
        "Assumindo que essa população se distribua aproximadamente como uma normal e considerando um nível de significância de 5%, é possível aceitar como válida a alegação do fabricante?"
      ]
    },
    {
      "cell_type": "markdown",
      "metadata": {
        "id": "H_2YrLBguooV"
      },
      "source": [
        "### Construindo tabela $t$ de Student"
      ]
    },
    {
      "cell_type": "code",
      "metadata": {
        "id": "qnGMOOwjuphM",
        "outputId": "08e7b966-808e-46e0-b799-5fe5d1b9ecbe",
        "colab": {
          "base_uri": "https://localhost:8080/",
          "height": 965
        }
      },
      "source": [
        "import pandas as pd\r\n",
        "from scipy.stats import t as t_student\r\n",
        "\r\n",
        "tabela_t_student = pd.DataFrame(\r\n",
        "    [], \r\n",
        "    index = [i for i in range(1, 31)],\r\n",
        "    columns = [i / 100 for i in range(10, 0, -1)]\r\n",
        ")\r\n",
        "\r\n",
        "for index in tabela_t_student.index:\r\n",
        "    for column in tabela_t_student.columns:\r\n",
        "        tabela_t_student.loc[index, column] = t_student.ppf(1 - float(column) / 2, index)\r\n",
        "\r\n",
        "index=[('Graus de Liberdade (n - 1)', i) for i in range(1, 31)]\r\n",
        "tabela_t_student.index = pd.MultiIndex.from_tuples(index)\r\n",
        "\r\n",
        "columns = [(\"{0:0.3f}\".format(i / 100), \"{0:0.3f}\".format((i / 100) / 2)) for i in range(10, 0, -1)]\r\n",
        "tabela_t_student.columns = pd.MultiIndex.from_tuples(columns)\r\n",
        "\r\n",
        "tabela_t_student.rename_axis(['Bicaudal', 'Unicaudal'], axis = 1, inplace = True)\r\n",
        "\r\n",
        "tabela_t_student"
      ],
      "execution_count": 86,
      "outputs": [
        {
          "output_type": "execute_result",
          "data": {
            "text/html": [
              "<div>\n",
              "<style scoped>\n",
              "    .dataframe tbody tr th:only-of-type {\n",
              "        vertical-align: middle;\n",
              "    }\n",
              "\n",
              "    .dataframe tbody tr th {\n",
              "        vertical-align: top;\n",
              "    }\n",
              "\n",
              "    .dataframe thead tr th {\n",
              "        text-align: left;\n",
              "    }\n",
              "</style>\n",
              "<table border=\"1\" class=\"dataframe\">\n",
              "  <thead>\n",
              "    <tr>\n",
              "      <th></th>\n",
              "      <th>Bicaudal</th>\n",
              "      <th>0.100</th>\n",
              "      <th>0.090</th>\n",
              "      <th>0.080</th>\n",
              "      <th>0.070</th>\n",
              "      <th>0.060</th>\n",
              "      <th>0.050</th>\n",
              "      <th>0.040</th>\n",
              "      <th>0.030</th>\n",
              "      <th>0.020</th>\n",
              "      <th>0.010</th>\n",
              "    </tr>\n",
              "    <tr>\n",
              "      <th></th>\n",
              "      <th>Unicaudal</th>\n",
              "      <th>0.050</th>\n",
              "      <th>0.045</th>\n",
              "      <th>0.040</th>\n",
              "      <th>0.035</th>\n",
              "      <th>0.030</th>\n",
              "      <th>0.025</th>\n",
              "      <th>0.020</th>\n",
              "      <th>0.015</th>\n",
              "      <th>0.010</th>\n",
              "      <th>0.005</th>\n",
              "    </tr>\n",
              "  </thead>\n",
              "  <tbody>\n",
              "    <tr>\n",
              "      <th rowspan=\"30\" valign=\"top\">Graus de Liberdade (n - 1)</th>\n",
              "      <th>1</th>\n",
              "      <td>6.31375</td>\n",
              "      <td>7.02637</td>\n",
              "      <td>7.91582</td>\n",
              "      <td>9.05789</td>\n",
              "      <td>10.5789</td>\n",
              "      <td>12.7062</td>\n",
              "      <td>15.8945</td>\n",
              "      <td>21.2049</td>\n",
              "      <td>31.8205</td>\n",
              "      <td>63.6567</td>\n",
              "    </tr>\n",
              "    <tr>\n",
              "      <th>2</th>\n",
              "      <td>2.91999</td>\n",
              "      <td>3.10398</td>\n",
              "      <td>3.31976</td>\n",
              "      <td>3.57825</td>\n",
              "      <td>3.89643</td>\n",
              "      <td>4.30265</td>\n",
              "      <td>4.84873</td>\n",
              "      <td>5.64278</td>\n",
              "      <td>6.96456</td>\n",
              "      <td>9.92484</td>\n",
              "    </tr>\n",
              "    <tr>\n",
              "      <th>3</th>\n",
              "      <td>2.35336</td>\n",
              "      <td>2.47081</td>\n",
              "      <td>2.60543</td>\n",
              "      <td>2.7626</td>\n",
              "      <td>2.95051</td>\n",
              "      <td>3.18245</td>\n",
              "      <td>3.48191</td>\n",
              "      <td>3.89605</td>\n",
              "      <td>4.5407</td>\n",
              "      <td>5.84091</td>\n",
              "    </tr>\n",
              "    <tr>\n",
              "      <th>4</th>\n",
              "      <td>2.13185</td>\n",
              "      <td>2.2261</td>\n",
              "      <td>2.33287</td>\n",
              "      <td>2.45589</td>\n",
              "      <td>2.60076</td>\n",
              "      <td>2.77645</td>\n",
              "      <td>2.99853</td>\n",
              "      <td>3.29763</td>\n",
              "      <td>3.74695</td>\n",
              "      <td>4.60409</td>\n",
              "    </tr>\n",
              "    <tr>\n",
              "      <th>5</th>\n",
              "      <td>2.01505</td>\n",
              "      <td>2.09784</td>\n",
              "      <td>2.19096</td>\n",
              "      <td>2.29739</td>\n",
              "      <td>2.42158</td>\n",
              "      <td>2.57058</td>\n",
              "      <td>2.75651</td>\n",
              "      <td>3.00287</td>\n",
              "      <td>3.36493</td>\n",
              "      <td>4.03214</td>\n",
              "    </tr>\n",
              "    <tr>\n",
              "      <th>6</th>\n",
              "      <td>1.94318</td>\n",
              "      <td>2.0192</td>\n",
              "      <td>2.10431</td>\n",
              "      <td>2.20106</td>\n",
              "      <td>2.31326</td>\n",
              "      <td>2.44691</td>\n",
              "      <td>2.61224</td>\n",
              "      <td>2.82893</td>\n",
              "      <td>3.14267</td>\n",
              "      <td>3.70743</td>\n",
              "    </tr>\n",
              "    <tr>\n",
              "      <th>7</th>\n",
              "      <td>1.89458</td>\n",
              "      <td>1.96615</td>\n",
              "      <td>2.04601</td>\n",
              "      <td>2.13645</td>\n",
              "      <td>2.24088</td>\n",
              "      <td>2.36462</td>\n",
              "      <td>2.51675</td>\n",
              "      <td>2.71457</td>\n",
              "      <td>2.99795</td>\n",
              "      <td>3.49948</td>\n",
              "    </tr>\n",
              "    <tr>\n",
              "      <th>8</th>\n",
              "      <td>1.85955</td>\n",
              "      <td>1.92799</td>\n",
              "      <td>2.00415</td>\n",
              "      <td>2.09017</td>\n",
              "      <td>2.18915</td>\n",
              "      <td>2.306</td>\n",
              "      <td>2.44898</td>\n",
              "      <td>2.63381</td>\n",
              "      <td>2.89646</td>\n",
              "      <td>3.35539</td>\n",
              "    </tr>\n",
              "    <tr>\n",
              "      <th>9</th>\n",
              "      <td>1.83311</td>\n",
              "      <td>1.89922</td>\n",
              "      <td>1.97265</td>\n",
              "      <td>2.05539</td>\n",
              "      <td>2.15038</td>\n",
              "      <td>2.26216</td>\n",
              "      <td>2.39844</td>\n",
              "      <td>2.5738</td>\n",
              "      <td>2.82144</td>\n",
              "      <td>3.24984</td>\n",
              "    </tr>\n",
              "    <tr>\n",
              "      <th>10</th>\n",
              "      <td>1.81246</td>\n",
              "      <td>1.87677</td>\n",
              "      <td>1.9481</td>\n",
              "      <td>2.02833</td>\n",
              "      <td>2.12023</td>\n",
              "      <td>2.22814</td>\n",
              "      <td>2.35931</td>\n",
              "      <td>2.52748</td>\n",
              "      <td>2.76377</td>\n",
              "      <td>3.16927</td>\n",
              "    </tr>\n",
              "    <tr>\n",
              "      <th>11</th>\n",
              "      <td>1.79588</td>\n",
              "      <td>1.85877</td>\n",
              "      <td>1.92843</td>\n",
              "      <td>2.00666</td>\n",
              "      <td>2.09614</td>\n",
              "      <td>2.20099</td>\n",
              "      <td>2.32814</td>\n",
              "      <td>2.49066</td>\n",
              "      <td>2.71808</td>\n",
              "      <td>3.10581</td>\n",
              "    </tr>\n",
              "    <tr>\n",
              "      <th>12</th>\n",
              "      <td>1.78229</td>\n",
              "      <td>1.84402</td>\n",
              "      <td>1.91231</td>\n",
              "      <td>1.98893</td>\n",
              "      <td>2.07644</td>\n",
              "      <td>2.17881</td>\n",
              "      <td>2.30272</td>\n",
              "      <td>2.4607</td>\n",
              "      <td>2.681</td>\n",
              "      <td>3.05454</td>\n",
              "    </tr>\n",
              "    <tr>\n",
              "      <th>13</th>\n",
              "      <td>1.77093</td>\n",
              "      <td>1.8317</td>\n",
              "      <td>1.89887</td>\n",
              "      <td>1.97416</td>\n",
              "      <td>2.06004</td>\n",
              "      <td>2.16037</td>\n",
              "      <td>2.2816</td>\n",
              "      <td>2.43585</td>\n",
              "      <td>2.65031</td>\n",
              "      <td>3.01228</td>\n",
              "    </tr>\n",
              "    <tr>\n",
              "      <th>14</th>\n",
              "      <td>1.76131</td>\n",
              "      <td>1.82127</td>\n",
              "      <td>1.8875</td>\n",
              "      <td>1.96166</td>\n",
              "      <td>2.04617</td>\n",
              "      <td>2.14479</td>\n",
              "      <td>2.26378</td>\n",
              "      <td>2.4149</td>\n",
              "      <td>2.62449</td>\n",
              "      <td>2.97684</td>\n",
              "    </tr>\n",
              "    <tr>\n",
              "      <th>15</th>\n",
              "      <td>1.75305</td>\n",
              "      <td>1.81232</td>\n",
              "      <td>1.87774</td>\n",
              "      <td>1.95094</td>\n",
              "      <td>2.03429</td>\n",
              "      <td>2.13145</td>\n",
              "      <td>2.24854</td>\n",
              "      <td>2.39701</td>\n",
              "      <td>2.60248</td>\n",
              "      <td>2.94671</td>\n",
              "    </tr>\n",
              "    <tr>\n",
              "      <th>16</th>\n",
              "      <td>1.74588</td>\n",
              "      <td>1.80455</td>\n",
              "      <td>1.86928</td>\n",
              "      <td>1.94165</td>\n",
              "      <td>2.024</td>\n",
              "      <td>2.11991</td>\n",
              "      <td>2.23536</td>\n",
              "      <td>2.38155</td>\n",
              "      <td>2.58349</td>\n",
              "      <td>2.92078</td>\n",
              "    </tr>\n",
              "    <tr>\n",
              "      <th>17</th>\n",
              "      <td>1.73961</td>\n",
              "      <td>1.79776</td>\n",
              "      <td>1.86187</td>\n",
              "      <td>1.93353</td>\n",
              "      <td>2.015</td>\n",
              "      <td>2.10982</td>\n",
              "      <td>2.22385</td>\n",
              "      <td>2.36805</td>\n",
              "      <td>2.56693</td>\n",
              "      <td>2.89823</td>\n",
              "    </tr>\n",
              "    <tr>\n",
              "      <th>18</th>\n",
              "      <td>1.73406</td>\n",
              "      <td>1.79175</td>\n",
              "      <td>1.85534</td>\n",
              "      <td>1.92636</td>\n",
              "      <td>2.00707</td>\n",
              "      <td>2.10092</td>\n",
              "      <td>2.2137</td>\n",
              "      <td>2.35618</td>\n",
              "      <td>2.55238</td>\n",
              "      <td>2.87844</td>\n",
              "    </tr>\n",
              "    <tr>\n",
              "      <th>19</th>\n",
              "      <td>1.72913</td>\n",
              "      <td>1.78642</td>\n",
              "      <td>1.84953</td>\n",
              "      <td>1.91999</td>\n",
              "      <td>2.00002</td>\n",
              "      <td>2.09302</td>\n",
              "      <td>2.2047</td>\n",
              "      <td>2.34565</td>\n",
              "      <td>2.53948</td>\n",
              "      <td>2.86093</td>\n",
              "    </tr>\n",
              "    <tr>\n",
              "      <th>20</th>\n",
              "      <td>1.72472</td>\n",
              "      <td>1.78164</td>\n",
              "      <td>1.84433</td>\n",
              "      <td>1.91429</td>\n",
              "      <td>1.99371</td>\n",
              "      <td>2.08596</td>\n",
              "      <td>2.19666</td>\n",
              "      <td>2.33624</td>\n",
              "      <td>2.52798</td>\n",
              "      <td>2.84534</td>\n",
              "    </tr>\n",
              "    <tr>\n",
              "      <th>21</th>\n",
              "      <td>1.72074</td>\n",
              "      <td>1.77734</td>\n",
              "      <td>1.83965</td>\n",
              "      <td>1.90916</td>\n",
              "      <td>1.98804</td>\n",
              "      <td>2.07961</td>\n",
              "      <td>2.18943</td>\n",
              "      <td>2.32779</td>\n",
              "      <td>2.51765</td>\n",
              "      <td>2.83136</td>\n",
              "    </tr>\n",
              "    <tr>\n",
              "      <th>22</th>\n",
              "      <td>1.71714</td>\n",
              "      <td>1.77345</td>\n",
              "      <td>1.83542</td>\n",
              "      <td>1.90452</td>\n",
              "      <td>1.98291</td>\n",
              "      <td>2.07387</td>\n",
              "      <td>2.18289</td>\n",
              "      <td>2.32016</td>\n",
              "      <td>2.50832</td>\n",
              "      <td>2.81876</td>\n",
              "    </tr>\n",
              "    <tr>\n",
              "      <th>23</th>\n",
              "      <td>1.71387</td>\n",
              "      <td>1.76991</td>\n",
              "      <td>1.83157</td>\n",
              "      <td>1.90031</td>\n",
              "      <td>1.97825</td>\n",
              "      <td>2.06866</td>\n",
              "      <td>2.17696</td>\n",
              "      <td>2.31323</td>\n",
              "      <td>2.49987</td>\n",
              "      <td>2.80734</td>\n",
              "    </tr>\n",
              "    <tr>\n",
              "      <th>24</th>\n",
              "      <td>1.71088</td>\n",
              "      <td>1.76667</td>\n",
              "      <td>1.82805</td>\n",
              "      <td>1.89646</td>\n",
              "      <td>1.97399</td>\n",
              "      <td>2.0639</td>\n",
              "      <td>2.17154</td>\n",
              "      <td>2.30691</td>\n",
              "      <td>2.49216</td>\n",
              "      <td>2.79694</td>\n",
              "    </tr>\n",
              "    <tr>\n",
              "      <th>25</th>\n",
              "      <td>1.70814</td>\n",
              "      <td>1.76371</td>\n",
              "      <td>1.82483</td>\n",
              "      <td>1.89293</td>\n",
              "      <td>1.9701</td>\n",
              "      <td>2.05954</td>\n",
              "      <td>2.16659</td>\n",
              "      <td>2.30113</td>\n",
              "      <td>2.48511</td>\n",
              "      <td>2.78744</td>\n",
              "    </tr>\n",
              "    <tr>\n",
              "      <th>26</th>\n",
              "      <td>1.70562</td>\n",
              "      <td>1.76098</td>\n",
              "      <td>1.82186</td>\n",
              "      <td>1.88968</td>\n",
              "      <td>1.96651</td>\n",
              "      <td>2.05553</td>\n",
              "      <td>2.16203</td>\n",
              "      <td>2.29581</td>\n",
              "      <td>2.47863</td>\n",
              "      <td>2.77871</td>\n",
              "    </tr>\n",
              "    <tr>\n",
              "      <th>27</th>\n",
              "      <td>1.70329</td>\n",
              "      <td>1.75847</td>\n",
              "      <td>1.81913</td>\n",
              "      <td>1.88669</td>\n",
              "      <td>1.9632</td>\n",
              "      <td>2.05183</td>\n",
              "      <td>2.15782</td>\n",
              "      <td>2.29091</td>\n",
              "      <td>2.47266</td>\n",
              "      <td>2.77068</td>\n",
              "    </tr>\n",
              "    <tr>\n",
              "      <th>28</th>\n",
              "      <td>1.70113</td>\n",
              "      <td>1.75613</td>\n",
              "      <td>1.81659</td>\n",
              "      <td>1.88391</td>\n",
              "      <td>1.96014</td>\n",
              "      <td>2.04841</td>\n",
              "      <td>2.15393</td>\n",
              "      <td>2.28638</td>\n",
              "      <td>2.46714</td>\n",
              "      <td>2.76326</td>\n",
              "    </tr>\n",
              "    <tr>\n",
              "      <th>29</th>\n",
              "      <td>1.69913</td>\n",
              "      <td>1.75397</td>\n",
              "      <td>1.81424</td>\n",
              "      <td>1.88134</td>\n",
              "      <td>1.95729</td>\n",
              "      <td>2.04523</td>\n",
              "      <td>2.15033</td>\n",
              "      <td>2.28217</td>\n",
              "      <td>2.46202</td>\n",
              "      <td>2.75639</td>\n",
              "    </tr>\n",
              "    <tr>\n",
              "      <th>30</th>\n",
              "      <td>1.69726</td>\n",
              "      <td>1.75195</td>\n",
              "      <td>1.81205</td>\n",
              "      <td>1.87894</td>\n",
              "      <td>1.95465</td>\n",
              "      <td>2.04227</td>\n",
              "      <td>2.14697</td>\n",
              "      <td>2.27826</td>\n",
              "      <td>2.45726</td>\n",
              "      <td>2.75</td>\n",
              "    </tr>\n",
              "  </tbody>\n",
              "</table>\n",
              "</div>"
            ],
            "text/plain": [
              "Bicaudal                         0.100    0.090  ...    0.020    0.010\n",
              "Unicaudal                        0.050    0.045  ...    0.010    0.005\n",
              "Graus de Liberdade (n - 1) 1   6.31375  7.02637  ...  31.8205  63.6567\n",
              "                           2   2.91999  3.10398  ...  6.96456  9.92484\n",
              "                           3   2.35336  2.47081  ...   4.5407  5.84091\n",
              "                           4   2.13185   2.2261  ...  3.74695  4.60409\n",
              "                           5   2.01505  2.09784  ...  3.36493  4.03214\n",
              "                           6   1.94318   2.0192  ...  3.14267  3.70743\n",
              "                           7   1.89458  1.96615  ...  2.99795  3.49948\n",
              "                           8   1.85955  1.92799  ...  2.89646  3.35539\n",
              "                           9   1.83311  1.89922  ...  2.82144  3.24984\n",
              "                           10  1.81246  1.87677  ...  2.76377  3.16927\n",
              "                           11  1.79588  1.85877  ...  2.71808  3.10581\n",
              "                           12  1.78229  1.84402  ...    2.681  3.05454\n",
              "                           13  1.77093   1.8317  ...  2.65031  3.01228\n",
              "                           14  1.76131  1.82127  ...  2.62449  2.97684\n",
              "                           15  1.75305  1.81232  ...  2.60248  2.94671\n",
              "                           16  1.74588  1.80455  ...  2.58349  2.92078\n",
              "                           17  1.73961  1.79776  ...  2.56693  2.89823\n",
              "                           18  1.73406  1.79175  ...  2.55238  2.87844\n",
              "                           19  1.72913  1.78642  ...  2.53948  2.86093\n",
              "                           20  1.72472  1.78164  ...  2.52798  2.84534\n",
              "                           21  1.72074  1.77734  ...  2.51765  2.83136\n",
              "                           22  1.71714  1.77345  ...  2.50832  2.81876\n",
              "                           23  1.71387  1.76991  ...  2.49987  2.80734\n",
              "                           24  1.71088  1.76667  ...  2.49216  2.79694\n",
              "                           25  1.70814  1.76371  ...  2.48511  2.78744\n",
              "                           26  1.70562  1.76098  ...  2.47863  2.77871\n",
              "                           27  1.70329  1.75847  ...  2.47266  2.77068\n",
              "                           28  1.70113  1.75613  ...  2.46714  2.76326\n",
              "                           29  1.69913  1.75397  ...  2.46202  2.75639\n",
              "                           30  1.69726  1.75195  ...  2.45726     2.75\n",
              "\n",
              "[30 rows x 10 columns]"
            ]
          },
          "metadata": {
            "tags": []
          },
          "execution_count": 86
        }
      ]
    },
    {
      "cell_type": "markdown",
      "metadata": {
        "id": "6jAsfxVxurAQ"
      },
      "source": [
        "<img src='https://caelum-online-public.s3.amazonaws.com/1229-estatistica-parte3/01/img004.png' width='250px'>\r\n",
        "\r\n",
        "As células da tabela acima são valores de $t$ para uma área ou probabilidade na cauda superior da distribuição $t$."
      ]
    },
    {
      "cell_type": "markdown",
      "metadata": {
        "id": "Y2bmpafFus9k"
      },
      "source": [
        "Os **testes unicaudais** verificam as variáveis em relação a um piso ou a um teto e avaliam os valores máximos ou mínimos esperados para os parâmetros em estudo e a chance de as estatísticas amostrais serem inferiores ou superiores a dado limite."
      ]
    },
    {
      "cell_type": "markdown",
      "metadata": {
        "id": "HHhP3z2huwI5"
      },
      "source": [
        "<img src='https://caelum-online-public.s3.amazonaws.com/1229-estatistica-parte3/01/img008.png' width='700px'>"
      ]
    },
    {
      "cell_type": "markdown",
      "metadata": {
        "id": "ebUM65pmuyqo"
      },
      "source": [
        "### Dados do problema"
      ]
    },
    {
      "cell_type": "code",
      "metadata": {
        "id": "5TJyKyqhuzfk"
      },
      "source": [
        "amostra = [37.27, 36.42, 34.84, 34.60, 37.49, \r\n",
        "           36.53, 35.49, 36.90, 34.52, 37.30, \r\n",
        "           34.99, 36.55, 36.29, 36.06, 37.42, \r\n",
        "           34.47, 36.70, 35.86, 36.80, 36.92, \r\n",
        "           37.04, 36.39, 37.32, 36.64, 35.45]"
      ],
      "execution_count": 159,
      "outputs": []
    },
    {
      "cell_type": "code",
      "metadata": {
        "id": "I8CJlRgOu0Hj",
        "outputId": "81300caa-3c8a-4a3c-8f94-49f347678e8a",
        "colab": {
          "base_uri": "https://localhost:8080/",
          "height": 787
        }
      },
      "source": [
        "amostra = pd.DataFrame(amostra, columns=['Amostra'])\r\n",
        "amostra"
      ],
      "execution_count": 160,
      "outputs": [
        {
          "output_type": "execute_result",
          "data": {
            "text/html": [
              "<div>\n",
              "<style scoped>\n",
              "    .dataframe tbody tr th:only-of-type {\n",
              "        vertical-align: middle;\n",
              "    }\n",
              "\n",
              "    .dataframe tbody tr th {\n",
              "        vertical-align: top;\n",
              "    }\n",
              "\n",
              "    .dataframe thead th {\n",
              "        text-align: right;\n",
              "    }\n",
              "</style>\n",
              "<table border=\"1\" class=\"dataframe\">\n",
              "  <thead>\n",
              "    <tr style=\"text-align: right;\">\n",
              "      <th></th>\n",
              "      <th>Amostra</th>\n",
              "    </tr>\n",
              "  </thead>\n",
              "  <tbody>\n",
              "    <tr>\n",
              "      <th>0</th>\n",
              "      <td>37.27</td>\n",
              "    </tr>\n",
              "    <tr>\n",
              "      <th>1</th>\n",
              "      <td>36.42</td>\n",
              "    </tr>\n",
              "    <tr>\n",
              "      <th>2</th>\n",
              "      <td>34.84</td>\n",
              "    </tr>\n",
              "    <tr>\n",
              "      <th>3</th>\n",
              "      <td>34.60</td>\n",
              "    </tr>\n",
              "    <tr>\n",
              "      <th>4</th>\n",
              "      <td>37.49</td>\n",
              "    </tr>\n",
              "    <tr>\n",
              "      <th>5</th>\n",
              "      <td>36.53</td>\n",
              "    </tr>\n",
              "    <tr>\n",
              "      <th>6</th>\n",
              "      <td>35.49</td>\n",
              "    </tr>\n",
              "    <tr>\n",
              "      <th>7</th>\n",
              "      <td>36.90</td>\n",
              "    </tr>\n",
              "    <tr>\n",
              "      <th>8</th>\n",
              "      <td>34.52</td>\n",
              "    </tr>\n",
              "    <tr>\n",
              "      <th>9</th>\n",
              "      <td>37.30</td>\n",
              "    </tr>\n",
              "    <tr>\n",
              "      <th>10</th>\n",
              "      <td>34.99</td>\n",
              "    </tr>\n",
              "    <tr>\n",
              "      <th>11</th>\n",
              "      <td>36.55</td>\n",
              "    </tr>\n",
              "    <tr>\n",
              "      <th>12</th>\n",
              "      <td>36.29</td>\n",
              "    </tr>\n",
              "    <tr>\n",
              "      <th>13</th>\n",
              "      <td>36.06</td>\n",
              "    </tr>\n",
              "    <tr>\n",
              "      <th>14</th>\n",
              "      <td>37.42</td>\n",
              "    </tr>\n",
              "    <tr>\n",
              "      <th>15</th>\n",
              "      <td>34.47</td>\n",
              "    </tr>\n",
              "    <tr>\n",
              "      <th>16</th>\n",
              "      <td>36.70</td>\n",
              "    </tr>\n",
              "    <tr>\n",
              "      <th>17</th>\n",
              "      <td>35.86</td>\n",
              "    </tr>\n",
              "    <tr>\n",
              "      <th>18</th>\n",
              "      <td>36.80</td>\n",
              "    </tr>\n",
              "    <tr>\n",
              "      <th>19</th>\n",
              "      <td>36.92</td>\n",
              "    </tr>\n",
              "    <tr>\n",
              "      <th>20</th>\n",
              "      <td>37.04</td>\n",
              "    </tr>\n",
              "    <tr>\n",
              "      <th>21</th>\n",
              "      <td>36.39</td>\n",
              "    </tr>\n",
              "    <tr>\n",
              "      <th>22</th>\n",
              "      <td>37.32</td>\n",
              "    </tr>\n",
              "    <tr>\n",
              "      <th>23</th>\n",
              "      <td>36.64</td>\n",
              "    </tr>\n",
              "    <tr>\n",
              "      <th>24</th>\n",
              "      <td>35.45</td>\n",
              "    </tr>\n",
              "  </tbody>\n",
              "</table>\n",
              "</div>"
            ],
            "text/plain": [
              "    Amostra\n",
              "0     37.27\n",
              "1     36.42\n",
              "2     34.84\n",
              "3     34.60\n",
              "4     37.49\n",
              "5     36.53\n",
              "6     35.49\n",
              "7     36.90\n",
              "8     34.52\n",
              "9     37.30\n",
              "10    34.99\n",
              "11    36.55\n",
              "12    36.29\n",
              "13    36.06\n",
              "14    37.42\n",
              "15    34.47\n",
              "16    36.70\n",
              "17    35.86\n",
              "18    36.80\n",
              "19    36.92\n",
              "20    37.04\n",
              "21    36.39\n",
              "22    37.32\n",
              "23    36.64\n",
              "24    35.45"
            ]
          },
          "metadata": {
            "tags": []
          },
          "execution_count": 160
        }
      ]
    },
    {
      "cell_type": "code",
      "metadata": {
        "id": "M0k9xGbou06X",
        "outputId": "9cb9d3ef-8a51-4394-f186-ed77452ffb4c",
        "colab": {
          "base_uri": "https://localhost:8080/"
        }
      },
      "source": [
        "media_amostra = amostra.mean()\r\n",
        "media_amostra"
      ],
      "execution_count": 161,
      "outputs": [
        {
          "output_type": "execute_result",
          "data": {
            "text/plain": [
              "Amostra    36.2504\n",
              "dtype: float64"
            ]
          },
          "metadata": {
            "tags": []
          },
          "execution_count": 161
        }
      ]
    },
    {
      "cell_type": "code",
      "metadata": {
        "id": "a1wiY1sxu1fY",
        "outputId": "b3409a67-b289-4542-d1d6-621328dc1f2d",
        "colab": {
          "base_uri": "https://localhost:8080/"
        }
      },
      "source": [
        "desvio_padrao_amostra = amostra.std()\r\n",
        "desvio_padrao_amostra"
      ],
      "execution_count": 162,
      "outputs": [
        {
          "output_type": "execute_result",
          "data": {
            "text/plain": [
              "Amostra    0.966754\n",
              "dtype: float64"
            ]
          },
          "metadata": {
            "tags": []
          },
          "execution_count": 162
        }
      ]
    },
    {
      "cell_type": "code",
      "metadata": {
        "id": "4TkddXFRu2IY"
      },
      "source": [
        "media = 37\r\n",
        "significancia = 0.05\r\n",
        "confianca = 1 - significancia\r\n",
        "n = 25\r\n",
        "graus_de_liberdade = n - 1"
      ],
      "execution_count": 163,
      "outputs": []
    },
    {
      "cell_type": "markdown",
      "metadata": {
        "id": "am-KNcgdu3A0"
      },
      "source": [
        "#### <font color='red'>Lembre-se, a hipótese nula sempre contém a alegação de igualdade</font>\r\n",
        "\r\n",
        "### $H_0: \\mu \\leq 37$\r\n",
        "\r\n",
        "### $H_1: \\mu > 37$"
      ]
    },
    {
      "cell_type": "markdown",
      "metadata": {
        "id": "TnitIoBzu4As"
      },
      "source": [
        "### **Passo 2** - escolha da distribuição amostral adequada\r\n",
        "<img src='https://caelum-online-public.s3.amazonaws.com/1229-estatistica-parte3/01/img003.png' width=70%>"
      ]
    },
    {
      "cell_type": "markdown",
      "metadata": {
        "id": "ICJAKFmWu5pu"
      },
      "source": [
        "### **Passo 3** - fixação da significância do teste ($\\alpha$)"
      ]
    },
    {
      "cell_type": "code",
      "metadata": {
        "id": "Nki6B2f_u6j0"
      },
      "source": [
        "from scipy.stats import t as t_student"
      ],
      "execution_count": 92,
      "outputs": []
    },
    {
      "cell_type": "code",
      "metadata": {
        "id": "XmhnDb50u7ET",
        "outputId": "6f3e802c-3f83-4693-9140-8b4f5c44b6f7",
        "colab": {
          "base_uri": "https://localhost:8080/",
          "height": 166
        }
      },
      "source": [
        "tabela_t_student[22:25]"
      ],
      "execution_count": 93,
      "outputs": [
        {
          "output_type": "execute_result",
          "data": {
            "text/html": [
              "<div>\n",
              "<style scoped>\n",
              "    .dataframe tbody tr th:only-of-type {\n",
              "        vertical-align: middle;\n",
              "    }\n",
              "\n",
              "    .dataframe tbody tr th {\n",
              "        vertical-align: top;\n",
              "    }\n",
              "\n",
              "    .dataframe thead tr th {\n",
              "        text-align: left;\n",
              "    }\n",
              "</style>\n",
              "<table border=\"1\" class=\"dataframe\">\n",
              "  <thead>\n",
              "    <tr>\n",
              "      <th></th>\n",
              "      <th>Bicaudal</th>\n",
              "      <th>0.100</th>\n",
              "      <th>0.090</th>\n",
              "      <th>0.080</th>\n",
              "      <th>0.070</th>\n",
              "      <th>0.060</th>\n",
              "      <th>0.050</th>\n",
              "      <th>0.040</th>\n",
              "      <th>0.030</th>\n",
              "      <th>0.020</th>\n",
              "      <th>0.010</th>\n",
              "    </tr>\n",
              "    <tr>\n",
              "      <th></th>\n",
              "      <th>Unicaudal</th>\n",
              "      <th>0.050</th>\n",
              "      <th>0.045</th>\n",
              "      <th>0.040</th>\n",
              "      <th>0.035</th>\n",
              "      <th>0.030</th>\n",
              "      <th>0.025</th>\n",
              "      <th>0.020</th>\n",
              "      <th>0.015</th>\n",
              "      <th>0.010</th>\n",
              "      <th>0.005</th>\n",
              "    </tr>\n",
              "  </thead>\n",
              "  <tbody>\n",
              "    <tr>\n",
              "      <th rowspan=\"3\" valign=\"top\">Graus de Liberdade (n - 1)</th>\n",
              "      <th>23</th>\n",
              "      <td>1.71387</td>\n",
              "      <td>1.76991</td>\n",
              "      <td>1.83157</td>\n",
              "      <td>1.90031</td>\n",
              "      <td>1.97825</td>\n",
              "      <td>2.06866</td>\n",
              "      <td>2.17696</td>\n",
              "      <td>2.31323</td>\n",
              "      <td>2.49987</td>\n",
              "      <td>2.80734</td>\n",
              "    </tr>\n",
              "    <tr>\n",
              "      <th>24</th>\n",
              "      <td>1.71088</td>\n",
              "      <td>1.76667</td>\n",
              "      <td>1.82805</td>\n",
              "      <td>1.89646</td>\n",
              "      <td>1.97399</td>\n",
              "      <td>2.0639</td>\n",
              "      <td>2.17154</td>\n",
              "      <td>2.30691</td>\n",
              "      <td>2.49216</td>\n",
              "      <td>2.79694</td>\n",
              "    </tr>\n",
              "    <tr>\n",
              "      <th>25</th>\n",
              "      <td>1.70814</td>\n",
              "      <td>1.76371</td>\n",
              "      <td>1.82483</td>\n",
              "      <td>1.89293</td>\n",
              "      <td>1.9701</td>\n",
              "      <td>2.05954</td>\n",
              "      <td>2.16659</td>\n",
              "      <td>2.30113</td>\n",
              "      <td>2.48511</td>\n",
              "      <td>2.78744</td>\n",
              "    </tr>\n",
              "  </tbody>\n",
              "</table>\n",
              "</div>"
            ],
            "text/plain": [
              "Bicaudal                         0.100    0.090  ...    0.020    0.010\n",
              "Unicaudal                        0.050    0.045  ...    0.010    0.005\n",
              "Graus de Liberdade (n - 1) 23  1.71387  1.76991  ...  2.49987  2.80734\n",
              "                           24  1.71088  1.76667  ...  2.49216  2.79694\n",
              "                           25  1.70814  1.76371  ...  2.48511  2.78744\n",
              "\n",
              "[3 rows x 10 columns]"
            ]
          },
          "metadata": {
            "tags": []
          },
          "execution_count": 93
        }
      ]
    },
    {
      "cell_type": "markdown",
      "metadata": {
        "id": "i_Qnij0-u8wI"
      },
      "source": [
        "### Obtendo $t_{\\alpha}$"
      ]
    },
    {
      "cell_type": "code",
      "metadata": {
        "id": "h2AQFbBMu9V5",
        "outputId": "d7434b4f-2ade-46ed-9798-5a621fe03bd6",
        "colab": {
          "base_uri": "https://localhost:8080/"
        }
      },
      "source": [
        "t_alpha = t_student.ppf(confianca, graus_de_liberdade)\r\n",
        "t_alpha"
      ],
      "execution_count": 94,
      "outputs": [
        {
          "output_type": "execute_result",
          "data": {
            "text/plain": [
              "1.7108820799094275"
            ]
          },
          "metadata": {
            "tags": []
          },
          "execution_count": 94
        }
      ]
    },
    {
      "cell_type": "markdown",
      "metadata": {
        "id": "FvGuO3DRu-zR"
      },
      "source": [
        "![Região de Aceitação](https://caelum-online-public.s3.amazonaws.com/1229-estatistica-parte3/01/img009.png)"
      ]
    },
    {
      "cell_type": "markdown",
      "metadata": {
        "id": "kDIO2FDXvASp"
      },
      "source": [
        "### **Passo 4** - cálculo da estatística-teste e verificação desse valor com as áreas de aceitação e rejeição do teste\r\n",
        "\r\n",
        "# $$t = \\frac{\\bar{x} - \\mu_0}{\\frac{s}{\\sqrt{n}}}$$"
      ]
    },
    {
      "cell_type": "code",
      "metadata": {
        "id": "_3mItNREvBE6",
        "outputId": "14d8a7aa-3e09-4a06-bbca-630fcdd53694",
        "colab": {
          "base_uri": "https://localhost:8080/"
        }
      },
      "source": [
        "t = (media_amostra - media) / (desvio_padrao_amostra / np.sqrt(n))\r\n",
        "t"
      ],
      "execution_count": 95,
      "outputs": [
        {
          "output_type": "execute_result",
          "data": {
            "text/plain": [
              "Amostra   -3.876893\n",
              "dtype: float64"
            ]
          },
          "metadata": {
            "tags": []
          },
          "execution_count": 95
        }
      ]
    },
    {
      "cell_type": "markdown",
      "metadata": {
        "id": "9SIAEu5RvB7L"
      },
      "source": [
        "![Estatística-Teste](https://caelum-online-public.s3.amazonaws.com/1229-estatistica-parte3/01/img010.png)"
      ]
    },
    {
      "cell_type": "markdown",
      "metadata": {
        "id": "gFEqVE96vDiM"
      },
      "source": [
        "### **Passo 5** - Aceitação ou rejeição da hipótese nula"
      ]
    },
    {
      "cell_type": "markdown",
      "metadata": {
        "id": "7gTiSxaNvEb4"
      },
      "source": [
        "<img src='https://caelum-online-public.s3.amazonaws.com/1229-estatistica-parte3/01/img013.png' width=90%>"
      ]
    },
    {
      "cell_type": "markdown",
      "metadata": {
        "id": "IOXuz9dCvGrS"
      },
      "source": [
        "### <font color='red'>Critério do valor crítico</font>\r\n",
        "\r\n",
        "> ### Teste Unicaudal Superior\r\n",
        "> ### Rejeitar $H_0$ se $t \\geq t_{\\alpha}$"
      ]
    },
    {
      "cell_type": "code",
      "metadata": {
        "id": "j8obriTRvHJ9",
        "outputId": "1ce87257-bb0f-4735-b448-0f9229993b94",
        "colab": {
          "base_uri": "https://localhost:8080/"
        }
      },
      "source": [
        "t >= t_alpha"
      ],
      "execution_count": 96,
      "outputs": [
        {
          "output_type": "execute_result",
          "data": {
            "text/plain": [
              "Amostra    False\n",
              "dtype: bool"
            ]
          },
          "metadata": {
            "tags": []
          },
          "execution_count": 96
        }
      ]
    },
    {
      "cell_type": "markdown",
      "metadata": {
        "id": "kkqG4ddRvH8N"
      },
      "source": [
        "### <font color='green'>Conclusão: Com um nível de confiança de 95% não podemos rejeitar $H_0$, ou seja, a alegação do fabricante é verdadeira.</font>"
      ]
    },
    {
      "cell_type": "markdown",
      "metadata": {
        "id": "lClaeE0HvJcj"
      },
      "source": [
        "### <font color='red'>Critério do valor $p$</font>\r\n",
        "\r\n",
        "> ### Teste Unicaudal Superior\r\n",
        "> ### Rejeitar $H_0$ se o valor $p\\leq\\alpha$"
      ]
    },
    {
      "cell_type": "code",
      "metadata": {
        "id": "y9kxasLmvKLM",
        "outputId": "e3b73b13-10c7-4da0-db2b-a58e1a144a96",
        "colab": {
          "base_uri": "https://localhost:8080/"
        }
      },
      "source": [
        "t"
      ],
      "execution_count": 97,
      "outputs": [
        {
          "output_type": "execute_result",
          "data": {
            "text/plain": [
              "Amostra   -3.876893\n",
              "dtype: float64"
            ]
          },
          "metadata": {
            "tags": []
          },
          "execution_count": 97
        }
      ]
    },
    {
      "cell_type": "code",
      "metadata": {
        "id": "eyiuIosKvK1r",
        "outputId": "545d2b1f-4570-49da-8656-f88bad180d11",
        "colab": {
          "base_uri": "https://localhost:8080/"
        }
      },
      "source": [
        "p_valor = t_student.sf(t, df = 24)\r\n",
        "p_valor"
      ],
      "execution_count": 98,
      "outputs": [
        {
          "output_type": "execute_result",
          "data": {
            "text/plain": [
              "array([0.99964062])"
            ]
          },
          "metadata": {
            "tags": []
          },
          "execution_count": 98
        }
      ]
    },
    {
      "cell_type": "code",
      "metadata": {
        "id": "yPo80ZLivLlW",
        "outputId": "540ec0c2-52b9-4ce7-f50e-6761a3965fe4",
        "colab": {
          "base_uri": "https://localhost:8080/"
        }
      },
      "source": [
        "p_valor <= significancia"
      ],
      "execution_count": 99,
      "outputs": [
        {
          "output_type": "execute_result",
          "data": {
            "text/plain": [
              "array([False])"
            ]
          },
          "metadata": {
            "tags": []
          },
          "execution_count": 99
        }
      ]
    },
    {
      "cell_type": "code",
      "metadata": {
        "id": "4UtRyH0VvMHs"
      },
      "source": [
        "from statsmodels.stats.weightstats import DescrStatsW"
      ],
      "execution_count": 100,
      "outputs": []
    },
    {
      "cell_type": "code",
      "metadata": {
        "id": "TVH_TADyvMzU"
      },
      "source": [
        "test = DescrStatsW(amostra)"
      ],
      "execution_count": 101,
      "outputs": []
    },
    {
      "cell_type": "code",
      "metadata": {
        "id": "B_sWCc6xvNm3",
        "outputId": "287cbc3b-fb3b-4c75-eae8-1c4b4bc17a1a",
        "colab": {
          "base_uri": "https://localhost:8080/"
        }
      },
      "source": [
        "t, p_valor, df = test.ttest_mean(value = media, alternative = 'larger')\r\n",
        "print(t[0])\r\n",
        "print(p_valor[0])\r\n",
        "print(df)"
      ],
      "execution_count": 102,
      "outputs": [
        {
          "output_type": "stream",
          "text": [
            "-3.8768931199520447\n",
            "0.9996406170303819\n",
            "24.0\n"
          ],
          "name": "stdout"
        }
      ]
    },
    {
      "cell_type": "code",
      "metadata": {
        "id": "6t7lDt4DvObY",
        "outputId": "ee0a9455-3229-412f-94e4-3debd3f4bc0b",
        "colab": {
          "base_uri": "https://localhost:8080/"
        }
      },
      "source": [
        "p_valor[0] <= significancia"
      ],
      "execution_count": 103,
      "outputs": [
        {
          "output_type": "execute_result",
          "data": {
            "text/plain": [
              "False"
            ]
          },
          "metadata": {
            "tags": []
          },
          "execution_count": 103
        }
      ]
    },
    {
      "cell_type": "markdown",
      "metadata": {
        "id": "gSMHNweR0iqS"
      },
      "source": [
        "# Covariância e Correlação"
      ]
    },
    {
      "cell_type": "code",
      "metadata": {
        "id": "ma2sjYCu0oex"
      },
      "source": [
        "import pandas as pd"
      ],
      "execution_count": 104,
      "outputs": []
    },
    {
      "cell_type": "code",
      "metadata": {
        "id": "iPxnxPsM0pOS"
      },
      "source": [
        "url = 'https://raw.githubusercontent.com/allanspadini/linear_estatistica/main/media_salarial.csv'"
      ],
      "execution_count": 105,
      "outputs": []
    },
    {
      "cell_type": "code",
      "metadata": {
        "id": "g5r0A4sr0pzb"
      },
      "source": [
        "salarial = pd.read_csv(url,sep='\\t')"
      ],
      "execution_count": 106,
      "outputs": []
    },
    {
      "cell_type": "code",
      "metadata": {
        "id": "WCbke2EZ0qjG",
        "outputId": "a517b0be-263e-40af-bf3d-2fb282e218ea",
        "colab": {
          "base_uri": "https://localhost:8080/",
          "height": 195
        }
      },
      "source": [
        "salarial.head()"
      ],
      "execution_count": 107,
      "outputs": [
        {
          "output_type": "execute_result",
          "data": {
            "text/html": [
              "<div>\n",
              "<style scoped>\n",
              "    .dataframe tbody tr th:only-of-type {\n",
              "        vertical-align: middle;\n",
              "    }\n",
              "\n",
              "    .dataframe tbody tr th {\n",
              "        vertical-align: top;\n",
              "    }\n",
              "\n",
              "    .dataframe thead th {\n",
              "        text-align: right;\n",
              "    }\n",
              "</style>\n",
              "<table border=\"1\" class=\"dataframe\">\n",
              "  <thead>\n",
              "    <tr style=\"text-align: right;\">\n",
              "      <th></th>\n",
              "      <th>Anos</th>\n",
              "      <th>Salario</th>\n",
              "    </tr>\n",
              "  </thead>\n",
              "  <tbody>\n",
              "    <tr>\n",
              "      <th>0</th>\n",
              "      <td>9.096218</td>\n",
              "      <td>78311.160754</td>\n",
              "    </tr>\n",
              "    <tr>\n",
              "      <th>1</th>\n",
              "      <td>14.637429</td>\n",
              "      <td>103897.664526</td>\n",
              "    </tr>\n",
              "    <tr>\n",
              "      <th>2</th>\n",
              "      <td>12.255808</td>\n",
              "      <td>97836.261015</td>\n",
              "    </tr>\n",
              "    <tr>\n",
              "      <th>3</th>\n",
              "      <td>7.215160</td>\n",
              "      <td>80550.256380</td>\n",
              "    </tr>\n",
              "    <tr>\n",
              "      <th>4</th>\n",
              "      <td>6.905628</td>\n",
              "      <td>68555.820963</td>\n",
              "    </tr>\n",
              "  </tbody>\n",
              "</table>\n",
              "</div>"
            ],
            "text/plain": [
              "        Anos        Salario\n",
              "0   9.096218   78311.160754\n",
              "1  14.637429  103897.664526\n",
              "2  12.255808   97836.261015\n",
              "3   7.215160   80550.256380\n",
              "4   6.905628   68555.820963"
            ]
          },
          "metadata": {
            "tags": []
          },
          "execution_count": 107
        }
      ]
    },
    {
      "cell_type": "code",
      "metadata": {
        "id": "y1JeEfnQ0rcw"
      },
      "source": [
        "import seaborn as sns"
      ],
      "execution_count": 108,
      "outputs": []
    },
    {
      "cell_type": "code",
      "metadata": {
        "id": "yRNmHjIO0sCq"
      },
      "source": [
        "import matplotlib as mpl\r\n",
        "mpl.rcParams['font.size'] = 16\r\n",
        "mpl.rcParams['figure.figsize'] = [10,6]"
      ],
      "execution_count": 109,
      "outputs": []
    },
    {
      "cell_type": "code",
      "metadata": {
        "id": "CRG3R3G40tOi",
        "outputId": "d1379e1b-e707-427c-8cf1-afcd78acaa1c",
        "colab": {
          "base_uri": "https://localhost:8080/",
          "height": 415
        }
      },
      "source": [
        "sns.scatterplot(x = 'Anos', y = 'Salario', data = salarial)"
      ],
      "execution_count": 110,
      "outputs": [
        {
          "output_type": "execute_result",
          "data": {
            "text/plain": [
              "<matplotlib.axes._subplots.AxesSubplot at 0x7f0d17c80e80>"
            ]
          },
          "metadata": {
            "tags": []
          },
          "execution_count": 110
        },
        {
          "output_type": "display_data",
          "data": {
            "image/png": "[encoded data removed]",
            "text/plain": [
              "<Figure size 720x432 with 1 Axes>"
            ]
          },
          "metadata": {
            "tags": [],
            "needs_background": "light"
          }
        }
      ]
    },
    {
      "cell_type": "markdown",
      "metadata": {
        "id": "9PvurIZP0u3w"
      },
      "source": [
        "## <font color=blue> Covariância </font>\r\n",
        "\r\n",
        "A covariância é a medida do grau de interdependência numérica entre duas variáveis. "
      ]
    },
    {
      "cell_type": "markdown",
      "metadata": {
        "id": "fsZlUAfl0wLH"
      },
      "source": [
        "### Covariância populacional\r\n",
        "\r\n",
        "\\begin{equation}\r\n",
        "\\sigma_{xy} = \\frac{1}{n} \\sum_{i=1}^n (X_i - \\mu_x)(Y_i - \\mu_y)\r\n",
        "\\end{equation}\r\n",
        "\r\n",
        "### Covariância amostral\r\n",
        "\\begin{equation}\r\n",
        "S_{xy} = \\frac{1}{n-1} \\sum_{i=1}^{n} (X_i - \\bar{X})(Y_i - \\bar{Y})\r\n",
        "\\end{equation}"
      ]
    },
    {
      "cell_type": "code",
      "metadata": {
        "id": "yoUC3Zy50yFG"
      },
      "source": [
        "amostra = salarial.sample(n = 20, random_state = 202)"
      ],
      "execution_count": 111,
      "outputs": []
    },
    {
      "cell_type": "code",
      "metadata": {
        "id": "G9UUtHkP0yvJ",
        "outputId": "0fb6e6ea-177e-4765-d561-4bb725fea40a",
        "colab": {
          "base_uri": "https://localhost:8080/",
          "height": 106
        }
      },
      "source": [
        "amostra.cov()"
      ],
      "execution_count": 112,
      "outputs": [
        {
          "output_type": "execute_result",
          "data": {
            "text/html": [
              "<div>\n",
              "<style scoped>\n",
              "    .dataframe tbody tr th:only-of-type {\n",
              "        vertical-align: middle;\n",
              "    }\n",
              "\n",
              "    .dataframe tbody tr th {\n",
              "        vertical-align: top;\n",
              "    }\n",
              "\n",
              "    .dataframe thead th {\n",
              "        text-align: right;\n",
              "    }\n",
              "</style>\n",
              "<table border=\"1\" class=\"dataframe\">\n",
              "  <thead>\n",
              "    <tr style=\"text-align: right;\">\n",
              "      <th></th>\n",
              "      <th>Anos</th>\n",
              "      <th>Salario</th>\n",
              "    </tr>\n",
              "  </thead>\n",
              "  <tbody>\n",
              "    <tr>\n",
              "      <th>Anos</th>\n",
              "      <td>14.191227</td>\n",
              "      <td>8.544902e+04</td>\n",
              "    </tr>\n",
              "    <tr>\n",
              "      <th>Salario</th>\n",
              "      <td>85449.017586</td>\n",
              "      <td>5.552975e+08</td>\n",
              "    </tr>\n",
              "  </tbody>\n",
              "</table>\n",
              "</div>"
            ],
            "text/plain": [
              "                 Anos       Salario\n",
              "Anos        14.191227  8.544902e+04\n",
              "Salario  85449.017586  5.552975e+08"
            ]
          },
          "metadata": {
            "tags": []
          },
          "execution_count": 112
        }
      ]
    },
    {
      "cell_type": "markdown",
      "metadata": {
        "id": "2HMjcKiw0z5L"
      },
      "source": [
        "## <font color=blue> Correlação </font>"
      ]
    },
    {
      "cell_type": "markdown",
      "metadata": {
        "id": "yUfY6ey601Rz"
      },
      "source": [
        "### Coeficiente de correlação de Pearson - dados populacionais\r\n",
        "\r\n",
        "# $$\\rho_{xy} = \\frac{\\sigma_{xy}}{\\sigma_{x}\\sigma_{y}}$$\r\n",
        "\r\n",
        "### Coeficiente de correlação de Pearson - dados amostrais\r\n",
        "\r\n",
        "# $$r_{xy} = \\frac{s_{xy}}{s_{x}s_{y}}$$\r\n",
        "\r\n",
        "Onde\r\n",
        "\r\n",
        "$\\sigma_{xy}$ = covariância populacional entre x e y\r\n",
        "\r\n",
        "$s_{xy}$ = covariância amostral entre x e y\r\n",
        "\r\n",
        "$\\sigma_{x}$ e $\\sigma_{y}$ = desvios padrão populacionais de x e y, respectivamente\r\n",
        "\r\n",
        "$s_{x}$ e $s_{y}$ = desvios padrão amostrais de x e y, respectivamente"
      ]
    },
    {
      "cell_type": "code",
      "metadata": {
        "id": "oCAxki_302LC",
        "outputId": "3fbc0737-bd64-47f9-98bd-5f5cc00d5720",
        "colab": {
          "base_uri": "https://localhost:8080/",
          "height": 106
        }
      },
      "source": [
        "amostra.corr()"
      ],
      "execution_count": 113,
      "outputs": [
        {
          "output_type": "execute_result",
          "data": {
            "text/html": [
              "<div>\n",
              "<style scoped>\n",
              "    .dataframe tbody tr th:only-of-type {\n",
              "        vertical-align: middle;\n",
              "    }\n",
              "\n",
              "    .dataframe tbody tr th {\n",
              "        vertical-align: top;\n",
              "    }\n",
              "\n",
              "    .dataframe thead th {\n",
              "        text-align: right;\n",
              "    }\n",
              "</style>\n",
              "<table border=\"1\" class=\"dataframe\">\n",
              "  <thead>\n",
              "    <tr style=\"text-align: right;\">\n",
              "      <th></th>\n",
              "      <th>Anos</th>\n",
              "      <th>Salario</th>\n",
              "    </tr>\n",
              "  </thead>\n",
              "  <tbody>\n",
              "    <tr>\n",
              "      <th>Anos</th>\n",
              "      <td>1.000000</td>\n",
              "      <td>0.962574</td>\n",
              "    </tr>\n",
              "    <tr>\n",
              "      <th>Salario</th>\n",
              "      <td>0.962574</td>\n",
              "      <td>1.000000</td>\n",
              "    </tr>\n",
              "  </tbody>\n",
              "</table>\n",
              "</div>"
            ],
            "text/plain": [
              "             Anos   Salario\n",
              "Anos     1.000000  0.962574\n",
              "Salario  0.962574  1.000000"
            ]
          },
          "metadata": {
            "tags": []
          },
          "execution_count": 113
        }
      ]
    },
    {
      "cell_type": "markdown",
      "metadata": {
        "id": "EluvVuHV03aE"
      },
      "source": [
        "https://plotlygraphs.medium.com/spurious-correlations-56752fcffb69"
      ]
    },
    {
      "cell_type": "markdown",
      "metadata": {
        "id": "DF22UPm-3pp_"
      },
      "source": [
        "# Regressão Linear"
      ]
    },
    {
      "cell_type": "code",
      "metadata": {
        "id": "qxhRJmRq3vbC"
      },
      "source": [
        "import pandas as pd"
      ],
      "execution_count": 114,
      "outputs": []
    },
    {
      "cell_type": "code",
      "metadata": {
        "id": "lsyVDQpR3v7F"
      },
      "source": [
        "url = 'https://raw.githubusercontent.com/allanspadini/linear_estatistica/main/media_salarial.csv'"
      ],
      "execution_count": 115,
      "outputs": []
    },
    {
      "cell_type": "code",
      "metadata": {
        "id": "AmWxv83l3wRo"
      },
      "source": [
        "salarial = pd.read_csv(url,sep='\\t')"
      ],
      "execution_count": 116,
      "outputs": []
    },
    {
      "cell_type": "code",
      "metadata": {
        "id": "OQpL-aP-3wsg",
        "outputId": "f57c0777-a1f5-447f-fe1d-be18300b57e0",
        "colab": {
          "base_uri": "https://localhost:8080/",
          "height": 195
        }
      },
      "source": [
        "salarial.head()"
      ],
      "execution_count": 117,
      "outputs": [
        {
          "output_type": "execute_result",
          "data": {
            "text/html": [
              "<div>\n",
              "<style scoped>\n",
              "    .dataframe tbody tr th:only-of-type {\n",
              "        vertical-align: middle;\n",
              "    }\n",
              "\n",
              "    .dataframe tbody tr th {\n",
              "        vertical-align: top;\n",
              "    }\n",
              "\n",
              "    .dataframe thead th {\n",
              "        text-align: right;\n",
              "    }\n",
              "</style>\n",
              "<table border=\"1\" class=\"dataframe\">\n",
              "  <thead>\n",
              "    <tr style=\"text-align: right;\">\n",
              "      <th></th>\n",
              "      <th>Anos</th>\n",
              "      <th>Salario</th>\n",
              "    </tr>\n",
              "  </thead>\n",
              "  <tbody>\n",
              "    <tr>\n",
              "      <th>0</th>\n",
              "      <td>9.096218</td>\n",
              "      <td>78311.160754</td>\n",
              "    </tr>\n",
              "    <tr>\n",
              "      <th>1</th>\n",
              "      <td>14.637429</td>\n",
              "      <td>103897.664526</td>\n",
              "    </tr>\n",
              "    <tr>\n",
              "      <th>2</th>\n",
              "      <td>12.255808</td>\n",
              "      <td>97836.261015</td>\n",
              "    </tr>\n",
              "    <tr>\n",
              "      <th>3</th>\n",
              "      <td>7.215160</td>\n",
              "      <td>80550.256380</td>\n",
              "    </tr>\n",
              "    <tr>\n",
              "      <th>4</th>\n",
              "      <td>6.905628</td>\n",
              "      <td>68555.820963</td>\n",
              "    </tr>\n",
              "  </tbody>\n",
              "</table>\n",
              "</div>"
            ],
            "text/plain": [
              "        Anos        Salario\n",
              "0   9.096218   78311.160754\n",
              "1  14.637429  103897.664526\n",
              "2  12.255808   97836.261015\n",
              "3   7.215160   80550.256380\n",
              "4   6.905628   68555.820963"
            ]
          },
          "metadata": {
            "tags": []
          },
          "execution_count": 117
        }
      ]
    },
    {
      "cell_type": "code",
      "metadata": {
        "id": "_3x3FkC23xVy"
      },
      "source": [
        "import seaborn as sns"
      ],
      "execution_count": 118,
      "outputs": []
    },
    {
      "cell_type": "code",
      "metadata": {
        "id": "3u9tj8hQ3x6F"
      },
      "source": [
        "import matplotlib as mpl\r\n",
        "mpl.rcParams['font.size'] = 16\r\n",
        "mpl.rcParams['figure.figsize'] = [10,6]"
      ],
      "execution_count": 119,
      "outputs": []
    },
    {
      "cell_type": "code",
      "metadata": {
        "id": "z7KCGAXF3ybd",
        "outputId": "d5cbb452-2970-4104-90ca-c45708f9c928",
        "colab": {
          "base_uri": "https://localhost:8080/",
          "height": 415
        }
      },
      "source": [
        "sns.scatterplot(x='Anos',y='Salario',data=salarial)"
      ],
      "execution_count": 120,
      "outputs": [
        {
          "output_type": "execute_result",
          "data": {
            "text/plain": [
              "<matplotlib.axes._subplots.AxesSubplot at 0x7f0d17c2cb38>"
            ]
          },
          "metadata": {
            "tags": []
          },
          "execution_count": 120
        },
        {
          "output_type": "display_data",
          "data": {
            "image/png": "[encoded data removed]",
            "text/plain": [
              "<Figure size 720x432 with 1 Axes>"
            ]
          },
          "metadata": {
            "tags": [],
            "needs_background": "light"
          }
        }
      ]
    },
    {
      "cell_type": "markdown",
      "metadata": {
        "id": "YszBrTdK345E"
      },
      "source": [
        "## <font color=blue>  Regressão Linear </font>"
      ]
    },
    {
      "cell_type": "markdown",
      "metadata": {
        "id": "0ZTR4mM535up"
      },
      "source": [
        "<img src=\"https://caelum-online-public.s3.amazonaws.com/1273-estatistica-parte4/01/img027.png\" width=50%>\r\n",
        "\r\n",
        "Beta1 = onde a reta intercepta o eixo Y\r\n",
        "\r\n",
        "Beta2 = coeficiente angular"
      ]
    },
    {
      "cell_type": "code",
      "metadata": {
        "id": "qsD7MzIJ36dj",
        "outputId": "e1172cc3-55da-43c7-e4cd-d0548a9be6f4",
        "colab": {
          "base_uri": "https://localhost:8080/",
          "height": 195
        }
      },
      "source": [
        "salarial.head()"
      ],
      "execution_count": 121,
      "outputs": [
        {
          "output_type": "execute_result",
          "data": {
            "text/html": [
              "<div>\n",
              "<style scoped>\n",
              "    .dataframe tbody tr th:only-of-type {\n",
              "        vertical-align: middle;\n",
              "    }\n",
              "\n",
              "    .dataframe tbody tr th {\n",
              "        vertical-align: top;\n",
              "    }\n",
              "\n",
              "    .dataframe thead th {\n",
              "        text-align: right;\n",
              "    }\n",
              "</style>\n",
              "<table border=\"1\" class=\"dataframe\">\n",
              "  <thead>\n",
              "    <tr style=\"text-align: right;\">\n",
              "      <th></th>\n",
              "      <th>Anos</th>\n",
              "      <th>Salario</th>\n",
              "    </tr>\n",
              "  </thead>\n",
              "  <tbody>\n",
              "    <tr>\n",
              "      <th>0</th>\n",
              "      <td>9.096218</td>\n",
              "      <td>78311.160754</td>\n",
              "    </tr>\n",
              "    <tr>\n",
              "      <th>1</th>\n",
              "      <td>14.637429</td>\n",
              "      <td>103897.664526</td>\n",
              "    </tr>\n",
              "    <tr>\n",
              "      <th>2</th>\n",
              "      <td>12.255808</td>\n",
              "      <td>97836.261015</td>\n",
              "    </tr>\n",
              "    <tr>\n",
              "      <th>3</th>\n",
              "      <td>7.215160</td>\n",
              "      <td>80550.256380</td>\n",
              "    </tr>\n",
              "    <tr>\n",
              "      <th>4</th>\n",
              "      <td>6.905628</td>\n",
              "      <td>68555.820963</td>\n",
              "    </tr>\n",
              "  </tbody>\n",
              "</table>\n",
              "</div>"
            ],
            "text/plain": [
              "        Anos        Salario\n",
              "0   9.096218   78311.160754\n",
              "1  14.637429  103897.664526\n",
              "2  12.255808   97836.261015\n",
              "3   7.215160   80550.256380\n",
              "4   6.905628   68555.820963"
            ]
          },
          "metadata": {
            "tags": []
          },
          "execution_count": 121
        }
      ]
    },
    {
      "cell_type": "code",
      "metadata": {
        "id": "NFZmMYQs37En",
        "outputId": "b0eccebd-4e90-4070-8ffe-f4d38414b02e",
        "colab": {
          "base_uri": "https://localhost:8080/",
          "height": 415
        }
      },
      "source": [
        "sns.scatterplot(x='Anos',y='Salario',data=salarial)"
      ],
      "execution_count": 122,
      "outputs": [
        {
          "output_type": "execute_result",
          "data": {
            "text/plain": [
              "<matplotlib.axes._subplots.AxesSubplot at 0x7f0d17b9eba8>"
            ]
          },
          "metadata": {
            "tags": []
          },
          "execution_count": 122
        },
        {
          "output_type": "display_data",
          "data": {
            "image/png": "[encoded data removed]",
            "text/plain": [
              "<Figure size 720x432 with 1 Axes>"
            ]
          },
          "metadata": {
            "tags": [],
            "needs_background": "light"
          }
        }
      ]
    },
    {
      "cell_type": "markdown",
      "metadata": {
        "id": "s4dG4yiu38NH"
      },
      "source": [
        "## $$\\sum\\hat{u}_i^2 = \\sum{(Y_i - \\hat{Y}_i)^2}$$"
      ]
    },
    {
      "cell_type": "markdown",
      "metadata": {
        "id": "01ySprte39EB"
      },
      "source": [
        "calculo de Beta2\r\n",
        "## $$\r\n",
        "\\begin{equation}\r\n",
        "\\boxed{\\hat{\\beta}_2 = \\frac{n\\sum{X_iY_i} - \\sum{X_i}\\sum{Y_i}}{n\\sum{X_i^2} - (\\sum{X_i})^2}}\r\n",
        "\\end{equation}\r\n",
        "$$\r\n",
        "calculo de Beta1\r\n",
        "## $$\r\n",
        "\\begin{equation}\r\n",
        "\\boxed{\r\n",
        "\\begin{eqnarray}\r\n",
        "\\hat{\\beta}_1 &=& \\frac{\\sum{X_i^2}\\sum{Y_i} - \\sum{X_i}\\sum{X_iY_i}}{n\\sum{X_i^2} - (\\sum{X_i})^2}\\\\\r\n",
        "&=& \\bar{Y} - \\hat{\\beta}_2\\bar{X}\r\n",
        "\\end{eqnarray}\r\n",
        "}\r\n",
        "\\end{equation}\r\n",
        "$$"
      ]
    },
    {
      "cell_type": "code",
      "metadata": {
        "id": "p-586fT-3-FL"
      },
      "source": [
        "import statsmodels.api as sm"
      ],
      "execution_count": 123,
      "outputs": []
    },
    {
      "cell_type": "code",
      "metadata": {
        "id": "0IKyDkJY3_h2"
      },
      "source": [
        "X = sm.add_constant(salarial['Anos'])"
      ],
      "execution_count": 124,
      "outputs": []
    },
    {
      "cell_type": "code",
      "metadata": {
        "id": "bJQvdZtm3_-N"
      },
      "source": [
        "Y = salarial['Salario']"
      ],
      "execution_count": 125,
      "outputs": []
    },
    {
      "cell_type": "code",
      "metadata": {
        "id": "Os9JjU274AgK",
        "outputId": "9698e781-0112-4151-b35d-90969db1593f",
        "colab": {
          "base_uri": "https://localhost:8080/",
          "height": 0
        }
      },
      "source": [
        "X.head()"
      ],
      "execution_count": 126,
      "outputs": [
        {
          "output_type": "execute_result",
          "data": {
            "text/html": [
              "<div>\n",
              "<style scoped>\n",
              "    .dataframe tbody tr th:only-of-type {\n",
              "        vertical-align: middle;\n",
              "    }\n",
              "\n",
              "    .dataframe tbody tr th {\n",
              "        vertical-align: top;\n",
              "    }\n",
              "\n",
              "    .dataframe thead th {\n",
              "        text-align: right;\n",
              "    }\n",
              "</style>\n",
              "<table border=\"1\" class=\"dataframe\">\n",
              "  <thead>\n",
              "    <tr style=\"text-align: right;\">\n",
              "      <th></th>\n",
              "      <th>const</th>\n",
              "      <th>Anos</th>\n",
              "    </tr>\n",
              "  </thead>\n",
              "  <tbody>\n",
              "    <tr>\n",
              "      <th>0</th>\n",
              "      <td>1.0</td>\n",
              "      <td>9.096218</td>\n",
              "    </tr>\n",
              "    <tr>\n",
              "      <th>1</th>\n",
              "      <td>1.0</td>\n",
              "      <td>14.637429</td>\n",
              "    </tr>\n",
              "    <tr>\n",
              "      <th>2</th>\n",
              "      <td>1.0</td>\n",
              "      <td>12.255808</td>\n",
              "    </tr>\n",
              "    <tr>\n",
              "      <th>3</th>\n",
              "      <td>1.0</td>\n",
              "      <td>7.215160</td>\n",
              "    </tr>\n",
              "    <tr>\n",
              "      <th>4</th>\n",
              "      <td>1.0</td>\n",
              "      <td>6.905628</td>\n",
              "    </tr>\n",
              "  </tbody>\n",
              "</table>\n",
              "</div>"
            ],
            "text/plain": [
              "   const       Anos\n",
              "0    1.0   9.096218\n",
              "1    1.0  14.637429\n",
              "2    1.0  12.255808\n",
              "3    1.0   7.215160\n",
              "4    1.0   6.905628"
            ]
          },
          "metadata": {
            "tags": []
          },
          "execution_count": 126
        }
      ]
    },
    {
      "cell_type": "code",
      "metadata": {
        "id": "iCuNa9Vc4BR0"
      },
      "source": [
        "#Fazendo o ajuste da reta com o SM utilizando o odernary list squares (mínimos quadrados ordinários)\r\n",
        "#Fit faz o ajuste da reta\r\n",
        "\r\n",
        "resultado_regressao = sm.OLS(Y,X).fit()"
      ],
      "execution_count": 127,
      "outputs": []
    },
    {
      "cell_type": "code",
      "metadata": {
        "id": "0eaEWhN24BxQ",
        "outputId": "7f9ab0f0-7444-4130-fdaa-14454e32926f",
        "colab": {
          "base_uri": "https://localhost:8080/"
        }
      },
      "source": [
        "resultado_regressao.params"
      ],
      "execution_count": 128,
      "outputs": [
        {
          "output_type": "execute_result",
          "data": {
            "text/plain": [
              "const    22755.182146\n",
              "Anos      6367.639175\n",
              "dtype: float64"
            ]
          },
          "metadata": {
            "tags": []
          },
          "execution_count": 128
        }
      ]
    },
    {
      "cell_type": "code",
      "metadata": {
        "id": "Rmwz8pt44CTn"
      },
      "source": [
        "beta_1 = resultado_regressao.params[0]"
      ],
      "execution_count": 129,
      "outputs": []
    },
    {
      "cell_type": "code",
      "metadata": {
        "id": "OTULq9j94C5d"
      },
      "source": [
        "beta_2 = resultado_regressao.params[1]"
      ],
      "execution_count": 130,
      "outputs": []
    },
    {
      "cell_type": "code",
      "metadata": {
        "id": "eluBOg3Z4DaJ",
        "outputId": "6b148e33-73fd-4324-9067-2d41877d12ef",
        "colab": {
          "base_uri": "https://localhost:8080/"
        }
      },
      "source": [
        "beta_1"
      ],
      "execution_count": 131,
      "outputs": [
        {
          "output_type": "execute_result",
          "data": {
            "text/plain": [
              "22755.182145811403"
            ]
          },
          "metadata": {
            "tags": []
          },
          "execution_count": 131
        }
      ]
    },
    {
      "cell_type": "markdown",
      "metadata": {
        "id": "16PRfBqf4KxG"
      },
      "source": [
        "## <font color=blue>  Intervalo de confiança </font>\r\n",
        "\r\n",
        "O intervalo de confiança propõe uma gama de valores plausíveis para um parâmetro desconhecido. O intervalo de confiança possui um nível de confiança associado. O nível de confiança padrão é 95%. "
      ]
    },
    {
      "cell_type": "code",
      "metadata": {
        "id": "8_JEoApT4LOC",
        "outputId": "dd2fee49-8e28-42d7-dea3-45d6e52120ec",
        "colab": {
          "base_uri": "https://localhost:8080/",
          "height": 0
        }
      },
      "source": [
        "resultado_regressao.conf_int()"
      ],
      "execution_count": 132,
      "outputs": [
        {
          "output_type": "execute_result",
          "data": {
            "text/html": [
              "<div>\n",
              "<style scoped>\n",
              "    .dataframe tbody tr th:only-of-type {\n",
              "        vertical-align: middle;\n",
              "    }\n",
              "\n",
              "    .dataframe tbody tr th {\n",
              "        vertical-align: top;\n",
              "    }\n",
              "\n",
              "    .dataframe thead th {\n",
              "        text-align: right;\n",
              "    }\n",
              "</style>\n",
              "<table border=\"1\" class=\"dataframe\">\n",
              "  <thead>\n",
              "    <tr style=\"text-align: right;\">\n",
              "      <th></th>\n",
              "      <th>0</th>\n",
              "      <th>1</th>\n",
              "    </tr>\n",
              "  </thead>\n",
              "  <tbody>\n",
              "    <tr>\n",
              "      <th>const</th>\n",
              "      <td>19067.657980</td>\n",
              "      <td>26442.706312</td>\n",
              "    </tr>\n",
              "    <tr>\n",
              "      <th>Anos</th>\n",
              "      <td>6050.119397</td>\n",
              "      <td>6685.158952</td>\n",
              "    </tr>\n",
              "  </tbody>\n",
              "</table>\n",
              "</div>"
            ],
            "text/plain": [
              "                  0             1\n",
              "const  19067.657980  26442.706312\n",
              "Anos    6050.119397   6685.158952"
            ]
          },
          "metadata": {
            "tags": []
          },
          "execution_count": 132
        }
      ]
    },
    {
      "cell_type": "code",
      "metadata": {
        "id": "86tdwRT94Lo_"
      },
      "source": [
        "salarial['y_previsto'] = resultado_regressao.predict()"
      ],
      "execution_count": 133,
      "outputs": []
    },
    {
      "cell_type": "code",
      "metadata": {
        "id": "bFuYIhlx4MK1",
        "outputId": "5d936e26-b1c5-48d4-d384-ad0a05efed80",
        "colab": {
          "base_uri": "https://localhost:8080/",
          "height": 0
        }
      },
      "source": [
        "salarial.head()"
      ],
      "execution_count": 134,
      "outputs": [
        {
          "output_type": "execute_result",
          "data": {
            "text/html": [
              "<div>\n",
              "<style scoped>\n",
              "    .dataframe tbody tr th:only-of-type {\n",
              "        vertical-align: middle;\n",
              "    }\n",
              "\n",
              "    .dataframe tbody tr th {\n",
              "        vertical-align: top;\n",
              "    }\n",
              "\n",
              "    .dataframe thead th {\n",
              "        text-align: right;\n",
              "    }\n",
              "</style>\n",
              "<table border=\"1\" class=\"dataframe\">\n",
              "  <thead>\n",
              "    <tr style=\"text-align: right;\">\n",
              "      <th></th>\n",
              "      <th>Anos</th>\n",
              "      <th>Salario</th>\n",
              "      <th>y_previsto</th>\n",
              "    </tr>\n",
              "  </thead>\n",
              "  <tbody>\n",
              "    <tr>\n",
              "      <th>0</th>\n",
              "      <td>9.096218</td>\n",
              "      <td>78311.160754</td>\n",
              "      <td>80676.613985</td>\n",
              "    </tr>\n",
              "    <tr>\n",
              "      <th>1</th>\n",
              "      <td>14.637429</td>\n",
              "      <td>103897.664526</td>\n",
              "      <td>115961.045460</td>\n",
              "    </tr>\n",
              "    <tr>\n",
              "      <th>2</th>\n",
              "      <td>12.255808</td>\n",
              "      <td>97836.261015</td>\n",
              "      <td>100795.744300</td>\n",
              "    </tr>\n",
              "    <tr>\n",
              "      <th>3</th>\n",
              "      <td>7.215160</td>\n",
              "      <td>80550.256380</td>\n",
              "      <td>68698.714847</td>\n",
              "    </tr>\n",
              "    <tr>\n",
              "      <th>4</th>\n",
              "      <td>6.905628</td>\n",
              "      <td>68555.820963</td>\n",
              "      <td>66727.732594</td>\n",
              "    </tr>\n",
              "  </tbody>\n",
              "</table>\n",
              "</div>"
            ],
            "text/plain": [
              "        Anos        Salario     y_previsto\n",
              "0   9.096218   78311.160754   80676.613985\n",
              "1  14.637429  103897.664526  115961.045460\n",
              "2  12.255808   97836.261015  100795.744300\n",
              "3   7.215160   80550.256380   68698.714847\n",
              "4   6.905628   68555.820963   66727.732594"
            ]
          },
          "metadata": {
            "tags": []
          },
          "execution_count": 134
        }
      ]
    },
    {
      "cell_type": "code",
      "metadata": {
        "id": "pvWoGXC-4Mxn",
        "outputId": "53467668-c409-4f42-9dfa-e37eb0e4773e",
        "colab": {
          "base_uri": "https://localhost:8080/",
          "height": 0
        }
      },
      "source": [
        "sns.scatterplot(x='Anos',y='Salario',data=salarial)\r\n",
        "sns.scatterplot(x='Anos',y='y_previsto',data=salarial)"
      ],
      "execution_count": 135,
      "outputs": [
        {
          "output_type": "execute_result",
          "data": {
            "text/plain": [
              "<matplotlib.axes._subplots.AxesSubplot at 0x7f0d0d525a58>"
            ]
          },
          "metadata": {
            "tags": []
          },
          "execution_count": 135
        },
        {
          "output_type": "display_data",
          "data": {
            "image/png": "[encoded data removed]",
            "text/plain": [
              "<Figure size 720x432 with 1 Axes>"
            ]
          },
          "metadata": {
            "tags": [],
            "needs_background": "light"
          }
        }
      ]
    },
    {
      "cell_type": "code",
      "metadata": {
        "id": "sCYuuUGK4NYc"
      },
      "source": [
        "import numpy as np"
      ],
      "execution_count": 136,
      "outputs": []
    },
    {
      "cell_type": "code",
      "metadata": {
        "id": "B6_Dgaps1mzm"
      },
      "source": [
        "import statsmodels.api as sm"
      ],
      "execution_count": 137,
      "outputs": []
    },
    {
      "cell_type": "code",
      "metadata": {
        "id": "gpaue8RO4N2k"
      },
      "source": [
        "Xnovo = np.linspace(20,30,11)"
      ],
      "execution_count": 138,
      "outputs": []
    },
    {
      "cell_type": "code",
      "metadata": {
        "id": "lgzSuwZD4OVy"
      },
      "source": [
        "Xnovo = sm.add_constant(Xnovo)"
      ],
      "execution_count": 139,
      "outputs": []
    },
    {
      "cell_type": "code",
      "metadata": {
        "id": "cs6Y_Ct34OzP"
      },
      "source": [
        "fora_da_amostra = resultado_regressao.predict(Xnovo)"
      ],
      "execution_count": 140,
      "outputs": []
    },
    {
      "cell_type": "code",
      "metadata": {
        "id": "ijMMOQoO4POh",
        "outputId": "aca1a044-220a-41a4-8ddc-c1d9ca1c7859",
        "colab": {
          "base_uri": "https://localhost:8080/",
          "height": 0
        }
      },
      "source": [
        "sns.scatterplot(x='Anos',y='Salario',data=salarial)\r\n",
        "sns.scatterplot(x='Anos',y='y_previsto',data=salarial)\r\n",
        "sns.scatterplot(x=Xnovo[:,1],y=fora_da_amostra)"
      ],
      "execution_count": 141,
      "outputs": [
        {
          "output_type": "execute_result",
          "data": {
            "text/plain": [
              "<matplotlib.axes._subplots.AxesSubplot at 0x7f0d0d49cc50>"
            ]
          },
          "metadata": {
            "tags": []
          },
          "execution_count": 141
        },
        {
          "output_type": "display_data",
          "data": {
            "image/png": "[encoded data removed]",
            "text/plain": [
              "<Figure size 720x432 with 1 Axes>"
            ]
          },
          "metadata": {
            "tags": [],
            "needs_background": "light"
          }
        }
      ]
    },
    {
      "cell_type": "markdown",
      "metadata": {
        "id": "nVY-kUOXvZyk"
      },
      "source": [
        "# Análise de resíduos"
      ]
    },
    {
      "cell_type": "code",
      "metadata": {
        "id": "UW5fVkUX1MOm"
      },
      "source": [
        "import numpy as np"
      ],
      "execution_count": 142,
      "outputs": []
    },
    {
      "cell_type": "code",
      "metadata": {
        "id": "wjjE6ujo1M4d"
      },
      "source": [
        "Xnovo = np.linspace(20,30,11)"
      ],
      "execution_count": 143,
      "outputs": []
    },
    {
      "cell_type": "code",
      "metadata": {
        "id": "-dxvu4sN1Nb6"
      },
      "source": [
        "Xnovo = sm.add_constant(Xnovo)"
      ],
      "execution_count": 144,
      "outputs": []
    },
    {
      "cell_type": "code",
      "metadata": {
        "id": "t_r772NJ1OBh"
      },
      "source": [
        "fora_da_amostra = resultado_regressao.predict(Xnovo)"
      ],
      "execution_count": 145,
      "outputs": []
    },
    {
      "cell_type": "code",
      "metadata": {
        "id": "4n4ORxbk1OpB",
        "outputId": "ebd82c4c-c2b8-4128-9408-0d0c746cf90f",
        "colab": {
          "base_uri": "https://localhost:8080/",
          "height": 0
        }
      },
      "source": [
        "sns.scatterplot(x='Anos',y='Salario',data=salarial)\r\n",
        "sns.scatterplot(x='Anos',y='y_previsto',data=salarial)\r\n",
        "sns.scatterplot(x=Xnovo[:,1],y=fora_da_amostra)"
      ],
      "execution_count": 146,
      "outputs": [
        {
          "output_type": "execute_result",
          "data": {
            "text/plain": [
              "<matplotlib.axes._subplots.AxesSubplot at 0x7f0d0d4d4e48>"
            ]
          },
          "metadata": {
            "tags": []
          },
          "execution_count": 146
        },
        {
          "output_type": "display_data",
          "data": {
            "image/png": "[encoded data removed]",
            "text/plain": [
              "<Figure size 720x432 with 1 Axes>"
            ]
          },
          "metadata": {
            "tags": [],
            "needs_background": "light"
          }
        }
      ]
    },
    {
      "cell_type": "code",
      "metadata": {
        "id": "MUCl_Hw2vi-D",
        "outputId": "25649971-1414-4a1b-8eac-cd35cab1095c",
        "colab": {
          "base_uri": "https://localhost:8080/",
          "height": 0
        }
      },
      "source": [
        "salarial['Resíduo'] = resultado_regressao.resid\r\n",
        "salarial.head()"
      ],
      "execution_count": 147,
      "outputs": [
        {
          "output_type": "execute_result",
          "data": {
            "text/html": [
              "<div>\n",
              "<style scoped>\n",
              "    .dataframe tbody tr th:only-of-type {\n",
              "        vertical-align: middle;\n",
              "    }\n",
              "\n",
              "    .dataframe tbody tr th {\n",
              "        vertical-align: top;\n",
              "    }\n",
              "\n",
              "    .dataframe thead th {\n",
              "        text-align: right;\n",
              "    }\n",
              "</style>\n",
              "<table border=\"1\" class=\"dataframe\">\n",
              "  <thead>\n",
              "    <tr style=\"text-align: right;\">\n",
              "      <th></th>\n",
              "      <th>Anos</th>\n",
              "      <th>Salario</th>\n",
              "      <th>y_previsto</th>\n",
              "      <th>Resíduo</th>\n",
              "    </tr>\n",
              "  </thead>\n",
              "  <tbody>\n",
              "    <tr>\n",
              "      <th>0</th>\n",
              "      <td>9.096218</td>\n",
              "      <td>78311.160754</td>\n",
              "      <td>80676.613985</td>\n",
              "      <td>-2365.453231</td>\n",
              "    </tr>\n",
              "    <tr>\n",
              "      <th>1</th>\n",
              "      <td>14.637429</td>\n",
              "      <td>103897.664526</td>\n",
              "      <td>115961.045460</td>\n",
              "      <td>-12063.380934</td>\n",
              "    </tr>\n",
              "    <tr>\n",
              "      <th>2</th>\n",
              "      <td>12.255808</td>\n",
              "      <td>97836.261015</td>\n",
              "      <td>100795.744300</td>\n",
              "      <td>-2959.483285</td>\n",
              "    </tr>\n",
              "    <tr>\n",
              "      <th>3</th>\n",
              "      <td>7.215160</td>\n",
              "      <td>80550.256380</td>\n",
              "      <td>68698.714847</td>\n",
              "      <td>11851.541534</td>\n",
              "    </tr>\n",
              "    <tr>\n",
              "      <th>4</th>\n",
              "      <td>6.905628</td>\n",
              "      <td>68555.820963</td>\n",
              "      <td>66727.732594</td>\n",
              "      <td>1828.088369</td>\n",
              "    </tr>\n",
              "  </tbody>\n",
              "</table>\n",
              "</div>"
            ],
            "text/plain": [
              "        Anos        Salario     y_previsto       Resíduo\n",
              "0   9.096218   78311.160754   80676.613985  -2365.453231\n",
              "1  14.637429  103897.664526  115961.045460 -12063.380934\n",
              "2  12.255808   97836.261015  100795.744300  -2959.483285\n",
              "3   7.215160   80550.256380   68698.714847  11851.541534\n",
              "4   6.905628   68555.820963   66727.732594   1828.088369"
            ]
          },
          "metadata": {
            "tags": []
          },
          "execution_count": 147
        }
      ]
    },
    {
      "cell_type": "markdown",
      "metadata": {
        "id": "N9RyPX49vpup"
      },
      "source": [
        "\r\n",
        "1. Média igual a zero;"
      ]
    },
    {
      "cell_type": "code",
      "metadata": {
        "id": "h_4OeSNNvqa-",
        "outputId": "e588bba3-2429-48a4-93af-a90cf939b8ea",
        "colab": {
          "base_uri": "https://localhost:8080/"
        }
      },
      "source": [
        "salarial['Resíduo'].mean()"
      ],
      "execution_count": 148,
      "outputs": [
        {
          "output_type": "execute_result",
          "data": {
            "text/plain": [
              "1.7316779121756553e-11"
            ]
          },
          "metadata": {
            "tags": []
          },
          "execution_count": 148
        }
      ]
    },
    {
      "cell_type": "markdown",
      "metadata": {
        "id": "crZZM4HMvsDC"
      },
      "source": [
        "2. Os valores de $u$ são independentes."
      ]
    },
    {
      "cell_type": "code",
      "metadata": {
        "id": "UZHwobZ4vtBw",
        "outputId": "1cfde368-954b-47e6-8687-8f8f618249b7",
        "colab": {
          "base_uri": "https://localhost:8080/",
          "height": 0
        }
      },
      "source": [
        "sns.scatterplot(x=salarial['Anos'], y=salarial['Resíduo'])"
      ],
      "execution_count": 149,
      "outputs": [
        {
          "output_type": "execute_result",
          "data": {
            "text/plain": [
              "<matplotlib.axes._subplots.AxesSubplot at 0x7f0d0d4abf28>"
            ]
          },
          "metadata": {
            "tags": []
          },
          "execution_count": 149
        },
        {
          "output_type": "display_data",
          "data": {
            "image/png": "[encoded data removed]",
            "text/plain": [
              "<Figure size 720x432 with 1 Axes>"
            ]
          },
          "metadata": {
            "tags": [],
            "needs_background": "light"
          }
        }
      ]
    },
    {
      "cell_type": "code",
      "metadata": {
        "id": "raJ2Y34Lvtv5",
        "outputId": "3a571746-aea0-4e45-b53a-68239575fb8b",
        "colab": {
          "base_uri": "https://localhost:8080/",
          "height": 0
        }
      },
      "source": [
        "sns.scatterplot(x=salarial['y_previsto'], y=salarial['Resíduo'])"
      ],
      "execution_count": 150,
      "outputs": [
        {
          "output_type": "execute_result",
          "data": {
            "text/plain": [
              "<matplotlib.axes._subplots.AxesSubplot at 0x7f0d0d3bbc50>"
            ]
          },
          "metadata": {
            "tags": []
          },
          "execution_count": 150
        },
        {
          "output_type": "display_data",
          "data": {
            "image/png": "[encoded data removed]",
            "text/plain": [
              "<Figure size 720x432 with 1 Axes>"
            ]
          },
          "metadata": {
            "tags": [],
            "needs_background": "light"
          }
        }
      ]
    },
    {
      "cell_type": "markdown",
      "metadata": {
        "id": "X83-PPWrvuuN"
      },
      "source": [
        "3. Variância de $u$ é a mesma para todos os valores de X;"
      ]
    },
    {
      "cell_type": "code",
      "metadata": {
        "id": "FI1lshUWvvgB",
        "outputId": "88d4503d-3c9c-4004-c88e-01311d352be3",
        "colab": {
          "base_uri": "https://localhost:8080/",
          "height": 0
        }
      },
      "source": [
        "sns.scatterplot(x=salarial['y_previsto'], y=salarial['Resíduo']**2)"
      ],
      "execution_count": 151,
      "outputs": [
        {
          "output_type": "execute_result",
          "data": {
            "text/plain": [
              "<matplotlib.axes._subplots.AxesSubplot at 0x7f0d0d37d5f8>"
            ]
          },
          "metadata": {
            "tags": []
          },
          "execution_count": 151
        },
        {
          "output_type": "display_data",
          "data": {
            "image/png": "[encoded data removed]",
            "text/plain": [
              "<Figure size 720x432 with 1 Axes>"
            ]
          },
          "metadata": {
            "tags": [],
            "needs_background": "light"
          }
        }
      ]
    },
    {
      "cell_type": "markdown",
      "metadata": {
        "id": "rTH0D6okvwaB"
      },
      "source": [
        "<img src=\"https://caelum-online-public.s3.amazonaws.com/1273-estatistica-parte4/01/img028.jpg\" width=80%>\r\n",
        "Fonte: Econometria Básica - 5ª edição - Gujarati e Porter"
      ]
    },
    {
      "cell_type": "markdown",
      "metadata": {
        "id": "WVO2PcvsvyIo"
      },
      "source": [
        "## <font color=blue>  Coeficiente de determinação - $R^2$ </font>"
      ]
    },
    {
      "cell_type": "markdown",
      "metadata": {
        "id": "p9r-aCEVvzV4"
      },
      "source": [
        "O quanto a linha de regressão amostral se ajusta aos dados."
      ]
    },
    {
      "cell_type": "code",
      "metadata": {
        "id": "j4UknSQwv0Kh",
        "outputId": "2fcf5fb8-4f78-41a7-eec2-077e728152cf",
        "colab": {
          "base_uri": "https://localhost:8080/",
          "height": 0
        }
      },
      "source": [
        "sns.scatterplot(x='Anos',y='Salario',data=salarial)\r\n",
        "sns.scatterplot(x='Anos',y='y_previsto',data=salarial)"
      ],
      "execution_count": 152,
      "outputs": [
        {
          "output_type": "execute_result",
          "data": {
            "text/plain": [
              "<matplotlib.axes._subplots.AxesSubplot at 0x7f0d0d2c7518>"
            ]
          },
          "metadata": {
            "tags": []
          },
          "execution_count": 152
        },
        {
          "output_type": "display_data",
          "data": {
            "image/png": "[encoded data removed]",
            "text/plain": [
              "<Figure size 720x432 with 1 Axes>"
            ]
          },
          "metadata": {
            "tags": [],
            "needs_background": "light"
          }
        }
      ]
    },
    {
      "cell_type": "markdown",
      "metadata": {
        "id": "1rIlVH3bv1aP"
      },
      "source": [
        "## $$R^2 = \\frac{\\big[\\sum{(Y_i - \\bar{Y})(\\hat{Y}_i - \\bar{Y})}\\big]^2}{\\sum{(Y_i - \\bar{Y}})^2 \\sum{(\\hat{Y}_i - \\bar{Y}})^2}$$"
      ]
    },
    {
      "cell_type": "code",
      "metadata": {
        "id": "zzeVjKJNv2Ag",
        "outputId": "ac1350fd-0264-4124-acc5-ec2d7cb70b29",
        "colab": {
          "base_uri": "https://localhost:8080/"
        }
      },
      "source": [
        "resultado_regressao.rsquared"
      ],
      "execution_count": 153,
      "outputs": [
        {
          "output_type": "execute_result",
          "data": {
            "text/plain": [
              "0.9417294727711081"
            ]
          },
          "metadata": {
            "tags": []
          },
          "execution_count": 153
        }
      ]
    },
    {
      "cell_type": "markdown",
      "metadata": {
        "id": "G5fnh7kLBQe7"
      },
      "source": [
        "# Gráficos com Ploty"
      ]
    },
    {
      "cell_type": "markdown",
      "metadata": {
        "id": "UMGu9-DGBpO8"
      },
      "source": [
        "Existe outra biblioteca para gráficos chama de Ploty, especialmente interessantes para compartilhar o trabalho na web"
      ]
    },
    {
      "cell_type": "code",
      "metadata": {
        "id": "ri7-s9mZETuc"
      },
      "source": [
        "#Obs, este módulo necessita dos dados do arquivo módulo_1_e_2_Bootcamp_Alura.ipynb"
      ],
      "execution_count": 154,
      "outputs": []
    },
    {
      "cell_type": "code",
      "metadata": {
        "id": "wmTStl3qB5tb"
      },
      "source": [
        "import plotly.graph_objs as go\r\n",
        "import plotly.express as px\r\n",
        "\r\n",
        "#import pandas as pd\r\n",
        "#import plotly.offline as py\r\n",
        "#import plotly.graph_objs as go\r\n",
        "#py.init_notebook_mode(connected=True)\r\n",
        "\r\n",
        "#mais informações sobre gráficos interativos em https://paulovasconcellos.com.br/como-criar-gr%C3%A1ficos-interativos-utilizando-plotly-e-python-3eb6eda57a2b"
      ],
      "execution_count": 155,
      "outputs": []
    },
    {
      "cell_type": "code",
      "metadata": {
        "id": "On_phfphB8cI",
        "colab": {
          "base_uri": "https://localhost:8080/",
          "height": 229
        },
        "outputId": "4b4b69c1-ca74-4cdd-fa84-464cdf2c3427"
      },
      "source": [
        "fig = go.Figure()\r\n",
        "\r\n",
        "fig.add_trace(go.Scatter(x=cincoestados.index, y=cincoestados['11 Rondônia'],name='Rondônia'))\r\n",
        "fig.add_trace(go.Scatter(x=cincoestados.index, y=cincoestados['12 Acre'],name='Acre'))\r\n",
        "fig.add_trace(go.Scatter(x=cincoestados.index, y=cincoestados['13 Amazonas'],name='Amazonas'))\r\n",
        "fig.add_trace(go.Scatter(x=cincoestados.index, y=cincoestados['14 Roraima'],name='Roraima'))\r\n",
        "fig.add_trace(go.Scatter(x=cincoestados.index, y=cincoestados['15 Pará'],name='Pará'))\r\n",
        "\r\n",
        "fig.show()"
      ],
      "execution_count": 156,
      "outputs": [
        {
          "output_type": "error",
          "ename": "NameError",
          "evalue": "ignored",
          "traceback": [
            "\u001b[0;31m---------------------------------------------------------------------------\u001b[0m",
            "\u001b[0;31mNameError\u001b[0m                                 Traceback (most recent call last)",
            "\u001b[0;32m<ipython-input-156-cf99a9c7ba3d>\u001b[0m in \u001b[0;36m<module>\u001b[0;34m()\u001b[0m\n\u001b[1;32m      1\u001b[0m \u001b[0mfig\u001b[0m \u001b[0;34m=\u001b[0m \u001b[0mgo\u001b[0m\u001b[0;34m.\u001b[0m\u001b[0mFigure\u001b[0m\u001b[0;34m(\u001b[0m\u001b[0;34m)\u001b[0m\u001b[0;34m\u001b[0m\u001b[0;34m\u001b[0m\u001b[0m\n\u001b[1;32m      2\u001b[0m \u001b[0;34m\u001b[0m\u001b[0m\n\u001b[0;32m----> 3\u001b[0;31m \u001b[0mfig\u001b[0m\u001b[0;34m.\u001b[0m\u001b[0madd_trace\u001b[0m\u001b[0;34m(\u001b[0m\u001b[0mgo\u001b[0m\u001b[0;34m.\u001b[0m\u001b[0mScatter\u001b[0m\u001b[0;34m(\u001b[0m\u001b[0mx\u001b[0m\u001b[0;34m=\u001b[0m\u001b[0mcincoestados\u001b[0m\u001b[0;34m.\u001b[0m\u001b[0mindex\u001b[0m\u001b[0;34m,\u001b[0m \u001b[0my\u001b[0m\u001b[0;34m=\u001b[0m\u001b[0mcincoestados\u001b[0m\u001b[0;34m[\u001b[0m\u001b[0;34m'11 Rondônia'\u001b[0m\u001b[0;34m]\u001b[0m\u001b[0;34m,\u001b[0m\u001b[0mname\u001b[0m\u001b[0;34m=\u001b[0m\u001b[0;34m'Rondônia'\u001b[0m\u001b[0;34m)\u001b[0m\u001b[0;34m)\u001b[0m\u001b[0;34m\u001b[0m\u001b[0;34m\u001b[0m\u001b[0m\n\u001b[0m\u001b[1;32m      4\u001b[0m \u001b[0mfig\u001b[0m\u001b[0;34m.\u001b[0m\u001b[0madd_trace\u001b[0m\u001b[0;34m(\u001b[0m\u001b[0mgo\u001b[0m\u001b[0;34m.\u001b[0m\u001b[0mScatter\u001b[0m\u001b[0;34m(\u001b[0m\u001b[0mx\u001b[0m\u001b[0;34m=\u001b[0m\u001b[0mcincoestados\u001b[0m\u001b[0;34m.\u001b[0m\u001b[0mindex\u001b[0m\u001b[0;34m,\u001b[0m \u001b[0my\u001b[0m\u001b[0;34m=\u001b[0m\u001b[0mcincoestados\u001b[0m\u001b[0;34m[\u001b[0m\u001b[0;34m'12 Acre'\u001b[0m\u001b[0;34m]\u001b[0m\u001b[0;34m,\u001b[0m\u001b[0mname\u001b[0m\u001b[0;34m=\u001b[0m\u001b[0;34m'Acre'\u001b[0m\u001b[0;34m)\u001b[0m\u001b[0;34m)\u001b[0m\u001b[0;34m\u001b[0m\u001b[0;34m\u001b[0m\u001b[0m\n\u001b[1;32m      5\u001b[0m \u001b[0mfig\u001b[0m\u001b[0;34m.\u001b[0m\u001b[0madd_trace\u001b[0m\u001b[0;34m(\u001b[0m\u001b[0mgo\u001b[0m\u001b[0;34m.\u001b[0m\u001b[0mScatter\u001b[0m\u001b[0;34m(\u001b[0m\u001b[0mx\u001b[0m\u001b[0;34m=\u001b[0m\u001b[0mcincoestados\u001b[0m\u001b[0;34m.\u001b[0m\u001b[0mindex\u001b[0m\u001b[0;34m,\u001b[0m \u001b[0my\u001b[0m\u001b[0;34m=\u001b[0m\u001b[0mcincoestados\u001b[0m\u001b[0;34m[\u001b[0m\u001b[0;34m'13 Amazonas'\u001b[0m\u001b[0;34m]\u001b[0m\u001b[0;34m,\u001b[0m\u001b[0mname\u001b[0m\u001b[0;34m=\u001b[0m\u001b[0;34m'Amazonas'\u001b[0m\u001b[0;34m)\u001b[0m\u001b[0;34m)\u001b[0m\u001b[0;34m\u001b[0m\u001b[0;34m\u001b[0m\u001b[0m\n",
            "\u001b[0;31mNameError\u001b[0m: name 'cincoestados' is not defined"
          ]
        }
      ]
    },
    {
      "cell_type": "code",
      "metadata": {
        "id": "oU47G8X4B98I"
      },
      "source": [
        "fig2 = px.bar(x=gastos_do_ultimo_mes.index, \r\n",
        "              y=gastos_do_ultimo_mes,labels={'x':'Unidade da Federação','y':'Gastos'})\r\n",
        "\r\n",
        "fig2.show()"
      ],
      "execution_count": null,
      "outputs": []
    },
    {
      "cell_type": "code",
      "metadata": {
        "id": "glivN_KoCKam"
      },
      "source": [
        "#É possível salvar a imagem\r\n",
        "\r\n",
        "fig2.write_html('imagem.html')"
      ],
      "execution_count": null,
      "outputs": []
    }
  ]
}
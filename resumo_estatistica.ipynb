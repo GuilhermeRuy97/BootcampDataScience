{
  "nbformat": 4,
  "nbformat_minor": 0,
  "metadata": {
    "colab": {
      "name": "resumo_estatistica",
      "provenance": [],
      "mount_file_id": "https://github.com/GuilhermeRuy97/BootcampDataScience/blob/main/resumo_estatistica.ipynb",
      "authorship_tag": "ABX9TyNtvptSewQgdALfpc5J7KuL",
      "include_colab_link": true
    },
    "kernelspec": {
      "name": "python3",
      "display_name": "Python 3"
    }
  },
  "cells": [
    {
      "cell_type": "markdown",
      "metadata": {
        "id": "view-in-github",
        "colab_type": "text"
      },
      "source": [
        "<a href=\"https://colab.research.google.com/github/GuilhermeRuy97/BootcampDataScience/blob/main/resumo_estatistica.ipynb\" target=\"_parent\"><img src=\"https://colab.research.google.com/assets/colab-badge.svg\" alt=\"Open In Colab\"/></a>"
      ]
    },
    {
      "cell_type": "markdown",
      "metadata": {
        "id": "6GBdJSkdWJFT"
      },
      "source": [
        "# Média, moda e mediana"
      ]
    },
    {
      "cell_type": "code",
      "metadata": {
        "colab": {
          "base_uri": "https://localhost:8080/",
          "height": 244
        },
        "id": "l0fN5ut5Wg4q",
        "outputId": "8f5e9adc-3d82-4666-cf68-403b3b8a3c49"
      },
      "source": [
        "import pandas as pd\r\n",
        "from zipfile import ZipFile\r\n",
        "\r\n",
        "caminho = \"/content/drive/MyDrive/cursos/bootcampDSalura/dados modulo 3/PeNSE_2015_AMOSTRA2.zip\"\r\n",
        "zip = ZipFile(caminho)\r\n",
        "caminho_pasta_zipada = zip.namelist()[1]\r\n",
        "\r\n",
        "dados = pd.read_csv(zip.open(caminho_pasta_zipada), sep = \";\", thousands = \".\", decimal = \",\")\r\n",
        "dados.head()"
      ],
      "execution_count": 2,
      "outputs": [
        {
          "output_type": "execute_result",
          "data": {
            "text/html": [
              "<div>\n",
              "<style scoped>\n",
              "    .dataframe tbody tr th:only-of-type {\n",
              "        vertical-align: middle;\n",
              "    }\n",
              "\n",
              "    .dataframe tbody tr th {\n",
              "        vertical-align: top;\n",
              "    }\n",
              "\n",
              "    .dataframe thead th {\n",
              "        text-align: right;\n",
              "    }\n",
              "</style>\n",
              "<table border=\"1\" class=\"dataframe\">\n",
              "  <thead>\n",
              "    <tr style=\"text-align: right;\">\n",
              "      <th></th>\n",
              "      <th>ANOPESQ</th>\n",
              "      <th>PAIS</th>\n",
              "      <th>REGEOGR</th>\n",
              "      <th>VB00004</th>\n",
              "      <th>VB01001</th>\n",
              "      <th>VB01002</th>\n",
              "      <th>VB01003</th>\n",
              "      <th>VB01004</th>\n",
              "      <th>VB01005</th>\n",
              "      <th>VB01006</th>\n",
              "      <th>VB01007</th>\n",
              "      <th>VB01008A</th>\n",
              "      <th>VB01010A</th>\n",
              "      <th>VB01011</th>\n",
              "      <th>VB01012</th>\n",
              "      <th>VB01013</th>\n",
              "      <th>VB01014</th>\n",
              "      <th>VB01015A</th>\n",
              "      <th>VB01016</th>\n",
              "      <th>VB01017</th>\n",
              "      <th>VB01018</th>\n",
              "      <th>VB01019</th>\n",
              "      <th>VB01020A</th>\n",
              "      <th>VB01021</th>\n",
              "      <th>VB01022</th>\n",
              "      <th>VB01023</th>\n",
              "      <th>VB01024</th>\n",
              "      <th>VB01025</th>\n",
              "      <th>VB01026</th>\n",
              "      <th>VB02001</th>\n",
              "      <th>VB02002</th>\n",
              "      <th>VB02004A</th>\n",
              "      <th>VB02010</th>\n",
              "      <th>VB02011</th>\n",
              "      <th>VB02013</th>\n",
              "      <th>VB02017A</th>\n",
              "      <th>VB02018A</th>\n",
              "      <th>VB02019A</th>\n",
              "      <th>VB02020A</th>\n",
              "      <th>VB02021</th>\n",
              "      <th>...</th>\n",
              "      <th>VB11005</th>\n",
              "      <th>VB11006</th>\n",
              "      <th>VB11007</th>\n",
              "      <th>VB12001</th>\n",
              "      <th>VB12002</th>\n",
              "      <th>VB12003</th>\n",
              "      <th>VB13001</th>\n",
              "      <th>VB13002A</th>\n",
              "      <th>VB13004A</th>\n",
              "      <th>VB13005</th>\n",
              "      <th>VB13006</th>\n",
              "      <th>VB13007</th>\n",
              "      <th>VB13008</th>\n",
              "      <th>VB13009</th>\n",
              "      <th>VB14001</th>\n",
              "      <th>VB14002</th>\n",
              "      <th>VB16001A01</th>\n",
              "      <th>VB16001A02</th>\n",
              "      <th>VB16001A03</th>\n",
              "      <th>VB16001A04</th>\n",
              "      <th>VB16001A05</th>\n",
              "      <th>VB16001A06</th>\n",
              "      <th>VB16001A07</th>\n",
              "      <th>VB16001A08</th>\n",
              "      <th>VB17001</th>\n",
              "      <th>VB17002</th>\n",
              "      <th>VB17003</th>\n",
              "      <th>VB17004</th>\n",
              "      <th>VB17005</th>\n",
              "      <th>VB17006</th>\n",
              "      <th>ESTRATO_EXP</th>\n",
              "      <th>ESTRATOGEOREG</th>\n",
              "      <th>PESO</th>\n",
              "      <th>V0006</th>\n",
              "      <th>V0007</th>\n",
              "      <th>V0008</th>\n",
              "      <th>V0041</th>\n",
              "      <th>aluno</th>\n",
              "      <th>escola</th>\n",
              "      <th>turma</th>\n",
              "    </tr>\n",
              "  </thead>\n",
              "  <tbody>\n",
              "    <tr>\n",
              "      <th>0</th>\n",
              "      <td>2015</td>\n",
              "      <td>76</td>\n",
              "      <td>1</td>\n",
              "      <td>1</td>\n",
              "      <td>2</td>\n",
              "      <td>1</td>\n",
              "      <td>13</td>\n",
              "      <td>7</td>\n",
              "      <td>7</td>\n",
              "      <td>1</td>\n",
              "      <td>2</td>\n",
              "      <td>7</td>\n",
              "      <td>3</td>\n",
              "      <td>2</td>\n",
              "      <td>-1</td>\n",
              "      <td>1</td>\n",
              "      <td>1</td>\n",
              "      <td>1</td>\n",
              "      <td>1</td>\n",
              "      <td>1</td>\n",
              "      <td>2</td>\n",
              "      <td>4</td>\n",
              "      <td>2</td>\n",
              "      <td>4</td>\n",
              "      <td>1</td>\n",
              "      <td>2</td>\n",
              "      <td>2</td>\n",
              "      <td>5</td>\n",
              "      <td>1</td>\n",
              "      <td>8</td>\n",
              "      <td>3</td>\n",
              "      <td>4</td>\n",
              "      <td>3</td>\n",
              "      <td>6</td>\n",
              "      <td>6</td>\n",
              "      <td>1</td>\n",
              "      <td>6</td>\n",
              "      <td>1</td>\n",
              "      <td>-1</td>\n",
              "      <td>2</td>\n",
              "      <td>...</td>\n",
              "      <td>2</td>\n",
              "      <td>1</td>\n",
              "      <td>2</td>\n",
              "      <td>1</td>\n",
              "      <td>1</td>\n",
              "      <td>4</td>\n",
              "      <td>2</td>\n",
              "      <td>-1</td>\n",
              "      <td>3</td>\n",
              "      <td>1</td>\n",
              "      <td>1</td>\n",
              "      <td>-1</td>\n",
              "      <td>1</td>\n",
              "      <td>1</td>\n",
              "      <td>2</td>\n",
              "      <td>2</td>\n",
              "      <td>1</td>\n",
              "      <td>2</td>\n",
              "      <td>2</td>\n",
              "      <td>2</td>\n",
              "      <td>2</td>\n",
              "      <td>2</td>\n",
              "      <td>2</td>\n",
              "      <td>2</td>\n",
              "      <td>371.0</td>\n",
              "      <td>1570.0</td>\n",
              "      <td>37.1</td>\n",
              "      <td>157.0</td>\n",
              "      <td>2</td>\n",
              "      <td>1</td>\n",
              "      <td>1223</td>\n",
              "      <td>1</td>\n",
              "      <td>299.735235</td>\n",
              "      <td>1</td>\n",
              "      <td>2</td>\n",
              "      <td>4</td>\n",
              "      <td>1</td>\n",
              "      <td>1</td>\n",
              "      <td>1</td>\n",
              "      <td>296</td>\n",
              "    </tr>\n",
              "    <tr>\n",
              "      <th>1</th>\n",
              "      <td>2015</td>\n",
              "      <td>76</td>\n",
              "      <td>1</td>\n",
              "      <td>1</td>\n",
              "      <td>2</td>\n",
              "      <td>1</td>\n",
              "      <td>14</td>\n",
              "      <td>4</td>\n",
              "      <td>7</td>\n",
              "      <td>1</td>\n",
              "      <td>1</td>\n",
              "      <td>7</td>\n",
              "      <td>3</td>\n",
              "      <td>2</td>\n",
              "      <td>-1</td>\n",
              "      <td>1</td>\n",
              "      <td>1</td>\n",
              "      <td>1</td>\n",
              "      <td>1</td>\n",
              "      <td>1</td>\n",
              "      <td>2</td>\n",
              "      <td>2</td>\n",
              "      <td>2</td>\n",
              "      <td>4</td>\n",
              "      <td>1</td>\n",
              "      <td>2</td>\n",
              "      <td>2</td>\n",
              "      <td>5</td>\n",
              "      <td>3</td>\n",
              "      <td>8</td>\n",
              "      <td>2</td>\n",
              "      <td>1</td>\n",
              "      <td>8</td>\n",
              "      <td>8</td>\n",
              "      <td>6</td>\n",
              "      <td>1</td>\n",
              "      <td>1</td>\n",
              "      <td>5</td>\n",
              "      <td>-1</td>\n",
              "      <td>2</td>\n",
              "      <td>...</td>\n",
              "      <td>2</td>\n",
              "      <td>3</td>\n",
              "      <td>2</td>\n",
              "      <td>4</td>\n",
              "      <td>4</td>\n",
              "      <td>4</td>\n",
              "      <td>1</td>\n",
              "      <td>2</td>\n",
              "      <td>3</td>\n",
              "      <td>3</td>\n",
              "      <td>1</td>\n",
              "      <td>-1</td>\n",
              "      <td>1</td>\n",
              "      <td>1</td>\n",
              "      <td>2</td>\n",
              "      <td>2</td>\n",
              "      <td>2</td>\n",
              "      <td>2</td>\n",
              "      <td>2</td>\n",
              "      <td>1</td>\n",
              "      <td>2</td>\n",
              "      <td>2</td>\n",
              "      <td>2</td>\n",
              "      <td>2</td>\n",
              "      <td>502.0</td>\n",
              "      <td>1520.0</td>\n",
              "      <td>50.2</td>\n",
              "      <td>152.0</td>\n",
              "      <td>2</td>\n",
              "      <td>2</td>\n",
              "      <td>1223</td>\n",
              "      <td>1</td>\n",
              "      <td>355.170081</td>\n",
              "      <td>1</td>\n",
              "      <td>2</td>\n",
              "      <td>4</td>\n",
              "      <td>1</td>\n",
              "      <td>2</td>\n",
              "      <td>1</td>\n",
              "      <td>296</td>\n",
              "    </tr>\n",
              "    <tr>\n",
              "      <th>2</th>\n",
              "      <td>2015</td>\n",
              "      <td>76</td>\n",
              "      <td>1</td>\n",
              "      <td>1</td>\n",
              "      <td>1</td>\n",
              "      <td>4</td>\n",
              "      <td>13</td>\n",
              "      <td>6</td>\n",
              "      <td>7</td>\n",
              "      <td>1</td>\n",
              "      <td>1</td>\n",
              "      <td>5</td>\n",
              "      <td>5</td>\n",
              "      <td>2</td>\n",
              "      <td>-1</td>\n",
              "      <td>2</td>\n",
              "      <td>1</td>\n",
              "      <td>1</td>\n",
              "      <td>1</td>\n",
              "      <td>1</td>\n",
              "      <td>2</td>\n",
              "      <td>3</td>\n",
              "      <td>1</td>\n",
              "      <td>4</td>\n",
              "      <td>1</td>\n",
              "      <td>2</td>\n",
              "      <td>2</td>\n",
              "      <td>5</td>\n",
              "      <td>3</td>\n",
              "      <td>2</td>\n",
              "      <td>3</td>\n",
              "      <td>1</td>\n",
              "      <td>8</td>\n",
              "      <td>2</td>\n",
              "      <td>8</td>\n",
              "      <td>1</td>\n",
              "      <td>1</td>\n",
              "      <td>5</td>\n",
              "      <td>5</td>\n",
              "      <td>1</td>\n",
              "      <td>...</td>\n",
              "      <td>2</td>\n",
              "      <td>1</td>\n",
              "      <td>2</td>\n",
              "      <td>1</td>\n",
              "      <td>2</td>\n",
              "      <td>3</td>\n",
              "      <td>1</td>\n",
              "      <td>2</td>\n",
              "      <td>1</td>\n",
              "      <td>2</td>\n",
              "      <td>5</td>\n",
              "      <td>99</td>\n",
              "      <td>1</td>\n",
              "      <td>-1</td>\n",
              "      <td>2</td>\n",
              "      <td>2</td>\n",
              "      <td>1</td>\n",
              "      <td>1</td>\n",
              "      <td>1</td>\n",
              "      <td>1</td>\n",
              "      <td>1</td>\n",
              "      <td>1</td>\n",
              "      <td>1</td>\n",
              "      <td>1</td>\n",
              "      <td>482.0</td>\n",
              "      <td>1614.0</td>\n",
              "      <td>48.2</td>\n",
              "      <td>161.4</td>\n",
              "      <td>2</td>\n",
              "      <td>2</td>\n",
              "      <td>1223</td>\n",
              "      <td>1</td>\n",
              "      <td>299.735235</td>\n",
              "      <td>1</td>\n",
              "      <td>2</td>\n",
              "      <td>4</td>\n",
              "      <td>1</td>\n",
              "      <td>3</td>\n",
              "      <td>1</td>\n",
              "      <td>296</td>\n",
              "    </tr>\n",
              "    <tr>\n",
              "      <th>3</th>\n",
              "      <td>2015</td>\n",
              "      <td>76</td>\n",
              "      <td>1</td>\n",
              "      <td>1</td>\n",
              "      <td>1</td>\n",
              "      <td>1</td>\n",
              "      <td>14</td>\n",
              "      <td>6</td>\n",
              "      <td>7</td>\n",
              "      <td>1</td>\n",
              "      <td>1</td>\n",
              "      <td>7</td>\n",
              "      <td>4</td>\n",
              "      <td>2</td>\n",
              "      <td>-1</td>\n",
              "      <td>1</td>\n",
              "      <td>1</td>\n",
              "      <td>1</td>\n",
              "      <td>1</td>\n",
              "      <td>1</td>\n",
              "      <td>2</td>\n",
              "      <td>4</td>\n",
              "      <td>2</td>\n",
              "      <td>4</td>\n",
              "      <td>1</td>\n",
              "      <td>2</td>\n",
              "      <td>2</td>\n",
              "      <td>6</td>\n",
              "      <td>3</td>\n",
              "      <td>2</td>\n",
              "      <td>4</td>\n",
              "      <td>1</td>\n",
              "      <td>3</td>\n",
              "      <td>2</td>\n",
              "      <td>7</td>\n",
              "      <td>1</td>\n",
              "      <td>5</td>\n",
              "      <td>1</td>\n",
              "      <td>-1</td>\n",
              "      <td>2</td>\n",
              "      <td>...</td>\n",
              "      <td>2</td>\n",
              "      <td>1</td>\n",
              "      <td>2</td>\n",
              "      <td>2</td>\n",
              "      <td>2</td>\n",
              "      <td>4</td>\n",
              "      <td>1</td>\n",
              "      <td>10</td>\n",
              "      <td>3</td>\n",
              "      <td>1</td>\n",
              "      <td>2</td>\n",
              "      <td>-1</td>\n",
              "      <td>1</td>\n",
              "      <td>-1</td>\n",
              "      <td>2</td>\n",
              "      <td>2</td>\n",
              "      <td>1</td>\n",
              "      <td>2</td>\n",
              "      <td>2</td>\n",
              "      <td>2</td>\n",
              "      <td>1</td>\n",
              "      <td>2</td>\n",
              "      <td>2</td>\n",
              "      <td>2</td>\n",
              "      <td>694.0</td>\n",
              "      <td>1725.0</td>\n",
              "      <td>69.4</td>\n",
              "      <td>172.5</td>\n",
              "      <td>2</td>\n",
              "      <td>3</td>\n",
              "      <td>1223</td>\n",
              "      <td>1</td>\n",
              "      <td>355.170081</td>\n",
              "      <td>1</td>\n",
              "      <td>2</td>\n",
              "      <td>4</td>\n",
              "      <td>1</td>\n",
              "      <td>4</td>\n",
              "      <td>1</td>\n",
              "      <td>296</td>\n",
              "    </tr>\n",
              "    <tr>\n",
              "      <th>4</th>\n",
              "      <td>2015</td>\n",
              "      <td>76</td>\n",
              "      <td>1</td>\n",
              "      <td>1</td>\n",
              "      <td>1</td>\n",
              "      <td>1</td>\n",
              "      <td>13</td>\n",
              "      <td>9</td>\n",
              "      <td>7</td>\n",
              "      <td>1</td>\n",
              "      <td>2</td>\n",
              "      <td>5</td>\n",
              "      <td>4</td>\n",
              "      <td>2</td>\n",
              "      <td>-1</td>\n",
              "      <td>2</td>\n",
              "      <td>1</td>\n",
              "      <td>1</td>\n",
              "      <td>1</td>\n",
              "      <td>1</td>\n",
              "      <td>2</td>\n",
              "      <td>5</td>\n",
              "      <td>1</td>\n",
              "      <td>4</td>\n",
              "      <td>1</td>\n",
              "      <td>2</td>\n",
              "      <td>2</td>\n",
              "      <td>6</td>\n",
              "      <td>5</td>\n",
              "      <td>6</td>\n",
              "      <td>3</td>\n",
              "      <td>5</td>\n",
              "      <td>2</td>\n",
              "      <td>6</td>\n",
              "      <td>2</td>\n",
              "      <td>1</td>\n",
              "      <td>5</td>\n",
              "      <td>1</td>\n",
              "      <td>5</td>\n",
              "      <td>1</td>\n",
              "      <td>...</td>\n",
              "      <td>2</td>\n",
              "      <td>1</td>\n",
              "      <td>4</td>\n",
              "      <td>2</td>\n",
              "      <td>2</td>\n",
              "      <td>4</td>\n",
              "      <td>1</td>\n",
              "      <td>3</td>\n",
              "      <td>2</td>\n",
              "      <td>2</td>\n",
              "      <td>2</td>\n",
              "      <td>13</td>\n",
              "      <td>1</td>\n",
              "      <td>-1</td>\n",
              "      <td>1</td>\n",
              "      <td>2</td>\n",
              "      <td>1</td>\n",
              "      <td>1</td>\n",
              "      <td>1</td>\n",
              "      <td>1</td>\n",
              "      <td>1</td>\n",
              "      <td>1</td>\n",
              "      <td>1</td>\n",
              "      <td>1</td>\n",
              "      <td>789.0</td>\n",
              "      <td>1675.0</td>\n",
              "      <td>78.9</td>\n",
              "      <td>167.5</td>\n",
              "      <td>2</td>\n",
              "      <td>4</td>\n",
              "      <td>1223</td>\n",
              "      <td>1</td>\n",
              "      <td>299.735235</td>\n",
              "      <td>1</td>\n",
              "      <td>2</td>\n",
              "      <td>4</td>\n",
              "      <td>1</td>\n",
              "      <td>5</td>\n",
              "      <td>1</td>\n",
              "      <td>296</td>\n",
              "    </tr>\n",
              "  </tbody>\n",
              "</table>\n",
              "<p>5 rows × 181 columns</p>\n",
              "</div>"
            ],
            "text/plain": [
              "   ANOPESQ  PAIS  REGEOGR  VB00004  VB01001  ...  V0008  V0041  aluno  escola  turma\n",
              "0     2015    76        1        1        2  ...      4      1      1       1    296\n",
              "1     2015    76        1        1        2  ...      4      1      2       1    296\n",
              "2     2015    76        1        1        1  ...      4      1      3       1    296\n",
              "3     2015    76        1        1        1  ...      4      1      4       1    296\n",
              "4     2015    76        1        1        1  ...      4      1      5       1    296\n",
              "\n",
              "[5 rows x 181 columns]"
            ]
          },
          "metadata": {
            "tags": []
          },
          "execution_count": 2
        }
      ]
    },
    {
      "cell_type": "code",
      "metadata": {
        "colab": {
          "base_uri": "https://localhost:8080/"
        },
        "id": "Y28qa43wXOXe",
        "outputId": "03537359-1d65-46e7-8ac6-89df1d6efcd4"
      },
      "source": [
        "dados[\"IMC\"] = dados[\"VB17003\"] / ((dados[\"VB17004\"]/100)**2)\r\n",
        "dados[\"IMC\"]"
      ],
      "execution_count": 3,
      "outputs": [
        {
          "output_type": "execute_result",
          "data": {
            "text/plain": [
              "0        15.051321\n",
              "1        21.727839\n",
              "2        18.502907\n",
              "3        23.322831\n",
              "4        28.122076\n",
              "           ...    \n",
              "16551    20.113223\n",
              "16552    17.930782\n",
              "16553    23.968489\n",
              "16554    18.995343\n",
              "16555    23.303246\n",
              "Name: IMC, Length: 16556, dtype: float64"
            ]
          },
          "metadata": {
            "tags": []
          },
          "execution_count": 3
        }
      ]
    },
    {
      "cell_type": "markdown",
      "metadata": {
        "id": "HRmYXOz5X0s-"
      },
      "source": [
        "## <font color=green>1 Média aritmética</font>\r\n",
        "***\r\n",
        "\r\n",
        "É representada por $\\mu$ quando se refere à população e por $\\bar{X}$ quando se refere à amostra\r\n",
        "\r\n",
        "# $$\\mu = \\frac 1n\\sum_{i=1}^{n}X_i$$\r\n",
        "\r\n",
        "onde \r\n",
        "\r\n",
        "$n$ = número de observações (registros)\r\n",
        "\r\n",
        "$X_i$ = valor da i-ésima observação (registro)\r\n",
        "\r\n",
        "ou seja, soma dos valores dividida pelo número de elementos"
      ]
    },
    {
      "cell_type": "code",
      "metadata": {
        "colab": {
          "base_uri": "https://localhost:8080/"
        },
        "id": "cNqJ1od5YU-G",
        "outputId": "cc7e2991-13df-4fc8-ab8f-175f3785fc40"
      },
      "source": [
        "#Fazendo a média\r\n",
        "\r\n",
        "media = dados[\"IMC\"].mean()\r\n",
        "print(media)"
      ],
      "execution_count": 4,
      "outputs": [
        {
          "output_type": "stream",
          "text": [
            "20.95825220663186\n"
          ],
          "name": "stdout"
        }
      ]
    },
    {
      "cell_type": "markdown",
      "metadata": {
        "id": "RMSxQXUuYwBO"
      },
      "source": [
        "## <font color=green>2 Mediana</font>\r\n",
        "***\r\n",
        "\r\n",
        "Para obtermos a mediana de uma conjunto de dados devemos proceder da seguinte maneira:\r\n",
        "1. Ordenar o conjunto de dados;\r\n",
        "2. Identificar o número de observações (registros) do conjunto de dados ($n$);\r\n",
        "3. Identicar o elemento mediano:\r\n",
        "\r\n",
        "> Quando $n$ for ímpar, a posição do elemento mediano será obtida da seguinte forma:\r\n",
        "\r\n",
        "\r\n",
        "# $$Elemento_{Md} = \\frac{n+1}2$$\r\n",
        "\r\n",
        "> Quando $n$ for par, a posição do elemento mediano será obtida da seguinte forma:\r\n",
        "\r\n",
        "\r\n",
        "# $$Elemento_{Md} = \\frac{n}2$$\r\n",
        "\r\n",
        "4. Obter a mediana:\r\n",
        "\r\n",
        "> Quando $n$ for ímpar:\r\n",
        "\r\n",
        "\r\n",
        "# $$Md = X_{Elemento_{Md}}$$\r\n",
        "\r\n",
        "> Quando $n$ for par:\r\n",
        "\r\n",
        "\r\n",
        "# $$Md = \\frac{X_{Elemento_{Md}} + X_{Elemento_{Md}+1}}2$$\r\n",
        "***"
      ]
    },
    {
      "cell_type": "markdown",
      "metadata": {
        "id": "F7Imbwr7ZYhx"
      },
      "source": [
        "### Exemplo 1 - n ímpar\r\n",
        "\r\n",
        "<img src='https://caelum-online-public.s3.amazonaws.com/1177-estatistica-parte1/01/img002.png' width='40%' style=\"float:left\">"
      ]
    },
    {
      "cell_type": "markdown",
      "metadata": {
        "id": "eO7WDIfTZbNK"
      },
      "source": [
        "### Exemplo 2 - n par\r\n",
        "\r\n",
        "<img src='https://caelum-online-public.s3.amazonaws.com/1177-estatistica-parte1/01/img003.png' width='50%' style=\"float:left\">"
      ]
    },
    {
      "cell_type": "code",
      "metadata": {
        "colab": {
          "base_uri": "https://localhost:8080/"
        },
        "id": "RYWtkugSZc9J",
        "outputId": "6d5b8435-ffad-4b82-cb29-5d78700ab42d"
      },
      "source": [
        "mediana = dados[\"IMC\"].median()\r\n",
        "print(mediana)"
      ],
      "execution_count": 5,
      "outputs": [
        {
          "output_type": "stream",
          "text": [
            "20.190504330368643\n"
          ],
          "name": "stdout"
        }
      ]
    },
    {
      "cell_type": "markdown",
      "metadata": {
        "id": "IkH-3k4FaPQP"
      },
      "source": [
        "## <font color=green>3 Moda</font>\r\n",
        "***\r\n",
        "\r\n",
        "Pode-se definir a moda como sendo o valor mais frequente de um conjunto de dados. \r\n",
        "\r\n",
        "*A moda é bastante utilizada para dados qualitativos."
      ]
    },
    {
      "cell_type": "code",
      "metadata": {
        "colab": {
          "base_uri": "https://localhost:8080/"
        },
        "id": "EpXdNjXwaT6g",
        "outputId": "623a2fbd-4005-436b-bd0a-d712276cd6f4"
      },
      "source": [
        "moda = dados[\"IMC\"].mode()\r\n",
        "print(moda)\r\n",
        "\r\n",
        "#Neste caso a moda é multimodal (várias modas)."
      ],
      "execution_count": 6,
      "outputs": [
        {
          "output_type": "stream",
          "text": [
            "0     16.155478\n",
            "1     16.718248\n",
            "2     17.312886\n",
            "3     18.543714\n",
            "4     18.556681\n",
            "5     18.602766\n",
            "6     19.021555\n",
            "7     19.169550\n",
            "8     19.297399\n",
            "9     19.707910\n",
            "10    21.082813\n",
            "dtype: float64\n"
          ],
          "name": "stdout"
        }
      ]
    },
    {
      "cell_type": "markdown",
      "metadata": {
        "id": "dtvoxomXaZUk"
      },
      "source": [
        "## <font color=green>3.4 Relação entre média, mediana e moda</font>\r\n",
        "***"
      ]
    },
    {
      "cell_type": "markdown",
      "metadata": {
        "id": "j6nEYAagadxK"
      },
      "source": [
        "<img src='https://caelum-online-public.s3.amazonaws.com/1177-estatistica-parte1/01/img004.png' width='80%'>"
      ]
    },
    {
      "cell_type": "code",
      "metadata": {
        "colab": {
          "base_uri": "https://localhost:8080/",
          "height": 404
        },
        "id": "e4zo0_nrbw9X",
        "outputId": "6864db66-f534-42ab-c5c0-cfad47dd5629"
      },
      "source": [
        "import seaborn as sns\r\n",
        "\r\n",
        "ax = sns.histplot(x = \"IMC\", data = dados, kde = True)\r\n",
        "ax.figure.set_size_inches(12, 6)\r\n",
        "ax.axvline(dados.IMC.mean(), color = 'r', linestyle = '--')\r\n",
        "ax.axvline(dados.IMC.median(), color ='g', linestyle = '-') \r\n",
        "\r\n",
        "ax.set_title(\"Distribuição de frequência\")\r\n",
        "ax.set_xlabel(\"Altura\")\r\n",
        "ax;\r\n",
        "\r\n",
        "#É possível ver a média em vermelho e a mediana em verde"
      ],
      "execution_count": 8,
      "outputs": [
        {
          "output_type": "display_data",
          "data": {
            "image/png": "[encoded data removed]",
            "text/plain": [
              "<Figure size 864x432 with 1 Axes>"
            ]
          },
          "metadata": {
            "tags": [],
            "needs_background": "light"
          }
        }
      ]
    },
    {
      "cell_type": "code",
      "metadata": {
        "id": "d-rOCS0okTEZ"
      },
      "source": [
        "#Também é possível perceber a assimetria através do boxplot\r\n",
        "\r\n",
        "ax = sns.boxplot(x = \"IMC\", data = dados)\r\n",
        "ax.figure.set_size_inches(12, 6)\r\n",
        "ax.set_title(\"Boxplot IMC\")\r\n",
        "ax.set_xlabel(\"IMC\")\r\n",
        "ax;"
      ],
      "execution_count": null,
      "outputs": []
    },
    {
      "cell_type": "markdown",
      "metadata": {
        "id": "SbyhkPNroi1D"
      },
      "source": [
        "<img src='https://caelum-online-public.s3.amazonaws.com/1177-estatistica-parte1/01/img006.png' width='80%'>"
      ]
    },
    {
      "cell_type": "markdown",
      "metadata": {
        "id": "ovXbtqzIl5DZ"
      },
      "source": [
        "# Distribuição Normal"
      ]
    },
    {
      "cell_type": "markdown",
      "metadata": {
        "id": "_pAIVaylmX-S"
      },
      "source": [
        "A distribuição normal é uma das mais utilizadas em estatística. É uma distribuição contínua, onde a distribuição de frequências de uma variável quantitativa apresenta a forma de sino e é simétrica em relação a sua média.\r\n",
        "\r\n",
        "![Normal](https://caelum-online-public.s3.amazonaws.com/1178-estatistica-parte2/01/img001.png)\r\n",
        "\r\n",
        "\r\n",
        "## Carcterísticas importantes\r\n",
        "\r\n",
        "1. É simétrica em torno da média;\r\n",
        "\r\n",
        "2. A área sob a curva corresponde à proporção 1 ou 100%;\r\n",
        "\r\n",
        "3. As medidas de tendência central (média, mediana e moda) apresentam o mesmo valor;\r\n",
        "\r\n",
        "4. Os extremos da curva tendem ao infinito em ambas as direções e, teoricamente, jamais tocam o eixo $x$;\r\n",
        "\r\n",
        "5. O desvio padrão define o achatamento e largura da distribuição. Curvas mais largas e mais achatadas apresentam valores maiores de desvio padrão;\r\n",
        "\r\n",
        "6. A distribuição é definida por sua média e desvio padrão;\r\n",
        "\r\n",
        "7. A probabilidade sempre será igual à área sob a curva, delimitada pelos limites inferior e superior."
      ]
    },
    {
      "cell_type": "markdown",
      "metadata": {
        "id": "W8cpM04FmcD5"
      },
      "source": [
        "## $$f(x) = \\frac{1}{\\sqrt{2\\pi\\sigma}}e^{-\\frac{1}{2}\\left(\\frac{x-\\mu}{\\sigma}\\right)^2}$$\r\n",
        "\r\n",
        "Onde:\r\n",
        "\r\n",
        "$x$ = variável normal\r\n",
        "\r\n",
        "$\\sigma$ = desvio padrão\r\n",
        "\r\n",
        "$\\mu$ = média"
      ]
    },
    {
      "cell_type": "markdown",
      "metadata": {
        "id": "I0isBgmUme6X"
      },
      "source": [
        "A probabilidade é obtida a partir da área sob a curva, delimitada pelos limites inferior e superior especificados. Um exemplo pode ser visto na figura abaixo.\r\n",
        "\r\n",
        "Por exemplo, a probabilidade de se escolher uma pessoa entre 1,60m e 1,80m é a área sob a curva.\r\n",
        "\r\n",
        "\r\n",
        "![alt text](https://caelum-online-public.s3.amazonaws.com/1178-estatistica-parte2/01/img002.png)\r\n"
      ]
    },
    {
      "cell_type": "markdown",
      "metadata": {
        "id": "xv-vJSsgmgf9"
      },
      "source": [
        "Para obter a área acima basta calcular a integral da função para os intervalos determinados. Conforme equação abaixo:\r\n",
        "\r\n",
        "\r\n",
        "## $$P(L_i<x<L_s) = \\int_{L_i}^{L_s}\\frac{1}{\\sqrt{2\\pi\\sigma}}e^{-\\frac{1}{2}\\left(\\frac{x-\\mu}{\\sigma}\\right)^2}$$\r\n",
        "\r\n",
        "Onde:\r\n",
        "\r\n",
        "$x$ = variável normal\r\n",
        "\r\n",
        "$\\sigma$ = desvio padrão\r\n",
        "\r\n",
        "$\\mu$ = média\r\n",
        "\r\n",
        "$L_i$ = limite inferior\r\n",
        "\r\n",
        "$L_s$ = limite superior\r\n",
        "\r\n"
      ]
    },
    {
      "cell_type": "markdown",
      "metadata": {
        "id": "YEeQ2m0AmiDg"
      },
      "source": [
        "## Tabelas padronizadas\r\n",
        "\r\n",
        "As tabelas padronizadas foram criadas para facilitar a obtenção dos valores das áreas sob a curva normal e eliminar a necessidade de solucionar integrais definidas.\r\n",
        "\r\n",
        "Para consultarmos os valores em uma tabela padronizada basta transformarmos nossa variável em uma variável padronizada $Z$.\r\n",
        "\r\n",
        "Esta variável $Z$ representa o afastamento em desvios padrões de um valor da variável original em relação à média.\r\n",
        "\r\n",
        "# $$Z = \\frac{x-\\mu}{\\sigma}$$\r\n",
        "\r\n",
        "Onde:\r\n",
        "\r\n",
        "$x$ = variável normal com média $\\mu$ e desvio padrão $\\sigma$\r\n",
        "\r\n",
        "$\\sigma$ = desvio padrão\r\n",
        "\r\n",
        "$\\mu$ = média"
      ]
    },
    {
      "cell_type": "markdown",
      "metadata": {
        "id": "JKRRfwZGmjbk"
      },
      "source": [
        "Exemplo:\r\n",
        "\r\n",
        "Em um estudo sobre as alturas dos moradores de uma cidade verificou-se que o conjunto de dados segue uma **distribuição aproximadamente normal**, com **média 1,70** e **desvio padrão de 0,1**. Com estas informações obtenha o seguinte conjunto de probabilidades:\r\n",
        "\r\n",
        "> **A.** probabilidade de uma pessoa, selecionada ao acaso, ter menos de 1,80 metros.\r\n",
        "\r\n",
        "> **B.** probabilidade de uma pessoa, selecionada ao acaso, ter entre 1,60 metros e 1,80 metros.    \r\n",
        "\r\n",
        "> **C.** probabilidade de uma pessoa, selecionada ao acaso, ter mais de 1,90 metros."
      ]
    },
    {
      "cell_type": "markdown",
      "metadata": {
        "id": "PeEtDZYMmlhk"
      },
      "source": [
        "### Problema A - Identificação da área sob a curva"
      ]
    },
    {
      "cell_type": "markdown",
      "metadata": {
        "id": "4cEPIr9Tmmrz"
      },
      "source": [
        "<img style='float: left' src='https://caelum-online-public.s3.amazonaws.com/1178-estatistica-parte2/01/img004.png' width='350px'>\r\n",
        "\r\n",
        "Note que até 1,70m a probabilidade é de 50%, pois a curva é simétrica"
      ]
    },
    {
      "cell_type": "markdown",
      "metadata": {
        "id": "gVtPAUWkpCjQ"
      },
      "source": [
        "#### Solução 1"
      ]
    },
    {
      "cell_type": "code",
      "metadata": {
        "id": "lPWCQj0FpDQZ",
        "colab": {
          "base_uri": "https://localhost:8080/",
          "height": 1000
        },
        "outputId": "67a10e09-9de8-4e99-dff1-bdbe75d6d9b2"
      },
      "source": [
        "#Criando a tabela padronizada utilizando o scypy\r\n",
        "#Essa tabela geralmente é encontrada em livros de estatística\r\n",
        "\r\n",
        "import pandas as pd\r\n",
        "import numpy as np\r\n",
        "from scipy.stats import norm\r\n",
        "\r\n",
        "tabela_normal_padronizada = pd.DataFrame(\r\n",
        "    [], \r\n",
        "    index=[\"{0:0.2f}\".format(i / 100) for i in range(0, 400, 10)],\r\n",
        "    columns = [\"{0:0.2f}\".format(i / 100) for i in range(0, 10)])\r\n",
        "\r\n",
        "for index in tabela_normal_padronizada.index:\r\n",
        "    for column in tabela_normal_padronizada.columns:\r\n",
        "        Z = np.round(float(index) + float(column), 2)\r\n",
        "        tabela_normal_padronizada.loc[index, column] = \"{0:0.4f}\".format(norm.cdf(Z))\r\n",
        "\r\n",
        "tabela_normal_padronizada.rename_axis('Z', axis = 'columns', inplace = True)\r\n",
        "\r\n",
        "tabela_normal_padronizada"
      ],
      "execution_count": 9,
      "outputs": [
        {
          "output_type": "execute_result",
          "data": {
            "text/html": [
              "<div>\n",
              "<style scoped>\n",
              "    .dataframe tbody tr th:only-of-type {\n",
              "        vertical-align: middle;\n",
              "    }\n",
              "\n",
              "    .dataframe tbody tr th {\n",
              "        vertical-align: top;\n",
              "    }\n",
              "\n",
              "    .dataframe thead th {\n",
              "        text-align: right;\n",
              "    }\n",
              "</style>\n",
              "<table border=\"1\" class=\"dataframe\">\n",
              "  <thead>\n",
              "    <tr style=\"text-align: right;\">\n",
              "      <th>Z</th>\n",
              "      <th>0.00</th>\n",
              "      <th>0.01</th>\n",
              "      <th>0.02</th>\n",
              "      <th>0.03</th>\n",
              "      <th>0.04</th>\n",
              "      <th>0.05</th>\n",
              "      <th>0.06</th>\n",
              "      <th>0.07</th>\n",
              "      <th>0.08</th>\n",
              "      <th>0.09</th>\n",
              "    </tr>\n",
              "  </thead>\n",
              "  <tbody>\n",
              "    <tr>\n",
              "      <th>0.00</th>\n",
              "      <td>0.5000</td>\n",
              "      <td>0.5040</td>\n",
              "      <td>0.5080</td>\n",
              "      <td>0.5120</td>\n",
              "      <td>0.5160</td>\n",
              "      <td>0.5199</td>\n",
              "      <td>0.5239</td>\n",
              "      <td>0.5279</td>\n",
              "      <td>0.5319</td>\n",
              "      <td>0.5359</td>\n",
              "    </tr>\n",
              "    <tr>\n",
              "      <th>0.10</th>\n",
              "      <td>0.5398</td>\n",
              "      <td>0.5438</td>\n",
              "      <td>0.5478</td>\n",
              "      <td>0.5517</td>\n",
              "      <td>0.5557</td>\n",
              "      <td>0.5596</td>\n",
              "      <td>0.5636</td>\n",
              "      <td>0.5675</td>\n",
              "      <td>0.5714</td>\n",
              "      <td>0.5753</td>\n",
              "    </tr>\n",
              "    <tr>\n",
              "      <th>0.20</th>\n",
              "      <td>0.5793</td>\n",
              "      <td>0.5832</td>\n",
              "      <td>0.5871</td>\n",
              "      <td>0.5910</td>\n",
              "      <td>0.5948</td>\n",
              "      <td>0.5987</td>\n",
              "      <td>0.6026</td>\n",
              "      <td>0.6064</td>\n",
              "      <td>0.6103</td>\n",
              "      <td>0.6141</td>\n",
              "    </tr>\n",
              "    <tr>\n",
              "      <th>0.30</th>\n",
              "      <td>0.6179</td>\n",
              "      <td>0.6217</td>\n",
              "      <td>0.6255</td>\n",
              "      <td>0.6293</td>\n",
              "      <td>0.6331</td>\n",
              "      <td>0.6368</td>\n",
              "      <td>0.6406</td>\n",
              "      <td>0.6443</td>\n",
              "      <td>0.6480</td>\n",
              "      <td>0.6517</td>\n",
              "    </tr>\n",
              "    <tr>\n",
              "      <th>0.40</th>\n",
              "      <td>0.6554</td>\n",
              "      <td>0.6591</td>\n",
              "      <td>0.6628</td>\n",
              "      <td>0.6664</td>\n",
              "      <td>0.6700</td>\n",
              "      <td>0.6736</td>\n",
              "      <td>0.6772</td>\n",
              "      <td>0.6808</td>\n",
              "      <td>0.6844</td>\n",
              "      <td>0.6879</td>\n",
              "    </tr>\n",
              "    <tr>\n",
              "      <th>0.50</th>\n",
              "      <td>0.6915</td>\n",
              "      <td>0.6950</td>\n",
              "      <td>0.6985</td>\n",
              "      <td>0.7019</td>\n",
              "      <td>0.7054</td>\n",
              "      <td>0.7088</td>\n",
              "      <td>0.7123</td>\n",
              "      <td>0.7157</td>\n",
              "      <td>0.7190</td>\n",
              "      <td>0.7224</td>\n",
              "    </tr>\n",
              "    <tr>\n",
              "      <th>0.60</th>\n",
              "      <td>0.7257</td>\n",
              "      <td>0.7291</td>\n",
              "      <td>0.7324</td>\n",
              "      <td>0.7357</td>\n",
              "      <td>0.7389</td>\n",
              "      <td>0.7422</td>\n",
              "      <td>0.7454</td>\n",
              "      <td>0.7486</td>\n",
              "      <td>0.7517</td>\n",
              "      <td>0.7549</td>\n",
              "    </tr>\n",
              "    <tr>\n",
              "      <th>0.70</th>\n",
              "      <td>0.7580</td>\n",
              "      <td>0.7611</td>\n",
              "      <td>0.7642</td>\n",
              "      <td>0.7673</td>\n",
              "      <td>0.7704</td>\n",
              "      <td>0.7734</td>\n",
              "      <td>0.7764</td>\n",
              "      <td>0.7794</td>\n",
              "      <td>0.7823</td>\n",
              "      <td>0.7852</td>\n",
              "    </tr>\n",
              "    <tr>\n",
              "      <th>0.80</th>\n",
              "      <td>0.7881</td>\n",
              "      <td>0.7910</td>\n",
              "      <td>0.7939</td>\n",
              "      <td>0.7967</td>\n",
              "      <td>0.7995</td>\n",
              "      <td>0.8023</td>\n",
              "      <td>0.8051</td>\n",
              "      <td>0.8078</td>\n",
              "      <td>0.8106</td>\n",
              "      <td>0.8133</td>\n",
              "    </tr>\n",
              "    <tr>\n",
              "      <th>0.90</th>\n",
              "      <td>0.8159</td>\n",
              "      <td>0.8186</td>\n",
              "      <td>0.8212</td>\n",
              "      <td>0.8238</td>\n",
              "      <td>0.8264</td>\n",
              "      <td>0.8289</td>\n",
              "      <td>0.8315</td>\n",
              "      <td>0.8340</td>\n",
              "      <td>0.8365</td>\n",
              "      <td>0.8389</td>\n",
              "    </tr>\n",
              "    <tr>\n",
              "      <th>1.00</th>\n",
              "      <td>0.8413</td>\n",
              "      <td>0.8438</td>\n",
              "      <td>0.8461</td>\n",
              "      <td>0.8485</td>\n",
              "      <td>0.8508</td>\n",
              "      <td>0.8531</td>\n",
              "      <td>0.8554</td>\n",
              "      <td>0.8577</td>\n",
              "      <td>0.8599</td>\n",
              "      <td>0.8621</td>\n",
              "    </tr>\n",
              "    <tr>\n",
              "      <th>1.10</th>\n",
              "      <td>0.8643</td>\n",
              "      <td>0.8665</td>\n",
              "      <td>0.8686</td>\n",
              "      <td>0.8708</td>\n",
              "      <td>0.8729</td>\n",
              "      <td>0.8749</td>\n",
              "      <td>0.8770</td>\n",
              "      <td>0.8790</td>\n",
              "      <td>0.8810</td>\n",
              "      <td>0.8830</td>\n",
              "    </tr>\n",
              "    <tr>\n",
              "      <th>1.20</th>\n",
              "      <td>0.8849</td>\n",
              "      <td>0.8869</td>\n",
              "      <td>0.8888</td>\n",
              "      <td>0.8907</td>\n",
              "      <td>0.8925</td>\n",
              "      <td>0.8944</td>\n",
              "      <td>0.8962</td>\n",
              "      <td>0.8980</td>\n",
              "      <td>0.8997</td>\n",
              "      <td>0.9015</td>\n",
              "    </tr>\n",
              "    <tr>\n",
              "      <th>1.30</th>\n",
              "      <td>0.9032</td>\n",
              "      <td>0.9049</td>\n",
              "      <td>0.9066</td>\n",
              "      <td>0.9082</td>\n",
              "      <td>0.9099</td>\n",
              "      <td>0.9115</td>\n",
              "      <td>0.9131</td>\n",
              "      <td>0.9147</td>\n",
              "      <td>0.9162</td>\n",
              "      <td>0.9177</td>\n",
              "    </tr>\n",
              "    <tr>\n",
              "      <th>1.40</th>\n",
              "      <td>0.9192</td>\n",
              "      <td>0.9207</td>\n",
              "      <td>0.9222</td>\n",
              "      <td>0.9236</td>\n",
              "      <td>0.9251</td>\n",
              "      <td>0.9265</td>\n",
              "      <td>0.9279</td>\n",
              "      <td>0.9292</td>\n",
              "      <td>0.9306</td>\n",
              "      <td>0.9319</td>\n",
              "    </tr>\n",
              "    <tr>\n",
              "      <th>1.50</th>\n",
              "      <td>0.9332</td>\n",
              "      <td>0.9345</td>\n",
              "      <td>0.9357</td>\n",
              "      <td>0.9370</td>\n",
              "      <td>0.9382</td>\n",
              "      <td>0.9394</td>\n",
              "      <td>0.9406</td>\n",
              "      <td>0.9418</td>\n",
              "      <td>0.9429</td>\n",
              "      <td>0.9441</td>\n",
              "    </tr>\n",
              "    <tr>\n",
              "      <th>1.60</th>\n",
              "      <td>0.9452</td>\n",
              "      <td>0.9463</td>\n",
              "      <td>0.9474</td>\n",
              "      <td>0.9484</td>\n",
              "      <td>0.9495</td>\n",
              "      <td>0.9505</td>\n",
              "      <td>0.9515</td>\n",
              "      <td>0.9525</td>\n",
              "      <td>0.9535</td>\n",
              "      <td>0.9545</td>\n",
              "    </tr>\n",
              "    <tr>\n",
              "      <th>1.70</th>\n",
              "      <td>0.9554</td>\n",
              "      <td>0.9564</td>\n",
              "      <td>0.9573</td>\n",
              "      <td>0.9582</td>\n",
              "      <td>0.9591</td>\n",
              "      <td>0.9599</td>\n",
              "      <td>0.9608</td>\n",
              "      <td>0.9616</td>\n",
              "      <td>0.9625</td>\n",
              "      <td>0.9633</td>\n",
              "    </tr>\n",
              "    <tr>\n",
              "      <th>1.80</th>\n",
              "      <td>0.9641</td>\n",
              "      <td>0.9649</td>\n",
              "      <td>0.9656</td>\n",
              "      <td>0.9664</td>\n",
              "      <td>0.9671</td>\n",
              "      <td>0.9678</td>\n",
              "      <td>0.9686</td>\n",
              "      <td>0.9693</td>\n",
              "      <td>0.9699</td>\n",
              "      <td>0.9706</td>\n",
              "    </tr>\n",
              "    <tr>\n",
              "      <th>1.90</th>\n",
              "      <td>0.9713</td>\n",
              "      <td>0.9719</td>\n",
              "      <td>0.9726</td>\n",
              "      <td>0.9732</td>\n",
              "      <td>0.9738</td>\n",
              "      <td>0.9744</td>\n",
              "      <td>0.9750</td>\n",
              "      <td>0.9756</td>\n",
              "      <td>0.9761</td>\n",
              "      <td>0.9767</td>\n",
              "    </tr>\n",
              "    <tr>\n",
              "      <th>2.00</th>\n",
              "      <td>0.9772</td>\n",
              "      <td>0.9778</td>\n",
              "      <td>0.9783</td>\n",
              "      <td>0.9788</td>\n",
              "      <td>0.9793</td>\n",
              "      <td>0.9798</td>\n",
              "      <td>0.9803</td>\n",
              "      <td>0.9808</td>\n",
              "      <td>0.9812</td>\n",
              "      <td>0.9817</td>\n",
              "    </tr>\n",
              "    <tr>\n",
              "      <th>2.10</th>\n",
              "      <td>0.9821</td>\n",
              "      <td>0.9826</td>\n",
              "      <td>0.9830</td>\n",
              "      <td>0.9834</td>\n",
              "      <td>0.9838</td>\n",
              "      <td>0.9842</td>\n",
              "      <td>0.9846</td>\n",
              "      <td>0.9850</td>\n",
              "      <td>0.9854</td>\n",
              "      <td>0.9857</td>\n",
              "    </tr>\n",
              "    <tr>\n",
              "      <th>2.20</th>\n",
              "      <td>0.9861</td>\n",
              "      <td>0.9864</td>\n",
              "      <td>0.9868</td>\n",
              "      <td>0.9871</td>\n",
              "      <td>0.9875</td>\n",
              "      <td>0.9878</td>\n",
              "      <td>0.9881</td>\n",
              "      <td>0.9884</td>\n",
              "      <td>0.9887</td>\n",
              "      <td>0.9890</td>\n",
              "    </tr>\n",
              "    <tr>\n",
              "      <th>2.30</th>\n",
              "      <td>0.9893</td>\n",
              "      <td>0.9896</td>\n",
              "      <td>0.9898</td>\n",
              "      <td>0.9901</td>\n",
              "      <td>0.9904</td>\n",
              "      <td>0.9906</td>\n",
              "      <td>0.9909</td>\n",
              "      <td>0.9911</td>\n",
              "      <td>0.9913</td>\n",
              "      <td>0.9916</td>\n",
              "    </tr>\n",
              "    <tr>\n",
              "      <th>2.40</th>\n",
              "      <td>0.9918</td>\n",
              "      <td>0.9920</td>\n",
              "      <td>0.9922</td>\n",
              "      <td>0.9925</td>\n",
              "      <td>0.9927</td>\n",
              "      <td>0.9929</td>\n",
              "      <td>0.9931</td>\n",
              "      <td>0.9932</td>\n",
              "      <td>0.9934</td>\n",
              "      <td>0.9936</td>\n",
              "    </tr>\n",
              "    <tr>\n",
              "      <th>2.50</th>\n",
              "      <td>0.9938</td>\n",
              "      <td>0.9940</td>\n",
              "      <td>0.9941</td>\n",
              "      <td>0.9943</td>\n",
              "      <td>0.9945</td>\n",
              "      <td>0.9946</td>\n",
              "      <td>0.9948</td>\n",
              "      <td>0.9949</td>\n",
              "      <td>0.9951</td>\n",
              "      <td>0.9952</td>\n",
              "    </tr>\n",
              "    <tr>\n",
              "      <th>2.60</th>\n",
              "      <td>0.9953</td>\n",
              "      <td>0.9955</td>\n",
              "      <td>0.9956</td>\n",
              "      <td>0.9957</td>\n",
              "      <td>0.9959</td>\n",
              "      <td>0.9960</td>\n",
              "      <td>0.9961</td>\n",
              "      <td>0.9962</td>\n",
              "      <td>0.9963</td>\n",
              "      <td>0.9964</td>\n",
              "    </tr>\n",
              "    <tr>\n",
              "      <th>2.70</th>\n",
              "      <td>0.9965</td>\n",
              "      <td>0.9966</td>\n",
              "      <td>0.9967</td>\n",
              "      <td>0.9968</td>\n",
              "      <td>0.9969</td>\n",
              "      <td>0.9970</td>\n",
              "      <td>0.9971</td>\n",
              "      <td>0.9972</td>\n",
              "      <td>0.9973</td>\n",
              "      <td>0.9974</td>\n",
              "    </tr>\n",
              "    <tr>\n",
              "      <th>2.80</th>\n",
              "      <td>0.9974</td>\n",
              "      <td>0.9975</td>\n",
              "      <td>0.9976</td>\n",
              "      <td>0.9977</td>\n",
              "      <td>0.9977</td>\n",
              "      <td>0.9978</td>\n",
              "      <td>0.9979</td>\n",
              "      <td>0.9979</td>\n",
              "      <td>0.9980</td>\n",
              "      <td>0.9981</td>\n",
              "    </tr>\n",
              "    <tr>\n",
              "      <th>2.90</th>\n",
              "      <td>0.9981</td>\n",
              "      <td>0.9982</td>\n",
              "      <td>0.9982</td>\n",
              "      <td>0.9983</td>\n",
              "      <td>0.9984</td>\n",
              "      <td>0.9984</td>\n",
              "      <td>0.9985</td>\n",
              "      <td>0.9985</td>\n",
              "      <td>0.9986</td>\n",
              "      <td>0.9986</td>\n",
              "    </tr>\n",
              "    <tr>\n",
              "      <th>3.00</th>\n",
              "      <td>0.9987</td>\n",
              "      <td>0.9987</td>\n",
              "      <td>0.9987</td>\n",
              "      <td>0.9988</td>\n",
              "      <td>0.9988</td>\n",
              "      <td>0.9989</td>\n",
              "      <td>0.9989</td>\n",
              "      <td>0.9989</td>\n",
              "      <td>0.9990</td>\n",
              "      <td>0.9990</td>\n",
              "    </tr>\n",
              "    <tr>\n",
              "      <th>3.10</th>\n",
              "      <td>0.9990</td>\n",
              "      <td>0.9991</td>\n",
              "      <td>0.9991</td>\n",
              "      <td>0.9991</td>\n",
              "      <td>0.9992</td>\n",
              "      <td>0.9992</td>\n",
              "      <td>0.9992</td>\n",
              "      <td>0.9992</td>\n",
              "      <td>0.9993</td>\n",
              "      <td>0.9993</td>\n",
              "    </tr>\n",
              "    <tr>\n",
              "      <th>3.20</th>\n",
              "      <td>0.9993</td>\n",
              "      <td>0.9993</td>\n",
              "      <td>0.9994</td>\n",
              "      <td>0.9994</td>\n",
              "      <td>0.9994</td>\n",
              "      <td>0.9994</td>\n",
              "      <td>0.9994</td>\n",
              "      <td>0.9995</td>\n",
              "      <td>0.9995</td>\n",
              "      <td>0.9995</td>\n",
              "    </tr>\n",
              "    <tr>\n",
              "      <th>3.30</th>\n",
              "      <td>0.9995</td>\n",
              "      <td>0.9995</td>\n",
              "      <td>0.9995</td>\n",
              "      <td>0.9996</td>\n",
              "      <td>0.9996</td>\n",
              "      <td>0.9996</td>\n",
              "      <td>0.9996</td>\n",
              "      <td>0.9996</td>\n",
              "      <td>0.9996</td>\n",
              "      <td>0.9997</td>\n",
              "    </tr>\n",
              "    <tr>\n",
              "      <th>3.40</th>\n",
              "      <td>0.9997</td>\n",
              "      <td>0.9997</td>\n",
              "      <td>0.9997</td>\n",
              "      <td>0.9997</td>\n",
              "      <td>0.9997</td>\n",
              "      <td>0.9997</td>\n",
              "      <td>0.9997</td>\n",
              "      <td>0.9997</td>\n",
              "      <td>0.9997</td>\n",
              "      <td>0.9998</td>\n",
              "    </tr>\n",
              "    <tr>\n",
              "      <th>3.50</th>\n",
              "      <td>0.9998</td>\n",
              "      <td>0.9998</td>\n",
              "      <td>0.9998</td>\n",
              "      <td>0.9998</td>\n",
              "      <td>0.9998</td>\n",
              "      <td>0.9998</td>\n",
              "      <td>0.9998</td>\n",
              "      <td>0.9998</td>\n",
              "      <td>0.9998</td>\n",
              "      <td>0.9998</td>\n",
              "    </tr>\n",
              "    <tr>\n",
              "      <th>3.60</th>\n",
              "      <td>0.9998</td>\n",
              "      <td>0.9998</td>\n",
              "      <td>0.9999</td>\n",
              "      <td>0.9999</td>\n",
              "      <td>0.9999</td>\n",
              "      <td>0.9999</td>\n",
              "      <td>0.9999</td>\n",
              "      <td>0.9999</td>\n",
              "      <td>0.9999</td>\n",
              "      <td>0.9999</td>\n",
              "    </tr>\n",
              "    <tr>\n",
              "      <th>3.70</th>\n",
              "      <td>0.9999</td>\n",
              "      <td>0.9999</td>\n",
              "      <td>0.9999</td>\n",
              "      <td>0.9999</td>\n",
              "      <td>0.9999</td>\n",
              "      <td>0.9999</td>\n",
              "      <td>0.9999</td>\n",
              "      <td>0.9999</td>\n",
              "      <td>0.9999</td>\n",
              "      <td>0.9999</td>\n",
              "    </tr>\n",
              "    <tr>\n",
              "      <th>3.80</th>\n",
              "      <td>0.9999</td>\n",
              "      <td>0.9999</td>\n",
              "      <td>0.9999</td>\n",
              "      <td>0.9999</td>\n",
              "      <td>0.9999</td>\n",
              "      <td>0.9999</td>\n",
              "      <td>0.9999</td>\n",
              "      <td>0.9999</td>\n",
              "      <td>0.9999</td>\n",
              "      <td>0.9999</td>\n",
              "    </tr>\n",
              "    <tr>\n",
              "      <th>3.90</th>\n",
              "      <td>1.0000</td>\n",
              "      <td>1.0000</td>\n",
              "      <td>1.0000</td>\n",
              "      <td>1.0000</td>\n",
              "      <td>1.0000</td>\n",
              "      <td>1.0000</td>\n",
              "      <td>1.0000</td>\n",
              "      <td>1.0000</td>\n",
              "      <td>1.0000</td>\n",
              "      <td>1.0000</td>\n",
              "    </tr>\n",
              "  </tbody>\n",
              "</table>\n",
              "</div>"
            ],
            "text/plain": [
              "Z       0.00    0.01    0.02    0.03  ...    0.06    0.07    0.08    0.09\n",
              "0.00  0.5000  0.5040  0.5080  0.5120  ...  0.5239  0.5279  0.5319  0.5359\n",
              "0.10  0.5398  0.5438  0.5478  0.5517  ...  0.5636  0.5675  0.5714  0.5753\n",
              "0.20  0.5793  0.5832  0.5871  0.5910  ...  0.6026  0.6064  0.6103  0.6141\n",
              "0.30  0.6179  0.6217  0.6255  0.6293  ...  0.6406  0.6443  0.6480  0.6517\n",
              "0.40  0.6554  0.6591  0.6628  0.6664  ...  0.6772  0.6808  0.6844  0.6879\n",
              "0.50  0.6915  0.6950  0.6985  0.7019  ...  0.7123  0.7157  0.7190  0.7224\n",
              "0.60  0.7257  0.7291  0.7324  0.7357  ...  0.7454  0.7486  0.7517  0.7549\n",
              "0.70  0.7580  0.7611  0.7642  0.7673  ...  0.7764  0.7794  0.7823  0.7852\n",
              "0.80  0.7881  0.7910  0.7939  0.7967  ...  0.8051  0.8078  0.8106  0.8133\n",
              "0.90  0.8159  0.8186  0.8212  0.8238  ...  0.8315  0.8340  0.8365  0.8389\n",
              "1.00  0.8413  0.8438  0.8461  0.8485  ...  0.8554  0.8577  0.8599  0.8621\n",
              "1.10  0.8643  0.8665  0.8686  0.8708  ...  0.8770  0.8790  0.8810  0.8830\n",
              "1.20  0.8849  0.8869  0.8888  0.8907  ...  0.8962  0.8980  0.8997  0.9015\n",
              "1.30  0.9032  0.9049  0.9066  0.9082  ...  0.9131  0.9147  0.9162  0.9177\n",
              "1.40  0.9192  0.9207  0.9222  0.9236  ...  0.9279  0.9292  0.9306  0.9319\n",
              "1.50  0.9332  0.9345  0.9357  0.9370  ...  0.9406  0.9418  0.9429  0.9441\n",
              "1.60  0.9452  0.9463  0.9474  0.9484  ...  0.9515  0.9525  0.9535  0.9545\n",
              "1.70  0.9554  0.9564  0.9573  0.9582  ...  0.9608  0.9616  0.9625  0.9633\n",
              "1.80  0.9641  0.9649  0.9656  0.9664  ...  0.9686  0.9693  0.9699  0.9706\n",
              "1.90  0.9713  0.9719  0.9726  0.9732  ...  0.9750  0.9756  0.9761  0.9767\n",
              "2.00  0.9772  0.9778  0.9783  0.9788  ...  0.9803  0.9808  0.9812  0.9817\n",
              "2.10  0.9821  0.9826  0.9830  0.9834  ...  0.9846  0.9850  0.9854  0.9857\n",
              "2.20  0.9861  0.9864  0.9868  0.9871  ...  0.9881  0.9884  0.9887  0.9890\n",
              "2.30  0.9893  0.9896  0.9898  0.9901  ...  0.9909  0.9911  0.9913  0.9916\n",
              "2.40  0.9918  0.9920  0.9922  0.9925  ...  0.9931  0.9932  0.9934  0.9936\n",
              "2.50  0.9938  0.9940  0.9941  0.9943  ...  0.9948  0.9949  0.9951  0.9952\n",
              "2.60  0.9953  0.9955  0.9956  0.9957  ...  0.9961  0.9962  0.9963  0.9964\n",
              "2.70  0.9965  0.9966  0.9967  0.9968  ...  0.9971  0.9972  0.9973  0.9974\n",
              "2.80  0.9974  0.9975  0.9976  0.9977  ...  0.9979  0.9979  0.9980  0.9981\n",
              "2.90  0.9981  0.9982  0.9982  0.9983  ...  0.9985  0.9985  0.9986  0.9986\n",
              "3.00  0.9987  0.9987  0.9987  0.9988  ...  0.9989  0.9989  0.9990  0.9990\n",
              "3.10  0.9990  0.9991  0.9991  0.9991  ...  0.9992  0.9992  0.9993  0.9993\n",
              "3.20  0.9993  0.9993  0.9994  0.9994  ...  0.9994  0.9995  0.9995  0.9995\n",
              "3.30  0.9995  0.9995  0.9995  0.9996  ...  0.9996  0.9996  0.9996  0.9997\n",
              "3.40  0.9997  0.9997  0.9997  0.9997  ...  0.9997  0.9997  0.9997  0.9998\n",
              "3.50  0.9998  0.9998  0.9998  0.9998  ...  0.9998  0.9998  0.9998  0.9998\n",
              "3.60  0.9998  0.9998  0.9999  0.9999  ...  0.9999  0.9999  0.9999  0.9999\n",
              "3.70  0.9999  0.9999  0.9999  0.9999  ...  0.9999  0.9999  0.9999  0.9999\n",
              "3.80  0.9999  0.9999  0.9999  0.9999  ...  0.9999  0.9999  0.9999  0.9999\n",
              "3.90  1.0000  1.0000  1.0000  1.0000  ...  1.0000  1.0000  1.0000  1.0000\n",
              "\n",
              "[40 rows x 10 columns]"
            ]
          },
          "metadata": {
            "tags": []
          },
          "execution_count": 9
        }
      ]
    },
    {
      "cell_type": "code",
      "metadata": {
        "id": "rxzQuMmhpHbo",
        "colab": {
          "base_uri": "https://localhost:8080/"
        },
        "outputId": "e505f738-625b-4156-c99a-48f11039f907"
      },
      "source": [
        "media = 1.70\r\n",
        "desvio_padrao = 0.1\r\n",
        "x = 1.80\r\n",
        "z = (x - media)/ desvio_padrao\r\n",
        "print(z)\r\n",
        "print(\"probabilidade = 0.8413\")\r\n",
        "\r\n",
        "#Com o resultado de z = 1, procura-se na tabela por z = 01.00 e valor 0.00 para se obter o valor 0.8413;\r\n",
        "#Caso Z = 1.05 por exemplo, procura-se por 1.00 e depois por 0.05 ao lado, ou seja, 0.8531."
      ],
      "execution_count": 10,
      "outputs": [
        {
          "output_type": "stream",
          "text": [
            "1.0000000000000009\n",
            "probabilidade = 0.8413\n"
          ],
          "name": "stdout"
        }
      ]
    },
    {
      "cell_type": "markdown",
      "metadata": {
        "id": "j-7zNvlfpITC"
      },
      "source": [
        "#### Solução 2"
      ]
    },
    {
      "cell_type": "code",
      "metadata": {
        "id": "cEYVNfYapLBR",
        "colab": {
          "base_uri": "https://localhost:8080/"
        },
        "outputId": "7060809e-f343-41ed-820b-e71501f65b88"
      },
      "source": [
        "#Podemos passar o valor de z com a função .cdf()\r\n",
        "\r\n",
        "from scipy.stats import norm\r\n",
        "\r\n",
        "probabilidade = norm.cdf(z)\r\n",
        "print(probabilidade)"
      ],
      "execution_count": 12,
      "outputs": [
        {
          "output_type": "stream",
          "text": [
            "0.8413447460685431\n"
          ],
          "name": "stdout"
        }
      ]
    },
    {
      "cell_type": "markdown",
      "metadata": {
        "id": "YilGS9m015qY"
      },
      "source": [
        "# Teorema do Limite Central"
      ]
    },
    {
      "cell_type": "markdown",
      "metadata": {
        "id": "6IYVlgt22PkW"
      },
      "source": [
        "## O **Teorema do Limite Central** afirma que, com o aumento do tamanho da amostra, a distribuição das médias amostrais se aproxima de uma distribuição normal com média igual à média da população e desvio padrão igual ao desvio padrão da variável original dividido pela raiz quadrada do tamanho da amostra. Este fato é assegurado para $n$ maior ou igual a 30.\r\n",
        "\r\n",
        "\r\n",
        ".\r\n",
        "## $$\\sigma_\\bar{x} = \\frac{\\sigma}{\\sqrt{n}}$$\r\n",
        "​\r\n",
        "## O desvio padrão das médias amostrais é conhecido como **erro padrão da média**\r\n"
      ]
    },
    {
      "cell_type": "code",
      "metadata": {
        "id": "Hl9yEwIj21ju",
        "colab": {
          "base_uri": "https://localhost:8080/",
          "height": 244
        },
        "outputId": "3bf53848-d7e5-44a7-8881-e4961680e025"
      },
      "source": [
        "import pandas as pd\r\n",
        "from zipfile import ZipFile\r\n",
        "\r\n",
        "caminho = \"/content/drive/MyDrive/cursos/bootcampDSalura/dados modulo 3/PeNSE_2015_AMOSTRA2.zip\"\r\n",
        "zip = ZipFile(caminho)\r\n",
        "caminho_pasta_zipada = zip.namelist()[1]\r\n",
        "\r\n",
        "dados = pd.read_csv(zip.open(caminho_pasta_zipada), sep = \";\", thousands = \".\", decimal = \",\")\r\n",
        "dados.head()"
      ],
      "execution_count": 13,
      "outputs": [
        {
          "output_type": "execute_result",
          "data": {
            "text/html": [
              "<div>\n",
              "<style scoped>\n",
              "    .dataframe tbody tr th:only-of-type {\n",
              "        vertical-align: middle;\n",
              "    }\n",
              "\n",
              "    .dataframe tbody tr th {\n",
              "        vertical-align: top;\n",
              "    }\n",
              "\n",
              "    .dataframe thead th {\n",
              "        text-align: right;\n",
              "    }\n",
              "</style>\n",
              "<table border=\"1\" class=\"dataframe\">\n",
              "  <thead>\n",
              "    <tr style=\"text-align: right;\">\n",
              "      <th></th>\n",
              "      <th>ANOPESQ</th>\n",
              "      <th>PAIS</th>\n",
              "      <th>REGEOGR</th>\n",
              "      <th>VB00004</th>\n",
              "      <th>VB01001</th>\n",
              "      <th>VB01002</th>\n",
              "      <th>VB01003</th>\n",
              "      <th>VB01004</th>\n",
              "      <th>VB01005</th>\n",
              "      <th>VB01006</th>\n",
              "      <th>VB01007</th>\n",
              "      <th>VB01008A</th>\n",
              "      <th>VB01010A</th>\n",
              "      <th>VB01011</th>\n",
              "      <th>VB01012</th>\n",
              "      <th>VB01013</th>\n",
              "      <th>VB01014</th>\n",
              "      <th>VB01015A</th>\n",
              "      <th>VB01016</th>\n",
              "      <th>VB01017</th>\n",
              "      <th>VB01018</th>\n",
              "      <th>VB01019</th>\n",
              "      <th>VB01020A</th>\n",
              "      <th>VB01021</th>\n",
              "      <th>VB01022</th>\n",
              "      <th>VB01023</th>\n",
              "      <th>VB01024</th>\n",
              "      <th>VB01025</th>\n",
              "      <th>VB01026</th>\n",
              "      <th>VB02001</th>\n",
              "      <th>VB02002</th>\n",
              "      <th>VB02004A</th>\n",
              "      <th>VB02010</th>\n",
              "      <th>VB02011</th>\n",
              "      <th>VB02013</th>\n",
              "      <th>VB02017A</th>\n",
              "      <th>VB02018A</th>\n",
              "      <th>VB02019A</th>\n",
              "      <th>VB02020A</th>\n",
              "      <th>VB02021</th>\n",
              "      <th>...</th>\n",
              "      <th>VB11005</th>\n",
              "      <th>VB11006</th>\n",
              "      <th>VB11007</th>\n",
              "      <th>VB12001</th>\n",
              "      <th>VB12002</th>\n",
              "      <th>VB12003</th>\n",
              "      <th>VB13001</th>\n",
              "      <th>VB13002A</th>\n",
              "      <th>VB13004A</th>\n",
              "      <th>VB13005</th>\n",
              "      <th>VB13006</th>\n",
              "      <th>VB13007</th>\n",
              "      <th>VB13008</th>\n",
              "      <th>VB13009</th>\n",
              "      <th>VB14001</th>\n",
              "      <th>VB14002</th>\n",
              "      <th>VB16001A01</th>\n",
              "      <th>VB16001A02</th>\n",
              "      <th>VB16001A03</th>\n",
              "      <th>VB16001A04</th>\n",
              "      <th>VB16001A05</th>\n",
              "      <th>VB16001A06</th>\n",
              "      <th>VB16001A07</th>\n",
              "      <th>VB16001A08</th>\n",
              "      <th>VB17001</th>\n",
              "      <th>VB17002</th>\n",
              "      <th>VB17003</th>\n",
              "      <th>VB17004</th>\n",
              "      <th>VB17005</th>\n",
              "      <th>VB17006</th>\n",
              "      <th>ESTRATO_EXP</th>\n",
              "      <th>ESTRATOGEOREG</th>\n",
              "      <th>PESO</th>\n",
              "      <th>V0006</th>\n",
              "      <th>V0007</th>\n",
              "      <th>V0008</th>\n",
              "      <th>V0041</th>\n",
              "      <th>aluno</th>\n",
              "      <th>escola</th>\n",
              "      <th>turma</th>\n",
              "    </tr>\n",
              "  </thead>\n",
              "  <tbody>\n",
              "    <tr>\n",
              "      <th>0</th>\n",
              "      <td>2015</td>\n",
              "      <td>76</td>\n",
              "      <td>1</td>\n",
              "      <td>1</td>\n",
              "      <td>2</td>\n",
              "      <td>1</td>\n",
              "      <td>13</td>\n",
              "      <td>7</td>\n",
              "      <td>7</td>\n",
              "      <td>1</td>\n",
              "      <td>2</td>\n",
              "      <td>7</td>\n",
              "      <td>3</td>\n",
              "      <td>2</td>\n",
              "      <td>-1</td>\n",
              "      <td>1</td>\n",
              "      <td>1</td>\n",
              "      <td>1</td>\n",
              "      <td>1</td>\n",
              "      <td>1</td>\n",
              "      <td>2</td>\n",
              "      <td>4</td>\n",
              "      <td>2</td>\n",
              "      <td>4</td>\n",
              "      <td>1</td>\n",
              "      <td>2</td>\n",
              "      <td>2</td>\n",
              "      <td>5</td>\n",
              "      <td>1</td>\n",
              "      <td>8</td>\n",
              "      <td>3</td>\n",
              "      <td>4</td>\n",
              "      <td>3</td>\n",
              "      <td>6</td>\n",
              "      <td>6</td>\n",
              "      <td>1</td>\n",
              "      <td>6</td>\n",
              "      <td>1</td>\n",
              "      <td>-1</td>\n",
              "      <td>2</td>\n",
              "      <td>...</td>\n",
              "      <td>2</td>\n",
              "      <td>1</td>\n",
              "      <td>2</td>\n",
              "      <td>1</td>\n",
              "      <td>1</td>\n",
              "      <td>4</td>\n",
              "      <td>2</td>\n",
              "      <td>-1</td>\n",
              "      <td>3</td>\n",
              "      <td>1</td>\n",
              "      <td>1</td>\n",
              "      <td>-1</td>\n",
              "      <td>1</td>\n",
              "      <td>1</td>\n",
              "      <td>2</td>\n",
              "      <td>2</td>\n",
              "      <td>1</td>\n",
              "      <td>2</td>\n",
              "      <td>2</td>\n",
              "      <td>2</td>\n",
              "      <td>2</td>\n",
              "      <td>2</td>\n",
              "      <td>2</td>\n",
              "      <td>2</td>\n",
              "      <td>371.0</td>\n",
              "      <td>1570.0</td>\n",
              "      <td>37.1</td>\n",
              "      <td>157.0</td>\n",
              "      <td>2</td>\n",
              "      <td>1</td>\n",
              "      <td>1223</td>\n",
              "      <td>1</td>\n",
              "      <td>299.735235</td>\n",
              "      <td>1</td>\n",
              "      <td>2</td>\n",
              "      <td>4</td>\n",
              "      <td>1</td>\n",
              "      <td>1</td>\n",
              "      <td>1</td>\n",
              "      <td>296</td>\n",
              "    </tr>\n",
              "    <tr>\n",
              "      <th>1</th>\n",
              "      <td>2015</td>\n",
              "      <td>76</td>\n",
              "      <td>1</td>\n",
              "      <td>1</td>\n",
              "      <td>2</td>\n",
              "      <td>1</td>\n",
              "      <td>14</td>\n",
              "      <td>4</td>\n",
              "      <td>7</td>\n",
              "      <td>1</td>\n",
              "      <td>1</td>\n",
              "      <td>7</td>\n",
              "      <td>3</td>\n",
              "      <td>2</td>\n",
              "      <td>-1</td>\n",
              "      <td>1</td>\n",
              "      <td>1</td>\n",
              "      <td>1</td>\n",
              "      <td>1</td>\n",
              "      <td>1</td>\n",
              "      <td>2</td>\n",
              "      <td>2</td>\n",
              "      <td>2</td>\n",
              "      <td>4</td>\n",
              "      <td>1</td>\n",
              "      <td>2</td>\n",
              "      <td>2</td>\n",
              "      <td>5</td>\n",
              "      <td>3</td>\n",
              "      <td>8</td>\n",
              "      <td>2</td>\n",
              "      <td>1</td>\n",
              "      <td>8</td>\n",
              "      <td>8</td>\n",
              "      <td>6</td>\n",
              "      <td>1</td>\n",
              "      <td>1</td>\n",
              "      <td>5</td>\n",
              "      <td>-1</td>\n",
              "      <td>2</td>\n",
              "      <td>...</td>\n",
              "      <td>2</td>\n",
              "      <td>3</td>\n",
              "      <td>2</td>\n",
              "      <td>4</td>\n",
              "      <td>4</td>\n",
              "      <td>4</td>\n",
              "      <td>1</td>\n",
              "      <td>2</td>\n",
              "      <td>3</td>\n",
              "      <td>3</td>\n",
              "      <td>1</td>\n",
              "      <td>-1</td>\n",
              "      <td>1</td>\n",
              "      <td>1</td>\n",
              "      <td>2</td>\n",
              "      <td>2</td>\n",
              "      <td>2</td>\n",
              "      <td>2</td>\n",
              "      <td>2</td>\n",
              "      <td>1</td>\n",
              "      <td>2</td>\n",
              "      <td>2</td>\n",
              "      <td>2</td>\n",
              "      <td>2</td>\n",
              "      <td>502.0</td>\n",
              "      <td>1520.0</td>\n",
              "      <td>50.2</td>\n",
              "      <td>152.0</td>\n",
              "      <td>2</td>\n",
              "      <td>2</td>\n",
              "      <td>1223</td>\n",
              "      <td>1</td>\n",
              "      <td>355.170081</td>\n",
              "      <td>1</td>\n",
              "      <td>2</td>\n",
              "      <td>4</td>\n",
              "      <td>1</td>\n",
              "      <td>2</td>\n",
              "      <td>1</td>\n",
              "      <td>296</td>\n",
              "    </tr>\n",
              "    <tr>\n",
              "      <th>2</th>\n",
              "      <td>2015</td>\n",
              "      <td>76</td>\n",
              "      <td>1</td>\n",
              "      <td>1</td>\n",
              "      <td>1</td>\n",
              "      <td>4</td>\n",
              "      <td>13</td>\n",
              "      <td>6</td>\n",
              "      <td>7</td>\n",
              "      <td>1</td>\n",
              "      <td>1</td>\n",
              "      <td>5</td>\n",
              "      <td>5</td>\n",
              "      <td>2</td>\n",
              "      <td>-1</td>\n",
              "      <td>2</td>\n",
              "      <td>1</td>\n",
              "      <td>1</td>\n",
              "      <td>1</td>\n",
              "      <td>1</td>\n",
              "      <td>2</td>\n",
              "      <td>3</td>\n",
              "      <td>1</td>\n",
              "      <td>4</td>\n",
              "      <td>1</td>\n",
              "      <td>2</td>\n",
              "      <td>2</td>\n",
              "      <td>5</td>\n",
              "      <td>3</td>\n",
              "      <td>2</td>\n",
              "      <td>3</td>\n",
              "      <td>1</td>\n",
              "      <td>8</td>\n",
              "      <td>2</td>\n",
              "      <td>8</td>\n",
              "      <td>1</td>\n",
              "      <td>1</td>\n",
              "      <td>5</td>\n",
              "      <td>5</td>\n",
              "      <td>1</td>\n",
              "      <td>...</td>\n",
              "      <td>2</td>\n",
              "      <td>1</td>\n",
              "      <td>2</td>\n",
              "      <td>1</td>\n",
              "      <td>2</td>\n",
              "      <td>3</td>\n",
              "      <td>1</td>\n",
              "      <td>2</td>\n",
              "      <td>1</td>\n",
              "      <td>2</td>\n",
              "      <td>5</td>\n",
              "      <td>99</td>\n",
              "      <td>1</td>\n",
              "      <td>-1</td>\n",
              "      <td>2</td>\n",
              "      <td>2</td>\n",
              "      <td>1</td>\n",
              "      <td>1</td>\n",
              "      <td>1</td>\n",
              "      <td>1</td>\n",
              "      <td>1</td>\n",
              "      <td>1</td>\n",
              "      <td>1</td>\n",
              "      <td>1</td>\n",
              "      <td>482.0</td>\n",
              "      <td>1614.0</td>\n",
              "      <td>48.2</td>\n",
              "      <td>161.4</td>\n",
              "      <td>2</td>\n",
              "      <td>2</td>\n",
              "      <td>1223</td>\n",
              "      <td>1</td>\n",
              "      <td>299.735235</td>\n",
              "      <td>1</td>\n",
              "      <td>2</td>\n",
              "      <td>4</td>\n",
              "      <td>1</td>\n",
              "      <td>3</td>\n",
              "      <td>1</td>\n",
              "      <td>296</td>\n",
              "    </tr>\n",
              "    <tr>\n",
              "      <th>3</th>\n",
              "      <td>2015</td>\n",
              "      <td>76</td>\n",
              "      <td>1</td>\n",
              "      <td>1</td>\n",
              "      <td>1</td>\n",
              "      <td>1</td>\n",
              "      <td>14</td>\n",
              "      <td>6</td>\n",
              "      <td>7</td>\n",
              "      <td>1</td>\n",
              "      <td>1</td>\n",
              "      <td>7</td>\n",
              "      <td>4</td>\n",
              "      <td>2</td>\n",
              "      <td>-1</td>\n",
              "      <td>1</td>\n",
              "      <td>1</td>\n",
              "      <td>1</td>\n",
              "      <td>1</td>\n",
              "      <td>1</td>\n",
              "      <td>2</td>\n",
              "      <td>4</td>\n",
              "      <td>2</td>\n",
              "      <td>4</td>\n",
              "      <td>1</td>\n",
              "      <td>2</td>\n",
              "      <td>2</td>\n",
              "      <td>6</td>\n",
              "      <td>3</td>\n",
              "      <td>2</td>\n",
              "      <td>4</td>\n",
              "      <td>1</td>\n",
              "      <td>3</td>\n",
              "      <td>2</td>\n",
              "      <td>7</td>\n",
              "      <td>1</td>\n",
              "      <td>5</td>\n",
              "      <td>1</td>\n",
              "      <td>-1</td>\n",
              "      <td>2</td>\n",
              "      <td>...</td>\n",
              "      <td>2</td>\n",
              "      <td>1</td>\n",
              "      <td>2</td>\n",
              "      <td>2</td>\n",
              "      <td>2</td>\n",
              "      <td>4</td>\n",
              "      <td>1</td>\n",
              "      <td>10</td>\n",
              "      <td>3</td>\n",
              "      <td>1</td>\n",
              "      <td>2</td>\n",
              "      <td>-1</td>\n",
              "      <td>1</td>\n",
              "      <td>-1</td>\n",
              "      <td>2</td>\n",
              "      <td>2</td>\n",
              "      <td>1</td>\n",
              "      <td>2</td>\n",
              "      <td>2</td>\n",
              "      <td>2</td>\n",
              "      <td>1</td>\n",
              "      <td>2</td>\n",
              "      <td>2</td>\n",
              "      <td>2</td>\n",
              "      <td>694.0</td>\n",
              "      <td>1725.0</td>\n",
              "      <td>69.4</td>\n",
              "      <td>172.5</td>\n",
              "      <td>2</td>\n",
              "      <td>3</td>\n",
              "      <td>1223</td>\n",
              "      <td>1</td>\n",
              "      <td>355.170081</td>\n",
              "      <td>1</td>\n",
              "      <td>2</td>\n",
              "      <td>4</td>\n",
              "      <td>1</td>\n",
              "      <td>4</td>\n",
              "      <td>1</td>\n",
              "      <td>296</td>\n",
              "    </tr>\n",
              "    <tr>\n",
              "      <th>4</th>\n",
              "      <td>2015</td>\n",
              "      <td>76</td>\n",
              "      <td>1</td>\n",
              "      <td>1</td>\n",
              "      <td>1</td>\n",
              "      <td>1</td>\n",
              "      <td>13</td>\n",
              "      <td>9</td>\n",
              "      <td>7</td>\n",
              "      <td>1</td>\n",
              "      <td>2</td>\n",
              "      <td>5</td>\n",
              "      <td>4</td>\n",
              "      <td>2</td>\n",
              "      <td>-1</td>\n",
              "      <td>2</td>\n",
              "      <td>1</td>\n",
              "      <td>1</td>\n",
              "      <td>1</td>\n",
              "      <td>1</td>\n",
              "      <td>2</td>\n",
              "      <td>5</td>\n",
              "      <td>1</td>\n",
              "      <td>4</td>\n",
              "      <td>1</td>\n",
              "      <td>2</td>\n",
              "      <td>2</td>\n",
              "      <td>6</td>\n",
              "      <td>5</td>\n",
              "      <td>6</td>\n",
              "      <td>3</td>\n",
              "      <td>5</td>\n",
              "      <td>2</td>\n",
              "      <td>6</td>\n",
              "      <td>2</td>\n",
              "      <td>1</td>\n",
              "      <td>5</td>\n",
              "      <td>1</td>\n",
              "      <td>5</td>\n",
              "      <td>1</td>\n",
              "      <td>...</td>\n",
              "      <td>2</td>\n",
              "      <td>1</td>\n",
              "      <td>4</td>\n",
              "      <td>2</td>\n",
              "      <td>2</td>\n",
              "      <td>4</td>\n",
              "      <td>1</td>\n",
              "      <td>3</td>\n",
              "      <td>2</td>\n",
              "      <td>2</td>\n",
              "      <td>2</td>\n",
              "      <td>13</td>\n",
              "      <td>1</td>\n",
              "      <td>-1</td>\n",
              "      <td>1</td>\n",
              "      <td>2</td>\n",
              "      <td>1</td>\n",
              "      <td>1</td>\n",
              "      <td>1</td>\n",
              "      <td>1</td>\n",
              "      <td>1</td>\n",
              "      <td>1</td>\n",
              "      <td>1</td>\n",
              "      <td>1</td>\n",
              "      <td>789.0</td>\n",
              "      <td>1675.0</td>\n",
              "      <td>78.9</td>\n",
              "      <td>167.5</td>\n",
              "      <td>2</td>\n",
              "      <td>4</td>\n",
              "      <td>1223</td>\n",
              "      <td>1</td>\n",
              "      <td>299.735235</td>\n",
              "      <td>1</td>\n",
              "      <td>2</td>\n",
              "      <td>4</td>\n",
              "      <td>1</td>\n",
              "      <td>5</td>\n",
              "      <td>1</td>\n",
              "      <td>296</td>\n",
              "    </tr>\n",
              "  </tbody>\n",
              "</table>\n",
              "<p>5 rows × 181 columns</p>\n",
              "</div>"
            ],
            "text/plain": [
              "   ANOPESQ  PAIS  REGEOGR  VB00004  VB01001  ...  V0008  V0041  aluno  escola  turma\n",
              "0     2015    76        1        1        2  ...      4      1      1       1    296\n",
              "1     2015    76        1        1        2  ...      4      1      2       1    296\n",
              "2     2015    76        1        1        1  ...      4      1      3       1    296\n",
              "3     2015    76        1        1        1  ...      4      1      4       1    296\n",
              "4     2015    76        1        1        1  ...      4      1      5       1    296\n",
              "\n",
              "[5 rows x 181 columns]"
            ]
          },
          "metadata": {
            "tags": []
          },
          "execution_count": 13
        }
      ]
    },
    {
      "cell_type": "code",
      "metadata": {
        "id": "_e7RCOig2Up8",
        "colab": {
          "base_uri": "https://localhost:8080/"
        },
        "outputId": "5e448a7a-5239-434a-d245-afaa1d977148"
      },
      "source": [
        "dados[\"IMC\"] = dados[\"VB17003\"]/ ((dados[\"VB17004\"]/100)**2)\r\n",
        "dados[\"IMC\"]"
      ],
      "execution_count": 14,
      "outputs": [
        {
          "output_type": "execute_result",
          "data": {
            "text/plain": [
              "0        15.051321\n",
              "1        21.727839\n",
              "2        18.502907\n",
              "3        23.322831\n",
              "4        28.122076\n",
              "           ...    \n",
              "16551    20.113223\n",
              "16552    17.930782\n",
              "16553    23.968489\n",
              "16554    18.995343\n",
              "16555    23.303246\n",
              "Name: IMC, Length: 16556, dtype: float64"
            ]
          },
          "metadata": {
            "tags": []
          },
          "execution_count": 14
        }
      ]
    },
    {
      "cell_type": "code",
      "metadata": {
        "id": "N7a-yveg2Vka",
        "colab": {
          "base_uri": "https://localhost:8080/",
          "height": 422
        },
        "outputId": "854d4d67-bbae-4e12-b794-f896e683299f"
      },
      "source": [
        "#Criando 1500 amostras de 2000 elementos\r\n",
        "\r\n",
        "n = 2000\r\n",
        "total_de_amostras = 1500\r\n",
        "amostras = pd.DataFrame()\r\n",
        "for i in range(total_de_amostras):\r\n",
        "  _ = dados.IMC.sample(n)\r\n",
        "  _.index = range(0, len(_))\r\n",
        "  amostras['Amostra_' + str(i)] = _\r\n",
        "\r\n",
        "amostras"
      ],
      "execution_count": 15,
      "outputs": [
        {
          "output_type": "execute_result",
          "data": {
            "text/html": [
              "<div>\n",
              "<style scoped>\n",
              "    .dataframe tbody tr th:only-of-type {\n",
              "        vertical-align: middle;\n",
              "    }\n",
              "\n",
              "    .dataframe tbody tr th {\n",
              "        vertical-align: top;\n",
              "    }\n",
              "\n",
              "    .dataframe thead th {\n",
              "        text-align: right;\n",
              "    }\n",
              "</style>\n",
              "<table border=\"1\" class=\"dataframe\">\n",
              "  <thead>\n",
              "    <tr style=\"text-align: right;\">\n",
              "      <th></th>\n",
              "      <th>Amostra_0</th>\n",
              "      <th>Amostra_1</th>\n",
              "      <th>Amostra_2</th>\n",
              "      <th>Amostra_3</th>\n",
              "      <th>Amostra_4</th>\n",
              "      <th>Amostra_5</th>\n",
              "      <th>Amostra_6</th>\n",
              "      <th>Amostra_7</th>\n",
              "      <th>Amostra_8</th>\n",
              "      <th>Amostra_9</th>\n",
              "      <th>Amostra_10</th>\n",
              "      <th>Amostra_11</th>\n",
              "      <th>Amostra_12</th>\n",
              "      <th>Amostra_13</th>\n",
              "      <th>Amostra_14</th>\n",
              "      <th>Amostra_15</th>\n",
              "      <th>Amostra_16</th>\n",
              "      <th>Amostra_17</th>\n",
              "      <th>Amostra_18</th>\n",
              "      <th>Amostra_19</th>\n",
              "      <th>Amostra_20</th>\n",
              "      <th>Amostra_21</th>\n",
              "      <th>Amostra_22</th>\n",
              "      <th>Amostra_23</th>\n",
              "      <th>Amostra_24</th>\n",
              "      <th>Amostra_25</th>\n",
              "      <th>Amostra_26</th>\n",
              "      <th>Amostra_27</th>\n",
              "      <th>Amostra_28</th>\n",
              "      <th>Amostra_29</th>\n",
              "      <th>Amostra_30</th>\n",
              "      <th>Amostra_31</th>\n",
              "      <th>Amostra_32</th>\n",
              "      <th>Amostra_33</th>\n",
              "      <th>Amostra_34</th>\n",
              "      <th>Amostra_35</th>\n",
              "      <th>Amostra_36</th>\n",
              "      <th>Amostra_37</th>\n",
              "      <th>Amostra_38</th>\n",
              "      <th>Amostra_39</th>\n",
              "      <th>...</th>\n",
              "      <th>Amostra_1460</th>\n",
              "      <th>Amostra_1461</th>\n",
              "      <th>Amostra_1462</th>\n",
              "      <th>Amostra_1463</th>\n",
              "      <th>Amostra_1464</th>\n",
              "      <th>Amostra_1465</th>\n",
              "      <th>Amostra_1466</th>\n",
              "      <th>Amostra_1467</th>\n",
              "      <th>Amostra_1468</th>\n",
              "      <th>Amostra_1469</th>\n",
              "      <th>Amostra_1470</th>\n",
              "      <th>Amostra_1471</th>\n",
              "      <th>Amostra_1472</th>\n",
              "      <th>Amostra_1473</th>\n",
              "      <th>Amostra_1474</th>\n",
              "      <th>Amostra_1475</th>\n",
              "      <th>Amostra_1476</th>\n",
              "      <th>Amostra_1477</th>\n",
              "      <th>Amostra_1478</th>\n",
              "      <th>Amostra_1479</th>\n",
              "      <th>Amostra_1480</th>\n",
              "      <th>Amostra_1481</th>\n",
              "      <th>Amostra_1482</th>\n",
              "      <th>Amostra_1483</th>\n",
              "      <th>Amostra_1484</th>\n",
              "      <th>Amostra_1485</th>\n",
              "      <th>Amostra_1486</th>\n",
              "      <th>Amostra_1487</th>\n",
              "      <th>Amostra_1488</th>\n",
              "      <th>Amostra_1489</th>\n",
              "      <th>Amostra_1490</th>\n",
              "      <th>Amostra_1491</th>\n",
              "      <th>Amostra_1492</th>\n",
              "      <th>Amostra_1493</th>\n",
              "      <th>Amostra_1494</th>\n",
              "      <th>Amostra_1495</th>\n",
              "      <th>Amostra_1496</th>\n",
              "      <th>Amostra_1497</th>\n",
              "      <th>Amostra_1498</th>\n",
              "      <th>Amostra_1499</th>\n",
              "    </tr>\n",
              "  </thead>\n",
              "  <tbody>\n",
              "    <tr>\n",
              "      <th>0</th>\n",
              "      <td>21.345468</td>\n",
              "      <td>26.097659</td>\n",
              "      <td>19.650562</td>\n",
              "      <td>17.996314</td>\n",
              "      <td>35.562270</td>\n",
              "      <td>19.284021</td>\n",
              "      <td>22.191570</td>\n",
              "      <td>23.735308</td>\n",
              "      <td>22.719122</td>\n",
              "      <td>20.226056</td>\n",
              "      <td>22.987284</td>\n",
              "      <td>26.162352</td>\n",
              "      <td>19.049031</td>\n",
              "      <td>20.764032</td>\n",
              "      <td>19.010646</td>\n",
              "      <td>20.776796</td>\n",
              "      <td>26.110784</td>\n",
              "      <td>17.362263</td>\n",
              "      <td>20.796540</td>\n",
              "      <td>17.036368</td>\n",
              "      <td>18.828431</td>\n",
              "      <td>19.121968</td>\n",
              "      <td>24.453356</td>\n",
              "      <td>21.036178</td>\n",
              "      <td>26.148383</td>\n",
              "      <td>20.109554</td>\n",
              "      <td>19.712195</td>\n",
              "      <td>23.072001</td>\n",
              "      <td>23.716708</td>\n",
              "      <td>22.939724</td>\n",
              "      <td>17.613169</td>\n",
              "      <td>26.258413</td>\n",
              "      <td>15.847386</td>\n",
              "      <td>24.223808</td>\n",
              "      <td>14.583826</td>\n",
              "      <td>19.907845</td>\n",
              "      <td>20.130342</td>\n",
              "      <td>21.580953</td>\n",
              "      <td>19.424761</td>\n",
              "      <td>18.788126</td>\n",
              "      <td>...</td>\n",
              "      <td>32.918150</td>\n",
              "      <td>15.877739</td>\n",
              "      <td>21.061549</td>\n",
              "      <td>19.701144</td>\n",
              "      <td>26.201719</td>\n",
              "      <td>16.003658</td>\n",
              "      <td>18.602766</td>\n",
              "      <td>17.613169</td>\n",
              "      <td>16.594579</td>\n",
              "      <td>17.628528</td>\n",
              "      <td>19.479043</td>\n",
              "      <td>16.863042</td>\n",
              "      <td>24.342439</td>\n",
              "      <td>16.551599</td>\n",
              "      <td>16.281886</td>\n",
              "      <td>24.000000</td>\n",
              "      <td>23.409925</td>\n",
              "      <td>16.603500</td>\n",
              "      <td>21.727839</td>\n",
              "      <td>22.239334</td>\n",
              "      <td>18.801260</td>\n",
              "      <td>18.970345</td>\n",
              "      <td>23.824758</td>\n",
              "      <td>24.241459</td>\n",
              "      <td>22.922671</td>\n",
              "      <td>21.812245</td>\n",
              "      <td>19.924583</td>\n",
              "      <td>19.651821</td>\n",
              "      <td>15.329149</td>\n",
              "      <td>19.672270</td>\n",
              "      <td>16.781919</td>\n",
              "      <td>21.577292</td>\n",
              "      <td>20.075586</td>\n",
              "      <td>16.967773</td>\n",
              "      <td>20.573576</td>\n",
              "      <td>18.240652</td>\n",
              "      <td>21.758323</td>\n",
              "      <td>14.767745</td>\n",
              "      <td>21.097947</td>\n",
              "      <td>22.189268</td>\n",
              "    </tr>\n",
              "    <tr>\n",
              "      <th>1</th>\n",
              "      <td>18.554368</td>\n",
              "      <td>25.028935</td>\n",
              "      <td>17.056411</td>\n",
              "      <td>19.284021</td>\n",
              "      <td>21.441278</td>\n",
              "      <td>19.196140</td>\n",
              "      <td>17.964866</td>\n",
              "      <td>14.590148</td>\n",
              "      <td>19.280028</td>\n",
              "      <td>17.169480</td>\n",
              "      <td>18.866213</td>\n",
              "      <td>17.941817</td>\n",
              "      <td>26.640580</td>\n",
              "      <td>25.455869</td>\n",
              "      <td>17.719647</td>\n",
              "      <td>18.520194</td>\n",
              "      <td>20.164606</td>\n",
              "      <td>21.977579</td>\n",
              "      <td>17.538265</td>\n",
              "      <td>17.364862</td>\n",
              "      <td>20.251488</td>\n",
              "      <td>20.103728</td>\n",
              "      <td>18.449289</td>\n",
              "      <td>27.323326</td>\n",
              "      <td>28.491399</td>\n",
              "      <td>17.905530</td>\n",
              "      <td>21.675654</td>\n",
              "      <td>17.298181</td>\n",
              "      <td>24.007205</td>\n",
              "      <td>21.894197</td>\n",
              "      <td>28.398718</td>\n",
              "      <td>20.088653</td>\n",
              "      <td>16.727458</td>\n",
              "      <td>18.350277</td>\n",
              "      <td>19.052754</td>\n",
              "      <td>16.936881</td>\n",
              "      <td>27.198335</td>\n",
              "      <td>21.431528</td>\n",
              "      <td>15.207826</td>\n",
              "      <td>24.334776</td>\n",
              "      <td>...</td>\n",
              "      <td>23.168570</td>\n",
              "      <td>21.116897</td>\n",
              "      <td>21.933747</td>\n",
              "      <td>25.277390</td>\n",
              "      <td>26.041070</td>\n",
              "      <td>16.650008</td>\n",
              "      <td>19.266094</td>\n",
              "      <td>22.806241</td>\n",
              "      <td>25.558075</td>\n",
              "      <td>18.192353</td>\n",
              "      <td>38.230725</td>\n",
              "      <td>17.709508</td>\n",
              "      <td>12.459426</td>\n",
              "      <td>28.777513</td>\n",
              "      <td>17.843364</td>\n",
              "      <td>20.818906</td>\n",
              "      <td>36.892886</td>\n",
              "      <td>17.777778</td>\n",
              "      <td>22.047129</td>\n",
              "      <td>21.389544</td>\n",
              "      <td>17.591959</td>\n",
              "      <td>16.666024</td>\n",
              "      <td>17.373737</td>\n",
              "      <td>22.719903</td>\n",
              "      <td>24.167234</td>\n",
              "      <td>25.487726</td>\n",
              "      <td>18.900010</td>\n",
              "      <td>16.557875</td>\n",
              "      <td>16.915083</td>\n",
              "      <td>34.506506</td>\n",
              "      <td>30.819891</td>\n",
              "      <td>16.991798</td>\n",
              "      <td>25.476660</td>\n",
              "      <td>18.180429</td>\n",
              "      <td>27.893300</td>\n",
              "      <td>18.510710</td>\n",
              "      <td>24.751223</td>\n",
              "      <td>23.661514</td>\n",
              "      <td>16.835860</td>\n",
              "      <td>18.142125</td>\n",
              "    </tr>\n",
              "    <tr>\n",
              "      <th>2</th>\n",
              "      <td>26.914133</td>\n",
              "      <td>20.130024</td>\n",
              "      <td>23.910950</td>\n",
              "      <td>22.910282</td>\n",
              "      <td>37.799242</td>\n",
              "      <td>18.544223</td>\n",
              "      <td>18.523283</td>\n",
              "      <td>24.203514</td>\n",
              "      <td>24.035361</td>\n",
              "      <td>16.863042</td>\n",
              "      <td>25.688547</td>\n",
              "      <td>22.265421</td>\n",
              "      <td>27.858412</td>\n",
              "      <td>21.129178</td>\n",
              "      <td>17.375400</td>\n",
              "      <td>15.722038</td>\n",
              "      <td>21.001964</td>\n",
              "      <td>16.599050</td>\n",
              "      <td>18.747364</td>\n",
              "      <td>19.238067</td>\n",
              "      <td>29.744138</td>\n",
              "      <td>19.275866</td>\n",
              "      <td>21.531070</td>\n",
              "      <td>16.357394</td>\n",
              "      <td>24.046778</td>\n",
              "      <td>20.031319</td>\n",
              "      <td>29.399831</td>\n",
              "      <td>17.873384</td>\n",
              "      <td>21.938046</td>\n",
              "      <td>33.320518</td>\n",
              "      <td>18.884193</td>\n",
              "      <td>23.987952</td>\n",
              "      <td>27.226861</td>\n",
              "      <td>18.625793</td>\n",
              "      <td>19.964127</td>\n",
              "      <td>27.850189</td>\n",
              "      <td>15.601282</td>\n",
              "      <td>23.341257</td>\n",
              "      <td>19.351967</td>\n",
              "      <td>17.695312</td>\n",
              "      <td>...</td>\n",
              "      <td>22.424470</td>\n",
              "      <td>17.020388</td>\n",
              "      <td>17.604879</td>\n",
              "      <td>25.957134</td>\n",
              "      <td>27.168115</td>\n",
              "      <td>22.179241</td>\n",
              "      <td>22.767301</td>\n",
              "      <td>16.379114</td>\n",
              "      <td>22.549796</td>\n",
              "      <td>16.518738</td>\n",
              "      <td>17.758667</td>\n",
              "      <td>28.856911</td>\n",
              "      <td>23.035328</td>\n",
              "      <td>19.298391</td>\n",
              "      <td>20.542608</td>\n",
              "      <td>21.112506</td>\n",
              "      <td>20.202020</td>\n",
              "      <td>17.506132</td>\n",
              "      <td>15.068403</td>\n",
              "      <td>22.921875</td>\n",
              "      <td>18.791736</td>\n",
              "      <td>20.113223</td>\n",
              "      <td>23.648779</td>\n",
              "      <td>20.225680</td>\n",
              "      <td>17.834240</td>\n",
              "      <td>24.161849</td>\n",
              "      <td>51.691108</td>\n",
              "      <td>29.607573</td>\n",
              "      <td>18.307159</td>\n",
              "      <td>22.574885</td>\n",
              "      <td>24.140983</td>\n",
              "      <td>16.139643</td>\n",
              "      <td>33.325731</td>\n",
              "      <td>18.609750</td>\n",
              "      <td>28.447908</td>\n",
              "      <td>20.803964</td>\n",
              "      <td>19.797508</td>\n",
              "      <td>17.540901</td>\n",
              "      <td>22.178336</td>\n",
              "      <td>20.744644</td>\n",
              "    </tr>\n",
              "    <tr>\n",
              "      <th>3</th>\n",
              "      <td>15.790630</td>\n",
              "      <td>23.409055</td>\n",
              "      <td>18.591653</td>\n",
              "      <td>26.023550</td>\n",
              "      <td>22.452252</td>\n",
              "      <td>15.943221</td>\n",
              "      <td>20.350020</td>\n",
              "      <td>21.864514</td>\n",
              "      <td>20.474990</td>\n",
              "      <td>18.676007</td>\n",
              "      <td>26.319335</td>\n",
              "      <td>32.668180</td>\n",
              "      <td>24.437440</td>\n",
              "      <td>21.108456</td>\n",
              "      <td>15.460331</td>\n",
              "      <td>22.824612</td>\n",
              "      <td>20.236835</td>\n",
              "      <td>22.806821</td>\n",
              "      <td>26.619305</td>\n",
              "      <td>22.816529</td>\n",
              "      <td>21.312310</td>\n",
              "      <td>22.467232</td>\n",
              "      <td>18.652925</td>\n",
              "      <td>22.520566</td>\n",
              "      <td>25.758220</td>\n",
              "      <td>20.140225</td>\n",
              "      <td>19.490164</td>\n",
              "      <td>25.690262</td>\n",
              "      <td>23.544538</td>\n",
              "      <td>20.904968</td>\n",
              "      <td>22.941515</td>\n",
              "      <td>18.232199</td>\n",
              "      <td>24.820231</td>\n",
              "      <td>17.056177</td>\n",
              "      <td>18.607180</td>\n",
              "      <td>17.210974</td>\n",
              "      <td>19.116978</td>\n",
              "      <td>16.785332</td>\n",
              "      <td>27.772786</td>\n",
              "      <td>20.764032</td>\n",
              "      <td>...</td>\n",
              "      <td>18.916706</td>\n",
              "      <td>24.919900</td>\n",
              "      <td>17.430395</td>\n",
              "      <td>19.049031</td>\n",
              "      <td>36.721189</td>\n",
              "      <td>25.405197</td>\n",
              "      <td>18.623951</td>\n",
              "      <td>16.657702</td>\n",
              "      <td>16.821435</td>\n",
              "      <td>21.319919</td>\n",
              "      <td>25.063360</td>\n",
              "      <td>18.342428</td>\n",
              "      <td>20.057692</td>\n",
              "      <td>20.283247</td>\n",
              "      <td>27.130562</td>\n",
              "      <td>16.522449</td>\n",
              "      <td>21.472189</td>\n",
              "      <td>17.853499</td>\n",
              "      <td>21.717452</td>\n",
              "      <td>31.497860</td>\n",
              "      <td>21.378298</td>\n",
              "      <td>17.170036</td>\n",
              "      <td>14.889246</td>\n",
              "      <td>17.289065</td>\n",
              "      <td>19.597732</td>\n",
              "      <td>18.041481</td>\n",
              "      <td>17.057908</td>\n",
              "      <td>16.835860</td>\n",
              "      <td>20.266440</td>\n",
              "      <td>25.596716</td>\n",
              "      <td>23.624619</td>\n",
              "      <td>23.985308</td>\n",
              "      <td>17.858099</td>\n",
              "      <td>19.858767</td>\n",
              "      <td>21.491187</td>\n",
              "      <td>19.173267</td>\n",
              "      <td>24.132675</td>\n",
              "      <td>14.392151</td>\n",
              "      <td>20.658978</td>\n",
              "      <td>25.172879</td>\n",
              "    </tr>\n",
              "    <tr>\n",
              "      <th>4</th>\n",
              "      <td>18.770832</td>\n",
              "      <td>22.264574</td>\n",
              "      <td>19.122014</td>\n",
              "      <td>21.204915</td>\n",
              "      <td>30.819891</td>\n",
              "      <td>19.493177</td>\n",
              "      <td>23.833665</td>\n",
              "      <td>26.699893</td>\n",
              "      <td>22.711168</td>\n",
              "      <td>32.699095</td>\n",
              "      <td>18.929296</td>\n",
              "      <td>21.023138</td>\n",
              "      <td>24.840980</td>\n",
              "      <td>23.237656</td>\n",
              "      <td>21.942801</td>\n",
              "      <td>22.822776</td>\n",
              "      <td>19.841240</td>\n",
              "      <td>24.454910</td>\n",
              "      <td>25.152195</td>\n",
              "      <td>18.094313</td>\n",
              "      <td>21.328125</td>\n",
              "      <td>27.679501</td>\n",
              "      <td>14.754381</td>\n",
              "      <td>18.876966</td>\n",
              "      <td>18.725186</td>\n",
              "      <td>17.027348</td>\n",
              "      <td>16.109218</td>\n",
              "      <td>21.777739</td>\n",
              "      <td>25.604646</td>\n",
              "      <td>21.261532</td>\n",
              "      <td>19.209683</td>\n",
              "      <td>28.295105</td>\n",
              "      <td>16.891110</td>\n",
              "      <td>21.469171</td>\n",
              "      <td>20.187171</td>\n",
              "      <td>23.026033</td>\n",
              "      <td>16.233535</td>\n",
              "      <td>19.844307</td>\n",
              "      <td>20.825845</td>\n",
              "      <td>15.018175</td>\n",
              "      <td>...</td>\n",
              "      <td>20.645776</td>\n",
              "      <td>19.950157</td>\n",
              "      <td>27.168115</td>\n",
              "      <td>20.212445</td>\n",
              "      <td>22.233115</td>\n",
              "      <td>24.805670</td>\n",
              "      <td>25.486001</td>\n",
              "      <td>19.380972</td>\n",
              "      <td>19.562133</td>\n",
              "      <td>16.890844</td>\n",
              "      <td>15.980087</td>\n",
              "      <td>23.389224</td>\n",
              "      <td>21.378858</td>\n",
              "      <td>16.440171</td>\n",
              "      <td>21.325810</td>\n",
              "      <td>19.970520</td>\n",
              "      <td>19.725962</td>\n",
              "      <td>20.606061</td>\n",
              "      <td>24.653254</td>\n",
              "      <td>18.965383</td>\n",
              "      <td>19.246480</td>\n",
              "      <td>19.960937</td>\n",
              "      <td>20.446068</td>\n",
              "      <td>21.049036</td>\n",
              "      <td>16.718248</td>\n",
              "      <td>19.646937</td>\n",
              "      <td>18.143962</td>\n",
              "      <td>21.450872</td>\n",
              "      <td>22.305081</td>\n",
              "      <td>14.863258</td>\n",
              "      <td>18.253711</td>\n",
              "      <td>18.639085</td>\n",
              "      <td>19.788063</td>\n",
              "      <td>24.797856</td>\n",
              "      <td>17.659040</td>\n",
              "      <td>25.094046</td>\n",
              "      <td>20.225449</td>\n",
              "      <td>33.121131</td>\n",
              "      <td>15.887532</td>\n",
              "      <td>16.645001</td>\n",
              "    </tr>\n",
              "    <tr>\n",
              "      <th>...</th>\n",
              "      <td>...</td>\n",
              "      <td>...</td>\n",
              "      <td>...</td>\n",
              "      <td>...</td>\n",
              "      <td>...</td>\n",
              "      <td>...</td>\n",
              "      <td>...</td>\n",
              "      <td>...</td>\n",
              "      <td>...</td>\n",
              "      <td>...</td>\n",
              "      <td>...</td>\n",
              "      <td>...</td>\n",
              "      <td>...</td>\n",
              "      <td>...</td>\n",
              "      <td>...</td>\n",
              "      <td>...</td>\n",
              "      <td>...</td>\n",
              "      <td>...</td>\n",
              "      <td>...</td>\n",
              "      <td>...</td>\n",
              "      <td>...</td>\n",
              "      <td>...</td>\n",
              "      <td>...</td>\n",
              "      <td>...</td>\n",
              "      <td>...</td>\n",
              "      <td>...</td>\n",
              "      <td>...</td>\n",
              "      <td>...</td>\n",
              "      <td>...</td>\n",
              "      <td>...</td>\n",
              "      <td>...</td>\n",
              "      <td>...</td>\n",
              "      <td>...</td>\n",
              "      <td>...</td>\n",
              "      <td>...</td>\n",
              "      <td>...</td>\n",
              "      <td>...</td>\n",
              "      <td>...</td>\n",
              "      <td>...</td>\n",
              "      <td>...</td>\n",
              "      <td>...</td>\n",
              "      <td>...</td>\n",
              "      <td>...</td>\n",
              "      <td>...</td>\n",
              "      <td>...</td>\n",
              "      <td>...</td>\n",
              "      <td>...</td>\n",
              "      <td>...</td>\n",
              "      <td>...</td>\n",
              "      <td>...</td>\n",
              "      <td>...</td>\n",
              "      <td>...</td>\n",
              "      <td>...</td>\n",
              "      <td>...</td>\n",
              "      <td>...</td>\n",
              "      <td>...</td>\n",
              "      <td>...</td>\n",
              "      <td>...</td>\n",
              "      <td>...</td>\n",
              "      <td>...</td>\n",
              "      <td>...</td>\n",
              "      <td>...</td>\n",
              "      <td>...</td>\n",
              "      <td>...</td>\n",
              "      <td>...</td>\n",
              "      <td>...</td>\n",
              "      <td>...</td>\n",
              "      <td>...</td>\n",
              "      <td>...</td>\n",
              "      <td>...</td>\n",
              "      <td>...</td>\n",
              "      <td>...</td>\n",
              "      <td>...</td>\n",
              "      <td>...</td>\n",
              "      <td>...</td>\n",
              "      <td>...</td>\n",
              "      <td>...</td>\n",
              "      <td>...</td>\n",
              "      <td>...</td>\n",
              "      <td>...</td>\n",
              "      <td>...</td>\n",
              "    </tr>\n",
              "    <tr>\n",
              "      <th>1995</th>\n",
              "      <td>23.339562</td>\n",
              "      <td>14.377737</td>\n",
              "      <td>24.427424</td>\n",
              "      <td>24.104497</td>\n",
              "      <td>21.262377</td>\n",
              "      <td>22.469804</td>\n",
              "      <td>26.843131</td>\n",
              "      <td>19.410553</td>\n",
              "      <td>22.189349</td>\n",
              "      <td>16.959289</td>\n",
              "      <td>19.841270</td>\n",
              "      <td>22.488578</td>\n",
              "      <td>14.627275</td>\n",
              "      <td>18.773459</td>\n",
              "      <td>17.896189</td>\n",
              "      <td>24.646833</td>\n",
              "      <td>24.200860</td>\n",
              "      <td>21.258476</td>\n",
              "      <td>22.363211</td>\n",
              "      <td>23.302441</td>\n",
              "      <td>18.341703</td>\n",
              "      <td>16.734063</td>\n",
              "      <td>19.078080</td>\n",
              "      <td>27.764650</td>\n",
              "      <td>19.765424</td>\n",
              "      <td>26.317898</td>\n",
              "      <td>16.968164</td>\n",
              "      <td>14.164299</td>\n",
              "      <td>16.041528</td>\n",
              "      <td>17.097349</td>\n",
              "      <td>21.732335</td>\n",
              "      <td>20.871108</td>\n",
              "      <td>19.522393</td>\n",
              "      <td>23.079846</td>\n",
              "      <td>30.525378</td>\n",
              "      <td>18.499680</td>\n",
              "      <td>27.461235</td>\n",
              "      <td>37.695212</td>\n",
              "      <td>18.027763</td>\n",
              "      <td>21.317122</td>\n",
              "      <td>...</td>\n",
              "      <td>19.173167</td>\n",
              "      <td>18.833868</td>\n",
              "      <td>26.840086</td>\n",
              "      <td>19.146479</td>\n",
              "      <td>17.498238</td>\n",
              "      <td>18.263637</td>\n",
              "      <td>19.379838</td>\n",
              "      <td>27.389852</td>\n",
              "      <td>17.542394</td>\n",
              "      <td>13.630624</td>\n",
              "      <td>28.179012</td>\n",
              "      <td>20.439371</td>\n",
              "      <td>17.906322</td>\n",
              "      <td>20.138115</td>\n",
              "      <td>21.926311</td>\n",
              "      <td>16.233766</td>\n",
              "      <td>16.375359</td>\n",
              "      <td>26.843131</td>\n",
              "      <td>19.019853</td>\n",
              "      <td>17.901556</td>\n",
              "      <td>19.095496</td>\n",
              "      <td>20.907197</td>\n",
              "      <td>17.805230</td>\n",
              "      <td>20.156988</td>\n",
              "      <td>23.833897</td>\n",
              "      <td>14.618665</td>\n",
              "      <td>20.472626</td>\n",
              "      <td>18.408941</td>\n",
              "      <td>16.261886</td>\n",
              "      <td>24.034407</td>\n",
              "      <td>26.005986</td>\n",
              "      <td>15.196954</td>\n",
              "      <td>21.719466</td>\n",
              "      <td>30.175055</td>\n",
              "      <td>32.788247</td>\n",
              "      <td>24.458933</td>\n",
              "      <td>23.996594</td>\n",
              "      <td>41.528226</td>\n",
              "      <td>31.308479</td>\n",
              "      <td>14.392151</td>\n",
              "    </tr>\n",
              "    <tr>\n",
              "      <th>1996</th>\n",
              "      <td>20.238751</td>\n",
              "      <td>17.036750</td>\n",
              "      <td>19.440279</td>\n",
              "      <td>19.200580</td>\n",
              "      <td>19.876764</td>\n",
              "      <td>22.464689</td>\n",
              "      <td>17.365485</td>\n",
              "      <td>19.435072</td>\n",
              "      <td>21.204915</td>\n",
              "      <td>18.987342</td>\n",
              "      <td>35.300811</td>\n",
              "      <td>16.369048</td>\n",
              "      <td>20.593866</td>\n",
              "      <td>27.656412</td>\n",
              "      <td>19.719484</td>\n",
              "      <td>17.659849</td>\n",
              "      <td>18.200692</td>\n",
              "      <td>15.291000</td>\n",
              "      <td>18.707483</td>\n",
              "      <td>15.392624</td>\n",
              "      <td>33.083633</td>\n",
              "      <td>14.777632</td>\n",
              "      <td>17.428034</td>\n",
              "      <td>20.694561</td>\n",
              "      <td>17.939144</td>\n",
              "      <td>18.640730</td>\n",
              "      <td>21.529951</td>\n",
              "      <td>14.524562</td>\n",
              "      <td>40.956598</td>\n",
              "      <td>18.151124</td>\n",
              "      <td>23.246379</td>\n",
              "      <td>26.254988</td>\n",
              "      <td>21.940992</td>\n",
              "      <td>16.478654</td>\n",
              "      <td>18.257699</td>\n",
              "      <td>20.563379</td>\n",
              "      <td>18.201002</td>\n",
              "      <td>28.890991</td>\n",
              "      <td>17.742028</td>\n",
              "      <td>25.996233</td>\n",
              "      <td>...</td>\n",
              "      <td>20.164896</td>\n",
              "      <td>17.165814</td>\n",
              "      <td>21.808523</td>\n",
              "      <td>18.031426</td>\n",
              "      <td>17.572715</td>\n",
              "      <td>18.978382</td>\n",
              "      <td>17.746229</td>\n",
              "      <td>17.061411</td>\n",
              "      <td>28.352086</td>\n",
              "      <td>16.436555</td>\n",
              "      <td>20.199470</td>\n",
              "      <td>18.061271</td>\n",
              "      <td>17.892359</td>\n",
              "      <td>16.883199</td>\n",
              "      <td>18.400443</td>\n",
              "      <td>15.575840</td>\n",
              "      <td>21.480452</td>\n",
              "      <td>22.447813</td>\n",
              "      <td>24.339921</td>\n",
              "      <td>25.596716</td>\n",
              "      <td>27.548656</td>\n",
              "      <td>18.030656</td>\n",
              "      <td>23.467348</td>\n",
              "      <td>20.292182</td>\n",
              "      <td>24.812497</td>\n",
              "      <td>14.690443</td>\n",
              "      <td>19.971773</td>\n",
              "      <td>19.212445</td>\n",
              "      <td>25.891012</td>\n",
              "      <td>24.144167</td>\n",
              "      <td>22.583189</td>\n",
              "      <td>21.794646</td>\n",
              "      <td>17.739634</td>\n",
              "      <td>15.480324</td>\n",
              "      <td>23.812741</td>\n",
              "      <td>20.968858</td>\n",
              "      <td>19.981722</td>\n",
              "      <td>21.881925</td>\n",
              "      <td>22.251734</td>\n",
              "      <td>20.205904</td>\n",
              "    </tr>\n",
              "    <tr>\n",
              "      <th>1997</th>\n",
              "      <td>26.215949</td>\n",
              "      <td>21.822498</td>\n",
              "      <td>23.165240</td>\n",
              "      <td>21.346037</td>\n",
              "      <td>28.629687</td>\n",
              "      <td>22.070312</td>\n",
              "      <td>16.902945</td>\n",
              "      <td>18.406032</td>\n",
              "      <td>24.189501</td>\n",
              "      <td>22.852200</td>\n",
              "      <td>16.518738</td>\n",
              "      <td>29.555882</td>\n",
              "      <td>18.567744</td>\n",
              "      <td>29.087797</td>\n",
              "      <td>24.166529</td>\n",
              "      <td>16.115418</td>\n",
              "      <td>16.694697</td>\n",
              "      <td>19.029178</td>\n",
              "      <td>19.605921</td>\n",
              "      <td>20.129945</td>\n",
              "      <td>29.353077</td>\n",
              "      <td>23.341257</td>\n",
              "      <td>27.590219</td>\n",
              "      <td>18.894857</td>\n",
              "      <td>13.099084</td>\n",
              "      <td>19.813568</td>\n",
              "      <td>16.021580</td>\n",
              "      <td>20.124078</td>\n",
              "      <td>21.264064</td>\n",
              "      <td>17.986625</td>\n",
              "      <td>18.633749</td>\n",
              "      <td>15.449216</td>\n",
              "      <td>19.640301</td>\n",
              "      <td>17.871292</td>\n",
              "      <td>29.427647</td>\n",
              "      <td>18.367051</td>\n",
              "      <td>18.925753</td>\n",
              "      <td>17.495297</td>\n",
              "      <td>19.343701</td>\n",
              "      <td>17.373737</td>\n",
              "      <td>...</td>\n",
              "      <td>18.821023</td>\n",
              "      <td>17.842937</td>\n",
              "      <td>17.464914</td>\n",
              "      <td>21.408613</td>\n",
              "      <td>21.272035</td>\n",
              "      <td>27.783609</td>\n",
              "      <td>21.039696</td>\n",
              "      <td>22.205090</td>\n",
              "      <td>32.123736</td>\n",
              "      <td>16.408519</td>\n",
              "      <td>17.760720</td>\n",
              "      <td>18.885645</td>\n",
              "      <td>20.902629</td>\n",
              "      <td>20.056703</td>\n",
              "      <td>19.613084</td>\n",
              "      <td>22.880532</td>\n",
              "      <td>16.537113</td>\n",
              "      <td>19.591837</td>\n",
              "      <td>26.828261</td>\n",
              "      <td>19.026427</td>\n",
              "      <td>19.221638</td>\n",
              "      <td>24.520097</td>\n",
              "      <td>25.034294</td>\n",
              "      <td>27.619083</td>\n",
              "      <td>29.503616</td>\n",
              "      <td>19.259703</td>\n",
              "      <td>18.253854</td>\n",
              "      <td>24.689280</td>\n",
              "      <td>15.547477</td>\n",
              "      <td>21.125478</td>\n",
              "      <td>28.959000</td>\n",
              "      <td>25.881199</td>\n",
              "      <td>25.153840</td>\n",
              "      <td>17.804589</td>\n",
              "      <td>16.062361</td>\n",
              "      <td>18.970345</td>\n",
              "      <td>27.035854</td>\n",
              "      <td>19.114187</td>\n",
              "      <td>19.650562</td>\n",
              "      <td>21.682256</td>\n",
              "    </tr>\n",
              "    <tr>\n",
              "      <th>1998</th>\n",
              "      <td>25.147929</td>\n",
              "      <td>20.327007</td>\n",
              "      <td>19.722327</td>\n",
              "      <td>18.592223</td>\n",
              "      <td>20.361814</td>\n",
              "      <td>25.637494</td>\n",
              "      <td>19.305596</td>\n",
              "      <td>24.378645</td>\n",
              "      <td>29.251418</td>\n",
              "      <td>26.677862</td>\n",
              "      <td>17.138196</td>\n",
              "      <td>15.770657</td>\n",
              "      <td>21.327309</td>\n",
              "      <td>18.124092</td>\n",
              "      <td>24.947948</td>\n",
              "      <td>20.872050</td>\n",
              "      <td>23.339104</td>\n",
              "      <td>21.190890</td>\n",
              "      <td>17.136266</td>\n",
              "      <td>22.283951</td>\n",
              "      <td>32.498618</td>\n",
              "      <td>18.611496</td>\n",
              "      <td>20.077467</td>\n",
              "      <td>16.898683</td>\n",
              "      <td>18.507766</td>\n",
              "      <td>19.278941</td>\n",
              "      <td>22.221529</td>\n",
              "      <td>21.625416</td>\n",
              "      <td>24.630340</td>\n",
              "      <td>22.424470</td>\n",
              "      <td>15.235392</td>\n",
              "      <td>22.243723</td>\n",
              "      <td>17.194919</td>\n",
              "      <td>20.943531</td>\n",
              "      <td>26.021757</td>\n",
              "      <td>19.803230</td>\n",
              "      <td>20.060954</td>\n",
              "      <td>19.727285</td>\n",
              "      <td>15.805565</td>\n",
              "      <td>24.201090</td>\n",
              "      <td>...</td>\n",
              "      <td>21.477656</td>\n",
              "      <td>18.145660</td>\n",
              "      <td>16.950007</td>\n",
              "      <td>18.911117</td>\n",
              "      <td>19.071085</td>\n",
              "      <td>20.031808</td>\n",
              "      <td>25.891012</td>\n",
              "      <td>16.428010</td>\n",
              "      <td>17.031805</td>\n",
              "      <td>18.517804</td>\n",
              "      <td>20.518250</td>\n",
              "      <td>27.730007</td>\n",
              "      <td>18.715145</td>\n",
              "      <td>21.894439</td>\n",
              "      <td>19.610829</td>\n",
              "      <td>19.759125</td>\n",
              "      <td>24.152249</td>\n",
              "      <td>15.601282</td>\n",
              "      <td>23.519015</td>\n",
              "      <td>20.595013</td>\n",
              "      <td>14.670644</td>\n",
              "      <td>22.816529</td>\n",
              "      <td>22.054206</td>\n",
              "      <td>22.776968</td>\n",
              "      <td>18.940188</td>\n",
              "      <td>22.481982</td>\n",
              "      <td>20.223116</td>\n",
              "      <td>17.404375</td>\n",
              "      <td>20.159962</td>\n",
              "      <td>16.555696</td>\n",
              "      <td>16.180042</td>\n",
              "      <td>23.972832</td>\n",
              "      <td>23.345957</td>\n",
              "      <td>16.030341</td>\n",
              "      <td>19.138568</td>\n",
              "      <td>22.138394</td>\n",
              "      <td>23.987516</td>\n",
              "      <td>27.039053</td>\n",
              "      <td>21.399393</td>\n",
              "      <td>28.854304</td>\n",
              "    </tr>\n",
              "    <tr>\n",
              "      <th>1999</th>\n",
              "      <td>19.973159</td>\n",
              "      <td>14.860540</td>\n",
              "      <td>21.914064</td>\n",
              "      <td>20.739663</td>\n",
              "      <td>28.896440</td>\n",
              "      <td>14.562091</td>\n",
              "      <td>19.764411</td>\n",
              "      <td>35.300811</td>\n",
              "      <td>18.320312</td>\n",
              "      <td>26.091719</td>\n",
              "      <td>16.088889</td>\n",
              "      <td>17.518627</td>\n",
              "      <td>21.776995</td>\n",
              "      <td>24.219119</td>\n",
              "      <td>25.051901</td>\n",
              "      <td>21.483945</td>\n",
              "      <td>21.129301</td>\n",
              "      <td>18.920049</td>\n",
              "      <td>22.203947</td>\n",
              "      <td>16.474617</td>\n",
              "      <td>29.544004</td>\n",
              "      <td>20.761246</td>\n",
              "      <td>19.316044</td>\n",
              "      <td>18.999108</td>\n",
              "      <td>21.824807</td>\n",
              "      <td>16.339862</td>\n",
              "      <td>19.467401</td>\n",
              "      <td>17.290221</td>\n",
              "      <td>19.522406</td>\n",
              "      <td>21.411211</td>\n",
              "      <td>21.166254</td>\n",
              "      <td>16.720282</td>\n",
              "      <td>25.125768</td>\n",
              "      <td>34.018913</td>\n",
              "      <td>20.150849</td>\n",
              "      <td>18.594226</td>\n",
              "      <td>18.038383</td>\n",
              "      <td>18.931506</td>\n",
              "      <td>17.756440</td>\n",
              "      <td>19.616153</td>\n",
              "      <td>...</td>\n",
              "      <td>24.592291</td>\n",
              "      <td>26.794301</td>\n",
              "      <td>21.960596</td>\n",
              "      <td>20.629701</td>\n",
              "      <td>18.425547</td>\n",
              "      <td>14.891555</td>\n",
              "      <td>30.794140</td>\n",
              "      <td>15.641168</td>\n",
              "      <td>24.613248</td>\n",
              "      <td>18.764223</td>\n",
              "      <td>16.175041</td>\n",
              "      <td>20.823576</td>\n",
              "      <td>26.078892</td>\n",
              "      <td>19.551083</td>\n",
              "      <td>15.005978</td>\n",
              "      <td>17.758583</td>\n",
              "      <td>17.474916</td>\n",
              "      <td>19.608968</td>\n",
              "      <td>28.586299</td>\n",
              "      <td>19.293291</td>\n",
              "      <td>16.927811</td>\n",
              "      <td>21.057869</td>\n",
              "      <td>22.597274</td>\n",
              "      <td>19.177557</td>\n",
              "      <td>19.671576</td>\n",
              "      <td>16.611184</td>\n",
              "      <td>20.725611</td>\n",
              "      <td>18.351574</td>\n",
              "      <td>28.414305</td>\n",
              "      <td>18.782938</td>\n",
              "      <td>26.564345</td>\n",
              "      <td>17.958048</td>\n",
              "      <td>15.973619</td>\n",
              "      <td>28.405266</td>\n",
              "      <td>16.968164</td>\n",
              "      <td>29.086132</td>\n",
              "      <td>16.983597</td>\n",
              "      <td>18.439262</td>\n",
              "      <td>21.531070</td>\n",
              "      <td>24.120909</td>\n",
              "    </tr>\n",
              "  </tbody>\n",
              "</table>\n",
              "<p>2000 rows × 1500 columns</p>\n",
              "</div>"
            ],
            "text/plain": [
              "      Amostra_0  Amostra_1  Amostra_2  ...  Amostra_1497  Amostra_1498  Amostra_1499\n",
              "0     21.345468  26.097659  19.650562  ...     14.767745     21.097947     22.189268\n",
              "1     18.554368  25.028935  17.056411  ...     23.661514     16.835860     18.142125\n",
              "2     26.914133  20.130024  23.910950  ...     17.540901     22.178336     20.744644\n",
              "3     15.790630  23.409055  18.591653  ...     14.392151     20.658978     25.172879\n",
              "4     18.770832  22.264574  19.122014  ...     33.121131     15.887532     16.645001\n",
              "...         ...        ...        ...  ...           ...           ...           ...\n",
              "1995  23.339562  14.377737  24.427424  ...     41.528226     31.308479     14.392151\n",
              "1996  20.238751  17.036750  19.440279  ...     21.881925     22.251734     20.205904\n",
              "1997  26.215949  21.822498  23.165240  ...     19.114187     19.650562     21.682256\n",
              "1998  25.147929  20.327007  19.722327  ...     27.039053     21.399393     28.854304\n",
              "1999  19.973159  14.860540  21.914064  ...     18.439262     21.531070     24.120909\n",
              "\n",
              "[2000 rows x 1500 columns]"
            ]
          },
          "metadata": {
            "tags": []
          },
          "execution_count": 15
        }
      ]
    },
    {
      "cell_type": "markdown",
      "metadata": {
        "id": "hZyAT36x2W4j"
      },
      "source": [
        "## O Teorema do Limite Central afirma que, **com o aumento do tamanho da amostra, a distribuição das médias amostrais se aproxima de uma distribuição normal** com média igual à média da população e desvio padrão igual ao desvio padrão da variável original dividido pela raiz quadrada do tamanho da amostra. Este fato é assegurado para n maior ou igual a 30."
      ]
    },
    {
      "cell_type": "code",
      "metadata": {
        "id": "8dt_5m1A2YTZ",
        "colab": {
          "base_uri": "https://localhost:8080/",
          "height": 282
        },
        "outputId": "7077b94b-0b99-4cb7-dade-0ad1d0015430"
      },
      "source": [
        "amostras.mean().hist(bins=30)"
      ],
      "execution_count": 20,
      "outputs": [
        {
          "output_type": "execute_result",
          "data": {
            "text/plain": [
              "<matplotlib.axes._subplots.AxesSubplot at 0x7f914348b400>"
            ]
          },
          "metadata": {
            "tags": []
          },
          "execution_count": 20
        },
        {
          "output_type": "display_data",
          "data": {
            "image/png": "[encoded data removed]",
            "text/plain": [
              "<Figure size 432x288 with 1 Axes>"
            ]
          },
          "metadata": {
            "tags": [],
            "needs_background": "light"
          }
        }
      ]
    },
    {
      "cell_type": "markdown",
      "metadata": {
        "id": "ABYw1QZc2ZRw"
      },
      "source": [
        "## O Teorema do Limite Central afirma que, com o aumento do tamanho da amostra, a distribuição das médias amostrais se aproxima de uma distribuição normal **com média igual à média da população** e desvio padrão igual ao desvio padrão da variável original dividido pela raiz quadrada do tamanho da amostra. Este fato é assegurado para n maior ou igual a 30."
      ]
    },
    {
      "cell_type": "code",
      "metadata": {
        "id": "tJ1YN1Zz2dqE",
        "colab": {
          "base_uri": "https://localhost:8080/"
        },
        "outputId": "e34a1305-1c00-4928-d1f9-4fd4c7dc05ab"
      },
      "source": [
        "dados.IMC.mean()"
      ],
      "execution_count": 21,
      "outputs": [
        {
          "output_type": "execute_result",
          "data": {
            "text/plain": [
              "20.95825220663186"
            ]
          },
          "metadata": {
            "tags": []
          },
          "execution_count": 21
        }
      ]
    },
    {
      "cell_type": "code",
      "metadata": {
        "id": "KAhBt68p2abk",
        "colab": {
          "base_uri": "https://localhost:8080/"
        },
        "outputId": "c07df15b-4ae9-4502-db54-25a67652a094"
      },
      "source": [
        "amostras.mean().mean()"
      ],
      "execution_count": 22,
      "outputs": [
        {
          "output_type": "execute_result",
          "data": {
            "text/plain": [
              "20.959890586968886"
            ]
          },
          "metadata": {
            "tags": []
          },
          "execution_count": 22
        }
      ]
    },
    {
      "cell_type": "markdown",
      "metadata": {
        "id": "YPHM5XvM2dHH"
      },
      "source": [
        "##O Teorema do Limite Central afirma que, com o aumento do tamanho da amostra, a distribuição das médias amostrais se aproxima de uma distribuição normal com média igual à média da população e **desvio padrão igual ao desvio padrão da variável original dividido pela raiz quadrada do tamanho da amostra**. Este fato é assegurado para n maior ou igual a 30.\r\n",
        "\r\n",
        "# $$\\sigma_\\bar{x} = \\frac{\\sigma}{\\sqrt{n}}$$"
      ]
    },
    {
      "cell_type": "code",
      "metadata": {
        "id": "wzqi-jCw_ZM7",
        "colab": {
          "base_uri": "https://localhost:8080/"
        },
        "outputId": "5f2fb159-2578-4f2b-fecb-e027d89f06bd"
      },
      "source": [
        "n"
      ],
      "execution_count": 23,
      "outputs": [
        {
          "output_type": "execute_result",
          "data": {
            "text/plain": [
              "2000"
            ]
          },
          "metadata": {
            "tags": []
          },
          "execution_count": 23
        }
      ]
    },
    {
      "cell_type": "code",
      "metadata": {
        "id": "lbtOxq862gc0",
        "colab": {
          "base_uri": "https://localhost:8080/"
        },
        "outputId": "e408b046-1713-44c3-9087-0146df17d7be"
      },
      "source": [
        "#O desvio padrão se da pelo .std()\r\n",
        "\r\n",
        "import numpy as np\r\n",
        "\r\n",
        "desvio_padrao_amostra_aproximado = dados.IMC.std() / np.sqrt(n)\r\n",
        "print(desvio_padrao_amostra_aproximado)"
      ],
      "execution_count": 24,
      "outputs": [
        {
          "output_type": "stream",
          "text": [
            "0.09490859583922757\n"
          ],
          "name": "stdout"
        }
      ]
    },
    {
      "cell_type": "code",
      "metadata": {
        "id": "JUenw1F_2hQM",
        "colab": {
          "base_uri": "https://localhost:8080/"
        },
        "outputId": "40ca6c1c-1e45-4a28-cadf-4894db794f42"
      },
      "source": [
        "amostras.mean().std()"
      ],
      "execution_count": 25,
      "outputs": [
        {
          "output_type": "execute_result",
          "data": {
            "text/plain": [
              "0.08564136864552861"
            ]
          },
          "metadata": {
            "tags": []
          },
          "execution_count": 25
        }
      ]
    },
    {
      "cell_type": "markdown",
      "metadata": {
        "id": "G5fnh7kLBQe7"
      },
      "source": [
        "# Gráficos com Ploty"
      ]
    },
    {
      "cell_type": "markdown",
      "metadata": {
        "id": "UMGu9-DGBpO8"
      },
      "source": [
        "Existe outra biblioteca para gráficos chama de Ploty, especialmente interessantes para compartilhar o trabalho na web"
      ]
    },
    {
      "cell_type": "code",
      "metadata": {
        "id": "ri7-s9mZETuc"
      },
      "source": [
        "#Obs, este módulo necessita dos dados do arquivo módulo_1_e_2_Bootcamp_Alura.ipynb"
      ],
      "execution_count": null,
      "outputs": []
    },
    {
      "cell_type": "code",
      "metadata": {
        "id": "wmTStl3qB5tb"
      },
      "source": [
        "import plotly.graph_objs as go\r\n",
        "import plotly.express as px\r\n",
        "\r\n",
        "#import pandas as pd\r\n",
        "#import plotly.offline as py\r\n",
        "#import plotly.graph_objs as go\r\n",
        "#py.init_notebook_mode(connected=True)\r\n",
        "\r\n",
        "#mais informações sobre gráficos interativos em https://paulovasconcellos.com.br/como-criar-gr%C3%A1ficos-interativos-utilizando-plotly-e-python-3eb6eda57a2b"
      ],
      "execution_count": 26,
      "outputs": []
    },
    {
      "cell_type": "code",
      "metadata": {
        "id": "On_phfphB8cI",
        "colab": {
          "base_uri": "https://localhost:8080/",
          "height": 229
        },
        "outputId": "98bc6b60-0bfa-4aca-bf97-2f3fd26d4fbe"
      },
      "source": [
        "fig = go.Figure()\r\n",
        "\r\n",
        "fig.add_trace(go.Scatter(x=cincoestados.index, y=cincoestados['11 Rondônia'],name='Rondônia'))\r\n",
        "fig.add_trace(go.Scatter(x=cincoestados.index, y=cincoestados['12 Acre'],name='Acre'))\r\n",
        "fig.add_trace(go.Scatter(x=cincoestados.index, y=cincoestados['13 Amazonas'],name='Amazonas'))\r\n",
        "fig.add_trace(go.Scatter(x=cincoestados.index, y=cincoestados['14 Roraima'],name='Roraima'))\r\n",
        "fig.add_trace(go.Scatter(x=cincoestados.index, y=cincoestados['15 Pará'],name='Pará'))\r\n",
        "\r\n",
        "fig.show()"
      ],
      "execution_count": 27,
      "outputs": [
        {
          "output_type": "error",
          "ename": "NameError",
          "evalue": "ignored",
          "traceback": [
            "\u001b[0;31m---------------------------------------------------------------------------\u001b[0m",
            "\u001b[0;31mNameError\u001b[0m                                 Traceback (most recent call last)",
            "\u001b[0;32m<ipython-input-27-cf99a9c7ba3d>\u001b[0m in \u001b[0;36m<module>\u001b[0;34m()\u001b[0m\n\u001b[1;32m      1\u001b[0m \u001b[0mfig\u001b[0m \u001b[0;34m=\u001b[0m \u001b[0mgo\u001b[0m\u001b[0;34m.\u001b[0m\u001b[0mFigure\u001b[0m\u001b[0;34m(\u001b[0m\u001b[0;34m)\u001b[0m\u001b[0;34m\u001b[0m\u001b[0;34m\u001b[0m\u001b[0m\n\u001b[1;32m      2\u001b[0m \u001b[0;34m\u001b[0m\u001b[0m\n\u001b[0;32m----> 3\u001b[0;31m \u001b[0mfig\u001b[0m\u001b[0;34m.\u001b[0m\u001b[0madd_trace\u001b[0m\u001b[0;34m(\u001b[0m\u001b[0mgo\u001b[0m\u001b[0;34m.\u001b[0m\u001b[0mScatter\u001b[0m\u001b[0;34m(\u001b[0m\u001b[0mx\u001b[0m\u001b[0;34m=\u001b[0m\u001b[0mcincoestados\u001b[0m\u001b[0;34m.\u001b[0m\u001b[0mindex\u001b[0m\u001b[0;34m,\u001b[0m \u001b[0my\u001b[0m\u001b[0;34m=\u001b[0m\u001b[0mcincoestados\u001b[0m\u001b[0;34m[\u001b[0m\u001b[0;34m'11 Rondônia'\u001b[0m\u001b[0;34m]\u001b[0m\u001b[0;34m,\u001b[0m\u001b[0mname\u001b[0m\u001b[0;34m=\u001b[0m\u001b[0;34m'Rondônia'\u001b[0m\u001b[0;34m)\u001b[0m\u001b[0;34m)\u001b[0m\u001b[0;34m\u001b[0m\u001b[0;34m\u001b[0m\u001b[0m\n\u001b[0m\u001b[1;32m      4\u001b[0m \u001b[0mfig\u001b[0m\u001b[0;34m.\u001b[0m\u001b[0madd_trace\u001b[0m\u001b[0;34m(\u001b[0m\u001b[0mgo\u001b[0m\u001b[0;34m.\u001b[0m\u001b[0mScatter\u001b[0m\u001b[0;34m(\u001b[0m\u001b[0mx\u001b[0m\u001b[0;34m=\u001b[0m\u001b[0mcincoestados\u001b[0m\u001b[0;34m.\u001b[0m\u001b[0mindex\u001b[0m\u001b[0;34m,\u001b[0m \u001b[0my\u001b[0m\u001b[0;34m=\u001b[0m\u001b[0mcincoestados\u001b[0m\u001b[0;34m[\u001b[0m\u001b[0;34m'12 Acre'\u001b[0m\u001b[0;34m]\u001b[0m\u001b[0;34m,\u001b[0m\u001b[0mname\u001b[0m\u001b[0;34m=\u001b[0m\u001b[0;34m'Acre'\u001b[0m\u001b[0;34m)\u001b[0m\u001b[0;34m)\u001b[0m\u001b[0;34m\u001b[0m\u001b[0;34m\u001b[0m\u001b[0m\n\u001b[1;32m      5\u001b[0m \u001b[0mfig\u001b[0m\u001b[0;34m.\u001b[0m\u001b[0madd_trace\u001b[0m\u001b[0;34m(\u001b[0m\u001b[0mgo\u001b[0m\u001b[0;34m.\u001b[0m\u001b[0mScatter\u001b[0m\u001b[0;34m(\u001b[0m\u001b[0mx\u001b[0m\u001b[0;34m=\u001b[0m\u001b[0mcincoestados\u001b[0m\u001b[0;34m.\u001b[0m\u001b[0mindex\u001b[0m\u001b[0;34m,\u001b[0m \u001b[0my\u001b[0m\u001b[0;34m=\u001b[0m\u001b[0mcincoestados\u001b[0m\u001b[0;34m[\u001b[0m\u001b[0;34m'13 Amazonas'\u001b[0m\u001b[0;34m]\u001b[0m\u001b[0;34m,\u001b[0m\u001b[0mname\u001b[0m\u001b[0;34m=\u001b[0m\u001b[0;34m'Amazonas'\u001b[0m\u001b[0;34m)\u001b[0m\u001b[0;34m)\u001b[0m\u001b[0;34m\u001b[0m\u001b[0;34m\u001b[0m\u001b[0m\n",
            "\u001b[0;31mNameError\u001b[0m: name 'cincoestados' is not defined"
          ]
        }
      ]
    },
    {
      "cell_type": "code",
      "metadata": {
        "id": "oU47G8X4B98I"
      },
      "source": [
        "fig2 = px.bar(x=gastos_do_ultimo_mes.index, \r\n",
        "              y=gastos_do_ultimo_mes,labels={'x':'Unidade da Federação','y':'Gastos'})\r\n",
        "\r\n",
        "fig2.show()"
      ],
      "execution_count": null,
      "outputs": []
    },
    {
      "cell_type": "code",
      "metadata": {
        "id": "glivN_KoCKam"
      },
      "source": [
        "#É possível salvar a imagem\r\n",
        "\r\n",
        "fig2.write_html('imagem.html')"
      ],
      "execution_count": null,
      "outputs": []
    },
    {
      "cell_type": "markdown",
      "metadata": {
        "id": "e31zeCJkEzdb"
      },
      "source": [
        "# Estilizar DataFrames com Pandas"
      ]
    },
    {
      "cell_type": "code",
      "metadata": {
        "id": "nAhsGDo8E5cm"
      },
      "source": [
        "import pandas as pd"
      ],
      "execution_count": 28,
      "outputs": []
    },
    {
      "cell_type": "code",
      "metadata": {
        "id": "_PsxRmNTE-po"
      },
      "source": [
        "carros = {'Marca': ['Honda Civic','Toyota Corolla','Ford Focus','Audi A4'],\r\n",
        "        'Preco': [22000,25000,27000,35000]\r\n",
        "         }"
      ],
      "execution_count": 29,
      "outputs": []
    },
    {
      "cell_type": "code",
      "metadata": {
        "id": "5jv1dYd2FCnI",
        "colab": {
          "base_uri": "https://localhost:8080/",
          "height": 166
        },
        "outputId": "7632aac3-2875-4a1c-a05b-523b6b03fbc4"
      },
      "source": [
        "dados = pd.DataFrame(carros)\r\n",
        "\r\n",
        "dados.head()"
      ],
      "execution_count": 30,
      "outputs": [
        {
          "output_type": "execute_result",
          "data": {
            "text/html": [
              "<div>\n",
              "<style scoped>\n",
              "    .dataframe tbody tr th:only-of-type {\n",
              "        vertical-align: middle;\n",
              "    }\n",
              "\n",
              "    .dataframe tbody tr th {\n",
              "        vertical-align: top;\n",
              "    }\n",
              "\n",
              "    .dataframe thead th {\n",
              "        text-align: right;\n",
              "    }\n",
              "</style>\n",
              "<table border=\"1\" class=\"dataframe\">\n",
              "  <thead>\n",
              "    <tr style=\"text-align: right;\">\n",
              "      <th></th>\n",
              "      <th>Marca</th>\n",
              "      <th>Preco</th>\n",
              "    </tr>\n",
              "  </thead>\n",
              "  <tbody>\n",
              "    <tr>\n",
              "      <th>0</th>\n",
              "      <td>Honda Civic</td>\n",
              "      <td>22000</td>\n",
              "    </tr>\n",
              "    <tr>\n",
              "      <th>1</th>\n",
              "      <td>Toyota Corolla</td>\n",
              "      <td>25000</td>\n",
              "    </tr>\n",
              "    <tr>\n",
              "      <th>2</th>\n",
              "      <td>Ford Focus</td>\n",
              "      <td>27000</td>\n",
              "    </tr>\n",
              "    <tr>\n",
              "      <th>3</th>\n",
              "      <td>Audi A4</td>\n",
              "      <td>35000</td>\n",
              "    </tr>\n",
              "  </tbody>\n",
              "</table>\n",
              "</div>"
            ],
            "text/plain": [
              "            Marca  Preco\n",
              "0     Honda Civic  22000\n",
              "1  Toyota Corolla  25000\n",
              "2      Ford Focus  27000\n",
              "3         Audi A4  35000"
            ]
          },
          "metadata": {
            "tags": []
          },
          "execution_count": 30
        }
      ]
    },
    {
      "cell_type": "code",
      "metadata": {
        "id": "RsWBQRXFFE3q",
        "colab": {
          "base_uri": "https://localhost:8080/",
          "height": 118
        },
        "outputId": "5460650e-e3b7-475d-f0a5-2fd9a738bc41"
      },
      "source": [
        "dados.style.set_properties(**{'background-color':'blue',\r\n",
        "                              'color':'white',\r\n",
        "                              'border-color':'black'\r\n",
        "                              })"
      ],
      "execution_count": 31,
      "outputs": [
        {
          "output_type": "execute_result",
          "data": {
            "text/html": [
              "<style  type=\"text/css\" >\n",
              "#T_5185179e_67d8_11eb_b665_0242ac1c0002row0_col0,#T_5185179e_67d8_11eb_b665_0242ac1c0002row0_col1,#T_5185179e_67d8_11eb_b665_0242ac1c0002row1_col0,#T_5185179e_67d8_11eb_b665_0242ac1c0002row1_col1,#T_5185179e_67d8_11eb_b665_0242ac1c0002row2_col0,#T_5185179e_67d8_11eb_b665_0242ac1c0002row2_col1,#T_5185179e_67d8_11eb_b665_0242ac1c0002row3_col0,#T_5185179e_67d8_11eb_b665_0242ac1c0002row3_col1{\n",
              "            background-color:  blue;\n",
              "            color:  white;\n",
              "            border-color:  black;\n",
              "        }</style><table id=\"T_5185179e_67d8_11eb_b665_0242ac1c0002\" ><thead>    <tr>        <th class=\"blank level0\" ></th>        <th class=\"col_heading level0 col0\" >Marca</th>        <th class=\"col_heading level0 col1\" >Preco</th>    </tr></thead><tbody>\n",
              "                <tr>\n",
              "                        <th id=\"T_5185179e_67d8_11eb_b665_0242ac1c0002level0_row0\" class=\"row_heading level0 row0\" >0</th>\n",
              "                        <td id=\"T_5185179e_67d8_11eb_b665_0242ac1c0002row0_col0\" class=\"data row0 col0\" >Honda Civic</td>\n",
              "                        <td id=\"T_5185179e_67d8_11eb_b665_0242ac1c0002row0_col1\" class=\"data row0 col1\" >22000</td>\n",
              "            </tr>\n",
              "            <tr>\n",
              "                        <th id=\"T_5185179e_67d8_11eb_b665_0242ac1c0002level0_row1\" class=\"row_heading level0 row1\" >1</th>\n",
              "                        <td id=\"T_5185179e_67d8_11eb_b665_0242ac1c0002row1_col0\" class=\"data row1 col0\" >Toyota Corolla</td>\n",
              "                        <td id=\"T_5185179e_67d8_11eb_b665_0242ac1c0002row1_col1\" class=\"data row1 col1\" >25000</td>\n",
              "            </tr>\n",
              "            <tr>\n",
              "                        <th id=\"T_5185179e_67d8_11eb_b665_0242ac1c0002level0_row2\" class=\"row_heading level0 row2\" >2</th>\n",
              "                        <td id=\"T_5185179e_67d8_11eb_b665_0242ac1c0002row2_col0\" class=\"data row2 col0\" >Ford Focus</td>\n",
              "                        <td id=\"T_5185179e_67d8_11eb_b665_0242ac1c0002row2_col1\" class=\"data row2 col1\" >27000</td>\n",
              "            </tr>\n",
              "            <tr>\n",
              "                        <th id=\"T_5185179e_67d8_11eb_b665_0242ac1c0002level0_row3\" class=\"row_heading level0 row3\" >3</th>\n",
              "                        <td id=\"T_5185179e_67d8_11eb_b665_0242ac1c0002row3_col0\" class=\"data row3 col0\" >Audi A4</td>\n",
              "                        <td id=\"T_5185179e_67d8_11eb_b665_0242ac1c0002row3_col1\" class=\"data row3 col1\" >35000</td>\n",
              "            </tr>\n",
              "    </tbody></table>"
            ],
            "text/plain": [
              "<pandas.io.formats.style.Styler at 0x7f9140b91f60>"
            ]
          },
          "metadata": {
            "tags": []
          },
          "execution_count": 31
        }
      ]
    },
    {
      "cell_type": "code",
      "metadata": {
        "id": "OxmZSyfPFSLf"
      },
      "source": [
        "def cor_orcamento(val):\r\n",
        "\r\n",
        "  if val <= 25000:\r\n",
        "    color = 'red'\r\n",
        "  else:\r\n",
        "    color = 'black'\r\n",
        "\r\n",
        "  return 'color: %s' % color"
      ],
      "execution_count": 32,
      "outputs": []
    },
    {
      "cell_type": "code",
      "metadata": {
        "id": "Vx8FNOVwFe9L",
        "colab": {
          "base_uri": "https://localhost:8080/",
          "height": 118
        },
        "outputId": "3d77864a-b656-453f-afbb-5369d9c9f4db"
      },
      "source": [
        "dados.style.applymap(cor_orcamento, subset = 'Preco')"
      ],
      "execution_count": 33,
      "outputs": [
        {
          "output_type": "execute_result",
          "data": {
            "text/html": [
              "<style  type=\"text/css\" >\n",
              "#T_64f00dd4_67d8_11eb_b665_0242ac1c0002row0_col1,#T_64f00dd4_67d8_11eb_b665_0242ac1c0002row1_col1{\n",
              "            color:  red;\n",
              "        }#T_64f00dd4_67d8_11eb_b665_0242ac1c0002row2_col1,#T_64f00dd4_67d8_11eb_b665_0242ac1c0002row3_col1{\n",
              "            color:  black;\n",
              "        }</style><table id=\"T_64f00dd4_67d8_11eb_b665_0242ac1c0002\" ><thead>    <tr>        <th class=\"blank level0\" ></th>        <th class=\"col_heading level0 col0\" >Marca</th>        <th class=\"col_heading level0 col1\" >Preco</th>    </tr></thead><tbody>\n",
              "                <tr>\n",
              "                        <th id=\"T_64f00dd4_67d8_11eb_b665_0242ac1c0002level0_row0\" class=\"row_heading level0 row0\" >0</th>\n",
              "                        <td id=\"T_64f00dd4_67d8_11eb_b665_0242ac1c0002row0_col0\" class=\"data row0 col0\" >Honda Civic</td>\n",
              "                        <td id=\"T_64f00dd4_67d8_11eb_b665_0242ac1c0002row0_col1\" class=\"data row0 col1\" >22000</td>\n",
              "            </tr>\n",
              "            <tr>\n",
              "                        <th id=\"T_64f00dd4_67d8_11eb_b665_0242ac1c0002level0_row1\" class=\"row_heading level0 row1\" >1</th>\n",
              "                        <td id=\"T_64f00dd4_67d8_11eb_b665_0242ac1c0002row1_col0\" class=\"data row1 col0\" >Toyota Corolla</td>\n",
              "                        <td id=\"T_64f00dd4_67d8_11eb_b665_0242ac1c0002row1_col1\" class=\"data row1 col1\" >25000</td>\n",
              "            </tr>\n",
              "            <tr>\n",
              "                        <th id=\"T_64f00dd4_67d8_11eb_b665_0242ac1c0002level0_row2\" class=\"row_heading level0 row2\" >2</th>\n",
              "                        <td id=\"T_64f00dd4_67d8_11eb_b665_0242ac1c0002row2_col0\" class=\"data row2 col0\" >Ford Focus</td>\n",
              "                        <td id=\"T_64f00dd4_67d8_11eb_b665_0242ac1c0002row2_col1\" class=\"data row2 col1\" >27000</td>\n",
              "            </tr>\n",
              "            <tr>\n",
              "                        <th id=\"T_64f00dd4_67d8_11eb_b665_0242ac1c0002level0_row3\" class=\"row_heading level0 row3\" >3</th>\n",
              "                        <td id=\"T_64f00dd4_67d8_11eb_b665_0242ac1c0002row3_col0\" class=\"data row3 col0\" >Audi A4</td>\n",
              "                        <td id=\"T_64f00dd4_67d8_11eb_b665_0242ac1c0002row3_col1\" class=\"data row3 col1\" >35000</td>\n",
              "            </tr>\n",
              "    </tbody></table>"
            ],
            "text/plain": [
              "<pandas.io.formats.style.Styler at 0x7f9140861a20>"
            ]
          },
          "metadata": {
            "tags": []
          },
          "execution_count": 33
        }
      ]
    },
    {
      "cell_type": "code",
      "metadata": {
        "id": "P5sZLZS4Fijj"
      },
      "source": [
        "#Podemos salvar o resultado em um arquivo excel\r\n",
        "\r\n",
        "dados.style.applymap(cor_orcamento, subset = 'Preco').to_excel(\"estilizado.xlsx\", engine = 'openpyxl')\r\n",
        "\r\n",
        "#Pode-se notar nos arquivos sample_data do colab que o arquivo foi criado"
      ],
      "execution_count": null,
      "outputs": []
    },
    {
      "cell_type": "markdown",
      "metadata": {
        "id": "_IcgS1xCadHU"
      },
      "source": [
        "# Intervalo de confiança e População e Amostra"
      ]
    },
    {
      "cell_type": "code",
      "metadata": {
        "id": "ueTKKjRZahUG"
      },
      "source": [
        "url = 'https://raw.githubusercontent.com/allanspadini/linear_estatistica/main/winequality-red.csv'"
      ],
      "execution_count": 34,
      "outputs": []
    },
    {
      "cell_type": "markdown",
      "metadata": {
        "id": "GqvR9Bx9d2Dy"
      },
      "source": [
        "https://archive.ics.uci.edu/ml/datasets/Wine\r\n",
        "\r\n",
        "P. Cortez, A. Cerdeira, F. Almeida, T. Matos and J. Reis.\r\n",
        "Modeling wine preferences by data mining from physicochemical properties. In Decision Support Systems, Elsevier, 47(4):547-553, 2009."
      ]
    },
    {
      "cell_type": "code",
      "metadata": {
        "id": "x0NhJiSod3A5"
      },
      "source": [
        "import pandas as pd"
      ],
      "execution_count": 35,
      "outputs": []
    },
    {
      "cell_type": "code",
      "metadata": {
        "id": "yOm_Gl3Md4CL"
      },
      "source": [
        "vinho = pd.read_csv(url, sep = ';')"
      ],
      "execution_count": 36,
      "outputs": []
    },
    {
      "cell_type": "code",
      "metadata": {
        "colab": {
          "base_uri": "https://localhost:8080/",
          "height": 195
        },
        "id": "pRgM-YW2d83D",
        "outputId": "6e2bb1de-8877-4995-ab78-c8aadd22e2a9"
      },
      "source": [
        "vinho.head()"
      ],
      "execution_count": 37,
      "outputs": [
        {
          "output_type": "execute_result",
          "data": {
            "text/html": [
              "<div>\n",
              "<style scoped>\n",
              "    .dataframe tbody tr th:only-of-type {\n",
              "        vertical-align: middle;\n",
              "    }\n",
              "\n",
              "    .dataframe tbody tr th {\n",
              "        vertical-align: top;\n",
              "    }\n",
              "\n",
              "    .dataframe thead th {\n",
              "        text-align: right;\n",
              "    }\n",
              "</style>\n",
              "<table border=\"1\" class=\"dataframe\">\n",
              "  <thead>\n",
              "    <tr style=\"text-align: right;\">\n",
              "      <th></th>\n",
              "      <th>fixed acidity</th>\n",
              "      <th>volatile acidity</th>\n",
              "      <th>citric acid</th>\n",
              "      <th>residual sugar</th>\n",
              "      <th>chlorides</th>\n",
              "      <th>free sulfur dioxide</th>\n",
              "      <th>total sulfur dioxide</th>\n",
              "      <th>density</th>\n",
              "      <th>pH</th>\n",
              "      <th>sulphates</th>\n",
              "      <th>alcohol</th>\n",
              "      <th>quality</th>\n",
              "    </tr>\n",
              "  </thead>\n",
              "  <tbody>\n",
              "    <tr>\n",
              "      <th>0</th>\n",
              "      <td>7.4</td>\n",
              "      <td>0.70</td>\n",
              "      <td>0.00</td>\n",
              "      <td>1.9</td>\n",
              "      <td>0.076</td>\n",
              "      <td>11.0</td>\n",
              "      <td>34.0</td>\n",
              "      <td>0.9978</td>\n",
              "      <td>3.51</td>\n",
              "      <td>0.56</td>\n",
              "      <td>9.4</td>\n",
              "      <td>5</td>\n",
              "    </tr>\n",
              "    <tr>\n",
              "      <th>1</th>\n",
              "      <td>7.8</td>\n",
              "      <td>0.88</td>\n",
              "      <td>0.00</td>\n",
              "      <td>2.6</td>\n",
              "      <td>0.098</td>\n",
              "      <td>25.0</td>\n",
              "      <td>67.0</td>\n",
              "      <td>0.9968</td>\n",
              "      <td>3.20</td>\n",
              "      <td>0.68</td>\n",
              "      <td>9.8</td>\n",
              "      <td>5</td>\n",
              "    </tr>\n",
              "    <tr>\n",
              "      <th>2</th>\n",
              "      <td>7.8</td>\n",
              "      <td>0.76</td>\n",
              "      <td>0.04</td>\n",
              "      <td>2.3</td>\n",
              "      <td>0.092</td>\n",
              "      <td>15.0</td>\n",
              "      <td>54.0</td>\n",
              "      <td>0.9970</td>\n",
              "      <td>3.26</td>\n",
              "      <td>0.65</td>\n",
              "      <td>9.8</td>\n",
              "      <td>5</td>\n",
              "    </tr>\n",
              "    <tr>\n",
              "      <th>3</th>\n",
              "      <td>11.2</td>\n",
              "      <td>0.28</td>\n",
              "      <td>0.56</td>\n",
              "      <td>1.9</td>\n",
              "      <td>0.075</td>\n",
              "      <td>17.0</td>\n",
              "      <td>60.0</td>\n",
              "      <td>0.9980</td>\n",
              "      <td>3.16</td>\n",
              "      <td>0.58</td>\n",
              "      <td>9.8</td>\n",
              "      <td>6</td>\n",
              "    </tr>\n",
              "    <tr>\n",
              "      <th>4</th>\n",
              "      <td>7.4</td>\n",
              "      <td>0.70</td>\n",
              "      <td>0.00</td>\n",
              "      <td>1.9</td>\n",
              "      <td>0.076</td>\n",
              "      <td>11.0</td>\n",
              "      <td>34.0</td>\n",
              "      <td>0.9978</td>\n",
              "      <td>3.51</td>\n",
              "      <td>0.56</td>\n",
              "      <td>9.4</td>\n",
              "      <td>5</td>\n",
              "    </tr>\n",
              "  </tbody>\n",
              "</table>\n",
              "</div>"
            ],
            "text/plain": [
              "   fixed acidity  volatile acidity  citric acid  ...  sulphates  alcohol  quality\n",
              "0            7.4              0.70         0.00  ...       0.56      9.4        5\n",
              "1            7.8              0.88         0.00  ...       0.68      9.8        5\n",
              "2            7.8              0.76         0.04  ...       0.65      9.8        5\n",
              "3           11.2              0.28         0.56  ...       0.58      9.8        6\n",
              "4            7.4              0.70         0.00  ...       0.56      9.4        5\n",
              "\n",
              "[5 rows x 12 columns]"
            ]
          },
          "metadata": {
            "tags": []
          },
          "execution_count": 37
        }
      ]
    },
    {
      "cell_type": "code",
      "metadata": {
        "colab": {
          "base_uri": "https://localhost:8080/"
        },
        "id": "vNOqbjTpd-xl",
        "outputId": "60855dd3-b1be-4a4e-8a67-50b717643d94"
      },
      "source": [
        "#Olhando quantas amostras temos\r\n",
        "\r\n",
        "vinho.shape"
      ],
      "execution_count": 38,
      "outputs": [
        {
          "output_type": "execute_result",
          "data": {
            "text/plain": [
              "(1599, 12)"
            ]
          },
          "metadata": {
            "tags": []
          },
          "execution_count": 38
        }
      ]
    },
    {
      "cell_type": "markdown",
      "metadata": {
        "id": "zQSRV-gleAjh"
      },
      "source": [
        "## Qual a chance da nossa amostra retratar a realidade?"
      ]
    },
    {
      "cell_type": "markdown",
      "metadata": {
        "id": "xXWHqxCYeCo9"
      },
      "source": [
        "O **nível de confiança** ($1 - \\alpha$) representa a probabilidade de acerto da estimativa. De forma complementar o **nível de significância** ($\\alpha$) expressa a probabilidade de erro da estimativa.\r\n",
        "\r\n",
        "O **nível de confiança** representa o grau de confiabilidade do resultado da estimativa estar dentro de determinado intervalo. Quando fixamos em uma pesquisa um **nível de confiança** de 95%, por exemplo, estamos assumindo que existe uma probabilidade de 95% dos resultados da pesquisa representarem bem a realidade, ou seja, estarem corretos.\r\n",
        "\r\n",
        "O **nível de confiança** de uma estimativa pode ser obtido a partir da área sob a curva normal como ilustrado na figura abaixo."
      ]
    },
    {
      "cell_type": "markdown",
      "metadata": {
        "id": "FncEyIIieD7p"
      },
      "source": [
        "![alt text](https://caelum-online-public.s3.amazonaws.com/1178-estatistica-parte2/01/img007.png)"
      ]
    },
    {
      "cell_type": "markdown",
      "metadata": {
        "id": "XhtKbG8KeFTY"
      },
      "source": [
        "## Erro inferencial"
      ]
    },
    {
      "cell_type": "markdown",
      "metadata": {
        "id": "YR72zXjkeG21"
      },
      "source": [
        "O **erro inferencial** é definido pelo **desvio padrão das médias amostrais** $\\sigma_\\bar{x}$ e pelo **nível de confiança** determinado para o processo."
      ]
    },
    {
      "cell_type": "markdown",
      "metadata": {
        "id": "m0Tfz7SZeH9_"
      },
      "source": [
        "## $$e = z \\frac{\\sigma}{\\sqrt{n}}$$"
      ]
    },
    {
      "cell_type": "markdown",
      "metadata": {
        "id": "BESfwENQeJM4"
      },
      "source": [
        "Suponha que a densidade do vinho se distribui aproximadamente como uma normal. Calcule o desvio padrão e a média de uma amostra de 1000 elementos. Construa um intervalo de confiança para a média populacional assumindo um **nível de significância de 5%**."
      ]
    },
    {
      "cell_type": "code",
      "metadata": {
        "id": "PXpiUEddeKEM"
      },
      "source": [
        "#Definindo uma amostra com n = 1000 e uma seed random_state = 202\r\n",
        "\r\n",
        "amostra = vinho.sample(n = 1000, random_state = 202)"
      ],
      "execution_count": 39,
      "outputs": []
    },
    {
      "cell_type": "code",
      "metadata": {
        "id": "JFfjxNMzeNV4",
        "outputId": "a4d84d20-f8e0-457e-8385-bb7f385e0373",
        "colab": {
          "base_uri": "https://localhost:8080/"
        }
      },
      "source": [
        "desvio_padrao = amostra['density'].std()\r\n",
        "desvio_padrao"
      ],
      "execution_count": 42,
      "outputs": [
        {
          "output_type": "execute_result",
          "data": {
            "text/plain": [
              "0.0018428889588943806"
            ]
          },
          "metadata": {
            "tags": []
          },
          "execution_count": 42
        }
      ]
    },
    {
      "cell_type": "code",
      "metadata": {
        "colab": {
          "base_uri": "https://localhost:8080/",
          "height": 282
        },
        "id": "l7Q-dxgheRLg",
        "outputId": "41856ace-59f9-474f-e75e-1434ca231c41"
      },
      "source": [
        "amostra['density'].hist()"
      ],
      "execution_count": 41,
      "outputs": [
        {
          "output_type": "execute_result",
          "data": {
            "text/plain": [
              "<matplotlib.axes._subplots.AxesSubplot at 0x7f91408016a0>"
            ]
          },
          "metadata": {
            "tags": []
          },
          "execution_count": 41
        },
        {
          "output_type": "display_data",
          "data": {
            "image/png": "[encoded data removed]",
            "text/plain": [
              "<Figure size 432x288 with 1 Axes>"
            ]
          },
          "metadata": {
            "tags": [],
            "needs_background": "light"
          }
        }
      ]
    },
    {
      "cell_type": "code",
      "metadata": {
        "id": "w6Tkwq5ieUAo"
      },
      "source": [
        "significancia = 0.05"
      ],
      "execution_count": 43,
      "outputs": []
    },
    {
      "cell_type": "code",
      "metadata": {
        "id": "flutWmrOeVzq",
        "outputId": "d4f1d6e5-70ed-431c-e0df-f74ea9e62e01",
        "colab": {
          "base_uri": "https://localhost:8080/"
        }
      },
      "source": [
        "confianca = 1 - significancia\r\n",
        "confianca"
      ],
      "execution_count": 45,
      "outputs": [
        {
          "output_type": "execute_result",
          "data": {
            "text/plain": [
              "0.95"
            ]
          },
          "metadata": {
            "tags": []
          },
          "execution_count": 45
        }
      ]
    },
    {
      "cell_type": "code",
      "metadata": {
        "id": "oKjFyW_WnZKT"
      },
      "source": [
        "n = 1000"
      ],
      "execution_count": 46,
      "outputs": []
    },
    {
      "cell_type": "markdown",
      "metadata": {
        "id": "n2gZ7SQxeYk-"
      },
      "source": [
        "### Obtendo z - Tabela normal padronizada.\r\n",
        "\r\n",
        "![alt text](https://caelum-online-public.s3.amazonaws.com/1178-estatistica-parte2/01/img008.png)\r\n",
        "\r\n",
        "### Valores de $z$ para os níveis de confiança mais utilizados\r\n",
        "\r\n",
        "|Nível de<br>confiança|Valor da área sob<br>a curva normal| $z$ |\r\n",
        "|:----------------:|:---------------------------------:|:---:|\r\n",
        "|90%               |0,95                               |1,645|\r\n",
        "|95%               |0,975                              |1,96 |\r\n",
        "|99%               |0,995                              |2,575|"
      ]
    },
    {
      "cell_type": "code",
      "metadata": {
        "id": "Z32w3KwLneBO"
      },
      "source": [
        "#Importando a numpy para fazer a raiz quadrada\r\n",
        "\r\n",
        "import numpy as np"
      ],
      "execution_count": 47,
      "outputs": []
    },
    {
      "cell_type": "code",
      "metadata": {
        "id": "QvoSsCSRngXR"
      },
      "source": [
        "sigma = desvio_padrao / np.sqrt(n)"
      ],
      "execution_count": 48,
      "outputs": []
    },
    {
      "cell_type": "markdown",
      "metadata": {
        "id": "dMn1oVMDnsxL"
      },
      "source": [
        "obtendo o $e$"
      ]
    },
    {
      "cell_type": "code",
      "metadata": {
        "id": "yuLV34uCnvEP"
      },
      "source": [
        "z = 1.96"
      ],
      "execution_count": 50,
      "outputs": []
    },
    {
      "cell_type": "code",
      "metadata": {
        "id": "pRMYEdSLnyHn"
      },
      "source": [
        "erro = z * sigma"
      ],
      "execution_count": 51,
      "outputs": []
    },
    {
      "cell_type": "code",
      "metadata": {
        "colab": {
          "base_uri": "https://localhost:8080/"
        },
        "id": "sIokLOhmn09u",
        "outputId": "a0b00bbd-aba7-43c5-f6f9-96a154cc06ca"
      },
      "source": [
        "erro"
      ],
      "execution_count": 52,
      "outputs": [
        {
          "output_type": "execute_result",
          "data": {
            "text/plain": [
              "0.00011422344106370019"
            ]
          },
          "metadata": {
            "tags": []
          },
          "execution_count": 52
        }
      ]
    },
    {
      "cell_type": "markdown",
      "metadata": {
        "id": "YN0sVa9UefGp"
      },
      "source": [
        "### Calculando o intervalo de confiança"
      ]
    },
    {
      "cell_type": "code",
      "metadata": {
        "id": "L0wBCkk3efvF"
      },
      "source": [
        "media_amostra = amostra['density'].mean()"
      ],
      "execution_count": 53,
      "outputs": []
    },
    {
      "cell_type": "code",
      "metadata": {
        "id": "LNiO-uYjeiWA"
      },
      "source": [
        "intervalo = [media_amostra - erro, media_amostra + erro]"
      ],
      "execution_count": 54,
      "outputs": []
    },
    {
      "cell_type": "code",
      "metadata": {
        "colab": {
          "base_uri": "https://localhost:8080/"
        },
        "id": "fgi77sdpem0i",
        "outputId": "35e0f4c2-c941-46de-8817-04d725db6a46"
      },
      "source": [
        "intervalo"
      ],
      "execution_count": 55,
      "outputs": [
        {
          "output_type": "execute_result",
          "data": {
            "text/plain": [
              "[0.9965902065589372, 0.9968186534410646]"
            ]
          },
          "metadata": {
            "tags": []
          },
          "execution_count": 55
        }
      ]
    },
    {
      "cell_type": "code",
      "metadata": {
        "id": "-ZECYU9ZensB"
      },
      "source": [
        "#Forma alternativa utilizando a scipy com a norm para calcular no intervalo\r\n",
        "\r\n",
        "from scipy.stats import norm"
      ],
      "execution_count": 57,
      "outputs": []
    },
    {
      "cell_type": "code",
      "metadata": {
        "colab": {
          "base_uri": "https://localhost:8080/"
        },
        "id": "9zOay0i8epGQ",
        "outputId": "f58e883e-a907-490d-f318-10c809158d8a"
      },
      "source": [
        "norm.interval(alpha = 0.95, loc = media_amostra, scale = sigma)"
      ],
      "execution_count": 59,
      "outputs": [
        {
          "output_type": "execute_result",
          "data": {
            "text/plain": [
              "(0.9965902086578197, 0.9968186513421821)"
            ]
          },
          "metadata": {
            "tags": []
          },
          "execution_count": 59
        }
      ]
    },
    {
      "cell_type": "markdown",
      "metadata": {
        "id": "UsvszGfqevWG"
      },
      "source": [
        "## Calculando o tamanho da amostra"
      ]
    },
    {
      "cell_type": "markdown",
      "metadata": {
        "id": "PbMRG519ew3w"
      },
      "source": [
        "Vamos assumir que queremos um erro máximo de 0.0001, nível de confiança de 95% e o desvio padrão populacional é 0.0019."
      ]
    },
    {
      "cell_type": "markdown",
      "metadata": {
        "id": "dajJFVazexuh"
      },
      "source": [
        "\\begin{equation}\r\n",
        "e = z \\frac{\\sigma}{\\sqrt{n}}\r\n",
        "\\end{equation}\r\n",
        "Com desvio padrão conhecido\r\n",
        "\\begin{equation}\r\n",
        "n = \\left( z \\frac{\\sigma}{e} \\right)^2\r\n",
        "\\end{equation}\r\n",
        "Com desvio padrão desconhecido\r\n",
        "\\begin{equation}\r\n",
        "n = \\left( z \\frac{s}{e} \\right)^2\r\n",
        "\\end{equation}\r\n"
      ]
    },
    {
      "cell_type": "code",
      "metadata": {
        "colab": {
          "base_uri": "https://localhost:8080/"
        },
        "id": "FQh_XL95eyuJ",
        "outputId": "b130d143-acc7-4047-c7c5-4abdb77e91bc"
      },
      "source": [
        "0.95 + 0.025"
      ],
      "execution_count": 60,
      "outputs": [
        {
          "output_type": "execute_result",
          "data": {
            "text/plain": [
              "0.975"
            ]
          },
          "metadata": {
            "tags": []
          },
          "execution_count": 60
        }
      ]
    },
    {
      "cell_type": "code",
      "metadata": {
        "id": "qPliMvRfe2DC"
      },
      "source": [
        "#Passamos a área debaixo da curva para o ppf que é de 0.95 + 0.025 (pedaço inicial)\r\n",
        "\r\n",
        "z = norm.ppf(0.975)"
      ],
      "execution_count": 62,
      "outputs": []
    },
    {
      "cell_type": "code",
      "metadata": {
        "id": "TJn8Ij2Ze4Nw"
      },
      "source": [
        "sigma = 0.0019"
      ],
      "execution_count": 63,
      "outputs": []
    },
    {
      "cell_type": "code",
      "metadata": {
        "id": "capLvqzVe5oo"
      },
      "source": [
        "erro = 0.0001"
      ],
      "execution_count": 64,
      "outputs": []
    },
    {
      "cell_type": "code",
      "metadata": {
        "id": "fAzjlS2ge6sy"
      },
      "source": [
        "n = (z*sigma / erro)**2"
      ],
      "execution_count": 65,
      "outputs": []
    },
    {
      "cell_type": "code",
      "metadata": {
        "colab": {
          "base_uri": "https://localhost:8080/"
        },
        "id": "akaZl3-Ie9c9",
        "outputId": "2a7423cf-671a-4de1-cd51-d5a78500ef40"
      },
      "source": [
        "n"
      ],
      "execution_count": 66,
      "outputs": [
        {
          "output_type": "execute_result",
          "data": {
            "text/plain": [
              "1386.766634270579"
            ]
          },
          "metadata": {
            "tags": []
          },
          "execution_count": 66
        }
      ]
    },
    {
      "cell_type": "markdown",
      "metadata": {
        "id": "oZFTjorNfAMG"
      },
      "source": [
        "## População finita\r\n",
        "\\begin{equation}\r\n",
        "n = \\frac{z^2 \\sigma^2 N}{z^2 \\sigma^2 + e^2(N-1)}\r\n",
        "\r\n",
        "\\end{equation}\r\n",
        "\r\n",
        "onde N = numero máximo da população"
      ]
    },
    {
      "cell_type": "code",
      "metadata": {
        "id": "uZPxBdNnfBCN"
      },
      "source": [
        "N = 1500"
      ],
      "execution_count": 67,
      "outputs": []
    },
    {
      "cell_type": "code",
      "metadata": {
        "colab": {
          "base_uri": "https://localhost:8080/"
        },
        "id": "D6TDrGNifC7U",
        "outputId": "a8db42d2-4165-4a63-9702-c7d21a7278d1"
      },
      "source": [
        "((z**2)*(sigma**2)*N) / ((z**2)*(sigma**2) + (erro**2)*(N-1))"
      ],
      "execution_count": 68,
      "outputs": [
        {
          "output_type": "execute_result",
          "data": {
            "text/plain": [
              "720.8309662682263"
            ]
          },
          "metadata": {
            "tags": []
          },
          "execution_count": 68
        }
      ]
    },
    {
      "cell_type": "markdown",
      "metadata": {
        "id": "DdyAPjuVtXUi"
      },
      "source": [
        "# Teste de Normalidade e Testes Estatísticos (Unicaudal, Bicaudal)"
      ]
    },
    {
      "cell_type": "code",
      "metadata": {
        "id": "MtMWFwfytbgS"
      },
      "source": [
        "url = 'https://raw.githubusercontent.com/allanspadini/linear_estatistica/main/winequality-red.csv'"
      ],
      "execution_count": 69,
      "outputs": []
    },
    {
      "cell_type": "code",
      "metadata": {
        "id": "NNWuIqZItdRd"
      },
      "source": [
        "import pandas as pd"
      ],
      "execution_count": 70,
      "outputs": []
    },
    {
      "cell_type": "code",
      "metadata": {
        "id": "1hULus9ctekz"
      },
      "source": [
        "vinho = pd.read_csv(url, sep=';')"
      ],
      "execution_count": 71,
      "outputs": []
    },
    {
      "cell_type": "code",
      "metadata": {
        "colab": {
          "base_uri": "https://localhost:8080/",
          "height": 195
        },
        "id": "LqkysNhBtfJw",
        "outputId": "fa113af2-4764-40f1-bc42-727312009297"
      },
      "source": [
        "vinho.head()"
      ],
      "execution_count": 72,
      "outputs": [
        {
          "output_type": "execute_result",
          "data": {
            "text/html": [
              "<div>\n",
              "<style scoped>\n",
              "    .dataframe tbody tr th:only-of-type {\n",
              "        vertical-align: middle;\n",
              "    }\n",
              "\n",
              "    .dataframe tbody tr th {\n",
              "        vertical-align: top;\n",
              "    }\n",
              "\n",
              "    .dataframe thead th {\n",
              "        text-align: right;\n",
              "    }\n",
              "</style>\n",
              "<table border=\"1\" class=\"dataframe\">\n",
              "  <thead>\n",
              "    <tr style=\"text-align: right;\">\n",
              "      <th></th>\n",
              "      <th>fixed acidity</th>\n",
              "      <th>volatile acidity</th>\n",
              "      <th>citric acid</th>\n",
              "      <th>residual sugar</th>\n",
              "      <th>chlorides</th>\n",
              "      <th>free sulfur dioxide</th>\n",
              "      <th>total sulfur dioxide</th>\n",
              "      <th>density</th>\n",
              "      <th>pH</th>\n",
              "      <th>sulphates</th>\n",
              "      <th>alcohol</th>\n",
              "      <th>quality</th>\n",
              "    </tr>\n",
              "  </thead>\n",
              "  <tbody>\n",
              "    <tr>\n",
              "      <th>0</th>\n",
              "      <td>7.4</td>\n",
              "      <td>0.70</td>\n",
              "      <td>0.00</td>\n",
              "      <td>1.9</td>\n",
              "      <td>0.076</td>\n",
              "      <td>11.0</td>\n",
              "      <td>34.0</td>\n",
              "      <td>0.9978</td>\n",
              "      <td>3.51</td>\n",
              "      <td>0.56</td>\n",
              "      <td>9.4</td>\n",
              "      <td>5</td>\n",
              "    </tr>\n",
              "    <tr>\n",
              "      <th>1</th>\n",
              "      <td>7.8</td>\n",
              "      <td>0.88</td>\n",
              "      <td>0.00</td>\n",
              "      <td>2.6</td>\n",
              "      <td>0.098</td>\n",
              "      <td>25.0</td>\n",
              "      <td>67.0</td>\n",
              "      <td>0.9968</td>\n",
              "      <td>3.20</td>\n",
              "      <td>0.68</td>\n",
              "      <td>9.8</td>\n",
              "      <td>5</td>\n",
              "    </tr>\n",
              "    <tr>\n",
              "      <th>2</th>\n",
              "      <td>7.8</td>\n",
              "      <td>0.76</td>\n",
              "      <td>0.04</td>\n",
              "      <td>2.3</td>\n",
              "      <td>0.092</td>\n",
              "      <td>15.0</td>\n",
              "      <td>54.0</td>\n",
              "      <td>0.9970</td>\n",
              "      <td>3.26</td>\n",
              "      <td>0.65</td>\n",
              "      <td>9.8</td>\n",
              "      <td>5</td>\n",
              "    </tr>\n",
              "    <tr>\n",
              "      <th>3</th>\n",
              "      <td>11.2</td>\n",
              "      <td>0.28</td>\n",
              "      <td>0.56</td>\n",
              "      <td>1.9</td>\n",
              "      <td>0.075</td>\n",
              "      <td>17.0</td>\n",
              "      <td>60.0</td>\n",
              "      <td>0.9980</td>\n",
              "      <td>3.16</td>\n",
              "      <td>0.58</td>\n",
              "      <td>9.8</td>\n",
              "      <td>6</td>\n",
              "    </tr>\n",
              "    <tr>\n",
              "      <th>4</th>\n",
              "      <td>7.4</td>\n",
              "      <td>0.70</td>\n",
              "      <td>0.00</td>\n",
              "      <td>1.9</td>\n",
              "      <td>0.076</td>\n",
              "      <td>11.0</td>\n",
              "      <td>34.0</td>\n",
              "      <td>0.9978</td>\n",
              "      <td>3.51</td>\n",
              "      <td>0.56</td>\n",
              "      <td>9.4</td>\n",
              "      <td>5</td>\n",
              "    </tr>\n",
              "  </tbody>\n",
              "</table>\n",
              "</div>"
            ],
            "text/plain": [
              "   fixed acidity  volatile acidity  citric acid  ...  sulphates  alcohol  quality\n",
              "0            7.4              0.70         0.00  ...       0.56      9.4        5\n",
              "1            7.8              0.88         0.00  ...       0.68      9.8        5\n",
              "2            7.8              0.76         0.04  ...       0.65      9.8        5\n",
              "3           11.2              0.28         0.56  ...       0.58      9.8        6\n",
              "4            7.4              0.70         0.00  ...       0.56      9.4        5\n",
              "\n",
              "[5 rows x 12 columns]"
            ]
          },
          "metadata": {
            "tags": []
          },
          "execution_count": 72
        }
      ]
    },
    {
      "cell_type": "markdown",
      "metadata": {
        "id": "IQg80dMOtf4B"
      },
      "source": [
        "## Teste de normalidade"
      ]
    },
    {
      "cell_type": "code",
      "metadata": {
        "colab": {
          "base_uri": "https://localhost:8080/",
          "height": 282
        },
        "id": "V7_ou0nRtiws",
        "outputId": "2bf42803-6a10-4f46-ca94-53bff6a0303a"
      },
      "source": [
        "vinho['density'].hist(bins=50)"
      ],
      "execution_count": 73,
      "outputs": [
        {
          "output_type": "execute_result",
          "data": {
            "text/plain": [
              "<matplotlib.axes._subplots.AxesSubplot at 0x7f9140365940>"
            ]
          },
          "metadata": {
            "tags": []
          },
          "execution_count": 73
        },
        {
          "output_type": "display_data",
          "data": {
            "image/png": "[encoded data removed]",
            "text/plain": [
              "<Figure size 432x288 with 1 Axes>"
            ]
          },
          "metadata": {
            "tags": [],
            "needs_background": "light"
          }
        }
      ]
    },
    {
      "cell_type": "code",
      "metadata": {
        "id": "stQSoIEWtjtc"
      },
      "source": [
        "from scipy.stats import normaltest"
      ],
      "execution_count": 74,
      "outputs": []
    },
    {
      "cell_type": "markdown",
      "metadata": {
        "id": "YnrPJ9TJtk37"
      },
      "source": [
        "O normaltest testa a hipótese nula $H_0$ de que a amostra é proveniente de uma distribuição normal. "
      ]
    },
    {
      "cell_type": "markdown",
      "metadata": {
        "id": "Vt2L9yqqtqXI"
      },
      "source": [
        "### Significância ($\\alpha$)"
      ]
    },
    {
      "cell_type": "code",
      "metadata": {
        "id": "98ULvTJZtotZ"
      },
      "source": [
        "significancia = 0.05"
      ],
      "execution_count": null,
      "outputs": []
    },
    {
      "cell_type": "markdown",
      "metadata": {
        "id": "t7Wckl5ktslU"
      },
      "source": [
        "### Rejeitamos $H_0$ se o valor $p \\leq 0,05$ e aceitamos a hipótese alternativa $H_1$"
      ]
    },
    {
      "cell_type": "code",
      "metadata": {
        "id": "BtTub-3htvJ_"
      },
      "source": [
        "stat_test, p_valor= normaltest(vinho['density'])"
      ],
      "execution_count": 75,
      "outputs": []
    },
    {
      "cell_type": "code",
      "metadata": {
        "colab": {
          "base_uri": "https://localhost:8080/"
        },
        "id": "Wt3uUyJStwQ0",
        "outputId": "c2fbeaad-ff8e-4da1-8692-25cea68f9505"
      },
      "source": [
        "stat_test"
      ],
      "execution_count": 76,
      "outputs": [
        {
          "output_type": "execute_result",
          "data": {
            "text/plain": [
              "30.707749940958617"
            ]
          },
          "metadata": {
            "tags": []
          },
          "execution_count": 76
        }
      ]
    },
    {
      "cell_type": "code",
      "metadata": {
        "colab": {
          "base_uri": "https://localhost:8080/"
        },
        "id": "gli34RRWtxVr",
        "outputId": "9b1db8c1-91e2-44c4-ceb5-7dc31e80260b"
      },
      "source": [
        "p_valor <= significancia\r\n",
        "\r\n",
        "#Logo, rejeitamos H0 (hipótese), então, nossa distribuição não é considerada normal"
      ],
      "execution_count": 77,
      "outputs": [
        {
          "output_type": "execute_result",
          "data": {
            "text/plain": [
              "True"
            ]
          },
          "metadata": {
            "tags": []
          },
          "execution_count": 77
        }
      ]
    },
    {
      "cell_type": "code",
      "metadata": {
        "id": "YqF2zJn7tyPH"
      },
      "source": [
        "#Criando uma distribuição normal para efeitos de comparação\r\n",
        "\r\n",
        "import numpy as np"
      ],
      "execution_count": 78,
      "outputs": []
    },
    {
      "cell_type": "code",
      "metadata": {
        "id": "M3x-HSCgty6G"
      },
      "source": [
        "media, escala = 0, 0.1"
      ],
      "execution_count": 79,
      "outputs": []
    },
    {
      "cell_type": "code",
      "metadata": {
        "id": "-au3PRz9tzmw"
      },
      "source": [
        "dist_normal = np.random.normal(media, escala, 1000)"
      ],
      "execution_count": 80,
      "outputs": []
    },
    {
      "cell_type": "code",
      "metadata": {
        "colab": {
          "base_uri": "https://localhost:8080/"
        },
        "id": "l8MjBxHgt0Ph",
        "outputId": "8c3c404d-84f8-43ac-cf26-d64c36fb049b"
      },
      "source": [
        "normaltest(dist_normal)\r\n",
        "\r\n",
        "#Note que neste caso, H0 é maior que 0.05"
      ],
      "execution_count": 81,
      "outputs": [
        {
          "output_type": "execute_result",
          "data": {
            "text/plain": [
              "NormaltestResult(statistic=1.1153082789074604, pvalue=0.5725506135844483)"
            ]
          },
          "metadata": {
            "tags": []
          },
          "execution_count": 81
        }
      ]
    },
    {
      "cell_type": "markdown",
      "metadata": {
        "id": "ZCei6YaAt1yH"
      },
      "source": [
        "## Testes paramétricos"
      ]
    },
    {
      "cell_type": "markdown",
      "metadata": {
        "id": "wteP2fj0t3OG"
      },
      "source": [
        "### Teste Bicaudal"
      ]
    },
    {
      "cell_type": "markdown",
      "metadata": {
        "id": "RJe1bRoSt4X0"
      },
      "source": [
        "Este teste é muito utilizado em **testes de qualidade**. Outro exemplo é a avaliação de peças que devem ter um encaixe perfeito (porcas e parafusos, chaves e fechaduras)."
      ]
    },
    {
      "cell_type": "markdown",
      "metadata": {
        "id": "BGADq43yt59s"
      },
      "source": [
        "### <font color='red'>Problema</font>"
      ]
    },
    {
      "cell_type": "markdown",
      "metadata": {
        "id": "BBfXDpe2t7Un"
      },
      "source": [
        "Nossa produtora de vinhos produz garrafas de 500 ml. Seu processo de produção é quase todo automatizado e as garrafas são preenchidas por uma máquina que às vezes apresenta um certo desajuste, levando a erros no preenchimento das mesmas para mais ou menos conteúdo. Quando o volume médio cai abaixo de 500 ml, a empresa se preocupa em perder vendas e ter problemas com os orgãos fiscalizadores. Quando o volume passa de 500 ml, a empresa começa a se preocupar com prejuízos no processo de produção.\r\n",
        "\r\n",
        "O setor de controle de qualidade da empresa extrai, periodicamente, amostras de 50 garrafas para monitorar o processo de produção. Para cada amostra, é realizado um teste de hipóteses para avaliar se o maquinário se desajustou. A equipe de controle de qualidade assume um nível de significância de 5%.\r\n",
        "\r\n",
        "Suponha agora que uma amostra de 50 embalagens foi selecionada e que a média amostral observada foi de 503,24 ml. Esse valor de média amostral é suficientemente maior que 500 ml para nos fazer rejeitar a hipótese de que a média do processo é de 500 ml ao nível de significância de 5%?"
      ]
    },
    {
      "cell_type": "markdown",
      "metadata": {
        "id": "83p5YzSnt8Ui"
      },
      "source": [
        "![Teste Bicaudal](https://caelum-online-public.s3.amazonaws.com/1229-estatistica-parte3/01/img005.png)"
      ]
    },
    {
      "cell_type": "code",
      "metadata": {
        "id": "H8S5rLJWt9VX"
      },
      "source": [
        "amostra = [509, 505, 495, 510, 496, 509, 497, 502, 503, 505, \r\n",
        "           501, 505, 510, 505, 504, 497, 506, 506, 508, 505, \r\n",
        "           497, 504, 500, 498, 506, 496, 508, 497, 503, 501, \r\n",
        "           503, 506, 499, 498, 509, 507, 503, 499, 509, 495, \r\n",
        "           502, 505, 504, 509, 508, 501, 505, 497, 508, 507]"
      ],
      "execution_count": null,
      "outputs": []
    },
    {
      "cell_type": "code",
      "metadata": {
        "id": "of0G9TlQt-iO"
      },
      "source": [
        "amostra = pd.DataFrame(amostra, columns=['Amostra'])\r\n",
        "amostra.head()"
      ],
      "execution_count": null,
      "outputs": []
    },
    {
      "cell_type": "code",
      "metadata": {
        "id": "hAJDcLavt_3Q"
      },
      "source": [
        "media_amostra = amostra.mean()[0]\r\n",
        "media_amostra"
      ],
      "execution_count": null,
      "outputs": []
    },
    {
      "cell_type": "code",
      "metadata": {
        "id": "fgCjy4bvuAuM"
      },
      "source": [
        "desvio_padrao_amostra = amostra.std()[0]\r\n",
        "desvio_padrao_amostra"
      ],
      "execution_count": null,
      "outputs": []
    },
    {
      "cell_type": "code",
      "metadata": {
        "id": "kswg-lSUuBPY"
      },
      "source": [
        "media = 500\r\n",
        "significancia = 0.05\r\n",
        "confianca = 1 - significancia\r\n",
        "n = 50"
      ],
      "execution_count": null,
      "outputs": []
    },
    {
      "cell_type": "markdown",
      "metadata": {
        "id": "Tgt2T0auuCVN"
      },
      "source": [
        "### **Passo 1** - formulação das hipóteses $H_0$ e $H_1$\r\n",
        "\r\n",
        "#### <font color='red'>Lembre-se, a hipótese nula sempre contém a alegação de igualdade</font>"
      ]
    },
    {
      "cell_type": "markdown",
      "metadata": {
        "id": "bO8WcUpHuDZq"
      },
      "source": [
        "### $H_0: \\mu = 500$\r\n",
        "\r\n",
        "### $H_1: \\mu \\neq 500$"
      ]
    },
    {
      "cell_type": "markdown",
      "metadata": {
        "id": "NuS7st5yuE2L"
      },
      "source": [
        "### **Passo 2** - escolha da distribuição amostral adequada\r\n",
        "<img src='https://caelum-online-public.s3.amazonaws.com/1229-estatistica-parte3/01/img003.png' width=70%>"
      ]
    },
    {
      "cell_type": "markdown",
      "metadata": {
        "id": "n26HC6pfuGnu"
      },
      "source": [
        "### O tamanho da amostra é maior que 30?\r\n",
        "#### Resp.: Sim\r\n",
        "\r\n",
        "### O desvio padrão populacional é conhecido?\r\n",
        "#### Resp.: Não"
      ]
    },
    {
      "cell_type": "markdown",
      "metadata": {
        "id": "wfMzeOCIuH3z"
      },
      "source": [
        "### **Passo 3** - fixação da significância do teste ($\\alpha$)"
      ]
    },
    {
      "cell_type": "code",
      "metadata": {
        "id": "RNSGgPyvuJyT"
      },
      "source": [
        "from scipy.stats import norm"
      ],
      "execution_count": null,
      "outputs": []
    },
    {
      "cell_type": "code",
      "metadata": {
        "id": "J0KvX-E2uKi-"
      },
      "source": [
        "probabilidade = (0.5 + (confianca / 2))\r\n",
        "probabilidade"
      ],
      "execution_count": null,
      "outputs": []
    },
    {
      "cell_type": "markdown",
      "metadata": {
        "id": "-cyIbkxNuMSh"
      },
      "source": [
        "### Obtendo $z_{\\alpha/2}$"
      ]
    },
    {
      "cell_type": "code",
      "metadata": {
        "id": "jGoUv_EEuNGK"
      },
      "source": [
        "z_alpha_2 = norm.ppf(probabilidade)\r\n",
        "z_alpha_2"
      ],
      "execution_count": null,
      "outputs": []
    },
    {
      "cell_type": "markdown",
      "metadata": {
        "id": "ZLmdA2PBuOCl"
      },
      "source": [
        "![Região de Aceitação](https://caelum-online-public.s3.amazonaws.com/1229-estatistica-parte3/01/img006.png)"
      ]
    },
    {
      "cell_type": "markdown",
      "metadata": {
        "id": "CvsQMkT2uP6v"
      },
      "source": [
        "### **Passo 4** - cálculo da estatística-teste e verificação desse valor com as áreas de aceitação e rejeição do teste\r\n",
        "\r\n",
        "# $$z = \\frac{\\bar{x} - \\mu_0}{\\frac{s}{\\sqrt{n}}}$$"
      ]
    },
    {
      "cell_type": "code",
      "metadata": {
        "id": "4bXrkG_iuRRg"
      },
      "source": [
        "z = (media_amostra - media) / (desvio_padrao_amostra / np.sqrt(n))\r\n",
        "z"
      ],
      "execution_count": null,
      "outputs": []
    },
    {
      "cell_type": "markdown",
      "metadata": {
        "id": "jLgOVySnuSLr"
      },
      "source": [
        "![Estatística-Teste](https://caelum-online-public.s3.amazonaws.com/1229-estatistica-parte3/01/img007.png)"
      ]
    },
    {
      "cell_type": "markdown",
      "metadata": {
        "id": "Gw-5xWAGuTj-"
      },
      "source": [
        "### **Passo 5** - Aceitação ou rejeição da hipótese nula"
      ]
    },
    {
      "cell_type": "markdown",
      "metadata": {
        "id": "xkj3bOKLuV8B"
      },
      "source": [
        "<img src='https://caelum-online-public.s3.amazonaws.com/1229-estatistica-parte3/01/img013.png' width=90%>"
      ]
    },
    {
      "cell_type": "markdown",
      "metadata": {
        "id": "or_uyJz2uXnQ"
      },
      "source": [
        "### <font color='red'>Critério do valor crítico</font>\r\n",
        "\r\n",
        "> ### Teste Bicaudal\r\n",
        "> ### Rejeitar $H_0$ se $z \\leq -z_{\\alpha / 2}$ ou se $z \\geq z_{\\alpha / 2}$"
      ]
    },
    {
      "cell_type": "code",
      "metadata": {
        "id": "RzGUkD-7ua5k"
      },
      "source": [
        "z <= -z_alpha_2"
      ],
      "execution_count": null,
      "outputs": []
    },
    {
      "cell_type": "code",
      "metadata": {
        "id": "QGooiavlubu-"
      },
      "source": [
        "z >= z_alpha_2"
      ],
      "execution_count": null,
      "outputs": []
    },
    {
      "cell_type": "markdown",
      "metadata": {
        "id": "_iKxDbbKuchl"
      },
      "source": [
        "### <font color='green'>Conclusão: Como a média amostral $\\bar{x}$ é significativamente maior que 500 ml, rejeitamos $H_0$. Neste caso, devem ser tomadas providências para ajustar o maquinário que preenche as embalagens.</font>"
      ]
    },
    {
      "cell_type": "markdown",
      "metadata": {
        "id": "qy0xAKB6uecW"
      },
      "source": [
        "### <font color='red'>Critério do $p-valor$</font>\r\n",
        "\r\n",
        "> ### Teste Bicaudal\r\n",
        "> ### Rejeitar $H_0$ se o valor $p\\leq\\alpha$"
      ]
    },
    {
      "cell_type": "code",
      "metadata": {
        "id": "pvIK2h_eufcT"
      },
      "source": [
        "p_valor = 2 * (1 - norm.cdf(z))\r\n",
        "p_valor"
      ],
      "execution_count": null,
      "outputs": []
    },
    {
      "cell_type": "code",
      "metadata": {
        "id": "SPpF0t-xugoX"
      },
      "source": [
        "p_valor = 2 * (norm.sf(z))\r\n",
        "p_valor"
      ],
      "execution_count": null,
      "outputs": []
    },
    {
      "cell_type": "code",
      "metadata": {
        "id": "28ij5-8xuhcW"
      },
      "source": [
        "p_valor <= significancia"
      ],
      "execution_count": null,
      "outputs": []
    },
    {
      "cell_type": "markdown",
      "metadata": {
        "id": "A_eksjgQuik2"
      },
      "source": [
        "### Ztest"
      ]
    },
    {
      "cell_type": "code",
      "metadata": {
        "id": "rTLhvIW8ujjZ"
      },
      "source": [
        "from statsmodels.stats.weightstats import ztest"
      ],
      "execution_count": null,
      "outputs": []
    },
    {
      "cell_type": "code",
      "metadata": {
        "id": "1zbkHOvAukYu"
      },
      "source": [
        "ztest(x1 = amostra, value = media)"
      ],
      "execution_count": null,
      "outputs": []
    },
    {
      "cell_type": "markdown",
      "metadata": {
        "id": "p9Ppo-BYuldP"
      },
      "source": [
        "### Teste unicaudal"
      ]
    },
    {
      "cell_type": "markdown",
      "metadata": {
        "id": "983wfWXQumqz"
      },
      "source": [
        "## <font color='red'>Problema</font>\r\n",
        "\r\n",
        "Nossa fábrica de vinho agora está produzindo mii garrafas de 350 ml de seu principal produto que contém, no máximo, 37 gramas de açúcar. Esta alegação nos leva a entender que a quantidade média de açúcar em uma garrafa deve ser igual ou menor que 37 g.\r\n",
        "\r\n",
        "Um consumidor desconfiado e com conhecimentos em inferência estatística resolve testar a alegação do fabricante e seleciona, aleatóriamente, em um conjunto de estabelecimentos distintos, uma amostra de 25 garrafas. Utilizando o equipamento correto o consumidor obteve as quantidades de açúcar em todas as 25 amostras.\r\n",
        "\r\n",
        "Assumindo que essa população se distribua aproximadamente como uma normal e considerando um nível de significância de 5%, é possível aceitar como válida a alegação do fabricante?"
      ]
    },
    {
      "cell_type": "markdown",
      "metadata": {
        "id": "H_2YrLBguooV"
      },
      "source": [
        "### Construindo tabela $t$ de Student"
      ]
    },
    {
      "cell_type": "code",
      "metadata": {
        "id": "qnGMOOwjuphM"
      },
      "source": [
        "import pandas as pd\r\n",
        "from scipy.stats import t as t_student\r\n",
        "\r\n",
        "tabela_t_student = pd.DataFrame(\r\n",
        "    [], \r\n",
        "    index=[i for i in range(1, 31)],\r\n",
        "    columns = [i / 100 for i in range(10, 0, -1)]\r\n",
        ")\r\n",
        "\r\n",
        "for index in tabela_t_student.index:\r\n",
        "    for column in tabela_t_student.columns:\r\n",
        "        tabela_t_student.loc[index, column] = t_student.ppf(1 - float(column) / 2, index)\r\n",
        "\r\n",
        "index=[('Graus de Liberdade (n - 1)', i) for i in range(1, 31)]\r\n",
        "tabela_t_student.index = pd.MultiIndex.from_tuples(index)\r\n",
        "\r\n",
        "columns = [(\"{0:0.3f}\".format(i / 100), \"{0:0.3f}\".format((i / 100) / 2)) for i in range(10, 0, -1)]\r\n",
        "tabela_t_student.columns = pd.MultiIndex.from_tuples(columns)\r\n",
        "\r\n",
        "tabela_t_student.rename_axis(['Bicaudal', 'Unicaudal'], axis=1, inplace = True)\r\n",
        "\r\n",
        "tabela_t_student"
      ],
      "execution_count": null,
      "outputs": []
    },
    {
      "cell_type": "markdown",
      "metadata": {
        "id": "6jAsfxVxurAQ"
      },
      "source": [
        "<img src='https://caelum-online-public.s3.amazonaws.com/1229-estatistica-parte3/01/img004.png' width='250px'>\r\n",
        "\r\n",
        "As células da tabela acima são valores de $t$ para uma área ou probabilidade na cauda superior da distribuição $t$."
      ]
    },
    {
      "cell_type": "markdown",
      "metadata": {
        "id": "Y2bmpafFus9k"
      },
      "source": [
        "Os **testes unicaudais** verificam as variáveis em relação a um piso ou a um teto e avaliam os valores máximos ou mínimos esperados para os parâmetros em estudo e a chance de as estatísticas amostrais serem inferiores ou superiores a dado limite."
      ]
    },
    {
      "cell_type": "markdown",
      "metadata": {
        "id": "HHhP3z2huwI5"
      },
      "source": [
        "<img src='https://caelum-online-public.s3.amazonaws.com/1229-estatistica-parte3/01/img008.png' width='700px'>"
      ]
    },
    {
      "cell_type": "markdown",
      "metadata": {
        "id": "ebUM65pmuyqo"
      },
      "source": [
        "### Dados do problema"
      ]
    },
    {
      "cell_type": "code",
      "metadata": {
        "id": "5TJyKyqhuzfk"
      },
      "source": [
        "amostra = [37.27, 36.42, 34.84, 34.60, 37.49, \r\n",
        "           36.53, 35.49, 36.90, 34.52, 37.30, \r\n",
        "           34.99, 36.55, 36.29, 36.06, 37.42, \r\n",
        "           34.47, 36.70, 35.86, 36.80, 36.92, \r\n",
        "           37.04, 36.39, 37.32, 36.64, 35.45]"
      ],
      "execution_count": null,
      "outputs": []
    },
    {
      "cell_type": "code",
      "metadata": {
        "id": "I8CJlRgOu0Hj"
      },
      "source": [
        "amostra = pd.DataFrame(amostra, columns=['Amostra'])\r\n",
        "amostra"
      ],
      "execution_count": null,
      "outputs": []
    },
    {
      "cell_type": "code",
      "metadata": {
        "id": "M0k9xGbou06X"
      },
      "source": [
        "media_amostra = amostra.mean()"
      ],
      "execution_count": null,
      "outputs": []
    },
    {
      "cell_type": "code",
      "metadata": {
        "id": "a1wiY1sxu1fY"
      },
      "source": [
        "desvio_padrao_amostra = amostra.std()"
      ],
      "execution_count": null,
      "outputs": []
    },
    {
      "cell_type": "code",
      "metadata": {
        "id": "4TkddXFRu2IY"
      },
      "source": [
        "media = 37\r\n",
        "significancia = 0.05\r\n",
        "confianca = 1 - significancia\r\n",
        "n = 25\r\n",
        "graus_de_liberdade = n - 1"
      ],
      "execution_count": null,
      "outputs": []
    },
    {
      "cell_type": "markdown",
      "metadata": {
        "id": "am-KNcgdu3A0"
      },
      "source": [
        "#### <font color='red'>Lembre-se, a hipótese nula sempre contém a alegação de igualdade</font>\r\n",
        "\r\n",
        "### $H_0: \\mu \\leq 37$\r\n",
        "\r\n",
        "### $H_1: \\mu > 37$"
      ]
    },
    {
      "cell_type": "markdown",
      "metadata": {
        "id": "TnitIoBzu4As"
      },
      "source": [
        "### **Passo 2** - escolha da distribuição amostral adequada\r\n",
        "<img src='https://caelum-online-public.s3.amazonaws.com/1229-estatistica-parte3/01/img003.png' width=70%>"
      ]
    },
    {
      "cell_type": "markdown",
      "metadata": {
        "id": "ICJAKFmWu5pu"
      },
      "source": [
        "### **Passo 3** - fixação da significância do teste ($\\alpha$)"
      ]
    },
    {
      "cell_type": "code",
      "metadata": {
        "id": "Nki6B2f_u6j0"
      },
      "source": [
        "from scipy.stats import t as t_student"
      ],
      "execution_count": null,
      "outputs": []
    },
    {
      "cell_type": "code",
      "metadata": {
        "id": "XmhnDb50u7ET"
      },
      "source": [
        "tabela_t_student[22:25]"
      ],
      "execution_count": null,
      "outputs": []
    },
    {
      "cell_type": "markdown",
      "metadata": {
        "id": "i_Qnij0-u8wI"
      },
      "source": [
        "### Obtendo $t_{\\alpha}$"
      ]
    },
    {
      "cell_type": "code",
      "metadata": {
        "id": "h2AQFbBMu9V5"
      },
      "source": [
        "t_alpha = t_student.ppf(confianca, graus_de_liberdade)\r\n",
        "t_alpha"
      ],
      "execution_count": null,
      "outputs": []
    },
    {
      "cell_type": "markdown",
      "metadata": {
        "id": "FvGuO3DRu-zR"
      },
      "source": [
        "![Região de Aceitação](https://caelum-online-public.s3.amazonaws.com/1229-estatistica-parte3/01/img009.png)"
      ]
    },
    {
      "cell_type": "markdown",
      "metadata": {
        "id": "kDIO2FDXvASp"
      },
      "source": [
        "### **Passo 4** - cálculo da estatística-teste e verificação desse valor com as áreas de aceitação e rejeição do teste\r\n",
        "\r\n",
        "# $$t = \\frac{\\bar{x} - \\mu_0}{\\frac{s}{\\sqrt{n}}}$$"
      ]
    },
    {
      "cell_type": "code",
      "metadata": {
        "id": "_3mItNREvBE6"
      },
      "source": [
        "t = (media_amostra - media) / (desvio_padrao_amostra / np.sqrt(n))\r\n",
        "t"
      ],
      "execution_count": null,
      "outputs": []
    },
    {
      "cell_type": "markdown",
      "metadata": {
        "id": "9SIAEu5RvB7L"
      },
      "source": [
        "![Estatística-Teste](https://caelum-online-public.s3.amazonaws.com/1229-estatistica-parte3/01/img010.png)"
      ]
    },
    {
      "cell_type": "markdown",
      "metadata": {
        "id": "gFEqVE96vDiM"
      },
      "source": [
        "### **Passo 5** - Aceitação ou rejeição da hipótese nula"
      ]
    },
    {
      "cell_type": "markdown",
      "metadata": {
        "id": "7gTiSxaNvEb4"
      },
      "source": [
        "<img src='https://caelum-online-public.s3.amazonaws.com/1229-estatistica-parte3/01/img013.png' width=90%>"
      ]
    },
    {
      "cell_type": "markdown",
      "metadata": {
        "id": "IOXuz9dCvGrS"
      },
      "source": [
        "### <font color='red'>Critério do valor crítico</font>\r\n",
        "\r\n",
        "> ### Teste Unicaudal Superior\r\n",
        "> ### Rejeitar $H_0$ se $t \\geq t_{\\alpha}$"
      ]
    },
    {
      "cell_type": "code",
      "metadata": {
        "id": "j8obriTRvHJ9"
      },
      "source": [
        "t >= t_alpha"
      ],
      "execution_count": null,
      "outputs": []
    },
    {
      "cell_type": "markdown",
      "metadata": {
        "id": "kkqG4ddRvH8N"
      },
      "source": [
        "### <font color='green'>Conclusão: Com um nível de confiança de 95% não podemos rejeitar $H_0$, ou seja, a alegação do fabricante é verdadeira.</font>"
      ]
    },
    {
      "cell_type": "markdown",
      "metadata": {
        "id": "lClaeE0HvJcj"
      },
      "source": [
        "### <font color='red'>Critério do valor $p$</font>\r\n",
        "\r\n",
        "> ### Teste Unicaudal Superior\r\n",
        "> ### Rejeitar $H_0$ se o valor $p\\leq\\alpha$"
      ]
    },
    {
      "cell_type": "code",
      "metadata": {
        "id": "y9kxasLmvKLM"
      },
      "source": [
        "t"
      ],
      "execution_count": null,
      "outputs": []
    },
    {
      "cell_type": "code",
      "metadata": {
        "id": "eyiuIosKvK1r"
      },
      "source": [
        "p_valor = t_student.sf(t, df = 24)\r\n",
        "p_valor"
      ],
      "execution_count": null,
      "outputs": []
    },
    {
      "cell_type": "code",
      "metadata": {
        "id": "yPo80ZLivLlW"
      },
      "source": [
        "p_valor <= significancia"
      ],
      "execution_count": null,
      "outputs": []
    },
    {
      "cell_type": "code",
      "metadata": {
        "id": "4UtRyH0VvMHs"
      },
      "source": [
        "from statsmodels.stats.weightstats import DescrStatsW"
      ],
      "execution_count": null,
      "outputs": []
    },
    {
      "cell_type": "code",
      "metadata": {
        "id": "TVH_TADyvMzU"
      },
      "source": [
        "test = DescrStatsW(amostra)"
      ],
      "execution_count": null,
      "outputs": []
    },
    {
      "cell_type": "code",
      "metadata": {
        "id": "B_sWCc6xvNm3"
      },
      "source": [
        "t, p_valor, df = test.ttest_mean(value = media, alternative = 'larger')\r\n",
        "print(t[0])\r\n",
        "print(p_valor[0])\r\n",
        "print(df)"
      ],
      "execution_count": null,
      "outputs": []
    },
    {
      "cell_type": "code",
      "metadata": {
        "id": "6t7lDt4DvObY"
      },
      "source": [
        "p_valor[0] <= significancia"
      ],
      "execution_count": null,
      "outputs": []
    },
    {
      "cell_type": "markdown",
      "metadata": {
        "id": "gSMHNweR0iqS"
      },
      "source": [
        "# Covariância e Correlação"
      ]
    },
    {
      "cell_type": "code",
      "metadata": {
        "id": "ma2sjYCu0oex"
      },
      "source": [
        "import pandas as pd"
      ],
      "execution_count": null,
      "outputs": []
    },
    {
      "cell_type": "code",
      "metadata": {
        "id": "iPxnxPsM0pOS"
      },
      "source": [
        "url = 'https://raw.githubusercontent.com/allanspadini/linear_estatistica/main/media_salarial.csv'"
      ],
      "execution_count": null,
      "outputs": []
    },
    {
      "cell_type": "code",
      "metadata": {
        "id": "g5r0A4sr0pzb"
      },
      "source": [
        "salarial = pd.read_csv(url,sep='\\t')"
      ],
      "execution_count": null,
      "outputs": []
    },
    {
      "cell_type": "code",
      "metadata": {
        "id": "WCbke2EZ0qjG"
      },
      "source": [
        "salarial.head()"
      ],
      "execution_count": null,
      "outputs": []
    },
    {
      "cell_type": "code",
      "metadata": {
        "id": "y1JeEfnQ0rcw"
      },
      "source": [
        "import seaborn as sns"
      ],
      "execution_count": null,
      "outputs": []
    },
    {
      "cell_type": "code",
      "metadata": {
        "id": "yRNmHjIO0sCq"
      },
      "source": [
        "import matplotlib as mpl\r\n",
        "mpl.rcParams['font.size'] = 16\r\n",
        "mpl.rcParams['figure.figsize'] = [10,6]"
      ],
      "execution_count": null,
      "outputs": []
    },
    {
      "cell_type": "code",
      "metadata": {
        "id": "CRG3R3G40tOi"
      },
      "source": [
        "sns.scatterplot(x='Anos',y='Salario',data=salarial)"
      ],
      "execution_count": null,
      "outputs": []
    },
    {
      "cell_type": "markdown",
      "metadata": {
        "id": "9PvurIZP0u3w"
      },
      "source": [
        "## <font color=blue> Covariância </font>\r\n",
        "\r\n",
        "A covariância é a medida do grau de interdependência numérica entre duas variáveis. "
      ]
    },
    {
      "cell_type": "markdown",
      "metadata": {
        "id": "fsZlUAfl0wLH"
      },
      "source": [
        "### Covariância populacional\r\n",
        "\r\n",
        "\\begin{equation}\r\n",
        "\\sigma_{xy} = \\frac{1}{n} \\sum_{i=1}^n (X_i - \\mu_x)(Y_i - \\mu_y)\r\n",
        "\\end{equation}\r\n",
        "\r\n",
        "### Covariância amostral\r\n",
        "\\begin{equation}\r\n",
        "S_{xy} = \\frac{1}{n-1} \\sum_{i=1}^{n} (X_i - \\bar{X})(Y_i - \\bar{Y})\r\n",
        "\\end{equation}"
      ]
    },
    {
      "cell_type": "code",
      "metadata": {
        "id": "yoUC3Zy50yFG"
      },
      "source": [
        "amostra = salarial.sample(n = 20, random_state=202)"
      ],
      "execution_count": null,
      "outputs": []
    },
    {
      "cell_type": "code",
      "metadata": {
        "id": "G9UUtHkP0yvJ"
      },
      "source": [
        "amostra.cov()"
      ],
      "execution_count": null,
      "outputs": []
    },
    {
      "cell_type": "markdown",
      "metadata": {
        "id": "2HMjcKiw0z5L"
      },
      "source": [
        "## <font color=blue> Correlação </font>"
      ]
    },
    {
      "cell_type": "markdown",
      "metadata": {
        "id": "yUfY6ey601Rz"
      },
      "source": [
        "### Coeficiente de correlação de Pearson - dados populacionais\r\n",
        "\r\n",
        "# $$\\rho_{xy} = \\frac{\\sigma_{xy}}{\\sigma_{x}\\sigma_{y}}$$\r\n",
        "\r\n",
        "### Coeficiente de correlação de Pearson - dados amostrais\r\n",
        "\r\n",
        "# $$r_{xy} = \\frac{s_{xy}}{s_{x}s_{y}}$$\r\n",
        "\r\n",
        "Onde\r\n",
        "\r\n",
        "$\\sigma_{xy}$ = covariância populacional entre x e y\r\n",
        "\r\n",
        "$s_{xy}$ = covariância amostral entre x e y\r\n",
        "\r\n",
        "$\\sigma_{x}$ e $\\sigma_{y}$ = desvios padrão populacionais de x e y, respectivamente\r\n",
        "\r\n",
        "$s_{x}$ e $s_{y}$ = desvios padrão amostrais de x e y, respectivamente"
      ]
    },
    {
      "cell_type": "code",
      "metadata": {
        "id": "oCAxki_302LC"
      },
      "source": [
        "amostra.corr()"
      ],
      "execution_count": null,
      "outputs": []
    },
    {
      "cell_type": "markdown",
      "metadata": {
        "id": "EluvVuHV03aE"
      },
      "source": [
        "https://plotlygraphs.medium.com/spurious-correlations-56752fcffb69"
      ]
    },
    {
      "cell_type": "code",
      "metadata": {
        "id": "hCLMQDtUvcJ7"
      },
      "source": [
        ""
      ],
      "execution_count": null,
      "outputs": []
    },
    {
      "cell_type": "markdown",
      "metadata": {
        "id": "DF22UPm-3pp_"
      },
      "source": [
        "# Regressão Linear"
      ]
    },
    {
      "cell_type": "code",
      "metadata": {
        "id": "qxhRJmRq3vbC"
      },
      "source": [
        "import pandas as pd"
      ],
      "execution_count": null,
      "outputs": []
    },
    {
      "cell_type": "code",
      "metadata": {
        "id": "lsyVDQpR3v7F"
      },
      "source": [
        "url = 'https://raw.githubusercontent.com/allanspadini/linear_estatistica/main/media_salarial.csv'"
      ],
      "execution_count": null,
      "outputs": []
    },
    {
      "cell_type": "code",
      "metadata": {
        "id": "AmWxv83l3wRo"
      },
      "source": [
        "salarial = pd.read_csv(url,sep='\\t')"
      ],
      "execution_count": null,
      "outputs": []
    },
    {
      "cell_type": "code",
      "metadata": {
        "id": "OQpL-aP-3wsg"
      },
      "source": [
        "salarial.head()"
      ],
      "execution_count": null,
      "outputs": []
    },
    {
      "cell_type": "code",
      "metadata": {
        "id": "_3x3FkC23xVy"
      },
      "source": [
        "import seaborn as sns"
      ],
      "execution_count": null,
      "outputs": []
    },
    {
      "cell_type": "code",
      "metadata": {
        "id": "3u9tj8hQ3x6F"
      },
      "source": [
        "import matplotlib as mpl\r\n",
        "mpl.rcParams['font.size'] = 16\r\n",
        "mpl.rcParams['figure.figsize'] = [10,6]"
      ],
      "execution_count": null,
      "outputs": []
    },
    {
      "cell_type": "code",
      "metadata": {
        "id": "z7KCGAXF3ybd"
      },
      "source": [
        "sns.scatterplot(x='Anos',y='Salario',data=salarial)"
      ],
      "execution_count": null,
      "outputs": []
    },
    {
      "cell_type": "markdown",
      "metadata": {
        "id": "YszBrTdK345E"
      },
      "source": [
        "## <font color=blue>  Regressão Linear </font>"
      ]
    },
    {
      "cell_type": "markdown",
      "metadata": {
        "id": "0ZTR4mM535up"
      },
      "source": [
        "<img src=\"https://caelum-online-public.s3.amazonaws.com/1273-estatistica-parte4/01/img027.png\" width=50%>\r\n",
        "\r\n",
        "Beta1 = onde a reta intercepta o eixo Y\r\n",
        "\r\n",
        "Beta2 = coeficiente angular"
      ]
    },
    {
      "cell_type": "code",
      "metadata": {
        "id": "qsD7MzIJ36dj"
      },
      "source": [
        "salarial.head()"
      ],
      "execution_count": null,
      "outputs": []
    },
    {
      "cell_type": "code",
      "metadata": {
        "id": "NFZmMYQs37En"
      },
      "source": [
        "sns.scatterplot(x='Anos',y='Salario',data=salarial)"
      ],
      "execution_count": null,
      "outputs": []
    },
    {
      "cell_type": "markdown",
      "metadata": {
        "id": "s4dG4yiu38NH"
      },
      "source": [
        "## $$\\sum\\hat{u}_i^2 = \\sum{(Y_i - \\hat{Y}_i)^2}$$"
      ]
    },
    {
      "cell_type": "markdown",
      "metadata": {
        "id": "01ySprte39EB"
      },
      "source": [
        "calculo de Beta2\r\n",
        "## $$\r\n",
        "\\begin{equation}\r\n",
        "\\boxed{\\hat{\\beta}_2 = \\frac{n\\sum{X_iY_i} - \\sum{X_i}\\sum{Y_i}}{n\\sum{X_i^2} - (\\sum{X_i})^2}}\r\n",
        "\\end{equation}\r\n",
        "$$\r\n",
        "calculo de Beta1\r\n",
        "## $$\r\n",
        "\\begin{equation}\r\n",
        "\\boxed{\r\n",
        "\\begin{eqnarray}\r\n",
        "\\hat{\\beta}_1 &=& \\frac{\\sum{X_i^2}\\sum{Y_i} - \\sum{X_i}\\sum{X_iY_i}}{n\\sum{X_i^2} - (\\sum{X_i})^2}\\\\\r\n",
        "&=& \\bar{Y} - \\hat{\\beta}_2\\bar{X}\r\n",
        "\\end{eqnarray}\r\n",
        "}\r\n",
        "\\end{equation}\r\n",
        "$$"
      ]
    },
    {
      "cell_type": "code",
      "metadata": {
        "id": "p-586fT-3-FL"
      },
      "source": [
        "import statsmodels.api as sm"
      ],
      "execution_count": null,
      "outputs": []
    },
    {
      "cell_type": "code",
      "metadata": {
        "id": "0IKyDkJY3_h2"
      },
      "source": [
        "X = sm.add_constant(salarial['Anos'])"
      ],
      "execution_count": null,
      "outputs": []
    },
    {
      "cell_type": "code",
      "metadata": {
        "id": "bJQvdZtm3_-N"
      },
      "source": [
        "Y = salarial['Salario']"
      ],
      "execution_count": null,
      "outputs": []
    },
    {
      "cell_type": "code",
      "metadata": {
        "id": "Os9JjU274AgK"
      },
      "source": [
        "X.head()"
      ],
      "execution_count": null,
      "outputs": []
    },
    {
      "cell_type": "code",
      "metadata": {
        "id": "iCuNa9Vc4BR0"
      },
      "source": [
        "#Fazendo o ajuste da reta com o SM utilizando o odernary list squares (mínimos quadrados ordinários)\r\n",
        "#Fit faz o ajuste da reta\r\n",
        "\r\n",
        "resultado_regressao = sm.OLS(Y,X).fit()"
      ],
      "execution_count": null,
      "outputs": []
    },
    {
      "cell_type": "code",
      "metadata": {
        "id": "0eaEWhN24BxQ"
      },
      "source": [
        "resultado_regressao.params"
      ],
      "execution_count": null,
      "outputs": []
    },
    {
      "cell_type": "code",
      "metadata": {
        "id": "Rmwz8pt44CTn"
      },
      "source": [
        "beta_1 = resultado_regressao.params[0]"
      ],
      "execution_count": null,
      "outputs": []
    },
    {
      "cell_type": "code",
      "metadata": {
        "id": "OTULq9j94C5d"
      },
      "source": [
        "beta_2 = resultado_regressao.params[1]"
      ],
      "execution_count": null,
      "outputs": []
    },
    {
      "cell_type": "code",
      "metadata": {
        "id": "eluBOg3Z4DaJ"
      },
      "source": [
        "beta_1"
      ],
      "execution_count": null,
      "outputs": []
    },
    {
      "cell_type": "markdown",
      "metadata": {
        "id": "16PRfBqf4KxG"
      },
      "source": [
        "## <font color=blue>  Intervalo de confiança </font>\r\n",
        "\r\n",
        "O intervalo de confiança propõe uma gama de valores plausíveis para um parâmetro desconhecido. O intervalo de confiança possui um nível de confiança associado. O nível de confiança padrão é 95%. "
      ]
    },
    {
      "cell_type": "code",
      "metadata": {
        "id": "8_JEoApT4LOC"
      },
      "source": [
        "resultado_regressao.conf_int()"
      ],
      "execution_count": null,
      "outputs": []
    },
    {
      "cell_type": "code",
      "metadata": {
        "id": "86tdwRT94Lo_"
      },
      "source": [
        "salarial['y_previsto'] = resultado_regressao.predict()"
      ],
      "execution_count": null,
      "outputs": []
    },
    {
      "cell_type": "code",
      "metadata": {
        "id": "bFuYIhlx4MK1"
      },
      "source": [
        "salarial.head()"
      ],
      "execution_count": null,
      "outputs": []
    },
    {
      "cell_type": "code",
      "metadata": {
        "id": "pvWoGXC-4Mxn"
      },
      "source": [
        "sns.scatterplot(x='Anos',y='Salario',data=salarial)\r\n",
        "sns.scatterplot(x='Anos',y='y_previsto',data=salarial)"
      ],
      "execution_count": null,
      "outputs": []
    },
    {
      "cell_type": "code",
      "metadata": {
        "id": "sCYuuUGK4NYc"
      },
      "source": [
        "import numpy as np"
      ],
      "execution_count": null,
      "outputs": []
    },
    {
      "cell_type": "code",
      "metadata": {
        "id": "B6_Dgaps1mzm"
      },
      "source": [
        "import statsmodels.api as sm"
      ],
      "execution_count": null,
      "outputs": []
    },
    {
      "cell_type": "code",
      "metadata": {
        "id": "gpaue8RO4N2k"
      },
      "source": [
        "Xnovo = np.linspace(20,30,11)"
      ],
      "execution_count": null,
      "outputs": []
    },
    {
      "cell_type": "code",
      "metadata": {
        "id": "lgzSuwZD4OVy"
      },
      "source": [
        "Xnovo = sm.add_constant(Xnovo)"
      ],
      "execution_count": null,
      "outputs": []
    },
    {
      "cell_type": "code",
      "metadata": {
        "id": "cs6Y_Ct34OzP"
      },
      "source": [
        "fora_da_amostra = resultado_regressao.predict(Xnovo)"
      ],
      "execution_count": null,
      "outputs": []
    },
    {
      "cell_type": "code",
      "metadata": {
        "id": "ijMMOQoO4POh"
      },
      "source": [
        "sns.scatterplot(x='Anos',y='Salario',data=salarial)\r\n",
        "sns.scatterplot(x='Anos',y='y_previsto',data=salarial)\r\n",
        "sns.scatterplot(x=Xnovo[:,1],y=fora_da_amostra)"
      ],
      "execution_count": null,
      "outputs": []
    },
    {
      "cell_type": "markdown",
      "metadata": {
        "id": "nVY-kUOXvZyk"
      },
      "source": [
        "# Análise de resíduos"
      ]
    },
    {
      "cell_type": "code",
      "metadata": {
        "id": "UW5fVkUX1MOm"
      },
      "source": [
        "import numpy as np"
      ],
      "execution_count": null,
      "outputs": []
    },
    {
      "cell_type": "code",
      "metadata": {
        "id": "wjjE6ujo1M4d"
      },
      "source": [
        "Xnovo = np.linspace(20,30,11)"
      ],
      "execution_count": null,
      "outputs": []
    },
    {
      "cell_type": "code",
      "metadata": {
        "id": "-dxvu4sN1Nb6"
      },
      "source": [
        "Xnovo = sm.add_constant(Xnovo)"
      ],
      "execution_count": null,
      "outputs": []
    },
    {
      "cell_type": "code",
      "metadata": {
        "id": "t_r772NJ1OBh"
      },
      "source": [
        "fora_da_amostra = resultado_regressao.predict(Xnovo)"
      ],
      "execution_count": null,
      "outputs": []
    },
    {
      "cell_type": "code",
      "metadata": {
        "id": "4n4ORxbk1OpB"
      },
      "source": [
        "sns.scatterplot(x='Anos',y='Salario',data=salarial)\r\n",
        "sns.scatterplot(x='Anos',y='y_previsto',data=salarial)\r\n",
        "sns.scatterplot(x=Xnovo[:,1],y=fora_da_amostra)"
      ],
      "execution_count": null,
      "outputs": []
    },
    {
      "cell_type": "code",
      "metadata": {
        "id": "MUCl_Hw2vi-D"
      },
      "source": [
        "salarial['Resíduo'] = resultado_regressao.resid\r\n",
        "salarial.head()"
      ],
      "execution_count": null,
      "outputs": []
    },
    {
      "cell_type": "markdown",
      "metadata": {
        "id": "N9RyPX49vpup"
      },
      "source": [
        "\r\n",
        "1. Média igual a zero;"
      ]
    },
    {
      "cell_type": "code",
      "metadata": {
        "id": "h_4OeSNNvqa-"
      },
      "source": [
        "salarial['Resíduo'].mean()"
      ],
      "execution_count": null,
      "outputs": []
    },
    {
      "cell_type": "markdown",
      "metadata": {
        "id": "crZZM4HMvsDC"
      },
      "source": [
        "2. Os valores de $u$ são independentes."
      ]
    },
    {
      "cell_type": "code",
      "metadata": {
        "id": "UZHwobZ4vtBw"
      },
      "source": [
        "sns.scatterplot(x=salarial['Anos'], y=salarial['Resíduo'])"
      ],
      "execution_count": null,
      "outputs": []
    },
    {
      "cell_type": "code",
      "metadata": {
        "id": "raJ2Y34Lvtv5"
      },
      "source": [
        "sns.scatterplot(x=salarial['y_previsto'], y=salarial['Resíduo'])"
      ],
      "execution_count": null,
      "outputs": []
    },
    {
      "cell_type": "markdown",
      "metadata": {
        "id": "X83-PPWrvuuN"
      },
      "source": [
        "3. Variância de $u$ é a mesma para todos os valores de X;"
      ]
    },
    {
      "cell_type": "code",
      "metadata": {
        "id": "FI1lshUWvvgB"
      },
      "source": [
        "sns.scatterplot(x=salarial['y_previsto'], y=salarial['Resíduo']**2)"
      ],
      "execution_count": null,
      "outputs": []
    },
    {
      "cell_type": "markdown",
      "metadata": {
        "id": "rTH0D6okvwaB"
      },
      "source": [
        "<img src=\"https://caelum-online-public.s3.amazonaws.com/1273-estatistica-parte4/01/img028.jpg\" width=80%>\r\n",
        "Fonte: Econometria Básica - 5ª edição - Gujarati e Porter"
      ]
    },
    {
      "cell_type": "markdown",
      "metadata": {
        "id": "WVO2PcvsvyIo"
      },
      "source": [
        "## <font color=blue>  Coeficiente de determinação - $R^2$ </font>"
      ]
    },
    {
      "cell_type": "markdown",
      "metadata": {
        "id": "p9r-aCEVvzV4"
      },
      "source": [
        "O quanto a linha de regressão amostral se ajusta aos dados."
      ]
    },
    {
      "cell_type": "code",
      "metadata": {
        "id": "j4UknSQwv0Kh"
      },
      "source": [
        "sns.scatterplot(x='Anos',y='Salario',data=salarial)\r\n",
        "sns.scatterplot(x='Anos',y='y_previsto',data=salarial)"
      ],
      "execution_count": null,
      "outputs": []
    },
    {
      "cell_type": "markdown",
      "metadata": {
        "id": "1rIlVH3bv1aP"
      },
      "source": [
        "## $$R^2 = \\frac{\\big[\\sum{(Y_i - \\bar{Y})(\\hat{Y}_i - \\bar{Y})}\\big]^2}{\\sum{(Y_i - \\bar{Y}})^2 \\sum{(\\hat{Y}_i - \\bar{Y}})^2}$$"
      ]
    },
    {
      "cell_type": "code",
      "metadata": {
        "id": "zzeVjKJNv2Ag"
      },
      "source": [
        "resultado_regressao.rsquared"
      ],
      "execution_count": null,
      "outputs": []
    }
  ]
}
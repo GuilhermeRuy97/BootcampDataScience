{
  "nbformat": 4,
  "nbformat_minor": 0,
  "metadata": {
    "colab": {
      "name": "modulo 3 bootcamp Data Science",
      "provenance": [],
      "mount_file_id": "https://github.com/GuilhermeRuy97/BootcampDataScience/blob/main/modulo_3_bootcamp_Data_Science.ipynb",
      "authorship_tag": "ABX9TyN8+dXKGziNNpGwo8DbvFch",
      "include_colab_link": true
    },
    "kernelspec": {
      "name": "python3",
      "display_name": "Python 3"
    }
  },
  "cells": [
    {
      "cell_type": "markdown",
      "metadata": {
        "id": "view-in-github",
        "colab_type": "text"
      },
      "source": [
        "<a href=\"https://colab.research.google.com/github/GuilhermeRuy97/BootcampDataScience/blob/main/modulo_3_bootcamp_Data_Science.ipynb\" target=\"_parent\"><img src=\"https://colab.research.google.com/assets/colab-badge.svg\" alt=\"Open In Colab\"/></a>"
      ]
    },
    {
      "cell_type": "markdown",
      "metadata": {
        "id": "7JES0u2ja9pp"
      },
      "source": [
        "## Análise descritiva e testes estatísticos\r\n",
        "\r\n",
        "\r\n",
        "\r\n",
        "\r\n"
      ]
    },
    {
      "cell_type": "markdown",
      "metadata": {
        "id": "iyPSzThYa2cl"
      },
      "source": [
        "# AULA 01 MOD 03\r\n",
        "-Educação, saúde e tipos de dados"
      ]
    },
    {
      "cell_type": "code",
      "metadata": {
        "id": "DMKus-GebNEf",
        "colab": {
          "base_uri": "https://localhost:8080/",
          "height": 0
        },
        "outputId": "765f1914-7748-4559-fb92-fa002361e6da"
      },
      "source": [
        "#Para abrir pelo drive, basta clicar em \"conectar drive\" e passar o caminho do arquivo;\r\n",
        "#Porém, o arquivo está zipado, então utilizaremos a biblioteca zipfile.\r\n",
        "\r\n",
        "import pandas as pd\r\n",
        "from zipfile import ZipFile\r\n",
        "\r\n",
        "caminho = \"/content/drive/MyDrive/cursos/bootcampDSalura/dados modulo 3/PeNSE_2015_AMOSTRA2.zip\"\r\n",
        "zip = ZipFile(caminho)\r\n",
        "\r\n",
        "#Para saber os nomes dos arquivos\r\n",
        "#zip.namelist()\r\n",
        "\r\n",
        "zip.namelist()[1]\r\n",
        "\r\n",
        "caminho_pasta_zipada = zip.namelist()[1]\r\n",
        "\r\n",
        "#Precisamos passar o que abrir dentro do arquivo\r\n",
        "dados = pd.read_csv(zip.open(caminho_pasta_zipada), sep = \";\", thousands = \".\", decimal = \",\")\r\n",
        "dados.head()"
      ],
      "execution_count": 64,
      "outputs": [
        {
          "output_type": "execute_result",
          "data": {
            "text/html": [
              "<div>\n",
              "<style scoped>\n",
              "    .dataframe tbody tr th:only-of-type {\n",
              "        vertical-align: middle;\n",
              "    }\n",
              "\n",
              "    .dataframe tbody tr th {\n",
              "        vertical-align: top;\n",
              "    }\n",
              "\n",
              "    .dataframe thead th {\n",
              "        text-align: right;\n",
              "    }\n",
              "</style>\n",
              "<table border=\"1\" class=\"dataframe\">\n",
              "  <thead>\n",
              "    <tr style=\"text-align: right;\">\n",
              "      <th></th>\n",
              "      <th>ANOPESQ</th>\n",
              "      <th>PAIS</th>\n",
              "      <th>REGEOGR</th>\n",
              "      <th>VB00004</th>\n",
              "      <th>VB01001</th>\n",
              "      <th>VB01002</th>\n",
              "      <th>VB01003</th>\n",
              "      <th>VB01004</th>\n",
              "      <th>VB01005</th>\n",
              "      <th>VB01006</th>\n",
              "      <th>VB01007</th>\n",
              "      <th>VB01008A</th>\n",
              "      <th>VB01010A</th>\n",
              "      <th>VB01011</th>\n",
              "      <th>VB01012</th>\n",
              "      <th>VB01013</th>\n",
              "      <th>VB01014</th>\n",
              "      <th>VB01015A</th>\n",
              "      <th>VB01016</th>\n",
              "      <th>VB01017</th>\n",
              "      <th>VB01018</th>\n",
              "      <th>VB01019</th>\n",
              "      <th>VB01020A</th>\n",
              "      <th>VB01021</th>\n",
              "      <th>VB01022</th>\n",
              "      <th>VB01023</th>\n",
              "      <th>VB01024</th>\n",
              "      <th>VB01025</th>\n",
              "      <th>VB01026</th>\n",
              "      <th>VB02001</th>\n",
              "      <th>VB02002</th>\n",
              "      <th>VB02004A</th>\n",
              "      <th>VB02010</th>\n",
              "      <th>VB02011</th>\n",
              "      <th>VB02013</th>\n",
              "      <th>VB02017A</th>\n",
              "      <th>VB02018A</th>\n",
              "      <th>VB02019A</th>\n",
              "      <th>VB02020A</th>\n",
              "      <th>VB02021</th>\n",
              "      <th>...</th>\n",
              "      <th>VB11005</th>\n",
              "      <th>VB11006</th>\n",
              "      <th>VB11007</th>\n",
              "      <th>VB12001</th>\n",
              "      <th>VB12002</th>\n",
              "      <th>VB12003</th>\n",
              "      <th>VB13001</th>\n",
              "      <th>VB13002A</th>\n",
              "      <th>VB13004A</th>\n",
              "      <th>VB13005</th>\n",
              "      <th>VB13006</th>\n",
              "      <th>VB13007</th>\n",
              "      <th>VB13008</th>\n",
              "      <th>VB13009</th>\n",
              "      <th>VB14001</th>\n",
              "      <th>VB14002</th>\n",
              "      <th>VB16001A01</th>\n",
              "      <th>VB16001A02</th>\n",
              "      <th>VB16001A03</th>\n",
              "      <th>VB16001A04</th>\n",
              "      <th>VB16001A05</th>\n",
              "      <th>VB16001A06</th>\n",
              "      <th>VB16001A07</th>\n",
              "      <th>VB16001A08</th>\n",
              "      <th>VB17001</th>\n",
              "      <th>VB17002</th>\n",
              "      <th>VB17003</th>\n",
              "      <th>VB17004</th>\n",
              "      <th>VB17005</th>\n",
              "      <th>VB17006</th>\n",
              "      <th>ESTRATO_EXP</th>\n",
              "      <th>ESTRATOGEOREG</th>\n",
              "      <th>PESO</th>\n",
              "      <th>V0006</th>\n",
              "      <th>V0007</th>\n",
              "      <th>V0008</th>\n",
              "      <th>V0041</th>\n",
              "      <th>aluno</th>\n",
              "      <th>escola</th>\n",
              "      <th>turma</th>\n",
              "    </tr>\n",
              "  </thead>\n",
              "  <tbody>\n",
              "    <tr>\n",
              "      <th>0</th>\n",
              "      <td>2015</td>\n",
              "      <td>76</td>\n",
              "      <td>1</td>\n",
              "      <td>1</td>\n",
              "      <td>2</td>\n",
              "      <td>1</td>\n",
              "      <td>13</td>\n",
              "      <td>7</td>\n",
              "      <td>7</td>\n",
              "      <td>1</td>\n",
              "      <td>2</td>\n",
              "      <td>7</td>\n",
              "      <td>3</td>\n",
              "      <td>2</td>\n",
              "      <td>-1</td>\n",
              "      <td>1</td>\n",
              "      <td>1</td>\n",
              "      <td>1</td>\n",
              "      <td>1</td>\n",
              "      <td>1</td>\n",
              "      <td>2</td>\n",
              "      <td>4</td>\n",
              "      <td>2</td>\n",
              "      <td>4</td>\n",
              "      <td>1</td>\n",
              "      <td>2</td>\n",
              "      <td>2</td>\n",
              "      <td>5</td>\n",
              "      <td>1</td>\n",
              "      <td>8</td>\n",
              "      <td>3</td>\n",
              "      <td>4</td>\n",
              "      <td>3</td>\n",
              "      <td>6</td>\n",
              "      <td>6</td>\n",
              "      <td>1</td>\n",
              "      <td>6</td>\n",
              "      <td>1</td>\n",
              "      <td>-1</td>\n",
              "      <td>2</td>\n",
              "      <td>...</td>\n",
              "      <td>2</td>\n",
              "      <td>1</td>\n",
              "      <td>2</td>\n",
              "      <td>1</td>\n",
              "      <td>1</td>\n",
              "      <td>4</td>\n",
              "      <td>2</td>\n",
              "      <td>-1</td>\n",
              "      <td>3</td>\n",
              "      <td>1</td>\n",
              "      <td>1</td>\n",
              "      <td>-1</td>\n",
              "      <td>1</td>\n",
              "      <td>1</td>\n",
              "      <td>2</td>\n",
              "      <td>2</td>\n",
              "      <td>1</td>\n",
              "      <td>2</td>\n",
              "      <td>2</td>\n",
              "      <td>2</td>\n",
              "      <td>2</td>\n",
              "      <td>2</td>\n",
              "      <td>2</td>\n",
              "      <td>2</td>\n",
              "      <td>371.0</td>\n",
              "      <td>1570.0</td>\n",
              "      <td>37.1</td>\n",
              "      <td>157.0</td>\n",
              "      <td>2</td>\n",
              "      <td>1</td>\n",
              "      <td>1223</td>\n",
              "      <td>1</td>\n",
              "      <td>299.735235</td>\n",
              "      <td>1</td>\n",
              "      <td>2</td>\n",
              "      <td>4</td>\n",
              "      <td>1</td>\n",
              "      <td>1</td>\n",
              "      <td>1</td>\n",
              "      <td>296</td>\n",
              "    </tr>\n",
              "    <tr>\n",
              "      <th>1</th>\n",
              "      <td>2015</td>\n",
              "      <td>76</td>\n",
              "      <td>1</td>\n",
              "      <td>1</td>\n",
              "      <td>2</td>\n",
              "      <td>1</td>\n",
              "      <td>14</td>\n",
              "      <td>4</td>\n",
              "      <td>7</td>\n",
              "      <td>1</td>\n",
              "      <td>1</td>\n",
              "      <td>7</td>\n",
              "      <td>3</td>\n",
              "      <td>2</td>\n",
              "      <td>-1</td>\n",
              "      <td>1</td>\n",
              "      <td>1</td>\n",
              "      <td>1</td>\n",
              "      <td>1</td>\n",
              "      <td>1</td>\n",
              "      <td>2</td>\n",
              "      <td>2</td>\n",
              "      <td>2</td>\n",
              "      <td>4</td>\n",
              "      <td>1</td>\n",
              "      <td>2</td>\n",
              "      <td>2</td>\n",
              "      <td>5</td>\n",
              "      <td>3</td>\n",
              "      <td>8</td>\n",
              "      <td>2</td>\n",
              "      <td>1</td>\n",
              "      <td>8</td>\n",
              "      <td>8</td>\n",
              "      <td>6</td>\n",
              "      <td>1</td>\n",
              "      <td>1</td>\n",
              "      <td>5</td>\n",
              "      <td>-1</td>\n",
              "      <td>2</td>\n",
              "      <td>...</td>\n",
              "      <td>2</td>\n",
              "      <td>3</td>\n",
              "      <td>2</td>\n",
              "      <td>4</td>\n",
              "      <td>4</td>\n",
              "      <td>4</td>\n",
              "      <td>1</td>\n",
              "      <td>2</td>\n",
              "      <td>3</td>\n",
              "      <td>3</td>\n",
              "      <td>1</td>\n",
              "      <td>-1</td>\n",
              "      <td>1</td>\n",
              "      <td>1</td>\n",
              "      <td>2</td>\n",
              "      <td>2</td>\n",
              "      <td>2</td>\n",
              "      <td>2</td>\n",
              "      <td>2</td>\n",
              "      <td>1</td>\n",
              "      <td>2</td>\n",
              "      <td>2</td>\n",
              "      <td>2</td>\n",
              "      <td>2</td>\n",
              "      <td>502.0</td>\n",
              "      <td>1520.0</td>\n",
              "      <td>50.2</td>\n",
              "      <td>152.0</td>\n",
              "      <td>2</td>\n",
              "      <td>2</td>\n",
              "      <td>1223</td>\n",
              "      <td>1</td>\n",
              "      <td>355.170081</td>\n",
              "      <td>1</td>\n",
              "      <td>2</td>\n",
              "      <td>4</td>\n",
              "      <td>1</td>\n",
              "      <td>2</td>\n",
              "      <td>1</td>\n",
              "      <td>296</td>\n",
              "    </tr>\n",
              "    <tr>\n",
              "      <th>2</th>\n",
              "      <td>2015</td>\n",
              "      <td>76</td>\n",
              "      <td>1</td>\n",
              "      <td>1</td>\n",
              "      <td>1</td>\n",
              "      <td>4</td>\n",
              "      <td>13</td>\n",
              "      <td>6</td>\n",
              "      <td>7</td>\n",
              "      <td>1</td>\n",
              "      <td>1</td>\n",
              "      <td>5</td>\n",
              "      <td>5</td>\n",
              "      <td>2</td>\n",
              "      <td>-1</td>\n",
              "      <td>2</td>\n",
              "      <td>1</td>\n",
              "      <td>1</td>\n",
              "      <td>1</td>\n",
              "      <td>1</td>\n",
              "      <td>2</td>\n",
              "      <td>3</td>\n",
              "      <td>1</td>\n",
              "      <td>4</td>\n",
              "      <td>1</td>\n",
              "      <td>2</td>\n",
              "      <td>2</td>\n",
              "      <td>5</td>\n",
              "      <td>3</td>\n",
              "      <td>2</td>\n",
              "      <td>3</td>\n",
              "      <td>1</td>\n",
              "      <td>8</td>\n",
              "      <td>2</td>\n",
              "      <td>8</td>\n",
              "      <td>1</td>\n",
              "      <td>1</td>\n",
              "      <td>5</td>\n",
              "      <td>5</td>\n",
              "      <td>1</td>\n",
              "      <td>...</td>\n",
              "      <td>2</td>\n",
              "      <td>1</td>\n",
              "      <td>2</td>\n",
              "      <td>1</td>\n",
              "      <td>2</td>\n",
              "      <td>3</td>\n",
              "      <td>1</td>\n",
              "      <td>2</td>\n",
              "      <td>1</td>\n",
              "      <td>2</td>\n",
              "      <td>5</td>\n",
              "      <td>99</td>\n",
              "      <td>1</td>\n",
              "      <td>-1</td>\n",
              "      <td>2</td>\n",
              "      <td>2</td>\n",
              "      <td>1</td>\n",
              "      <td>1</td>\n",
              "      <td>1</td>\n",
              "      <td>1</td>\n",
              "      <td>1</td>\n",
              "      <td>1</td>\n",
              "      <td>1</td>\n",
              "      <td>1</td>\n",
              "      <td>482.0</td>\n",
              "      <td>1614.0</td>\n",
              "      <td>48.2</td>\n",
              "      <td>161.4</td>\n",
              "      <td>2</td>\n",
              "      <td>2</td>\n",
              "      <td>1223</td>\n",
              "      <td>1</td>\n",
              "      <td>299.735235</td>\n",
              "      <td>1</td>\n",
              "      <td>2</td>\n",
              "      <td>4</td>\n",
              "      <td>1</td>\n",
              "      <td>3</td>\n",
              "      <td>1</td>\n",
              "      <td>296</td>\n",
              "    </tr>\n",
              "    <tr>\n",
              "      <th>3</th>\n",
              "      <td>2015</td>\n",
              "      <td>76</td>\n",
              "      <td>1</td>\n",
              "      <td>1</td>\n",
              "      <td>1</td>\n",
              "      <td>1</td>\n",
              "      <td>14</td>\n",
              "      <td>6</td>\n",
              "      <td>7</td>\n",
              "      <td>1</td>\n",
              "      <td>1</td>\n",
              "      <td>7</td>\n",
              "      <td>4</td>\n",
              "      <td>2</td>\n",
              "      <td>-1</td>\n",
              "      <td>1</td>\n",
              "      <td>1</td>\n",
              "      <td>1</td>\n",
              "      <td>1</td>\n",
              "      <td>1</td>\n",
              "      <td>2</td>\n",
              "      <td>4</td>\n",
              "      <td>2</td>\n",
              "      <td>4</td>\n",
              "      <td>1</td>\n",
              "      <td>2</td>\n",
              "      <td>2</td>\n",
              "      <td>6</td>\n",
              "      <td>3</td>\n",
              "      <td>2</td>\n",
              "      <td>4</td>\n",
              "      <td>1</td>\n",
              "      <td>3</td>\n",
              "      <td>2</td>\n",
              "      <td>7</td>\n",
              "      <td>1</td>\n",
              "      <td>5</td>\n",
              "      <td>1</td>\n",
              "      <td>-1</td>\n",
              "      <td>2</td>\n",
              "      <td>...</td>\n",
              "      <td>2</td>\n",
              "      <td>1</td>\n",
              "      <td>2</td>\n",
              "      <td>2</td>\n",
              "      <td>2</td>\n",
              "      <td>4</td>\n",
              "      <td>1</td>\n",
              "      <td>10</td>\n",
              "      <td>3</td>\n",
              "      <td>1</td>\n",
              "      <td>2</td>\n",
              "      <td>-1</td>\n",
              "      <td>1</td>\n",
              "      <td>-1</td>\n",
              "      <td>2</td>\n",
              "      <td>2</td>\n",
              "      <td>1</td>\n",
              "      <td>2</td>\n",
              "      <td>2</td>\n",
              "      <td>2</td>\n",
              "      <td>1</td>\n",
              "      <td>2</td>\n",
              "      <td>2</td>\n",
              "      <td>2</td>\n",
              "      <td>694.0</td>\n",
              "      <td>1725.0</td>\n",
              "      <td>69.4</td>\n",
              "      <td>172.5</td>\n",
              "      <td>2</td>\n",
              "      <td>3</td>\n",
              "      <td>1223</td>\n",
              "      <td>1</td>\n",
              "      <td>355.170081</td>\n",
              "      <td>1</td>\n",
              "      <td>2</td>\n",
              "      <td>4</td>\n",
              "      <td>1</td>\n",
              "      <td>4</td>\n",
              "      <td>1</td>\n",
              "      <td>296</td>\n",
              "    </tr>\n",
              "    <tr>\n",
              "      <th>4</th>\n",
              "      <td>2015</td>\n",
              "      <td>76</td>\n",
              "      <td>1</td>\n",
              "      <td>1</td>\n",
              "      <td>1</td>\n",
              "      <td>1</td>\n",
              "      <td>13</td>\n",
              "      <td>9</td>\n",
              "      <td>7</td>\n",
              "      <td>1</td>\n",
              "      <td>2</td>\n",
              "      <td>5</td>\n",
              "      <td>4</td>\n",
              "      <td>2</td>\n",
              "      <td>-1</td>\n",
              "      <td>2</td>\n",
              "      <td>1</td>\n",
              "      <td>1</td>\n",
              "      <td>1</td>\n",
              "      <td>1</td>\n",
              "      <td>2</td>\n",
              "      <td>5</td>\n",
              "      <td>1</td>\n",
              "      <td>4</td>\n",
              "      <td>1</td>\n",
              "      <td>2</td>\n",
              "      <td>2</td>\n",
              "      <td>6</td>\n",
              "      <td>5</td>\n",
              "      <td>6</td>\n",
              "      <td>3</td>\n",
              "      <td>5</td>\n",
              "      <td>2</td>\n",
              "      <td>6</td>\n",
              "      <td>2</td>\n",
              "      <td>1</td>\n",
              "      <td>5</td>\n",
              "      <td>1</td>\n",
              "      <td>5</td>\n",
              "      <td>1</td>\n",
              "      <td>...</td>\n",
              "      <td>2</td>\n",
              "      <td>1</td>\n",
              "      <td>4</td>\n",
              "      <td>2</td>\n",
              "      <td>2</td>\n",
              "      <td>4</td>\n",
              "      <td>1</td>\n",
              "      <td>3</td>\n",
              "      <td>2</td>\n",
              "      <td>2</td>\n",
              "      <td>2</td>\n",
              "      <td>13</td>\n",
              "      <td>1</td>\n",
              "      <td>-1</td>\n",
              "      <td>1</td>\n",
              "      <td>2</td>\n",
              "      <td>1</td>\n",
              "      <td>1</td>\n",
              "      <td>1</td>\n",
              "      <td>1</td>\n",
              "      <td>1</td>\n",
              "      <td>1</td>\n",
              "      <td>1</td>\n",
              "      <td>1</td>\n",
              "      <td>789.0</td>\n",
              "      <td>1675.0</td>\n",
              "      <td>78.9</td>\n",
              "      <td>167.5</td>\n",
              "      <td>2</td>\n",
              "      <td>4</td>\n",
              "      <td>1223</td>\n",
              "      <td>1</td>\n",
              "      <td>299.735235</td>\n",
              "      <td>1</td>\n",
              "      <td>2</td>\n",
              "      <td>4</td>\n",
              "      <td>1</td>\n",
              "      <td>5</td>\n",
              "      <td>1</td>\n",
              "      <td>296</td>\n",
              "    </tr>\n",
              "  </tbody>\n",
              "</table>\n",
              "<p>5 rows × 181 columns</p>\n",
              "</div>"
            ],
            "text/plain": [
              "   ANOPESQ  PAIS  REGEOGR  VB00004  VB01001  ...  V0008  V0041  aluno  escola  turma\n",
              "0     2015    76        1        1        2  ...      4      1      1       1    296\n",
              "1     2015    76        1        1        2  ...      4      1      2       1    296\n",
              "2     2015    76        1        1        1  ...      4      1      3       1    296\n",
              "3     2015    76        1        1        1  ...      4      1      4       1    296\n",
              "4     2015    76        1        1        1  ...      4      1      5       1    296\n",
              "\n",
              "[5 rows x 181 columns]"
            ]
          },
          "metadata": {
            "tags": []
          },
          "execution_count": 64
        }
      ]
    },
    {
      "cell_type": "code",
      "metadata": {
        "colab": {
          "base_uri": "https://localhost:8080/"
        },
        "id": "dcg8lG9AmEUT",
        "outputId": "65eac1c9-c777-40c0-e764-289bca7b6214"
      },
      "source": [
        "#Mostrando o nome dos arquivos\r\n",
        "\r\n",
        "zip.namelist()"
      ],
      "execution_count": 65,
      "outputs": [
        {
          "output_type": "execute_result",
          "data": {
            "text/plain": [
              "['arquivos csv/',\n",
              " 'arquivos csv/PENSE_AMOSTRA2_ALUNO.CSV',\n",
              " 'arquivos csv/PENSE_AMOSTRA2_ALUNOESCOLA.CSV',\n",
              " 'arquivos csv/PENSE_AMOSTRA2_ESCOLA.CSV',\n",
              " 'arquivos sas/',\n",
              " 'arquivos sas/pense_amostra2_aluno.sas7bdat',\n",
              " 'arquivos sas/pense_amostra2_alunoescola.sas7bdat',\n",
              " 'arquivos sas/pense_amostra2_escola.sas7bdat',\n",
              " 'arquivos xlsx/',\n",
              " 'arquivos xlsx/PENSE_AMOSTRA2_ALUNO.xlsx',\n",
              " 'arquivos xlsx/PENSE_AMOSTRA2_ALUNOESCOLA.xlsx',\n",
              " 'arquivos xlsx/PENSE_AMOSTRA2_ESCOLA.xlsx',\n",
              " 'Dicionario_PENSE_Microdados_AMOSTRA2.xls']"
            ]
          },
          "metadata": {
            "tags": []
          },
          "execution_count": 65
        }
      ]
    },
    {
      "cell_type": "code",
      "metadata": {
        "colab": {
          "base_uri": "https://localhost:8080/"
        },
        "id": "zGeVcY30rz-b",
        "outputId": "f7791a14-21d0-4ece-9265-57c978bcaa24"
      },
      "source": [
        "#Procurando o número de linhas e de colunas\r\n",
        "\r\n",
        "dados.shape"
      ],
      "execution_count": 66,
      "outputs": [
        {
          "output_type": "execute_result",
          "data": {
            "text/plain": [
              "(16556, 181)"
            ]
          },
          "metadata": {
            "tags": []
          },
          "execution_count": 66
        }
      ]
    },
    {
      "cell_type": "code",
      "metadata": {
        "colab": {
          "base_uri": "https://localhost:8080/"
        },
        "id": "Yj9cyaxNr2i-",
        "outputId": "e94029d2-5006-448d-aa67-cda9a6577ee9"
      },
      "source": [
        "#Consultando quais colunas temos;\r\n",
        "#*É necessário ler o dicionário de dados para entender as nomeclaturas das colunas como VB00001;\r\n",
        "#*O dicionário fica dentro da pasta zipada neste caso.\r\n",
        "\r\n",
        "dados.columns"
      ],
      "execution_count": 67,
      "outputs": [
        {
          "output_type": "execute_result",
          "data": {
            "text/plain": [
              "Index(['ANOPESQ', 'PAIS', 'REGEOGR', 'VB00004', 'VB01001', 'VB01002',\n",
              "       'VB01003', 'VB01004', 'VB01005', 'VB01006',\n",
              "       ...\n",
              "       'ESTRATO_EXP', 'ESTRATOGEOREG', 'PESO', 'V0006', 'V0007', 'V0008',\n",
              "       'V0041', 'aluno', 'escola', 'turma'],\n",
              "      dtype='object', length=181)"
            ]
          },
          "metadata": {
            "tags": []
          },
          "execution_count": 67
        }
      ]
    },
    {
      "cell_type": "code",
      "metadata": {
        "colab": {
          "base_uri": "https://localhost:8080/"
        },
        "id": "VvwrGEP6r5hY",
        "outputId": "8865481c-b3b9-44df-f495-bdb70d185945"
      },
      "source": [
        "zip.namelist()\r\n",
        "\r\n",
        "#Repare no \"Dicionario_PENSE_Microdados_AMOSTRA2.xls\""
      ],
      "execution_count": 68,
      "outputs": [
        {
          "output_type": "execute_result",
          "data": {
            "text/plain": [
              "['arquivos csv/',\n",
              " 'arquivos csv/PENSE_AMOSTRA2_ALUNO.CSV',\n",
              " 'arquivos csv/PENSE_AMOSTRA2_ALUNOESCOLA.CSV',\n",
              " 'arquivos csv/PENSE_AMOSTRA2_ESCOLA.CSV',\n",
              " 'arquivos sas/',\n",
              " 'arquivos sas/pense_amostra2_aluno.sas7bdat',\n",
              " 'arquivos sas/pense_amostra2_alunoescola.sas7bdat',\n",
              " 'arquivos sas/pense_amostra2_escola.sas7bdat',\n",
              " 'arquivos xlsx/',\n",
              " 'arquivos xlsx/PENSE_AMOSTRA2_ALUNO.xlsx',\n",
              " 'arquivos xlsx/PENSE_AMOSTRA2_ALUNOESCOLA.xlsx',\n",
              " 'arquivos xlsx/PENSE_AMOSTRA2_ESCOLA.xlsx',\n",
              " 'Dicionario_PENSE_Microdados_AMOSTRA2.xls']"
            ]
          },
          "metadata": {
            "tags": []
          },
          "execution_count": 68
        }
      ]
    },
    {
      "cell_type": "code",
      "metadata": {
        "colab": {
          "base_uri": "https://localhost:8080/"
        },
        "id": "C8Ze7aMor4dV",
        "outputId": "00e6c112-21fe-43b3-c3c5-186fd6b882e7"
      },
      "source": [
        "#Quais são os tipos de dados associados à base de dados\r\n",
        "\r\n",
        "dados.info"
      ],
      "execution_count": 69,
      "outputs": [
        {
          "output_type": "execute_result",
          "data": {
            "text/plain": [
              "<bound method DataFrame.info of        ANOPESQ  PAIS  REGEOGR  VB00004  ...  V0041  aluno  escola  turma\n",
              "0         2015    76        1        1  ...      1      1       1    296\n",
              "1         2015    76        1        1  ...      1      2       1    296\n",
              "2         2015    76        1        1  ...      1      3       1    296\n",
              "3         2015    76        1        1  ...      1      4       1    296\n",
              "4         2015    76        1        1  ...      1      5       1    296\n",
              "...        ...   ...      ...      ...  ...    ...    ...     ...    ...\n",
              "16551     2015    76        5        1  ...      1  16552     371    117\n",
              "16552     2015    76        5        1  ...      1  16553     371    117\n",
              "16553     2015    76        5        1  ...      1  16554     371    117\n",
              "16554     2015    76        5        1  ...      1  16555     371    117\n",
              "16555     2015    76        5        1  ...      1  16556     371    117\n",
              "\n",
              "[16556 rows x 181 columns]>"
            ]
          },
          "metadata": {
            "tags": []
          },
          "execution_count": 69
        }
      ]
    },
    {
      "cell_type": "code",
      "metadata": {
        "colab": {
          "base_uri": "https://localhost:8080/",
          "height": 0
        },
        "id": "4vTWA_Cer9zp",
        "outputId": "b815f1b4-54e8-4083-cd67-31bb2d7098b3"
      },
      "source": [
        "#Selecionando um tipo de dado (no caso, object)\r\n",
        "\r\n",
        "dados.select_dtypes(include = \"object\")\r\n",
        "\r\n",
        "#Repare que não há um tipo object"
      ],
      "execution_count": 70,
      "outputs": [
        {
          "output_type": "execute_result",
          "data": {
            "text/html": [
              "<div>\n",
              "<style scoped>\n",
              "    .dataframe tbody tr th:only-of-type {\n",
              "        vertical-align: middle;\n",
              "    }\n",
              "\n",
              "    .dataframe tbody tr th {\n",
              "        vertical-align: top;\n",
              "    }\n",
              "\n",
              "    .dataframe thead th {\n",
              "        text-align: right;\n",
              "    }\n",
              "</style>\n",
              "<table border=\"1\" class=\"dataframe\">\n",
              "  <thead>\n",
              "    <tr style=\"text-align: right;\">\n",
              "      <th></th>\n",
              "    </tr>\n",
              "  </thead>\n",
              "  <tbody>\n",
              "    <tr>\n",
              "      <th>0</th>\n",
              "    </tr>\n",
              "    <tr>\n",
              "      <th>1</th>\n",
              "    </tr>\n",
              "    <tr>\n",
              "      <th>2</th>\n",
              "    </tr>\n",
              "    <tr>\n",
              "      <th>3</th>\n",
              "    </tr>\n",
              "    <tr>\n",
              "      <th>4</th>\n",
              "    </tr>\n",
              "    <tr>\n",
              "      <th>...</th>\n",
              "    </tr>\n",
              "    <tr>\n",
              "      <th>16551</th>\n",
              "    </tr>\n",
              "    <tr>\n",
              "      <th>16552</th>\n",
              "    </tr>\n",
              "    <tr>\n",
              "      <th>16553</th>\n",
              "    </tr>\n",
              "    <tr>\n",
              "      <th>16554</th>\n",
              "    </tr>\n",
              "    <tr>\n",
              "      <th>16555</th>\n",
              "    </tr>\n",
              "  </tbody>\n",
              "</table>\n",
              "<p>16556 rows × 0 columns</p>\n",
              "</div>"
            ],
            "text/plain": [
              "Empty DataFrame\n",
              "Columns: []\n",
              "Index: [0, 1, 2, 3, 4, 5, 6, 7, 8, 9, 10, 11, 12, 13, 14, 15, 16, 17, 18, 19, 20, 21, 22, 23, 24, 25, 26, 27, 28, 29, 30, 31, 32, 33, 34, 35, 36, 37, 38, 39, 40, 41, 42, 43, 44, 45, 46, 47, 48, 49, 50, 51, 52, 53, 54, 55, 56, 57, 58, 59, 60, 61, 62, 63, 64, 65, 66, 67, 68, 69, 70, 71, 72, 73, 74, 75, 76, 77, 78, 79, 80, 81, 82, 83, 84, 85, 86, 87, 88, 89, 90, 91, 92, 93, 94, 95, 96, 97, 98, 99, ...]\n",
              "\n",
              "[16556 rows x 0 columns]"
            ]
          },
          "metadata": {
            "tags": []
          },
          "execution_count": 70
        }
      ]
    },
    {
      "cell_type": "code",
      "metadata": {
        "colab": {
          "base_uri": "https://localhost:8080/",
          "height": 0
        },
        "id": "GVE2Utq7ia_Z",
        "outputId": "15775ceb-fb32-43c5-8a5f-2541b1734cc5"
      },
      "source": [
        "#Selecionando um tipo de dado (no caso, float64)\r\n",
        "\r\n",
        "dados.select_dtypes(include = \"float64\")"
      ],
      "execution_count": 71,
      "outputs": [
        {
          "output_type": "execute_result",
          "data": {
            "text/html": [
              "<div>\n",
              "<style scoped>\n",
              "    .dataframe tbody tr th:only-of-type {\n",
              "        vertical-align: middle;\n",
              "    }\n",
              "\n",
              "    .dataframe tbody tr th {\n",
              "        vertical-align: top;\n",
              "    }\n",
              "\n",
              "    .dataframe thead th {\n",
              "        text-align: right;\n",
              "    }\n",
              "</style>\n",
              "<table border=\"1\" class=\"dataframe\">\n",
              "  <thead>\n",
              "    <tr style=\"text-align: right;\">\n",
              "      <th></th>\n",
              "      <th>TEMPODESLOC</th>\n",
              "      <th>TEMPOTOTAL</th>\n",
              "      <th>TEMPOEDFIS</th>\n",
              "      <th>TEMPOEXTRA</th>\n",
              "      <th>TEMPOEST</th>\n",
              "      <th>VB17001</th>\n",
              "      <th>VB17002</th>\n",
              "      <th>VB17003</th>\n",
              "      <th>VB17004</th>\n",
              "      <th>PESO</th>\n",
              "    </tr>\n",
              "  </thead>\n",
              "  <tbody>\n",
              "    <tr>\n",
              "      <th>0</th>\n",
              "      <td>0.0</td>\n",
              "      <td>15.0</td>\n",
              "      <td>0.0</td>\n",
              "      <td>15.0</td>\n",
              "      <td>60.0</td>\n",
              "      <td>371.0</td>\n",
              "      <td>1570.0</td>\n",
              "      <td>37.1</td>\n",
              "      <td>157.0</td>\n",
              "      <td>299.735235</td>\n",
              "    </tr>\n",
              "    <tr>\n",
              "      <th>1</th>\n",
              "      <td>120.0</td>\n",
              "      <td>510.0</td>\n",
              "      <td>260.0</td>\n",
              "      <td>130.0</td>\n",
              "      <td>300.0</td>\n",
              "      <td>502.0</td>\n",
              "      <td>1520.0</td>\n",
              "      <td>50.2</td>\n",
              "      <td>152.0</td>\n",
              "      <td>355.170081</td>\n",
              "    </tr>\n",
              "    <tr>\n",
              "      <th>2</th>\n",
              "      <td>0.0</td>\n",
              "      <td>585.0</td>\n",
              "      <td>130.0</td>\n",
              "      <td>455.0</td>\n",
              "      <td>420.0</td>\n",
              "      <td>482.0</td>\n",
              "      <td>1614.0</td>\n",
              "      <td>48.2</td>\n",
              "      <td>161.4</td>\n",
              "      <td>299.735235</td>\n",
              "    </tr>\n",
              "    <tr>\n",
              "      <th>3</th>\n",
              "      <td>0.0</td>\n",
              "      <td>0.0</td>\n",
              "      <td>0.0</td>\n",
              "      <td>0.0</td>\n",
              "      <td>0.0</td>\n",
              "      <td>694.0</td>\n",
              "      <td>1725.0</td>\n",
              "      <td>69.4</td>\n",
              "      <td>172.5</td>\n",
              "      <td>355.170081</td>\n",
              "    </tr>\n",
              "    <tr>\n",
              "      <th>4</th>\n",
              "      <td>30.0</td>\n",
              "      <td>165.0</td>\n",
              "      <td>90.0</td>\n",
              "      <td>45.0</td>\n",
              "      <td>60.0</td>\n",
              "      <td>789.0</td>\n",
              "      <td>1675.0</td>\n",
              "      <td>78.9</td>\n",
              "      <td>167.5</td>\n",
              "      <td>299.735235</td>\n",
              "    </tr>\n",
              "    <tr>\n",
              "      <th>...</th>\n",
              "      <td>...</td>\n",
              "      <td>...</td>\n",
              "      <td>...</td>\n",
              "      <td>...</td>\n",
              "      <td>...</td>\n",
              "      <td>...</td>\n",
              "      <td>...</td>\n",
              "      <td>...</td>\n",
              "      <td>...</td>\n",
              "      <td>...</td>\n",
              "    </tr>\n",
              "    <tr>\n",
              "      <th>16551</th>\n",
              "      <td>30.0</td>\n",
              "      <td>400.0</td>\n",
              "      <td>110.0</td>\n",
              "      <td>260.0</td>\n",
              "      <td>240.0</td>\n",
              "      <td>567.0</td>\n",
              "      <td>1679.0</td>\n",
              "      <td>56.7</td>\n",
              "      <td>167.9</td>\n",
              "      <td>447.815539</td>\n",
              "    </tr>\n",
              "    <tr>\n",
              "      <th>16552</th>\n",
              "      <td>20.0</td>\n",
              "      <td>800.0</td>\n",
              "      <td>325.0</td>\n",
              "      <td>455.0</td>\n",
              "      <td>240.0</td>\n",
              "      <td>619.0</td>\n",
              "      <td>1858.0</td>\n",
              "      <td>61.9</td>\n",
              "      <td>185.8</td>\n",
              "      <td>592.507440</td>\n",
              "    </tr>\n",
              "    <tr>\n",
              "      <th>16553</th>\n",
              "      <td>0.0</td>\n",
              "      <td>0.0</td>\n",
              "      <td>0.0</td>\n",
              "      <td>0.0</td>\n",
              "      <td>60.0</td>\n",
              "      <td>609.0</td>\n",
              "      <td>1594.0</td>\n",
              "      <td>60.9</td>\n",
              "      <td>159.4</td>\n",
              "      <td>401.131512</td>\n",
              "    </tr>\n",
              "    <tr>\n",
              "      <th>16554</th>\n",
              "      <td>75.0</td>\n",
              "      <td>215.0</td>\n",
              "      <td>35.0</td>\n",
              "      <td>105.0</td>\n",
              "      <td>120.0</td>\n",
              "      <td>473.0</td>\n",
              "      <td>1578.0</td>\n",
              "      <td>47.3</td>\n",
              "      <td>157.8</td>\n",
              "      <td>442.718091</td>\n",
              "    </tr>\n",
              "    <tr>\n",
              "      <th>16555</th>\n",
              "      <td>50.0</td>\n",
              "      <td>485.0</td>\n",
              "      <td>110.0</td>\n",
              "      <td>325.0</td>\n",
              "      <td>360.0</td>\n",
              "      <td>626.0</td>\n",
              "      <td>1639.0</td>\n",
              "      <td>62.6</td>\n",
              "      <td>163.9</td>\n",
              "      <td>592.507440</td>\n",
              "    </tr>\n",
              "  </tbody>\n",
              "</table>\n",
              "<p>16556 rows × 10 columns</p>\n",
              "</div>"
            ],
            "text/plain": [
              "       TEMPODESLOC  TEMPOTOTAL  TEMPOEDFIS  ...  VB17003  VB17004        PESO\n",
              "0              0.0        15.0         0.0  ...     37.1    157.0  299.735235\n",
              "1            120.0       510.0       260.0  ...     50.2    152.0  355.170081\n",
              "2              0.0       585.0       130.0  ...     48.2    161.4  299.735235\n",
              "3              0.0         0.0         0.0  ...     69.4    172.5  355.170081\n",
              "4             30.0       165.0        90.0  ...     78.9    167.5  299.735235\n",
              "...            ...         ...         ...  ...      ...      ...         ...\n",
              "16551         30.0       400.0       110.0  ...     56.7    167.9  447.815539\n",
              "16552         20.0       800.0       325.0  ...     61.9    185.8  592.507440\n",
              "16553          0.0         0.0         0.0  ...     60.9    159.4  401.131512\n",
              "16554         75.0       215.0        35.0  ...     47.3    157.8  442.718091\n",
              "16555         50.0       485.0       110.0  ...     62.6    163.9  592.507440\n",
              "\n",
              "[16556 rows x 10 columns]"
            ]
          },
          "metadata": {
            "tags": []
          },
          "execution_count": 71
        }
      ]
    },
    {
      "cell_type": "code",
      "metadata": {
        "colab": {
          "base_uri": "https://localhost:8080/",
          "height": 0
        },
        "id": "-58HYYmD3QRW",
        "outputId": "f91af943-17b1-468d-bb7b-71f6119ce727"
      },
      "source": [
        "#Selecionando um tipo de dado (no caso, integer)\r\n",
        "\r\n",
        "dados.select_dtypes(include = \"integer\")\r\n",
        "\r\n",
        "#Repare que são a maioria"
      ],
      "execution_count": 72,
      "outputs": [
        {
          "output_type": "execute_result",
          "data": {
            "text/html": [
              "<div>\n",
              "<style scoped>\n",
              "    .dataframe tbody tr th:only-of-type {\n",
              "        vertical-align: middle;\n",
              "    }\n",
              "\n",
              "    .dataframe tbody tr th {\n",
              "        vertical-align: top;\n",
              "    }\n",
              "\n",
              "    .dataframe thead th {\n",
              "        text-align: right;\n",
              "    }\n",
              "</style>\n",
              "<table border=\"1\" class=\"dataframe\">\n",
              "  <thead>\n",
              "    <tr style=\"text-align: right;\">\n",
              "      <th></th>\n",
              "      <th>ANOPESQ</th>\n",
              "      <th>PAIS</th>\n",
              "      <th>REGEOGR</th>\n",
              "      <th>VB00004</th>\n",
              "      <th>VB01001</th>\n",
              "      <th>VB01002</th>\n",
              "      <th>VB01003</th>\n",
              "      <th>VB01004</th>\n",
              "      <th>VB01005</th>\n",
              "      <th>VB01006</th>\n",
              "      <th>VB01007</th>\n",
              "      <th>VB01008A</th>\n",
              "      <th>VB01010A</th>\n",
              "      <th>VB01011</th>\n",
              "      <th>VB01012</th>\n",
              "      <th>VB01013</th>\n",
              "      <th>VB01014</th>\n",
              "      <th>VB01015A</th>\n",
              "      <th>VB01016</th>\n",
              "      <th>VB01017</th>\n",
              "      <th>VB01018</th>\n",
              "      <th>VB01019</th>\n",
              "      <th>VB01020A</th>\n",
              "      <th>VB01021</th>\n",
              "      <th>VB01022</th>\n",
              "      <th>VB01023</th>\n",
              "      <th>VB01024</th>\n",
              "      <th>VB01025</th>\n",
              "      <th>VB01026</th>\n",
              "      <th>VB02001</th>\n",
              "      <th>VB02002</th>\n",
              "      <th>VB02004A</th>\n",
              "      <th>VB02010</th>\n",
              "      <th>VB02011</th>\n",
              "      <th>VB02013</th>\n",
              "      <th>VB02017A</th>\n",
              "      <th>VB02018A</th>\n",
              "      <th>VB02019A</th>\n",
              "      <th>VB02020A</th>\n",
              "      <th>VB02021</th>\n",
              "      <th>...</th>\n",
              "      <th>VB10006</th>\n",
              "      <th>VB11001</th>\n",
              "      <th>VB11002</th>\n",
              "      <th>VB11003</th>\n",
              "      <th>VB11004A</th>\n",
              "      <th>VB11005</th>\n",
              "      <th>VB11006</th>\n",
              "      <th>VB11007</th>\n",
              "      <th>VB12001</th>\n",
              "      <th>VB12002</th>\n",
              "      <th>VB12003</th>\n",
              "      <th>VB13001</th>\n",
              "      <th>VB13002A</th>\n",
              "      <th>VB13004A</th>\n",
              "      <th>VB13005</th>\n",
              "      <th>VB13006</th>\n",
              "      <th>VB13007</th>\n",
              "      <th>VB13008</th>\n",
              "      <th>VB13009</th>\n",
              "      <th>VB14001</th>\n",
              "      <th>VB14002</th>\n",
              "      <th>VB16001A01</th>\n",
              "      <th>VB16001A02</th>\n",
              "      <th>VB16001A03</th>\n",
              "      <th>VB16001A04</th>\n",
              "      <th>VB16001A05</th>\n",
              "      <th>VB16001A06</th>\n",
              "      <th>VB16001A07</th>\n",
              "      <th>VB16001A08</th>\n",
              "      <th>VB17005</th>\n",
              "      <th>VB17006</th>\n",
              "      <th>ESTRATO_EXP</th>\n",
              "      <th>ESTRATOGEOREG</th>\n",
              "      <th>V0006</th>\n",
              "      <th>V0007</th>\n",
              "      <th>V0008</th>\n",
              "      <th>V0041</th>\n",
              "      <th>aluno</th>\n",
              "      <th>escola</th>\n",
              "      <th>turma</th>\n",
              "    </tr>\n",
              "  </thead>\n",
              "  <tbody>\n",
              "    <tr>\n",
              "      <th>0</th>\n",
              "      <td>2015</td>\n",
              "      <td>76</td>\n",
              "      <td>1</td>\n",
              "      <td>1</td>\n",
              "      <td>2</td>\n",
              "      <td>1</td>\n",
              "      <td>13</td>\n",
              "      <td>7</td>\n",
              "      <td>7</td>\n",
              "      <td>1</td>\n",
              "      <td>2</td>\n",
              "      <td>7</td>\n",
              "      <td>3</td>\n",
              "      <td>2</td>\n",
              "      <td>-1</td>\n",
              "      <td>1</td>\n",
              "      <td>1</td>\n",
              "      <td>1</td>\n",
              "      <td>1</td>\n",
              "      <td>1</td>\n",
              "      <td>2</td>\n",
              "      <td>4</td>\n",
              "      <td>2</td>\n",
              "      <td>4</td>\n",
              "      <td>1</td>\n",
              "      <td>2</td>\n",
              "      <td>2</td>\n",
              "      <td>5</td>\n",
              "      <td>1</td>\n",
              "      <td>8</td>\n",
              "      <td>3</td>\n",
              "      <td>4</td>\n",
              "      <td>3</td>\n",
              "      <td>6</td>\n",
              "      <td>6</td>\n",
              "      <td>1</td>\n",
              "      <td>6</td>\n",
              "      <td>1</td>\n",
              "      <td>-1</td>\n",
              "      <td>2</td>\n",
              "      <td>...</td>\n",
              "      <td>5</td>\n",
              "      <td>1</td>\n",
              "      <td>3</td>\n",
              "      <td>2</td>\n",
              "      <td>2</td>\n",
              "      <td>2</td>\n",
              "      <td>1</td>\n",
              "      <td>2</td>\n",
              "      <td>1</td>\n",
              "      <td>1</td>\n",
              "      <td>4</td>\n",
              "      <td>2</td>\n",
              "      <td>-1</td>\n",
              "      <td>3</td>\n",
              "      <td>1</td>\n",
              "      <td>1</td>\n",
              "      <td>-1</td>\n",
              "      <td>1</td>\n",
              "      <td>1</td>\n",
              "      <td>2</td>\n",
              "      <td>2</td>\n",
              "      <td>1</td>\n",
              "      <td>2</td>\n",
              "      <td>2</td>\n",
              "      <td>2</td>\n",
              "      <td>2</td>\n",
              "      <td>2</td>\n",
              "      <td>2</td>\n",
              "      <td>2</td>\n",
              "      <td>2</td>\n",
              "      <td>1</td>\n",
              "      <td>1223</td>\n",
              "      <td>1</td>\n",
              "      <td>1</td>\n",
              "      <td>2</td>\n",
              "      <td>4</td>\n",
              "      <td>1</td>\n",
              "      <td>1</td>\n",
              "      <td>1</td>\n",
              "      <td>296</td>\n",
              "    </tr>\n",
              "    <tr>\n",
              "      <th>1</th>\n",
              "      <td>2015</td>\n",
              "      <td>76</td>\n",
              "      <td>1</td>\n",
              "      <td>1</td>\n",
              "      <td>2</td>\n",
              "      <td>1</td>\n",
              "      <td>14</td>\n",
              "      <td>4</td>\n",
              "      <td>7</td>\n",
              "      <td>1</td>\n",
              "      <td>1</td>\n",
              "      <td>7</td>\n",
              "      <td>3</td>\n",
              "      <td>2</td>\n",
              "      <td>-1</td>\n",
              "      <td>1</td>\n",
              "      <td>1</td>\n",
              "      <td>1</td>\n",
              "      <td>1</td>\n",
              "      <td>1</td>\n",
              "      <td>2</td>\n",
              "      <td>2</td>\n",
              "      <td>2</td>\n",
              "      <td>4</td>\n",
              "      <td>1</td>\n",
              "      <td>2</td>\n",
              "      <td>2</td>\n",
              "      <td>5</td>\n",
              "      <td>3</td>\n",
              "      <td>8</td>\n",
              "      <td>2</td>\n",
              "      <td>1</td>\n",
              "      <td>8</td>\n",
              "      <td>8</td>\n",
              "      <td>6</td>\n",
              "      <td>1</td>\n",
              "      <td>1</td>\n",
              "      <td>5</td>\n",
              "      <td>-1</td>\n",
              "      <td>2</td>\n",
              "      <td>...</td>\n",
              "      <td>5</td>\n",
              "      <td>3</td>\n",
              "      <td>4</td>\n",
              "      <td>2</td>\n",
              "      <td>2</td>\n",
              "      <td>2</td>\n",
              "      <td>3</td>\n",
              "      <td>2</td>\n",
              "      <td>4</td>\n",
              "      <td>4</td>\n",
              "      <td>4</td>\n",
              "      <td>1</td>\n",
              "      <td>2</td>\n",
              "      <td>3</td>\n",
              "      <td>3</td>\n",
              "      <td>1</td>\n",
              "      <td>-1</td>\n",
              "      <td>1</td>\n",
              "      <td>1</td>\n",
              "      <td>2</td>\n",
              "      <td>2</td>\n",
              "      <td>2</td>\n",
              "      <td>2</td>\n",
              "      <td>2</td>\n",
              "      <td>1</td>\n",
              "      <td>2</td>\n",
              "      <td>2</td>\n",
              "      <td>2</td>\n",
              "      <td>2</td>\n",
              "      <td>2</td>\n",
              "      <td>2</td>\n",
              "      <td>1223</td>\n",
              "      <td>1</td>\n",
              "      <td>1</td>\n",
              "      <td>2</td>\n",
              "      <td>4</td>\n",
              "      <td>1</td>\n",
              "      <td>2</td>\n",
              "      <td>1</td>\n",
              "      <td>296</td>\n",
              "    </tr>\n",
              "    <tr>\n",
              "      <th>2</th>\n",
              "      <td>2015</td>\n",
              "      <td>76</td>\n",
              "      <td>1</td>\n",
              "      <td>1</td>\n",
              "      <td>1</td>\n",
              "      <td>4</td>\n",
              "      <td>13</td>\n",
              "      <td>6</td>\n",
              "      <td>7</td>\n",
              "      <td>1</td>\n",
              "      <td>1</td>\n",
              "      <td>5</td>\n",
              "      <td>5</td>\n",
              "      <td>2</td>\n",
              "      <td>-1</td>\n",
              "      <td>2</td>\n",
              "      <td>1</td>\n",
              "      <td>1</td>\n",
              "      <td>1</td>\n",
              "      <td>1</td>\n",
              "      <td>2</td>\n",
              "      <td>3</td>\n",
              "      <td>1</td>\n",
              "      <td>4</td>\n",
              "      <td>1</td>\n",
              "      <td>2</td>\n",
              "      <td>2</td>\n",
              "      <td>5</td>\n",
              "      <td>3</td>\n",
              "      <td>2</td>\n",
              "      <td>3</td>\n",
              "      <td>1</td>\n",
              "      <td>8</td>\n",
              "      <td>2</td>\n",
              "      <td>8</td>\n",
              "      <td>1</td>\n",
              "      <td>1</td>\n",
              "      <td>5</td>\n",
              "      <td>5</td>\n",
              "      <td>1</td>\n",
              "      <td>...</td>\n",
              "      <td>5</td>\n",
              "      <td>3</td>\n",
              "      <td>1</td>\n",
              "      <td>2</td>\n",
              "      <td>2</td>\n",
              "      <td>2</td>\n",
              "      <td>1</td>\n",
              "      <td>2</td>\n",
              "      <td>1</td>\n",
              "      <td>2</td>\n",
              "      <td>3</td>\n",
              "      <td>1</td>\n",
              "      <td>2</td>\n",
              "      <td>1</td>\n",
              "      <td>2</td>\n",
              "      <td>5</td>\n",
              "      <td>99</td>\n",
              "      <td>1</td>\n",
              "      <td>-1</td>\n",
              "      <td>2</td>\n",
              "      <td>2</td>\n",
              "      <td>1</td>\n",
              "      <td>1</td>\n",
              "      <td>1</td>\n",
              "      <td>1</td>\n",
              "      <td>1</td>\n",
              "      <td>1</td>\n",
              "      <td>1</td>\n",
              "      <td>1</td>\n",
              "      <td>2</td>\n",
              "      <td>2</td>\n",
              "      <td>1223</td>\n",
              "      <td>1</td>\n",
              "      <td>1</td>\n",
              "      <td>2</td>\n",
              "      <td>4</td>\n",
              "      <td>1</td>\n",
              "      <td>3</td>\n",
              "      <td>1</td>\n",
              "      <td>296</td>\n",
              "    </tr>\n",
              "    <tr>\n",
              "      <th>3</th>\n",
              "      <td>2015</td>\n",
              "      <td>76</td>\n",
              "      <td>1</td>\n",
              "      <td>1</td>\n",
              "      <td>1</td>\n",
              "      <td>1</td>\n",
              "      <td>14</td>\n",
              "      <td>6</td>\n",
              "      <td>7</td>\n",
              "      <td>1</td>\n",
              "      <td>1</td>\n",
              "      <td>7</td>\n",
              "      <td>4</td>\n",
              "      <td>2</td>\n",
              "      <td>-1</td>\n",
              "      <td>1</td>\n",
              "      <td>1</td>\n",
              "      <td>1</td>\n",
              "      <td>1</td>\n",
              "      <td>1</td>\n",
              "      <td>2</td>\n",
              "      <td>4</td>\n",
              "      <td>2</td>\n",
              "      <td>4</td>\n",
              "      <td>1</td>\n",
              "      <td>2</td>\n",
              "      <td>2</td>\n",
              "      <td>6</td>\n",
              "      <td>3</td>\n",
              "      <td>2</td>\n",
              "      <td>4</td>\n",
              "      <td>1</td>\n",
              "      <td>3</td>\n",
              "      <td>2</td>\n",
              "      <td>7</td>\n",
              "      <td>1</td>\n",
              "      <td>5</td>\n",
              "      <td>1</td>\n",
              "      <td>-1</td>\n",
              "      <td>2</td>\n",
              "      <td>...</td>\n",
              "      <td>5</td>\n",
              "      <td>3</td>\n",
              "      <td>2</td>\n",
              "      <td>2</td>\n",
              "      <td>2</td>\n",
              "      <td>2</td>\n",
              "      <td>1</td>\n",
              "      <td>2</td>\n",
              "      <td>2</td>\n",
              "      <td>2</td>\n",
              "      <td>4</td>\n",
              "      <td>1</td>\n",
              "      <td>10</td>\n",
              "      <td>3</td>\n",
              "      <td>1</td>\n",
              "      <td>2</td>\n",
              "      <td>-1</td>\n",
              "      <td>1</td>\n",
              "      <td>-1</td>\n",
              "      <td>2</td>\n",
              "      <td>2</td>\n",
              "      <td>1</td>\n",
              "      <td>2</td>\n",
              "      <td>2</td>\n",
              "      <td>2</td>\n",
              "      <td>1</td>\n",
              "      <td>2</td>\n",
              "      <td>2</td>\n",
              "      <td>2</td>\n",
              "      <td>2</td>\n",
              "      <td>3</td>\n",
              "      <td>1223</td>\n",
              "      <td>1</td>\n",
              "      <td>1</td>\n",
              "      <td>2</td>\n",
              "      <td>4</td>\n",
              "      <td>1</td>\n",
              "      <td>4</td>\n",
              "      <td>1</td>\n",
              "      <td>296</td>\n",
              "    </tr>\n",
              "    <tr>\n",
              "      <th>4</th>\n",
              "      <td>2015</td>\n",
              "      <td>76</td>\n",
              "      <td>1</td>\n",
              "      <td>1</td>\n",
              "      <td>1</td>\n",
              "      <td>1</td>\n",
              "      <td>13</td>\n",
              "      <td>9</td>\n",
              "      <td>7</td>\n",
              "      <td>1</td>\n",
              "      <td>2</td>\n",
              "      <td>5</td>\n",
              "      <td>4</td>\n",
              "      <td>2</td>\n",
              "      <td>-1</td>\n",
              "      <td>2</td>\n",
              "      <td>1</td>\n",
              "      <td>1</td>\n",
              "      <td>1</td>\n",
              "      <td>1</td>\n",
              "      <td>2</td>\n",
              "      <td>5</td>\n",
              "      <td>1</td>\n",
              "      <td>4</td>\n",
              "      <td>1</td>\n",
              "      <td>2</td>\n",
              "      <td>2</td>\n",
              "      <td>6</td>\n",
              "      <td>5</td>\n",
              "      <td>6</td>\n",
              "      <td>3</td>\n",
              "      <td>5</td>\n",
              "      <td>2</td>\n",
              "      <td>6</td>\n",
              "      <td>2</td>\n",
              "      <td>1</td>\n",
              "      <td>5</td>\n",
              "      <td>1</td>\n",
              "      <td>5</td>\n",
              "      <td>1</td>\n",
              "      <td>...</td>\n",
              "      <td>5</td>\n",
              "      <td>4</td>\n",
              "      <td>2</td>\n",
              "      <td>2</td>\n",
              "      <td>2</td>\n",
              "      <td>2</td>\n",
              "      <td>1</td>\n",
              "      <td>4</td>\n",
              "      <td>2</td>\n",
              "      <td>2</td>\n",
              "      <td>4</td>\n",
              "      <td>1</td>\n",
              "      <td>3</td>\n",
              "      <td>2</td>\n",
              "      <td>2</td>\n",
              "      <td>2</td>\n",
              "      <td>13</td>\n",
              "      <td>1</td>\n",
              "      <td>-1</td>\n",
              "      <td>1</td>\n",
              "      <td>2</td>\n",
              "      <td>1</td>\n",
              "      <td>1</td>\n",
              "      <td>1</td>\n",
              "      <td>1</td>\n",
              "      <td>1</td>\n",
              "      <td>1</td>\n",
              "      <td>1</td>\n",
              "      <td>1</td>\n",
              "      <td>2</td>\n",
              "      <td>4</td>\n",
              "      <td>1223</td>\n",
              "      <td>1</td>\n",
              "      <td>1</td>\n",
              "      <td>2</td>\n",
              "      <td>4</td>\n",
              "      <td>1</td>\n",
              "      <td>5</td>\n",
              "      <td>1</td>\n",
              "      <td>296</td>\n",
              "    </tr>\n",
              "    <tr>\n",
              "      <th>...</th>\n",
              "      <td>...</td>\n",
              "      <td>...</td>\n",
              "      <td>...</td>\n",
              "      <td>...</td>\n",
              "      <td>...</td>\n",
              "      <td>...</td>\n",
              "      <td>...</td>\n",
              "      <td>...</td>\n",
              "      <td>...</td>\n",
              "      <td>...</td>\n",
              "      <td>...</td>\n",
              "      <td>...</td>\n",
              "      <td>...</td>\n",
              "      <td>...</td>\n",
              "      <td>...</td>\n",
              "      <td>...</td>\n",
              "      <td>...</td>\n",
              "      <td>...</td>\n",
              "      <td>...</td>\n",
              "      <td>...</td>\n",
              "      <td>...</td>\n",
              "      <td>...</td>\n",
              "      <td>...</td>\n",
              "      <td>...</td>\n",
              "      <td>...</td>\n",
              "      <td>...</td>\n",
              "      <td>...</td>\n",
              "      <td>...</td>\n",
              "      <td>...</td>\n",
              "      <td>...</td>\n",
              "      <td>...</td>\n",
              "      <td>...</td>\n",
              "      <td>...</td>\n",
              "      <td>...</td>\n",
              "      <td>...</td>\n",
              "      <td>...</td>\n",
              "      <td>...</td>\n",
              "      <td>...</td>\n",
              "      <td>...</td>\n",
              "      <td>...</td>\n",
              "      <td>...</td>\n",
              "      <td>...</td>\n",
              "      <td>...</td>\n",
              "      <td>...</td>\n",
              "      <td>...</td>\n",
              "      <td>...</td>\n",
              "      <td>...</td>\n",
              "      <td>...</td>\n",
              "      <td>...</td>\n",
              "      <td>...</td>\n",
              "      <td>...</td>\n",
              "      <td>...</td>\n",
              "      <td>...</td>\n",
              "      <td>...</td>\n",
              "      <td>...</td>\n",
              "      <td>...</td>\n",
              "      <td>...</td>\n",
              "      <td>...</td>\n",
              "      <td>...</td>\n",
              "      <td>...</td>\n",
              "      <td>...</td>\n",
              "      <td>...</td>\n",
              "      <td>...</td>\n",
              "      <td>...</td>\n",
              "      <td>...</td>\n",
              "      <td>...</td>\n",
              "      <td>...</td>\n",
              "      <td>...</td>\n",
              "      <td>...</td>\n",
              "      <td>...</td>\n",
              "      <td>...</td>\n",
              "      <td>...</td>\n",
              "      <td>...</td>\n",
              "      <td>...</td>\n",
              "      <td>...</td>\n",
              "      <td>...</td>\n",
              "      <td>...</td>\n",
              "      <td>...</td>\n",
              "      <td>...</td>\n",
              "      <td>...</td>\n",
              "      <td>...</td>\n",
              "    </tr>\n",
              "    <tr>\n",
              "      <th>16551</th>\n",
              "      <td>2015</td>\n",
              "      <td>76</td>\n",
              "      <td>5</td>\n",
              "      <td>1</td>\n",
              "      <td>2</td>\n",
              "      <td>4</td>\n",
              "      <td>12</td>\n",
              "      <td>8</td>\n",
              "      <td>8</td>\n",
              "      <td>1</td>\n",
              "      <td>1</td>\n",
              "      <td>7</td>\n",
              "      <td>5</td>\n",
              "      <td>2</td>\n",
              "      <td>-1</td>\n",
              "      <td>1</td>\n",
              "      <td>1</td>\n",
              "      <td>1</td>\n",
              "      <td>1</td>\n",
              "      <td>1</td>\n",
              "      <td>1</td>\n",
              "      <td>3</td>\n",
              "      <td>1</td>\n",
              "      <td>3</td>\n",
              "      <td>1</td>\n",
              "      <td>2</td>\n",
              "      <td>2</td>\n",
              "      <td>6</td>\n",
              "      <td>3</td>\n",
              "      <td>8</td>\n",
              "      <td>7</td>\n",
              "      <td>5</td>\n",
              "      <td>8</td>\n",
              "      <td>7</td>\n",
              "      <td>5</td>\n",
              "      <td>1</td>\n",
              "      <td>2</td>\n",
              "      <td>1</td>\n",
              "      <td>-1</td>\n",
              "      <td>2</td>\n",
              "      <td>...</td>\n",
              "      <td>5</td>\n",
              "      <td>3</td>\n",
              "      <td>2</td>\n",
              "      <td>2</td>\n",
              "      <td>2</td>\n",
              "      <td>2</td>\n",
              "      <td>1</td>\n",
              "      <td>1</td>\n",
              "      <td>1</td>\n",
              "      <td>1</td>\n",
              "      <td>4</td>\n",
              "      <td>1</td>\n",
              "      <td>2</td>\n",
              "      <td>1</td>\n",
              "      <td>1</td>\n",
              "      <td>1</td>\n",
              "      <td>7</td>\n",
              "      <td>1</td>\n",
              "      <td>1</td>\n",
              "      <td>2</td>\n",
              "      <td>2</td>\n",
              "      <td>2</td>\n",
              "      <td>2</td>\n",
              "      <td>2</td>\n",
              "      <td>2</td>\n",
              "      <td>1</td>\n",
              "      <td>2</td>\n",
              "      <td>2</td>\n",
              "      <td>2</td>\n",
              "      <td>2</td>\n",
              "      <td>2</td>\n",
              "      <td>521</td>\n",
              "      <td>5</td>\n",
              "      <td>1</td>\n",
              "      <td>2</td>\n",
              "      <td>4</td>\n",
              "      <td>1</td>\n",
              "      <td>16552</td>\n",
              "      <td>371</td>\n",
              "      <td>117</td>\n",
              "    </tr>\n",
              "    <tr>\n",
              "      <th>16552</th>\n",
              "      <td>2015</td>\n",
              "      <td>76</td>\n",
              "      <td>5</td>\n",
              "      <td>1</td>\n",
              "      <td>1</td>\n",
              "      <td>1</td>\n",
              "      <td>15</td>\n",
              "      <td>7</td>\n",
              "      <td>5</td>\n",
              "      <td>1</td>\n",
              "      <td>1</td>\n",
              "      <td>7</td>\n",
              "      <td>4</td>\n",
              "      <td>2</td>\n",
              "      <td>-1</td>\n",
              "      <td>2</td>\n",
              "      <td>1</td>\n",
              "      <td>1</td>\n",
              "      <td>1</td>\n",
              "      <td>1</td>\n",
              "      <td>1</td>\n",
              "      <td>3</td>\n",
              "      <td>1</td>\n",
              "      <td>3</td>\n",
              "      <td>1</td>\n",
              "      <td>1</td>\n",
              "      <td>2</td>\n",
              "      <td>5</td>\n",
              "      <td>4</td>\n",
              "      <td>6</td>\n",
              "      <td>2</td>\n",
              "      <td>4</td>\n",
              "      <td>1</td>\n",
              "      <td>6</td>\n",
              "      <td>1</td>\n",
              "      <td>1</td>\n",
              "      <td>6</td>\n",
              "      <td>4</td>\n",
              "      <td>-1</td>\n",
              "      <td>2</td>\n",
              "      <td>...</td>\n",
              "      <td>5</td>\n",
              "      <td>2</td>\n",
              "      <td>3</td>\n",
              "      <td>2</td>\n",
              "      <td>2</td>\n",
              "      <td>2</td>\n",
              "      <td>1</td>\n",
              "      <td>2</td>\n",
              "      <td>1</td>\n",
              "      <td>1</td>\n",
              "      <td>4</td>\n",
              "      <td>1</td>\n",
              "      <td>2</td>\n",
              "      <td>1</td>\n",
              "      <td>2</td>\n",
              "      <td>5</td>\n",
              "      <td>12</td>\n",
              "      <td>1</td>\n",
              "      <td>-1</td>\n",
              "      <td>2</td>\n",
              "      <td>2</td>\n",
              "      <td>1</td>\n",
              "      <td>2</td>\n",
              "      <td>2</td>\n",
              "      <td>2</td>\n",
              "      <td>2</td>\n",
              "      <td>2</td>\n",
              "      <td>2</td>\n",
              "      <td>2</td>\n",
              "      <td>2</td>\n",
              "      <td>2</td>\n",
              "      <td>521</td>\n",
              "      <td>5</td>\n",
              "      <td>1</td>\n",
              "      <td>2</td>\n",
              "      <td>4</td>\n",
              "      <td>1</td>\n",
              "      <td>16553</td>\n",
              "      <td>371</td>\n",
              "      <td>117</td>\n",
              "    </tr>\n",
              "    <tr>\n",
              "      <th>16553</th>\n",
              "      <td>2015</td>\n",
              "      <td>76</td>\n",
              "      <td>5</td>\n",
              "      <td>1</td>\n",
              "      <td>1</td>\n",
              "      <td>4</td>\n",
              "      <td>13</td>\n",
              "      <td>11</td>\n",
              "      <td>7</td>\n",
              "      <td>1</td>\n",
              "      <td>1</td>\n",
              "      <td>7</td>\n",
              "      <td>4</td>\n",
              "      <td>2</td>\n",
              "      <td>-1</td>\n",
              "      <td>1</td>\n",
              "      <td>2</td>\n",
              "      <td>1</td>\n",
              "      <td>1</td>\n",
              "      <td>1</td>\n",
              "      <td>2</td>\n",
              "      <td>3</td>\n",
              "      <td>1</td>\n",
              "      <td>3</td>\n",
              "      <td>1</td>\n",
              "      <td>2</td>\n",
              "      <td>2</td>\n",
              "      <td>5</td>\n",
              "      <td>4</td>\n",
              "      <td>8</td>\n",
              "      <td>1</td>\n",
              "      <td>8</td>\n",
              "      <td>2</td>\n",
              "      <td>8</td>\n",
              "      <td>1</td>\n",
              "      <td>1</td>\n",
              "      <td>5</td>\n",
              "      <td>5</td>\n",
              "      <td>-1</td>\n",
              "      <td>2</td>\n",
              "      <td>...</td>\n",
              "      <td>5</td>\n",
              "      <td>3</td>\n",
              "      <td>1</td>\n",
              "      <td>2</td>\n",
              "      <td>2</td>\n",
              "      <td>2</td>\n",
              "      <td>4</td>\n",
              "      <td>1</td>\n",
              "      <td>5</td>\n",
              "      <td>5</td>\n",
              "      <td>4</td>\n",
              "      <td>1</td>\n",
              "      <td>7</td>\n",
              "      <td>3</td>\n",
              "      <td>1</td>\n",
              "      <td>5</td>\n",
              "      <td>-1</td>\n",
              "      <td>1</td>\n",
              "      <td>-1</td>\n",
              "      <td>2</td>\n",
              "      <td>2</td>\n",
              "      <td>2</td>\n",
              "      <td>2</td>\n",
              "      <td>2</td>\n",
              "      <td>2</td>\n",
              "      <td>1</td>\n",
              "      <td>2</td>\n",
              "      <td>2</td>\n",
              "      <td>2</td>\n",
              "      <td>2</td>\n",
              "      <td>3</td>\n",
              "      <td>521</td>\n",
              "      <td>5</td>\n",
              "      <td>1</td>\n",
              "      <td>2</td>\n",
              "      <td>4</td>\n",
              "      <td>1</td>\n",
              "      <td>16554</td>\n",
              "      <td>371</td>\n",
              "      <td>117</td>\n",
              "    </tr>\n",
              "    <tr>\n",
              "      <th>16554</th>\n",
              "      <td>2015</td>\n",
              "      <td>76</td>\n",
              "      <td>5</td>\n",
              "      <td>1</td>\n",
              "      <td>1</td>\n",
              "      <td>4</td>\n",
              "      <td>14</td>\n",
              "      <td>8</td>\n",
              "      <td>6</td>\n",
              "      <td>1</td>\n",
              "      <td>1</td>\n",
              "      <td>7</td>\n",
              "      <td>4</td>\n",
              "      <td>2</td>\n",
              "      <td>-1</td>\n",
              "      <td>1</td>\n",
              "      <td>1</td>\n",
              "      <td>1</td>\n",
              "      <td>1</td>\n",
              "      <td>1</td>\n",
              "      <td>1</td>\n",
              "      <td>3</td>\n",
              "      <td>2</td>\n",
              "      <td>3</td>\n",
              "      <td>1</td>\n",
              "      <td>1</td>\n",
              "      <td>2</td>\n",
              "      <td>5</td>\n",
              "      <td>3</td>\n",
              "      <td>7</td>\n",
              "      <td>5</td>\n",
              "      <td>6</td>\n",
              "      <td>4</td>\n",
              "      <td>8</td>\n",
              "      <td>7</td>\n",
              "      <td>3</td>\n",
              "      <td>1</td>\n",
              "      <td>5</td>\n",
              "      <td>-1</td>\n",
              "      <td>2</td>\n",
              "      <td>...</td>\n",
              "      <td>5</td>\n",
              "      <td>2</td>\n",
              "      <td>1</td>\n",
              "      <td>2</td>\n",
              "      <td>2</td>\n",
              "      <td>2</td>\n",
              "      <td>3</td>\n",
              "      <td>2</td>\n",
              "      <td>3</td>\n",
              "      <td>4</td>\n",
              "      <td>4</td>\n",
              "      <td>2</td>\n",
              "      <td>-1</td>\n",
              "      <td>1</td>\n",
              "      <td>1</td>\n",
              "      <td>2</td>\n",
              "      <td>7</td>\n",
              "      <td>1</td>\n",
              "      <td>-1</td>\n",
              "      <td>1</td>\n",
              "      <td>1</td>\n",
              "      <td>2</td>\n",
              "      <td>2</td>\n",
              "      <td>2</td>\n",
              "      <td>2</td>\n",
              "      <td>1</td>\n",
              "      <td>2</td>\n",
              "      <td>2</td>\n",
              "      <td>2</td>\n",
              "      <td>2</td>\n",
              "      <td>2</td>\n",
              "      <td>521</td>\n",
              "      <td>5</td>\n",
              "      <td>1</td>\n",
              "      <td>2</td>\n",
              "      <td>4</td>\n",
              "      <td>1</td>\n",
              "      <td>16555</td>\n",
              "      <td>371</td>\n",
              "      <td>117</td>\n",
              "    </tr>\n",
              "    <tr>\n",
              "      <th>16555</th>\n",
              "      <td>2015</td>\n",
              "      <td>76</td>\n",
              "      <td>5</td>\n",
              "      <td>1</td>\n",
              "      <td>1</td>\n",
              "      <td>2</td>\n",
              "      <td>15</td>\n",
              "      <td>4</td>\n",
              "      <td>6</td>\n",
              "      <td>1</td>\n",
              "      <td>1</td>\n",
              "      <td>7</td>\n",
              "      <td>5</td>\n",
              "      <td>2</td>\n",
              "      <td>-1</td>\n",
              "      <td>1</td>\n",
              "      <td>1</td>\n",
              "      <td>1</td>\n",
              "      <td>1</td>\n",
              "      <td>1</td>\n",
              "      <td>1</td>\n",
              "      <td>3</td>\n",
              "      <td>2</td>\n",
              "      <td>3</td>\n",
              "      <td>1</td>\n",
              "      <td>2</td>\n",
              "      <td>2</td>\n",
              "      <td>4</td>\n",
              "      <td>4</td>\n",
              "      <td>8</td>\n",
              "      <td>2</td>\n",
              "      <td>6</td>\n",
              "      <td>8</td>\n",
              "      <td>8</td>\n",
              "      <td>5</td>\n",
              "      <td>1</td>\n",
              "      <td>6</td>\n",
              "      <td>1</td>\n",
              "      <td>-1</td>\n",
              "      <td>2</td>\n",
              "      <td>...</td>\n",
              "      <td>5</td>\n",
              "      <td>2</td>\n",
              "      <td>4</td>\n",
              "      <td>2</td>\n",
              "      <td>2</td>\n",
              "      <td>2</td>\n",
              "      <td>2</td>\n",
              "      <td>2</td>\n",
              "      <td>2</td>\n",
              "      <td>3</td>\n",
              "      <td>4</td>\n",
              "      <td>1</td>\n",
              "      <td>11</td>\n",
              "      <td>3</td>\n",
              "      <td>1</td>\n",
              "      <td>1</td>\n",
              "      <td>-1</td>\n",
              "      <td>1</td>\n",
              "      <td>-1</td>\n",
              "      <td>2</td>\n",
              "      <td>2</td>\n",
              "      <td>2</td>\n",
              "      <td>2</td>\n",
              "      <td>2</td>\n",
              "      <td>1</td>\n",
              "      <td>2</td>\n",
              "      <td>2</td>\n",
              "      <td>2</td>\n",
              "      <td>2</td>\n",
              "      <td>2</td>\n",
              "      <td>3</td>\n",
              "      <td>521</td>\n",
              "      <td>5</td>\n",
              "      <td>1</td>\n",
              "      <td>2</td>\n",
              "      <td>4</td>\n",
              "      <td>1</td>\n",
              "      <td>16556</td>\n",
              "      <td>371</td>\n",
              "      <td>117</td>\n",
              "    </tr>\n",
              "  </tbody>\n",
              "</table>\n",
              "<p>16556 rows × 171 columns</p>\n",
              "</div>"
            ],
            "text/plain": [
              "       ANOPESQ  PAIS  REGEOGR  VB00004  ...  V0041  aluno  escola  turma\n",
              "0         2015    76        1        1  ...      1      1       1    296\n",
              "1         2015    76        1        1  ...      1      2       1    296\n",
              "2         2015    76        1        1  ...      1      3       1    296\n",
              "3         2015    76        1        1  ...      1      4       1    296\n",
              "4         2015    76        1        1  ...      1      5       1    296\n",
              "...        ...   ...      ...      ...  ...    ...    ...     ...    ...\n",
              "16551     2015    76        5        1  ...      1  16552     371    117\n",
              "16552     2015    76        5        1  ...      1  16553     371    117\n",
              "16553     2015    76        5        1  ...      1  16554     371    117\n",
              "16554     2015    76        5        1  ...      1  16555     371    117\n",
              "16555     2015    76        5        1  ...      1  16556     371    117\n",
              "\n",
              "[16556 rows x 171 columns]"
            ]
          },
          "metadata": {
            "tags": []
          },
          "execution_count": 72
        }
      ]
    },
    {
      "cell_type": "markdown",
      "metadata": {
        "id": "Z0AdJOnR5Ucc"
      },
      "source": [
        "# AULA 02 MOD 03\r\n",
        "-Dados qualitativos e tabelas de frequência"
      ]
    },
    {
      "cell_type": "code",
      "metadata": {
        "colab": {
          "base_uri": "https://localhost:8080/"
        },
        "id": "ghgm9e8HONk0",
        "outputId": "2eec54dc-0e89-44a5-b1b3-6dc254e361d5"
      },
      "source": [
        "#Qual a distribuição da pesquisa entre meninos e meninas?\r\n",
        "#Podemos fazer isso utilizando o value counts;\r\n",
        "#*VB01001 está no dicionário como pergunta em relação ao sexo da pessoa.\r\n",
        "\r\n",
        "dados[\"VB01001\"].value_counts()"
      ],
      "execution_count": 73,
      "outputs": [
        {
          "output_type": "execute_result",
          "data": {
            "text/plain": [
              "1    8287\n",
              "2    8269\n",
              "Name: VB01001, dtype: int64"
            ]
          },
          "metadata": {
            "tags": []
          },
          "execution_count": 73
        }
      ]
    },
    {
      "cell_type": "code",
      "metadata": {
        "colab": {
          "base_uri": "https://localhost:8080/"
        },
        "id": "Kl7znTUNOhZT",
        "outputId": "0ab49fc0-286a-4e51-fe20-836df6b2f3df"
      },
      "source": [
        "#Transformando essa resposta em porcentagem com normalize;\r\n",
        "#*Multiplicamos * 100 para ser uma porcentagem.\r\n",
        "\r\n",
        "dados[\"VB01001\"].value_counts(normalize = True) * 100"
      ],
      "execution_count": 74,
      "outputs": [
        {
          "output_type": "execute_result",
          "data": {
            "text/plain": [
              "1    50.054361\n",
              "2    49.945639\n",
              "Name: VB01001, dtype: float64"
            ]
          },
          "metadata": {
            "tags": []
          },
          "execution_count": 74
        }
      ]
    },
    {
      "cell_type": "code",
      "metadata": {
        "colab": {
          "base_uri": "https://localhost:8080/"
        },
        "id": "GBZSl44tPhLi",
        "outputId": "8b705448-a10b-4737-f7fb-5759b0fab892"
      },
      "source": [
        "#*VB11007 = Pergunta sobre o quão o adolescente se sente confortável em relação ao corpo;\r\n",
        "#De 0 como muito instatisfeito a 5 como muito satisfeito.\r\n",
        "\r\n",
        "frequencia = dados[\"VB11007\"].value_counts()\r\n",
        "frequencia"
      ],
      "execution_count": 75,
      "outputs": [
        {
          "output_type": "execute_result",
          "data": {
            "text/plain": [
              "2     6920\n",
              "1     4608\n",
              "4     2326\n",
              "3     1807\n",
              "5      714\n",
              "99     181\n",
              "Name: VB11007, dtype: int64"
            ]
          },
          "metadata": {
            "tags": []
          },
          "execution_count": 75
        }
      ]
    },
    {
      "cell_type": "code",
      "metadata": {
        "colab": {
          "base_uri": "https://localhost:8080/"
        },
        "id": "ndJoa--WP6zf",
        "outputId": "349349aa-b0d5-4151-8f63-9d22a6d3674c"
      },
      "source": [
        "#Transformando em porcentagem\r\n",
        "\r\n",
        "percentual = dados[\"VB11007\"].value_counts(normalize = True) * 100\r\n",
        "percentual"
      ],
      "execution_count": 76,
      "outputs": [
        {
          "output_type": "execute_result",
          "data": {
            "text/plain": [
              "2     41.797536\n",
              "1     27.832810\n",
              "4     14.049287\n",
              "3     10.914472\n",
              "5      4.312636\n",
              "99     1.093259\n",
              "Name: VB11007, dtype: float64"
            ]
          },
          "metadata": {
            "tags": []
          },
          "execution_count": 76
        }
      ]
    },
    {
      "cell_type": "code",
      "metadata": {
        "colab": {
          "base_uri": "https://localhost:8080/",
          "height": 0
        },
        "id": "DjMDCnRjQIFd",
        "outputId": "0691543a-03ec-4a77-d252-068cdbae1452"
      },
      "source": [
        "#Criando um dataframe para unificar os dois dados utilizando um dicionário\r\n",
        "\r\n",
        "respostas = {\r\n",
        "    1: \"Muito satisfeito\",\r\n",
        "    2: \"Satisfeito\",\r\n",
        "    3: \"Indiferente\",\r\n",
        "    4: \"Insatisfeito\",\r\n",
        "    5: \"Muito instisfeito\",\r\n",
        "    99: \"Não Informado\"\r\n",
        "}\r\n",
        "\r\n",
        "dist_freq = pd.DataFrame({\"Frequência\": frequencia, \"Percentual\": percentual})\r\n",
        "dist_freq.rename(index = respostas, inplace = True)                                 #renomeando o index para ser igual as respostas\r\n",
        "dist_freq.rename_axis(\"Sentimento em relação ao corpo\", axis = 1, inplace = True)   #Trocar o nome do eixo\r\n",
        "dist_freq"
      ],
      "execution_count": 77,
      "outputs": [
        {
          "output_type": "execute_result",
          "data": {
            "text/html": [
              "<div>\n",
              "<style scoped>\n",
              "    .dataframe tbody tr th:only-of-type {\n",
              "        vertical-align: middle;\n",
              "    }\n",
              "\n",
              "    .dataframe tbody tr th {\n",
              "        vertical-align: top;\n",
              "    }\n",
              "\n",
              "    .dataframe thead th {\n",
              "        text-align: right;\n",
              "    }\n",
              "</style>\n",
              "<table border=\"1\" class=\"dataframe\">\n",
              "  <thead>\n",
              "    <tr style=\"text-align: right;\">\n",
              "      <th>Sentimento em relação ao corpo</th>\n",
              "      <th>Frequência</th>\n",
              "      <th>Percentual</th>\n",
              "    </tr>\n",
              "  </thead>\n",
              "  <tbody>\n",
              "    <tr>\n",
              "      <th>Satisfeito</th>\n",
              "      <td>6920</td>\n",
              "      <td>41.797536</td>\n",
              "    </tr>\n",
              "    <tr>\n",
              "      <th>Muito satisfeito</th>\n",
              "      <td>4608</td>\n",
              "      <td>27.832810</td>\n",
              "    </tr>\n",
              "    <tr>\n",
              "      <th>Insatisfeito</th>\n",
              "      <td>2326</td>\n",
              "      <td>14.049287</td>\n",
              "    </tr>\n",
              "    <tr>\n",
              "      <th>Indiferente</th>\n",
              "      <td>1807</td>\n",
              "      <td>10.914472</td>\n",
              "    </tr>\n",
              "    <tr>\n",
              "      <th>Muito instisfeito</th>\n",
              "      <td>714</td>\n",
              "      <td>4.312636</td>\n",
              "    </tr>\n",
              "    <tr>\n",
              "      <th>Não Informado</th>\n",
              "      <td>181</td>\n",
              "      <td>1.093259</td>\n",
              "    </tr>\n",
              "  </tbody>\n",
              "</table>\n",
              "</div>"
            ],
            "text/plain": [
              "Sentimento em relação ao corpo  Frequência  Percentual\n",
              "Satisfeito                            6920   41.797536\n",
              "Muito satisfeito                      4608   27.832810\n",
              "Insatisfeito                          2326   14.049287\n",
              "Indiferente                           1807   10.914472\n",
              "Muito instisfeito                      714    4.312636\n",
              "Não Informado                          181    1.093259"
            ]
          },
          "metadata": {
            "tags": []
          },
          "execution_count": 77
        }
      ]
    },
    {
      "cell_type": "markdown",
      "metadata": {
        "id": "KX0HpOq99eKt"
      },
      "source": [
        "# AULA 03 MOD 03\r\n",
        "-Frequência em dados contínuos e panda CrossTab"
      ]
    },
    {
      "cell_type": "code",
      "metadata": {
        "id": "Iiu2o9n3901C",
        "colab": {
          "base_uri": "https://localhost:8080/"
        },
        "outputId": "360fe293-6d96-473f-aa89-39e9c747e0a3"
      },
      "source": [
        "#Relação de altura dos estudantes\r\n",
        "\r\n",
        "dados[\"VB17004\"]\r\n",
        "\r\n",
        "#repare como não temos classes pré definidas, apenas as alturas como números"
      ],
      "execution_count": 78,
      "outputs": [
        {
          "output_type": "execute_result",
          "data": {
            "text/plain": [
              "0        157.0\n",
              "1        152.0\n",
              "2        161.4\n",
              "3        172.5\n",
              "4        167.5\n",
              "         ...  \n",
              "16551    167.9\n",
              "16552    185.8\n",
              "16553    159.4\n",
              "16554    157.8\n",
              "16555    163.9\n",
              "Name: VB17004, Length: 16556, dtype: float64"
            ]
          },
          "metadata": {
            "tags": []
          },
          "execution_count": 78
        }
      ]
    },
    {
      "cell_type": "code",
      "metadata": {
        "id": "mIS057lt-UI6",
        "colab": {
          "base_uri": "https://localhost:8080/"
        },
        "outputId": "d50b2b02-b8a2-4d2a-bf70-394400e73a85"
      },
      "source": [
        "#Criando uma coluna no dataframe chamada IMC;\r\n",
        "#*IMC = Peso sobre o quadrado da altura;\r\n",
        "#Dividimos a altura em 100 pois o IMC utiliza metros e o dado está em cm.\r\n",
        "\r\n",
        "dados[\"IMC\"] = dados[\"VB17003\"] / ((dados[\"VB17004\"]/100)**2)\r\n",
        "dados[\"IMC\"]"
      ],
      "execution_count": 79,
      "outputs": [
        {
          "output_type": "execute_result",
          "data": {
            "text/plain": [
              "0        15.051321\n",
              "1        21.727839\n",
              "2        18.502907\n",
              "3        23.322831\n",
              "4        28.122076\n",
              "           ...    \n",
              "16551    20.113223\n",
              "16552    17.930782\n",
              "16553    23.968489\n",
              "16554    18.995343\n",
              "16555    23.303246\n",
              "Name: IMC, Length: 16556, dtype: float64"
            ]
          },
          "metadata": {
            "tags": []
          },
          "execution_count": 79
        }
      ]
    },
    {
      "cell_type": "code",
      "metadata": {
        "id": "aTgN4LcGFfup",
        "colab": {
          "base_uri": "https://localhost:8080/",
          "height": 0
        },
        "outputId": "770f3e3e-b1ae-4269-895d-d47f56f39a79"
      },
      "source": [
        "#Classes do imc;\r\n",
        "#Ex. do 0 ao 18,5, de 18,5 até 25...;\r\n",
        "#Utilizamos a função cut do pandas para criar a classificação.\r\n",
        "\r\n",
        "classes = [0, 18.5, 25, 30, 60]\r\n",
        "labels = [\"abaixo\", \"normal\", \"sobrepeso\", \"obesidade\"]\r\n",
        "dados[\"CLASSE_IMC\"] = pd.cut(x = dados[\"IMC\"],\r\n",
        "                            bins = classes,\r\n",
        "                            labels = labels,\r\n",
        "                            include_lowest = True)   #considera o mais baixo como intervalo fechado e o mais alto como aberto\r\n",
        "\r\n",
        "dados[[\"IMC\", \"CLASSE_IMC\"]]"
      ],
      "execution_count": 80,
      "outputs": [
        {
          "output_type": "execute_result",
          "data": {
            "text/html": [
              "<div>\n",
              "<style scoped>\n",
              "    .dataframe tbody tr th:only-of-type {\n",
              "        vertical-align: middle;\n",
              "    }\n",
              "\n",
              "    .dataframe tbody tr th {\n",
              "        vertical-align: top;\n",
              "    }\n",
              "\n",
              "    .dataframe thead th {\n",
              "        text-align: right;\n",
              "    }\n",
              "</style>\n",
              "<table border=\"1\" class=\"dataframe\">\n",
              "  <thead>\n",
              "    <tr style=\"text-align: right;\">\n",
              "      <th></th>\n",
              "      <th>IMC</th>\n",
              "      <th>CLASSE_IMC</th>\n",
              "    </tr>\n",
              "  </thead>\n",
              "  <tbody>\n",
              "    <tr>\n",
              "      <th>0</th>\n",
              "      <td>15.051321</td>\n",
              "      <td>abaixo</td>\n",
              "    </tr>\n",
              "    <tr>\n",
              "      <th>1</th>\n",
              "      <td>21.727839</td>\n",
              "      <td>normal</td>\n",
              "    </tr>\n",
              "    <tr>\n",
              "      <th>2</th>\n",
              "      <td>18.502907</td>\n",
              "      <td>normal</td>\n",
              "    </tr>\n",
              "    <tr>\n",
              "      <th>3</th>\n",
              "      <td>23.322831</td>\n",
              "      <td>normal</td>\n",
              "    </tr>\n",
              "    <tr>\n",
              "      <th>4</th>\n",
              "      <td>28.122076</td>\n",
              "      <td>sobrepeso</td>\n",
              "    </tr>\n",
              "    <tr>\n",
              "      <th>...</th>\n",
              "      <td>...</td>\n",
              "      <td>...</td>\n",
              "    </tr>\n",
              "    <tr>\n",
              "      <th>16551</th>\n",
              "      <td>20.113223</td>\n",
              "      <td>normal</td>\n",
              "    </tr>\n",
              "    <tr>\n",
              "      <th>16552</th>\n",
              "      <td>17.930782</td>\n",
              "      <td>abaixo</td>\n",
              "    </tr>\n",
              "    <tr>\n",
              "      <th>16553</th>\n",
              "      <td>23.968489</td>\n",
              "      <td>normal</td>\n",
              "    </tr>\n",
              "    <tr>\n",
              "      <th>16554</th>\n",
              "      <td>18.995343</td>\n",
              "      <td>normal</td>\n",
              "    </tr>\n",
              "    <tr>\n",
              "      <th>16555</th>\n",
              "      <td>23.303246</td>\n",
              "      <td>normal</td>\n",
              "    </tr>\n",
              "  </tbody>\n",
              "</table>\n",
              "<p>16556 rows × 2 columns</p>\n",
              "</div>"
            ],
            "text/plain": [
              "             IMC CLASSE_IMC\n",
              "0      15.051321     abaixo\n",
              "1      21.727839     normal\n",
              "2      18.502907     normal\n",
              "3      23.322831     normal\n",
              "4      28.122076  sobrepeso\n",
              "...          ...        ...\n",
              "16551  20.113223     normal\n",
              "16552  17.930782     abaixo\n",
              "16553  23.968489     normal\n",
              "16554  18.995343     normal\n",
              "16555  23.303246     normal\n",
              "\n",
              "[16556 rows x 2 columns]"
            ]
          },
          "metadata": {
            "tags": []
          },
          "execution_count": 80
        }
      ]
    },
    {
      "cell_type": "code",
      "metadata": {
        "id": "4j7-UjiqHwJI",
        "colab": {
          "base_uri": "https://localhost:8080/",
          "height": 0
        },
        "outputId": "ed21e875-5908-4d59-898f-5540f741dc91"
      },
      "source": [
        "frequencia = dados[\"CLASSE_IMC\"].value_counts()\r\n",
        "percentual = dados[\"CLASSE_IMC\"].value_counts(normalize = True) * 100\r\n",
        "dist_freq = pd.DataFrame({\"Frequência\": frequencia, \"Percentual\": percentual })\r\n",
        "dist_freq"
      ],
      "execution_count": 81,
      "outputs": [
        {
          "output_type": "execute_result",
          "data": {
            "text/html": [
              "<div>\n",
              "<style scoped>\n",
              "    .dataframe tbody tr th:only-of-type {\n",
              "        vertical-align: middle;\n",
              "    }\n",
              "\n",
              "    .dataframe tbody tr th {\n",
              "        vertical-align: top;\n",
              "    }\n",
              "\n",
              "    .dataframe thead th {\n",
              "        text-align: right;\n",
              "    }\n",
              "</style>\n",
              "<table border=\"1\" class=\"dataframe\">\n",
              "  <thead>\n",
              "    <tr style=\"text-align: right;\">\n",
              "      <th></th>\n",
              "      <th>Frequência</th>\n",
              "      <th>Percentual</th>\n",
              "    </tr>\n",
              "  </thead>\n",
              "  <tbody>\n",
              "    <tr>\n",
              "      <th>normal</th>\n",
              "      <td>9188</td>\n",
              "      <td>55.496497</td>\n",
              "    </tr>\n",
              "    <tr>\n",
              "      <th>abaixo</th>\n",
              "      <td>4975</td>\n",
              "      <td>30.049529</td>\n",
              "    </tr>\n",
              "    <tr>\n",
              "      <th>sobrepeso</th>\n",
              "      <td>1760</td>\n",
              "      <td>10.630587</td>\n",
              "    </tr>\n",
              "    <tr>\n",
              "      <th>obesidade</th>\n",
              "      <td>633</td>\n",
              "      <td>3.823387</td>\n",
              "    </tr>\n",
              "  </tbody>\n",
              "</table>\n",
              "</div>"
            ],
            "text/plain": [
              "           Frequência  Percentual\n",
              "normal           9188   55.496497\n",
              "abaixo           4975   30.049529\n",
              "sobrepeso        1760   10.630587\n",
              "obesidade         633    3.823387"
            ]
          },
          "metadata": {
            "tags": []
          },
          "execution_count": 81
        }
      ]
    },
    {
      "cell_type": "code",
      "metadata": {
        "id": "2lJFDBBw4c68",
        "colab": {
          "base_uri": "https://localhost:8080/"
        },
        "outputId": "cba0a74e-2157-4c9a-dfc9-a11a2ea92954"
      },
      "source": [
        "#Como podemos descobrir quantas classificações precisaremos quando não temos essa informação?\r\n",
        "#Por exemplo, quantas categorias tem o IMC (supondo que não sabemos isso)\r\n",
        "\r\n",
        "#Descobrindo o valor mínimo do conjunto altura\r\n",
        "\r\n",
        "dados[\"VB17004\"].min()\r\n"
      ],
      "execution_count": 82,
      "outputs": [
        {
          "output_type": "execute_result",
          "data": {
            "text/plain": [
              "124.1"
            ]
          },
          "metadata": {
            "tags": []
          },
          "execution_count": 82
        }
      ]
    },
    {
      "cell_type": "code",
      "metadata": {
        "id": "gCbzkSBU5e0j",
        "colab": {
          "base_uri": "https://localhost:8080/"
        },
        "outputId": "6ee631dc-4416-4a5e-835a-32e8bf4341a4"
      },
      "source": [
        "#Descobrindo o valor máximo do conjunto altura\r\n",
        "\r\n",
        "dados[\"VB17004\"].max()"
      ],
      "execution_count": 83,
      "outputs": [
        {
          "output_type": "execute_result",
          "data": {
            "text/plain": [
              "195.3"
            ]
          },
          "metadata": {
            "tags": []
          },
          "execution_count": 83
        }
      ]
    },
    {
      "cell_type": "code",
      "metadata": {
        "id": "hVy6n7gR5hJu",
        "colab": {
          "base_uri": "https://localhost:8080/",
          "height": 0
        },
        "outputId": "50893538-97f9-452c-d1d2-93886bbc88db"
      },
      "source": [
        "#Logo, nota-se que o conjunto vai de 124cm a 195cm;\r\n",
        "#Uma dica é utilizar o número de classes proporcional ao tamanho da amostra;\r\n",
        "#Utiliza-se a fórmula de K a seguir;\r\n",
        "#Utilizamos o numpy para fazer o log de 10;\r\n",
        "#Utilizamos o int() para aredondar o número da fórmula.\r\n",
        "\r\n",
        "import numpy as np\r\n",
        "\r\n",
        "tamanho_amostra = len(dados)\r\n",
        "\r\n",
        "k = int((1 + ((10/3) * np.log10(tamanho_amostra) )))\r\n",
        "k\r\n",
        "\r\n",
        "dados[\"CLASSE_ALTURA\"] = pd.cut(x = dados[\"VB17004\"],\r\n",
        "                            bins = k,\r\n",
        "                            include_lowest = True)\r\n",
        "\r\n",
        "frequencia = dados[\"CLASSE_ALTURA\"].value_counts()\r\n",
        "percentual = dados[\"CLASSE_ALTURA\"].value_counts(normalize = True) * 100\r\n",
        "dist_freq_altura = pd.DataFrame({\"Frequência\": frequencia, \"Percentual\": percentual })\r\n",
        "dist_freq_altura"
      ],
      "execution_count": 84,
      "outputs": [
        {
          "output_type": "execute_result",
          "data": {
            "text/html": [
              "<div>\n",
              "<style scoped>\n",
              "    .dataframe tbody tr th:only-of-type {\n",
              "        vertical-align: middle;\n",
              "    }\n",
              "\n",
              "    .dataframe tbody tr th {\n",
              "        vertical-align: top;\n",
              "    }\n",
              "\n",
              "    .dataframe thead th {\n",
              "        text-align: right;\n",
              "    }\n",
              "</style>\n",
              "<table border=\"1\" class=\"dataframe\">\n",
              "  <thead>\n",
              "    <tr style=\"text-align: right;\">\n",
              "      <th></th>\n",
              "      <th>Frequência</th>\n",
              "      <th>Percentual</th>\n",
              "    </tr>\n",
              "  </thead>\n",
              "  <tbody>\n",
              "    <tr>\n",
              "      <th>(157.327, 162.073]</th>\n",
              "      <td>3110</td>\n",
              "      <td>18.784731</td>\n",
              "    </tr>\n",
              "    <tr>\n",
              "      <th>(152.58, 157.327]</th>\n",
              "      <td>2734</td>\n",
              "      <td>16.513651</td>\n",
              "    </tr>\n",
              "    <tr>\n",
              "      <th>(162.073, 166.82]</th>\n",
              "      <td>2550</td>\n",
              "      <td>15.402271</td>\n",
              "    </tr>\n",
              "    <tr>\n",
              "      <th>(166.82, 171.567]</th>\n",
              "      <td>2063</td>\n",
              "      <td>12.460739</td>\n",
              "    </tr>\n",
              "    <tr>\n",
              "      <th>(147.833, 152.58]</th>\n",
              "      <td>1782</td>\n",
              "      <td>10.763469</td>\n",
              "    </tr>\n",
              "    <tr>\n",
              "      <th>(171.567, 176.313]</th>\n",
              "      <td>1416</td>\n",
              "      <td>8.552791</td>\n",
              "    </tr>\n",
              "    <tr>\n",
              "      <th>(143.087, 147.833]</th>\n",
              "      <td>1012</td>\n",
              "      <td>6.112588</td>\n",
              "    </tr>\n",
              "    <tr>\n",
              "      <th>(176.313, 181.06]</th>\n",
              "      <td>749</td>\n",
              "      <td>4.524040</td>\n",
              "    </tr>\n",
              "    <tr>\n",
              "      <th>(138.34, 143.087]</th>\n",
              "      <td>484</td>\n",
              "      <td>2.923411</td>\n",
              "    </tr>\n",
              "    <tr>\n",
              "      <th>(181.06, 185.807]</th>\n",
              "      <td>300</td>\n",
              "      <td>1.812032</td>\n",
              "    </tr>\n",
              "    <tr>\n",
              "      <th>(133.593, 138.34]</th>\n",
              "      <td>199</td>\n",
              "      <td>1.201981</td>\n",
              "    </tr>\n",
              "    <tr>\n",
              "      <th>(185.807, 190.553]</th>\n",
              "      <td>94</td>\n",
              "      <td>0.567770</td>\n",
              "    </tr>\n",
              "    <tr>\n",
              "      <th>(128.847, 133.593]</th>\n",
              "      <td>47</td>\n",
              "      <td>0.283885</td>\n",
              "    </tr>\n",
              "    <tr>\n",
              "      <th>(190.553, 195.3]</th>\n",
              "      <td>13</td>\n",
              "      <td>0.078521</td>\n",
              "    </tr>\n",
              "    <tr>\n",
              "      <th>(124.02799999999999, 128.847]</th>\n",
              "      <td>3</td>\n",
              "      <td>0.018120</td>\n",
              "    </tr>\n",
              "  </tbody>\n",
              "</table>\n",
              "</div>"
            ],
            "text/plain": [
              "                               Frequência  Percentual\n",
              "(157.327, 162.073]                   3110   18.784731\n",
              "(152.58, 157.327]                    2734   16.513651\n",
              "(162.073, 166.82]                    2550   15.402271\n",
              "(166.82, 171.567]                    2063   12.460739\n",
              "(147.833, 152.58]                    1782   10.763469\n",
              "(171.567, 176.313]                   1416    8.552791\n",
              "(143.087, 147.833]                   1012    6.112588\n",
              "(176.313, 181.06]                     749    4.524040\n",
              "(138.34, 143.087]                     484    2.923411\n",
              "(181.06, 185.807]                     300    1.812032\n",
              "(133.593, 138.34]                     199    1.201981\n",
              "(185.807, 190.553]                     94    0.567770\n",
              "(128.847, 133.593]                     47    0.283885\n",
              "(190.553, 195.3]                       13    0.078521\n",
              "(124.02799999999999, 128.847]           3    0.018120"
            ]
          },
          "metadata": {
            "tags": []
          },
          "execution_count": 84
        }
      ]
    },
    {
      "cell_type": "code",
      "metadata": {
        "id": "c0uRAnbb9KOS",
        "colab": {
          "base_uri": "https://localhost:8080/",
          "height": 0
        },
        "outputId": "66d8c006-2a0b-4416-c885-0a271041f453"
      },
      "source": [
        "#Se quisermos saber se há diferenças entre a aceitação do corpo entre homens e mulheres, cruzamos as tabelas;\r\n",
        "#Utilizaremos o crosstab() do pandas.\r\n",
        "\r\n",
        "frequencia_cruzada = pd.crosstab(dados[\"VB11007\"], dados[\"VB01001\"], normalize = True) * 100\r\n",
        "frequencia_cruzada.rename(index = respostas, inplace = True)\r\n",
        "frequencia_cruzada.rename(columns = {1: \"Masculino\", 2: \"Feminino\"}, inplace = True)\r\n",
        "frequencia_cruzada"
      ],
      "execution_count": 85,
      "outputs": [
        {
          "output_type": "execute_result",
          "data": {
            "text/html": [
              "<div>\n",
              "<style scoped>\n",
              "    .dataframe tbody tr th:only-of-type {\n",
              "        vertical-align: middle;\n",
              "    }\n",
              "\n",
              "    .dataframe tbody tr th {\n",
              "        vertical-align: top;\n",
              "    }\n",
              "\n",
              "    .dataframe thead th {\n",
              "        text-align: right;\n",
              "    }\n",
              "</style>\n",
              "<table border=\"1\" class=\"dataframe\">\n",
              "  <thead>\n",
              "    <tr style=\"text-align: right;\">\n",
              "      <th>VB01001</th>\n",
              "      <th>Masculino</th>\n",
              "      <th>Feminino</th>\n",
              "    </tr>\n",
              "    <tr>\n",
              "      <th>VB11007</th>\n",
              "      <th></th>\n",
              "      <th></th>\n",
              "    </tr>\n",
              "  </thead>\n",
              "  <tbody>\n",
              "    <tr>\n",
              "      <th>Muito satisfeito</th>\n",
              "      <td>16.199565</td>\n",
              "      <td>11.633245</td>\n",
              "    </tr>\n",
              "    <tr>\n",
              "      <th>Satisfeito</th>\n",
              "      <td>21.079971</td>\n",
              "      <td>20.717565</td>\n",
              "    </tr>\n",
              "    <tr>\n",
              "      <th>Indiferente</th>\n",
              "      <td>5.738101</td>\n",
              "      <td>5.176371</td>\n",
              "    </tr>\n",
              "    <tr>\n",
              "      <th>Insatisfeito</th>\n",
              "      <td>4.747524</td>\n",
              "      <td>9.301764</td>\n",
              "    </tr>\n",
              "    <tr>\n",
              "      <th>Muito instisfeito</th>\n",
              "      <td>1.570428</td>\n",
              "      <td>2.742208</td>\n",
              "    </tr>\n",
              "    <tr>\n",
              "      <th>Não Informado</th>\n",
              "      <td>0.718773</td>\n",
              "      <td>0.374487</td>\n",
              "    </tr>\n",
              "  </tbody>\n",
              "</table>\n",
              "</div>"
            ],
            "text/plain": [
              "VB01001            Masculino   Feminino\n",
              "VB11007                                \n",
              "Muito satisfeito   16.199565  11.633245\n",
              "Satisfeito         21.079971  20.717565\n",
              "Indiferente         5.738101   5.176371\n",
              "Insatisfeito        4.747524   9.301764\n",
              "Muito instisfeito   1.570428   2.742208\n",
              "Não Informado       0.718773   0.374487"
            ]
          },
          "metadata": {
            "tags": []
          },
          "execution_count": 85
        }
      ]
    },
    {
      "cell_type": "code",
      "metadata": {
        "id": "cEzz-6YAC4fd",
        "colab": {
          "base_uri": "https://localhost:8080/",
          "height": 0
        },
        "outputId": "3129fb1b-d5ed-4f7b-b1b7-07df3d8e7e33"
      },
      "source": [
        "#Desta vez, faremos a normalização em relação as colunas individuais\r\n",
        "\r\n",
        "frequencia_cruzada = pd.crosstab(dados[\"VB11007\"], dados[\"VB01001\"], normalize = \"columns\") * 100\r\n",
        "frequencia_cruzada.rename(index = respostas, inplace = True)\r\n",
        "frequencia_cruzada.rename(columns = {1: \"Masculino\", 2: \"Feminino\"}, inplace = True)\r\n",
        "frequencia_cruzada"
      ],
      "execution_count": 86,
      "outputs": [
        {
          "output_type": "execute_result",
          "data": {
            "text/html": [
              "<div>\n",
              "<style scoped>\n",
              "    .dataframe tbody tr th:only-of-type {\n",
              "        vertical-align: middle;\n",
              "    }\n",
              "\n",
              "    .dataframe tbody tr th {\n",
              "        vertical-align: top;\n",
              "    }\n",
              "\n",
              "    .dataframe thead th {\n",
              "        text-align: right;\n",
              "    }\n",
              "</style>\n",
              "<table border=\"1\" class=\"dataframe\">\n",
              "  <thead>\n",
              "    <tr style=\"text-align: right;\">\n",
              "      <th>VB01001</th>\n",
              "      <th>Masculino</th>\n",
              "      <th>Feminino</th>\n",
              "    </tr>\n",
              "    <tr>\n",
              "      <th>VB11007</th>\n",
              "      <th></th>\n",
              "      <th></th>\n",
              "    </tr>\n",
              "  </thead>\n",
              "  <tbody>\n",
              "    <tr>\n",
              "      <th>Muito satisfeito</th>\n",
              "      <td>32.363944</td>\n",
              "      <td>23.291813</td>\n",
              "    </tr>\n",
              "    <tr>\n",
              "      <th>Satisfeito</th>\n",
              "      <td>42.114155</td>\n",
              "      <td>41.480227</td>\n",
              "    </tr>\n",
              "    <tr>\n",
              "      <th>Indiferente</th>\n",
              "      <td>11.463738</td>\n",
              "      <td>10.364010</td>\n",
              "    </tr>\n",
              "    <tr>\n",
              "      <th>Insatisfeito</th>\n",
              "      <td>9.484735</td>\n",
              "      <td>18.623776</td>\n",
              "    </tr>\n",
              "    <tr>\n",
              "      <th>Muito instisfeito</th>\n",
              "      <td>3.137444</td>\n",
              "      <td>5.490386</td>\n",
              "    </tr>\n",
              "    <tr>\n",
              "      <th>Não Informado</th>\n",
              "      <td>1.435984</td>\n",
              "      <td>0.749788</td>\n",
              "    </tr>\n",
              "  </tbody>\n",
              "</table>\n",
              "</div>"
            ],
            "text/plain": [
              "VB01001            Masculino   Feminino\n",
              "VB11007                                \n",
              "Muito satisfeito   32.363944  23.291813\n",
              "Satisfeito         42.114155  41.480227\n",
              "Indiferente        11.463738  10.364010\n",
              "Insatisfeito        9.484735  18.623776\n",
              "Muito instisfeito   3.137444   5.490386\n",
              "Não Informado       1.435984   0.749788"
            ]
          },
          "metadata": {
            "tags": []
          },
          "execution_count": 86
        }
      ]
    },
    {
      "cell_type": "code",
      "metadata": {
        "id": "ff6BmUqsDLqW",
        "colab": {
          "base_uri": "https://localhost:8080/",
          "height": 0
        },
        "outputId": "6fe09dfd-fc63-40c9-b689-e99d0db7d40d"
      },
      "source": [
        "#Também é possível normalizar pelo index\r\n",
        "\r\n",
        "frequencia_cruzada = pd.crosstab(dados[\"VB11007\"], dados[\"VB01001\"], normalize = \"index\") * 100\r\n",
        "frequencia_cruzada.rename(index = respostas, inplace = True)\r\n",
        "frequencia_cruzada.rename(columns = {1: \"Masculino\", 2: \"Feminino\"}, inplace = True)\r\n",
        "frequencia_cruzada\r\n",
        "\r\n",
        "#Neste caso, respondemos por ex,- \"dos que estão satisfeitos, qual % é masculina\r\n",
        "# e qual % é feminina (a linha soma 100%)\""
      ],
      "execution_count": 87,
      "outputs": [
        {
          "output_type": "execute_result",
          "data": {
            "text/html": [
              "<div>\n",
              "<style scoped>\n",
              "    .dataframe tbody tr th:only-of-type {\n",
              "        vertical-align: middle;\n",
              "    }\n",
              "\n",
              "    .dataframe tbody tr th {\n",
              "        vertical-align: top;\n",
              "    }\n",
              "\n",
              "    .dataframe thead th {\n",
              "        text-align: right;\n",
              "    }\n",
              "</style>\n",
              "<table border=\"1\" class=\"dataframe\">\n",
              "  <thead>\n",
              "    <tr style=\"text-align: right;\">\n",
              "      <th>VB01001</th>\n",
              "      <th>Masculino</th>\n",
              "      <th>Feminino</th>\n",
              "    </tr>\n",
              "    <tr>\n",
              "      <th>VB11007</th>\n",
              "      <th></th>\n",
              "      <th></th>\n",
              "    </tr>\n",
              "  </thead>\n",
              "  <tbody>\n",
              "    <tr>\n",
              "      <th>Muito satisfeito</th>\n",
              "      <td>58.203125</td>\n",
              "      <td>41.796875</td>\n",
              "    </tr>\n",
              "    <tr>\n",
              "      <th>Satisfeito</th>\n",
              "      <td>50.433526</td>\n",
              "      <td>49.566474</td>\n",
              "    </tr>\n",
              "    <tr>\n",
              "      <th>Indiferente</th>\n",
              "      <td>52.573326</td>\n",
              "      <td>47.426674</td>\n",
              "    </tr>\n",
              "    <tr>\n",
              "      <th>Insatisfeito</th>\n",
              "      <td>33.791917</td>\n",
              "      <td>66.208083</td>\n",
              "    </tr>\n",
              "    <tr>\n",
              "      <th>Muito instisfeito</th>\n",
              "      <td>36.414566</td>\n",
              "      <td>63.585434</td>\n",
              "    </tr>\n",
              "    <tr>\n",
              "      <th>Não Informado</th>\n",
              "      <td>65.745856</td>\n",
              "      <td>34.254144</td>\n",
              "    </tr>\n",
              "  </tbody>\n",
              "</table>\n",
              "</div>"
            ],
            "text/plain": [
              "VB01001            Masculino   Feminino\n",
              "VB11007                                \n",
              "Muito satisfeito   58.203125  41.796875\n",
              "Satisfeito         50.433526  49.566474\n",
              "Indiferente        52.573326  47.426674\n",
              "Insatisfeito       33.791917  66.208083\n",
              "Muito instisfeito  36.414566  63.585434\n",
              "Não Informado      65.745856  34.254144"
            ]
          },
          "metadata": {
            "tags": []
          },
          "execution_count": 87
        }
      ]
    },
    {
      "cell_type": "markdown",
      "metadata": {
        "id": "B4evoloo_wzR"
      },
      "source": [
        "# AULA 04 MOD 03\r\n",
        "-Histograma e Boxplot"
      ]
    },
    {
      "cell_type": "code",
      "metadata": {
        "id": "Ikwdhs1S_3Sv",
        "colab": {
          "base_uri": "https://localhost:8080/",
          "height": 0
        },
        "outputId": "956f827a-f6cd-48e5-c6ed-fbe8091c899b"
      },
      "source": [
        "import seaborn as sns\r\n",
        "\r\n",
        "#começando a criar o histograma;\r\n",
        "#Mudando o tamanho com figure_se_size_inches();\r\n",
        "#Mudamos o titulo com set_title();\r\n",
        "#Passamos a label que queremos para o eixo X com set_xlabel();\r\n",
        "#Podemos \"dividir as caixinhas\" como bins (com bins = 15, dividimos o intervalo em 15 classes diferentes)\r\n",
        "#Criamos uma curva para acompanhar o gráfico com o parâmetro kde\r\n",
        "\r\n",
        "ax = sns.histplot(x = \"VB17004\", data = dados, kde = True)\r\n",
        "#ax = sns.histplot(x = \"VB17004\", data = dados, bins = 15, kde = True)\r\n",
        "ax.figure.set_size_inches(12, 6)\r\n",
        "ax.set_title(\"Distribuição de frequência\")\r\n",
        "ax.set_xlabel(\"Altura\")"
      ],
      "execution_count": 88,
      "outputs": [
        {
          "output_type": "execute_result",
          "data": {
            "text/plain": [
              "Text(0.5, 0, 'Altura')"
            ]
          },
          "metadata": {
            "tags": []
          },
          "execution_count": 88
        },
        {
          "output_type": "display_data",
          "data": {
            "image/png": "[encoded data removed]",
            "text/plain": [
              "<Figure size 864x432 with 1 Axes>"
            ]
          },
          "metadata": {
            "tags": [],
            "needs_background": "light"
          }
        }
      ]
    },
    {
      "cell_type": "code",
      "metadata": {
        "id": "Zvlt0ugtC5Ub",
        "colab": {
          "base_uri": "https://localhost:8080/",
          "height": 0
        },
        "outputId": "3bc3f0b2-062f-40a6-db02-c032d5325188"
      },
      "source": [
        "#Comparando a altura entre os sexos\r\n",
        "\r\n",
        "ax = sns.histplot(x = \"VB17004\", data = dados, kde = True, hue = \"VB01001\")\r\n",
        "ax.figure.set_size_inches(12, 6)\r\n",
        "ax.set_title(\"Distribuição de frequência\")\r\n",
        "ax.set_xlabel(\"Altura\")\r\n",
        "ax.set_ylabel(\"Numero de pessoas\")"
      ],
      "execution_count": 89,
      "outputs": [
        {
          "output_type": "execute_result",
          "data": {
            "text/plain": [
              "Text(0, 0.5, 'Numero de pessoas')"
            ]
          },
          "metadata": {
            "tags": []
          },
          "execution_count": 89
        },
        {
          "output_type": "display_data",
          "data": {
            "image/png": "[encoded data removed]",
            "text/plain": [
              "<Figure size 864x432 with 1 Axes>"
            ]
          },
          "metadata": {
            "tags": [],
            "needs_background": "light"
          }
        }
      ]
    },
    {
      "cell_type": "code",
      "metadata": {
        "id": "wBivZjT8Dtqe",
        "colab": {
          "base_uri": "https://localhost:8080/",
          "height": 0
        },
        "outputId": "e928a9aa-fa0d-40d8-fecd-caf81c404a2a"
      },
      "source": [
        "#Comparando a altura com a idade\r\n",
        "\r\n",
        "ax = sns.histplot(x = \"VB17004\", data = dados, kde = True, hue = \"VB01003\")\r\n",
        "ax.figure.set_size_inches(12, 6)\r\n",
        "ax.set_title(\"Distribuição de frequência\")\r\n",
        "ax.set_xlabel(\"Altura\")\r\n",
        "ax.set_ylabel(\"Numero de pessoas\")\r\n",
        "ax;\r\n",
        "\r\n",
        "#Repare como fica complicado visualizar o gráfico com mais classes;\r\n",
        "#Utiliza-se \";\" para plotar o gráfico sem a frase <matplotlib.axes._subplots.AxesSubplot at 0x7f02c49b49b0>.\r\n"
      ],
      "execution_count": 90,
      "outputs": [
        {
          "output_type": "display_data",
          "data": {
            "image/png": "[encoded data removed]",
            "text/plain": [
              "<Figure size 864x432 with 1 Axes>"
            ]
          },
          "metadata": {
            "tags": [],
            "needs_background": "light"
          }
        }
      ]
    },
    {
      "cell_type": "code",
      "metadata": {
        "id": "cul-0w8GEEYg",
        "colab": {
          "base_uri": "https://localhost:8080/",
          "height": 0
        },
        "outputId": "bad996ce-b50e-4855-c2df-beb212159934"
      },
      "source": [
        "#Para resolver tal problema, podemos utilizar um BOXPLOT\r\n",
        "\r\n",
        "ax = sns.boxplot(data = dados, x = \"VB17004\")\r\n",
        "ax.figure.set_size_inches(12, 6)\r\n",
        "ax.set_title(\"Boxplot da altura\")\r\n",
        "ax.set_xlabel(\"Altura\")\r\n",
        "ax;\r\n",
        "\r\n",
        "#O range da altura está no eixo X;\r\n",
        "#O primeiro tracejado (aproximadamente 154cm) é o Q1 (primeiro quartil) e separa os dados em 25% (25% da população tem menos de 155cm)\r\n",
        "#O terceiro tracejado (aproximadamente 168cm) é o Q3 (primeiro quartil) e separa os dados em 75% (25% da população tem mais de 168cm)\r\n",
        "#A mediana é a linha em aproximadamente 160cm\r\n",
        "#As linhas em aproximadamente 133cm e 188cm são os valores mínimos e máximos (não é o mínimo e máximo da amostra)\r\n",
        "      #os pontos abaixo e acima disso são considerados outliers"
      ],
      "execution_count": 91,
      "outputs": [
        {
          "output_type": "display_data",
          "data": {
            "image/png": "[encoded data removed]",
            "text/plain": [
              "<Figure size 864x432 with 1 Axes>"
            ]
          },
          "metadata": {
            "tags": [],
            "needs_background": "light"
          }
        }
      ]
    },
    {
      "cell_type": "code",
      "metadata": {
        "colab": {
          "base_uri": "https://localhost:8080/"
        },
        "id": "WEI0RnEbGMj7",
        "outputId": "52560ea4-adbe-44cc-8275-770eb2228b41"
      },
      "source": [
        "#Achar o primeiro quartil\r\n",
        "\r\n",
        "dados[\"VB17004\"].quantile(0.25)"
      ],
      "execution_count": 92,
      "outputs": [
        {
          "output_type": "execute_result",
          "data": {
            "text/plain": [
              "153.8"
            ]
          },
          "metadata": {
            "tags": []
          },
          "execution_count": 92
        }
      ]
    },
    {
      "cell_type": "code",
      "metadata": {
        "colab": {
          "base_uri": "https://localhost:8080/"
        },
        "id": "dzVGY5N4GbO_",
        "outputId": "af5fe0c0-d6ff-4d08-bcbd-1a232a9eed1c"
      },
      "source": [
        "#Achar o terceiro quartil\r\n",
        "\r\n",
        "dados[\"VB17004\"].quantile(0.75)"
      ],
      "execution_count": 93,
      "outputs": [
        {
          "output_type": "execute_result",
          "data": {
            "text/plain": [
              "167.9"
            ]
          },
          "metadata": {
            "tags": []
          },
          "execution_count": 93
        }
      ]
    },
    {
      "cell_type": "code",
      "metadata": {
        "colab": {
          "base_uri": "https://localhost:8080/"
        },
        "id": "ZbHFq9juGkRt",
        "outputId": "d3d80770-6de3-452a-9dac-f143f78da699"
      },
      "source": [
        "#Achar a mediana\r\n",
        "\r\n",
        "dados[\"VB17004\"].quantile(0.5)"
      ],
      "execution_count": 94,
      "outputs": [
        {
          "output_type": "execute_result",
          "data": {
            "text/plain": [
              "160.4"
            ]
          },
          "metadata": {
            "tags": []
          },
          "execution_count": 94
        }
      ]
    },
    {
      "cell_type": "code",
      "metadata": {
        "colab": {
          "base_uri": "https://localhost:8080/",
          "height": 0
        },
        "id": "GwZTDnCoJ-MQ",
        "outputId": "36cbdbf3-fb36-4d6e-b89a-7c2fd64ee01e"
      },
      "source": [
        "#Para fazermos o gráfico a seguir, é necessário passar a orientação como horizontal (h)\r\n",
        "\r\n",
        "ax = sns.boxplot(data = dados, x = \"VB17004\", y = \"VB01001\", orient = \"h\")\r\n",
        "ax.figure.set_size_inches(12, 6)\r\n",
        "ax.set_title(\"Boxplot da altura entre os sexos masculino e feminino\")\r\n",
        "ax.set_xlabel(\"Altura\")\r\n",
        "ax;"
      ],
      "execution_count": 95,
      "outputs": [
        {
          "output_type": "display_data",
          "data": {
            "image/png": "[encoded data removed]",
            "text/plain": [
              "<Figure size 864x432 with 1 Axes>"
            ]
          },
          "metadata": {
            "tags": [],
            "needs_background": "light"
          }
        }
      ]
    },
    {
      "cell_type": "code",
      "metadata": {
        "colab": {
          "base_uri": "https://localhost:8080/",
          "height": 0
        },
        "id": "9xZQHPEmPA2t",
        "outputId": "9d5cfec1-dd50-4467-941a-d31770cd7ad7"
      },
      "source": [
        "#Gráfico boxplot de altura por idade\r\n",
        "\r\n",
        "ax = sns.boxplot(x = \"VB01003\", y = \"VB17004\", data = dados)\r\n",
        "ax.figure.set_size_inches(12, 6)\r\n",
        "ax.set_title(\"Boxplot da altura por idade\")\r\n",
        "ax.set_xlabel(\"Idade\")\r\n",
        "ax.set_ylabel(\"Altura\")\r\n",
        "ax;"
      ],
      "execution_count": 96,
      "outputs": [
        {
          "output_type": "display_data",
          "data": {
            "image/png": "[encoded data removed]",
            "text/plain": [
              "<Figure size 864x432 with 1 Axes>"
            ]
          },
          "metadata": {
            "tags": [],
            "needs_background": "light"
          }
        }
      ]
    },
    {
      "cell_type": "code",
      "metadata": {
        "colab": {
          "base_uri": "https://localhost:8080/",
          "height": 0
        },
        "id": "2EDTyzMPP_NC",
        "outputId": "fce3051d-1e49-47c8-ab9c-3f2c9edd31d1"
      },
      "source": [
        "#Adicionando o sexo da pessoa\r\n",
        "\r\n",
        "ax = sns.boxplot(x = \"VB01003\", y = \"VB17004\", data = dados, hue = \"VB01001\")\r\n",
        "ax.figure.set_size_inches(12, 6)\r\n",
        "ax.set_title(\"Boxplot da altura por idade comparando os sexos\")\r\n",
        "ax.set_xlabel(\"idade\")\r\n",
        "ax.set_ylabel(\"Altura\")\r\n",
        "ax;"
      ],
      "execution_count": 97,
      "outputs": [
        {
          "output_type": "display_data",
          "data": {
            "image/png": "[encoded data removed]",
            "text/plain": [
              "<Figure size 864x432 with 1 Axes>"
            ]
          },
          "metadata": {
            "tags": [],
            "needs_background": "light"
          }
        }
      ]
    },
    {
      "cell_type": "code",
      "metadata": {
        "colab": {
          "base_uri": "https://localhost:8080/",
          "height": 0
        },
        "id": "_TsoVuDyRjQ7",
        "outputId": "6ba025ae-bab5-4b5f-e3bc-9c4c968deaa6"
      },
      "source": [
        "#Há como fazer algo similar utilizando um histograma acumulativo;\r\n",
        "#*A densidade é a área do gráfico até o dado momento.\r\n",
        "\r\n",
        "ax = sns.histplot(x = \"VB17004\", data = dados, kde = True, cumulative = True,\r\n",
        "                  stat = \"density\", bins = 15)\r\n",
        "ax.figure.set_size_inches(12, 6)\r\n",
        "ax.set_title(\"Distribuilçao de frequência\")\r\n",
        "ax.set_xlabel(\"Altura\")\r\n",
        "\r\n",
        "ax;"
      ],
      "execution_count": 98,
      "outputs": [
        {
          "output_type": "display_data",
          "data": {
            "image/png": "[encoded data removed]",
            "text/plain": [
              "<Figure size 864x432 with 1 Axes>"
            ]
          },
          "metadata": {
            "tags": [],
            "needs_background": "light"
          }
        }
      ]
    },
    {
      "cell_type": "markdown",
      "metadata": {
        "id": "Psf7EKrswMHA"
      },
      "source": [
        "# AULA 05 MOD 03\r\n",
        "-Análise descritiva e testes estatísticos"
      ]
    },
    {
      "cell_type": "code",
      "metadata": {
        "colab": {
          "base_uri": "https://localhost:8080/"
        },
        "id": "sO1_nrUPwQzB",
        "outputId": "e7d42848-6f59-448d-c282-86c6eb8299b1"
      },
      "source": [
        "#Fazendo a média\r\n",
        "\r\n",
        "dados[\"VB17004\"].mean()"
      ],
      "execution_count": 99,
      "outputs": [
        {
          "output_type": "execute_result",
          "data": {
            "text/plain": [
              "160.71311307078818"
            ]
          },
          "metadata": {
            "tags": []
          },
          "execution_count": 99
        }
      ]
    },
    {
      "cell_type": "code",
      "metadata": {
        "colab": {
          "base_uri": "https://localhost:8080/"
        },
        "id": "hzL63V9gxkJK",
        "outputId": "1fdf3da5-31ee-4d91-abf2-ab621b409c5e"
      },
      "source": [
        "#Fazendo a moda\r\n",
        "\r\n",
        "dados[\"VB17004\"].mode()"
      ],
      "execution_count": 100,
      "outputs": [
        {
          "output_type": "execute_result",
          "data": {
            "text/plain": [
              "0    160.0\n",
              "dtype: float64"
            ]
          },
          "metadata": {
            "tags": []
          },
          "execution_count": 100
        }
      ]
    },
    {
      "cell_type": "code",
      "metadata": {
        "colab": {
          "base_uri": "https://localhost:8080/"
        },
        "id": "XJgRQzpNwftf",
        "outputId": "03009943-3a55-4847-eede-fa0fcbd1cb74"
      },
      "source": [
        "#Fazendo a média da altura de acordo com o sexo da pessoa;\r\n",
        "#Podemos fazer isso utilizando uma query ou groupby.\r\n",
        "\r\n",
        "dados.groupby(\"VB01001\")[\"VB17004\"].mean()"
      ],
      "execution_count": 101,
      "outputs": [
        {
          "output_type": "execute_result",
          "data": {
            "text/plain": [
              "VB01001\n",
              "1    163.860758\n",
              "2    157.558617\n",
              "Name: VB17004, dtype: float64"
            ]
          },
          "metadata": {
            "tags": []
          },
          "execution_count": 101
        }
      ]
    },
    {
      "cell_type": "code",
      "metadata": {
        "colab": {
          "base_uri": "https://localhost:8080/"
        },
        "id": "8WZ-v9oGx2LR",
        "outputId": "196c953f-897f-4058-ffe6-0a3d46a1d1fc"
      },
      "source": [
        "#Agrupando com mais de uma coluna (sexo e idade);\r\n",
        "#Por ser mais de um valor, passamos uma lista para o groupby.\r\n",
        "\r\n",
        "dados.groupby([\"VB01001\", \"VB01003\"])[\"VB17004\"].mean()"
      ],
      "execution_count": 102,
      "outputs": [
        {
          "output_type": "execute_result",
          "data": {
            "text/plain": [
              "VB01001  VB01003\n",
              "1        11         147.617753\n",
              "         12         153.696764\n",
              "         13         160.719801\n",
              "         14         166.406922\n",
              "         15         170.336297\n",
              "         16         172.424933\n",
              "         17         173.814341\n",
              "         18         173.024561\n",
              "         19         172.143158\n",
              "2        11         149.522512\n",
              "         12         154.965021\n",
              "         13         157.673105\n",
              "         14         159.340320\n",
              "         15         160.759848\n",
              "         16         160.386527\n",
              "         17         160.907937\n",
              "         18         159.438462\n",
              "         19         158.977193\n",
              "Name: VB17004, dtype: float64"
            ]
          },
          "metadata": {
            "tags": []
          },
          "execution_count": 102
        }
      ]
    },
    {
      "cell_type": "code",
      "metadata": {
        "id": "2G1SjTjhCD0v",
        "colab": {
          "base_uri": "https://localhost:8080/"
        },
        "outputId": "64b73d06-9e1a-452e-88e6-3e90c472787b"
      },
      "source": [
        "#DESVIO PADRÃO\r\n",
        "\r\n",
        "salario_thiago = 9000\r\n",
        "salario_allan = 1000\r\n",
        "salario_medio_ds_alura = (salario_thiago + salario_allan) / 2\r\n",
        "salario_medio_ds_alura\r\n",
        "\r\n",
        "#Ou seja, thiago desvia 4000 da média e allan desvia 4000 da média"
      ],
      "execution_count": 103,
      "outputs": [
        {
          "output_type": "execute_result",
          "data": {
            "text/plain": [
              "5000.0"
            ]
          },
          "metadata": {
            "tags": []
          },
          "execution_count": 103
        }
      ]
    },
    {
      "cell_type": "code",
      "metadata": {
        "id": "eZsfbhUmEcS0",
        "colab": {
          "base_uri": "https://localhost:8080/",
          "height": 402
        },
        "outputId": "dc6fda49-e3bc-44b2-a709-3a34121acb74"
      },
      "source": [
        "#Conceito de desvio padrão\r\n",
        "\r\n",
        "media_altura = dados[\"VB17004\"].mean()\r\n",
        "dados[\"MEDIA_ALTURA\"] = media_altura\r\n",
        "diferenca_das_medias = dados[\"VB17004\"] - media_altura\r\n",
        "dados[\"DIFERENCA_MEDIA\"] = diferenca_das_medias\r\n",
        "\r\n",
        "dados[[\"VB17004\", \"MEDIA_ALTURA\", \"DIFERENCA_MEDIA\"]]\r\n",
        "\r\n",
        "#calculando o quadrado da diferença\r\n",
        "\r\n",
        "diferenca_quadrada = diferenca_das_medias ** 2\r\n",
        "dados[\"DIFERENCA_QUADRADA\"] = diferenca_quadrada\r\n",
        "#repare que assim removemos o negativo\r\n",
        "\r\n",
        "dados[[\"VB17004\", \"MEDIA_ALTURA\", \"DIFERENCA_MEDIA\", \"DIFERENCA_QUADRADA\"]]"
      ],
      "execution_count": 104,
      "outputs": [
        {
          "output_type": "execute_result",
          "data": {
            "text/html": [
              "<div>\n",
              "<style scoped>\n",
              "    .dataframe tbody tr th:only-of-type {\n",
              "        vertical-align: middle;\n",
              "    }\n",
              "\n",
              "    .dataframe tbody tr th {\n",
              "        vertical-align: top;\n",
              "    }\n",
              "\n",
              "    .dataframe thead th {\n",
              "        text-align: right;\n",
              "    }\n",
              "</style>\n",
              "<table border=\"1\" class=\"dataframe\">\n",
              "  <thead>\n",
              "    <tr style=\"text-align: right;\">\n",
              "      <th></th>\n",
              "      <th>VB17004</th>\n",
              "      <th>MEDIA_ALTURA</th>\n",
              "      <th>DIFERENCA_MEDIA</th>\n",
              "      <th>DIFERENCA_QUADRADA</th>\n",
              "    </tr>\n",
              "  </thead>\n",
              "  <tbody>\n",
              "    <tr>\n",
              "      <th>0</th>\n",
              "      <td>157.0</td>\n",
              "      <td>160.713113</td>\n",
              "      <td>-3.713113</td>\n",
              "      <td>13.787209</td>\n",
              "    </tr>\n",
              "    <tr>\n",
              "      <th>1</th>\n",
              "      <td>152.0</td>\n",
              "      <td>160.713113</td>\n",
              "      <td>-8.713113</td>\n",
              "      <td>75.918339</td>\n",
              "    </tr>\n",
              "    <tr>\n",
              "      <th>2</th>\n",
              "      <td>161.4</td>\n",
              "      <td>160.713113</td>\n",
              "      <td>0.686887</td>\n",
              "      <td>0.471814</td>\n",
              "    </tr>\n",
              "    <tr>\n",
              "      <th>3</th>\n",
              "      <td>172.5</td>\n",
              "      <td>160.713113</td>\n",
              "      <td>11.786887</td>\n",
              "      <td>138.930703</td>\n",
              "    </tr>\n",
              "    <tr>\n",
              "      <th>4</th>\n",
              "      <td>167.5</td>\n",
              "      <td>160.713113</td>\n",
              "      <td>6.786887</td>\n",
              "      <td>46.061834</td>\n",
              "    </tr>\n",
              "    <tr>\n",
              "      <th>...</th>\n",
              "      <td>...</td>\n",
              "      <td>...</td>\n",
              "      <td>...</td>\n",
              "      <td>...</td>\n",
              "    </tr>\n",
              "    <tr>\n",
              "      <th>16551</th>\n",
              "      <td>167.9</td>\n",
              "      <td>160.713113</td>\n",
              "      <td>7.186887</td>\n",
              "      <td>51.651344</td>\n",
              "    </tr>\n",
              "    <tr>\n",
              "      <th>16552</th>\n",
              "      <td>185.8</td>\n",
              "      <td>160.713113</td>\n",
              "      <td>25.086887</td>\n",
              "      <td>629.351896</td>\n",
              "    </tr>\n",
              "    <tr>\n",
              "      <th>16553</th>\n",
              "      <td>159.4</td>\n",
              "      <td>160.713113</td>\n",
              "      <td>-1.313113</td>\n",
              "      <td>1.724266</td>\n",
              "    </tr>\n",
              "    <tr>\n",
              "      <th>16554</th>\n",
              "      <td>157.8</td>\n",
              "      <td>160.713113</td>\n",
              "      <td>-2.913113</td>\n",
              "      <td>8.486228</td>\n",
              "    </tr>\n",
              "    <tr>\n",
              "      <th>16555</th>\n",
              "      <td>163.9</td>\n",
              "      <td>160.713113</td>\n",
              "      <td>3.186887</td>\n",
              "      <td>10.156248</td>\n",
              "    </tr>\n",
              "  </tbody>\n",
              "</table>\n",
              "<p>16556 rows × 4 columns</p>\n",
              "</div>"
            ],
            "text/plain": [
              "       VB17004  MEDIA_ALTURA  DIFERENCA_MEDIA  DIFERENCA_QUADRADA\n",
              "0        157.0    160.713113        -3.713113           13.787209\n",
              "1        152.0    160.713113        -8.713113           75.918339\n",
              "2        161.4    160.713113         0.686887            0.471814\n",
              "3        172.5    160.713113        11.786887          138.930703\n",
              "4        167.5    160.713113         6.786887           46.061834\n",
              "...        ...           ...              ...                 ...\n",
              "16551    167.9    160.713113         7.186887           51.651344\n",
              "16552    185.8    160.713113        25.086887          629.351896\n",
              "16553    159.4    160.713113        -1.313113            1.724266\n",
              "16554    157.8    160.713113        -2.913113            8.486228\n",
              "16555    163.9    160.713113         3.186887           10.156248\n",
              "\n",
              "[16556 rows x 4 columns]"
            ]
          },
          "metadata": {
            "tags": []
          },
          "execution_count": 104
        }
      ]
    },
    {
      "cell_type": "code",
      "metadata": {
        "id": "TshBq4T0Mkqn",
        "colab": {
          "base_uri": "https://localhost:8080/"
        },
        "outputId": "050ab435-9d99-41ea-b574-649b12894992"
      },
      "source": [
        "#Calculando a média da diferença quadrada, conhecida como variância da amostra\r\n",
        "\r\n",
        "dados[\"DIFERENCA_QUADRADA\"].mean()"
      ],
      "execution_count": 105,
      "outputs": [
        {
          "output_type": "execute_result",
          "data": {
            "text/plain": [
              "106.9105945368652"
            ]
          },
          "metadata": {
            "tags": []
          },
          "execution_count": 105
        }
      ]
    },
    {
      "cell_type": "code",
      "metadata": {
        "id": "btreJBMUMxzC",
        "colab": {
          "base_uri": "https://localhost:8080/"
        },
        "outputId": "38be3558-df84-4789-c20f-bfba6f52c04d"
      },
      "source": [
        "#Calculando a variância da maneira estatística\r\n",
        "\r\n",
        "variancia_amostral = (1/(len(dados)-1)) * dados[\"DIFERENCA_QUADRADA\"].sum()\r\n",
        "variancia_amostral"
      ],
      "execution_count": 106,
      "outputs": [
        {
          "output_type": "execute_result",
          "data": {
            "text/plain": [
              "106.91705244049119"
            ]
          },
          "metadata": {
            "tags": []
          },
          "execution_count": 106
        }
      ]
    },
    {
      "cell_type": "code",
      "metadata": {
        "id": "yflM1zlfNbaE",
        "colab": {
          "base_uri": "https://localhost:8080/",
          "height": 50
        },
        "outputId": "0f519f70-d4d5-471a-cdc4-c7c95a1a0054"
      },
      "source": [
        "#Média da altura\r\n",
        "\r\n",
        "display(dados[\"VB17004\"].mean())\r\n",
        "\r\n",
        "#Logo, a média é de 160.7cm e a variância é de 106.9cm²;\r\n",
        "#Como não é um número muito bom por estar ao quadrado, utiliza-se o DESVIO PADRÃO\r\n",
        "#que é a raiz quadrada da variância.\r\n",
        "\r\n",
        "desvio_padrao = np.sqrt(variancia_amostral)\r\n",
        "desvio_padrao"
      ],
      "execution_count": 107,
      "outputs": [
        {
          "output_type": "display_data",
          "data": {
            "text/plain": [
              "160.71311307078818"
            ]
          },
          "metadata": {
            "tags": []
          }
        },
        {
          "output_type": "execute_result",
          "data": {
            "text/plain": [
              "10.340070233827776"
            ]
          },
          "metadata": {
            "tags": []
          },
          "execution_count": 107
        }
      ]
    },
    {
      "cell_type": "markdown",
      "metadata": {
        "id": "wZFGTl1qPCHB"
      },
      "source": [
        "# AULA 06 MOD 03\r\n",
        "-Intervalo de confiança e testes"
      ]
    },
    {
      "cell_type": "code",
      "metadata": {
        "id": "MJjn6PzMcnq7",
        "colab": {
          "base_uri": "https://localhost:8080/"
        },
        "outputId": "70f138ff-fc46-41f9-8d6c-0fdc9357764f"
      },
      "source": [
        "#Calculando o intervalo de confiança com a biblioteca statsmodel utilizando a zconfint;\r\n",
        "\r\n",
        "#\"!pip install statsmodels\" caso não esteja utilizando o colab;\r\n",
        "#   usa-se ! antes dos comandos de terminal no google colab.\r\n",
        "\r\n",
        "#A chance de um valor estar no intervalo de confiança é de 95% (nível de confiança)\r\n",
        "#pois o alpha por padrão é de 0.05 (significância).\r\n",
        "\r\n",
        "from statsmodels.stats.weightstats import zconfint\r\n",
        "\r\n",
        "zconfint(dados[\"VB17004\"].to_list())"
      ],
      "execution_count": 108,
      "outputs": [
        {
          "output_type": "execute_result",
          "data": {
            "text/plain": [
              "(160.5556082427712, 160.87061789880892)"
            ]
          },
          "metadata": {
            "tags": []
          },
          "execution_count": 108
        }
      ]
    },
    {
      "cell_type": "code",
      "metadata": {
        "id": "EV11A0YHepKf",
        "colab": {
          "base_uri": "https://localhost:8080/"
        },
        "outputId": "c8a28e21-8a14-4350-f1ba-175c3847575f"
      },
      "source": [
        "#O zconfint utiliza o z test;\r\n",
        "#Utilizaremos agora o t test, que pede para fazer a descrição dos dados.\r\n",
        "\r\n",
        "from statsmodels.stats.weightstats import DescrStatsW\r\n",
        "\r\n",
        "descricao_altura = DescrStatsW(dados[\"VB17004\"])\r\n",
        "descricao_altura.tconfint_mean()"
      ],
      "execution_count": 109,
      "outputs": [
        {
          "output_type": "execute_result",
          "data": {
            "text/plain": [
              "(160.55559672649298, 160.8706294150872)"
            ]
          },
          "metadata": {
            "tags": []
          },
          "execution_count": 109
        }
      ]
    },
    {
      "cell_type": "code",
      "metadata": {
        "id": "vYU560FFpzt2",
        "colab": {
          "base_uri": "https://localhost:8080/",
          "height": 296
        },
        "outputId": "1e18c37e-e188-4e76-aec9-73be78a60fec"
      },
      "source": [
        "#Criando um boxplot\r\n",
        "\r\n",
        "sns.boxplot(data = dados, x = \"VB01001\", y = \"VB17004\")"
      ],
      "execution_count": 110,
      "outputs": [
        {
          "output_type": "execute_result",
          "data": {
            "text/plain": [
              "<matplotlib.axes._subplots.AxesSubplot at 0x7f6f8d0965f8>"
            ]
          },
          "metadata": {
            "tags": []
          },
          "execution_count": 110
        },
        {
          "output_type": "display_data",
          "data": {
            "image/png": "[encoded data removed]",
            "text/plain": [
              "<Figure size 432x288 with 1 Axes>"
            ]
          },
          "metadata": {
            "tags": [],
            "needs_background": "light"
          }
        }
      ]
    },
    {
      "cell_type": "code",
      "metadata": {
        "id": "Eq4Q4KNFqT7b",
        "colab": {
          "base_uri": "https://localhost:8080/"
        },
        "outputId": "1fab5b71-e826-4b71-f957-cdc4851ad0b4"
      },
      "source": [
        "#*f = feminino e m = masculino;\r\n",
        "#O resultado 0.0 no caso é conhecido como p_value;\r\n",
        "#Através do z test, conseguimos provar que a hipótese nula (0) não é verdadeira\r\n",
        "#ou seja, a distribuição de altura entre homens e mulheres é diferente.\r\n",
        "\r\n",
        "from statsmodels.stats.weightstats import ztest\r\n",
        "\r\n",
        "distribuicao_altura_m = dados.query(\"VB01001 == 1\")[\"VB17004\"]\r\n",
        "distribuicao_altura_f = dados.query(\"VB01001 == 2\")[\"VB17004\"]\r\n",
        "\r\n",
        "_ , p_value = ztest(distribuicao_altura_m, distribuicao_altura_f)\r\n",
        "p_value\r\n",
        "\r\n",
        "#Geralmente usamos uma variável \"_\" quando não utilizaremos a variável\r\n"
      ],
      "execution_count": 111,
      "outputs": [
        {
          "output_type": "execute_result",
          "data": {
            "text/plain": [
              "0.0"
            ]
          },
          "metadata": {
            "tags": []
          },
          "execution_count": 111
        }
      ]
    },
    {
      "cell_type": "code",
      "metadata": {
        "id": "4wSBnC5hstVi",
        "colab": {
          "base_uri": "https://localhost:8080/"
        },
        "outputId": "01fc3884-7dd9-4320-a324-3d42f235a9dc"
      },
      "source": [
        "#Quando se compara duas distribuições iguais ou semelhantes o p_value tende a 1\r\n",
        "\r\n",
        "distribuicao_altura_m = dados.query(\"VB01001 == 1\")[\"VB17004\"]\r\n",
        "\r\n",
        "_ , p_value = ztest(distribuicao_altura_m, distribuicao_altura_m)\r\n",
        "p_value"
      ],
      "execution_count": 112,
      "outputs": [
        {
          "output_type": "execute_result",
          "data": {
            "text/plain": [
              "1.0"
            ]
          },
          "metadata": {
            "tags": []
          },
          "execution_count": 112
        }
      ]
    },
    {
      "cell_type": "markdown",
      "metadata": {
        "id": "32X7tocHtD4o"
      },
      "source": [
        "Para se aplicar o z_test, o tamanho das amostras tem que ser maior que 30 e a distribuição tem que ser normal."
      ]
    },
    {
      "cell_type": "code",
      "metadata": {
        "id": "5Z7h8F8KtbTF",
        "colab": {
          "base_uri": "https://localhost:8080/",
          "height": 50
        },
        "outputId": "b403a57e-4644-424f-b797-358bceb011b2"
      },
      "source": [
        "#Através do z test, podemos mostrar se a curva é normal ou não;\r\n",
        "#Nota-se que a curva masculina não é normal (em formato de sino);\r\n",
        "#Podemos fazer um normal test com o scypy.\r\n",
        "\r\n",
        "from scipy.stats import normaltest\r\n",
        "\r\n",
        "display(normaltest(distribuicao_altura_f))\r\n",
        "\r\n",
        "display(normaltest(distribuicao_altura_m))\r\n",
        "\r\n",
        "#Como refutamos a hipótese nula, as distribuições não são normais;\r\n",
        "#Apesar da distribuição feminina se aproximar mais, ela também não é normal."
      ],
      "execution_count": 113,
      "outputs": [
        {
          "output_type": "display_data",
          "data": {
            "text/plain": [
              "NormaltestResult(statistic=212.51572610499005, pvalue=7.125189471020874e-47)"
            ]
          },
          "metadata": {
            "tags": []
          }
        },
        {
          "output_type": "display_data",
          "data": {
            "text/plain": [
              "NormaltestResult(statistic=341.30659152353655, pvalue=7.695118853996524e-75)"
            ]
          },
          "metadata": {
            "tags": []
          }
        }
      ]
    },
    {
      "cell_type": "code",
      "metadata": {
        "id": "-FQX4-ymwMUJ",
        "colab": {
          "base_uri": "https://localhost:8080/"
        },
        "outputId": "bfcaec9b-45c3-47c0-debc-ee4ebf30796c"
      },
      "source": [
        "#Também podemos utilizar o ranksums do scipy\r\n",
        "\r\n",
        "from scipy.stats import ranksums\r\n",
        "\r\n",
        "ranksums(distribuicao_altura_m, distribuicao_altura_f)\r\n",
        "\r\n",
        "#Como o p_value é menor que 0.05, a hipótese nula é recusada"
      ],
      "execution_count": 114,
      "outputs": [
        {
          "output_type": "execute_result",
          "data": {
            "text/plain": [
              "RanksumsResult(statistic=40.7525576033863, pvalue=0.0)"
            ]
          },
          "metadata": {
            "tags": []
          },
          "execution_count": 114
        }
      ]
    }
  ]
}